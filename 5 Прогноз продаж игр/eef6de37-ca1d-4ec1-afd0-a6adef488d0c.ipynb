{
 "cells": [
  {
   "cell_type": "markdown",
   "metadata": {},
   "source": [
    "# Прогноз продаж игр для интернет-магазина «Стримчик»"
   ]
  },
  {
   "cell_type": "markdown",
   "metadata": {},
   "source": [
    "Интернет-магазин «Стримчик», который продаёт по всему миру компьютерные игры. Из открытых источников доступны исторические данные о продажах игр, оценки пользователей и экспертов, жанры и платформы (например, Xbox или PlayStation). Нам нужно выявить определяющие успешность игры закономерности. Это позволит сделать ставку на потенциально популярный продукт и спланировать рекламные кампании.\n",
    "\n",
    "**План:**\n",
    "1. Загрузить и проверить данные.\n",
    "2. Проанализировать рынок и пользователей.\n",
    "3. Построить и проверить гипотезы."
   ]
  },
  {
   "cell_type": "markdown",
   "metadata": {
    "id": "Ml1hmfXC_Zcs"
   },
   "source": [
    "## 1 Обзор данных\n",
    "\n",
    "\n",
    "\n",
    "\n"
   ]
  },
  {
   "cell_type": "code",
   "execution_count": 2,
   "metadata": {},
   "outputs": [],
   "source": [
    "import pandas as pd\n",
    "import numpy as np\n",
    "import seaborn as sns\n",
    "import math\n",
    "import matplotlib.pyplot as plt\n",
    "from scipy import stats as st"
   ]
  },
  {
   "cell_type": "code",
   "execution_count": 3,
   "metadata": {
    "scrolled": false
   },
   "outputs": [
    {
     "data": {
      "text/html": [
       "<div>\n",
       "<style scoped>\n",
       "    .dataframe tbody tr th:only-of-type {\n",
       "        vertical-align: middle;\n",
       "    }\n",
       "\n",
       "    .dataframe tbody tr th {\n",
       "        vertical-align: top;\n",
       "    }\n",
       "\n",
       "    .dataframe thead th {\n",
       "        text-align: right;\n",
       "    }\n",
       "</style>\n",
       "<table border=\"1\" class=\"dataframe\">\n",
       "  <thead>\n",
       "    <tr style=\"text-align: right;\">\n",
       "      <th></th>\n",
       "      <th>Name</th>\n",
       "      <th>Platform</th>\n",
       "      <th>Year_of_Release</th>\n",
       "      <th>Genre</th>\n",
       "      <th>NA_sales</th>\n",
       "      <th>EU_sales</th>\n",
       "      <th>JP_sales</th>\n",
       "      <th>Other_sales</th>\n",
       "      <th>Critic_Score</th>\n",
       "      <th>User_Score</th>\n",
       "      <th>Rating</th>\n",
       "    </tr>\n",
       "  </thead>\n",
       "  <tbody>\n",
       "    <tr>\n",
       "      <th>0</th>\n",
       "      <td>Wii Sports</td>\n",
       "      <td>Wii</td>\n",
       "      <td>2006.0</td>\n",
       "      <td>Sports</td>\n",
       "      <td>41.36</td>\n",
       "      <td>28.96</td>\n",
       "      <td>3.77</td>\n",
       "      <td>8.45</td>\n",
       "      <td>76.0</td>\n",
       "      <td>8</td>\n",
       "      <td>E</td>\n",
       "    </tr>\n",
       "    <tr>\n",
       "      <th>1</th>\n",
       "      <td>Super Mario Bros.</td>\n",
       "      <td>NES</td>\n",
       "      <td>1985.0</td>\n",
       "      <td>Platform</td>\n",
       "      <td>29.08</td>\n",
       "      <td>3.58</td>\n",
       "      <td>6.81</td>\n",
       "      <td>0.77</td>\n",
       "      <td>NaN</td>\n",
       "      <td>NaN</td>\n",
       "      <td>NaN</td>\n",
       "    </tr>\n",
       "    <tr>\n",
       "      <th>2</th>\n",
       "      <td>Mario Kart Wii</td>\n",
       "      <td>Wii</td>\n",
       "      <td>2008.0</td>\n",
       "      <td>Racing</td>\n",
       "      <td>15.68</td>\n",
       "      <td>12.76</td>\n",
       "      <td>3.79</td>\n",
       "      <td>3.29</td>\n",
       "      <td>82.0</td>\n",
       "      <td>8.3</td>\n",
       "      <td>E</td>\n",
       "    </tr>\n",
       "    <tr>\n",
       "      <th>3</th>\n",
       "      <td>Wii Sports Resort</td>\n",
       "      <td>Wii</td>\n",
       "      <td>2009.0</td>\n",
       "      <td>Sports</td>\n",
       "      <td>15.61</td>\n",
       "      <td>10.93</td>\n",
       "      <td>3.28</td>\n",
       "      <td>2.95</td>\n",
       "      <td>80.0</td>\n",
       "      <td>8</td>\n",
       "      <td>E</td>\n",
       "    </tr>\n",
       "    <tr>\n",
       "      <th>4</th>\n",
       "      <td>Pokemon Red/Pokemon Blue</td>\n",
       "      <td>GB</td>\n",
       "      <td>1996.0</td>\n",
       "      <td>Role-Playing</td>\n",
       "      <td>11.27</td>\n",
       "      <td>8.89</td>\n",
       "      <td>10.22</td>\n",
       "      <td>1.00</td>\n",
       "      <td>NaN</td>\n",
       "      <td>NaN</td>\n",
       "      <td>NaN</td>\n",
       "    </tr>\n",
       "    <tr>\n",
       "      <th>...</th>\n",
       "      <td>...</td>\n",
       "      <td>...</td>\n",
       "      <td>...</td>\n",
       "      <td>...</td>\n",
       "      <td>...</td>\n",
       "      <td>...</td>\n",
       "      <td>...</td>\n",
       "      <td>...</td>\n",
       "      <td>...</td>\n",
       "      <td>...</td>\n",
       "      <td>...</td>\n",
       "    </tr>\n",
       "    <tr>\n",
       "      <th>16710</th>\n",
       "      <td>Samurai Warriors: Sanada Maru</td>\n",
       "      <td>PS3</td>\n",
       "      <td>2016.0</td>\n",
       "      <td>Action</td>\n",
       "      <td>0.00</td>\n",
       "      <td>0.00</td>\n",
       "      <td>0.01</td>\n",
       "      <td>0.00</td>\n",
       "      <td>NaN</td>\n",
       "      <td>NaN</td>\n",
       "      <td>NaN</td>\n",
       "    </tr>\n",
       "    <tr>\n",
       "      <th>16711</th>\n",
       "      <td>LMA Manager 2007</td>\n",
       "      <td>X360</td>\n",
       "      <td>2006.0</td>\n",
       "      <td>Sports</td>\n",
       "      <td>0.00</td>\n",
       "      <td>0.01</td>\n",
       "      <td>0.00</td>\n",
       "      <td>0.00</td>\n",
       "      <td>NaN</td>\n",
       "      <td>NaN</td>\n",
       "      <td>NaN</td>\n",
       "    </tr>\n",
       "    <tr>\n",
       "      <th>16712</th>\n",
       "      <td>Haitaka no Psychedelica</td>\n",
       "      <td>PSV</td>\n",
       "      <td>2016.0</td>\n",
       "      <td>Adventure</td>\n",
       "      <td>0.00</td>\n",
       "      <td>0.00</td>\n",
       "      <td>0.01</td>\n",
       "      <td>0.00</td>\n",
       "      <td>NaN</td>\n",
       "      <td>NaN</td>\n",
       "      <td>NaN</td>\n",
       "    </tr>\n",
       "    <tr>\n",
       "      <th>16713</th>\n",
       "      <td>Spirits &amp; Spells</td>\n",
       "      <td>GBA</td>\n",
       "      <td>2003.0</td>\n",
       "      <td>Platform</td>\n",
       "      <td>0.01</td>\n",
       "      <td>0.00</td>\n",
       "      <td>0.00</td>\n",
       "      <td>0.00</td>\n",
       "      <td>NaN</td>\n",
       "      <td>NaN</td>\n",
       "      <td>NaN</td>\n",
       "    </tr>\n",
       "    <tr>\n",
       "      <th>16714</th>\n",
       "      <td>Winning Post 8 2016</td>\n",
       "      <td>PSV</td>\n",
       "      <td>2016.0</td>\n",
       "      <td>Simulation</td>\n",
       "      <td>0.00</td>\n",
       "      <td>0.00</td>\n",
       "      <td>0.01</td>\n",
       "      <td>0.00</td>\n",
       "      <td>NaN</td>\n",
       "      <td>NaN</td>\n",
       "      <td>NaN</td>\n",
       "    </tr>\n",
       "  </tbody>\n",
       "</table>\n",
       "<p>16715 rows × 11 columns</p>\n",
       "</div>"
      ],
      "text/plain": [
       "                                Name Platform  Year_of_Release         Genre  \\\n",
       "0                         Wii Sports      Wii           2006.0        Sports   \n",
       "1                  Super Mario Bros.      NES           1985.0      Platform   \n",
       "2                     Mario Kart Wii      Wii           2008.0        Racing   \n",
       "3                  Wii Sports Resort      Wii           2009.0        Sports   \n",
       "4           Pokemon Red/Pokemon Blue       GB           1996.0  Role-Playing   \n",
       "...                              ...      ...              ...           ...   \n",
       "16710  Samurai Warriors: Sanada Maru      PS3           2016.0        Action   \n",
       "16711               LMA Manager 2007     X360           2006.0        Sports   \n",
       "16712        Haitaka no Psychedelica      PSV           2016.0     Adventure   \n",
       "16713               Spirits & Spells      GBA           2003.0      Platform   \n",
       "16714            Winning Post 8 2016      PSV           2016.0    Simulation   \n",
       "\n",
       "       NA_sales  EU_sales  JP_sales  Other_sales  Critic_Score User_Score  \\\n",
       "0         41.36     28.96      3.77         8.45          76.0          8   \n",
       "1         29.08      3.58      6.81         0.77           NaN        NaN   \n",
       "2         15.68     12.76      3.79         3.29          82.0        8.3   \n",
       "3         15.61     10.93      3.28         2.95          80.0          8   \n",
       "4         11.27      8.89     10.22         1.00           NaN        NaN   \n",
       "...         ...       ...       ...          ...           ...        ...   \n",
       "16710      0.00      0.00      0.01         0.00           NaN        NaN   \n",
       "16711      0.00      0.01      0.00         0.00           NaN        NaN   \n",
       "16712      0.00      0.00      0.01         0.00           NaN        NaN   \n",
       "16713      0.01      0.00      0.00         0.00           NaN        NaN   \n",
       "16714      0.00      0.00      0.01         0.00           NaN        NaN   \n",
       "\n",
       "      Rating  \n",
       "0          E  \n",
       "1        NaN  \n",
       "2          E  \n",
       "3          E  \n",
       "4        NaN  \n",
       "...      ...  \n",
       "16710    NaN  \n",
       "16711    NaN  \n",
       "16712    NaN  \n",
       "16713    NaN  \n",
       "16714    NaN  \n",
       "\n",
       "[16715 rows x 11 columns]"
      ]
     },
     "execution_count": 3,
     "metadata": {},
     "output_type": "execute_result"
    }
   ],
   "source": [
    "try:\n",
    "    df = pd.read_csv('games.csv')\n",
    "except:\n",
    "    df = pd.read_csv('/datasets/games.csv')\n",
    "df"
   ]
  },
  {
   "cell_type": "code",
   "execution_count": 4,
   "metadata": {},
   "outputs": [
    {
     "name": "stdout",
     "output_type": "stream",
     "text": [
      "<class 'pandas.core.frame.DataFrame'>\n",
      "RangeIndex: 16715 entries, 0 to 16714\n",
      "Data columns (total 11 columns):\n",
      " #   Column           Non-Null Count  Dtype  \n",
      "---  ------           --------------  -----  \n",
      " 0   Name             16713 non-null  object \n",
      " 1   Platform         16715 non-null  object \n",
      " 2   Year_of_Release  16446 non-null  float64\n",
      " 3   Genre            16713 non-null  object \n",
      " 4   NA_sales         16715 non-null  float64\n",
      " 5   EU_sales         16715 non-null  float64\n",
      " 6   JP_sales         16715 non-null  float64\n",
      " 7   Other_sales      16715 non-null  float64\n",
      " 8   Critic_Score     8137 non-null   float64\n",
      " 9   User_Score       10014 non-null  object \n",
      " 10  Rating           9949 non-null   object \n",
      "dtypes: float64(6), object(5)\n",
      "memory usage: 1.4+ MB\n"
     ]
    }
   ],
   "source": [
    "df.info()"
   ]
  },
  {
   "cell_type": "markdown",
   "metadata": {
    "id": "SjYF6Ub9_Zct"
   },
   "source": [
    "## 2 Предобработка данных\n"
   ]
  },
  {
   "cell_type": "markdown",
   "metadata": {},
   "source": [
    "<div class=\"alert alert-info\" role=\"alert\">\n",
    "Приведем названия столбцов к нижнему регистру\n",
    "</div>"
   ]
  },
  {
   "cell_type": "code",
   "execution_count": 5,
   "metadata": {},
   "outputs": [
    {
     "data": {
      "text/html": [
       "<div>\n",
       "<style scoped>\n",
       "    .dataframe tbody tr th:only-of-type {\n",
       "        vertical-align: middle;\n",
       "    }\n",
       "\n",
       "    .dataframe tbody tr th {\n",
       "        vertical-align: top;\n",
       "    }\n",
       "\n",
       "    .dataframe thead th {\n",
       "        text-align: right;\n",
       "    }\n",
       "</style>\n",
       "<table border=\"1\" class=\"dataframe\">\n",
       "  <thead>\n",
       "    <tr style=\"text-align: right;\">\n",
       "      <th></th>\n",
       "      <th>name</th>\n",
       "      <th>platform</th>\n",
       "      <th>year_of_release</th>\n",
       "      <th>genre</th>\n",
       "      <th>na_sales</th>\n",
       "      <th>eu_sales</th>\n",
       "      <th>jp_sales</th>\n",
       "      <th>other_sales</th>\n",
       "      <th>critic_score</th>\n",
       "      <th>user_score</th>\n",
       "      <th>rating</th>\n",
       "    </tr>\n",
       "  </thead>\n",
       "  <tbody>\n",
       "    <tr>\n",
       "      <th>0</th>\n",
       "      <td>Wii Sports</td>\n",
       "      <td>Wii</td>\n",
       "      <td>2006.0</td>\n",
       "      <td>Sports</td>\n",
       "      <td>41.36</td>\n",
       "      <td>28.96</td>\n",
       "      <td>3.77</td>\n",
       "      <td>8.45</td>\n",
       "      <td>76.0</td>\n",
       "      <td>8</td>\n",
       "      <td>E</td>\n",
       "    </tr>\n",
       "    <tr>\n",
       "      <th>1</th>\n",
       "      <td>Super Mario Bros.</td>\n",
       "      <td>NES</td>\n",
       "      <td>1985.0</td>\n",
       "      <td>Platform</td>\n",
       "      <td>29.08</td>\n",
       "      <td>3.58</td>\n",
       "      <td>6.81</td>\n",
       "      <td>0.77</td>\n",
       "      <td>NaN</td>\n",
       "      <td>NaN</td>\n",
       "      <td>NaN</td>\n",
       "    </tr>\n",
       "    <tr>\n",
       "      <th>2</th>\n",
       "      <td>Mario Kart Wii</td>\n",
       "      <td>Wii</td>\n",
       "      <td>2008.0</td>\n",
       "      <td>Racing</td>\n",
       "      <td>15.68</td>\n",
       "      <td>12.76</td>\n",
       "      <td>3.79</td>\n",
       "      <td>3.29</td>\n",
       "      <td>82.0</td>\n",
       "      <td>8.3</td>\n",
       "      <td>E</td>\n",
       "    </tr>\n",
       "    <tr>\n",
       "      <th>3</th>\n",
       "      <td>Wii Sports Resort</td>\n",
       "      <td>Wii</td>\n",
       "      <td>2009.0</td>\n",
       "      <td>Sports</td>\n",
       "      <td>15.61</td>\n",
       "      <td>10.93</td>\n",
       "      <td>3.28</td>\n",
       "      <td>2.95</td>\n",
       "      <td>80.0</td>\n",
       "      <td>8</td>\n",
       "      <td>E</td>\n",
       "    </tr>\n",
       "    <tr>\n",
       "      <th>4</th>\n",
       "      <td>Pokemon Red/Pokemon Blue</td>\n",
       "      <td>GB</td>\n",
       "      <td>1996.0</td>\n",
       "      <td>Role-Playing</td>\n",
       "      <td>11.27</td>\n",
       "      <td>8.89</td>\n",
       "      <td>10.22</td>\n",
       "      <td>1.00</td>\n",
       "      <td>NaN</td>\n",
       "      <td>NaN</td>\n",
       "      <td>NaN</td>\n",
       "    </tr>\n",
       "    <tr>\n",
       "      <th>...</th>\n",
       "      <td>...</td>\n",
       "      <td>...</td>\n",
       "      <td>...</td>\n",
       "      <td>...</td>\n",
       "      <td>...</td>\n",
       "      <td>...</td>\n",
       "      <td>...</td>\n",
       "      <td>...</td>\n",
       "      <td>...</td>\n",
       "      <td>...</td>\n",
       "      <td>...</td>\n",
       "    </tr>\n",
       "    <tr>\n",
       "      <th>16710</th>\n",
       "      <td>Samurai Warriors: Sanada Maru</td>\n",
       "      <td>PS3</td>\n",
       "      <td>2016.0</td>\n",
       "      <td>Action</td>\n",
       "      <td>0.00</td>\n",
       "      <td>0.00</td>\n",
       "      <td>0.01</td>\n",
       "      <td>0.00</td>\n",
       "      <td>NaN</td>\n",
       "      <td>NaN</td>\n",
       "      <td>NaN</td>\n",
       "    </tr>\n",
       "    <tr>\n",
       "      <th>16711</th>\n",
       "      <td>LMA Manager 2007</td>\n",
       "      <td>X360</td>\n",
       "      <td>2006.0</td>\n",
       "      <td>Sports</td>\n",
       "      <td>0.00</td>\n",
       "      <td>0.01</td>\n",
       "      <td>0.00</td>\n",
       "      <td>0.00</td>\n",
       "      <td>NaN</td>\n",
       "      <td>NaN</td>\n",
       "      <td>NaN</td>\n",
       "    </tr>\n",
       "    <tr>\n",
       "      <th>16712</th>\n",
       "      <td>Haitaka no Psychedelica</td>\n",
       "      <td>PSV</td>\n",
       "      <td>2016.0</td>\n",
       "      <td>Adventure</td>\n",
       "      <td>0.00</td>\n",
       "      <td>0.00</td>\n",
       "      <td>0.01</td>\n",
       "      <td>0.00</td>\n",
       "      <td>NaN</td>\n",
       "      <td>NaN</td>\n",
       "      <td>NaN</td>\n",
       "    </tr>\n",
       "    <tr>\n",
       "      <th>16713</th>\n",
       "      <td>Spirits &amp; Spells</td>\n",
       "      <td>GBA</td>\n",
       "      <td>2003.0</td>\n",
       "      <td>Platform</td>\n",
       "      <td>0.01</td>\n",
       "      <td>0.00</td>\n",
       "      <td>0.00</td>\n",
       "      <td>0.00</td>\n",
       "      <td>NaN</td>\n",
       "      <td>NaN</td>\n",
       "      <td>NaN</td>\n",
       "    </tr>\n",
       "    <tr>\n",
       "      <th>16714</th>\n",
       "      <td>Winning Post 8 2016</td>\n",
       "      <td>PSV</td>\n",
       "      <td>2016.0</td>\n",
       "      <td>Simulation</td>\n",
       "      <td>0.00</td>\n",
       "      <td>0.00</td>\n",
       "      <td>0.01</td>\n",
       "      <td>0.00</td>\n",
       "      <td>NaN</td>\n",
       "      <td>NaN</td>\n",
       "      <td>NaN</td>\n",
       "    </tr>\n",
       "  </tbody>\n",
       "</table>\n",
       "<p>16715 rows × 11 columns</p>\n",
       "</div>"
      ],
      "text/plain": [
       "                                name platform  year_of_release         genre  \\\n",
       "0                         Wii Sports      Wii           2006.0        Sports   \n",
       "1                  Super Mario Bros.      NES           1985.0      Platform   \n",
       "2                     Mario Kart Wii      Wii           2008.0        Racing   \n",
       "3                  Wii Sports Resort      Wii           2009.0        Sports   \n",
       "4           Pokemon Red/Pokemon Blue       GB           1996.0  Role-Playing   \n",
       "...                              ...      ...              ...           ...   \n",
       "16710  Samurai Warriors: Sanada Maru      PS3           2016.0        Action   \n",
       "16711               LMA Manager 2007     X360           2006.0        Sports   \n",
       "16712        Haitaka no Psychedelica      PSV           2016.0     Adventure   \n",
       "16713               Spirits & Spells      GBA           2003.0      Platform   \n",
       "16714            Winning Post 8 2016      PSV           2016.0    Simulation   \n",
       "\n",
       "       na_sales  eu_sales  jp_sales  other_sales  critic_score user_score  \\\n",
       "0         41.36     28.96      3.77         8.45          76.0          8   \n",
       "1         29.08      3.58      6.81         0.77           NaN        NaN   \n",
       "2         15.68     12.76      3.79         3.29          82.0        8.3   \n",
       "3         15.61     10.93      3.28         2.95          80.0          8   \n",
       "4         11.27      8.89     10.22         1.00           NaN        NaN   \n",
       "...         ...       ...       ...          ...           ...        ...   \n",
       "16710      0.00      0.00      0.01         0.00           NaN        NaN   \n",
       "16711      0.00      0.01      0.00         0.00           NaN        NaN   \n",
       "16712      0.00      0.00      0.01         0.00           NaN        NaN   \n",
       "16713      0.01      0.00      0.00         0.00           NaN        NaN   \n",
       "16714      0.00      0.00      0.01         0.00           NaN        NaN   \n",
       "\n",
       "      rating  \n",
       "0          E  \n",
       "1        NaN  \n",
       "2          E  \n",
       "3          E  \n",
       "4        NaN  \n",
       "...      ...  \n",
       "16710    NaN  \n",
       "16711    NaN  \n",
       "16712    NaN  \n",
       "16713    NaN  \n",
       "16714    NaN  \n",
       "\n",
       "[16715 rows x 11 columns]"
      ]
     },
     "execution_count": 5,
     "metadata": {},
     "output_type": "execute_result"
    }
   ],
   "source": [
    "df.columns = df.columns.str.lower()\n",
    "df"
   ]
  },
  {
   "cell_type": "code",
   "execution_count": 6,
   "metadata": {
    "scrolled": false
   },
   "outputs": [
    {
     "data": {
      "text/plain": [
       "name                  2\n",
       "platform              0\n",
       "year_of_release     269\n",
       "genre                 2\n",
       "na_sales              0\n",
       "eu_sales              0\n",
       "jp_sales              0\n",
       "other_sales           0\n",
       "critic_score       8578\n",
       "user_score         6701\n",
       "rating             6766\n",
       "dtype: int64"
      ]
     },
     "execution_count": 6,
     "metadata": {},
     "output_type": "execute_result"
    }
   ],
   "source": [
    "df.isna().sum()"
   ]
  },
  {
   "cell_type": "markdown",
   "metadata": {},
   "source": [
    "<div class=\"alert alert-info\" role=\"alert\">\n",
    "Заполним пропуски года в релизе годом из названия игры\n",
    "</div>"
   ]
  },
  {
   "cell_type": "code",
   "execution_count": 7,
   "metadata": {},
   "outputs": [
    {
     "data": {
      "text/plain": [
       "array(['E', nan, 'M', 'T', 'E10+', 'K-A', 'AO', 'EC', 'RP'], dtype=object)"
      ]
     },
     "execution_count": 7,
     "metadata": {},
     "output_type": "execute_result"
    }
   ],
   "source": [
    "df['rating'].unique()"
   ]
  },
  {
   "cell_type": "markdown",
   "metadata": {},
   "source": [
    "<div class=\"alert alert-info\" role=\"alert\">\n",
    "Заменим устаревший рейтинг на новый и сделаем заглушку unknown на пропуски\n",
    "</div>"
   ]
  },
  {
   "cell_type": "code",
   "execution_count": 8,
   "metadata": {},
   "outputs": [
    {
     "data": {
      "text/plain": [
       "array(['8', nan, '8.3', '8.5', '6.6', '8.4', '8.6', '7.7', '6.3', '7.4',\n",
       "       '8.2', '9', '7.9', '8.1', '8.7', '7.1', '3.4', '5.3', '4.8', '3.2',\n",
       "       '8.9', '6.4', '7.8', '7.5', '2.6', '7.2', '9.2', '7', '7.3', '4.3',\n",
       "       '7.6', '5.7', '5', '9.1', '6.5', 'tbd', '8.8', '6.9', '9.4', '6.8',\n",
       "       '6.1', '6.7', '5.4', '4', '4.9', '4.5', '9.3', '6.2', '4.2', '6',\n",
       "       '3.7', '4.1', '5.8', '5.6', '5.5', '4.4', '4.6', '5.9', '3.9',\n",
       "       '3.1', '2.9', '5.2', '3.3', '4.7', '5.1', '3.5', '2.5', '1.9', '3',\n",
       "       '2.7', '2.2', '2', '9.5', '2.1', '3.6', '2.8', '1.8', '3.8', '0',\n",
       "       '1.6', '9.6', '2.4', '1.7', '1.1', '0.3', '1.5', '0.7', '1.2',\n",
       "       '2.3', '0.5', '1.3', '0.2', '0.6', '1.4', '0.9', '1', '9.7'],\n",
       "      dtype=object)"
      ]
     },
     "execution_count": 8,
     "metadata": {},
     "output_type": "execute_result"
    }
   ],
   "source": [
    "df.loc[(df.rating == 'K-A'),'rating'] = 'E'\n",
    "df.loc[(df.rating == 'RP'),'rating'] = 'unknown'\n",
    "df['rating'] = df['rating'].fillna('unknown')\n",
    "df['user_score'].unique()"
   ]
  },
  {
   "cell_type": "code",
   "execution_count": 9,
   "metadata": {},
   "outputs": [
    {
     "data": {
      "text/plain": [
       "array(['E', 'unknown', 'M', 'T', 'E10+', 'AO', 'EC'], dtype=object)"
      ]
     },
     "execution_count": 9,
     "metadata": {},
     "output_type": "execute_result"
    }
   ],
   "source": [
    "df['rating'].unique()"
   ]
  },
  {
   "cell_type": "code",
   "execution_count": 10,
   "metadata": {},
   "outputs": [
    {
     "data": {
      "text/plain": [
       "array(['8', nan, '8.3', '8.5', '6.6', '8.4', '8.6', '7.7', '6.3', '7.4',\n",
       "       '8.2', '9', '7.9', '8.1', '8.7', '7.1', '3.4', '5.3', '4.8', '3.2',\n",
       "       '8.9', '6.4', '7.8', '7.5', '2.6', '7.2', '9.2', '7', '7.3', '4.3',\n",
       "       '7.6', '5.7', '5', '9.1', '6.5', 'tbd', '8.8', '6.9', '9.4', '6.8',\n",
       "       '6.1', '6.7', '5.4', '4', '4.9', '4.5', '9.3', '6.2', '4.2', '6',\n",
       "       '3.7', '4.1', '5.8', '5.6', '5.5', '4.4', '4.6', '5.9', '3.9',\n",
       "       '3.1', '2.9', '5.2', '3.3', '4.7', '5.1', '3.5', '2.5', '1.9', '3',\n",
       "       '2.7', '2.2', '2', '9.5', '2.1', '3.6', '2.8', '1.8', '3.8', '0',\n",
       "       '1.6', '9.6', '2.4', '1.7', '1.1', '0.3', '1.5', '0.7', '1.2',\n",
       "       '2.3', '0.5', '1.3', '0.2', '0.6', '1.4', '0.9', '1', '9.7'],\n",
       "      dtype=object)"
      ]
     },
     "execution_count": 10,
     "metadata": {},
     "output_type": "execute_result"
    }
   ],
   "source": [
    "df['user_score'].unique()"
   ]
  },
  {
   "cell_type": "markdown",
   "metadata": {},
   "source": [
    "<div class=\"alert alert-info\" role=\"alert\">\n",
    "Заменим пропуски на заглушку -1\n",
    "</div>"
   ]
  },
  {
   "cell_type": "code",
   "execution_count": 11,
   "metadata": {},
   "outputs": [
    {
     "name": "stdout",
     "output_type": "stream",
     "text": [
      "<class 'pandas.core.frame.DataFrame'>\n",
      "RangeIndex: 16715 entries, 0 to 16714\n",
      "Data columns (total 11 columns):\n",
      " #   Column           Non-Null Count  Dtype  \n",
      "---  ------           --------------  -----  \n",
      " 0   name             16713 non-null  object \n",
      " 1   platform         16715 non-null  object \n",
      " 2   year_of_release  16446 non-null  float64\n",
      " 3   genre            16713 non-null  object \n",
      " 4   na_sales         16715 non-null  float64\n",
      " 5   eu_sales         16715 non-null  float64\n",
      " 6   jp_sales         16715 non-null  float64\n",
      " 7   other_sales      16715 non-null  float64\n",
      " 8   critic_score     8137 non-null   float64\n",
      " 9   user_score       16715 non-null  float32\n",
      " 10  rating           16715 non-null  object \n",
      "dtypes: float32(1), float64(6), object(4)\n",
      "memory usage: 1.3+ MB\n"
     ]
    }
   ],
   "source": [
    "df.loc[(df.user_score == 'tbd'),'user_score'] = -1\n",
    "df['user_score'] = df['user_score'].fillna(-1)\n",
    "df['user_score'] = df['user_score'].astype('float32')\n",
    "df.info()"
   ]
  },
  {
   "cell_type": "code",
   "execution_count": 12,
   "metadata": {},
   "outputs": [
    {
     "data": {
      "text/plain": [
       "array([76., nan, 82., 80., 89., 58., 87., 91., 61., 97., 95., 77., 88.,\n",
       "       83., 94., 93., 85., 86., 98., 96., 90., 84., 73., 74., 78., 92.,\n",
       "       71., 72., 68., 62., 49., 67., 81., 66., 56., 79., 70., 59., 64.,\n",
       "       75., 60., 63., 69., 50., 25., 42., 44., 55., 48., 57., 29., 47.,\n",
       "       65., 54., 20., 53., 37., 38., 33., 52., 30., 32., 43., 45., 51.,\n",
       "       40., 46., 39., 34., 35., 41., 36., 28., 31., 27., 26., 19., 23.,\n",
       "       24., 21., 17., 22., 13.])"
      ]
     },
     "execution_count": 12,
     "metadata": {},
     "output_type": "execute_result"
    }
   ],
   "source": [
    "df['critic_score'].unique()"
   ]
  },
  {
   "cell_type": "code",
   "execution_count": 13,
   "metadata": {},
   "outputs": [],
   "source": [
    "df['critic_score'] = df['critic_score'].fillna(-1)"
   ]
  },
  {
   "cell_type": "code",
   "execution_count": 14,
   "metadata": {
    "scrolled": false
   },
   "outputs": [
    {
     "data": {
      "text/plain": [
       "name                 2\n",
       "platform             0\n",
       "year_of_release    269\n",
       "genre                2\n",
       "na_sales             0\n",
       "eu_sales             0\n",
       "jp_sales             0\n",
       "other_sales          0\n",
       "critic_score         0\n",
       "user_score           0\n",
       "rating               0\n",
       "dtype: int64"
      ]
     },
     "execution_count": 14,
     "metadata": {},
     "output_type": "execute_result"
    }
   ],
   "source": [
    "df.isna().sum()"
   ]
  },
  {
   "cell_type": "code",
   "execution_count": 15,
   "metadata": {},
   "outputs": [
    {
     "data": {
      "text/plain": [
       "name               0\n",
       "platform           0\n",
       "year_of_release    0\n",
       "genre              0\n",
       "na_sales           0\n",
       "eu_sales           0\n",
       "jp_sales           0\n",
       "other_sales        0\n",
       "critic_score       0\n",
       "user_score         0\n",
       "rating             0\n",
       "dtype: int64"
      ]
     },
     "execution_count": 15,
     "metadata": {},
     "output_type": "execute_result"
    }
   ],
   "source": [
    "df = df.dropna().copy()\n",
    "df.isna().sum()"
   ]
  },
  {
   "cell_type": "code",
   "execution_count": 16,
   "metadata": {},
   "outputs": [
    {
     "data": {
      "text/html": [
       "<div>\n",
       "<style scoped>\n",
       "    .dataframe tbody tr th:only-of-type {\n",
       "        vertical-align: middle;\n",
       "    }\n",
       "\n",
       "    .dataframe tbody tr th {\n",
       "        vertical-align: top;\n",
       "    }\n",
       "\n",
       "    .dataframe thead th {\n",
       "        text-align: right;\n",
       "    }\n",
       "</style>\n",
       "<table border=\"1\" class=\"dataframe\">\n",
       "  <thead>\n",
       "    <tr style=\"text-align: right;\">\n",
       "      <th></th>\n",
       "      <th>name</th>\n",
       "      <th>platform</th>\n",
       "      <th>year_of_release</th>\n",
       "      <th>genre</th>\n",
       "      <th>na_sales</th>\n",
       "      <th>eu_sales</th>\n",
       "      <th>jp_sales</th>\n",
       "      <th>other_sales</th>\n",
       "      <th>critic_score</th>\n",
       "      <th>user_score</th>\n",
       "      <th>rating</th>\n",
       "    </tr>\n",
       "  </thead>\n",
       "  <tbody>\n",
       "  </tbody>\n",
       "</table>\n",
       "</div>"
      ],
      "text/plain": [
       "Empty DataFrame\n",
       "Columns: [name, platform, year_of_release, genre, na_sales, eu_sales, jp_sales, other_sales, critic_score, user_score, rating]\n",
       "Index: []"
      ]
     },
     "execution_count": 16,
     "metadata": {},
     "output_type": "execute_result"
    }
   ],
   "source": [
    "df[df.duplicated()]"
   ]
  },
  {
   "cell_type": "markdown",
   "metadata": {},
   "source": [
    "<div class=\"alert alert-info\" role=\"alert\">\n",
    "Выведем новый столбец общими продажами.\n",
    "</div>"
   ]
  },
  {
   "cell_type": "code",
   "execution_count": 17,
   "metadata": {
    "scrolled": false
   },
   "outputs": [
    {
     "data": {
      "text/html": [
       "<div>\n",
       "<style scoped>\n",
       "    .dataframe tbody tr th:only-of-type {\n",
       "        vertical-align: middle;\n",
       "    }\n",
       "\n",
       "    .dataframe tbody tr th {\n",
       "        vertical-align: top;\n",
       "    }\n",
       "\n",
       "    .dataframe thead th {\n",
       "        text-align: right;\n",
       "    }\n",
       "</style>\n",
       "<table border=\"1\" class=\"dataframe\">\n",
       "  <thead>\n",
       "    <tr style=\"text-align: right;\">\n",
       "      <th></th>\n",
       "      <th>name</th>\n",
       "      <th>platform</th>\n",
       "      <th>year_of_release</th>\n",
       "      <th>genre</th>\n",
       "      <th>na_sales</th>\n",
       "      <th>eu_sales</th>\n",
       "      <th>jp_sales</th>\n",
       "      <th>other_sales</th>\n",
       "      <th>critic_score</th>\n",
       "      <th>user_score</th>\n",
       "      <th>rating</th>\n",
       "      <th>all_sales</th>\n",
       "    </tr>\n",
       "  </thead>\n",
       "  <tbody>\n",
       "    <tr>\n",
       "      <th>0</th>\n",
       "      <td>Wii Sports</td>\n",
       "      <td>Wii</td>\n",
       "      <td>2006.0</td>\n",
       "      <td>Sports</td>\n",
       "      <td>41.36</td>\n",
       "      <td>28.96</td>\n",
       "      <td>3.77</td>\n",
       "      <td>8.45</td>\n",
       "      <td>76.0</td>\n",
       "      <td>8.0</td>\n",
       "      <td>E</td>\n",
       "      <td>74.09</td>\n",
       "    </tr>\n",
       "    <tr>\n",
       "      <th>1</th>\n",
       "      <td>Super Mario Bros.</td>\n",
       "      <td>NES</td>\n",
       "      <td>1985.0</td>\n",
       "      <td>Platform</td>\n",
       "      <td>29.08</td>\n",
       "      <td>3.58</td>\n",
       "      <td>6.81</td>\n",
       "      <td>0.77</td>\n",
       "      <td>-1.0</td>\n",
       "      <td>-1.0</td>\n",
       "      <td>unknown</td>\n",
       "      <td>39.47</td>\n",
       "    </tr>\n",
       "    <tr>\n",
       "      <th>2</th>\n",
       "      <td>Mario Kart Wii</td>\n",
       "      <td>Wii</td>\n",
       "      <td>2008.0</td>\n",
       "      <td>Racing</td>\n",
       "      <td>15.68</td>\n",
       "      <td>12.76</td>\n",
       "      <td>3.79</td>\n",
       "      <td>3.29</td>\n",
       "      <td>82.0</td>\n",
       "      <td>8.3</td>\n",
       "      <td>E</td>\n",
       "      <td>32.23</td>\n",
       "    </tr>\n",
       "    <tr>\n",
       "      <th>3</th>\n",
       "      <td>Wii Sports Resort</td>\n",
       "      <td>Wii</td>\n",
       "      <td>2009.0</td>\n",
       "      <td>Sports</td>\n",
       "      <td>15.61</td>\n",
       "      <td>10.93</td>\n",
       "      <td>3.28</td>\n",
       "      <td>2.95</td>\n",
       "      <td>80.0</td>\n",
       "      <td>8.0</td>\n",
       "      <td>E</td>\n",
       "      <td>29.82</td>\n",
       "    </tr>\n",
       "    <tr>\n",
       "      <th>4</th>\n",
       "      <td>Pokemon Red/Pokemon Blue</td>\n",
       "      <td>GB</td>\n",
       "      <td>1996.0</td>\n",
       "      <td>Role-Playing</td>\n",
       "      <td>11.27</td>\n",
       "      <td>8.89</td>\n",
       "      <td>10.22</td>\n",
       "      <td>1.00</td>\n",
       "      <td>-1.0</td>\n",
       "      <td>-1.0</td>\n",
       "      <td>unknown</td>\n",
       "      <td>30.38</td>\n",
       "    </tr>\n",
       "    <tr>\n",
       "      <th>...</th>\n",
       "      <td>...</td>\n",
       "      <td>...</td>\n",
       "      <td>...</td>\n",
       "      <td>...</td>\n",
       "      <td>...</td>\n",
       "      <td>...</td>\n",
       "      <td>...</td>\n",
       "      <td>...</td>\n",
       "      <td>...</td>\n",
       "      <td>...</td>\n",
       "      <td>...</td>\n",
       "      <td>...</td>\n",
       "    </tr>\n",
       "    <tr>\n",
       "      <th>16710</th>\n",
       "      <td>Samurai Warriors: Sanada Maru</td>\n",
       "      <td>PS3</td>\n",
       "      <td>2016.0</td>\n",
       "      <td>Action</td>\n",
       "      <td>0.00</td>\n",
       "      <td>0.00</td>\n",
       "      <td>0.01</td>\n",
       "      <td>0.00</td>\n",
       "      <td>-1.0</td>\n",
       "      <td>-1.0</td>\n",
       "      <td>unknown</td>\n",
       "      <td>0.01</td>\n",
       "    </tr>\n",
       "    <tr>\n",
       "      <th>16711</th>\n",
       "      <td>LMA Manager 2007</td>\n",
       "      <td>X360</td>\n",
       "      <td>2006.0</td>\n",
       "      <td>Sports</td>\n",
       "      <td>0.00</td>\n",
       "      <td>0.01</td>\n",
       "      <td>0.00</td>\n",
       "      <td>0.00</td>\n",
       "      <td>-1.0</td>\n",
       "      <td>-1.0</td>\n",
       "      <td>unknown</td>\n",
       "      <td>0.01</td>\n",
       "    </tr>\n",
       "    <tr>\n",
       "      <th>16712</th>\n",
       "      <td>Haitaka no Psychedelica</td>\n",
       "      <td>PSV</td>\n",
       "      <td>2016.0</td>\n",
       "      <td>Adventure</td>\n",
       "      <td>0.00</td>\n",
       "      <td>0.00</td>\n",
       "      <td>0.01</td>\n",
       "      <td>0.00</td>\n",
       "      <td>-1.0</td>\n",
       "      <td>-1.0</td>\n",
       "      <td>unknown</td>\n",
       "      <td>0.01</td>\n",
       "    </tr>\n",
       "    <tr>\n",
       "      <th>16713</th>\n",
       "      <td>Spirits &amp; Spells</td>\n",
       "      <td>GBA</td>\n",
       "      <td>2003.0</td>\n",
       "      <td>Platform</td>\n",
       "      <td>0.01</td>\n",
       "      <td>0.00</td>\n",
       "      <td>0.00</td>\n",
       "      <td>0.00</td>\n",
       "      <td>-1.0</td>\n",
       "      <td>-1.0</td>\n",
       "      <td>unknown</td>\n",
       "      <td>0.01</td>\n",
       "    </tr>\n",
       "    <tr>\n",
       "      <th>16714</th>\n",
       "      <td>Winning Post 8 2016</td>\n",
       "      <td>PSV</td>\n",
       "      <td>2016.0</td>\n",
       "      <td>Simulation</td>\n",
       "      <td>0.00</td>\n",
       "      <td>0.00</td>\n",
       "      <td>0.01</td>\n",
       "      <td>0.00</td>\n",
       "      <td>-1.0</td>\n",
       "      <td>-1.0</td>\n",
       "      <td>unknown</td>\n",
       "      <td>0.01</td>\n",
       "    </tr>\n",
       "  </tbody>\n",
       "</table>\n",
       "<p>16444 rows × 12 columns</p>\n",
       "</div>"
      ],
      "text/plain": [
       "                                name platform  year_of_release         genre  \\\n",
       "0                         Wii Sports      Wii           2006.0        Sports   \n",
       "1                  Super Mario Bros.      NES           1985.0      Platform   \n",
       "2                     Mario Kart Wii      Wii           2008.0        Racing   \n",
       "3                  Wii Sports Resort      Wii           2009.0        Sports   \n",
       "4           Pokemon Red/Pokemon Blue       GB           1996.0  Role-Playing   \n",
       "...                              ...      ...              ...           ...   \n",
       "16710  Samurai Warriors: Sanada Maru      PS3           2016.0        Action   \n",
       "16711               LMA Manager 2007     X360           2006.0        Sports   \n",
       "16712        Haitaka no Psychedelica      PSV           2016.0     Adventure   \n",
       "16713               Spirits & Spells      GBA           2003.0      Platform   \n",
       "16714            Winning Post 8 2016      PSV           2016.0    Simulation   \n",
       "\n",
       "       na_sales  eu_sales  jp_sales  other_sales  critic_score  user_score  \\\n",
       "0         41.36     28.96      3.77         8.45          76.0         8.0   \n",
       "1         29.08      3.58      6.81         0.77          -1.0        -1.0   \n",
       "2         15.68     12.76      3.79         3.29          82.0         8.3   \n",
       "3         15.61     10.93      3.28         2.95          80.0         8.0   \n",
       "4         11.27      8.89     10.22         1.00          -1.0        -1.0   \n",
       "...         ...       ...       ...          ...           ...         ...   \n",
       "16710      0.00      0.00      0.01         0.00          -1.0        -1.0   \n",
       "16711      0.00      0.01      0.00         0.00          -1.0        -1.0   \n",
       "16712      0.00      0.00      0.01         0.00          -1.0        -1.0   \n",
       "16713      0.01      0.00      0.00         0.00          -1.0        -1.0   \n",
       "16714      0.00      0.00      0.01         0.00          -1.0        -1.0   \n",
       "\n",
       "        rating  all_sales  \n",
       "0            E      74.09  \n",
       "1      unknown      39.47  \n",
       "2            E      32.23  \n",
       "3            E      29.82  \n",
       "4      unknown      30.38  \n",
       "...        ...        ...  \n",
       "16710  unknown       0.01  \n",
       "16711  unknown       0.01  \n",
       "16712  unknown       0.01  \n",
       "16713  unknown       0.01  \n",
       "16714  unknown       0.01  \n",
       "\n",
       "[16444 rows x 12 columns]"
      ]
     },
     "execution_count": 17,
     "metadata": {},
     "output_type": "execute_result"
    }
   ],
   "source": [
    "df['all_sales'] = df[['na_sales','eu_sales','jp_sales']].sum(axis=1)\n",
    "df"
   ]
  },
  {
   "cell_type": "code",
   "execution_count": 18,
   "metadata": {},
   "outputs": [
    {
     "name": "stdout",
     "output_type": "stream",
     "text": [
      "<class 'pandas.core.frame.DataFrame'>\n",
      "Int64Index: 16444 entries, 0 to 16714\n",
      "Data columns (total 12 columns):\n",
      " #   Column           Non-Null Count  Dtype  \n",
      "---  ------           --------------  -----  \n",
      " 0   name             16444 non-null  object \n",
      " 1   platform         16444 non-null  object \n",
      " 2   year_of_release  16444 non-null  float64\n",
      " 3   genre            16444 non-null  object \n",
      " 4   na_sales         16444 non-null  float64\n",
      " 5   eu_sales         16444 non-null  float64\n",
      " 6   jp_sales         16444 non-null  float64\n",
      " 7   other_sales      16444 non-null  float64\n",
      " 8   critic_score     16444 non-null  float64\n",
      " 9   user_score       16444 non-null  float32\n",
      " 10  rating           16444 non-null  object \n",
      " 11  all_sales        16444 non-null  float64\n",
      "dtypes: float32(1), float64(7), object(4)\n",
      "memory usage: 1.6+ MB\n"
     ]
    }
   ],
   "source": [
    "df.info()"
   ]
  },
  {
   "cell_type": "code",
   "execution_count": 19,
   "metadata": {},
   "outputs": [
    {
     "data": {
      "text/plain": [
       "0        2006\n",
       "1        1985\n",
       "2        2008\n",
       "3        2009\n",
       "4        1996\n",
       "         ... \n",
       "16710    2016\n",
       "16711    2006\n",
       "16712    2016\n",
       "16713    2003\n",
       "16714    2016\n",
       "Name: year_of_release, Length: 16444, dtype: int32"
      ]
     },
     "execution_count": 19,
     "metadata": {},
     "output_type": "execute_result"
    }
   ],
   "source": [
    "df['year_of_release'] = df['year_of_release'].astype('int')\n",
    "df['year_of_release']"
   ]
  },
  {
   "cell_type": "markdown",
   "metadata": {
    "id": "SjYF6Ub9_Zct"
   },
   "source": [
    "## 3 Анализ данных\n"
   ]
  },
  {
   "cell_type": "markdown",
   "metadata": {},
   "source": [
    "<div class=\"alert alert-info\" role=\"alert\">\n",
    "Посмотрим сколько игр выпускалось по годам.\n",
    "</div>"
   ]
  },
  {
   "cell_type": "code",
   "execution_count": 62,
   "metadata": {},
   "outputs": [
    {
     "data": {
      "image/png": "[encoded data removed]",
      "text/plain": [
       "<Figure size 700x700 with 1 Axes>"
      ]
     },
     "metadata": {},
     "output_type": "display_data"
    }
   ],
   "source": [
    "df.groupby('year_of_release')['name'].count().plot(grid=True,figsize=(7,7),xlabel='Year',ylabel='Release',title='year of reliase');"
   ]
  },
  {
   "cell_type": "markdown",
   "metadata": {},
   "source": [
    "<div class=\"alert alert-info\" role=\"alert\">\n",
    "Большая часть игр выпускалась в 2008-2009 годах\n",
    "</div>"
   ]
  },
  {
   "cell_type": "markdown",
   "metadata": {},
   "source": [
    "<div class=\"alert alert-info\" role=\"alert\">\n",
    "Узнаем топ платформ.\n",
    "</div>"
   ]
  },
  {
   "cell_type": "code",
   "execution_count": 21,
   "metadata": {},
   "outputs": [
    {
     "data": {
      "text/html": [
       "<div>\n",
       "<style scoped>\n",
       "    .dataframe tbody tr th:only-of-type {\n",
       "        vertical-align: middle;\n",
       "    }\n",
       "\n",
       "    .dataframe tbody tr th {\n",
       "        vertical-align: top;\n",
       "    }\n",
       "\n",
       "    .dataframe thead th {\n",
       "        text-align: right;\n",
       "    }\n",
       "</style>\n",
       "<table border=\"1\" class=\"dataframe\">\n",
       "  <thead>\n",
       "    <tr style=\"text-align: right;\">\n",
       "      <th></th>\n",
       "      <th>platform</th>\n",
       "      <th>all_sales</th>\n",
       "    </tr>\n",
       "  </thead>\n",
       "  <tbody>\n",
       "    <tr>\n",
       "      <th>0</th>\n",
       "      <td>PS2</td>\n",
       "      <td>1043.09</td>\n",
       "    </tr>\n",
       "    <tr>\n",
       "      <th>1</th>\n",
       "      <td>X360</td>\n",
       "      <td>876.36</td>\n",
       "    </tr>\n",
       "    <tr>\n",
       "      <th>2</th>\n",
       "      <td>Wii</td>\n",
       "      <td>813.47</td>\n",
       "    </tr>\n",
       "    <tr>\n",
       "      <th>3</th>\n",
       "      <td>PS3</td>\n",
       "      <td>796.75</td>\n",
       "    </tr>\n",
       "    <tr>\n",
       "      <th>4</th>\n",
       "      <td>DS</td>\n",
       "      <td>743.74</td>\n",
       "    </tr>\n",
       "    <tr>\n",
       "      <th>5</th>\n",
       "      <td>PS</td>\n",
       "      <td>686.89</td>\n",
       "    </tr>\n",
       "    <tr>\n",
       "      <th>6</th>\n",
       "      <td>GBA</td>\n",
       "      <td>305.27</td>\n",
       "    </tr>\n",
       "    <tr>\n",
       "      <th>7</th>\n",
       "      <td>PS4</td>\n",
       "      <td>265.79</td>\n",
       "    </tr>\n",
       "    <tr>\n",
       "      <th>8</th>\n",
       "      <td>PSP</td>\n",
       "      <td>248.77</td>\n",
       "    </tr>\n",
       "    <tr>\n",
       "      <th>9</th>\n",
       "      <td>GB</td>\n",
       "      <td>246.27</td>\n",
       "    </tr>\n",
       "    <tr>\n",
       "      <th>10</th>\n",
       "      <td>NES</td>\n",
       "      <td>245.74</td>\n",
       "    </tr>\n",
       "    <tr>\n",
       "      <th>11</th>\n",
       "      <td>3DS</td>\n",
       "      <td>244.54</td>\n",
       "    </tr>\n",
       "    <tr>\n",
       "      <th>12</th>\n",
       "      <td>XB</td>\n",
       "      <td>243.09</td>\n",
       "    </tr>\n",
       "    <tr>\n",
       "      <th>13</th>\n",
       "      <td>PC</td>\n",
       "      <td>233.88</td>\n",
       "    </tr>\n",
       "    <tr>\n",
       "      <th>14</th>\n",
       "      <td>N64</td>\n",
       "      <td>213.70</td>\n",
       "    </tr>\n",
       "    <tr>\n",
       "      <th>15</th>\n",
       "      <td>SNES</td>\n",
       "      <td>196.82</td>\n",
       "    </tr>\n",
       "    <tr>\n",
       "      <th>16</th>\n",
       "      <td>GC</td>\n",
       "      <td>191.60</td>\n",
       "    </tr>\n",
       "    <tr>\n",
       "      <th>17</th>\n",
       "      <td>XOne</td>\n",
       "      <td>145.05</td>\n",
       "    </tr>\n",
       "    <tr>\n",
       "      <th>18</th>\n",
       "      <td>2600</td>\n",
       "      <td>85.64</td>\n",
       "    </tr>\n",
       "    <tr>\n",
       "      <th>19</th>\n",
       "      <td>WiiU</td>\n",
       "      <td>76.24</td>\n",
       "    </tr>\n",
       "    <tr>\n",
       "      <th>20</th>\n",
       "      <td>PSV</td>\n",
       "      <td>47.38</td>\n",
       "    </tr>\n",
       "    <tr>\n",
       "      <th>21</th>\n",
       "      <td>SAT</td>\n",
       "      <td>33.52</td>\n",
       "    </tr>\n",
       "    <tr>\n",
       "      <th>22</th>\n",
       "      <td>GEN</td>\n",
       "      <td>27.46</td>\n",
       "    </tr>\n",
       "    <tr>\n",
       "      <th>23</th>\n",
       "      <td>DC</td>\n",
       "      <td>15.68</td>\n",
       "    </tr>\n",
       "    <tr>\n",
       "      <th>24</th>\n",
       "      <td>SCD</td>\n",
       "      <td>1.81</td>\n",
       "    </tr>\n",
       "    <tr>\n",
       "      <th>25</th>\n",
       "      <td>NG</td>\n",
       "      <td>1.44</td>\n",
       "    </tr>\n",
       "    <tr>\n",
       "      <th>26</th>\n",
       "      <td>WS</td>\n",
       "      <td>1.42</td>\n",
       "    </tr>\n",
       "    <tr>\n",
       "      <th>27</th>\n",
       "      <td>TG16</td>\n",
       "      <td>0.16</td>\n",
       "    </tr>\n",
       "    <tr>\n",
       "      <th>28</th>\n",
       "      <td>3DO</td>\n",
       "      <td>0.10</td>\n",
       "    </tr>\n",
       "    <tr>\n",
       "      <th>29</th>\n",
       "      <td>GG</td>\n",
       "      <td>0.04</td>\n",
       "    </tr>\n",
       "    <tr>\n",
       "      <th>30</th>\n",
       "      <td>PCFX</td>\n",
       "      <td>0.03</td>\n",
       "    </tr>\n",
       "  </tbody>\n",
       "</table>\n",
       "</div>"
      ],
      "text/plain": [
       "   platform  all_sales\n",
       "0       PS2    1043.09\n",
       "1      X360     876.36\n",
       "2       Wii     813.47\n",
       "3       PS3     796.75\n",
       "4        DS     743.74\n",
       "5        PS     686.89\n",
       "6       GBA     305.27\n",
       "7       PS4     265.79\n",
       "8       PSP     248.77\n",
       "9        GB     246.27\n",
       "10      NES     245.74\n",
       "11      3DS     244.54\n",
       "12       XB     243.09\n",
       "13       PC     233.88\n",
       "14      N64     213.70\n",
       "15     SNES     196.82\n",
       "16       GC     191.60\n",
       "17     XOne     145.05\n",
       "18     2600      85.64\n",
       "19     WiiU      76.24\n",
       "20      PSV      47.38\n",
       "21      SAT      33.52\n",
       "22      GEN      27.46\n",
       "23       DC      15.68\n",
       "24      SCD       1.81\n",
       "25       NG       1.44\n",
       "26       WS       1.42\n",
       "27     TG16       0.16\n",
       "28      3DO       0.10\n",
       "29       GG       0.04\n",
       "30     PCFX       0.03"
      ]
     },
     "execution_count": 21,
     "metadata": {},
     "output_type": "execute_result"
    }
   ],
   "source": [
    "df.groupby('platform')['all_sales'].sum().sort_values(ascending=False).reset_index()"
   ]
  },
  {
   "cell_type": "code",
   "execution_count": 22,
   "metadata": {},
   "outputs": [
    {
     "data": {
      "text/plain": [
       "array(['PS2', 'X360', 'Wii', 'PS3', 'DS'], dtype=object)"
      ]
     },
     "execution_count": 22,
     "metadata": {},
     "output_type": "execute_result"
    }
   ],
   "source": [
    "top_platform = df.groupby('platform')['all_sales'].sum().sort_values(ascending=False).head(5).reset_index()\n",
    "top_platform['platform'].unique()"
   ]
  },
  {
   "cell_type": "markdown",
   "metadata": {},
   "source": [
    "<div class=\"alert alert-info\" role=\"alert\">\n",
    "Проанализируем данные по топ 5 платформам.\n",
    "</div>"
   ]
  },
  {
   "cell_type": "code",
   "execution_count": 23,
   "metadata": {},
   "outputs": [
    {
     "data": {
      "text/html": [
       "<div>\n",
       "<style scoped>\n",
       "    .dataframe tbody tr th:only-of-type {\n",
       "        vertical-align: middle;\n",
       "    }\n",
       "\n",
       "    .dataframe tbody tr th {\n",
       "        vertical-align: top;\n",
       "    }\n",
       "\n",
       "    .dataframe thead th {\n",
       "        text-align: right;\n",
       "    }\n",
       "</style>\n",
       "<table border=\"1\" class=\"dataframe\">\n",
       "  <thead>\n",
       "    <tr style=\"text-align: right;\">\n",
       "      <th></th>\n",
       "      <th>name</th>\n",
       "      <th>platform</th>\n",
       "      <th>year_of_release</th>\n",
       "      <th>genre</th>\n",
       "      <th>na_sales</th>\n",
       "      <th>eu_sales</th>\n",
       "      <th>jp_sales</th>\n",
       "      <th>other_sales</th>\n",
       "      <th>critic_score</th>\n",
       "      <th>user_score</th>\n",
       "      <th>rating</th>\n",
       "      <th>all_sales</th>\n",
       "    </tr>\n",
       "  </thead>\n",
       "  <tbody>\n",
       "    <tr>\n",
       "      <th>0</th>\n",
       "      <td>Wii Sports</td>\n",
       "      <td>Wii</td>\n",
       "      <td>2006</td>\n",
       "      <td>Sports</td>\n",
       "      <td>41.36</td>\n",
       "      <td>28.96</td>\n",
       "      <td>3.77</td>\n",
       "      <td>8.45</td>\n",
       "      <td>76.0</td>\n",
       "      <td>8.0</td>\n",
       "      <td>E</td>\n",
       "      <td>74.09</td>\n",
       "    </tr>\n",
       "    <tr>\n",
       "      <th>2</th>\n",
       "      <td>Mario Kart Wii</td>\n",
       "      <td>Wii</td>\n",
       "      <td>2008</td>\n",
       "      <td>Racing</td>\n",
       "      <td>15.68</td>\n",
       "      <td>12.76</td>\n",
       "      <td>3.79</td>\n",
       "      <td>3.29</td>\n",
       "      <td>82.0</td>\n",
       "      <td>8.3</td>\n",
       "      <td>E</td>\n",
       "      <td>32.23</td>\n",
       "    </tr>\n",
       "    <tr>\n",
       "      <th>3</th>\n",
       "      <td>Wii Sports Resort</td>\n",
       "      <td>Wii</td>\n",
       "      <td>2009</td>\n",
       "      <td>Sports</td>\n",
       "      <td>15.61</td>\n",
       "      <td>10.93</td>\n",
       "      <td>3.28</td>\n",
       "      <td>2.95</td>\n",
       "      <td>80.0</td>\n",
       "      <td>8.0</td>\n",
       "      <td>E</td>\n",
       "      <td>29.82</td>\n",
       "    </tr>\n",
       "    <tr>\n",
       "      <th>6</th>\n",
       "      <td>New Super Mario Bros.</td>\n",
       "      <td>DS</td>\n",
       "      <td>2006</td>\n",
       "      <td>Platform</td>\n",
       "      <td>11.28</td>\n",
       "      <td>9.14</td>\n",
       "      <td>6.50</td>\n",
       "      <td>2.88</td>\n",
       "      <td>89.0</td>\n",
       "      <td>8.5</td>\n",
       "      <td>E</td>\n",
       "      <td>26.92</td>\n",
       "    </tr>\n",
       "    <tr>\n",
       "      <th>7</th>\n",
       "      <td>Wii Play</td>\n",
       "      <td>Wii</td>\n",
       "      <td>2006</td>\n",
       "      <td>Misc</td>\n",
       "      <td>13.96</td>\n",
       "      <td>9.18</td>\n",
       "      <td>2.93</td>\n",
       "      <td>2.84</td>\n",
       "      <td>58.0</td>\n",
       "      <td>6.6</td>\n",
       "      <td>E</td>\n",
       "      <td>26.07</td>\n",
       "    </tr>\n",
       "    <tr>\n",
       "      <th>...</th>\n",
       "      <td>...</td>\n",
       "      <td>...</td>\n",
       "      <td>...</td>\n",
       "      <td>...</td>\n",
       "      <td>...</td>\n",
       "      <td>...</td>\n",
       "      <td>...</td>\n",
       "      <td>...</td>\n",
       "      <td>...</td>\n",
       "      <td>...</td>\n",
       "      <td>...</td>\n",
       "      <td>...</td>\n",
       "    </tr>\n",
       "    <tr>\n",
       "      <th>16700</th>\n",
       "      <td>Mezase!! Tsuri Master DS</td>\n",
       "      <td>DS</td>\n",
       "      <td>2009</td>\n",
       "      <td>Sports</td>\n",
       "      <td>0.00</td>\n",
       "      <td>0.00</td>\n",
       "      <td>0.01</td>\n",
       "      <td>0.00</td>\n",
       "      <td>-1.0</td>\n",
       "      <td>-1.0</td>\n",
       "      <td>unknown</td>\n",
       "      <td>0.01</td>\n",
       "    </tr>\n",
       "    <tr>\n",
       "      <th>16704</th>\n",
       "      <td>Plushees</td>\n",
       "      <td>DS</td>\n",
       "      <td>2008</td>\n",
       "      <td>Simulation</td>\n",
       "      <td>0.01</td>\n",
       "      <td>0.00</td>\n",
       "      <td>0.00</td>\n",
       "      <td>0.00</td>\n",
       "      <td>-1.0</td>\n",
       "      <td>-1.0</td>\n",
       "      <td>E</td>\n",
       "      <td>0.01</td>\n",
       "    </tr>\n",
       "    <tr>\n",
       "      <th>16709</th>\n",
       "      <td>SCORE International Baja 1000: The Official Game</td>\n",
       "      <td>PS2</td>\n",
       "      <td>2008</td>\n",
       "      <td>Racing</td>\n",
       "      <td>0.00</td>\n",
       "      <td>0.00</td>\n",
       "      <td>0.00</td>\n",
       "      <td>0.00</td>\n",
       "      <td>-1.0</td>\n",
       "      <td>-1.0</td>\n",
       "      <td>unknown</td>\n",
       "      <td>0.00</td>\n",
       "    </tr>\n",
       "    <tr>\n",
       "      <th>16710</th>\n",
       "      <td>Samurai Warriors: Sanada Maru</td>\n",
       "      <td>PS3</td>\n",
       "      <td>2016</td>\n",
       "      <td>Action</td>\n",
       "      <td>0.00</td>\n",
       "      <td>0.00</td>\n",
       "      <td>0.01</td>\n",
       "      <td>0.00</td>\n",
       "      <td>-1.0</td>\n",
       "      <td>-1.0</td>\n",
       "      <td>unknown</td>\n",
       "      <td>0.01</td>\n",
       "    </tr>\n",
       "    <tr>\n",
       "      <th>16711</th>\n",
       "      <td>LMA Manager 2007</td>\n",
       "      <td>X360</td>\n",
       "      <td>2006</td>\n",
       "      <td>Sports</td>\n",
       "      <td>0.00</td>\n",
       "      <td>0.01</td>\n",
       "      <td>0.00</td>\n",
       "      <td>0.00</td>\n",
       "      <td>-1.0</td>\n",
       "      <td>-1.0</td>\n",
       "      <td>unknown</td>\n",
       "      <td>0.01</td>\n",
       "    </tr>\n",
       "  </tbody>\n",
       "</table>\n",
       "<p>8072 rows × 12 columns</p>\n",
       "</div>"
      ],
      "text/plain": [
       "                                                   name platform  \\\n",
       "0                                            Wii Sports      Wii   \n",
       "2                                        Mario Kart Wii      Wii   \n",
       "3                                     Wii Sports Resort      Wii   \n",
       "6                                 New Super Mario Bros.       DS   \n",
       "7                                              Wii Play      Wii   \n",
       "...                                                 ...      ...   \n",
       "16700                          Mezase!! Tsuri Master DS       DS   \n",
       "16704                                          Plushees       DS   \n",
       "16709  SCORE International Baja 1000: The Official Game      PS2   \n",
       "16710                     Samurai Warriors: Sanada Maru      PS3   \n",
       "16711                                  LMA Manager 2007     X360   \n",
       "\n",
       "       year_of_release       genre  na_sales  eu_sales  jp_sales  other_sales  \\\n",
       "0                 2006      Sports     41.36     28.96      3.77         8.45   \n",
       "2                 2008      Racing     15.68     12.76      3.79         3.29   \n",
       "3                 2009      Sports     15.61     10.93      3.28         2.95   \n",
       "6                 2006    Platform     11.28      9.14      6.50         2.88   \n",
       "7                 2006        Misc     13.96      9.18      2.93         2.84   \n",
       "...                ...         ...       ...       ...       ...          ...   \n",
       "16700             2009      Sports      0.00      0.00      0.01         0.00   \n",
       "16704             2008  Simulation      0.01      0.00      0.00         0.00   \n",
       "16709             2008      Racing      0.00      0.00      0.00         0.00   \n",
       "16710             2016      Action      0.00      0.00      0.01         0.00   \n",
       "16711             2006      Sports      0.00      0.01      0.00         0.00   \n",
       "\n",
       "       critic_score  user_score   rating  all_sales  \n",
       "0              76.0         8.0        E      74.09  \n",
       "2              82.0         8.3        E      32.23  \n",
       "3              80.0         8.0        E      29.82  \n",
       "6              89.0         8.5        E      26.92  \n",
       "7              58.0         6.6        E      26.07  \n",
       "...             ...         ...      ...        ...  \n",
       "16700          -1.0        -1.0  unknown       0.01  \n",
       "16704          -1.0        -1.0        E       0.01  \n",
       "16709          -1.0        -1.0  unknown       0.00  \n",
       "16710          -1.0        -1.0  unknown       0.01  \n",
       "16711          -1.0        -1.0  unknown       0.01  \n",
       "\n",
       "[8072 rows x 12 columns]"
      ]
     },
     "execution_count": 23,
     "metadata": {},
     "output_type": "execute_result"
    }
   ],
   "source": [
    "list_platform = (['PS2', 'X360', 'Wii', 'PS3', 'DS'])\n",
    "df_top_platform = df.query('platform in @list_platform')\n",
    "df_top_platform"
   ]
  },
  {
   "cell_type": "code",
   "execution_count": 24,
   "metadata": {},
   "outputs": [
    {
     "data": {
      "image/png": "[encoded data removed]",
      "text/plain": [
       "<Figure size 1200x600 with 1 Axes>"
      ]
     },
     "metadata": {},
     "output_type": "display_data"
    }
   ],
   "source": [
    "(df_top_platform\n",
    "    .pivot_table(index = 'year_of_release',\n",
    "                 columns = 'platform' , \n",
    "                 values = 'all_sales',\n",
    "                 aggfunc = 'sum')\n",
    " .plot(grid=True,figsize=(12,6)));"
   ]
  },
  {
   "cell_type": "markdown",
   "metadata": {},
   "source": [
    "<div class=\"alert alert-info\" role=\"alert\">\n",
    "В среднем платформа живет около 10 лет.\n",
    "\n",
    "Для прогноза на 2016 год оставим данные от 2014 года.\n",
    "</div>"
   ]
  },
  {
   "cell_type": "code",
   "execution_count": 53,
   "metadata": {},
   "outputs": [
    {
     "data": {
      "image/png": "[encoded data removed]",
      "text/plain": [
       "<Figure size 1200x600 with 1 Axes>"
      ]
     },
     "metadata": {},
     "output_type": "display_data"
    }
   ],
   "source": [
    "df_top_platform = df.query('year_of_release >= 2014')\n",
    "(df_top_platform\n",
    "    .pivot_table(index = 'year_of_release',\n",
    "                 columns = 'platform' , \n",
    "                 values = 'all_sales',\n",
    "                 aggfunc = 'sum')\n",
    " .plot(grid=True,figsize=(12,6),xlabel='platform',ylabel='all_sales'));"
   ]
  },
  {
   "cell_type": "code",
   "execution_count": 26,
   "metadata": {},
   "outputs": [
    {
     "data": {
      "image/png": "[encoded data removed]",
      "text/plain": [
       "<Figure size 640x480 with 1 Axes>"
      ]
     },
     "metadata": {},
     "output_type": "display_data"
    }
   ],
   "source": [
    "sns.boxplot(data= df_top_platform,x='platform',y='all_sales').set_ylim([0, 2]);"
   ]
  },
  {
   "cell_type": "markdown",
   "metadata": {},
   "source": [
    "<div class=\"alert alert-info\" role=\"alert\">\n",
    "Посмотрим на зависимость продаж от рейтингов.\n",
    "</div>"
   ]
  },
  {
   "cell_type": "code",
   "execution_count": 27,
   "metadata": {},
   "outputs": [
    {
     "data": {
      "text/plain": [
       "array(['PS4', '3DS', 'XOne', 'WiiU', 'PS3', 'X360', 'PC', 'Wii', 'PSV',\n",
       "       'PSP'], dtype=object)"
      ]
     },
     "execution_count": 27,
     "metadata": {},
     "output_type": "execute_result"
    }
   ],
   "source": [
    "df_top_platform['platform'].unique()"
   ]
  },
  {
   "cell_type": "code",
   "execution_count": 28,
   "metadata": {},
   "outputs": [],
   "source": [
    "XOne = df_top_platform.query('platform == \"XOne\"')\n",
    "PS4 = df_top_platform.query('platform == \"PS4\"')\n",
    "Wii = df_top_platform.query('platform == \"Wii\"')\n",
    "X360 = df_top_platform.query('platform == \"X360\"')"
   ]
  },
  {
   "cell_type": "code",
   "execution_count": 29,
   "metadata": {},
   "outputs": [
    {
     "data": {
      "text/html": [
       "<div>\n",
       "<style scoped>\n",
       "    .dataframe tbody tr th:only-of-type {\n",
       "        vertical-align: middle;\n",
       "    }\n",
       "\n",
       "    .dataframe tbody tr th {\n",
       "        vertical-align: top;\n",
       "    }\n",
       "\n",
       "    .dataframe thead th {\n",
       "        text-align: right;\n",
       "    }\n",
       "</style>\n",
       "<table border=\"1\" class=\"dataframe\">\n",
       "  <thead>\n",
       "    <tr style=\"text-align: right;\">\n",
       "      <th></th>\n",
       "      <th>critic_score</th>\n",
       "      <th>all_sales</th>\n",
       "    </tr>\n",
       "  </thead>\n",
       "  <tbody>\n",
       "    <tr>\n",
       "      <th>critic_score</th>\n",
       "      <td>1.000000</td>\n",
       "      <td>0.271821</td>\n",
       "    </tr>\n",
       "    <tr>\n",
       "      <th>all_sales</th>\n",
       "      <td>0.271821</td>\n",
       "      <td>1.000000</td>\n",
       "    </tr>\n",
       "  </tbody>\n",
       "</table>\n",
       "</div>"
      ],
      "text/plain": [
       "              critic_score  all_sales\n",
       "critic_score      1.000000   0.271821\n",
       "all_sales         0.271821   1.000000"
      ]
     },
     "metadata": {},
     "output_type": "display_data"
    },
    {
     "data": {
      "text/html": [
       "<div>\n",
       "<style scoped>\n",
       "    .dataframe tbody tr th:only-of-type {\n",
       "        vertical-align: middle;\n",
       "    }\n",
       "\n",
       "    .dataframe tbody tr th {\n",
       "        vertical-align: top;\n",
       "    }\n",
       "\n",
       "    .dataframe thead th {\n",
       "        text-align: right;\n",
       "    }\n",
       "</style>\n",
       "<table border=\"1\" class=\"dataframe\">\n",
       "  <thead>\n",
       "    <tr style=\"text-align: right;\">\n",
       "      <th></th>\n",
       "      <th>user_score</th>\n",
       "      <th>all_sales</th>\n",
       "    </tr>\n",
       "  </thead>\n",
       "  <tbody>\n",
       "    <tr>\n",
       "      <th>user_score</th>\n",
       "      <td>1.000000</td>\n",
       "      <td>0.107001</td>\n",
       "    </tr>\n",
       "    <tr>\n",
       "      <th>all_sales</th>\n",
       "      <td>0.107001</td>\n",
       "      <td>1.000000</td>\n",
       "    </tr>\n",
       "  </tbody>\n",
       "</table>\n",
       "</div>"
      ],
      "text/plain": [
       "            user_score  all_sales\n",
       "user_score    1.000000   0.107001\n",
       "all_sales     0.107001   1.000000"
      ]
     },
     "execution_count": 29,
     "metadata": {},
     "output_type": "execute_result"
    },
    {
     "data": {
      "image/png": "[encoded data removed]",
      "text/plain": [
       "<Figure size 1200x600 with 2 Axes>"
      ]
     },
     "metadata": {},
     "output_type": "display_data"
    }
   ],
   "source": [
    "f,axs = plt.subplots(1,2,figsize=(12,6))\n",
    "axs[0].scatter(XOne['critic_score'],XOne['all_sales'])\n",
    "axs[0].grid()\n",
    "axs[0].set_title('Критики')\n",
    "axs[0].set_xlabel('Оценка')\n",
    "axs[0].set_ylabel('Продажи')\n",
    "\n",
    "axs[1].scatter(XOne['user_score'],XOne['all_sales'])\n",
    "axs[1].grid()\n",
    "axs[1].set_title('Пользователи')\n",
    "axs[1].set_xlabel('Оценка')\n",
    "axs[1].set_ylabel('Продажи')\n",
    "\n",
    "plt.suptitle('Продажи к оценке XOne');\n",
    "display(XOne[['critic_score','all_sales']].corr())\n",
    "XOne[['user_score','all_sales']].corr()"
   ]
  },
  {
   "cell_type": "code",
   "execution_count": 30,
   "metadata": {
    "scrolled": false
   },
   "outputs": [
    {
     "data": {
      "text/html": [
       "<div>\n",
       "<style scoped>\n",
       "    .dataframe tbody tr th:only-of-type {\n",
       "        vertical-align: middle;\n",
       "    }\n",
       "\n",
       "    .dataframe tbody tr th {\n",
       "        vertical-align: top;\n",
       "    }\n",
       "\n",
       "    .dataframe thead th {\n",
       "        text-align: right;\n",
       "    }\n",
       "</style>\n",
       "<table border=\"1\" class=\"dataframe\">\n",
       "  <thead>\n",
       "    <tr style=\"text-align: right;\">\n",
       "      <th></th>\n",
       "      <th>critic_score</th>\n",
       "      <th>all_sales</th>\n",
       "    </tr>\n",
       "  </thead>\n",
       "  <tbody>\n",
       "    <tr>\n",
       "      <th>critic_score</th>\n",
       "      <td>1.000000</td>\n",
       "      <td>0.210027</td>\n",
       "    </tr>\n",
       "    <tr>\n",
       "      <th>all_sales</th>\n",
       "      <td>0.210027</td>\n",
       "      <td>1.000000</td>\n",
       "    </tr>\n",
       "  </tbody>\n",
       "</table>\n",
       "</div>"
      ],
      "text/plain": [
       "              critic_score  all_sales\n",
       "critic_score      1.000000   0.210027\n",
       "all_sales         0.210027   1.000000"
      ]
     },
     "metadata": {},
     "output_type": "display_data"
    },
    {
     "data": {
      "text/html": [
       "<div>\n",
       "<style scoped>\n",
       "    .dataframe tbody tr th:only-of-type {\n",
       "        vertical-align: middle;\n",
       "    }\n",
       "\n",
       "    .dataframe tbody tr th {\n",
       "        vertical-align: top;\n",
       "    }\n",
       "\n",
       "    .dataframe thead th {\n",
       "        text-align: right;\n",
       "    }\n",
       "</style>\n",
       "<table border=\"1\" class=\"dataframe\">\n",
       "  <thead>\n",
       "    <tr style=\"text-align: right;\">\n",
       "      <th></th>\n",
       "      <th>user_score</th>\n",
       "      <th>all_sales</th>\n",
       "    </tr>\n",
       "  </thead>\n",
       "  <tbody>\n",
       "    <tr>\n",
       "      <th>user_score</th>\n",
       "      <td>1.000000</td>\n",
       "      <td>0.103328</td>\n",
       "    </tr>\n",
       "    <tr>\n",
       "      <th>all_sales</th>\n",
       "      <td>0.103328</td>\n",
       "      <td>1.000000</td>\n",
       "    </tr>\n",
       "  </tbody>\n",
       "</table>\n",
       "</div>"
      ],
      "text/plain": [
       "            user_score  all_sales\n",
       "user_score    1.000000   0.103328\n",
       "all_sales     0.103328   1.000000"
      ]
     },
     "execution_count": 30,
     "metadata": {},
     "output_type": "execute_result"
    },
    {
     "data": {
      "image/png": "[encoded data removed]",
      "text/plain": [
       "<Figure size 1200x600 with 2 Axes>"
      ]
     },
     "metadata": {},
     "output_type": "display_data"
    }
   ],
   "source": [
    "f,axs = plt.subplots(1,2,figsize=(12,6))\n",
    "axs[0].scatter(PS4['critic_score'],PS4['all_sales'])\n",
    "axs[0].grid()\n",
    "axs[0].set_title('Критики')\n",
    "axs[0].set_xlabel('Оценка')\n",
    "axs[0].set_ylabel('Продажи')\n",
    "\n",
    "axs[1].scatter(PS4['user_score'],PS4['all_sales'])\n",
    "axs[1].grid()\n",
    "axs[1].set_title('Пользователи')\n",
    "axs[1].set_xlabel('Оценка')\n",
    "axs[1].set_ylabel('Продажи')\n",
    "\n",
    "plt.suptitle('Продажи к оценке PS4');\n",
    "display(PS4[['critic_score','all_sales']].corr())\n",
    "PS4[['user_score','all_sales']].corr()"
   ]
  },
  {
   "cell_type": "code",
   "execution_count": 31,
   "metadata": {},
   "outputs": [
    {
     "data": {
      "text/html": [
       "<div>\n",
       "<style scoped>\n",
       "    .dataframe tbody tr th:only-of-type {\n",
       "        vertical-align: middle;\n",
       "    }\n",
       "\n",
       "    .dataframe tbody tr th {\n",
       "        vertical-align: top;\n",
       "    }\n",
       "\n",
       "    .dataframe thead th {\n",
       "        text-align: right;\n",
       "    }\n",
       "</style>\n",
       "<table border=\"1\" class=\"dataframe\">\n",
       "  <thead>\n",
       "    <tr style=\"text-align: right;\">\n",
       "      <th></th>\n",
       "      <th>critic_score</th>\n",
       "      <th>all_sales</th>\n",
       "    </tr>\n",
       "  </thead>\n",
       "  <tbody>\n",
       "    <tr>\n",
       "      <th>critic_score</th>\n",
       "      <td>NaN</td>\n",
       "      <td>NaN</td>\n",
       "    </tr>\n",
       "    <tr>\n",
       "      <th>all_sales</th>\n",
       "      <td>NaN</td>\n",
       "      <td>1.0</td>\n",
       "    </tr>\n",
       "  </tbody>\n",
       "</table>\n",
       "</div>"
      ],
      "text/plain": [
       "              critic_score  all_sales\n",
       "critic_score           NaN        NaN\n",
       "all_sales              NaN        1.0"
      ]
     },
     "metadata": {},
     "output_type": "display_data"
    },
    {
     "data": {
      "text/html": [
       "<div>\n",
       "<style scoped>\n",
       "    .dataframe tbody tr th:only-of-type {\n",
       "        vertical-align: middle;\n",
       "    }\n",
       "\n",
       "    .dataframe tbody tr th {\n",
       "        vertical-align: top;\n",
       "    }\n",
       "\n",
       "    .dataframe thead th {\n",
       "        text-align: right;\n",
       "    }\n",
       "</style>\n",
       "<table border=\"1\" class=\"dataframe\">\n",
       "  <thead>\n",
       "    <tr style=\"text-align: right;\">\n",
       "      <th></th>\n",
       "      <th>user_score</th>\n",
       "      <th>all_sales</th>\n",
       "    </tr>\n",
       "  </thead>\n",
       "  <tbody>\n",
       "    <tr>\n",
       "      <th>user_score</th>\n",
       "      <td>1.000000</td>\n",
       "      <td>0.776584</td>\n",
       "    </tr>\n",
       "    <tr>\n",
       "      <th>all_sales</th>\n",
       "      <td>0.776584</td>\n",
       "      <td>1.000000</td>\n",
       "    </tr>\n",
       "  </tbody>\n",
       "</table>\n",
       "</div>"
      ],
      "text/plain": [
       "            user_score  all_sales\n",
       "user_score    1.000000   0.776584\n",
       "all_sales     0.776584   1.000000"
      ]
     },
     "execution_count": 31,
     "metadata": {},
     "output_type": "execute_result"
    },
    {
     "data": {
      "image/png": "[encoded data removed]",
      "text/plain": [
       "<Figure size 1200x600 with 2 Axes>"
      ]
     },
     "metadata": {},
     "output_type": "display_data"
    }
   ],
   "source": [
    "f,axs = plt.subplots(1,2,figsize=(12,6))\n",
    "axs[0].scatter(Wii['critic_score'],Wii['all_sales'])\n",
    "axs[0].grid()\n",
    "axs[0].set_title('Критики')\n",
    "axs[0].set_xlabel('Оценка')\n",
    "axs[0].set_ylabel('Продажи')\n",
    "\n",
    "axs[1].scatter(Wii['user_score'],Wii['all_sales'])\n",
    "axs[1].grid()\n",
    "axs[1].set_title('Пользователи')\n",
    "axs[1].set_xlabel('Оценка')\n",
    "axs[1].set_ylabel('Продажи')\n",
    "\n",
    "plt.suptitle('Продажи к оценке Wii');\n",
    "display(Wii[['critic_score','all_sales']].corr())\n",
    "Wii[['user_score','all_sales']].corr()"
   ]
  },
  {
   "cell_type": "code",
   "execution_count": 32,
   "metadata": {},
   "outputs": [
    {
     "data": {
      "text/html": [
       "<div>\n",
       "<style scoped>\n",
       "    .dataframe tbody tr th:only-of-type {\n",
       "        vertical-align: middle;\n",
       "    }\n",
       "\n",
       "    .dataframe tbody tr th {\n",
       "        vertical-align: top;\n",
       "    }\n",
       "\n",
       "    .dataframe thead th {\n",
       "        text-align: right;\n",
       "    }\n",
       "</style>\n",
       "<table border=\"1\" class=\"dataframe\">\n",
       "  <thead>\n",
       "    <tr style=\"text-align: right;\">\n",
       "      <th></th>\n",
       "      <th>critic_score</th>\n",
       "      <th>all_sales</th>\n",
       "    </tr>\n",
       "  </thead>\n",
       "  <tbody>\n",
       "    <tr>\n",
       "      <th>critic_score</th>\n",
       "      <td>1.000000</td>\n",
       "      <td>0.004142</td>\n",
       "    </tr>\n",
       "    <tr>\n",
       "      <th>all_sales</th>\n",
       "      <td>0.004142</td>\n",
       "      <td>1.000000</td>\n",
       "    </tr>\n",
       "  </tbody>\n",
       "</table>\n",
       "</div>"
      ],
      "text/plain": [
       "              critic_score  all_sales\n",
       "critic_score      1.000000   0.004142\n",
       "all_sales         0.004142   1.000000"
      ]
     },
     "metadata": {},
     "output_type": "display_data"
    },
    {
     "data": {
      "text/html": [
       "<div>\n",
       "<style scoped>\n",
       "    .dataframe tbody tr th:only-of-type {\n",
       "        vertical-align: middle;\n",
       "    }\n",
       "\n",
       "    .dataframe tbody tr th {\n",
       "        vertical-align: top;\n",
       "    }\n",
       "\n",
       "    .dataframe thead th {\n",
       "        text-align: right;\n",
       "    }\n",
       "</style>\n",
       "<table border=\"1\" class=\"dataframe\">\n",
       "  <thead>\n",
       "    <tr style=\"text-align: right;\">\n",
       "      <th></th>\n",
       "      <th>user_score</th>\n",
       "      <th>all_sales</th>\n",
       "    </tr>\n",
       "  </thead>\n",
       "  <tbody>\n",
       "    <tr>\n",
       "      <th>user_score</th>\n",
       "      <td>1.000000</td>\n",
       "      <td>0.083493</td>\n",
       "    </tr>\n",
       "    <tr>\n",
       "      <th>all_sales</th>\n",
       "      <td>0.083493</td>\n",
       "      <td>1.000000</td>\n",
       "    </tr>\n",
       "  </tbody>\n",
       "</table>\n",
       "</div>"
      ],
      "text/plain": [
       "            user_score  all_sales\n",
       "user_score    1.000000   0.083493\n",
       "all_sales     0.083493   1.000000"
      ]
     },
     "execution_count": 32,
     "metadata": {},
     "output_type": "execute_result"
    },
    {
     "data": {
      "image/png": "[encoded data removed]",
      "text/plain": [
       "<Figure size 1200x600 with 2 Axes>"
      ]
     },
     "metadata": {},
     "output_type": "display_data"
    }
   ],
   "source": [
    "f,axs = plt.subplots(1,2,figsize=(12,6))\n",
    "axs[0].scatter(X360['critic_score'],X360['all_sales'])\n",
    "axs[0].grid()\n",
    "axs[0].set_title('Критики')\n",
    "axs[0].set_xlabel('Оценка')\n",
    "axs[0].set_ylabel('Продажи')\n",
    "\n",
    "axs[1].scatter(X360['user_score'],X360['all_sales'])\n",
    "axs[1].grid()\n",
    "axs[1].set_title('Пользователи')\n",
    "axs[1].set_xlabel('Оценка')\n",
    "axs[1].set_ylabel('Продажи')\n",
    "\n",
    "plt.suptitle('Продажи к оценке X360');\n",
    "display(X360[['critic_score','all_sales']].corr())\n",
    "X360[['user_score','all_sales']].corr()"
   ]
  },
  {
   "cell_type": "markdown",
   "metadata": {},
   "source": [
    "<div class=\"alert alert-info\" role=\"alert\">\n",
    "По графикам видно: есть небольшая связь продаж от оценки пользователей Wii.По остальным связь очень мало,почти нет. \n",
    "</div>"
   ]
  },
  {
   "cell_type": "markdown",
   "metadata": {},
   "source": [
    "<div class=\"alert alert-info\" role=\"alert\">\n",
    "Посмотрим доходность по жанрам.\n",
    "</div>"
   ]
  },
  {
   "cell_type": "code",
   "execution_count": 33,
   "metadata": {},
   "outputs": [
    {
     "data": {
      "text/plain": [
       "genre\n",
       "Action          176.79\n",
       "Shooter         149.41\n",
       "Sports           95.12\n",
       "Role-Playing     92.80\n",
       "Misc             33.52\n",
       "Fighting         25.49\n",
       "Racing           24.63\n",
       "Platform         16.28\n",
       "Adventure        15.73\n",
       "Simulation       12.24\n",
       "Strategy          3.72\n",
       "Puzzle            2.10\n",
       "Name: all_sales, dtype: float64"
      ]
     },
     "execution_count": 33,
     "metadata": {},
     "output_type": "execute_result"
    }
   ],
   "source": [
    "df_top_platform.groupby('genre')['all_sales'].sum().sort_values(ascending=False)"
   ]
  },
  {
   "cell_type": "code",
   "execution_count": 34,
   "metadata": {},
   "outputs": [
    {
     "data": {
      "text/plain": [
       "genre\n",
       "Shooter         0.475\n",
       "Sports          0.170\n",
       "Fighting        0.115\n",
       "Platform        0.115\n",
       "Role-Playing    0.100\n",
       "Simulation      0.095\n",
       "Misc            0.090\n",
       "Action          0.080\n",
       "Racing          0.080\n",
       "Strategy        0.060\n",
       "Puzzle          0.045\n",
       "Adventure       0.030\n",
       "Name: all_sales, dtype: float64"
      ]
     },
     "execution_count": 34,
     "metadata": {},
     "output_type": "execute_result"
    }
   ],
   "source": [
    "df_top_platform.groupby('genre')['all_sales'].median().sort_values(ascending=False)"
   ]
  },
  {
   "cell_type": "code",
   "execution_count": 35,
   "metadata": {},
   "outputs": [
    {
     "data": {
      "text/plain": [
       "genre\n",
       "Shooter         1.167266\n",
       "Sports          0.590807\n",
       "Platform        0.428421\n",
       "Fighting        0.424833\n",
       "Role-Playing    0.419910\n",
       "Racing          0.356957\n",
       "Misc            0.296637\n",
       "Action          0.285606\n",
       "Simulation      0.278182\n",
       "Puzzle          0.150000\n",
       "Strategy        0.100541\n",
       "Adventure       0.085027\n",
       "Name: all_sales, dtype: float64"
      ]
     },
     "execution_count": 35,
     "metadata": {},
     "output_type": "execute_result"
    }
   ],
   "source": [
    "df_top_platform.groupby('genre')['all_sales'].mean().sort_values(ascending=False)"
   ]
  },
  {
   "cell_type": "markdown",
   "metadata": {},
   "source": [
    "<div class=\"alert alert-info\" role=\"alert\">\n",
    "Больше всего заплатили за Action,по среднем и медиане на игру лидирует Shooter              \n",
    "</div>"
   ]
  },
  {
   "cell_type": "markdown",
   "metadata": {
    "id": "SjYF6Ub9_Zct"
   },
   "source": [
    "## 4 портрет пользователя каждого региона\n"
   ]
  },
  {
   "cell_type": "code",
   "execution_count": 36,
   "metadata": {},
   "outputs": [
    {
     "data": {
      "text/plain": [
       "platform\n",
       "PS4     98.61\n",
       "XOne    81.27\n",
       "X360    28.30\n",
       "3DS     22.64\n",
       "PS3     22.05\n",
       "Name: na_sales, dtype: float64"
      ]
     },
     "execution_count": 36,
     "metadata": {},
     "output_type": "execute_result"
    }
   ],
   "source": [
    "df_top_platform.groupby('platform')['na_sales'].sum().sort_values(ascending=False).head()"
   ]
  },
  {
   "cell_type": "code",
   "execution_count": 37,
   "metadata": {},
   "outputs": [
    {
     "data": {
      "text/plain": [
       "genre\n",
       "Shooter         79.02\n",
       "Action          72.53\n",
       "Sports          46.13\n",
       "Role-Playing    33.47\n",
       "Misc            15.05\n",
       "Name: na_sales, dtype: float64"
      ]
     },
     "execution_count": 37,
     "metadata": {},
     "output_type": "execute_result"
    }
   ],
   "source": [
    "df_top_platform.groupby('genre')['na_sales'].sum().sort_values(ascending=False).head()"
   ]
  },
  {
   "cell_type": "code",
   "execution_count": 38,
   "metadata": {},
   "outputs": [
    {
     "data": {
      "text/plain": [
       "rating\n",
       "M          96.42\n",
       "unknown    64.72\n",
       "E          50.74\n",
       "T          38.95\n",
       "E10+       33.23\n",
       "Name: na_sales, dtype: float64"
      ]
     },
     "execution_count": 38,
     "metadata": {},
     "output_type": "execute_result"
    }
   ],
   "source": [
    "df_top_platform.groupby('rating')['na_sales'].sum().sort_values(ascending=False)"
   ]
  },
  {
   "cell_type": "markdown",
   "metadata": {},
   "source": [
    "<div class=\"alert alert-info\" role=\"alert\">\n",
    "Американцы больше всего заплатили за Shooter на PS4,преобладают игры с рейтингом ESRB 'M'.\n",
    "</div>"
   ]
  },
  {
   "cell_type": "code",
   "execution_count": 39,
   "metadata": {},
   "outputs": [
    {
     "data": {
      "text/plain": [
       "platform\n",
       "PS4     130.04\n",
       "XOne     46.25\n",
       "PS3      25.54\n",
       "PC       17.97\n",
       "3DS      16.12\n",
       "Name: eu_sales, dtype: float64"
      ]
     },
     "execution_count": 39,
     "metadata": {},
     "output_type": "execute_result"
    }
   ],
   "source": [
    "df_top_platform.groupby('platform')['eu_sales'].sum().sort_values(ascending=False).head()"
   ]
  },
  {
   "cell_type": "code",
   "execution_count": 40,
   "metadata": {
    "scrolled": true
   },
   "outputs": [
    {
     "data": {
      "text/plain": [
       "genre\n",
       "Action          74.68\n",
       "Shooter         65.52\n",
       "Sports          45.73\n",
       "Role-Playing    28.17\n",
       "Racing          14.13\n",
       "Name: eu_sales, dtype: float64"
      ]
     },
     "execution_count": 40,
     "metadata": {},
     "output_type": "execute_result"
    }
   ],
   "source": [
    "df_top_platform.groupby('genre')['eu_sales'].sum().sort_values(ascending=False).head()"
   ]
  },
  {
   "cell_type": "code",
   "execution_count": 41,
   "metadata": {},
   "outputs": [
    {
     "data": {
      "text/plain": [
       "rating\n",
       "M          93.44\n",
       "unknown    58.95\n",
       "E          58.06\n",
       "T          34.07\n",
       "E10+       26.16\n",
       "Name: eu_sales, dtype: float64"
      ]
     },
     "execution_count": 41,
     "metadata": {},
     "output_type": "execute_result"
    }
   ],
   "source": [
    "df_top_platform.groupby('rating')['eu_sales'].sum().sort_values(ascending=False)"
   ]
  },
  {
   "cell_type": "markdown",
   "metadata": {},
   "source": [
    "<div class=\"alert alert-info\" role=\"alert\">\n",
    "Американцы и европейцы больше всего заплатили за Shooter на PS4,преобладают игры с рейтингом ESRB 'M'.\n",
    "</div>"
   ]
  },
  {
   "cell_type": "code",
   "execution_count": 42,
   "metadata": {},
   "outputs": [
    {
     "data": {
      "text/plain": [
       "platform\n",
       "3DS     44.24\n",
       "PS4     15.02\n",
       "PSV     14.54\n",
       "PS3     11.22\n",
       "WiiU     7.31\n",
       "Name: jp_sales, dtype: float64"
      ]
     },
     "execution_count": 42,
     "metadata": {},
     "output_type": "execute_result"
    }
   ],
   "source": [
    "df_top_platform.groupby('platform')['jp_sales'].sum().sort_values(ascending=False).head()"
   ]
  },
  {
   "cell_type": "code",
   "execution_count": 43,
   "metadata": {},
   "outputs": [
    {
     "data": {
      "text/plain": [
       "genre\n",
       "Role-Playing    31.16\n",
       "Action          29.58\n",
       "Fighting         6.37\n",
       "Misc             5.61\n",
       "Shooter          4.87\n",
       "Name: jp_sales, dtype: float64"
      ]
     },
     "execution_count": 43,
     "metadata": {},
     "output_type": "execute_result"
    }
   ],
   "source": [
    "df_top_platform.groupby('genre')['jp_sales'].sum().sort_values(ascending=False).head()"
   ]
  },
  {
   "cell_type": "code",
   "execution_count": 44,
   "metadata": {},
   "outputs": [
    {
     "data": {
      "text/plain": [
       "rating\n",
       "unknown    56.90\n",
       "T          14.78\n",
       "E           8.94\n",
       "M           8.01\n",
       "E10+        4.46\n",
       "Name: jp_sales, dtype: float64"
      ]
     },
     "execution_count": 44,
     "metadata": {},
     "output_type": "execute_result"
    }
   ],
   "source": [
    "df_top_platform.groupby('rating')['jp_sales'].sum().sort_values(ascending=False)"
   ]
  },
  {
   "cell_type": "markdown",
   "metadata": {},
   "source": [
    "<div class=\"alert alert-info\" role=\"alert\">\n",
    "лидером у японцев являются Action,в приоритете используют 3DS платформу.О ESRB судить не получится,пропусков больше половины.\n",
    "</div>"
   ]
  },
  {
   "cell_type": "markdown",
   "metadata": {
    "id": "SjYF6Ub9_Zct"
   },
   "source": [
    "## 5 Проверка гипотез\n"
   ]
  },
  {
   "cell_type": "markdown",
   "metadata": {},
   "source": [
    " H0: Средние пользовательские рейтинги платформ Xbox One и PC равны.\n",
    " \n",
    " H1: Средние пользовательские рейтинги платформ Xbox One и PC не равны."
   ]
  },
  {
   "cell_type": "code",
   "execution_count": 45,
   "metadata": {},
   "outputs": [
    {
     "data": {
      "text/plain": [
       "'Гипотеза верна'"
      ]
     },
     "metadata": {},
     "output_type": "display_data"
    },
    {
     "data": {
      "text/plain": [
       "0.10450648637161196"
      ]
     },
     "metadata": {},
     "output_type": "display_data"
    }
   ],
   "source": [
    "xbox = df_top_platform.query('platform == \"XOne\" & user_score != -1')\n",
    "PC = df_top_platform.query('platform == \"PC\" & user_score != -1')\n",
    "alpha = .05\n",
    "results = st.ttest_ind(xbox['user_score'],PC['user_score'])\n",
    "if results.pvalue < alpha:\n",
    "    display('Отвергаем H0')\n",
    "else:\n",
    "    display('Гипотеза верна')\n",
    "display(results.pvalue)"
   ]
  },
  {
   "cell_type": "markdown",
   "metadata": {},
   "source": [
    "H0: Средние пользовательские рейтинги жанров Action (англ. «действие», экшен-игры) и Sports (англ. «спортивные соревнования») равны.\n",
    "H1:Средние пользовательские рейтинги жанров Action (англ. «действие», экшен-игры) и Sports (англ. «спортивные соревнования»)    не равны."
   ]
  },
  {
   "cell_type": "code",
   "execution_count": 46,
   "metadata": {},
   "outputs": [
    {
     "data": {
      "text/plain": [
       "'Отвергаем H0'"
      ]
     },
     "metadata": {},
     "output_type": "display_data"
    },
    {
     "data": {
      "text/plain": [
       "2.871148452488903e-19"
      ]
     },
     "metadata": {},
     "output_type": "display_data"
    }
   ],
   "source": [
    "action = df_top_platform.query('genre == \"Action\" & user_score != -1')\n",
    "sports = df_top_platform.query('genre == \"Sports\" & user_score != -1')\n",
    "alpha = .05\n",
    "results = st.ttest_ind(action['user_score'],sports['user_score'])\n",
    "if results.pvalue < alpha:\n",
    "    display('Отвергаем H0')\n",
    "else:\n",
    "    display('Гипотеза верна')\n",
    "display(results.pvalue)"
   ]
  },
  {
   "cell_type": "code",
   "execution_count": 47,
   "metadata": {},
   "outputs": [
    {
     "data": {
      "text/plain": [
       "platform\n",
       "PSP    -1.000000\n",
       "Wii     0.336364\n",
       "3DS     1.111321\n",
       "PSV     1.142034\n",
       "PS3     2.138813\n",
       "PS4     4.038298\n",
       "X360    4.063063\n",
       "WiiU    4.317808\n",
       "XOne    4.496053\n",
       "PC      4.896689\n",
       "Name: user_score, dtype: float32"
      ]
     },
     "execution_count": 47,
     "metadata": {},
     "output_type": "execute_result"
    }
   ],
   "source": [
    "df_top_platform.groupby('platform')['user_score'].mean().sort_values()"
   ]
  },
  {
   "cell_type": "markdown",
   "metadata": {},
   "source": [
    "<div class=\"alert alert-info\" role=\"alert\">\n",
    "Гипотеза о том что средние пользовательские рейтинги платформ Xbox One и PC равны,верна\n",
    "    \n",
    "Гипотеза о том что Action и Sports имеют значимые различия в пользовательских рейтингах верна.\n",
    "</div>"
   ]
  },
  {
   "cell_type": "markdown",
   "metadata": {
    "id": "SjYF6Ub9_Zct"
   },
   "source": [
    "## 6 Вывод\n"
   ]
  },
  {
   "cell_type": "markdown",
   "metadata": {},
   "source": [
    "Загрузили и обработали дуюликаты и пропуски,большую часть удалось заполнить заглушками.\n",
    "\n",
    "Построили графики и проанализировали данные,рассмотрели важность признаков разных платформ,стран,жанров по истории продаж игр до 2016 года.Для прогноза продаж на 2017 можем сделать следующие выводы:\n",
    "\n",
    "    -- Для американцев и европецев упор нужен на Shooter на платформах X360 и PS4.\n",
    "    \n",
    "    -- Лучший способ заинтересовать японца,предложить ему Action на платформе DS3.\n",
    "    \n",
    "    -- Игры категории \"M\" будут рентабельней.\n",
    "    \n",
    "    --Можно сильно не придерживаться рейтингов пользователей и критиков.Продажи и рейтинги оказались слабо связаны (это не относится к отдельно сильно выдающимся играм)\n",
    "\n",
    "Проверили 2 гипотезы: \n",
    "\n",
    "    -- H0: Средние пользовательские рейтинги платформ Xbox One и PC равны. Результат: гипотеза верна\n",
    "    -- H1: Средние пользовательские рейтинги платформ Xbox One и PC не равны. Результат: гипотеза не верна"
   ]
  }
 ],
 "metadata": {
  "ExecuteTimeLog": [
   {
    "duration": 1146,
    "start_time": "2022-05-23T16:15:59.927Z"
   },
   {
    "duration": 124,
    "start_time": "2022-05-23T16:16:01.075Z"
   },
   {
    "duration": 0,
    "start_time": "2022-05-23T16:16:01.202Z"
   },
   {
    "duration": 0,
    "start_time": "2022-05-23T16:16:01.203Z"
   },
   {
    "duration": 0,
    "start_time": "2022-05-23T16:16:01.205Z"
   },
   {
    "duration": 0,
    "start_time": "2022-05-23T16:16:01.207Z"
   },
   {
    "duration": 0,
    "start_time": "2022-05-23T16:16:01.208Z"
   },
   {
    "duration": 0,
    "start_time": "2022-05-23T16:16:01.223Z"
   },
   {
    "duration": 1,
    "start_time": "2022-05-23T16:16:01.224Z"
   },
   {
    "duration": 0,
    "start_time": "2022-05-23T16:16:01.226Z"
   },
   {
    "duration": 0,
    "start_time": "2022-05-23T16:16:01.227Z"
   },
   {
    "duration": 0,
    "start_time": "2022-05-23T16:16:01.228Z"
   },
   {
    "duration": 0,
    "start_time": "2022-05-23T16:16:01.229Z"
   },
   {
    "duration": 0,
    "start_time": "2022-05-23T16:16:01.230Z"
   },
   {
    "duration": 0,
    "start_time": "2022-05-23T16:16:01.231Z"
   },
   {
    "duration": 0,
    "start_time": "2022-05-23T16:16:01.232Z"
   },
   {
    "duration": 0,
    "start_time": "2022-05-23T16:16:01.233Z"
   },
   {
    "duration": 0,
    "start_time": "2022-05-23T16:16:01.234Z"
   },
   {
    "duration": 0,
    "start_time": "2022-05-23T16:16:01.235Z"
   },
   {
    "duration": 0,
    "start_time": "2022-05-23T16:16:01.236Z"
   },
   {
    "duration": 0,
    "start_time": "2022-05-23T16:16:01.237Z"
   },
   {
    "duration": 0,
    "start_time": "2022-05-23T16:16:01.238Z"
   },
   {
    "duration": 0,
    "start_time": "2022-05-23T16:16:01.239Z"
   },
   {
    "duration": 0,
    "start_time": "2022-05-23T16:16:01.240Z"
   },
   {
    "duration": 0,
    "start_time": "2022-05-23T16:16:01.241Z"
   },
   {
    "duration": 0,
    "start_time": "2022-05-23T16:16:01.242Z"
   },
   {
    "duration": 0,
    "start_time": "2022-05-23T16:16:01.243Z"
   },
   {
    "duration": 0,
    "start_time": "2022-05-23T16:16:01.244Z"
   },
   {
    "duration": 0,
    "start_time": "2022-05-23T16:16:01.245Z"
   },
   {
    "duration": 0,
    "start_time": "2022-05-23T16:16:01.248Z"
   },
   {
    "duration": 1,
    "start_time": "2022-05-23T16:16:01.248Z"
   },
   {
    "duration": 0,
    "start_time": "2022-05-23T16:16:01.249Z"
   },
   {
    "duration": 0,
    "start_time": "2022-05-23T16:16:01.251Z"
   },
   {
    "duration": 0,
    "start_time": "2022-05-23T16:16:01.252Z"
   },
   {
    "duration": 0,
    "start_time": "2022-05-23T16:16:01.253Z"
   },
   {
    "duration": 0,
    "start_time": "2022-05-23T16:16:01.255Z"
   },
   {
    "duration": 0,
    "start_time": "2022-05-23T16:16:01.256Z"
   },
   {
    "duration": 0,
    "start_time": "2022-05-23T16:16:01.257Z"
   },
   {
    "duration": 0,
    "start_time": "2022-05-23T16:16:01.258Z"
   },
   {
    "duration": 0,
    "start_time": "2022-05-23T16:16:01.259Z"
   },
   {
    "duration": 0,
    "start_time": "2022-05-23T16:16:01.260Z"
   },
   {
    "duration": 0,
    "start_time": "2022-05-23T16:16:01.260Z"
   },
   {
    "duration": 0,
    "start_time": "2022-05-23T16:16:01.261Z"
   },
   {
    "duration": 0,
    "start_time": "2022-05-23T16:16:01.262Z"
   },
   {
    "duration": 0,
    "start_time": "2022-05-23T16:16:01.263Z"
   },
   {
    "duration": 0,
    "start_time": "2022-05-23T16:16:01.264Z"
   },
   {
    "duration": 0,
    "start_time": "2022-05-23T16:16:01.264Z"
   },
   {
    "duration": 0,
    "start_time": "2022-05-23T16:16:01.265Z"
   },
   {
    "duration": 0,
    "start_time": "2022-05-23T16:16:01.323Z"
   },
   {
    "duration": 0,
    "start_time": "2022-05-23T16:16:01.325Z"
   },
   {
    "duration": 0,
    "start_time": "2022-05-23T16:16:01.327Z"
   },
   {
    "duration": 16,
    "start_time": "2022-05-23T16:16:20.617Z"
   },
   {
    "duration": 15,
    "start_time": "2022-05-23T16:16:26.114Z"
   },
   {
    "duration": 135,
    "start_time": "2022-05-23T16:17:18.017Z"
   },
   {
    "duration": 1193,
    "start_time": "2022-05-23T16:17:25.761Z"
   },
   {
    "duration": 80,
    "start_time": "2022-05-23T16:17:26.956Z"
   },
   {
    "duration": 15,
    "start_time": "2022-05-23T16:17:27.037Z"
   },
   {
    "duration": 24,
    "start_time": "2022-05-23T16:17:27.054Z"
   },
   {
    "duration": 11,
    "start_time": "2022-05-23T16:17:27.080Z"
   },
   {
    "duration": 5,
    "start_time": "2022-05-23T16:17:27.093Z"
   },
   {
    "duration": 23,
    "start_time": "2022-05-23T16:17:27.100Z"
   },
   {
    "duration": 34,
    "start_time": "2022-05-23T16:17:27.125Z"
   },
   {
    "duration": 20,
    "start_time": "2022-05-23T16:17:27.161Z"
   },
   {
    "duration": 48,
    "start_time": "2022-05-23T16:17:27.183Z"
   },
   {
    "duration": 7,
    "start_time": "2022-05-23T16:17:27.233Z"
   },
   {
    "duration": 15,
    "start_time": "2022-05-23T16:17:27.241Z"
   },
   {
    "duration": 15,
    "start_time": "2022-05-23T16:17:27.258Z"
   },
   {
    "duration": 7,
    "start_time": "2022-05-23T16:17:27.275Z"
   },
   {
    "duration": 40,
    "start_time": "2022-05-23T16:17:27.284Z"
   },
   {
    "duration": 23,
    "start_time": "2022-05-23T16:17:27.327Z"
   },
   {
    "duration": 6,
    "start_time": "2022-05-23T16:17:27.353Z"
   },
   {
    "duration": 13,
    "start_time": "2022-05-23T16:17:27.361Z"
   },
   {
    "duration": 15,
    "start_time": "2022-05-23T16:17:27.376Z"
   },
   {
    "duration": 44,
    "start_time": "2022-05-23T16:17:27.393Z"
   },
   {
    "duration": 23,
    "start_time": "2022-05-23T16:17:27.439Z"
   },
   {
    "duration": 25,
    "start_time": "2022-05-23T16:17:27.464Z"
   },
   {
    "duration": 41,
    "start_time": "2022-05-23T16:17:27.491Z"
   },
   {
    "duration": 8,
    "start_time": "2022-05-23T16:17:27.533Z"
   },
   {
    "duration": 192,
    "start_time": "2022-05-23T16:17:27.543Z"
   },
   {
    "duration": 14,
    "start_time": "2022-05-23T16:17:27.737Z"
   },
   {
    "duration": 8,
    "start_time": "2022-05-23T16:17:27.753Z"
   },
   {
    "duration": 30,
    "start_time": "2022-05-23T16:17:27.765Z"
   },
   {
    "duration": 320,
    "start_time": "2022-05-23T16:17:27.824Z"
   },
   {
    "duration": 232,
    "start_time": "2022-05-23T16:17:28.145Z"
   },
   {
    "duration": 184,
    "start_time": "2022-05-23T16:17:28.379Z"
   },
   {
    "duration": 14,
    "start_time": "2022-05-23T16:17:28.565Z"
   },
   {
    "duration": 339,
    "start_time": "2022-05-23T16:17:28.580Z"
   },
   {
    "duration": 377,
    "start_time": "2022-05-23T16:17:28.922Z"
   },
   {
    "duration": 348,
    "start_time": "2022-05-23T16:17:29.301Z"
   },
   {
    "duration": 348,
    "start_time": "2022-05-23T16:17:29.651Z"
   },
   {
    "duration": 437,
    "start_time": "2022-05-23T16:17:30.000Z"
   },
   {
    "duration": 16,
    "start_time": "2022-05-23T16:17:30.440Z"
   },
   {
    "duration": 24,
    "start_time": "2022-05-23T16:17:30.457Z"
   },
   {
    "duration": 14,
    "start_time": "2022-05-23T16:17:30.483Z"
   },
   {
    "duration": 12,
    "start_time": "2022-05-23T16:17:30.499Z"
   },
   {
    "duration": 21,
    "start_time": "2022-05-23T16:17:30.512Z"
   },
   {
    "duration": 19,
    "start_time": "2022-05-23T16:17:30.535Z"
   },
   {
    "duration": 13,
    "start_time": "2022-05-23T16:17:30.556Z"
   },
   {
    "duration": 30,
    "start_time": "2022-05-23T16:17:30.570Z"
   },
   {
    "duration": 16,
    "start_time": "2022-05-23T16:17:30.601Z"
   },
   {
    "duration": 19,
    "start_time": "2022-05-23T16:17:30.619Z"
   },
   {
    "duration": 36,
    "start_time": "2022-05-23T16:17:30.640Z"
   },
   {
    "duration": 16,
    "start_time": "2022-05-23T16:17:30.678Z"
   },
   {
    "duration": 28,
    "start_time": "2022-05-23T16:17:30.696Z"
   },
   {
    "duration": 25,
    "start_time": "2022-05-23T16:17:30.726Z"
   },
   {
    "duration": 11,
    "start_time": "2022-05-23T16:23:30.359Z"
   },
   {
    "duration": 700,
    "start_time": "2022-05-23T16:23:47.407Z"
   },
   {
    "duration": 19,
    "start_time": "2022-05-23T16:24:28.207Z"
   },
   {
    "duration": 11,
    "start_time": "2022-05-23T16:25:03.770Z"
   },
   {
    "duration": 26,
    "start_time": "2022-05-23T16:25:13.518Z"
   },
   {
    "duration": 17,
    "start_time": "2022-05-23T16:25:47.320Z"
   },
   {
    "duration": 14,
    "start_time": "2022-05-23T16:26:35.555Z"
   },
   {
    "duration": 16,
    "start_time": "2022-05-23T16:26:47.159Z"
   },
   {
    "duration": 20,
    "start_time": "2022-05-23T16:26:52.620Z"
   },
   {
    "duration": 7,
    "start_time": "2022-05-23T16:53:33.710Z"
   },
   {
    "duration": 18,
    "start_time": "2022-05-23T16:54:02.187Z"
   },
   {
    "duration": 1108,
    "start_time": "2022-05-23T16:56:09.351Z"
   },
   {
    "duration": 78,
    "start_time": "2022-05-23T16:56:10.461Z"
   },
   {
    "duration": 18,
    "start_time": "2022-05-23T16:56:10.541Z"
   },
   {
    "duration": 24,
    "start_time": "2022-05-23T16:56:10.561Z"
   },
   {
    "duration": 36,
    "start_time": "2022-05-23T16:56:10.588Z"
   },
   {
    "duration": 32,
    "start_time": "2022-05-23T16:56:10.626Z"
   },
   {
    "duration": 40,
    "start_time": "2022-05-23T16:56:10.660Z"
   },
   {
    "duration": 24,
    "start_time": "2022-05-23T16:56:10.702Z"
   },
   {
    "duration": 10,
    "start_time": "2022-05-23T16:56:10.727Z"
   },
   {
    "duration": 48,
    "start_time": "2022-05-23T16:56:10.739Z"
   },
   {
    "duration": 17,
    "start_time": "2022-05-23T16:56:10.789Z"
   },
   {
    "duration": 24,
    "start_time": "2022-05-23T16:56:10.808Z"
   },
   {
    "duration": 35,
    "start_time": "2022-05-23T16:56:10.834Z"
   },
   {
    "duration": 28,
    "start_time": "2022-05-23T16:56:10.872Z"
   },
   {
    "duration": 48,
    "start_time": "2022-05-23T16:56:10.902Z"
   },
   {
    "duration": 25,
    "start_time": "2022-05-23T16:56:10.952Z"
   },
   {
    "duration": 30,
    "start_time": "2022-05-23T16:56:10.979Z"
   },
   {
    "duration": 40,
    "start_time": "2022-05-23T16:56:11.011Z"
   },
   {
    "duration": 17,
    "start_time": "2022-05-23T16:56:11.053Z"
   },
   {
    "duration": 17,
    "start_time": "2022-05-23T16:56:11.071Z"
   },
   {
    "duration": 21,
    "start_time": "2022-05-23T16:56:11.090Z"
   },
   {
    "duration": 51,
    "start_time": "2022-05-23T16:56:11.113Z"
   },
   {
    "duration": 36,
    "start_time": "2022-05-23T16:56:11.166Z"
   },
   {
    "duration": 23,
    "start_time": "2022-05-23T16:56:11.203Z"
   },
   {
    "duration": 21,
    "start_time": "2022-05-23T16:56:11.227Z"
   },
   {
    "duration": 23,
    "start_time": "2022-05-23T16:56:11.250Z"
   },
   {
    "duration": 184,
    "start_time": "2022-05-23T16:56:11.275Z"
   },
   {
    "duration": 13,
    "start_time": "2022-05-23T16:56:11.461Z"
   },
   {
    "duration": 19,
    "start_time": "2022-05-23T16:56:11.475Z"
   },
   {
    "duration": 120,
    "start_time": "2022-05-23T16:56:11.495Z"
   },
   {
    "duration": 215,
    "start_time": "2022-05-23T16:56:11.617Z"
   },
   {
    "duration": 225,
    "start_time": "2022-05-23T16:56:11.834Z"
   },
   {
    "duration": 179,
    "start_time": "2022-05-23T16:56:12.060Z"
   },
   {
    "duration": 15,
    "start_time": "2022-05-23T16:56:12.241Z"
   },
   {
    "duration": 353,
    "start_time": "2022-05-23T16:56:12.257Z"
   },
   {
    "duration": 365,
    "start_time": "2022-05-23T16:56:12.612Z"
   },
   {
    "duration": 290,
    "start_time": "2022-05-23T16:56:12.979Z"
   },
   {
    "duration": 296,
    "start_time": "2022-05-23T16:56:13.271Z"
   },
   {
    "duration": 308,
    "start_time": "2022-05-23T16:56:13.569Z"
   },
   {
    "duration": 8,
    "start_time": "2022-05-23T16:56:13.878Z"
   },
   {
    "duration": 10,
    "start_time": "2022-05-23T16:56:13.890Z"
   },
   {
    "duration": 25,
    "start_time": "2022-05-23T16:56:13.901Z"
   },
   {
    "duration": 9,
    "start_time": "2022-05-23T16:56:13.927Z"
   },
   {
    "duration": 21,
    "start_time": "2022-05-23T16:56:13.937Z"
   },
   {
    "duration": 42,
    "start_time": "2022-05-23T16:56:13.960Z"
   },
   {
    "duration": 9,
    "start_time": "2022-05-23T16:56:14.003Z"
   },
   {
    "duration": 28,
    "start_time": "2022-05-23T16:56:14.014Z"
   },
   {
    "duration": 6,
    "start_time": "2022-05-23T16:56:14.044Z"
   },
   {
    "duration": 15,
    "start_time": "2022-05-23T16:56:14.052Z"
   },
   {
    "duration": 31,
    "start_time": "2022-05-23T16:56:14.069Z"
   },
   {
    "duration": 12,
    "start_time": "2022-05-23T16:56:14.102Z"
   },
   {
    "duration": 25,
    "start_time": "2022-05-23T16:56:14.116Z"
   },
   {
    "duration": 20,
    "start_time": "2022-05-23T16:56:14.143Z"
   },
   {
    "duration": 1136,
    "start_time": "2022-05-24T14:28:52.574Z"
   },
   {
    "duration": 73,
    "start_time": "2022-05-24T14:28:53.711Z"
   },
   {
    "duration": 14,
    "start_time": "2022-05-24T14:28:53.785Z"
   },
   {
    "duration": 24,
    "start_time": "2022-05-24T14:28:53.801Z"
   },
   {
    "duration": 11,
    "start_time": "2022-05-24T14:28:53.827Z"
   },
   {
    "duration": 4,
    "start_time": "2022-05-24T14:28:53.840Z"
   },
   {
    "duration": 13,
    "start_time": "2022-05-24T14:28:53.846Z"
   },
   {
    "duration": 5,
    "start_time": "2022-05-24T14:28:53.861Z"
   },
   {
    "duration": 28,
    "start_time": "2022-05-24T14:28:53.867Z"
   },
   {
    "duration": 18,
    "start_time": "2022-05-24T14:28:53.898Z"
   },
   {
    "duration": 4,
    "start_time": "2022-05-24T14:28:53.918Z"
   },
   {
    "duration": 7,
    "start_time": "2022-05-24T14:28:53.924Z"
   },
   {
    "duration": 12,
    "start_time": "2022-05-24T14:28:53.932Z"
   },
   {
    "duration": 18,
    "start_time": "2022-05-24T14:28:53.946Z"
   },
   {
    "duration": 47,
    "start_time": "2022-05-24T14:28:53.966Z"
   },
   {
    "duration": 23,
    "start_time": "2022-05-24T14:28:54.015Z"
   },
   {
    "duration": 12,
    "start_time": "2022-05-24T14:28:54.040Z"
   },
   {
    "duration": 6,
    "start_time": "2022-05-24T14:28:54.054Z"
   },
   {
    "duration": 188,
    "start_time": "2022-05-24T14:28:54.061Z"
   },
   {
    "duration": 14,
    "start_time": "2022-05-24T14:28:54.251Z"
   },
   {
    "duration": 32,
    "start_time": "2022-05-24T14:28:54.267Z"
   },
   {
    "duration": 102,
    "start_time": "2022-05-24T14:28:54.301Z"
   },
   {
    "duration": 221,
    "start_time": "2022-05-24T14:28:54.405Z"
   },
   {
    "duration": 321,
    "start_time": "2022-05-24T14:28:54.628Z"
   },
   {
    "duration": 242,
    "start_time": "2022-05-24T14:28:54.951Z"
   },
   {
    "duration": 5,
    "start_time": "2022-05-24T14:28:55.196Z"
   },
   {
    "duration": 13,
    "start_time": "2022-05-24T14:28:55.203Z"
   },
   {
    "duration": 334,
    "start_time": "2022-05-24T14:28:55.220Z"
   },
   {
    "duration": 271,
    "start_time": "2022-05-24T14:28:55.556Z"
   },
   {
    "duration": 259,
    "start_time": "2022-05-24T14:28:55.828Z"
   },
   {
    "duration": 273,
    "start_time": "2022-05-24T14:28:56.095Z"
   },
   {
    "duration": 8,
    "start_time": "2022-05-24T14:28:56.370Z"
   },
   {
    "duration": 19,
    "start_time": "2022-05-24T14:28:56.380Z"
   },
   {
    "duration": 9,
    "start_time": "2022-05-24T14:28:56.401Z"
   },
   {
    "duration": 9,
    "start_time": "2022-05-24T14:28:56.412Z"
   },
   {
    "duration": 8,
    "start_time": "2022-05-24T14:28:56.423Z"
   },
   {
    "duration": 7,
    "start_time": "2022-05-24T14:28:56.433Z"
   },
   {
    "duration": 8,
    "start_time": "2022-05-24T14:28:56.441Z"
   },
   {
    "duration": 8,
    "start_time": "2022-05-24T14:28:56.450Z"
   },
   {
    "duration": 39,
    "start_time": "2022-05-24T14:28:56.460Z"
   },
   {
    "duration": 10,
    "start_time": "2022-05-24T14:28:56.501Z"
   },
   {
    "duration": 12,
    "start_time": "2022-05-24T14:28:56.513Z"
   },
   {
    "duration": 9,
    "start_time": "2022-05-24T14:28:56.526Z"
   },
   {
    "duration": 14,
    "start_time": "2022-05-24T14:28:56.536Z"
   },
   {
    "duration": 13,
    "start_time": "2022-05-24T14:28:56.551Z"
   },
   {
    "duration": 33,
    "start_time": "2022-05-24T14:28:56.566Z"
   },
   {
    "duration": 1201,
    "start_time": "2022-05-24T14:42:14.768Z"
   },
   {
    "duration": 84,
    "start_time": "2022-05-24T14:42:15.971Z"
   },
   {
    "duration": 14,
    "start_time": "2022-05-24T14:42:16.056Z"
   },
   {
    "duration": 33,
    "start_time": "2022-05-24T14:42:16.072Z"
   },
   {
    "duration": 22,
    "start_time": "2022-05-24T14:42:16.107Z"
   },
   {
    "duration": 20,
    "start_time": "2022-05-24T14:42:16.131Z"
   },
   {
    "duration": 25,
    "start_time": "2022-05-24T14:42:16.153Z"
   },
   {
    "duration": 32,
    "start_time": "2022-05-24T14:42:16.181Z"
   },
   {
    "duration": 27,
    "start_time": "2022-05-24T14:42:16.215Z"
   },
   {
    "duration": 32,
    "start_time": "2022-05-24T14:42:16.244Z"
   },
   {
    "duration": 5,
    "start_time": "2022-05-24T14:42:16.277Z"
   },
   {
    "duration": 26,
    "start_time": "2022-05-24T14:42:16.284Z"
   },
   {
    "duration": 22,
    "start_time": "2022-05-24T14:42:16.312Z"
   },
   {
    "duration": 31,
    "start_time": "2022-05-24T14:42:16.336Z"
   },
   {
    "duration": 20,
    "start_time": "2022-05-24T14:42:16.369Z"
   },
   {
    "duration": 35,
    "start_time": "2022-05-24T14:42:16.391Z"
   },
   {
    "duration": 18,
    "start_time": "2022-05-24T14:42:16.427Z"
   },
   {
    "duration": 9,
    "start_time": "2022-05-24T14:42:16.446Z"
   },
   {
    "duration": 193,
    "start_time": "2022-05-24T14:42:16.456Z"
   },
   {
    "duration": 14,
    "start_time": "2022-05-24T14:42:16.651Z"
   },
   {
    "duration": 26,
    "start_time": "2022-05-24T14:42:16.667Z"
   },
   {
    "duration": 121,
    "start_time": "2022-05-24T14:42:16.700Z"
   },
   {
    "duration": 258,
    "start_time": "2022-05-24T14:42:16.823Z"
   },
   {
    "duration": 386,
    "start_time": "2022-05-24T14:42:17.083Z"
   },
   {
    "duration": 318,
    "start_time": "2022-05-24T14:42:17.471Z"
   },
   {
    "duration": 19,
    "start_time": "2022-05-24T14:42:17.791Z"
   },
   {
    "duration": 15,
    "start_time": "2022-05-24T14:42:17.812Z"
   },
   {
    "duration": 335,
    "start_time": "2022-05-24T14:42:17.831Z"
   },
   {
    "duration": 317,
    "start_time": "2022-05-24T14:42:18.167Z"
   },
   {
    "duration": 300,
    "start_time": "2022-05-24T14:42:18.485Z"
   },
   {
    "duration": 300,
    "start_time": "2022-05-24T14:42:18.787Z"
   },
   {
    "duration": 18,
    "start_time": "2022-05-24T14:42:19.088Z"
   },
   {
    "duration": 12,
    "start_time": "2022-05-24T14:42:19.108Z"
   },
   {
    "duration": 8,
    "start_time": "2022-05-24T14:42:19.121Z"
   },
   {
    "duration": 11,
    "start_time": "2022-05-24T14:42:19.130Z"
   },
   {
    "duration": 7,
    "start_time": "2022-05-24T14:42:19.143Z"
   },
   {
    "duration": 11,
    "start_time": "2022-05-24T14:42:19.152Z"
   },
   {
    "duration": 34,
    "start_time": "2022-05-24T14:42:19.165Z"
   },
   {
    "duration": 11,
    "start_time": "2022-05-24T14:42:19.205Z"
   },
   {
    "duration": 13,
    "start_time": "2022-05-24T14:42:19.218Z"
   },
   {
    "duration": 10,
    "start_time": "2022-05-24T14:42:19.233Z"
   },
   {
    "duration": 11,
    "start_time": "2022-05-24T14:42:19.244Z"
   },
   {
    "duration": 13,
    "start_time": "2022-05-24T14:42:19.257Z"
   },
   {
    "duration": 15,
    "start_time": "2022-05-24T14:42:19.272Z"
   },
   {
    "duration": 22,
    "start_time": "2022-05-24T14:42:19.295Z"
   },
   {
    "duration": 8,
    "start_time": "2022-05-24T14:42:19.318Z"
   },
   {
    "duration": 60,
    "start_time": "2022-05-24T14:55:47.332Z"
   },
   {
    "duration": 1387,
    "start_time": "2022-05-24T14:55:50.862Z"
   },
   {
    "duration": 131,
    "start_time": "2022-05-24T14:55:52.252Z"
   },
   {
    "duration": 17,
    "start_time": "2022-05-24T14:55:52.385Z"
   },
   {
    "duration": 22,
    "start_time": "2022-05-24T14:55:52.404Z"
   },
   {
    "duration": 13,
    "start_time": "2022-05-24T14:55:52.429Z"
   },
   {
    "duration": 8,
    "start_time": "2022-05-24T14:55:52.443Z"
   },
   {
    "duration": 14,
    "start_time": "2022-05-24T14:55:52.453Z"
   },
   {
    "duration": 5,
    "start_time": "2022-05-24T14:55:52.469Z"
   },
   {
    "duration": 5,
    "start_time": "2022-05-24T14:55:52.475Z"
   },
   {
    "duration": 48,
    "start_time": "2022-05-24T14:55:52.483Z"
   },
   {
    "duration": 6,
    "start_time": "2022-05-24T14:55:52.535Z"
   },
   {
    "duration": 27,
    "start_time": "2022-05-24T14:55:52.543Z"
   },
   {
    "duration": 20,
    "start_time": "2022-05-24T14:55:52.573Z"
   },
   {
    "duration": 26,
    "start_time": "2022-05-24T14:55:52.595Z"
   },
   {
    "duration": 25,
    "start_time": "2022-05-24T14:55:52.623Z"
   },
   {
    "duration": 32,
    "start_time": "2022-05-24T14:55:52.650Z"
   },
   {
    "duration": 39,
    "start_time": "2022-05-24T14:55:52.684Z"
   },
   {
    "duration": 9,
    "start_time": "2022-05-24T14:55:52.726Z"
   },
   {
    "duration": 202,
    "start_time": "2022-05-24T14:55:52.736Z"
   },
   {
    "duration": 13,
    "start_time": "2022-05-24T14:55:52.940Z"
   },
   {
    "duration": 8,
    "start_time": "2022-05-24T14:55:52.955Z"
   },
   {
    "duration": 122,
    "start_time": "2022-05-24T14:55:52.964Z"
   },
   {
    "duration": 235,
    "start_time": "2022-05-24T14:55:53.088Z"
   },
   {
    "duration": 266,
    "start_time": "2022-05-24T14:55:53.325Z"
   },
   {
    "duration": 237,
    "start_time": "2022-05-24T14:55:53.593Z"
   },
   {
    "duration": 5,
    "start_time": "2022-05-24T14:55:53.832Z"
   },
   {
    "duration": 14,
    "start_time": "2022-05-24T14:55:53.839Z"
   },
   {
    "duration": 291,
    "start_time": "2022-05-24T14:55:53.856Z"
   },
   {
    "duration": 292,
    "start_time": "2022-05-24T14:55:54.149Z"
   },
   {
    "duration": 256,
    "start_time": "2022-05-24T14:55:54.442Z"
   },
   {
    "duration": 282,
    "start_time": "2022-05-24T14:55:54.699Z"
   },
   {
    "duration": 7,
    "start_time": "2022-05-24T14:55:54.983Z"
   },
   {
    "duration": 10,
    "start_time": "2022-05-24T14:55:54.992Z"
   },
   {
    "duration": 22,
    "start_time": "2022-05-24T14:55:55.003Z"
   },
   {
    "duration": 10,
    "start_time": "2022-05-24T14:55:55.027Z"
   },
   {
    "duration": 10,
    "start_time": "2022-05-24T14:55:55.039Z"
   },
   {
    "duration": 8,
    "start_time": "2022-05-24T14:55:55.050Z"
   },
   {
    "duration": 8,
    "start_time": "2022-05-24T14:55:55.059Z"
   },
   {
    "duration": 13,
    "start_time": "2022-05-24T14:55:55.068Z"
   },
   {
    "duration": 7,
    "start_time": "2022-05-24T14:55:55.082Z"
   },
   {
    "duration": 6,
    "start_time": "2022-05-24T14:55:55.091Z"
   },
   {
    "duration": 28,
    "start_time": "2022-05-24T14:55:55.099Z"
   },
   {
    "duration": 7,
    "start_time": "2022-05-24T14:55:55.129Z"
   },
   {
    "duration": 14,
    "start_time": "2022-05-24T14:55:55.137Z"
   },
   {
    "duration": 11,
    "start_time": "2022-05-24T14:55:55.153Z"
   },
   {
    "duration": 9,
    "start_time": "2022-05-24T14:55:55.165Z"
   },
   {
    "duration": 295,
    "start_time": "2022-05-24T15:02:05.322Z"
   },
   {
    "duration": 3,
    "start_time": "2022-05-24T15:02:12.070Z"
   },
   {
    "duration": 112,
    "start_time": "2022-05-24T15:02:12.076Z"
   },
   {
    "duration": 15,
    "start_time": "2022-05-24T15:02:12.189Z"
   },
   {
    "duration": 34,
    "start_time": "2022-05-24T15:02:12.206Z"
   },
   {
    "duration": 10,
    "start_time": "2022-05-24T15:02:12.242Z"
   },
   {
    "duration": 6,
    "start_time": "2022-05-24T15:02:12.253Z"
   },
   {
    "duration": 12,
    "start_time": "2022-05-24T15:02:12.261Z"
   },
   {
    "duration": 4,
    "start_time": "2022-05-24T15:02:12.275Z"
   },
   {
    "duration": 7,
    "start_time": "2022-05-24T15:02:12.281Z"
   },
   {
    "duration": 52,
    "start_time": "2022-05-24T15:02:12.289Z"
   },
   {
    "duration": 4,
    "start_time": "2022-05-24T15:02:12.343Z"
   },
   {
    "duration": 8,
    "start_time": "2022-05-24T15:02:12.349Z"
   },
   {
    "duration": 19,
    "start_time": "2022-05-24T15:02:12.359Z"
   },
   {
    "duration": 18,
    "start_time": "2022-05-24T15:02:12.382Z"
   },
   {
    "duration": 23,
    "start_time": "2022-05-24T15:02:12.422Z"
   },
   {
    "duration": 30,
    "start_time": "2022-05-24T15:02:12.447Z"
   },
   {
    "duration": 14,
    "start_time": "2022-05-24T15:02:12.479Z"
   },
   {
    "duration": 35,
    "start_time": "2022-05-24T15:02:12.495Z"
   },
   {
    "duration": 237,
    "start_time": "2022-05-24T15:02:12.533Z"
   },
   {
    "duration": 17,
    "start_time": "2022-05-24T15:02:12.772Z"
   },
   {
    "duration": 11,
    "start_time": "2022-05-24T15:02:12.792Z"
   },
   {
    "duration": 31,
    "start_time": "2022-05-24T15:02:12.824Z"
   },
   {
    "duration": 257,
    "start_time": "2022-05-24T15:02:12.857Z"
   },
   {
    "duration": 385,
    "start_time": "2022-05-24T15:02:13.123Z"
   },
   {
    "duration": 267,
    "start_time": "2022-05-24T15:02:13.509Z"
   },
   {
    "duration": 7,
    "start_time": "2022-05-24T15:02:13.778Z"
   },
   {
    "duration": 16,
    "start_time": "2022-05-24T15:02:13.787Z"
   },
   {
    "duration": 396,
    "start_time": "2022-05-24T15:02:13.805Z"
   },
   {
    "duration": 311,
    "start_time": "2022-05-24T15:02:14.203Z"
   },
   {
    "duration": 284,
    "start_time": "2022-05-24T15:02:14.515Z"
   },
   {
    "duration": 369,
    "start_time": "2022-05-24T15:02:14.800Z"
   },
   {
    "duration": 10,
    "start_time": "2022-05-24T15:02:15.172Z"
   },
   {
    "duration": 20,
    "start_time": "2022-05-24T15:02:15.184Z"
   },
   {
    "duration": 21,
    "start_time": "2022-05-24T15:02:15.206Z"
   },
   {
    "duration": 9,
    "start_time": "2022-05-24T15:02:15.229Z"
   },
   {
    "duration": 17,
    "start_time": "2022-05-24T15:02:15.241Z"
   },
   {
    "duration": 17,
    "start_time": "2022-05-24T15:02:15.261Z"
   },
   {
    "duration": 24,
    "start_time": "2022-05-24T15:02:15.280Z"
   },
   {
    "duration": 19,
    "start_time": "2022-05-24T15:02:15.306Z"
   },
   {
    "duration": 14,
    "start_time": "2022-05-24T15:02:15.328Z"
   },
   {
    "duration": 9,
    "start_time": "2022-05-24T15:02:15.347Z"
   },
   {
    "duration": 11,
    "start_time": "2022-05-24T15:02:15.358Z"
   },
   {
    "duration": 12,
    "start_time": "2022-05-24T15:02:15.371Z"
   },
   {
    "duration": 42,
    "start_time": "2022-05-24T15:02:15.386Z"
   },
   {
    "duration": 14,
    "start_time": "2022-05-24T15:02:15.430Z"
   },
   {
    "duration": 16,
    "start_time": "2022-05-24T15:02:15.446Z"
   },
   {
    "duration": 237,
    "start_time": "2022-05-24T15:03:09.561Z"
   },
   {
    "duration": 5,
    "start_time": "2022-05-24T15:03:11.240Z"
   },
   {
    "duration": 17,
    "start_time": "2022-05-24T15:03:12.136Z"
   },
   {
    "duration": 277,
    "start_time": "2022-05-24T15:03:13.194Z"
   },
   {
    "duration": 313,
    "start_time": "2022-05-24T15:03:15.704Z"
   },
   {
    "duration": 422,
    "start_time": "2022-05-24T15:03:17.584Z"
   },
   {
    "duration": 315,
    "start_time": "2022-05-24T15:03:18.824Z"
   },
   {
    "duration": 10,
    "start_time": "2022-05-24T15:03:21.370Z"
   },
   {
    "duration": 10,
    "start_time": "2022-05-24T15:03:21.904Z"
   },
   {
    "duration": 8,
    "start_time": "2022-05-24T15:03:22.424Z"
   },
   {
    "duration": 8,
    "start_time": "2022-05-24T15:03:24.968Z"
   },
   {
    "duration": 9,
    "start_time": "2022-05-24T15:03:27.809Z"
   },
   {
    "duration": 7,
    "start_time": "2022-05-24T15:03:34.496Z"
   },
   {
    "duration": 13,
    "start_time": "2022-05-24T15:06:35.180Z"
   },
   {
    "duration": 14,
    "start_time": "2022-05-24T15:06:37.092Z"
   },
   {
    "duration": 9,
    "start_time": "2022-05-24T15:06:38.621Z"
   },
   {
    "duration": 13,
    "start_time": "2022-05-24T15:09:11.714Z"
   },
   {
    "duration": 12,
    "start_time": "2022-05-24T15:09:15.113Z"
   },
   {
    "duration": 14,
    "start_time": "2022-05-24T15:09:48.911Z"
   },
   {
    "duration": 272,
    "start_time": "2022-05-24T16:28:12.058Z"
   },
   {
    "duration": 1245,
    "start_time": "2022-05-24T16:37:32.136Z"
   },
   {
    "duration": 77,
    "start_time": "2022-05-24T16:37:33.384Z"
   },
   {
    "duration": 15,
    "start_time": "2022-05-24T16:37:33.463Z"
   },
   {
    "duration": 34,
    "start_time": "2022-05-24T16:37:33.480Z"
   },
   {
    "duration": 13,
    "start_time": "2022-05-24T16:37:33.516Z"
   },
   {
    "duration": 6,
    "start_time": "2022-05-24T16:37:33.531Z"
   },
   {
    "duration": 12,
    "start_time": "2022-05-24T16:37:33.539Z"
   },
   {
    "duration": 5,
    "start_time": "2022-05-24T16:37:33.553Z"
   },
   {
    "duration": 36,
    "start_time": "2022-05-24T16:37:33.560Z"
   },
   {
    "duration": 23,
    "start_time": "2022-05-24T16:37:33.599Z"
   },
   {
    "duration": 8,
    "start_time": "2022-05-24T16:37:33.625Z"
   },
   {
    "duration": 4,
    "start_time": "2022-05-24T16:37:33.634Z"
   },
   {
    "duration": 12,
    "start_time": "2022-05-24T16:37:33.640Z"
   },
   {
    "duration": 57,
    "start_time": "2022-05-24T16:37:33.653Z"
   },
   {
    "duration": 23,
    "start_time": "2022-05-24T16:37:33.712Z"
   },
   {
    "duration": 25,
    "start_time": "2022-05-24T16:37:33.737Z"
   },
   {
    "duration": 32,
    "start_time": "2022-05-24T16:37:33.764Z"
   },
   {
    "duration": 10,
    "start_time": "2022-05-24T16:37:33.799Z"
   },
   {
    "duration": 207,
    "start_time": "2022-05-24T16:37:33.812Z"
   },
   {
    "duration": 15,
    "start_time": "2022-05-24T16:37:34.021Z"
   },
   {
    "duration": 8,
    "start_time": "2022-05-24T16:37:34.038Z"
   },
   {
    "duration": 129,
    "start_time": "2022-05-24T16:37:34.048Z"
   },
   {
    "duration": 232,
    "start_time": "2022-05-24T16:37:34.179Z"
   },
   {
    "duration": 327,
    "start_time": "2022-05-24T16:37:34.413Z"
   },
   {
    "duration": 246,
    "start_time": "2022-05-24T16:37:34.742Z"
   },
   {
    "duration": 10,
    "start_time": "2022-05-24T16:37:34.989Z"
   },
   {
    "duration": 22,
    "start_time": "2022-05-24T16:37:35.002Z"
   },
   {
    "duration": 297,
    "start_time": "2022-05-24T16:37:35.027Z"
   },
   {
    "duration": 324,
    "start_time": "2022-05-24T16:37:35.326Z"
   },
   {
    "duration": 309,
    "start_time": "2022-05-24T16:37:35.653Z"
   },
   {
    "duration": 316,
    "start_time": "2022-05-24T16:37:35.964Z"
   },
   {
    "duration": 14,
    "start_time": "2022-05-24T16:37:36.282Z"
   },
   {
    "duration": 15,
    "start_time": "2022-05-24T16:37:36.299Z"
   },
   {
    "duration": 14,
    "start_time": "2022-05-24T16:37:36.316Z"
   },
   {
    "duration": 9,
    "start_time": "2022-05-24T16:37:36.332Z"
   },
   {
    "duration": 7,
    "start_time": "2022-05-24T16:37:36.342Z"
   },
   {
    "duration": 9,
    "start_time": "2022-05-24T16:37:36.350Z"
   },
   {
    "duration": 11,
    "start_time": "2022-05-24T16:37:36.361Z"
   },
   {
    "duration": 37,
    "start_time": "2022-05-24T16:37:36.373Z"
   },
   {
    "duration": 9,
    "start_time": "2022-05-24T16:37:36.413Z"
   },
   {
    "duration": 10,
    "start_time": "2022-05-24T16:37:36.423Z"
   },
   {
    "duration": 8,
    "start_time": "2022-05-24T16:37:36.435Z"
   },
   {
    "duration": 9,
    "start_time": "2022-05-24T16:37:36.444Z"
   },
   {
    "duration": 16,
    "start_time": "2022-05-24T16:37:36.454Z"
   },
   {
    "duration": 21,
    "start_time": "2022-05-24T16:37:36.496Z"
   },
   {
    "duration": 11,
    "start_time": "2022-05-24T16:37:36.519Z"
   }
  ],
  "kernelspec": {
   "display_name": "Python 3 (ipykernel)",
   "language": "python",
   "name": "python3"
  },
  "language_info": {
   "codemirror_mode": {
    "name": "ipython",
    "version": 3
   },
   "file_extension": ".py",
   "mimetype": "text/x-python",
   "name": "python",
   "nbconvert_exporter": "python",
   "pygments_lexer": "ipython3",
   "version": "3.9.13"
  },
  "toc": {
   "base_numbering": 1,
   "nav_menu": {},
   "number_sections": true,
   "sideBar": true,
   "skip_h1_title": true,
   "title_cell": "Table of Contents",
   "title_sidebar": "Contents",
   "toc_cell": false,
   "toc_position": {},
   "toc_section_display": true,
   "toc_window_display": false
  }
 },
 "nbformat": 4,
 "nbformat_minor": 2
}
