{
 "cells": [
  {
   "cell_type": "markdown",
   "metadata": {},
   "source": [
    "# Выбор локации для скважины"
   ]
  },
  {
   "cell_type": "markdown",
   "metadata": {},
   "source": [
    "Для добывающей компании «ГлавРосГосНефть»,нужно решить, где бурить новую скважину.\n",
    "\n",
    "Нам предоставлены пробы нефти в трёх регионах: в каждом 10 000 месторождений, где измерили качество нефти и объём её запасов. Построим модель машинного обучения, которая поможет определить регион, где добыча принесёт наибольшую прибыль. Проанализируем  возможную прибыль и риски."
   ]
  },
  {
   "cell_type": "markdown",
   "metadata": {},
   "source": [
    "**План:**\n",
    "\n",
    "1.Загрузим и проверим данные на пропуски и дубликаты.\n",
    "\n",
    "2.Обучим несколько моделей.\n",
    "\n",
    "3.На полученных проанализируем возможную прибыль"
   ]
  },
  {
   "cell_type": "markdown",
   "metadata": {},
   "source": [
    "## Загрузка и подготовка данных"
   ]
  },
  {
   "cell_type": "code",
   "execution_count": 2,
   "metadata": {},
   "outputs": [],
   "source": [
    "import pandas as pd\n",
    "import numpy as np\n",
    "import seaborn as sn\n",
    "from sklearn.linear_model import LinearRegression\n",
    "from sklearn.model_selection import train_test_split\n",
    "from sklearn.metrics import mean_squared_error\n",
    "from sklearn.preprocessing import StandardScaler \n",
    "from numpy.random import RandomState"
   ]
  },
  {
   "cell_type": "code",
   "execution_count": 3,
   "metadata": {
    "scrolled": false
   },
   "outputs": [],
   "source": [
    "try:\n",
    "    df_0 = pd.read_csv('/datasets/geo_data_0.csv')\n",
    "    df_1 = pd.read_csv('/datasets/geo_data_1.csv')\n",
    "    df_2 = pd.read_csv('/datasets/geo_data_2.csv')\n",
    "except:\n",
    "    df_0 = pd.read_csv('geo_data_0.csv')\n",
    "    df_1 = pd.read_csv('geo_data_1.csv')\n",
    "    df_2 = pd.read_csv('geo_data_2.csv')"
   ]
  },
  {
   "cell_type": "code",
   "execution_count": 4,
   "metadata": {},
   "outputs": [
    {
     "name": "stdout",
     "output_type": "stream",
     "text": [
      "<class 'pandas.core.frame.DataFrame'>\n",
      "RangeIndex: 100000 entries, 0 to 99999\n",
      "Data columns (total 5 columns):\n",
      " #   Column   Non-Null Count   Dtype  \n",
      "---  ------   --------------   -----  \n",
      " 0   id       100000 non-null  object \n",
      " 1   f0       100000 non-null  float64\n",
      " 2   f1       100000 non-null  float64\n",
      " 3   f2       100000 non-null  float64\n",
      " 4   product  100000 non-null  float64\n",
      "dtypes: float64(4), object(1)\n",
      "memory usage: 3.8+ MB\n"
     ]
    }
   ],
   "source": [
    "#смотрим состаяние данных\n",
    "df_0.info()"
   ]
  },
  {
   "cell_type": "code",
   "execution_count": 5,
   "metadata": {},
   "outputs": [
    {
     "name": "stdout",
     "output_type": "stream",
     "text": [
      "<class 'pandas.core.frame.DataFrame'>\n",
      "RangeIndex: 100000 entries, 0 to 99999\n",
      "Data columns (total 5 columns):\n",
      " #   Column   Non-Null Count   Dtype  \n",
      "---  ------   --------------   -----  \n",
      " 0   id       100000 non-null  object \n",
      " 1   f0       100000 non-null  float64\n",
      " 2   f1       100000 non-null  float64\n",
      " 3   f2       100000 non-null  float64\n",
      " 4   product  100000 non-null  float64\n",
      "dtypes: float64(4), object(1)\n",
      "memory usage: 3.8+ MB\n"
     ]
    }
   ],
   "source": [
    "df_1.info()"
   ]
  },
  {
   "cell_type": "code",
   "execution_count": 6,
   "metadata": {},
   "outputs": [
    {
     "name": "stdout",
     "output_type": "stream",
     "text": [
      "<class 'pandas.core.frame.DataFrame'>\n",
      "RangeIndex: 100000 entries, 0 to 99999\n",
      "Data columns (total 5 columns):\n",
      " #   Column   Non-Null Count   Dtype  \n",
      "---  ------   --------------   -----  \n",
      " 0   id       100000 non-null  object \n",
      " 1   f0       100000 non-null  float64\n",
      " 2   f1       100000 non-null  float64\n",
      " 3   f2       100000 non-null  float64\n",
      " 4   product  100000 non-null  float64\n",
      "dtypes: float64(4), object(1)\n",
      "memory usage: 3.8+ MB\n"
     ]
    }
   ],
   "source": [
    "df_2.info()"
   ]
  },
  {
   "cell_type": "code",
   "execution_count": 7,
   "metadata": {},
   "outputs": [
    {
     "data": {
      "text/html": [
       "<div>\n",
       "<style scoped>\n",
       "    .dataframe tbody tr th:only-of-type {\n",
       "        vertical-align: middle;\n",
       "    }\n",
       "\n",
       "    .dataframe tbody tr th {\n",
       "        vertical-align: top;\n",
       "    }\n",
       "\n",
       "    .dataframe thead th {\n",
       "        text-align: right;\n",
       "    }\n",
       "</style>\n",
       "<table border=\"1\" class=\"dataframe\">\n",
       "  <thead>\n",
       "    <tr style=\"text-align: right;\">\n",
       "      <th></th>\n",
       "      <th>f0</th>\n",
       "      <th>f1</th>\n",
       "      <th>f2</th>\n",
       "      <th>product</th>\n",
       "    </tr>\n",
       "  </thead>\n",
       "  <tbody>\n",
       "    <tr>\n",
       "      <th>0</th>\n",
       "      <td>0.705745</td>\n",
       "      <td>-0.497823</td>\n",
       "      <td>1.221170</td>\n",
       "      <td>105.280062</td>\n",
       "    </tr>\n",
       "    <tr>\n",
       "      <th>1</th>\n",
       "      <td>1.334711</td>\n",
       "      <td>-0.340164</td>\n",
       "      <td>4.365080</td>\n",
       "      <td>73.037750</td>\n",
       "    </tr>\n",
       "    <tr>\n",
       "      <th>2</th>\n",
       "      <td>1.022732</td>\n",
       "      <td>0.151990</td>\n",
       "      <td>1.419926</td>\n",
       "      <td>85.265647</td>\n",
       "    </tr>\n",
       "    <tr>\n",
       "      <th>3</th>\n",
       "      <td>-0.032172</td>\n",
       "      <td>0.139033</td>\n",
       "      <td>2.978566</td>\n",
       "      <td>168.620776</td>\n",
       "    </tr>\n",
       "    <tr>\n",
       "      <th>4</th>\n",
       "      <td>1.988431</td>\n",
       "      <td>0.155413</td>\n",
       "      <td>4.751769</td>\n",
       "      <td>154.036647</td>\n",
       "    </tr>\n",
       "    <tr>\n",
       "      <th>...</th>\n",
       "      <td>...</td>\n",
       "      <td>...</td>\n",
       "      <td>...</td>\n",
       "      <td>...</td>\n",
       "    </tr>\n",
       "    <tr>\n",
       "      <th>99995</th>\n",
       "      <td>0.971957</td>\n",
       "      <td>0.370953</td>\n",
       "      <td>6.075346</td>\n",
       "      <td>110.744026</td>\n",
       "    </tr>\n",
       "    <tr>\n",
       "      <th>99996</th>\n",
       "      <td>1.392429</td>\n",
       "      <td>-0.382606</td>\n",
       "      <td>1.273912</td>\n",
       "      <td>122.346843</td>\n",
       "    </tr>\n",
       "    <tr>\n",
       "      <th>99997</th>\n",
       "      <td>1.029585</td>\n",
       "      <td>0.018787</td>\n",
       "      <td>-1.348308</td>\n",
       "      <td>64.375443</td>\n",
       "    </tr>\n",
       "    <tr>\n",
       "      <th>99998</th>\n",
       "      <td>0.998163</td>\n",
       "      <td>-0.528582</td>\n",
       "      <td>1.583869</td>\n",
       "      <td>74.040764</td>\n",
       "    </tr>\n",
       "    <tr>\n",
       "      <th>99999</th>\n",
       "      <td>1.764754</td>\n",
       "      <td>-0.266417</td>\n",
       "      <td>5.722849</td>\n",
       "      <td>149.633246</td>\n",
       "    </tr>\n",
       "  </tbody>\n",
       "</table>\n",
       "<p>100000 rows × 4 columns</p>\n",
       "</div>"
      ],
      "text/plain": [
       "             f0        f1        f2     product\n",
       "0      0.705745 -0.497823  1.221170  105.280062\n",
       "1      1.334711 -0.340164  4.365080   73.037750\n",
       "2      1.022732  0.151990  1.419926   85.265647\n",
       "3     -0.032172  0.139033  2.978566  168.620776\n",
       "4      1.988431  0.155413  4.751769  154.036647\n",
       "...         ...       ...       ...         ...\n",
       "99995  0.971957  0.370953  6.075346  110.744026\n",
       "99996  1.392429 -0.382606  1.273912  122.346843\n",
       "99997  1.029585  0.018787 -1.348308   64.375443\n",
       "99998  0.998163 -0.528582  1.583869   74.040764\n",
       "99999  1.764754 -0.266417  5.722849  149.633246\n",
       "\n",
       "[100000 rows x 4 columns]"
      ]
     },
     "execution_count": 7,
     "metadata": {},
     "output_type": "execute_result"
    }
   ],
   "source": [
    "#удаляем уникальные id\n",
    "df_0 = df_0.drop('id',axis=1)\n",
    "df_1 = df_1.drop('id',axis=1)\n",
    "df_2 = df_2.drop('id',axis=1)\n",
    "df_0"
   ]
  },
  {
   "cell_type": "code",
   "execution_count": 8,
   "metadata": {
    "scrolled": true
   },
   "outputs": [
    {
     "data": {
      "text/plain": [
       "0"
      ]
     },
     "metadata": {},
     "output_type": "display_data"
    },
    {
     "data": {
      "text/plain": [
       "0"
      ]
     },
     "metadata": {},
     "output_type": "display_data"
    },
    {
     "data": {
      "text/plain": [
       "0"
      ]
     },
     "metadata": {},
     "output_type": "display_data"
    }
   ],
   "source": [
    "# проверяем дубликаты\n",
    "display(df_0.duplicated().sum())\n",
    "display(df_1.duplicated().sum())\n",
    "display(df_2.duplicated().sum())"
   ]
  },
  {
   "cell_type": "code",
   "execution_count": 9,
   "metadata": {},
   "outputs": [
    {
     "data": {
      "text/html": [
       "<div>\n",
       "<style scoped>\n",
       "    .dataframe tbody tr th:only-of-type {\n",
       "        vertical-align: middle;\n",
       "    }\n",
       "\n",
       "    .dataframe tbody tr th {\n",
       "        vertical-align: top;\n",
       "    }\n",
       "\n",
       "    .dataframe thead th {\n",
       "        text-align: right;\n",
       "    }\n",
       "</style>\n",
       "<table border=\"1\" class=\"dataframe\">\n",
       "  <thead>\n",
       "    <tr style=\"text-align: right;\">\n",
       "      <th></th>\n",
       "      <th>f0</th>\n",
       "      <th>f1</th>\n",
       "      <th>f2</th>\n",
       "      <th>product</th>\n",
       "    </tr>\n",
       "  </thead>\n",
       "  <tbody>\n",
       "    <tr>\n",
       "      <th>f0</th>\n",
       "      <td>1.000000</td>\n",
       "      <td>0.182287</td>\n",
       "      <td>-0.001777</td>\n",
       "      <td>-0.030491</td>\n",
       "    </tr>\n",
       "    <tr>\n",
       "      <th>f1</th>\n",
       "      <td>0.182287</td>\n",
       "      <td>1.000000</td>\n",
       "      <td>-0.002595</td>\n",
       "      <td>-0.010155</td>\n",
       "    </tr>\n",
       "    <tr>\n",
       "      <th>f2</th>\n",
       "      <td>-0.001777</td>\n",
       "      <td>-0.002595</td>\n",
       "      <td>1.000000</td>\n",
       "      <td>0.999397</td>\n",
       "    </tr>\n",
       "    <tr>\n",
       "      <th>product</th>\n",
       "      <td>-0.030491</td>\n",
       "      <td>-0.010155</td>\n",
       "      <td>0.999397</td>\n",
       "      <td>1.000000</td>\n",
       "    </tr>\n",
       "  </tbody>\n",
       "</table>\n",
       "</div>"
      ],
      "text/plain": [
       "               f0        f1        f2   product\n",
       "f0       1.000000  0.182287 -0.001777 -0.030491\n",
       "f1       0.182287  1.000000 -0.002595 -0.010155\n",
       "f2      -0.001777 -0.002595  1.000000  0.999397\n",
       "product -0.030491 -0.010155  0.999397  1.000000"
      ]
     },
     "execution_count": 9,
     "metadata": {},
     "output_type": "execute_result"
    }
   ],
   "source": [
    "df_1.corr()"
   ]
  },
  {
   "cell_type": "code",
   "execution_count": 25,
   "metadata": {},
   "outputs": [
    {
     "data": {
      "text/html": [
       "<div>\n",
       "<style scoped>\n",
       "    .dataframe tbody tr th:only-of-type {\n",
       "        vertical-align: middle;\n",
       "    }\n",
       "\n",
       "    .dataframe tbody tr th {\n",
       "        vertical-align: top;\n",
       "    }\n",
       "\n",
       "    .dataframe thead th {\n",
       "        text-align: right;\n",
       "    }\n",
       "</style>\n",
       "<table border=\"1\" class=\"dataframe\">\n",
       "  <thead>\n",
       "    <tr style=\"text-align: right;\">\n",
       "      <th></th>\n",
       "      <th>f0</th>\n",
       "      <th>f1</th>\n",
       "      <th>f2</th>\n",
       "      <th>product</th>\n",
       "    </tr>\n",
       "  </thead>\n",
       "  <tbody>\n",
       "    <tr>\n",
       "      <th>f0</th>\n",
       "      <td>1.000000</td>\n",
       "      <td>-0.440723</td>\n",
       "      <td>-0.003153</td>\n",
       "      <td>0.143536</td>\n",
       "    </tr>\n",
       "    <tr>\n",
       "      <th>f1</th>\n",
       "      <td>-0.440723</td>\n",
       "      <td>1.000000</td>\n",
       "      <td>0.001724</td>\n",
       "      <td>-0.192356</td>\n",
       "    </tr>\n",
       "    <tr>\n",
       "      <th>f2</th>\n",
       "      <td>-0.003153</td>\n",
       "      <td>0.001724</td>\n",
       "      <td>1.000000</td>\n",
       "      <td>0.483663</td>\n",
       "    </tr>\n",
       "    <tr>\n",
       "      <th>product</th>\n",
       "      <td>0.143536</td>\n",
       "      <td>-0.192356</td>\n",
       "      <td>0.483663</td>\n",
       "      <td>1.000000</td>\n",
       "    </tr>\n",
       "  </tbody>\n",
       "</table>\n",
       "</div>"
      ],
      "text/plain": [
       "               f0        f1        f2   product\n",
       "f0       1.000000 -0.440723 -0.003153  0.143536\n",
       "f1      -0.440723  1.000000  0.001724 -0.192356\n",
       "f2      -0.003153  0.001724  1.000000  0.483663\n",
       "product  0.143536 -0.192356  0.483663  1.000000"
      ]
     },
     "execution_count": 25,
     "metadata": {},
     "output_type": "execute_result"
    }
   ],
   "source": [
    "df_0.corr()"
   ]
  },
  {
   "cell_type": "code",
   "execution_count": 26,
   "metadata": {},
   "outputs": [
    {
     "data": {
      "text/html": [
       "<div>\n",
       "<style scoped>\n",
       "    .dataframe tbody tr th:only-of-type {\n",
       "        vertical-align: middle;\n",
       "    }\n",
       "\n",
       "    .dataframe tbody tr th {\n",
       "        vertical-align: top;\n",
       "    }\n",
       "\n",
       "    .dataframe thead th {\n",
       "        text-align: right;\n",
       "    }\n",
       "</style>\n",
       "<table border=\"1\" class=\"dataframe\">\n",
       "  <thead>\n",
       "    <tr style=\"text-align: right;\">\n",
       "      <th></th>\n",
       "      <th>f0</th>\n",
       "      <th>f1</th>\n",
       "      <th>f2</th>\n",
       "      <th>product</th>\n",
       "    </tr>\n",
       "  </thead>\n",
       "  <tbody>\n",
       "    <tr>\n",
       "      <th>f0</th>\n",
       "      <td>1.000000</td>\n",
       "      <td>0.000528</td>\n",
       "      <td>-0.000448</td>\n",
       "      <td>-0.001987</td>\n",
       "    </tr>\n",
       "    <tr>\n",
       "      <th>f1</th>\n",
       "      <td>0.000528</td>\n",
       "      <td>1.000000</td>\n",
       "      <td>0.000779</td>\n",
       "      <td>-0.001012</td>\n",
       "    </tr>\n",
       "    <tr>\n",
       "      <th>f2</th>\n",
       "      <td>-0.000448</td>\n",
       "      <td>0.000779</td>\n",
       "      <td>1.000000</td>\n",
       "      <td>0.445871</td>\n",
       "    </tr>\n",
       "    <tr>\n",
       "      <th>product</th>\n",
       "      <td>-0.001987</td>\n",
       "      <td>-0.001012</td>\n",
       "      <td>0.445871</td>\n",
       "      <td>1.000000</td>\n",
       "    </tr>\n",
       "  </tbody>\n",
       "</table>\n",
       "</div>"
      ],
      "text/plain": [
       "               f0        f1        f2   product\n",
       "f0       1.000000  0.000528 -0.000448 -0.001987\n",
       "f1       0.000528  1.000000  0.000779 -0.001012\n",
       "f2      -0.000448  0.000779  1.000000  0.445871\n",
       "product -0.001987 -0.001012  0.445871  1.000000"
      ]
     },
     "execution_count": 26,
     "metadata": {},
     "output_type": "execute_result"
    }
   ],
   "source": [
    "df_2.corr()"
   ]
  },
  {
   "cell_type": "markdown",
   "metadata": {},
   "source": [
    "<div class=\"alert alert-info\" role=\"alert\">\n",
    " \n",
    "Сильной кореляции в данных нет.\n",
    "</div>"
   ]
  },
  {
   "cell_type": "markdown",
   "metadata": {},
   "source": [
    "<div class=\"alert alert-info\" role=\"alert\">\n",
    " \n",
    "Данные в хорошем состоянии,пропусков нет,дубликатов нет,типы в порядке\n",
    "    \n",
    "Столбец с идентификатором лучше удалить т.к. в нем нет полезной информации для обучения модели.\n",
    "</div>"
   ]
  },
  {
   "cell_type": "markdown",
   "metadata": {},
   "source": [
    "## Обучение и проверка модели"
   ]
  },
  {
   "cell_type": "markdown",
   "metadata": {},
   "source": [
    "<div class=\"alert alert-info\" role=\"alert\">\n",
    "Обучим LinearRegression.\n",
    "</div>"
   ]
  },
  {
   "cell_type": "code",
   "execution_count": 14,
   "metadata": {},
   "outputs": [],
   "source": [
    "import warnings\n",
    "warnings.filterwarnings(\"ignore\")"
   ]
  },
  {
   "cell_type": "code",
   "execution_count": 15,
   "metadata": {},
   "outputs": [
    {
     "name": "stdout",
     "output_type": "stream",
     "text": [
      "    pred: 92.50862491249552\n",
      "    rmse: 37.54151515850603\n"
     ]
    }
   ],
   "source": [
    "X_0 = df_0.drop('product',axis=1)\n",
    "y_0=df_0['product']\n",
    "X_train_0,X_time_0,y_train_0,y_time_0 = train_test_split(X_0,y_0,random_state=12345,test_size = 0.4) # разделяем выборки\n",
    "X_valid_0,X_test_0,y_valid_0,y_test_0 = train_test_split(X_time_0,y_time_0,random_state=12345,test_size=0.5) \n",
    "# маштабируем значения в выборках\n",
    "numeric = ['f0', 'f1', 'f2']\n",
    "scaler = StandardScaler()\n",
    "scaler.fit(X_train_0[numeric])\n",
    "X_train_0[numeric] = scaler.transform(X_train_0[numeric] )\n",
    "X_valid_0[numeric]  = scaler.transform(X_valid_0[numeric] )\n",
    "X_test_0[numeric]  = scaler.transform(X_test_0[numeric] )\n",
    "pd.options.mode.chained_assignment = None\n",
    "# применим модель линейной регрессии\n",
    "model_0 =  LinearRegression()\n",
    "model_0.fit(X_train_0,y_train_0)\n",
    "pred_0 = model_0.predict(X_valid_0)\n",
    "#посчитаем среднее и среднюю ошибку предсказаний\n",
    "rmse = mean_squared_error(y_valid_0,pred_0)  ** 0.5 \n",
    "print('    pred:',pred_0.mean())\n",
    "print('    rmse:',rmse)"
   ]
  },
  {
   "cell_type": "code",
   "execution_count": 16,
   "metadata": {},
   "outputs": [
    {
     "name": "stdout",
     "output_type": "stream",
     "text": [
      "    pred: 68.49008336465833\n",
      "    rmse: 0.8858505980507573\n"
     ]
    }
   ],
   "source": [
    "X_1 = df_1.drop('product',axis=1)\n",
    "y_1=df_1['product']\n",
    "X_train_1,X_time_1,y_train_1,y_time_1 = train_test_split(X_1,y_1,random_state=12345,test_size = 0.4)\n",
    "X_valid_1,X_test_1,y_valid_1,y_test_1 = train_test_split(X_time_1,y_time_1,random_state=12345,test_size=0.5)\n",
    "numeric = ['f0', 'f1', 'f2']\n",
    "scaler = StandardScaler()\n",
    "scaler.fit(X_train_1[numeric])\n",
    "X_train_1[numeric] = scaler.transform(X_train_1[numeric] )\n",
    "X_valid_1[numeric]  = scaler.transform(X_valid_1[numeric] )\n",
    "X_test_1[numeric]  = scaler.transform(X_test_1[numeric] )\n",
    "pd.options.mode.chained_assignment = None\n",
    "model_1 =  LinearRegression()\n",
    "model_1.fit(X_train_1,y_train_1)\n",
    "pred_1 = model_1.predict(X_valid_1)\n",
    "rmse = mean_squared_error(y_valid_1,pred_1)  ** 0.5\n",
    "print('    pred:',pred_1.mean())\n",
    "print('    rmse:',rmse)"
   ]
  },
  {
   "cell_type": "code",
   "execution_count": 17,
   "metadata": {},
   "outputs": [
    {
     "name": "stdout",
     "output_type": "stream",
     "text": [
      "    pred: 95.0007676728214\n",
      "    rmse: 39.72337541963802\n"
     ]
    }
   ],
   "source": [
    "X_2 = df_2.drop('product',axis=1)\n",
    "y_2=df_2['product']\n",
    "X_train_2,X_time_2,y_train_2,y_time_2 = train_test_split(X_2,y_2,random_state=12345,test_size = 0.4)\n",
    "X_valid_2,X_test_2,y_valid_2,y_test_2 = train_test_split(X_time_2,y_time_2,random_state=12345,test_size=0.5)\n",
    "numeric = ['f0', 'f1', 'f2']\n",
    "scaler = StandardScaler()\n",
    "scaler.fit(X_train_2[numeric])\n",
    "X_train_2[numeric] = scaler.transform(X_train_2[numeric] )\n",
    "X_valid_2[numeric]  = scaler.transform(X_valid_2[numeric] )\n",
    "X_test_2[numeric]  = scaler.transform(X_test_2[numeric] )\n",
    "pd.options.mode.chained_assignment = None\n",
    "model_2 =  LinearRegression()\n",
    "model_2.fit(X_train_2,y_train_2)\n",
    "pred_2 = model_2.predict(X_valid_2)\n",
    "rmse = mean_squared_error(y_valid_2,pred_2)  ** 0.5\n",
    "print('    pred:',pred_2.mean())\n",
    "print('    rmse:',rmse)"
   ]
  },
  {
   "cell_type": "code",
   "execution_count": 27,
   "metadata": {},
   "outputs": [
    {
     "name": "stdout",
     "output_type": "stream",
     "text": [
      "df_0\n",
      "    pred: 92.50862491249552\n",
      "    rmse: 37.54151515850603\n",
      "df_1\n",
      "    pred: 68.49008336465833\n",
      "    rmse: 0.8858505980507573\n",
      "df_2\n",
      "    pred: 95.0007676728214\n",
      "    rmse: 39.72337541963802\n"
     ]
    }
   ],
   "source": [
    "def split_scaler(df):\n",
    "    X = df.drop(['product'],axis=1)\n",
    "    y = df['product']\n",
    "    X_train,X_time_test,y_train,y_time_test = train_test_split(X,y,random_state=12345,test_size = 0.4)\n",
    "    X_valid,X_test,y_valid,y_test = train_test_split(X_time_test,y_time_test,random_state=12345,test_size = 0.5)\n",
    "    numeric = ['f0', 'f1', 'f2']\n",
    "    scaler = StandardScaler()\n",
    "    scaler.fit(X_train[numeric])\n",
    "    X_train[numeric] = scaler.transform(X_train[numeric] )\n",
    "    X_valid[numeric]  = scaler.transform(X_valid[numeric] )\n",
    "    X_test[numeric]  = scaler.transform(X_test[numeric] )\n",
    "    pd.options.mode.chained_assignment = None\n",
    "    model =  LinearRegression()\n",
    "    model.fit(X_train,y_train)\n",
    "    pred = model.predict(X_valid)\n",
    "    rmse = (mean_squared_error(y_valid,pred))  ** 0.5\n",
    "    print('    pred:',pred.mean())\n",
    "    print('    rmse:',rmse)\n",
    "print('df_0')\n",
    "split_scaler(df_0)\n",
    "print('df_1')\n",
    "split_scaler(df_1)\n",
    "print('df_2')\n",
    "split_scaler(df_2)"
   ]
  },
  {
   "cell_type": "markdown",
   "metadata": {},
   "source": [
    "<div class=\"alert alert-info\" role=\"alert\">\n",
    " \n",
    "На данных региона geo_data_1 модель предсказывает хорошо,для остальных метрика очень слабая\n",
    "    \n",
    "Но для определения лучшего региона нужно так-же посмотреть на прибыль и риски\n",
    "</div>"
   ]
  },
  {
   "cell_type": "markdown",
   "metadata": {},
   "source": [
    "## Подготовка к расчёту прибыли"
   ]
  },
  {
   "cell_type": "code",
   "execution_count": 19,
   "metadata": {},
   "outputs": [
    {
     "name": "stdout",
     "output_type": "stream",
     "text": [
      "111.11111111111111\n"
     ]
    }
   ],
   "source": [
    "BUDGET_PART = 10000000000 / 200 #бюджен на 1 скважену\n",
    "BUDGET = 10000000000 # общий бюджет\n",
    "BAR = 450 * 1000 # доход с 1 бареля\n",
    "PAYBACK = BUDGET_PART / BAR # минимальный обьем скважены для нулевой доходности\n",
    "print(PAYBACK)"
   ]
  },
  {
   "cell_type": "code",
   "execution_count": 20,
   "metadata": {
    "scrolled": true
   },
   "outputs": [
    {
     "name": "stdout",
     "output_type": "stream",
     "text": [
      "92.50000000000001\n",
      "68.82500000000002\n",
      "95.00000000000004\n"
     ]
    }
   ],
   "source": [
    "print(df_0['product'].mean())\n",
    "print(df_1['product'].mean())\n",
    "print(df_2['product'].mean())"
   ]
  },
  {
   "cell_type": "markdown",
   "metadata": {},
   "source": [
    " большинство скважин убыточные"
   ]
  },
  {
   "cell_type": "code",
   "execution_count": 21,
   "metadata": {},
   "outputs": [],
   "source": [
    "#пишем функцию расчета дохода\n",
    "state = RandomState(12345)\n",
    "def incomes(target,predict,count):\n",
    "    target = pd.Series(target)\n",
    "    target = target.reset_index(drop = True)\n",
    "    predict = pd.Series(predict)\n",
    "    part_500 = predict.sample(n = 500,random_state = state, replace = True)\n",
    "    part_500 = part_500.sort_values(ascending = False).head(count)\n",
    "    target_part = target[part_500.index]\n",
    "    income = target_part.sum() * BAR - BUDGET\n",
    "    return income"
   ]
  },
  {
   "cell_type": "markdown",
   "metadata": {},
   "source": [
    "## Расчёт прибыли и рисков "
   ]
  },
  {
   "cell_type": "code",
   "execution_count": 22,
   "metadata": {},
   "outputs": [
    {
     "name": "stdout",
     "output_type": "stream",
     "text": [
      "mean: 412.6784721392619\n",
      "up: 909.5927907701544\n",
      "low: -109.87550806414032\n",
      "Вероятность убытка: 6.1 %\n"
     ]
    }
   ],
   "source": [
    "values_0 = []\n",
    "for i in range(1000):\n",
    "    value = incomes(y_valid_2,pred_2,200)\n",
    "    value = value / 1000000\n",
    "    values_0.append(value)\n",
    "values_0 = pd.Series(values_0)\n",
    "mean = values_0.mean()\n",
    "up = values_0.quantile(0.975)\n",
    "low = values_0.quantile(0.025)\n",
    "print('mean:',mean)\n",
    "print('up:',up)\n",
    "print('low:',low)\n",
    "print('Вероятность убытка:', (values_0 < 0).mean() * 100 , '%')"
   ]
  },
  {
   "cell_type": "code",
   "execution_count": 23,
   "metadata": {},
   "outputs": [
    {
     "name": "stdout",
     "output_type": "stream",
     "text": [
      "mean: 452.06798625523527\n",
      "up: 845.2328827952016\n",
      "low: 60.25388349177985\n",
      "Вероятность убытка: 0.8 %\n"
     ]
    }
   ],
   "source": [
    "values_1 = []\n",
    "for i in range(1000):\n",
    "    value = incomes(y_valid_1,pred_1,200)\n",
    "    value = value / 1000000\n",
    "    values_1.append(value)\n",
    "values_1 = pd.Series(values_1)\n",
    "mean = values_1.mean()\n",
    "up = values_1.quantile(0.975)\n",
    "low = values_1.quantile(0.025)\n",
    "print('mean:',mean)\n",
    "print('up:',up)\n",
    "print('low:',low)\n",
    "print('Вероятность убытка:', (values_1 < 0).mean() * 100 , '%')"
   ]
  },
  {
   "cell_type": "code",
   "execution_count": 24,
   "metadata": {},
   "outputs": [
    {
     "name": "stdout",
     "output_type": "stream",
     "text": [
      "mean: 364.5397797892293\n",
      "up: 868.7869152884986\n",
      "low: -120.00971730032187\n",
      "Вероятность убытка: 7.000000000000001 %\n"
     ]
    }
   ],
   "source": [
    "values_2 = []\n",
    "for i in range(1000):\n",
    "    value = incomes(y_valid_0,pred_0,200)\n",
    "    value = value / 1000000\n",
    "    values_2.append(value)\n",
    "values_2 = pd.Series(values_2)\n",
    "mean = values_2.mean()\n",
    "up = values_2.quantile(0.975)\n",
    "low = values_2.quantile(0.025)\n",
    "print('mean:',mean)\n",
    "print('up:',up)\n",
    "print('low:',low)\n",
    "print('Вероятность убытка:', (values_2 < 0).mean() * 100 , '%')"
   ]
  },
  {
   "cell_type": "markdown",
   "metadata": {},
   "source": [
    "<div class=\"alert alert-info\" role=\"alert\">\n",
    "Перспективнее регион geo_data_1\n",
    "    \n",
    "    \n",
    "Минимальный риск (минимальная прибыль в 95% доверительном интервале:60млн)\n",
    "\n",
    "Лучшие средние по запасам сырья в скважинах (средняя прибыль 452млн)\n",
    "</div>"
   ]
  },
  {
   "cell_type": "markdown",
   "metadata": {},
   "source": [
    "# Вывод"
   ]
  },
  {
   "cell_type": "markdown",
   "metadata": {},
   "source": [
    "<div class=\"alert alert-info\" role=\"alert\">\n",
    "    \n",
    "Загрузили и проверили данные на пропуски и дубликаты.\n",
    "   \n",
    "Для предсказаний выбрали LinearRegression.Результат оценили метрикой RMSE.\n",
    "    \n",
    "Подготовили функцию расчета и получили от нее следующие результаты:   \n",
    "\n",
    "--Перспективнее регион с данными geo_data_1.\n",
    "    \n",
    "--Минимальный риск (минимальная прибыль в 95% доверительном интервале:60млн).\n",
    "    \n",
    "--Лучшие средние по запасам сырья в скважинах(средняя прибыль 452млн).\n",
    "</div>"
   ]
  }
 ],
 "metadata": {
  "ExecuteTimeLog": [
   {
    "duration": 1321,
    "start_time": "2022-07-10T03:40:02.675Z"
   },
   {
    "duration": 138,
    "start_time": "2022-07-10T03:40:03.997Z"
   },
   {
    "duration": 0,
    "start_time": "2022-07-10T03:40:04.137Z"
   },
   {
    "duration": 0,
    "start_time": "2022-07-10T03:40:04.138Z"
   },
   {
    "duration": 0,
    "start_time": "2022-07-10T03:40:04.139Z"
   },
   {
    "duration": 0,
    "start_time": "2022-07-10T03:40:04.140Z"
   },
   {
    "duration": 0,
    "start_time": "2022-07-10T03:40:04.141Z"
   },
   {
    "duration": 0,
    "start_time": "2022-07-10T03:40:04.142Z"
   },
   {
    "duration": 0,
    "start_time": "2022-07-10T03:40:04.143Z"
   },
   {
    "duration": 0,
    "start_time": "2022-07-10T03:40:04.144Z"
   },
   {
    "duration": 0,
    "start_time": "2022-07-10T03:40:04.145Z"
   },
   {
    "duration": 0,
    "start_time": "2022-07-10T03:40:04.146Z"
   },
   {
    "duration": 0,
    "start_time": "2022-07-10T03:40:04.147Z"
   },
   {
    "duration": 0,
    "start_time": "2022-07-10T03:40:04.148Z"
   },
   {
    "duration": 0,
    "start_time": "2022-07-10T03:40:04.149Z"
   },
   {
    "duration": 0,
    "start_time": "2022-07-10T03:40:04.151Z"
   },
   {
    "duration": 0,
    "start_time": "2022-07-10T03:40:04.152Z"
   },
   {
    "duration": 61,
    "start_time": "2022-07-10T03:43:28.583Z"
   },
   {
    "duration": 50,
    "start_time": "2022-07-10T03:43:38.627Z"
   },
   {
    "duration": 717,
    "start_time": "2022-07-10T03:43:43.914Z"
   },
   {
    "duration": 14,
    "start_time": "2022-07-10T03:43:45.922Z"
   },
   {
    "duration": 15,
    "start_time": "2022-07-10T03:43:46.058Z"
   },
   {
    "duration": 13,
    "start_time": "2022-07-10T03:43:46.259Z"
   },
   {
    "duration": 29,
    "start_time": "2022-07-10T03:43:46.394Z"
   },
   {
    "duration": 69,
    "start_time": "2022-07-10T03:43:46.578Z"
   },
   {
    "duration": 44,
    "start_time": "2022-07-10T03:43:46.857Z"
   },
   {
    "duration": 44,
    "start_time": "2022-07-10T03:43:47.025Z"
   },
   {
    "duration": 101,
    "start_time": "2022-07-10T03:43:47.223Z"
   },
   {
    "duration": 3,
    "start_time": "2022-07-10T03:43:47.466Z"
   },
   {
    "duration": 5,
    "start_time": "2022-07-10T03:43:47.633Z"
   },
   {
    "duration": 2,
    "start_time": "2022-07-10T03:43:47.794Z"
   },
   {
    "duration": 4,
    "start_time": "2022-07-10T03:43:47.947Z"
   },
   {
    "duration": 834,
    "start_time": "2022-07-10T03:43:48.233Z"
   },
   {
    "duration": 887,
    "start_time": "2022-07-10T03:43:49.069Z"
   },
   {
    "duration": 821,
    "start_time": "2022-07-10T03:43:49.957Z"
   },
   {
    "duration": 2,
    "start_time": "2022-07-10T03:45:44.823Z"
   },
   {
    "duration": 40,
    "start_time": "2022-07-10T03:45:45.286Z"
   },
   {
    "duration": 6,
    "start_time": "2022-07-10T03:55:05.413Z"
   },
   {
    "duration": 827,
    "start_time": "2022-07-10T03:57:26.220Z"
   },
   {
    "duration": 803,
    "start_time": "2022-07-10T03:57:32.010Z"
   },
   {
    "duration": 1740,
    "start_time": "2022-07-11T04:30:51.787Z"
   },
   {
    "duration": 651,
    "start_time": "2022-07-11T04:30:53.529Z"
   },
   {
    "duration": 14,
    "start_time": "2022-07-11T04:30:54.181Z"
   },
   {
    "duration": 11,
    "start_time": "2022-07-11T04:30:54.197Z"
   },
   {
    "duration": 10,
    "start_time": "2022-07-11T04:30:54.210Z"
   },
   {
    "duration": 25,
    "start_time": "2022-07-11T04:30:55.061Z"
   },
   {
    "duration": 16,
    "start_time": "2022-07-11T04:31:06.349Z"
   },
   {
    "duration": 326,
    "start_time": "2022-07-11T04:31:51.103Z"
   },
   {
    "duration": 4092,
    "start_time": "2022-07-11T04:33:36.229Z"
   },
   {
    "duration": 3,
    "start_time": "2022-07-11T05:40:38.319Z"
   },
   {
    "duration": 324,
    "start_time": "2022-07-11T05:40:38.709Z"
   },
   {
    "duration": 18,
    "start_time": "2022-07-11T05:40:39.035Z"
   },
   {
    "duration": 13,
    "start_time": "2022-07-11T05:40:39.055Z"
   },
   {
    "duration": 14,
    "start_time": "2022-07-11T05:40:39.172Z"
   },
   {
    "duration": 23,
    "start_time": "2022-07-11T05:40:39.318Z"
   },
   {
    "duration": 73,
    "start_time": "2022-07-11T05:40:39.461Z"
   },
   {
    "duration": 3,
    "start_time": "2022-07-11T05:40:40.237Z"
   },
   {
    "duration": 225,
    "start_time": "2022-07-11T05:40:40.572Z"
   },
   {
    "duration": 280,
    "start_time": "2022-07-11T05:40:40.799Z"
   },
   {
    "duration": 291,
    "start_time": "2022-07-11T05:40:41.082Z"
   },
   {
    "duration": 2,
    "start_time": "2022-07-11T05:40:42.893Z"
   },
   {
    "duration": 200,
    "start_time": "2022-07-11T05:40:43.245Z"
   },
   {
    "duration": 119,
    "start_time": "2022-07-11T05:40:43.447Z"
   },
   {
    "duration": 107,
    "start_time": "2022-07-11T05:40:43.940Z"
   },
   {
    "duration": 467,
    "start_time": "2022-07-11T05:40:47.412Z"
   },
   {
    "duration": 3,
    "start_time": "2022-07-11T05:41:39.679Z"
   },
   {
    "duration": 5,
    "start_time": "2022-07-11T05:41:39.990Z"
   },
   {
    "duration": 4,
    "start_time": "2022-07-11T05:41:40.414Z"
   },
   {
    "duration": 138,
    "start_time": "2022-07-11T05:41:41.174Z"
   },
   {
    "duration": 0,
    "start_time": "2022-07-11T05:41:41.314Z"
   },
   {
    "duration": 801,
    "start_time": "2022-07-11T05:41:48.987Z"
   },
   {
    "duration": 796,
    "start_time": "2022-07-11T05:42:17.636Z"
   },
   {
    "duration": 788,
    "start_time": "2022-07-11T05:42:18.434Z"
   },
   {
    "duration": 785,
    "start_time": "2022-07-11T05:42:19.224Z"
   },
   {
    "duration": 42,
    "start_time": "2022-07-11T14:19:29.189Z"
   },
   {
    "duration": 1503,
    "start_time": "2022-07-11T14:19:33.655Z"
   },
   {
    "duration": 1719,
    "start_time": "2022-07-11T14:19:35.160Z"
   },
   {
    "duration": 15,
    "start_time": "2022-07-11T14:19:36.880Z"
   },
   {
    "duration": 14,
    "start_time": "2022-07-11T14:19:36.897Z"
   },
   {
    "duration": 22,
    "start_time": "2022-07-11T14:19:36.914Z"
   },
   {
    "duration": 28,
    "start_time": "2022-07-11T14:19:36.938Z"
   },
   {
    "duration": 71,
    "start_time": "2022-07-11T14:19:36.967Z"
   },
   {
    "duration": 24,
    "start_time": "2022-07-11T14:19:37.039Z"
   },
   {
    "duration": 3,
    "start_time": "2022-07-11T14:19:37.065Z"
   },
   {
    "duration": 356,
    "start_time": "2022-07-11T14:19:37.070Z"
   },
   {
    "duration": 259,
    "start_time": "2022-07-11T14:19:37.427Z"
   },
   {
    "duration": 213,
    "start_time": "2022-07-11T14:19:37.688Z"
   },
   {
    "duration": 3,
    "start_time": "2022-07-11T14:19:37.902Z"
   },
   {
    "duration": 74,
    "start_time": "2022-07-11T14:19:37.907Z"
   },
   {
    "duration": 188,
    "start_time": "2022-07-11T14:19:37.984Z"
   },
   {
    "duration": 205,
    "start_time": "2022-07-11T14:19:38.174Z"
   },
   {
    "duration": 674,
    "start_time": "2022-07-11T14:19:38.380Z"
   },
   {
    "duration": 4,
    "start_time": "2022-07-11T14:19:39.056Z"
   },
   {
    "duration": 99,
    "start_time": "2022-07-11T14:19:39.062Z"
   },
   {
    "duration": 7,
    "start_time": "2022-07-11T14:19:39.162Z"
   },
   {
    "duration": 880,
    "start_time": "2022-07-11T14:19:39.170Z"
   },
   {
    "duration": 839,
    "start_time": "2022-07-11T14:19:40.052Z"
   },
   {
    "duration": 841,
    "start_time": "2022-07-11T14:19:40.893Z"
   },
   {
    "duration": 16,
    "start_time": "2022-07-11T14:20:27.909Z"
   },
   {
    "duration": 14,
    "start_time": "2022-07-11T14:20:35.472Z"
   },
   {
    "duration": 485,
    "start_time": "2022-07-11T14:33:03.196Z"
   }
  ],
  "kernelspec": {
   "display_name": "Python 3 (ipykernel)",
   "language": "python",
   "name": "python3"
  },
  "language_info": {
   "codemirror_mode": {
    "name": "ipython",
    "version": 3
   },
   "file_extension": ".py",
   "mimetype": "text/x-python",
   "name": "python",
   "nbconvert_exporter": "python",
   "pygments_lexer": "ipython3",
   "version": "3.9.13"
  },
  "toc": {
   "base_numbering": 1,
   "nav_menu": {},
   "number_sections": true,
   "sideBar": true,
   "skip_h1_title": true,
   "title_cell": "Table of Contents",
   "title_sidebar": "Contents",
   "toc_cell": false,
   "toc_position": {},
   "toc_section_display": true,
   "toc_window_display": false
  }
 },
 "nbformat": 4,
 "nbformat_minor": 2
}
