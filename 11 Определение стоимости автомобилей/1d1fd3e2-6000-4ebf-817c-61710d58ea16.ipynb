{
 "cells": [
  {
   "cell_type": "markdown",
   "metadata": {},
   "source": [
    "# Определение стоимости автомобилей"
   ]
  },
  {
   "cell_type": "markdown",
   "metadata": {},
   "source": [
    "Сервис по продаже автомобилей с пробегом «Не бит, не крашен» разрабатывает приложение для привлечения новых клиентов. В нём можно быстро узнать рыночную стоимость своего автомобиля. В вашем распоряжении исторические данные: технические характеристики, комплектации и цены автомобилей. Вам нужно построить модель для определения стоимости. \n",
    "\n",
    "Заказчику важны:\n",
    "\n",
    "- качество предсказания;\n",
    "- скорость предсказания;\n",
    "- время обучения."
   ]
  },
  {
   "cell_type": "markdown",
   "metadata": {},
   "source": [
    "<div class=\"alert alert-info\" role=\"alert\">\n",
    "Загрузим и обработаем данные.\n",
    "\n",
    "Подберем несколько моделей.\n",
    "    \n",
    "После анализа выберем модель которая лучше всего подойдет заказчику.\n",
    "</div>"
   ]
  },
  {
   "cell_type": "markdown",
   "metadata": {},
   "source": [
    "## Подготовка данных"
   ]
  },
  {
   "cell_type": "code",
   "execution_count": 80,
   "metadata": {},
   "outputs": [],
   "source": [
    "import pandas as pd\n",
    "import matplotlib.pyplot as plt\n",
    "from sklearn.model_selection import train_test_split\n",
    "from sklearn.metrics import mean_squared_error\n",
    "from sklearn.linear_model import LinearRegression\n",
    "import lightgbm as lgb\n",
    "from catboost import CatBoostRegressor\n",
    "from sklearn.model_selection import GridSearchCV"
   ]
  },
  {
   "cell_type": "code",
   "execution_count": 81,
   "metadata": {},
   "outputs": [],
   "source": [
    "try:\n",
    "    df = pd.read_csv('autos.csv')\n",
    "except:\n",
    "    df = pd.read_csv('/datasets/autos.csv')"
   ]
  },
  {
   "cell_type": "code",
   "execution_count": 82,
   "metadata": {},
   "outputs": [
    {
     "name": "stdout",
     "output_type": "stream",
     "text": [
      "<class 'pandas.core.frame.DataFrame'>\n",
      "RangeIndex: 354369 entries, 0 to 354368\n",
      "Data columns (total 16 columns):\n",
      " #   Column             Non-Null Count   Dtype \n",
      "---  ------             --------------   ----- \n",
      " 0   DateCrawled        354369 non-null  object\n",
      " 1   Price              354369 non-null  int64 \n",
      " 2   VehicleType        316879 non-null  object\n",
      " 3   RegistrationYear   354369 non-null  int64 \n",
      " 4   Gearbox            334536 non-null  object\n",
      " 5   Power              354369 non-null  int64 \n",
      " 6   Model              334664 non-null  object\n",
      " 7   Kilometer          354369 non-null  int64 \n",
      " 8   RegistrationMonth  354369 non-null  int64 \n",
      " 9   FuelType           321474 non-null  object\n",
      " 10  Brand              354369 non-null  object\n",
      " 11  NotRepaired        283215 non-null  object\n",
      " 12  DateCreated        354369 non-null  object\n",
      " 13  NumberOfPictures   354369 non-null  int64 \n",
      " 14  PostalCode         354369 non-null  int64 \n",
      " 15  LastSeen           354369 non-null  object\n",
      "dtypes: int64(7), object(9)\n",
      "memory usage: 43.3+ MB\n"
     ]
    }
   ],
   "source": [
    "df.info()"
   ]
  },
  {
   "cell_type": "code",
   "execution_count": 83,
   "metadata": {
    "scrolled": false
   },
   "outputs": [
    {
     "data": {
      "text/html": [
       "<div>\n",
       "<style scoped>\n",
       "    .dataframe tbody tr th:only-of-type {\n",
       "        vertical-align: middle;\n",
       "    }\n",
       "\n",
       "    .dataframe tbody tr th {\n",
       "        vertical-align: top;\n",
       "    }\n",
       "\n",
       "    .dataframe thead th {\n",
       "        text-align: right;\n",
       "    }\n",
       "</style>\n",
       "<table border=\"1\" class=\"dataframe\">\n",
       "  <thead>\n",
       "    <tr style=\"text-align: right;\">\n",
       "      <th></th>\n",
       "      <th>DateCrawled</th>\n",
       "      <th>Price</th>\n",
       "      <th>VehicleType</th>\n",
       "      <th>RegistrationYear</th>\n",
       "      <th>Gearbox</th>\n",
       "      <th>Power</th>\n",
       "      <th>Model</th>\n",
       "      <th>Kilometer</th>\n",
       "      <th>RegistrationMonth</th>\n",
       "      <th>FuelType</th>\n",
       "      <th>Brand</th>\n",
       "      <th>NotRepaired</th>\n",
       "      <th>DateCreated</th>\n",
       "      <th>NumberOfPictures</th>\n",
       "      <th>PostalCode</th>\n",
       "      <th>LastSeen</th>\n",
       "    </tr>\n",
       "  </thead>\n",
       "  <tbody>\n",
       "    <tr>\n",
       "      <th>0</th>\n",
       "      <td>2016-03-24 11:52:17</td>\n",
       "      <td>480</td>\n",
       "      <td>NaN</td>\n",
       "      <td>1993</td>\n",
       "      <td>manual</td>\n",
       "      <td>0</td>\n",
       "      <td>golf</td>\n",
       "      <td>150000</td>\n",
       "      <td>0</td>\n",
       "      <td>petrol</td>\n",
       "      <td>volkswagen</td>\n",
       "      <td>NaN</td>\n",
       "      <td>2016-03-24 00:00:00</td>\n",
       "      <td>0</td>\n",
       "      <td>70435</td>\n",
       "      <td>2016-04-07 03:16:57</td>\n",
       "    </tr>\n",
       "    <tr>\n",
       "      <th>1</th>\n",
       "      <td>2016-03-24 10:58:45</td>\n",
       "      <td>18300</td>\n",
       "      <td>coupe</td>\n",
       "      <td>2011</td>\n",
       "      <td>manual</td>\n",
       "      <td>190</td>\n",
       "      <td>NaN</td>\n",
       "      <td>125000</td>\n",
       "      <td>5</td>\n",
       "      <td>gasoline</td>\n",
       "      <td>audi</td>\n",
       "      <td>yes</td>\n",
       "      <td>2016-03-24 00:00:00</td>\n",
       "      <td>0</td>\n",
       "      <td>66954</td>\n",
       "      <td>2016-04-07 01:46:50</td>\n",
       "    </tr>\n",
       "    <tr>\n",
       "      <th>2</th>\n",
       "      <td>2016-03-14 12:52:21</td>\n",
       "      <td>9800</td>\n",
       "      <td>suv</td>\n",
       "      <td>2004</td>\n",
       "      <td>auto</td>\n",
       "      <td>163</td>\n",
       "      <td>grand</td>\n",
       "      <td>125000</td>\n",
       "      <td>8</td>\n",
       "      <td>gasoline</td>\n",
       "      <td>jeep</td>\n",
       "      <td>NaN</td>\n",
       "      <td>2016-03-14 00:00:00</td>\n",
       "      <td>0</td>\n",
       "      <td>90480</td>\n",
       "      <td>2016-04-05 12:47:46</td>\n",
       "    </tr>\n",
       "    <tr>\n",
       "      <th>3</th>\n",
       "      <td>2016-03-17 16:54:04</td>\n",
       "      <td>1500</td>\n",
       "      <td>small</td>\n",
       "      <td>2001</td>\n",
       "      <td>manual</td>\n",
       "      <td>75</td>\n",
       "      <td>golf</td>\n",
       "      <td>150000</td>\n",
       "      <td>6</td>\n",
       "      <td>petrol</td>\n",
       "      <td>volkswagen</td>\n",
       "      <td>no</td>\n",
       "      <td>2016-03-17 00:00:00</td>\n",
       "      <td>0</td>\n",
       "      <td>91074</td>\n",
       "      <td>2016-03-17 17:40:17</td>\n",
       "    </tr>\n",
       "    <tr>\n",
       "      <th>4</th>\n",
       "      <td>2016-03-31 17:25:20</td>\n",
       "      <td>3600</td>\n",
       "      <td>small</td>\n",
       "      <td>2008</td>\n",
       "      <td>manual</td>\n",
       "      <td>69</td>\n",
       "      <td>fabia</td>\n",
       "      <td>90000</td>\n",
       "      <td>7</td>\n",
       "      <td>gasoline</td>\n",
       "      <td>skoda</td>\n",
       "      <td>no</td>\n",
       "      <td>2016-03-31 00:00:00</td>\n",
       "      <td>0</td>\n",
       "      <td>60437</td>\n",
       "      <td>2016-04-06 10:17:21</td>\n",
       "    </tr>\n",
       "  </tbody>\n",
       "</table>\n",
       "</div>"
      ],
      "text/plain": [
       "           DateCrawled  Price VehicleType  RegistrationYear Gearbox  Power  \\\n",
       "0  2016-03-24 11:52:17    480         NaN              1993  manual      0   \n",
       "1  2016-03-24 10:58:45  18300       coupe              2011  manual    190   \n",
       "2  2016-03-14 12:52:21   9800         suv              2004    auto    163   \n",
       "3  2016-03-17 16:54:04   1500       small              2001  manual     75   \n",
       "4  2016-03-31 17:25:20   3600       small              2008  manual     69   \n",
       "\n",
       "   Model  Kilometer  RegistrationMonth  FuelType       Brand NotRepaired  \\\n",
       "0   golf     150000                  0    petrol  volkswagen         NaN   \n",
       "1    NaN     125000                  5  gasoline        audi         yes   \n",
       "2  grand     125000                  8  gasoline        jeep         NaN   \n",
       "3   golf     150000                  6    petrol  volkswagen          no   \n",
       "4  fabia      90000                  7  gasoline       skoda          no   \n",
       "\n",
       "           DateCreated  NumberOfPictures  PostalCode             LastSeen  \n",
       "0  2016-03-24 00:00:00                 0       70435  2016-04-07 03:16:57  \n",
       "1  2016-03-24 00:00:00                 0       66954  2016-04-07 01:46:50  \n",
       "2  2016-03-14 00:00:00                 0       90480  2016-04-05 12:47:46  \n",
       "3  2016-03-17 00:00:00                 0       91074  2016-03-17 17:40:17  \n",
       "4  2016-03-31 00:00:00                 0       60437  2016-04-06 10:17:21  "
      ]
     },
     "execution_count": 83,
     "metadata": {},
     "output_type": "execute_result"
    }
   ],
   "source": [
    "df.head()"
   ]
  },
  {
   "cell_type": "markdown",
   "metadata": {},
   "source": [
    "<div class=\"alert alert-info\" role=\"alert\">\n",
    "Устраним дубликаты и пропуски.\n",
    "</div>"
   ]
  },
  {
   "cell_type": "markdown",
   "metadata": {},
   "source": [
    "<div class=\"alert alert-info\" role=\"alert\">\n",
    "Уберем стобцы с датой,кодом(неинформативны для обучения) и модели авто(слишком много категорий)\n",
    "</div>"
   ]
  },
  {
   "cell_type": "code",
   "execution_count": 84,
   "metadata": {},
   "outputs": [],
   "source": [
    "df = df.drop(columns = ['DateCrawled','Model','RegistrationMonth','DateCreated','LastSeen','PostalCode'],axis=1)\n"
   ]
  },
  {
   "cell_type": "code",
   "execution_count": 85,
   "metadata": {},
   "outputs": [
    {
     "data": {
      "text/plain": [
       "Price                   0\n",
       "VehicleType         37490\n",
       "RegistrationYear        0\n",
       "Gearbox             19833\n",
       "Power                   0\n",
       "Kilometer               0\n",
       "FuelType            32895\n",
       "Brand                   0\n",
       "NotRepaired         71154\n",
       "NumberOfPictures        0\n",
       "dtype: int64"
      ]
     },
     "execution_count": 85,
     "metadata": {},
     "output_type": "execute_result"
    }
   ],
   "source": [
    "df.isna().sum()"
   ]
  },
  {
   "cell_type": "markdown",
   "metadata": {},
   "source": [
    "<div class=\"alert alert-info\" role=\"alert\">\n",
    " Заполним пропуски заглушками\n",
    "</div>"
   ]
  },
  {
   "cell_type": "code",
   "execution_count": 86,
   "metadata": {},
   "outputs": [],
   "source": [
    "df=df.fillna('plug')"
   ]
  },
  {
   "cell_type": "code",
   "execution_count": 87,
   "metadata": {},
   "outputs": [],
   "source": [
    "df['Price'] = pd.to_numeric(df['Price'])\n",
    "df['NumberOfPictures'] = pd.to_numeric(df['NumberOfPictures'])\n",
    "df['RegistrationYear'] = pd.to_numeric(df['RegistrationYear'])\n",
    "df['Power'] = pd.to_numeric(df['Power'])\n",
    "df['Kilometer'] = pd.to_numeric(df['Kilometer'])"
   ]
  },
  {
   "cell_type": "code",
   "execution_count": 88,
   "metadata": {},
   "outputs": [
    {
     "name": "stdout",
     "output_type": "stream",
     "text": [
      "<class 'pandas.core.frame.DataFrame'>\n",
      "RangeIndex: 354369 entries, 0 to 354368\n",
      "Data columns (total 10 columns):\n",
      " #   Column            Non-Null Count   Dtype \n",
      "---  ------            --------------   ----- \n",
      " 0   Price             354369 non-null  int64 \n",
      " 1   VehicleType       354369 non-null  object\n",
      " 2   RegistrationYear  354369 non-null  int64 \n",
      " 3   Gearbox           354369 non-null  object\n",
      " 4   Power             354369 non-null  int64 \n",
      " 5   Kilometer         354369 non-null  int64 \n",
      " 6   FuelType          354369 non-null  object\n",
      " 7   Brand             354369 non-null  object\n",
      " 8   NotRepaired       354369 non-null  object\n",
      " 9   NumberOfPictures  354369 non-null  int64 \n",
      "dtypes: int64(5), object(5)\n",
      "memory usage: 27.0+ MB\n"
     ]
    }
   ],
   "source": [
    "df.info()"
   ]
  },
  {
   "cell_type": "code",
   "execution_count": 89,
   "metadata": {},
   "outputs": [
    {
     "data": {
      "text/plain": [
       "Index(['Price', 'VehicleType', 'RegistrationYear', 'Gearbox', 'Power',\n",
       "       'Kilometer', 'FuelType', 'Brand', 'NotRepaired', 'NumberOfPictures'],\n",
       "      dtype='object')"
      ]
     },
     "execution_count": 89,
     "metadata": {},
     "output_type": "execute_result"
    }
   ],
   "source": [
    "df.columns"
   ]
  },
  {
   "cell_type": "code",
   "execution_count": 95,
   "metadata": {
    "scrolled": false
   },
   "outputs": [
    {
     "data": {
      "image/png": "[encoded data removed]",
      "text/plain": [
       "<Figure size 1500x3000 with 10 Axes>"
      ]
     },
     "metadata": {},
     "output_type": "display_data"
    }
   ],
   "source": [
    "fig = plt.figure()\n",
    "total_axes = len(df.columns) \n",
    "subplt = 1 \n",
    "for x in df.columns:\n",
    "    ax = fig.add_subplot(total_axes, 1, subplt) \n",
    "    df[x].hist(figsize=(15,30),bins=100,legend=1) \n",
    "    subplt+=1\n",
    "    \n",
    "\n",
    "plt.tight_layout()\n",
    "plt.show()"
   ]
  },
  {
   "cell_type": "code",
   "execution_count": 59,
   "metadata": {},
   "outputs": [
    {
     "data": {
      "text/plain": [
       "'2016-04-07 14:36:58'"
      ]
     },
     "execution_count": 59,
     "metadata": {},
     "output_type": "execute_result"
    }
   ],
   "source": [
    "try:\n",
    "    q = pd.read_csv('autos.csv')\n",
    "except:\n",
    "    q = pd.read_csv('/datasets/autos.csv')\n",
    "q['DateCrawled'].max()"
   ]
  },
  {
   "cell_type": "markdown",
   "metadata": {},
   "source": [
    "<div class=\"alert alert-info\" role=\"alert\">\n",
    "По гистограмам может отделить аномалии:\n",
    "        \n",
    "Регистрация авто(Даже если брать популярные ретро-авто это от 1950 годов,начало активного производства авто как таковых было ближе к 1900) возьмем ранний срок 1900 и ограницим последней датой DateCrawled 2016.\n",
    "    \n",
    "Мощность авто,возьмем от 20 (Авто должно хотя бы тронутся с места) и ограничим 4600 (Почему бы не продавать Белаз )\n",
    "    \n",
    "Цену ограничим от 1 евро\n",
    "    \n",
    "Количество фото везде 0 (стоило бы сообщить о таком в соответствующий отдел) столбец не информативен\n",
    "</div>"
   ]
  },
  {
   "cell_type": "code",
   "execution_count": 60,
   "metadata": {},
   "outputs": [],
   "source": [
    "df = df.query('2016 > RegistrationYear > 1900')\n",
    "df = df.query('4600 > Power > 20')\n",
    "df = df.drop(columns='NumberOfPictures')\n",
    "df = df.query('1 < Price')"
   ]
  },
  {
   "cell_type": "markdown",
   "metadata": {},
   "source": [
    "<div class=\"alert alert-info\" role=\"alert\">\n",
    " Кодируем данные техникой OHE и сохраним отдельно некодированый датасет для модели CatBoost\n",
    "</div>"
   ]
  },
  {
   "cell_type": "code",
   "execution_count": 61,
   "metadata": {},
   "outputs": [
    {
     "data": {
      "text/plain": [
       "43853"
      ]
     },
     "execution_count": 61,
     "metadata": {},
     "output_type": "execute_result"
    }
   ],
   "source": [
    "df.duplicated().sum()"
   ]
  },
  {
   "cell_type": "code",
   "execution_count": 62,
   "metadata": {},
   "outputs": [],
   "source": [
    "df = df.drop_duplicates()"
   ]
  },
  {
   "cell_type": "code",
   "execution_count": 63,
   "metadata": {},
   "outputs": [],
   "source": [
    "df_cat = df.copy()\n",
    "list_ohe = ['VehicleType','Gearbox','FuelType','NotRepaired','Brand']"
   ]
  },
  {
   "cell_type": "code",
   "execution_count": 64,
   "metadata": {
    "scrolled": false
   },
   "outputs": [],
   "source": [
    "for_df_ohe = pd.get_dummies(df[list_ohe])"
   ]
  },
  {
   "cell_type": "code",
   "execution_count": 65,
   "metadata": {},
   "outputs": [],
   "source": [
    "df = df.drop(columns=list_ohe,axis = 1)"
   ]
  },
  {
   "cell_type": "code",
   "execution_count": 66,
   "metadata": {},
   "outputs": [],
   "source": [
    "df_ohe = df.join(for_df_ohe)"
   ]
  },
  {
   "cell_type": "code",
   "execution_count": 67,
   "metadata": {},
   "outputs": [
    {
     "data": {
      "text/html": [
       "<div>\n",
       "<style scoped>\n",
       "    .dataframe tbody tr th:only-of-type {\n",
       "        vertical-align: middle;\n",
       "    }\n",
       "\n",
       "    .dataframe tbody tr th {\n",
       "        vertical-align: top;\n",
       "    }\n",
       "\n",
       "    .dataframe thead th {\n",
       "        text-align: right;\n",
       "    }\n",
       "</style>\n",
       "<table border=\"1\" class=\"dataframe\">\n",
       "  <thead>\n",
       "    <tr style=\"text-align: right;\">\n",
       "      <th></th>\n",
       "      <th>Price</th>\n",
       "      <th>RegistrationYear</th>\n",
       "      <th>Power</th>\n",
       "      <th>Kilometer</th>\n",
       "      <th>VehicleType_bus</th>\n",
       "      <th>VehicleType_convertible</th>\n",
       "      <th>VehicleType_coupe</th>\n",
       "      <th>VehicleType_other</th>\n",
       "      <th>VehicleType_plug</th>\n",
       "      <th>VehicleType_sedan</th>\n",
       "      <th>...</th>\n",
       "      <th>Brand_seat</th>\n",
       "      <th>Brand_skoda</th>\n",
       "      <th>Brand_smart</th>\n",
       "      <th>Brand_sonstige_autos</th>\n",
       "      <th>Brand_subaru</th>\n",
       "      <th>Brand_suzuki</th>\n",
       "      <th>Brand_toyota</th>\n",
       "      <th>Brand_trabant</th>\n",
       "      <th>Brand_volkswagen</th>\n",
       "      <th>Brand_volvo</th>\n",
       "    </tr>\n",
       "  </thead>\n",
       "  <tbody>\n",
       "    <tr>\n",
       "      <th>1</th>\n",
       "      <td>18300</td>\n",
       "      <td>2011</td>\n",
       "      <td>190</td>\n",
       "      <td>125000</td>\n",
       "      <td>0</td>\n",
       "      <td>0</td>\n",
       "      <td>1</td>\n",
       "      <td>0</td>\n",
       "      <td>0</td>\n",
       "      <td>0</td>\n",
       "      <td>...</td>\n",
       "      <td>0</td>\n",
       "      <td>0</td>\n",
       "      <td>0</td>\n",
       "      <td>0</td>\n",
       "      <td>0</td>\n",
       "      <td>0</td>\n",
       "      <td>0</td>\n",
       "      <td>0</td>\n",
       "      <td>0</td>\n",
       "      <td>0</td>\n",
       "    </tr>\n",
       "    <tr>\n",
       "      <th>2</th>\n",
       "      <td>9800</td>\n",
       "      <td>2004</td>\n",
       "      <td>163</td>\n",
       "      <td>125000</td>\n",
       "      <td>0</td>\n",
       "      <td>0</td>\n",
       "      <td>0</td>\n",
       "      <td>0</td>\n",
       "      <td>0</td>\n",
       "      <td>0</td>\n",
       "      <td>...</td>\n",
       "      <td>0</td>\n",
       "      <td>0</td>\n",
       "      <td>0</td>\n",
       "      <td>0</td>\n",
       "      <td>0</td>\n",
       "      <td>0</td>\n",
       "      <td>0</td>\n",
       "      <td>0</td>\n",
       "      <td>0</td>\n",
       "      <td>0</td>\n",
       "    </tr>\n",
       "    <tr>\n",
       "      <th>3</th>\n",
       "      <td>1500</td>\n",
       "      <td>2001</td>\n",
       "      <td>75</td>\n",
       "      <td>150000</td>\n",
       "      <td>0</td>\n",
       "      <td>0</td>\n",
       "      <td>0</td>\n",
       "      <td>0</td>\n",
       "      <td>0</td>\n",
       "      <td>0</td>\n",
       "      <td>...</td>\n",
       "      <td>0</td>\n",
       "      <td>0</td>\n",
       "      <td>0</td>\n",
       "      <td>0</td>\n",
       "      <td>0</td>\n",
       "      <td>0</td>\n",
       "      <td>0</td>\n",
       "      <td>0</td>\n",
       "      <td>1</td>\n",
       "      <td>0</td>\n",
       "    </tr>\n",
       "    <tr>\n",
       "      <th>4</th>\n",
       "      <td>3600</td>\n",
       "      <td>2008</td>\n",
       "      <td>69</td>\n",
       "      <td>90000</td>\n",
       "      <td>0</td>\n",
       "      <td>0</td>\n",
       "      <td>0</td>\n",
       "      <td>0</td>\n",
       "      <td>0</td>\n",
       "      <td>0</td>\n",
       "      <td>...</td>\n",
       "      <td>0</td>\n",
       "      <td>1</td>\n",
       "      <td>0</td>\n",
       "      <td>0</td>\n",
       "      <td>0</td>\n",
       "      <td>0</td>\n",
       "      <td>0</td>\n",
       "      <td>0</td>\n",
       "      <td>0</td>\n",
       "      <td>0</td>\n",
       "    </tr>\n",
       "    <tr>\n",
       "      <th>5</th>\n",
       "      <td>650</td>\n",
       "      <td>1995</td>\n",
       "      <td>102</td>\n",
       "      <td>150000</td>\n",
       "      <td>0</td>\n",
       "      <td>0</td>\n",
       "      <td>0</td>\n",
       "      <td>0</td>\n",
       "      <td>0</td>\n",
       "      <td>1</td>\n",
       "      <td>...</td>\n",
       "      <td>0</td>\n",
       "      <td>0</td>\n",
       "      <td>0</td>\n",
       "      <td>0</td>\n",
       "      <td>0</td>\n",
       "      <td>0</td>\n",
       "      <td>0</td>\n",
       "      <td>0</td>\n",
       "      <td>0</td>\n",
       "      <td>0</td>\n",
       "    </tr>\n",
       "    <tr>\n",
       "      <th>...</th>\n",
       "      <td>...</td>\n",
       "      <td>...</td>\n",
       "      <td>...</td>\n",
       "      <td>...</td>\n",
       "      <td>...</td>\n",
       "      <td>...</td>\n",
       "      <td>...</td>\n",
       "      <td>...</td>\n",
       "      <td>...</td>\n",
       "      <td>...</td>\n",
       "      <td>...</td>\n",
       "      <td>...</td>\n",
       "      <td>...</td>\n",
       "      <td>...</td>\n",
       "      <td>...</td>\n",
       "      <td>...</td>\n",
       "      <td>...</td>\n",
       "      <td>...</td>\n",
       "      <td>...</td>\n",
       "      <td>...</td>\n",
       "      <td>...</td>\n",
       "    </tr>\n",
       "    <tr>\n",
       "      <th>354357</th>\n",
       "      <td>1690</td>\n",
       "      <td>2004</td>\n",
       "      <td>55</td>\n",
       "      <td>150000</td>\n",
       "      <td>0</td>\n",
       "      <td>0</td>\n",
       "      <td>0</td>\n",
       "      <td>0</td>\n",
       "      <td>0</td>\n",
       "      <td>0</td>\n",
       "      <td>...</td>\n",
       "      <td>0</td>\n",
       "      <td>1</td>\n",
       "      <td>0</td>\n",
       "      <td>0</td>\n",
       "      <td>0</td>\n",
       "      <td>0</td>\n",
       "      <td>0</td>\n",
       "      <td>0</td>\n",
       "      <td>0</td>\n",
       "      <td>0</td>\n",
       "    </tr>\n",
       "    <tr>\n",
       "      <th>354362</th>\n",
       "      <td>3200</td>\n",
       "      <td>2004</td>\n",
       "      <td>225</td>\n",
       "      <td>150000</td>\n",
       "      <td>0</td>\n",
       "      <td>0</td>\n",
       "      <td>0</td>\n",
       "      <td>0</td>\n",
       "      <td>0</td>\n",
       "      <td>1</td>\n",
       "      <td>...</td>\n",
       "      <td>1</td>\n",
       "      <td>0</td>\n",
       "      <td>0</td>\n",
       "      <td>0</td>\n",
       "      <td>0</td>\n",
       "      <td>0</td>\n",
       "      <td>0</td>\n",
       "      <td>0</td>\n",
       "      <td>0</td>\n",
       "      <td>0</td>\n",
       "    </tr>\n",
       "    <tr>\n",
       "      <th>354366</th>\n",
       "      <td>1199</td>\n",
       "      <td>2000</td>\n",
       "      <td>101</td>\n",
       "      <td>125000</td>\n",
       "      <td>0</td>\n",
       "      <td>1</td>\n",
       "      <td>0</td>\n",
       "      <td>0</td>\n",
       "      <td>0</td>\n",
       "      <td>0</td>\n",
       "      <td>...</td>\n",
       "      <td>0</td>\n",
       "      <td>0</td>\n",
       "      <td>1</td>\n",
       "      <td>0</td>\n",
       "      <td>0</td>\n",
       "      <td>0</td>\n",
       "      <td>0</td>\n",
       "      <td>0</td>\n",
       "      <td>0</td>\n",
       "      <td>0</td>\n",
       "    </tr>\n",
       "    <tr>\n",
       "      <th>354367</th>\n",
       "      <td>9200</td>\n",
       "      <td>1996</td>\n",
       "      <td>102</td>\n",
       "      <td>150000</td>\n",
       "      <td>1</td>\n",
       "      <td>0</td>\n",
       "      <td>0</td>\n",
       "      <td>0</td>\n",
       "      <td>0</td>\n",
       "      <td>0</td>\n",
       "      <td>...</td>\n",
       "      <td>0</td>\n",
       "      <td>0</td>\n",
       "      <td>0</td>\n",
       "      <td>0</td>\n",
       "      <td>0</td>\n",
       "      <td>0</td>\n",
       "      <td>0</td>\n",
       "      <td>0</td>\n",
       "      <td>1</td>\n",
       "      <td>0</td>\n",
       "    </tr>\n",
       "    <tr>\n",
       "      <th>354368</th>\n",
       "      <td>3400</td>\n",
       "      <td>2002</td>\n",
       "      <td>100</td>\n",
       "      <td>150000</td>\n",
       "      <td>0</td>\n",
       "      <td>0</td>\n",
       "      <td>0</td>\n",
       "      <td>0</td>\n",
       "      <td>0</td>\n",
       "      <td>0</td>\n",
       "      <td>...</td>\n",
       "      <td>0</td>\n",
       "      <td>0</td>\n",
       "      <td>0</td>\n",
       "      <td>0</td>\n",
       "      <td>0</td>\n",
       "      <td>0</td>\n",
       "      <td>0</td>\n",
       "      <td>0</td>\n",
       "      <td>1</td>\n",
       "      <td>0</td>\n",
       "    </tr>\n",
       "  </tbody>\n",
       "</table>\n",
       "<p>245586 rows × 67 columns</p>\n",
       "</div>"
      ],
      "text/plain": [
       "        Price  RegistrationYear  Power  Kilometer  VehicleType_bus  \\\n",
       "1       18300              2011    190     125000                0   \n",
       "2        9800              2004    163     125000                0   \n",
       "3        1500              2001     75     150000                0   \n",
       "4        3600              2008     69      90000                0   \n",
       "5         650              1995    102     150000                0   \n",
       "...       ...               ...    ...        ...              ...   \n",
       "354357   1690              2004     55     150000                0   \n",
       "354362   3200              2004    225     150000                0   \n",
       "354366   1199              2000    101     125000                0   \n",
       "354367   9200              1996    102     150000                1   \n",
       "354368   3400              2002    100     150000                0   \n",
       "\n",
       "        VehicleType_convertible  VehicleType_coupe  VehicleType_other  \\\n",
       "1                             0                  1                  0   \n",
       "2                             0                  0                  0   \n",
       "3                             0                  0                  0   \n",
       "4                             0                  0                  0   \n",
       "5                             0                  0                  0   \n",
       "...                         ...                ...                ...   \n",
       "354357                        0                  0                  0   \n",
       "354362                        0                  0                  0   \n",
       "354366                        1                  0                  0   \n",
       "354367                        0                  0                  0   \n",
       "354368                        0                  0                  0   \n",
       "\n",
       "        VehicleType_plug  VehicleType_sedan  ...  Brand_seat  Brand_skoda  \\\n",
       "1                      0                  0  ...           0            0   \n",
       "2                      0                  0  ...           0            0   \n",
       "3                      0                  0  ...           0            0   \n",
       "4                      0                  0  ...           0            1   \n",
       "5                      0                  1  ...           0            0   \n",
       "...                  ...                ...  ...         ...          ...   \n",
       "354357                 0                  0  ...           0            1   \n",
       "354362                 0                  1  ...           1            0   \n",
       "354366                 0                  0  ...           0            0   \n",
       "354367                 0                  0  ...           0            0   \n",
       "354368                 0                  0  ...           0            0   \n",
       "\n",
       "        Brand_smart  Brand_sonstige_autos  Brand_subaru  Brand_suzuki  \\\n",
       "1                 0                     0             0             0   \n",
       "2                 0                     0             0             0   \n",
       "3                 0                     0             0             0   \n",
       "4                 0                     0             0             0   \n",
       "5                 0                     0             0             0   \n",
       "...             ...                   ...           ...           ...   \n",
       "354357            0                     0             0             0   \n",
       "354362            0                     0             0             0   \n",
       "354366            1                     0             0             0   \n",
       "354367            0                     0             0             0   \n",
       "354368            0                     0             0             0   \n",
       "\n",
       "        Brand_toyota  Brand_trabant  Brand_volkswagen  Brand_volvo  \n",
       "1                  0              0                 0            0  \n",
       "2                  0              0                 0            0  \n",
       "3                  0              0                 1            0  \n",
       "4                  0              0                 0            0  \n",
       "5                  0              0                 0            0  \n",
       "...              ...            ...               ...          ...  \n",
       "354357             0              0                 0            0  \n",
       "354362             0              0                 0            0  \n",
       "354366             0              0                 0            0  \n",
       "354367             0              0                 1            0  \n",
       "354368             0              0                 1            0  \n",
       "\n",
       "[245586 rows x 67 columns]"
      ]
     },
     "execution_count": 67,
     "metadata": {},
     "output_type": "execute_result"
    }
   ],
   "source": [
    "df_ohe"
   ]
  },
  {
   "cell_type": "markdown",
   "metadata": {},
   "source": [
    "## Обучение моделей"
   ]
  },
  {
   "cell_type": "markdown",
   "metadata": {},
   "source": [
    "<div class=\"alert alert-info\" role=\"alert\">\n",
    "Обучим модель LGBMRegressor\n",
    "</div>"
   ]
  },
  {
   "cell_type": "code",
   "execution_count": 68,
   "metadata": {},
   "outputs": [],
   "source": [
    "X = df_ohe.drop('Price',axis=1)\n",
    "y = df['Price']"
   ]
  },
  {
   "cell_type": "code",
   "execution_count": 69,
   "metadata": {},
   "outputs": [],
   "source": [
    "X_train,X_test_q,y_train,y_test_q = train_test_split(X,y,random_state = 42,test_size = .4)\n",
    "X_test,X_main,y_test,y_main = train_test_split(X_test_q,y_test_q,random_state = 42,test_size = .5)"
   ]
  },
  {
   "cell_type": "code",
   "execution_count": 70,
   "metadata": {
    "scrolled": true
   },
   "outputs": [
    {
     "name": "stdout",
     "output_type": "stream",
     "text": [
      "[1]\tvalid_0's l1: 3448.36\tvalid_0's l2: 1.89332e+07\n",
      "[2]\tvalid_0's l1: 3186.76\tvalid_0's l2: 1.63155e+07\n",
      "[3]\tvalid_0's l1: 2956.19\tvalid_0's l2: 1.41853e+07\n",
      "[4]\tvalid_0's l1: 2752.48\tvalid_0's l2: 1.24423e+07\n",
      "[5]\tvalid_0's l1: 2569.79\tvalid_0's l2: 1.09932e+07\n",
      "[6]\tvalid_0's l1: 2411.86\tvalid_0's l2: 9.81075e+06\n",
      "[7]\tvalid_0's l1: 2271.99\tvalid_0's l2: 8.83358e+06\n",
      "[8]\tvalid_0's l1: 2147.85\tvalid_0's l2: 8.01351e+06\n",
      "[9]\tvalid_0's l1: 2038.42\tvalid_0's l2: 7.32884e+06\n",
      "[10]\tvalid_0's l1: 1944.96\tvalid_0's l2: 6.76853e+06\n",
      "[11]\tvalid_0's l1: 1860.29\tvalid_0's l2: 6.28288e+06\n",
      "[12]\tvalid_0's l1: 1782.86\tvalid_0's l2: 5.8623e+06\n",
      "[13]\tvalid_0's l1: 1714.62\tvalid_0's l2: 5.51181e+06\n",
      "[14]\tvalid_0's l1: 1655.85\tvalid_0's l2: 5.21487e+06\n",
      "[15]\tvalid_0's l1: 1601.58\tvalid_0's l2: 4.9574e+06\n",
      "[16]\tvalid_0's l1: 1554.71\tvalid_0's l2: 4.7329e+06\n",
      "[17]\tvalid_0's l1: 1511.2\tvalid_0's l2: 4.54096e+06\n",
      "[18]\tvalid_0's l1: 1473.87\tvalid_0's l2: 4.37472e+06\n",
      "[19]\tvalid_0's l1: 1441.25\tvalid_0's l2: 4.22965e+06\n",
      "[20]\tvalid_0's l1: 1410.15\tvalid_0's l2: 4.10027e+06\n",
      "[21]\tvalid_0's l1: 1384.64\tvalid_0's l2: 3.99363e+06\n",
      "[22]\tvalid_0's l1: 1359.78\tvalid_0's l2: 3.89587e+06\n",
      "[23]\tvalid_0's l1: 1338.76\tvalid_0's l2: 3.81315e+06\n",
      "[24]\tvalid_0's l1: 1318\tvalid_0's l2: 3.73543e+06\n",
      "[25]\tvalid_0's l1: 1300.51\tvalid_0's l2: 3.67153e+06\n",
      "[26]\tvalid_0's l1: 1283.53\tvalid_0's l2: 3.60548e+06\n",
      "[27]\tvalid_0's l1: 1268.62\tvalid_0's l2: 3.55234e+06\n",
      "[28]\tvalid_0's l1: 1256.62\tvalid_0's l2: 3.50657e+06\n",
      "[29]\tvalid_0's l1: 1244.2\tvalid_0's l2: 3.4612e+06\n",
      "[30]\tvalid_0's l1: 1234\tvalid_0's l2: 3.42523e+06\n",
      "CPU times: total: 1.81 s\n",
      "Wall time: 329 ms\n"
     ]
    },
    {
     "data": {
      "text/plain": [
       "LGBMRegressor(n_estimators=30, num_leaves=51, objective='regression')"
      ]
     },
     "execution_count": 70,
     "metadata": {},
     "output_type": "execute_result"
    }
   ],
   "source": [
    "%%time\n",
    "model = lgb.LGBMRegressor(objective='regression',num_leaves=51,learning_rate=.1,n_estimators=30)\n",
    "model.fit(X_train, y_train,eval_set=[(X_test, y_test)],eval_metric='l1')"
   ]
  },
  {
   "cell_type": "code",
   "execution_count": 71,
   "metadata": {},
   "outputs": [
    {
     "name": "stdout",
     "output_type": "stream",
     "text": [
      "CPU times: total: 328 ms\n",
      "Wall time: 44.9 ms\n"
     ]
    }
   ],
   "source": [
    "%%time\n",
    "pred = model.predict(X_test,num_iteration=model.best_iteration_)\n",
    "rmse_lgb = mean_squared_error(y_test,pred) ** .5"
   ]
  },
  {
   "cell_type": "markdown",
   "metadata": {},
   "source": [
    "<div class=\"alert alert-info\" role=\"alert\">\n",
    "Обучим обычную модель линейной регрессии\n",
    "</div>"
   ]
  },
  {
   "cell_type": "code",
   "execution_count": 72,
   "metadata": {},
   "outputs": [
    {
     "name": "stdout",
     "output_type": "stream",
     "text": [
      "CPU times: total: 4.8 s\n",
      "Wall time: 823 ms\n"
     ]
    },
    {
     "data": {
      "text/plain": [
       "LinearRegression()"
      ]
     },
     "execution_count": 72,
     "metadata": {},
     "output_type": "execute_result"
    }
   ],
   "source": [
    "%%time\n",
    "reg_model = LinearRegression()\n",
    "reg_model.fit(X_train,y_train)"
   ]
  },
  {
   "cell_type": "code",
   "execution_count": 73,
   "metadata": {},
   "outputs": [
    {
     "name": "stdout",
     "output_type": "stream",
     "text": [
      "CPU times: total: 15.6 ms\n",
      "Wall time: 21.9 ms\n"
     ]
    }
   ],
   "source": [
    "%%time\n",
    "reg_pred = reg_model.predict(X_test)\n",
    "rmse_lr = mean_squared_error(y_test,reg_pred) **.5"
   ]
  },
  {
   "cell_type": "markdown",
   "metadata": {},
   "source": [
    "<div class=\"alert alert-info\" role=\"alert\">\n",
    "И обучим модель CatBoostRegressor\n",
    "</div>"
   ]
  },
  {
   "cell_type": "code",
   "execution_count": 74,
   "metadata": {},
   "outputs": [],
   "source": [
    "cat_X = df_cat.drop('Price',axis=1)\n",
    "cat_y = df_cat['Price']\n",
    "cat_X_train,cat_X_test1,cat_y_train,cat_y_test1 = train_test_split(cat_X,cat_y,random_state=42,test_size= .4)\n",
    "cat_X_test,cat_X_main,cat_y_test,cat_y_main = train_test_split(cat_X_test1,cat_y_test1,random_state=42,test_size= .5)\n",
    "cat_features = ['VehicleType','RegistrationYear','Gearbox','FuelType','NotRepaired','Brand']"
   ]
  },
  {
   "cell_type": "code",
   "execution_count": 75,
   "metadata": {},
   "outputs": [
    {
     "name": "stdout",
     "output_type": "stream",
     "text": [
      "Learning rate set to 0.333459\n",
      "0:\tlearn: 3682.0793237\ttotal: 73.7ms\tremaining: 14.7s\n",
      "10:\tlearn: 1908.6851986\ttotal: 785ms\tremaining: 13.5s\n",
      "20:\tlearn: 1821.4141414\ttotal: 1.45s\tremaining: 12.4s\n",
      "30:\tlearn: 1779.6478231\ttotal: 2.15s\tremaining: 11.7s\n",
      "40:\tlearn: 1751.5392315\ttotal: 2.88s\tremaining: 11.2s\n",
      "50:\tlearn: 1733.0407030\ttotal: 3.63s\tremaining: 10.6s\n",
      "60:\tlearn: 1713.6945574\ttotal: 4.43s\tremaining: 10.1s\n",
      "70:\tlearn: 1703.8204815\ttotal: 5.18s\tremaining: 9.4s\n",
      "80:\tlearn: 1692.8045526\ttotal: 5.97s\tremaining: 8.77s\n",
      "90:\tlearn: 1685.3965767\ttotal: 6.78s\tremaining: 8.13s\n",
      "100:\tlearn: 1676.6534220\ttotal: 7.51s\tremaining: 7.36s\n",
      "110:\tlearn: 1669.1432248\ttotal: 8.18s\tremaining: 6.56s\n",
      "120:\tlearn: 1665.5128553\ttotal: 8.9s\tremaining: 5.81s\n",
      "130:\tlearn: 1658.3661452\ttotal: 9.7s\tremaining: 5.11s\n",
      "140:\tlearn: 1651.3059409\ttotal: 10.5s\tremaining: 4.39s\n",
      "150:\tlearn: 1644.9221192\ttotal: 11.2s\tremaining: 3.64s\n",
      "160:\tlearn: 1640.5021152\ttotal: 12s\tremaining: 2.9s\n",
      "170:\tlearn: 1636.2116812\ttotal: 12.7s\tremaining: 2.15s\n",
      "180:\tlearn: 1630.3350492\ttotal: 13.4s\tremaining: 1.4s\n",
      "190:\tlearn: 1626.9256333\ttotal: 14.1s\tremaining: 664ms\n",
      "199:\tlearn: 1624.4080428\ttotal: 14.6s\tremaining: 0us\n",
      "CPU times: total: 1min 18s\n",
      "Wall time: 15.1 s\n"
     ]
    },
    {
     "data": {
      "text/plain": [
       "<catboost.core.CatBoostRegressor at 0x1d5bcd81370>"
      ]
     },
     "execution_count": 75,
     "metadata": {},
     "output_type": "execute_result"
    }
   ],
   "source": [
    "%%time\n",
    "cat_model = CatBoostRegressor(loss_function=\"RMSE\",iterations=200)\n",
    "cat_model.fit(cat_X_train, cat_y_train, cat_features=cat_features, verbose=10)"
   ]
  },
  {
   "cell_type": "code",
   "execution_count": 76,
   "metadata": {
    "scrolled": false
   },
   "outputs": [
    {
     "name": "stdout",
     "output_type": "stream",
     "text": [
      "CPU times: total: 188 ms\n",
      "Wall time: 85.8 ms\n"
     ]
    }
   ],
   "source": [
    "%%time\n",
    "cat_pred = cat_model.predict(cat_X_test)\n",
    "rmse_cat = mean_squared_error(cat_y_test,cat_pred) ** .5"
   ]
  },
  {
   "cell_type": "markdown",
   "metadata": {},
   "source": [
    "## Анализ моделей"
   ]
  },
  {
   "cell_type": "markdown",
   "metadata": {},
   "source": [
    "<div class=\"alert alert-info\" role=\"alert\">\n",
    "Подведем результаты\n",
    "</div>"
   ]
  },
  {
   "cell_type": "code",
   "execution_count": 77,
   "metadata": {},
   "outputs": [
    {
     "data": {
      "text/html": [
       "<div>\n",
       "<style scoped>\n",
       "    .dataframe tbody tr th:only-of-type {\n",
       "        vertical-align: middle;\n",
       "    }\n",
       "\n",
       "    .dataframe tbody tr th {\n",
       "        vertical-align: top;\n",
       "    }\n",
       "\n",
       "    .dataframe thead th {\n",
       "        text-align: right;\n",
       "    }\n",
       "</style>\n",
       "<table border=\"1\" class=\"dataframe\">\n",
       "  <thead>\n",
       "    <tr style=\"text-align: right;\">\n",
       "      <th></th>\n",
       "      <th>model</th>\n",
       "      <th>RMSE</th>\n",
       "    </tr>\n",
       "  </thead>\n",
       "  <tbody>\n",
       "    <tr>\n",
       "      <th>0</th>\n",
       "      <td>LGBMRegressor</td>\n",
       "      <td>1850.736514</td>\n",
       "    </tr>\n",
       "    <tr>\n",
       "      <th>1</th>\n",
       "      <td>LinearRegression</td>\n",
       "      <td>2920.322322</td>\n",
       "    </tr>\n",
       "    <tr>\n",
       "      <th>2</th>\n",
       "      <td>CatBoostRegressor</td>\n",
       "      <td>1687.959037</td>\n",
       "    </tr>\n",
       "  </tbody>\n",
       "</table>\n",
       "</div>"
      ],
      "text/plain": [
       "               model         RMSE\n",
       "0      LGBMRegressor  1850.736514\n",
       "1   LinearRegression  2920.322322\n",
       "2  CatBoostRegressor  1687.959037"
      ]
     },
     "execution_count": 77,
     "metadata": {},
     "output_type": "execute_result"
    }
   ],
   "source": [
    "pd.DataFrame([['LGBMRegressor',rmse_lgb],['LinearRegression',rmse_lr],['CatBoostRegressor',rmse_cat]],columns=['model','RMSE'])"
   ]
  },
  {
   "cell_type": "code",
   "execution_count": 78,
   "metadata": {},
   "outputs": [
    {
     "name": "stdout",
     "output_type": "stream",
     "text": [
      "RMSE модели LGBMRegressor на финальном тесте: 1867.0423648406152\n",
      "CPU times: total: 266 ms\n",
      "Wall time: 39.9 ms\n"
     ]
    }
   ],
   "source": [
    "%%time\n",
    "pred = model.predict(X_main,num_iteration=model.best_iteration_)\n",
    "rmse_lgb_main = mean_squared_error(y_main,pred) ** .5\n",
    "print('RMSE модели LGBMRegressor на финальном тесте:', rmse_lgb_main)"
   ]
  },
  {
   "cell_type": "markdown",
   "metadata": {},
   "source": [
    "<div class=\"alert alert-info\" role=\"alert\">\n",
    "Для лучшего результата лучше всего подойдет модель CatBoost.\n",
    "    \n",
    "Вполне можно использовать модель LGB которая показывает не на много худший чем CatBoost  и вполне подходящий под наше условие RMSE менее 2500.Время обучения модели многократно быстрее чем на CatBoost и время предсказания быстрее в ~2 раза.\n",
    "    \n",
    "Рекомендованная модель:    LGBMRegressor\n",
    "</div>"
   ]
  }
 ],
 "metadata": {
  "ExecuteTimeLog": [
   {
    "duration": 10032,
    "start_time": "2022-08-18T03:50:59.908Z"
   },
   {
    "duration": 1796,
    "start_time": "2022-08-18T03:51:09.944Z"
   },
   {
    "duration": 672,
    "start_time": "2022-08-18T03:51:11.743Z"
   },
   {
    "duration": 5703,
    "start_time": "2022-08-18T03:51:12.502Z"
   },
   {
    "duration": 5202,
    "start_time": "2022-08-18T03:51:18.208Z"
   },
   {
    "duration": 126,
    "start_time": "2022-08-18T03:52:47.782Z"
   },
   {
    "duration": 1000,
    "start_time": "2022-08-18T03:53:24.504Z"
   },
   {
    "duration": 174,
    "start_time": "2022-08-18T03:53:32.729Z"
   },
   {
    "duration": 396,
    "start_time": "2022-08-18T03:54:01.514Z"
   },
   {
    "duration": 618,
    "start_time": "2022-08-18T03:54:03.304Z"
   },
   {
    "duration": 10,
    "start_time": "2022-08-18T03:54:49.704Z"
   },
   {
    "duration": 37940,
    "start_time": "2022-08-18T03:54:51.729Z"
   },
   {
    "duration": 538,
    "start_time": "2022-08-18T03:57:04.809Z"
   },
   {
    "duration": 3,
    "start_time": "2022-08-18T03:57:54.925Z"
   },
   {
    "duration": 23,
    "start_time": "2022-08-18T03:59:21.247Z"
   },
   {
    "duration": 5,
    "start_time": "2022-08-18T03:59:36.874Z"
   },
   {
    "duration": 19,
    "start_time": "2022-08-18T04:10:59.411Z"
   },
   {
    "duration": 132,
    "start_time": "2022-08-18T04:11:02.478Z"
   },
   {
    "duration": 21,
    "start_time": "2022-08-18T04:11:08.849Z"
   },
   {
    "duration": 4,
    "start_time": "2022-08-18T04:11:11.358Z"
   },
   {
    "duration": 16,
    "start_time": "2022-08-18T04:11:13.334Z"
   },
   {
    "duration": 3097,
    "start_time": "2022-08-18T04:11:32.027Z"
   },
   {
    "duration": 2390,
    "start_time": "2022-08-18T04:11:35.128Z"
   },
   {
    "duration": 6,
    "start_time": "2022-08-18T04:11:37.520Z"
   },
   {
    "duration": 1012,
    "start_time": "2022-08-18T04:11:37.529Z"
   },
   {
    "duration": 132,
    "start_time": "2022-08-18T04:11:38.543Z"
   },
   {
    "duration": 48,
    "start_time": "2022-08-18T04:11:38.678Z"
   },
   {
    "duration": 596,
    "start_time": "2022-08-18T04:11:38.729Z"
   },
   {
    "duration": 490,
    "start_time": "2022-08-18T04:11:39.327Z"
   },
   {
    "duration": 30,
    "start_time": "2022-08-18T04:11:39.823Z"
   },
   {
    "duration": 63,
    "start_time": "2022-08-18T04:11:39.858Z"
   },
   {
    "duration": 87,
    "start_time": "2022-08-18T04:11:39.925Z"
   },
   {
    "duration": 35,
    "start_time": "2022-08-18T04:11:40.015Z"
   },
   {
    "duration": 92,
    "start_time": "2022-08-18T04:11:40.052Z"
   },
   {
    "duration": 49,
    "start_time": "2022-08-18T04:11:40.146Z"
   },
   {
    "duration": 5535,
    "start_time": "2022-08-18T04:11:40.198Z"
   },
   {
    "duration": 105,
    "start_time": "2022-08-18T04:11:45.735Z"
   },
   {
    "duration": 7,
    "start_time": "2022-08-18T04:11:45.847Z"
   },
   {
    "duration": 182,
    "start_time": "2022-08-18T04:11:45.857Z"
   },
   {
    "duration": 7,
    "start_time": "2022-08-18T04:11:46.046Z"
   },
   {
    "duration": 19,
    "start_time": "2022-08-18T04:12:31.346Z"
   },
   {
    "duration": 51,
    "start_time": "2022-08-18T04:12:32.677Z"
   },
   {
    "duration": 21,
    "start_time": "2022-08-18T04:12:43.427Z"
   },
   {
    "duration": 19,
    "start_time": "2022-08-18T04:13:01.317Z"
   },
   {
    "duration": 44,
    "start_time": "2022-08-18T04:13:04.430Z"
   },
   {
    "duration": 272705,
    "start_time": "2022-08-18T04:15:59.523Z"
   },
   {
    "duration": 2257,
    "start_time": "2022-08-19T04:40:54.596Z"
   },
   {
    "duration": 1884,
    "start_time": "2022-08-19T04:40:56.855Z"
   },
   {
    "duration": 1430,
    "start_time": "2022-08-19T04:40:58.741Z"
   },
   {
    "duration": 1056,
    "start_time": "2022-08-19T04:41:00.173Z"
   },
   {
    "duration": 112,
    "start_time": "2022-08-19T04:41:01.231Z"
   },
   {
    "duration": 21,
    "start_time": "2022-08-19T04:41:01.345Z"
   },
   {
    "duration": 386,
    "start_time": "2022-08-19T04:41:01.368Z"
   },
   {
    "duration": 16,
    "start_time": "2022-08-19T04:41:01.755Z"
   },
   {
    "duration": 61,
    "start_time": "2022-08-19T04:41:01.772Z"
   },
   {
    "duration": 78,
    "start_time": "2022-08-19T04:41:01.835Z"
   },
   {
    "duration": 39,
    "start_time": "2022-08-19T04:41:02.148Z"
   },
   {
    "duration": 55,
    "start_time": "2022-08-19T04:41:06.492Z"
   },
   {
    "duration": 4,
    "start_time": "2022-08-19T04:41:07.123Z"
   },
   {
    "duration": 3044,
    "start_time": "2022-08-19T04:41:08.516Z"
   },
   {
    "duration": 142,
    "start_time": "2022-08-19T04:41:11.562Z"
   },
   {
    "duration": 120,
    "start_time": "2022-08-19T04:41:29.987Z"
   },
   {
    "duration": 93,
    "start_time": "2022-08-19T04:41:33.649Z"
   },
   {
    "duration": 116,
    "start_time": "2022-08-19T04:41:43.138Z"
   },
   {
    "duration": 29,
    "start_time": "2022-08-19T04:42:46.857Z"
   },
   {
    "duration": 104,
    "start_time": "2022-08-19T04:43:37.978Z"
   },
   {
    "duration": 126,
    "start_time": "2022-08-19T04:43:57.216Z"
   },
   {
    "duration": 119,
    "start_time": "2022-08-19T04:44:10.815Z"
   },
   {
    "duration": 12,
    "start_time": "2022-08-19T04:46:48.026Z"
   },
   {
    "duration": 2354,
    "start_time": "2022-08-19T04:47:04.229Z"
   },
   {
    "duration": 2083,
    "start_time": "2022-08-19T04:47:06.585Z"
   },
   {
    "duration": 3,
    "start_time": "2022-08-19T04:47:08.670Z"
   },
   {
    "duration": 866,
    "start_time": "2022-08-19T04:47:08.676Z"
   },
   {
    "duration": 131,
    "start_time": "2022-08-19T04:47:09.544Z"
   },
   {
    "duration": 44,
    "start_time": "2022-08-19T04:47:09.676Z"
   },
   {
    "duration": 37,
    "start_time": "2022-08-19T04:47:09.730Z"
   },
   {
    "duration": 81,
    "start_time": "2022-08-19T04:47:09.769Z"
   },
   {
    "duration": 99,
    "start_time": "2022-08-19T04:47:19.525Z"
   },
   {
    "duration": 33,
    "start_time": "2022-08-19T04:47:20.828Z"
   },
   {
    "duration": 63,
    "start_time": "2022-08-19T04:49:28.246Z"
   },
   {
    "duration": 63,
    "start_time": "2022-08-19T04:49:29.718Z"
   },
   {
    "duration": 11,
    "start_time": "2022-08-19T04:50:36.573Z"
   },
   {
    "duration": 8,
    "start_time": "2022-08-19T04:50:52.388Z"
   },
   {
    "duration": 14,
    "start_time": "2022-08-19T04:53:28.925Z"
   },
   {
    "duration": 11,
    "start_time": "2022-08-19T04:53:38.241Z"
   },
   {
    "duration": 10,
    "start_time": "2022-08-19T04:53:54.480Z"
   },
   {
    "duration": 21,
    "start_time": "2022-08-19T04:54:17.695Z"
   },
   {
    "duration": 10,
    "start_time": "2022-08-19T04:55:18.453Z"
   },
   {
    "duration": 5,
    "start_time": "2022-08-19T04:55:31.366Z"
   },
   {
    "duration": 3,
    "start_time": "2022-08-19T05:00:18.522Z"
   },
   {
    "duration": 28,
    "start_time": "2022-08-19T05:02:17.155Z"
   },
   {
    "duration": 6,
    "start_time": "2022-08-19T05:02:57.675Z"
   },
   {
    "duration": 21,
    "start_time": "2022-08-19T05:05:52.295Z"
   },
   {
    "duration": 79,
    "start_time": "2022-08-19T05:05:53.781Z"
   },
   {
    "duration": 4,
    "start_time": "2022-08-19T05:06:03.725Z"
   },
   {
    "duration": 4005,
    "start_time": "2022-08-19T05:06:05.462Z"
   },
   {
    "duration": 76,
    "start_time": "2022-08-19T05:06:16.165Z"
   },
   {
    "duration": 785,
    "start_time": "2022-08-19T05:08:07.044Z"
   },
   {
    "duration": 31,
    "start_time": "2022-08-19T05:08:30.425Z"
   },
   {
    "duration": 6,
    "start_time": "2022-08-19T05:08:51.074Z"
   },
   {
    "duration": 802,
    "start_time": "2022-08-19T05:12:14.093Z"
   },
   {
    "duration": 784,
    "start_time": "2022-08-19T05:12:43.505Z"
   },
   {
    "duration": 819,
    "start_time": "2022-08-19T05:13:01.118Z"
   },
   {
    "duration": 6,
    "start_time": "2022-08-19T05:17:02.552Z"
   },
   {
    "duration": 10,
    "start_time": "2022-08-19T05:23:02.021Z"
   },
   {
    "duration": 112,
    "start_time": "2022-08-19T05:23:08.038Z"
   },
   {
    "duration": 124,
    "start_time": "2022-08-19T05:23:08.625Z"
   },
   {
    "duration": 9,
    "start_time": "2022-08-19T05:23:08.974Z"
   },
   {
    "duration": 94,
    "start_time": "2022-08-19T05:23:10.759Z"
   },
   {
    "duration": 8,
    "start_time": "2022-08-19T05:23:11.374Z"
   },
   {
    "duration": 17,
    "start_time": "2022-08-19T05:23:11.723Z"
   },
   {
    "duration": 44,
    "start_time": "2022-08-19T05:23:12.277Z"
   },
   {
    "duration": 11,
    "start_time": "2022-08-19T05:23:17.422Z"
   },
   {
    "duration": 44,
    "start_time": "2022-08-19T05:23:17.950Z"
   },
   {
    "duration": 1931,
    "start_time": "2022-08-19T05:52:17.971Z"
   },
   {
    "duration": 1867,
    "start_time": "2022-08-19T05:52:19.905Z"
   },
   {
    "duration": 3,
    "start_time": "2022-08-19T05:52:21.774Z"
   },
   {
    "duration": 703,
    "start_time": "2022-08-19T05:52:21.779Z"
   },
   {
    "duration": 114,
    "start_time": "2022-08-19T05:52:22.484Z"
   },
   {
    "duration": 18,
    "start_time": "2022-08-19T05:52:22.600Z"
   },
   {
    "duration": 15,
    "start_time": "2022-08-19T05:52:22.619Z"
   },
   {
    "duration": 70,
    "start_time": "2022-08-19T05:52:22.635Z"
   },
   {
    "duration": 62,
    "start_time": "2022-08-19T05:52:22.706Z"
   },
   {
    "duration": 7,
    "start_time": "2022-08-19T05:52:22.771Z"
   },
   {
    "duration": 75,
    "start_time": "2022-08-19T05:52:22.780Z"
   },
   {
    "duration": 3,
    "start_time": "2022-08-19T05:52:22.856Z"
   },
   {
    "duration": 3689,
    "start_time": "2022-08-19T05:52:22.861Z"
   },
   {
    "duration": 730,
    "start_time": "2022-08-19T05:52:26.551Z"
   },
   {
    "duration": 128,
    "start_time": "2022-08-19T05:52:27.282Z"
   },
   {
    "duration": 154,
    "start_time": "2022-08-19T05:52:27.412Z"
   },
   {
    "duration": 10,
    "start_time": "2022-08-19T05:52:27.568Z"
   },
   {
    "duration": 104,
    "start_time": "2022-08-19T05:52:27.579Z"
   },
   {
    "duration": 10,
    "start_time": "2022-08-19T05:52:27.684Z"
   },
   {
    "duration": 19,
    "start_time": "2022-08-19T05:52:27.699Z"
   },
   {
    "duration": 46,
    "start_time": "2022-08-19T05:52:27.719Z"
   },
   {
    "duration": 32,
    "start_time": "2022-08-19T05:52:27.767Z"
   },
   {
    "duration": 50,
    "start_time": "2022-08-19T05:52:27.801Z"
   },
   {
    "duration": 84,
    "start_time": "2022-08-19T05:52:27.853Z"
   },
   {
    "duration": 114,
    "start_time": "2022-08-19T05:52:27.939Z"
   },
   {
    "duration": 233,
    "start_time": "2022-08-19T05:52:28.054Z"
   },
   {
    "duration": 98,
    "start_time": "2022-08-19T05:52:28.289Z"
   },
   {
    "duration": 46,
    "start_time": "2022-08-19T05:52:28.389Z"
   },
   {
    "duration": 2647,
    "start_time": "2022-08-19T05:52:28.437Z"
   },
   {
    "duration": 59,
    "start_time": "2022-08-19T05:52:31.085Z"
   },
   {
    "duration": 7,
    "start_time": "2022-08-19T05:52:31.146Z"
   },
   {
    "duration": 1943,
    "start_time": "2022-08-19T05:54:46.874Z"
   },
   {
    "duration": 1907,
    "start_time": "2022-08-19T05:54:48.819Z"
   },
   {
    "duration": 4,
    "start_time": "2022-08-19T05:54:50.728Z"
   },
   {
    "duration": 738,
    "start_time": "2022-08-19T05:54:50.735Z"
   },
   {
    "duration": 107,
    "start_time": "2022-08-19T05:54:51.475Z"
   },
   {
    "duration": 28,
    "start_time": "2022-08-19T05:54:51.584Z"
   },
   {
    "duration": 15,
    "start_time": "2022-08-19T05:54:51.614Z"
   },
   {
    "duration": 72,
    "start_time": "2022-08-19T05:54:51.630Z"
   },
   {
    "duration": 65,
    "start_time": "2022-08-19T05:54:51.703Z"
   },
   {
    "duration": 8,
    "start_time": "2022-08-19T05:54:51.771Z"
   },
   {
    "duration": 83,
    "start_time": "2022-08-19T05:54:51.781Z"
   },
   {
    "duration": 4,
    "start_time": "2022-08-19T05:54:51.866Z"
   },
   {
    "duration": 3867,
    "start_time": "2022-08-19T05:54:51.872Z"
   },
   {
    "duration": 756,
    "start_time": "2022-08-19T05:54:55.740Z"
   },
   {
    "duration": 131,
    "start_time": "2022-08-19T05:54:56.498Z"
   },
   {
    "duration": 159,
    "start_time": "2022-08-19T05:54:56.631Z"
   },
   {
    "duration": 12,
    "start_time": "2022-08-19T05:54:56.792Z"
   },
   {
    "duration": 152,
    "start_time": "2022-08-19T05:54:56.805Z"
   },
   {
    "duration": 8,
    "start_time": "2022-08-19T05:54:56.958Z"
   },
   {
    "duration": 19,
    "start_time": "2022-08-19T05:54:56.967Z"
   },
   {
    "duration": 43,
    "start_time": "2022-08-19T05:54:56.987Z"
   },
   {
    "duration": 24,
    "start_time": "2022-08-19T05:54:57.031Z"
   },
   {
    "duration": 89,
    "start_time": "2022-08-19T05:54:57.057Z"
   },
   {
    "duration": 58157,
    "start_time": "2022-08-19T05:54:57.148Z"
   },
   {
    "duration": 298,
    "start_time": "2022-08-19T05:55:55.306Z"
   },
   {
    "duration": 1697,
    "start_time": "2022-08-19T05:55:55.607Z"
   },
   {
    "duration": 197,
    "start_time": "2022-08-19T05:55:57.305Z"
   },
   {
    "duration": 215,
    "start_time": "2022-08-19T05:55:57.506Z"
   },
   {
    "duration": 43087,
    "start_time": "2022-08-19T05:55:57.722Z"
   },
   {
    "duration": 163,
    "start_time": "2022-08-19T05:56:40.810Z"
   },
   {
    "duration": 5,
    "start_time": "2022-08-19T05:56:40.974Z"
   },
   {
    "duration": 3,
    "start_time": "2022-08-19T06:00:53.247Z"
   },
   {
    "duration": 3,
    "start_time": "2022-08-19T06:02:27.630Z"
   },
   {
    "duration": 4,
    "start_time": "2022-08-19T06:02:37.261Z"
   },
   {
    "duration": 5,
    "start_time": "2022-08-19T06:07:10.008Z"
   },
   {
    "duration": 5,
    "start_time": "2022-08-19T06:09:09.453Z"
   },
   {
    "duration": 3,
    "start_time": "2022-08-19T06:10:26.995Z"
   },
   {
    "duration": 266589,
    "start_time": "2022-08-19T06:11:31.123Z"
   },
   {
    "duration": 224047,
    "start_time": "2022-08-19T06:17:56.746Z"
   },
   {
    "duration": 9236,
    "start_time": "2022-08-19T06:23:13.434Z"
   },
   {
    "duration": 10315,
    "start_time": "2022-08-19T06:23:59.488Z"
   },
   {
    "duration": 9499,
    "start_time": "2022-08-19T06:24:40.543Z"
   },
   {
    "duration": 46774,
    "start_time": "2022-08-19T06:25:33.797Z"
   },
   {
    "duration": 221252,
    "start_time": "2022-08-19T06:27:06.068Z"
   },
   {
    "duration": 757942,
    "start_time": "2022-08-19T06:32:19.736Z"
   },
   {
    "duration": 2343,
    "start_time": "2022-08-20T08:39:08.625Z"
   },
   {
    "duration": 1982,
    "start_time": "2022-08-20T08:39:10.970Z"
   },
   {
    "duration": 1489,
    "start_time": "2022-08-20T08:39:12.953Z"
   },
   {
    "duration": 1126,
    "start_time": "2022-08-20T08:39:14.444Z"
   },
   {
    "duration": 103,
    "start_time": "2022-08-20T08:39:15.571Z"
   },
   {
    "duration": 28,
    "start_time": "2022-08-20T08:39:15.675Z"
   },
   {
    "duration": 22,
    "start_time": "2022-08-20T08:39:15.704Z"
   },
   {
    "duration": 74,
    "start_time": "2022-08-20T08:39:15.728Z"
   },
   {
    "duration": 84,
    "start_time": "2022-08-20T08:39:15.803Z"
   },
   {
    "duration": 17,
    "start_time": "2022-08-20T08:39:15.889Z"
   },
   {
    "duration": 61,
    "start_time": "2022-08-20T08:39:15.908Z"
   },
   {
    "duration": 4,
    "start_time": "2022-08-20T08:39:15.971Z"
   },
   {
    "duration": 4247,
    "start_time": "2022-08-20T08:39:15.976Z"
   },
   {
    "duration": 965,
    "start_time": "2022-08-20T08:39:20.224Z"
   },
   {
    "duration": 148,
    "start_time": "2022-08-20T08:39:21.191Z"
   },
   {
    "duration": 269,
    "start_time": "2022-08-20T08:39:21.342Z"
   },
   {
    "duration": 26,
    "start_time": "2022-08-20T08:39:21.614Z"
   },
   {
    "duration": 202,
    "start_time": "2022-08-20T08:39:21.642Z"
   },
   {
    "duration": 11,
    "start_time": "2022-08-20T08:39:21.846Z"
   },
   {
    "duration": 26,
    "start_time": "2022-08-20T08:39:21.859Z"
   },
   {
    "duration": 63,
    "start_time": "2022-08-20T08:39:21.887Z"
   },
   {
    "duration": 65,
    "start_time": "2022-08-20T08:39:21.952Z"
   },
   {
    "duration": 133,
    "start_time": "2022-08-20T08:39:22.020Z"
   },
   {
    "duration": 4749,
    "start_time": "2022-08-20T08:39:22.155Z"
   },
   {
    "duration": 204,
    "start_time": "2022-08-20T08:39:26.906Z"
   },
   {
    "duration": 2589,
    "start_time": "2022-08-20T08:39:27.112Z"
   },
   {
    "duration": 197,
    "start_time": "2022-08-20T08:39:29.703Z"
   },
   {
    "duration": 176,
    "start_time": "2022-08-20T08:39:29.904Z"
   },
   {
    "duration": 44025,
    "start_time": "2022-08-20T08:39:30.082Z"
   },
   {
    "duration": 171,
    "start_time": "2022-08-20T08:40:14.109Z"
   },
   {
    "duration": 653557,
    "start_time": "2022-08-20T08:40:14.282Z"
   },
   {
    "duration": 4,
    "start_time": "2022-08-20T08:51:07.840Z"
   },
   {
    "duration": 107,
    "start_time": "2022-08-20T09:07:26.945Z"
   },
   {
    "duration": 9,
    "start_time": "2022-08-20T09:07:37.752Z"
   },
   {
    "duration": 3,
    "start_time": "2022-08-20T09:07:45.163Z"
   },
   {
    "duration": 123,
    "start_time": "2022-08-20T09:16:41.468Z"
   },
   {
    "duration": 2067,
    "start_time": "2022-08-20T09:18:39.989Z"
   },
   {
    "duration": 1969,
    "start_time": "2022-08-20T09:18:42.059Z"
   },
   {
    "duration": 4,
    "start_time": "2022-08-20T09:18:44.030Z"
   },
   {
    "duration": 823,
    "start_time": "2022-08-20T09:18:44.037Z"
   },
   {
    "duration": 109,
    "start_time": "2022-08-20T09:18:44.862Z"
   },
   {
    "duration": 39,
    "start_time": "2022-08-20T09:18:44.973Z"
   },
   {
    "duration": 19,
    "start_time": "2022-08-20T09:18:45.014Z"
   },
   {
    "duration": 71,
    "start_time": "2022-08-20T09:18:45.035Z"
   },
   {
    "duration": 68,
    "start_time": "2022-08-20T09:18:45.108Z"
   },
   {
    "duration": 27,
    "start_time": "2022-08-20T09:18:45.178Z"
   },
   {
    "duration": 60,
    "start_time": "2022-08-20T09:18:45.207Z"
   },
   {
    "duration": 3,
    "start_time": "2022-08-20T09:18:45.269Z"
   },
   {
    "duration": 4226,
    "start_time": "2022-08-20T09:18:45.274Z"
   },
   {
    "duration": 873,
    "start_time": "2022-08-20T09:18:49.502Z"
   },
   {
    "duration": 139,
    "start_time": "2022-08-20T09:18:50.376Z"
   },
   {
    "duration": 167,
    "start_time": "2022-08-20T09:18:50.517Z"
   },
   {
    "duration": 20,
    "start_time": "2022-08-20T09:18:50.686Z"
   },
   {
    "duration": 161,
    "start_time": "2022-08-20T09:18:50.708Z"
   },
   {
    "duration": 10,
    "start_time": "2022-08-20T09:18:50.871Z"
   },
   {
    "duration": 37,
    "start_time": "2022-08-20T09:18:50.883Z"
   },
   {
    "duration": 38,
    "start_time": "2022-08-20T09:18:50.922Z"
   },
   {
    "duration": 55,
    "start_time": "2022-08-20T09:18:50.962Z"
   },
   {
    "duration": 118,
    "start_time": "2022-08-20T09:18:51.019Z"
   },
   {
    "duration": 4073,
    "start_time": "2022-08-20T09:18:51.139Z"
   },
   {
    "duration": 291,
    "start_time": "2022-08-20T09:18:55.213Z"
   },
   {
    "duration": 3399,
    "start_time": "2022-08-20T09:18:55.506Z"
   },
   {
    "duration": 193,
    "start_time": "2022-08-20T09:18:58.907Z"
   },
   {
    "duration": 201,
    "start_time": "2022-08-20T09:18:59.104Z"
   },
   {
    "duration": 34305,
    "start_time": "2022-08-20T09:18:59.307Z"
   },
   {
    "duration": 190,
    "start_time": "2022-08-20T09:19:33.614Z"
   },
   {
    "duration": 507952,
    "start_time": "2022-08-20T09:19:33.806Z"
   },
   {
    "duration": 4,
    "start_time": "2022-08-20T09:28:01.759Z"
   },
   {
    "duration": 7,
    "start_time": "2022-08-20T09:28:01.764Z"
   },
   {
    "duration": 244,
    "start_time": "2022-08-20T09:28:01.772Z"
   },
   {
    "duration": 102,
    "start_time": "2022-08-20T09:28:02.018Z"
   },
   {
    "duration": 124,
    "start_time": "2022-08-20T09:28:02.122Z"
   },
   {
    "duration": 176,
    "start_time": "2022-08-20T09:28:02.248Z"
   },
   {
    "duration": 2044,
    "start_time": "2022-08-20T11:45:09.733Z"
   },
   {
    "duration": 1867,
    "start_time": "2022-08-20T11:45:11.779Z"
   },
   {
    "duration": 1453,
    "start_time": "2022-08-20T11:45:13.648Z"
   },
   {
    "duration": 1058,
    "start_time": "2022-08-20T11:45:15.102Z"
   },
   {
    "duration": 96,
    "start_time": "2022-08-20T11:45:16.162Z"
   },
   {
    "duration": 28,
    "start_time": "2022-08-20T11:45:16.260Z"
   },
   {
    "duration": 17,
    "start_time": "2022-08-20T11:45:16.290Z"
   },
   {
    "duration": 55,
    "start_time": "2022-08-20T11:45:16.309Z"
   },
   {
    "duration": 90,
    "start_time": "2022-08-20T11:45:16.366Z"
   },
   {
    "duration": 10,
    "start_time": "2022-08-20T11:45:16.458Z"
   },
   {
    "duration": 64,
    "start_time": "2022-08-20T11:45:16.470Z"
   },
   {
    "duration": 4,
    "start_time": "2022-08-20T11:45:16.536Z"
   },
   {
    "duration": 4019,
    "start_time": "2022-08-20T11:45:16.541Z"
   },
   {
    "duration": 716,
    "start_time": "2022-08-20T11:45:20.564Z"
   },
   {
    "duration": 127,
    "start_time": "2022-08-20T11:45:21.281Z"
   },
   {
    "duration": 191,
    "start_time": "2022-08-20T11:45:21.409Z"
   },
   {
    "duration": 18,
    "start_time": "2022-08-20T11:45:21.602Z"
   },
   {
    "duration": 150,
    "start_time": "2022-08-20T11:45:21.622Z"
   },
   {
    "duration": 7,
    "start_time": "2022-08-20T11:45:21.773Z"
   },
   {
    "duration": 19,
    "start_time": "2022-08-20T11:45:21.784Z"
   },
   {
    "duration": 40,
    "start_time": "2022-08-20T11:45:21.804Z"
   },
   {
    "duration": 55,
    "start_time": "2022-08-20T11:45:21.846Z"
   },
   {
    "duration": 103,
    "start_time": "2022-08-20T11:45:21.903Z"
   },
   {
    "duration": 3086,
    "start_time": "2022-08-20T11:45:22.008Z"
   },
   {
    "duration": 295,
    "start_time": "2022-08-20T11:45:25.095Z"
   },
   {
    "duration": 2098,
    "start_time": "2022-08-20T11:45:25.392Z"
   },
   {
    "duration": 212,
    "start_time": "2022-08-20T11:45:27.491Z"
   },
   {
    "duration": 267,
    "start_time": "2022-08-20T11:45:27.706Z"
   },
   {
    "duration": 30003,
    "start_time": "2022-08-20T11:45:27.984Z"
   },
   {
    "duration": 191,
    "start_time": "2022-08-20T11:45:57.989Z"
   },
   {
    "duration": 475145,
    "start_time": "2022-08-20T11:45:58.184Z"
   },
   {
    "duration": 3,
    "start_time": "2022-08-20T11:53:53.330Z"
   },
   {
    "duration": 7,
    "start_time": "2022-08-20T11:53:53.334Z"
   },
   {
    "duration": 156,
    "start_time": "2022-08-20T11:53:53.343Z"
   },
   {
    "duration": 186,
    "start_time": "2022-08-20T11:53:53.500Z"
   },
   {
    "duration": 216,
    "start_time": "2022-08-20T11:53:53.689Z"
   },
   {
    "duration": 176,
    "start_time": "2022-08-20T11:53:53.907Z"
   },
   {
    "duration": 234,
    "start_time": "2022-08-20T12:19:54.958Z"
   },
   {
    "duration": 222,
    "start_time": "2022-08-20T12:20:07.971Z"
   },
   {
    "duration": 239,
    "start_time": "2022-08-20T12:21:09.059Z"
   },
   {
    "duration": 190,
    "start_time": "2022-08-20T12:21:17.611Z"
   },
   {
    "duration": 192,
    "start_time": "2022-08-20T12:21:26.506Z"
   },
   {
    "duration": 3,
    "start_time": "2022-08-20T12:27:54.260Z"
   },
   {
    "duration": 12,
    "start_time": "2022-08-20T12:28:01.619Z"
   },
   {
    "duration": 11,
    "start_time": "2022-08-20T12:29:51.183Z"
   },
   {
    "duration": 12,
    "start_time": "2022-08-20T12:29:57.954Z"
   },
   {
    "duration": 9,
    "start_time": "2022-08-20T12:30:10.561Z"
   },
   {
    "duration": 9,
    "start_time": "2022-08-20T12:30:55.607Z"
   },
   {
    "duration": 4,
    "start_time": "2022-08-20T12:31:04.151Z"
   },
   {
    "duration": 15,
    "start_time": "2022-08-20T12:31:23.439Z"
   },
   {
    "duration": 7,
    "start_time": "2022-08-20T12:31:40.694Z"
   },
   {
    "duration": 8,
    "start_time": "2022-08-20T12:33:13.637Z"
   },
   {
    "duration": 11,
    "start_time": "2022-08-20T12:33:23.093Z"
   },
   {
    "duration": 2,
    "start_time": "2022-08-20T12:33:34.236Z"
   },
   {
    "duration": 9,
    "start_time": "2022-08-20T12:33:52.596Z"
   },
   {
    "duration": 134,
    "start_time": "2022-08-20T12:36:01.257Z"
   },
   {
    "duration": 30,
    "start_time": "2022-08-20T12:36:46.959Z"
   },
   {
    "duration": 28,
    "start_time": "2022-08-20T12:36:56.840Z"
   },
   {
    "duration": 47,
    "start_time": "2022-08-20T12:37:07.047Z"
   },
   {
    "duration": 197,
    "start_time": "2022-08-20T12:37:13.599Z"
   },
   {
    "duration": 132,
    "start_time": "2022-08-20T12:42:28.761Z"
   },
   {
    "duration": 3,
    "start_time": "2022-08-20T12:42:32.856Z"
   },
   {
    "duration": 2761,
    "start_time": "2022-08-20T13:19:28.760Z"
   },
   {
    "duration": 2336,
    "start_time": "2022-08-20T13:19:31.523Z"
   },
   {
    "duration": 1745,
    "start_time": "2022-08-20T13:19:33.861Z"
   },
   {
    "duration": 3042,
    "start_time": "2022-08-20T13:19:35.607Z"
   },
   {
    "duration": 150,
    "start_time": "2022-08-20T13:19:38.651Z"
   },
   {
    "duration": 30,
    "start_time": "2022-08-20T13:19:38.802Z"
   },
   {
    "duration": 26,
    "start_time": "2022-08-20T13:19:38.834Z"
   },
   {
    "duration": 102,
    "start_time": "2022-08-20T13:19:38.862Z"
   },
   {
    "duration": 118,
    "start_time": "2022-08-20T13:19:38.966Z"
   },
   {
    "duration": 13,
    "start_time": "2022-08-20T13:19:39.086Z"
   },
   {
    "duration": 100,
    "start_time": "2022-08-20T13:19:39.101Z"
   },
   {
    "duration": 4,
    "start_time": "2022-08-20T13:19:39.203Z"
   },
   {
    "duration": 4773,
    "start_time": "2022-08-20T13:19:39.208Z"
   },
   {
    "duration": 928,
    "start_time": "2022-08-20T13:19:43.985Z"
   },
   {
    "duration": 147,
    "start_time": "2022-08-20T13:19:44.915Z"
   },
   {
    "duration": 178,
    "start_time": "2022-08-20T13:19:45.064Z"
   },
   {
    "duration": 22,
    "start_time": "2022-08-20T13:19:45.244Z"
   },
   {
    "duration": 11,
    "start_time": "2022-08-20T13:19:55.568Z"
   },
   {
    "duration": 4,
    "start_time": "2022-08-20T13:20:06.492Z"
   },
   {
    "duration": 8,
    "start_time": "2022-08-20T13:20:16.709Z"
   },
   {
    "duration": 4,
    "start_time": "2022-08-20T13:33:11.799Z"
   },
   {
    "duration": 113,
    "start_time": "2022-08-20T13:33:15.658Z"
   },
   {
    "duration": 14,
    "start_time": "2022-08-20T13:33:23.253Z"
   },
   {
    "duration": 45,
    "start_time": "2022-08-20T17:22:57.660Z"
   },
   {
    "duration": 2277,
    "start_time": "2022-08-20T17:23:15.853Z"
   },
   {
    "duration": 2012,
    "start_time": "2022-08-20T17:23:18.132Z"
   },
   {
    "duration": 1438,
    "start_time": "2022-08-20T17:23:20.146Z"
   },
   {
    "duration": 1071,
    "start_time": "2022-08-20T17:23:21.586Z"
   },
   {
    "duration": 128,
    "start_time": "2022-08-20T17:23:22.659Z"
   },
   {
    "duration": 23,
    "start_time": "2022-08-20T17:23:22.788Z"
   },
   {
    "duration": 22,
    "start_time": "2022-08-20T17:23:22.812Z"
   },
   {
    "duration": 86,
    "start_time": "2022-08-20T17:23:22.835Z"
   },
   {
    "duration": 105,
    "start_time": "2022-08-20T17:23:22.923Z"
   },
   {
    "duration": 9,
    "start_time": "2022-08-20T17:23:23.031Z"
   },
   {
    "duration": 84,
    "start_time": "2022-08-20T17:23:23.042Z"
   },
   {
    "duration": 4,
    "start_time": "2022-08-20T17:23:23.128Z"
   },
   {
    "duration": 4024,
    "start_time": "2022-08-20T17:23:23.134Z"
   },
   {
    "duration": 779,
    "start_time": "2022-08-20T17:23:27.160Z"
   },
   {
    "duration": 95,
    "start_time": "2022-08-20T17:23:27.941Z"
   },
   {
    "duration": 102,
    "start_time": "2022-08-20T17:23:28.038Z"
   },
   {
    "duration": 114,
    "start_time": "2022-08-20T17:23:28.142Z"
   },
   {
    "duration": 8,
    "start_time": "2022-08-20T17:23:28.258Z"
   },
   {
    "duration": 128,
    "start_time": "2022-08-20T17:23:28.267Z"
   },
   {
    "duration": 7,
    "start_time": "2022-08-20T17:23:28.397Z"
   },
   {
    "duration": 23,
    "start_time": "2022-08-20T17:23:28.406Z"
   },
   {
    "duration": 37,
    "start_time": "2022-08-20T17:23:28.430Z"
   },
   {
    "duration": 43,
    "start_time": "2022-08-20T17:23:28.469Z"
   },
   {
    "duration": 81,
    "start_time": "2022-08-20T17:23:28.514Z"
   },
   {
    "duration": 2597,
    "start_time": "2022-08-20T17:23:28.596Z"
   },
   {
    "duration": 200,
    "start_time": "2022-08-20T17:23:31.195Z"
   },
   {
    "duration": 1600,
    "start_time": "2022-08-20T17:23:31.396Z"
   },
   {
    "duration": 119,
    "start_time": "2022-08-20T17:23:33.090Z"
   },
   {
    "duration": 167,
    "start_time": "2022-08-20T17:23:33.293Z"
   },
   {
    "duration": 24732,
    "start_time": "2022-08-20T17:23:33.462Z"
   },
   {
    "duration": 131,
    "start_time": "2022-08-20T17:23:58.196Z"
   },
   {
    "duration": 393960,
    "start_time": "2022-08-20T17:23:58.329Z"
   },
   {
    "duration": 2,
    "start_time": "2022-08-20T17:30:32.291Z"
   },
   {
    "duration": 13,
    "start_time": "2022-08-20T17:30:32.294Z"
   },
   {
    "duration": 183,
    "start_time": "2022-08-20T17:30:32.308Z"
   },
   {
    "duration": 4,
    "start_time": "2022-08-20T17:30:32.492Z"
   }
  ],
  "kernelspec": {
   "display_name": "Python 3 (ipykernel)",
   "language": "python",
   "name": "python3"
  },
  "language_info": {
   "codemirror_mode": {
    "name": "ipython",
    "version": 3
   },
   "file_extension": ".py",
   "mimetype": "text/x-python",
   "name": "python",
   "nbconvert_exporter": "python",
   "pygments_lexer": "ipython3",
   "version": "3.9.13"
  },
  "toc": {
   "base_numbering": 1,
   "nav_menu": {},
   "number_sections": true,
   "sideBar": true,
   "skip_h1_title": true,
   "title_cell": "Table of Contents",
   "title_sidebar": "Contents",
   "toc_cell": false,
   "toc_position": {},
   "toc_section_display": true,
   "toc_window_display": true
  }
 },
 "nbformat": 4,
 "nbformat_minor": 2
}
