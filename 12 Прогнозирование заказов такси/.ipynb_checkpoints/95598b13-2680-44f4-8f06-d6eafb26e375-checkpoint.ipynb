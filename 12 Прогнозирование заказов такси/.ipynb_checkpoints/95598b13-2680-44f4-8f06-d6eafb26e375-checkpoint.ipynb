{
 "cells": [
  {
   "cell_type": "markdown",
   "metadata": {
    "toc": true
   },
   "source": [
    "<h1>Содержание<span class=\"tocSkip\"></span></h1>\n",
    "</span></li></ul></li><li><span><a href=\"#Подготовка\" data-toc-modified-id=\"Подготовка-1\"><span class=\"toc-item-num\">1&nbsp;&nbsp;</span>Подготовка</a></span></li><li><span><a href=\"#Анализ\" data-toc-modified-id=\"Анализ-2\"><span class=\"toc-item-num\">2&nbsp;&nbsp;</span>Анализ</a></span></li><li><span><a href=\"#Обучение\" data-toc-modified-id=\"Обучение-3\"><span class=\"toc-item-num\">3&nbsp;&nbsp;</span>Обучение</a></span></li><li><span><a href=\"#Тестирование\" data-toc-modified-id=\"Тестирование-4\"><span class=\"toc-item-num\">4&nbsp;&nbsp;</span>Тестирование</a></span></li><li><span><a href=\"#Чек-лист-проверки\" data-toc-modified-id=\"Чек-лист-проверки-5\"><span class=\"toc-item-num\"></span>"
   ]
  },
  {
   "cell_type": "markdown",
   "metadata": {},
   "source": [
    "#  Прогнозирование заказов такси"
   ]
  },
  {
   "cell_type": "markdown",
   "metadata": {},
   "source": [
    "Компания «Чётенькое такси» собрала исторические данные о заказах такси в аэропортах. Чтобы привлекать больше водителей в период пиковой нагрузки, нужно спрогнозировать количество заказов такси на следующий час. Постройте модель для такого предсказания.\n",
    "\n",
    "План:\n",
    "1. Загрузить данные и выполнить их ресемплирование по одному часу.\n",
    "2. Проанализировать данные.\n",
    "3. Обучить разные модели с различными гиперпараметрами. Сделать тестовую выборку размером 10% от исходных данных.\n",
    "4. Проверить данные на тестовой выборке и сделать выводы.\n"
   ]
  },
  {
   "cell_type": "markdown",
   "metadata": {},
   "source": [
    "## Подготовка"
   ]
  },
  {
   "cell_type": "code",
   "execution_count": 30,
   "metadata": {},
   "outputs": [],
   "source": [
    "import pandas as pd\n",
    "import numpy as np\n",
    "from sklearn.model_selection import train_test_split\n",
    "from sklearn.metrics import mean_squared_error\n",
    "from statsmodels.tsa.seasonal import seasonal_decompose\n",
    "import matplotlib.pyplot as plt\n",
    "from sklearn.linear_model import LinearRegression\n",
    "from catboost import CatBoostRegressor\n",
    "from sklearn.model_selection import GridSearchCV\n",
    "from sklearn.model_selection import TimeSeriesSplit"
   ]
  },
  {
   "cell_type": "code",
   "execution_count": 31,
   "metadata": {},
   "outputs": [],
   "source": [
    "try:\n",
    "    df = pd.read_csv('/datasets/taxi.csv',index_col=[0], parse_dates=[0])\n",
    "except:\n",
    "    df = pd.read_csv('taxi.csv',index_col=[0], parse_dates=[0])"
   ]
  },
  {
   "cell_type": "code",
   "execution_count": 32,
   "metadata": {},
   "outputs": [
    {
     "name": "stdout",
     "output_type": "stream",
     "text": [
      "<class 'pandas.core.frame.DataFrame'>\n",
      "DatetimeIndex: 26496 entries, 2018-03-01 00:00:00 to 2018-08-31 23:50:00\n",
      "Data columns (total 1 columns):\n",
      " #   Column      Non-Null Count  Dtype\n",
      "---  ------      --------------  -----\n",
      " 0   num_orders  26496 non-null  int64\n",
      "dtypes: int64(1)\n",
      "memory usage: 414.0 KB\n"
     ]
    }
   ],
   "source": [
    "df.info()"
   ]
  },
  {
   "cell_type": "markdown",
   "metadata": {},
   "source": [
    "<div class=\"alert alert-info\" role=\"alert\">\n",
    "Проверим данные на пропуски и дубликаты\n",
    "</div>"
   ]
  },
  {
   "cell_type": "code",
   "execution_count": 33,
   "metadata": {},
   "outputs": [
    {
     "data": {
      "text/plain": [
       "num_orders    0\n",
       "dtype: int64"
      ]
     },
     "execution_count": 33,
     "metadata": {},
     "output_type": "execute_result"
    }
   ],
   "source": [
    "df.isna().sum()"
   ]
  },
  {
   "cell_type": "code",
   "execution_count": 34,
   "metadata": {},
   "outputs": [
    {
     "data": {
      "text/plain": [
       "26415"
      ]
     },
     "execution_count": 34,
     "metadata": {},
     "output_type": "execute_result"
    }
   ],
   "source": [
    "df.duplicated().sum()"
   ]
  },
  {
   "cell_type": "code",
   "execution_count": 35,
   "metadata": {},
   "outputs": [
    {
     "data": {
      "text/plain": [
       "0"
      ]
     },
     "execution_count": 35,
     "metadata": {},
     "output_type": "execute_result"
    }
   ],
   "source": [
    "try:\n",
    "    df1 = pd.read_csv('/datasets/taxi.csv')\n",
    "except:\n",
    "    df1 = pd.read_csv('taxi.csv')\n",
    "df1.duplicated().sum()"
   ]
  },
  {
   "cell_type": "markdown",
   "metadata": {},
   "source": [
    "<div class=\"alert alert-info\" role=\"alert\">\n",
    "Сгрупируем данные по 1 часу\n",
    "</div>"
   ]
  },
  {
   "cell_type": "code",
   "execution_count": 47,
   "metadata": {},
   "outputs": [
    {
     "data": {
      "text/html": [
       "<div>\n",
       "<style scoped>\n",
       "    .dataframe tbody tr th:only-of-type {\n",
       "        vertical-align: middle;\n",
       "    }\n",
       "\n",
       "    .dataframe tbody tr th {\n",
       "        vertical-align: top;\n",
       "    }\n",
       "\n",
       "    .dataframe thead th {\n",
       "        text-align: right;\n",
       "    }\n",
       "</style>\n",
       "<table border=\"1\" class=\"dataframe\">\n",
       "  <thead>\n",
       "    <tr style=\"text-align: right;\">\n",
       "      <th></th>\n",
       "      <th>num_orders</th>\n",
       "    </tr>\n",
       "    <tr>\n",
       "      <th>datetime</th>\n",
       "      <th></th>\n",
       "    </tr>\n",
       "  </thead>\n",
       "  <tbody>\n",
       "    <tr>\n",
       "      <th>2018-03-01 00:00:00</th>\n",
       "      <td>124</td>\n",
       "    </tr>\n",
       "    <tr>\n",
       "      <th>2018-03-01 01:00:00</th>\n",
       "      <td>85</td>\n",
       "    </tr>\n",
       "    <tr>\n",
       "      <th>2018-03-01 02:00:00</th>\n",
       "      <td>71</td>\n",
       "    </tr>\n",
       "    <tr>\n",
       "      <th>2018-03-01 03:00:00</th>\n",
       "      <td>66</td>\n",
       "    </tr>\n",
       "    <tr>\n",
       "      <th>2018-03-01 04:00:00</th>\n",
       "      <td>43</td>\n",
       "    </tr>\n",
       "    <tr>\n",
       "      <th>...</th>\n",
       "      <td>...</td>\n",
       "    </tr>\n",
       "    <tr>\n",
       "      <th>2018-08-31 19:00:00</th>\n",
       "      <td>136</td>\n",
       "    </tr>\n",
       "    <tr>\n",
       "      <th>2018-08-31 20:00:00</th>\n",
       "      <td>154</td>\n",
       "    </tr>\n",
       "    <tr>\n",
       "      <th>2018-08-31 21:00:00</th>\n",
       "      <td>159</td>\n",
       "    </tr>\n",
       "    <tr>\n",
       "      <th>2018-08-31 22:00:00</th>\n",
       "      <td>223</td>\n",
       "    </tr>\n",
       "    <tr>\n",
       "      <th>2018-08-31 23:00:00</th>\n",
       "      <td>205</td>\n",
       "    </tr>\n",
       "  </tbody>\n",
       "</table>\n",
       "<p>4416 rows × 1 columns</p>\n",
       "</div>"
      ],
      "text/plain": [
       "                     num_orders\n",
       "datetime                       \n",
       "2018-03-01 00:00:00         124\n",
       "2018-03-01 01:00:00          85\n",
       "2018-03-01 02:00:00          71\n",
       "2018-03-01 03:00:00          66\n",
       "2018-03-01 04:00:00          43\n",
       "...                         ...\n",
       "2018-08-31 19:00:00         136\n",
       "2018-08-31 20:00:00         154\n",
       "2018-08-31 21:00:00         159\n",
       "2018-08-31 22:00:00         223\n",
       "2018-08-31 23:00:00         205\n",
       "\n",
       "[4416 rows x 1 columns]"
      ]
     },
     "execution_count": 47,
     "metadata": {},
     "output_type": "execute_result"
    }
   ],
   "source": [
    "df = df.resample('1H').sum()"
   ]
  },
  {
   "cell_type": "markdown",
   "metadata": {},
   "source": [
    "## Анализ"
   ]
  },
  {
   "cell_type": "code",
   "execution_count": 37,
   "metadata": {},
   "outputs": [],
   "source": [
    "df.sort_index(inplace=True)"
   ]
  },
  {
   "cell_type": "code",
   "execution_count": 70,
   "metadata": {
    "scrolled": false
   },
   "outputs": [
    {
     "data": {
      "image/png": "[encoded data removed]",
      "text/plain": [
       "<Figure size 1500x1000 with 1 Axes>"
      ]
     },
     "metadata": {},
     "output_type": "display_data"
    }
   ],
   "source": [
    "decomposed = seasonal_decompose(df)\n",
    "decomposed.seasonal['2018-03':'2018-03'].plot(ax=plt.gca(),figsize = (15,10),xlabel ='Days',ylabel='Count');"
   ]
  },
  {
   "cell_type": "markdown",
   "metadata": {},
   "source": [
    "<div class=\"alert alert-block alert-info\">\n",
    "Больший в начале суток 00-00 и падение спроса глубокой ночью\n",
    "</div>"
   ]
  },
  {
   "cell_type": "code",
   "execution_count": 71,
   "metadata": {
    "scrolled": false
   },
   "outputs": [
    {
     "data": {
      "image/png": "[encoded data removed]",
      "text/plain": [
       "<Figure size 1500x1000 with 1 Axes>"
      ]
     },
     "metadata": {},
     "output_type": "display_data"
    }
   ],
   "source": [
    "decomposed.trend['2018-03':'2018-03'].plot(ax=plt.gca(),figsize = (15,10),xlabel ='Days',ylabel='Hour');"
   ]
  },
  {
   "cell_type": "code",
   "execution_count": 12,
   "metadata": {},
   "outputs": [
    {
     "data": {
      "text/plain": [
       "3"
      ]
     },
     "execution_count": 12,
     "metadata": {},
     "output_type": "execute_result"
    }
   ],
   "source": [
    "df.index.dayofweek[0]"
   ]
  },
  {
   "cell_type": "markdown",
   "metadata": {},
   "source": [
    "<div class=\"alert alert-block alert-info\">\n",
    "Тренд на повышение приходится на выходные,и есть тренд на повышение в середине недели,на 2 и 3ей неделе можно наблюдать слияние этих трендов\n",
    "</div>"
   ]
  },
  {
   "cell_type": "code",
   "execution_count": 72,
   "metadata": {},
   "outputs": [],
   "source": [
    "def make_features(df,max_lag,rolling_mean_size):\n",
    "    df1 = df.copy()\n",
    "    df1['month'] = df.index.month\n",
    "    df1['day'] = df.index.month\n",
    "    df1['dayofweek'] = df.index.dayofweek\n",
    "    for lag in range(1,max_lag + 1):\n",
    "        df1['lag{}'.format(lag)] = df['num_orders'].shift(lag)\n",
    "    df1['rolling_mean'] = df['num_orders'].shift().rolling(rolling_mean_size).mean()\n",
    "    return df1"
   ]
  },
  {
   "cell_type": "code",
   "execution_count": 14,
   "metadata": {
    "scrolled": false
   },
   "outputs": [],
   "source": [
    "df1 = make_features(df,24,6)"
   ]
  },
  {
   "cell_type": "markdown",
   "metadata": {},
   "source": [
    "<div class=\"alert alert-info\" role=\"alert\">\n",
    "удаляем образовавшиеся пропуски\n",
    "</div>"
   ]
  },
  {
   "cell_type": "code",
   "execution_count": 15,
   "metadata": {},
   "outputs": [
    {
     "data": {
      "text/plain": [
       "num_orders       0\n",
       "month            0\n",
       "day              0\n",
       "dayofweek        0\n",
       "lag1             1\n",
       "lag2             2\n",
       "lag3             3\n",
       "lag4             4\n",
       "lag5             5\n",
       "lag6             6\n",
       "lag7             7\n",
       "lag8             8\n",
       "lag9             9\n",
       "lag10           10\n",
       "lag11           11\n",
       "lag12           12\n",
       "lag13           13\n",
       "lag14           14\n",
       "lag15           15\n",
       "lag16           16\n",
       "lag17           17\n",
       "lag18           18\n",
       "lag19           19\n",
       "lag20           20\n",
       "lag21           21\n",
       "lag22           22\n",
       "lag23           23\n",
       "lag24           24\n",
       "rolling_mean     6\n",
       "dtype: int64"
      ]
     },
     "execution_count": 15,
     "metadata": {},
     "output_type": "execute_result"
    }
   ],
   "source": [
    "df1.isna().sum()"
   ]
  },
  {
   "cell_type": "markdown",
   "metadata": {},
   "source": [
    "## Обучение"
   ]
  },
  {
   "cell_type": "markdown",
   "metadata": {},
   "source": [
    "<div class=\"alert alert-info\" role=\"alert\">\n",
    "Делим данные для обучения\n",
    "</div>"
   ]
  },
  {
   "cell_type": "code",
   "execution_count": 16,
   "metadata": {},
   "outputs": [],
   "source": [
    "df1 = df1.dropna()\n",
    "X = df1.drop('num_orders',axis=1)\n",
    "y = df1['num_orders']\n",
    "X_train,X_q,y_train,y_q = train_test_split(X,y,shuffle=False,test_size=0.2)\n",
    "X_valid,X_test,y_valid,y_test = train_test_split(X_q,y_q,shuffle=False,test_size=.5)"
   ]
  },
  {
   "cell_type": "code",
   "execution_count": 17,
   "metadata": {},
   "outputs": [
    {
     "name": "stdout",
     "output_type": "stream",
     "text": [
      "(439, 28)\n",
      "(440, 28)\n",
      "(439,)\n",
      "(440,)\n"
     ]
    }
   ],
   "source": [
    "print(X_valid.shape)\n",
    "print(X_test.shape)\n",
    "print(y_valid.shape)\n",
    "print(y_test.shape)"
   ]
  },
  {
   "cell_type": "markdown",
   "metadata": {},
   "source": [
    "<div class=\"alert alert-info\" role=\"alert\">\n",
    "Обучаем модели LinearRegression и CatBoostRegression\n",
    "</div>"
   ]
  },
  {
   "cell_type": "code",
   "execution_count": 18,
   "metadata": {},
   "outputs": [],
   "source": [
    "lg = LinearRegression()\n",
    "lg.fit(X_train,y_train)\n",
    "lg_pred = lg.predict(X_test)"
   ]
  },
  {
   "cell_type": "code",
   "execution_count": 74,
   "metadata": {
    "scrolled": true
   },
   "outputs": [
    {
     "name": "stdout",
     "output_type": "stream",
     "text": [
      "Learning rate set to 0.5\n",
      "0:\tlearn: 23.9697153\ttotal: 1.68ms\tremaining: 31.9ms\n",
      "2:\tlearn: 18.8054498\ttotal: 4.38ms\tremaining: 24.9ms\n",
      "4:\tlearn: 16.6556713\ttotal: 7.9ms\tremaining: 23.7ms\n",
      "6:\tlearn: 15.8753720\ttotal: 10.5ms\tremaining: 19.6ms\n",
      "8:\tlearn: 15.0304250\ttotal: 13.2ms\tremaining: 16.1ms\n",
      "10:\tlearn: 14.1938717\ttotal: 18.4ms\tremaining: 15ms\n",
      "12:\tlearn: 13.6341487\ttotal: 24.2ms\tremaining: 13.1ms\n",
      "14:\tlearn: 13.1629931\ttotal: 27.9ms\tremaining: 9.3ms\n",
      "16:\tlearn: 11.8723295\ttotal: 32.7ms\tremaining: 5.78ms\n",
      "18:\tlearn: 11.5471476\ttotal: 37.6ms\tremaining: 1.98ms\n",
      "19:\tlearn: 11.0014640\ttotal: 40ms\tremaining: 0us\n",
      "Learning rate set to 0.5\n",
      "0:\tlearn: 24.5633344\ttotal: 2.68ms\tremaining: 50.9ms\n",
      "2:\tlearn: 19.8664100\ttotal: 7.5ms\tremaining: 42.5ms\n",
      "4:\tlearn: 17.9386594\ttotal: 11.8ms\tremaining: 35.4ms\n",
      "6:\tlearn: 17.0425153\ttotal: 16ms\tremaining: 29.7ms\n",
      "8:\tlearn: 16.4148761\ttotal: 20.5ms\tremaining: 25ms\n",
      "10:\tlearn: 15.7421301\ttotal: 24.4ms\tremaining: 20ms\n",
      "12:\tlearn: 15.1343937\ttotal: 28.1ms\tremaining: 15.2ms\n",
      "14:\tlearn: 14.6418108\ttotal: 31.9ms\tremaining: 10.6ms\n",
      "16:\tlearn: 14.0369074\ttotal: 36ms\tremaining: 6.36ms\n",
      "18:\tlearn: 13.2986183\ttotal: 39.9ms\tremaining: 2.1ms\n",
      "19:\tlearn: 13.0679383\ttotal: 41.7ms\tremaining: 0us\n",
      "Learning rate set to 0.5\n",
      "0:\tlearn: 25.7542659\ttotal: 2.4ms\tremaining: 45.7ms\n",
      "2:\tlearn: 20.9708552\ttotal: 6.67ms\tremaining: 37.8ms\n",
      "4:\tlearn: 19.5433383\ttotal: 10.9ms\tremaining: 32.8ms\n",
      "6:\tlearn: 18.6876168\ttotal: 15.1ms\tremaining: 28ms\n",
      "8:\tlearn: 18.0089712\ttotal: 19.7ms\tremaining: 24ms\n",
      "10:\tlearn: 17.5731471\ttotal: 23.4ms\tremaining: 19.1ms\n",
      "12:\tlearn: 16.9665042\ttotal: 26.9ms\tremaining: 14.5ms\n",
      "14:\tlearn: 16.1958601\ttotal: 30.3ms\tremaining: 10.1ms\n",
      "16:\tlearn: 15.5149762\ttotal: 33.8ms\tremaining: 5.96ms\n",
      "18:\tlearn: 15.0181872\ttotal: 37.5ms\tremaining: 1.98ms\n",
      "19:\tlearn: 14.6989747\ttotal: 39.2ms\tremaining: 0us\n",
      "Learning rate set to 0.5\n",
      "0:\tlearn: 25.9455846\ttotal: 2.28ms\tremaining: 43.3ms\n",
      "2:\tlearn: 21.5501035\ttotal: 8.54ms\tremaining: 48.4ms\n",
      "4:\tlearn: 20.2637032\ttotal: 13.7ms\tremaining: 41.1ms\n",
      "6:\tlearn: 19.0525314\ttotal: 18ms\tremaining: 33.4ms\n",
      "8:\tlearn: 18.5536168\ttotal: 21.8ms\tremaining: 26.7ms\n",
      "10:\tlearn: 18.1462280\ttotal: 26.1ms\tremaining: 21.3ms\n",
      "12:\tlearn: 17.7259870\ttotal: 30ms\tremaining: 16.2ms\n",
      "14:\tlearn: 17.2138685\ttotal: 34ms\tremaining: 11.3ms\n",
      "16:\tlearn: 16.6024169\ttotal: 37.8ms\tremaining: 6.67ms\n",
      "18:\tlearn: 16.1833424\ttotal: 41.9ms\tremaining: 2.2ms\n",
      "19:\tlearn: 16.0955855\ttotal: 43.8ms\tremaining: 0us\n",
      "Learning rate set to 0.5\n",
      "0:\tlearn: 26.9874334\ttotal: 18.2ms\tremaining: 346ms\n",
      "2:\tlearn: 22.6177733\ttotal: 22.4ms\tremaining: 127ms\n",
      "4:\tlearn: 21.3762831\ttotal: 26.8ms\tremaining: 80.5ms\n",
      "6:\tlearn: 20.5549552\ttotal: 31ms\tremaining: 57.5ms\n",
      "8:\tlearn: 19.7531354\ttotal: 35.1ms\tremaining: 42.9ms\n",
      "10:\tlearn: 19.1769836\ttotal: 39.1ms\tremaining: 32ms\n",
      "12:\tlearn: 18.6856572\ttotal: 43.3ms\tremaining: 23.3ms\n",
      "14:\tlearn: 18.2537474\ttotal: 47.6ms\tremaining: 15.9ms\n",
      "16:\tlearn: 17.8089168\ttotal: 52ms\tremaining: 9.18ms\n",
      "18:\tlearn: 17.5033481\ttotal: 56.1ms\tremaining: 2.95ms\n",
      "19:\tlearn: 17.1371522\ttotal: 58.2ms\tremaining: 0us\n",
      "Learning rate set to 0.5\n",
      "0:\tlearn: 27.3794833\ttotal: 2.62ms\tremaining: 49.9ms\n",
      "2:\tlearn: 22.9972468\ttotal: 7ms\tremaining: 39.7ms\n",
      "4:\tlearn: 21.7089501\ttotal: 11.5ms\tremaining: 34.5ms\n",
      "6:\tlearn: 21.1589523\ttotal: 15.7ms\tremaining: 29.2ms\n",
      "8:\tlearn: 20.5742040\ttotal: 20ms\tremaining: 24.5ms\n",
      "10:\tlearn: 19.8791655\ttotal: 24.3ms\tremaining: 19.9ms\n",
      "12:\tlearn: 19.5676570\ttotal: 28.6ms\tremaining: 15.4ms\n",
      "14:\tlearn: 19.2115263\ttotal: 32.9ms\tremaining: 11ms\n",
      "16:\tlearn: 18.9191607\ttotal: 37.1ms\tremaining: 6.55ms\n",
      "18:\tlearn: 18.5066681\ttotal: 41.5ms\tremaining: 2.18ms\n",
      "19:\tlearn: 18.4868710\ttotal: 43.6ms\tremaining: 0us\n",
      "Learning rate set to 0.5\n",
      "0:\tlearn: 23.9697153\ttotal: 1.95ms\tremaining: 37ms\n",
      "5:\tlearn: 16.3327686\ttotal: 9.36ms\tremaining: 21.8ms\n",
      "10:\tlearn: 14.1938717\ttotal: 16.1ms\tremaining: 13.2ms\n",
      "15:\tlearn: 12.5145865\ttotal: 22.5ms\tremaining: 5.62ms\n",
      "19:\tlearn: 11.0014640\ttotal: 28.5ms\tremaining: 0us\n",
      "Learning rate set to 0.5\n",
      "0:\tlearn: 24.5633344\ttotal: 1.81ms\tremaining: 34.3ms\n",
      "5:\tlearn: 17.3453756\ttotal: 9.4ms\tremaining: 21.9ms\n",
      "10:\tlearn: 15.7421301\ttotal: 17.6ms\tremaining: 14.4ms\n",
      "15:\tlearn: 14.4754129\ttotal: 25.3ms\tremaining: 6.32ms\n",
      "19:\tlearn: 13.0679383\ttotal: 32.4ms\tremaining: 0us\n",
      "Learning rate set to 0.5\n",
      "0:\tlearn: 25.7542659\ttotal: 2.12ms\tremaining: 40.3ms\n",
      "5:\tlearn: 19.0210569\ttotal: 11.1ms\tremaining: 26ms\n",
      "10:\tlearn: 17.5731471\ttotal: 20.1ms\tremaining: 16.4ms\n",
      "15:\tlearn: 15.8932816\ttotal: 29.5ms\tremaining: 7.38ms\n",
      "19:\tlearn: 14.6989747\ttotal: 36.9ms\tremaining: 0us\n",
      "Learning rate set to 0.5\n",
      "0:\tlearn: 25.9455846\ttotal: 3.05ms\tremaining: 57.9ms\n",
      "5:\tlearn: 19.6482369\ttotal: 15ms\tremaining: 34.9ms\n",
      "10:\tlearn: 18.1462280\ttotal: 25.4ms\tremaining: 20.8ms\n",
      "15:\tlearn: 16.9051550\ttotal: 36.4ms\tremaining: 9.09ms\n",
      "19:\tlearn: 16.0955855\ttotal: 46.8ms\tremaining: 0us\n",
      "Learning rate set to 0.5\n",
      "0:\tlearn: 26.9874334\ttotal: 2.53ms\tremaining: 48ms\n",
      "5:\tlearn: 20.8473047\ttotal: 14.3ms\tremaining: 33.3ms\n",
      "10:\tlearn: 19.1769836\ttotal: 25.6ms\tremaining: 20.9ms\n",
      "15:\tlearn: 18.0723925\ttotal: 37ms\tremaining: 9.26ms\n",
      "19:\tlearn: 17.1371522\ttotal: 46.8ms\tremaining: 0us\n",
      "Learning rate set to 0.5\n",
      "0:\tlearn: 27.3794833\ttotal: 3.35ms\tremaining: 63.6ms\n",
      "5:\tlearn: 21.4517858\ttotal: 20.3ms\tremaining: 47.3ms\n",
      "10:\tlearn: 19.8791655\ttotal: 41.9ms\tremaining: 34.3ms\n",
      "15:\tlearn: 19.0454961\ttotal: 60ms\tremaining: 15ms\n",
      "19:\tlearn: 18.4868710\ttotal: 73.2ms\tremaining: 0us\n",
      "Learning rate set to 0.5\n",
      "0:\tlearn: 23.9697153\ttotal: 1.97ms\tremaining: 37.5ms\n",
      "10:\tlearn: 14.1938717\ttotal: 21.5ms\tremaining: 17.6ms\n",
      "19:\tlearn: 11.0014640\ttotal: 41.6ms\tremaining: 0us\n",
      "Learning rate set to 0.5\n",
      "0:\tlearn: 24.5633344\ttotal: 1.84ms\tremaining: 35ms\n",
      "10:\tlearn: 15.7421301\ttotal: 19.3ms\tremaining: 15.8ms\n",
      "19:\tlearn: 13.0679383\ttotal: 35.1ms\tremaining: 0us\n",
      "Learning rate set to 0.5\n",
      "0:\tlearn: 25.7542659\ttotal: 2.17ms\tremaining: 41.2ms\n",
      "10:\tlearn: 17.5731471\ttotal: 20.8ms\tremaining: 17ms\n",
      "19:\tlearn: 14.6989747\ttotal: 37.8ms\tremaining: 0us\n",
      "Learning rate set to 0.5\n",
      "0:\tlearn: 25.9455846\ttotal: 2.64ms\tremaining: 50.2ms\n",
      "10:\tlearn: 18.1462280\ttotal: 23.6ms\tremaining: 19.3ms\n",
      "19:\tlearn: 16.0955855\ttotal: 42.7ms\tremaining: 0us\n",
      "Learning rate set to 0.5\n",
      "0:\tlearn: 26.9874334\ttotal: 2.71ms\tremaining: 51.5ms\n",
      "10:\tlearn: 19.1769836\ttotal: 26.4ms\tremaining: 21.6ms\n",
      "19:\tlearn: 17.1371522\ttotal: 46.3ms\tremaining: 0us\n",
      "Learning rate set to 0.5\n",
      "0:\tlearn: 27.3794833\ttotal: 19ms\tremaining: 361ms\n",
      "10:\tlearn: 19.8791655\ttotal: 41.1ms\tremaining: 33.6ms\n",
      "19:\tlearn: 18.4868710\ttotal: 60.5ms\tremaining: 0us\n",
      "Learning rate set to 0.420057\n",
      "0:\tlearn: 24.6567447\ttotal: 1.94ms\tremaining: 95.1ms\n",
      "2:\tlearn: 19.9940147\ttotal: 4.69ms\tremaining: 73.5ms\n",
      "4:\tlearn: 17.7029998\ttotal: 7.3ms\tremaining: 65.8ms\n",
      "6:\tlearn: 16.7315677\ttotal: 9.93ms\tremaining: 61ms\n",
      "8:\tlearn: 15.9154076\ttotal: 12.6ms\tremaining: 57.3ms\n",
      "10:\tlearn: 14.9873099\ttotal: 15.3ms\tremaining: 54.2ms\n",
      "12:\tlearn: 14.2111189\ttotal: 18.2ms\tremaining: 51.8ms\n",
      "14:\tlearn: 13.4961539\ttotal: 21.1ms\tremaining: 49.2ms\n",
      "16:\tlearn: 13.0066592\ttotal: 23.6ms\tremaining: 45.9ms\n",
      "18:\tlearn: 12.7025892\ttotal: 26.2ms\tremaining: 42.7ms\n",
      "20:\tlearn: 12.2175532\ttotal: 29.6ms\tremaining: 40.9ms\n",
      "22:\tlearn: 11.2691349\ttotal: 33.1ms\tremaining: 38.8ms\n",
      "24:\tlearn: 10.8467218\ttotal: 36.2ms\tremaining: 36.2ms\n",
      "26:\tlearn: 10.7005382\ttotal: 39.3ms\tremaining: 33.4ms\n",
      "28:\tlearn: 9.9383933\ttotal: 42.1ms\tremaining: 30.5ms\n",
      "30:\tlearn: 9.3031326\ttotal: 44.7ms\tremaining: 27.4ms\n",
      "32:\tlearn: 9.2208650\ttotal: 47.4ms\tremaining: 24.4ms\n",
      "34:\tlearn: 8.6076591\ttotal: 50.5ms\tremaining: 21.7ms\n",
      "36:\tlearn: 8.1870159\ttotal: 53.2ms\tremaining: 18.7ms\n",
      "38:\tlearn: 7.8210813\ttotal: 56.2ms\tremaining: 15.8ms\n",
      "40:\tlearn: 7.3610547\ttotal: 58.8ms\tremaining: 12.9ms\n",
      "42:\tlearn: 6.8892325\ttotal: 61.6ms\tremaining: 10ms\n",
      "44:\tlearn: 6.6661988\ttotal: 64.5ms\tremaining: 7.16ms\n",
      "46:\tlearn: 6.2416293\ttotal: 67.2ms\tremaining: 4.29ms\n",
      "48:\tlearn: 6.0142742\ttotal: 70ms\tremaining: 1.43ms\n",
      "49:\tlearn: 5.8701648\ttotal: 71.5ms\tremaining: 0us\n",
      "Learning rate set to 0.468235\n",
      "0:\tlearn: 24.8040360\ttotal: 1.84ms\tremaining: 90.4ms\n",
      "2:\tlearn: 20.0284060\ttotal: 4.9ms\tremaining: 76.8ms\n",
      "4:\tlearn: 18.1274393\ttotal: 8.87ms\tremaining: 79.8ms\n",
      "6:\tlearn: 16.9141751\ttotal: 12.3ms\tremaining: 75.9ms\n",
      "8:\tlearn: 16.0496786\ttotal: 15.5ms\tremaining: 70.6ms\n",
      "10:\tlearn: 15.3551946\ttotal: 18.5ms\tremaining: 65.5ms\n",
      "12:\tlearn: 14.7499099\ttotal: 21.6ms\tremaining: 61.6ms\n",
      "14:\tlearn: 14.4315016\ttotal: 26.2ms\tremaining: 61.2ms\n",
      "16:\tlearn: 13.8517531\ttotal: 30.6ms\tremaining: 59.3ms\n",
      "18:\tlearn: 13.0150056\ttotal: 33.6ms\tremaining: 54.8ms\n",
      "20:\tlearn: 12.3959186\ttotal: 36.6ms\tremaining: 50.5ms\n"
     ]
    },
    {
     "name": "stdout",
     "output_type": "stream",
     "text": [
      "22:\tlearn: 11.9088026\ttotal: 41.5ms\tremaining: 48.7ms\n",
      "24:\tlearn: 11.4806657\ttotal: 45ms\tremaining: 45ms\n",
      "26:\tlearn: 11.2219560\ttotal: 47.9ms\tremaining: 40.8ms\n",
      "28:\tlearn: 10.7466996\ttotal: 50.9ms\tremaining: 36.9ms\n",
      "30:\tlearn: 10.3290773\ttotal: 54.4ms\tremaining: 33.4ms\n",
      "32:\tlearn: 9.8667157\ttotal: 58ms\tremaining: 29.9ms\n",
      "34:\tlearn: 9.4307898\ttotal: 61.4ms\tremaining: 26.3ms\n",
      "36:\tlearn: 9.1451195\ttotal: 65.2ms\tremaining: 22.9ms\n",
      "38:\tlearn: 8.8654759\ttotal: 68.4ms\tremaining: 19.3ms\n",
      "40:\tlearn: 8.5167898\ttotal: 72.4ms\tremaining: 15.9ms\n",
      "42:\tlearn: 8.1880482\ttotal: 75.8ms\tremaining: 12.3ms\n",
      "44:\tlearn: 7.9792544\ttotal: 78.8ms\tremaining: 8.76ms\n",
      "46:\tlearn: 7.7085414\ttotal: 81.9ms\tremaining: 5.23ms\n",
      "48:\tlearn: 7.4736906\ttotal: 85.1ms\tremaining: 1.74ms\n",
      "49:\tlearn: 7.4605378\ttotal: 87ms\tremaining: 0us\n",
      "Learning rate set to 0.499057\n",
      "0:\tlearn: 25.7619878\ttotal: 2ms\tremaining: 98.1ms\n",
      "2:\tlearn: 20.9765747\ttotal: 5.45ms\tremaining: 85.4ms\n",
      "4:\tlearn: 19.5469490\ttotal: 9.01ms\tremaining: 81.1ms\n",
      "6:\tlearn: 18.6909111\ttotal: 13.1ms\tremaining: 80.7ms\n",
      "8:\tlearn: 18.0117675\ttotal: 17.1ms\tremaining: 78.1ms\n",
      "10:\tlearn: 17.5761775\ttotal: 20.6ms\tremaining: 73.2ms\n",
      "12:\tlearn: 16.9698934\ttotal: 24.6ms\tremaining: 69.9ms\n",
      "14:\tlearn: 16.1996373\ttotal: 28.8ms\tremaining: 67.3ms\n",
      "16:\tlearn: 15.5195751\ttotal: 32.9ms\tremaining: 63.9ms\n",
      "18:\tlearn: 15.0230903\ttotal: 36.5ms\tremaining: 59.6ms\n",
      "20:\tlearn: 14.5041898\ttotal: 40.5ms\tremaining: 55.9ms\n",
      "22:\tlearn: 14.0422637\ttotal: 44.4ms\tremaining: 52.1ms\n",
      "24:\tlearn: 13.6818657\ttotal: 48.6ms\tremaining: 48.6ms\n",
      "26:\tlearn: 13.1700650\ttotal: 52.8ms\tremaining: 45ms\n",
      "28:\tlearn: 12.8505000\ttotal: 56.8ms\tremaining: 41.1ms\n",
      "30:\tlearn: 12.5516401\ttotal: 61.2ms\tremaining: 37.5ms\n",
      "32:\tlearn: 12.0424180\ttotal: 65.3ms\tremaining: 33.6ms\n",
      "34:\tlearn: 11.7253647\ttotal: 68.9ms\tremaining: 29.5ms\n",
      "36:\tlearn: 11.3709862\ttotal: 72.4ms\tremaining: 25.4ms\n",
      "38:\tlearn: 11.0519921\ttotal: 76.3ms\tremaining: 21.5ms\n",
      "40:\tlearn: 10.8657590\ttotal: 79.7ms\tremaining: 17.5ms\n",
      "42:\tlearn: 10.5680167\ttotal: 83.9ms\tremaining: 13.7ms\n",
      "44:\tlearn: 10.2021863\ttotal: 88ms\tremaining: 9.78ms\n",
      "46:\tlearn: 9.9416598\ttotal: 92.2ms\tremaining: 5.88ms\n",
      "48:\tlearn: 9.7428909\ttotal: 96.2ms\tremaining: 1.96ms\n",
      "49:\tlearn: 9.7337068\ttotal: 98.3ms\tremaining: 0us\n",
      "Learning rate set to 0.5\n",
      "0:\tlearn: 25.9455846\ttotal: 2.41ms\tremaining: 118ms\n",
      "2:\tlearn: 21.5501035\ttotal: 6.67ms\tremaining: 105ms\n",
      "4:\tlearn: 20.2637032\ttotal: 11.4ms\tremaining: 103ms\n",
      "6:\tlearn: 19.0525314\ttotal: 16.1ms\tremaining: 98.7ms\n",
      "8:\tlearn: 18.5536168\ttotal: 20.1ms\tremaining: 91.7ms\n",
      "10:\tlearn: 18.1462280\ttotal: 24.1ms\tremaining: 85.4ms\n",
      "12:\tlearn: 17.7259870\ttotal: 27.9ms\tremaining: 79.4ms\n",
      "14:\tlearn: 17.2138685\ttotal: 31.7ms\tremaining: 73.9ms\n",
      "16:\tlearn: 16.6024169\ttotal: 35.9ms\tremaining: 69.8ms\n",
      "18:\tlearn: 16.1833424\ttotal: 39.9ms\tremaining: 65.1ms\n",
      "20:\tlearn: 15.8213488\ttotal: 43.6ms\tremaining: 60.3ms\n",
      "22:\tlearn: 15.6039331\ttotal: 47.4ms\tremaining: 55.7ms\n",
      "24:\tlearn: 15.1302007\ttotal: 51.5ms\tremaining: 51.5ms\n",
      "26:\tlearn: 14.8955963\ttotal: 55.2ms\tremaining: 47ms\n",
      "28:\tlearn: 14.4867508\ttotal: 59ms\tremaining: 42.7ms\n",
      "30:\tlearn: 14.2353529\ttotal: 62.8ms\tremaining: 38.5ms\n",
      "32:\tlearn: 14.0971844\ttotal: 66.6ms\tremaining: 34.3ms\n",
      "34:\tlearn: 13.7256367\ttotal: 70.3ms\tremaining: 30.1ms\n",
      "36:\tlearn: 13.3632498\ttotal: 74.2ms\tremaining: 26.1ms\n",
      "38:\tlearn: 12.8522946\ttotal: 78.1ms\tremaining: 22ms\n",
      "40:\tlearn: 12.5951953\ttotal: 81.9ms\tremaining: 18ms\n",
      "42:\tlearn: 12.2795299\ttotal: 85.7ms\tremaining: 14ms\n",
      "44:\tlearn: 11.9524933\ttotal: 89.5ms\tremaining: 9.94ms\n",
      "46:\tlearn: 11.7140209\ttotal: 93.2ms\tremaining: 5.95ms\n",
      "48:\tlearn: 11.5021851\ttotal: 97.2ms\tremaining: 1.98ms\n",
      "49:\tlearn: 11.2901951\ttotal: 99.4ms\tremaining: 0us\n",
      "Learning rate set to 0.5\n",
      "0:\tlearn: 26.9874334\ttotal: 2.71ms\tremaining: 133ms\n",
      "2:\tlearn: 22.6177733\ttotal: 7.15ms\tremaining: 112ms\n",
      "4:\tlearn: 21.3762831\ttotal: 11.7ms\tremaining: 105ms\n",
      "6:\tlearn: 20.5549552\ttotal: 17.4ms\tremaining: 107ms\n",
      "8:\tlearn: 19.7531354\ttotal: 22ms\tremaining: 100ms\n",
      "10:\tlearn: 19.1769836\ttotal: 26.2ms\tremaining: 92.9ms\n",
      "12:\tlearn: 18.6856572\ttotal: 31.8ms\tremaining: 90.6ms\n",
      "14:\tlearn: 18.2537474\ttotal: 36.3ms\tremaining: 84.6ms\n",
      "16:\tlearn: 17.8089168\ttotal: 40.4ms\tremaining: 78.3ms\n",
      "18:\tlearn: 17.5033481\ttotal: 45.7ms\tremaining: 74.6ms\n",
      "20:\tlearn: 16.8146523\ttotal: 50.4ms\tremaining: 69.6ms\n",
      "22:\tlearn: 16.3844879\ttotal: 54.7ms\tremaining: 64.2ms\n",
      "24:\tlearn: 16.1515363\ttotal: 58.7ms\tremaining: 58.7ms\n",
      "26:\tlearn: 15.8596011\ttotal: 64.5ms\tremaining: 54.9ms\n",
      "28:\tlearn: 15.4467104\ttotal: 68.7ms\tremaining: 49.8ms\n",
      "30:\tlearn: 14.9922788\ttotal: 73.2ms\tremaining: 44.9ms\n",
      "32:\tlearn: 14.6952256\ttotal: 78.6ms\tremaining: 40.5ms\n",
      "34:\tlearn: 14.4860646\ttotal: 82.9ms\tremaining: 35.5ms\n",
      "36:\tlearn: 14.2645346\ttotal: 87.1ms\tremaining: 30.6ms\n",
      "38:\tlearn: 13.9289171\ttotal: 91.1ms\tremaining: 25.7ms\n",
      "40:\tlearn: 13.6802942\ttotal: 96.6ms\tremaining: 21.2ms\n",
      "42:\tlearn: 13.4368412\ttotal: 101ms\tremaining: 16.5ms\n",
      "44:\tlearn: 13.2913129\ttotal: 106ms\tremaining: 11.7ms\n",
      "46:\tlearn: 13.0221234\ttotal: 111ms\tremaining: 7.06ms\n",
      "48:\tlearn: 12.6857234\ttotal: 116ms\tremaining: 2.36ms\n",
      "49:\tlearn: 12.5724455\ttotal: 118ms\tremaining: 0us\n",
      "Learning rate set to 0.5\n",
      "0:\tlearn: 27.3794833\ttotal: 4.68ms\tremaining: 229ms\n",
      "2:\tlearn: 22.9972468\ttotal: 9.07ms\tremaining: 142ms\n",
      "4:\tlearn: 21.7089501\ttotal: 14.2ms\tremaining: 127ms\n",
      "6:\tlearn: 21.1589523\ttotal: 19.2ms\tremaining: 118ms\n",
      "8:\tlearn: 20.5742040\ttotal: 23.5ms\tremaining: 107ms\n",
      "10:\tlearn: 19.8791655\ttotal: 27.8ms\tremaining: 98.5ms\n",
      "12:\tlearn: 19.5676570\ttotal: 33.5ms\tremaining: 95.3ms\n",
      "14:\tlearn: 19.2115263\ttotal: 37.9ms\tremaining: 88.5ms\n",
      "16:\tlearn: 18.9191607\ttotal: 42.2ms\tremaining: 81.8ms\n",
      "18:\tlearn: 18.5066681\ttotal: 47.6ms\tremaining: 77.6ms\n",
      "20:\tlearn: 18.1875105\ttotal: 52.3ms\tremaining: 72.3ms\n",
      "22:\tlearn: 17.7412797\ttotal: 56.6ms\tremaining: 66.5ms\n",
      "24:\tlearn: 17.2615512\ttotal: 60.8ms\tremaining: 60.8ms\n",
      "26:\tlearn: 16.7496355\ttotal: 66.1ms\tremaining: 56.3ms\n",
      "28:\tlearn: 16.4754787\ttotal: 71.2ms\tremaining: 51.6ms\n",
      "30:\tlearn: 16.3014899\ttotal: 75.9ms\tremaining: 46.5ms\n",
      "32:\tlearn: 16.0434214\ttotal: 81.3ms\tremaining: 41.9ms\n",
      "34:\tlearn: 15.8132387\ttotal: 85.7ms\tremaining: 36.7ms\n",
      "36:\tlearn: 15.5696092\ttotal: 89.9ms\tremaining: 31.6ms\n",
      "38:\tlearn: 15.2353606\ttotal: 94.3ms\tremaining: 26.6ms\n",
      "40:\tlearn: 14.9965005\ttotal: 99.1ms\tremaining: 21.8ms\n",
      "42:\tlearn: 14.6759309\ttotal: 104ms\tremaining: 16.9ms\n",
      "44:\tlearn: 14.3817619\ttotal: 108ms\tremaining: 12ms\n",
      "46:\tlearn: 14.2790807\ttotal: 112ms\tremaining: 7.16ms\n",
      "48:\tlearn: 14.1108696\ttotal: 117ms\tremaining: 2.38ms\n",
      "49:\tlearn: 13.9437467\ttotal: 119ms\tremaining: 0us\n",
      "Learning rate set to 0.420057\n",
      "0:\tlearn: 24.6567447\ttotal: 1.61ms\tremaining: 78.8ms\n",
      "5:\tlearn: 17.2672237\ttotal: 8.34ms\tremaining: 61.2ms\n",
      "10:\tlearn: 14.9873099\ttotal: 15ms\tremaining: 53.1ms\n",
      "15:\tlearn: 13.1690721\ttotal: 23ms\tremaining: 48.8ms\n",
      "20:\tlearn: 12.2175532\ttotal: 30.7ms\tremaining: 42.4ms\n",
      "25:\tlearn: 10.7436288\ttotal: 37.5ms\tremaining: 34.6ms\n",
      "30:\tlearn: 9.3031326\ttotal: 44.5ms\tremaining: 27.2ms\n",
      "35:\tlearn: 8.4100528\ttotal: 51.2ms\tremaining: 19.9ms\n",
      "40:\tlearn: 7.3610547\ttotal: 59ms\tremaining: 13ms\n",
      "45:\tlearn: 6.5416082\ttotal: 66ms\tremaining: 5.74ms\n",
      "49:\tlearn: 5.8701648\ttotal: 72.6ms\tremaining: 0us\n",
      "Learning rate set to 0.468235\n",
      "0:\tlearn: 24.8040360\ttotal: 1.86ms\tremaining: 91ms\n",
      "5:\tlearn: 17.4451575\ttotal: 10.4ms\tremaining: 76ms\n",
      "10:\tlearn: 15.3551946\ttotal: 19.1ms\tremaining: 67.6ms\n",
      "15:\tlearn: 14.1448715\ttotal: 28.1ms\tremaining: 59.6ms\n",
      "20:\tlearn: 12.3959186\ttotal: 36.7ms\tremaining: 50.7ms\n",
      "25:\tlearn: 11.4482952\ttotal: 45.4ms\tremaining: 41.9ms\n",
      "30:\tlearn: 10.3290773\ttotal: 53ms\tremaining: 32.5ms\n",
      "35:\tlearn: 9.4090037\ttotal: 61.7ms\tremaining: 24ms\n",
      "40:\tlearn: 8.5167898\ttotal: 69.1ms\tremaining: 15.2ms\n",
      "45:\tlearn: 7.8478721\ttotal: 78ms\tremaining: 6.78ms\n",
      "49:\tlearn: 7.4605378\ttotal: 83.8ms\tremaining: 0us\n",
      "Learning rate set to 0.499057\n",
      "0:\tlearn: 25.7619878\ttotal: 2.46ms\tremaining: 121ms\n",
      "5:\tlearn: 19.0245246\ttotal: 11.4ms\tremaining: 83.3ms\n",
      "10:\tlearn: 17.5761775\ttotal: 21.2ms\tremaining: 75.3ms\n",
      "15:\tlearn: 15.8971570\ttotal: 30.1ms\tremaining: 63.9ms\n",
      "20:\tlearn: 14.5041898\ttotal: 40ms\tremaining: 55.2ms\n",
      "25:\tlearn: 13.3928271\ttotal: 50.5ms\tremaining: 46.6ms\n",
      "30:\tlearn: 12.5516401\ttotal: 59.8ms\tremaining: 36.7ms\n",
      "35:\tlearn: 11.5482986\ttotal: 68.4ms\tremaining: 26.6ms\n",
      "40:\tlearn: 10.8657590\ttotal: 77.2ms\tremaining: 17ms\n",
      "45:\tlearn: 10.0733376\ttotal: 85.9ms\tremaining: 7.47ms\n",
      "49:\tlearn: 9.7337068\ttotal: 92.9ms\tremaining: 0us\n",
      "Learning rate set to 0.5\n"
     ]
    },
    {
     "name": "stdout",
     "output_type": "stream",
     "text": [
      "0:\tlearn: 25.9455846\ttotal: 2.57ms\tremaining: 126ms\n",
      "5:\tlearn: 19.6482369\ttotal: 14.3ms\tremaining: 105ms\n",
      "10:\tlearn: 18.1462280\ttotal: 24.2ms\tremaining: 85.7ms\n",
      "15:\tlearn: 16.9051550\ttotal: 34.4ms\tremaining: 73.2ms\n",
      "20:\tlearn: 15.8213488\ttotal: 44.3ms\tremaining: 61.1ms\n",
      "25:\tlearn: 15.1151283\ttotal: 54.1ms\tremaining: 49.9ms\n",
      "30:\tlearn: 14.2353529\ttotal: 64ms\tremaining: 39.2ms\n",
      "35:\tlearn: 13.5351572\ttotal: 73.5ms\tremaining: 28.6ms\n",
      "40:\tlearn: 12.5951953\ttotal: 84.5ms\tremaining: 18.6ms\n",
      "45:\tlearn: 11.8305313\ttotal: 95.2ms\tremaining: 8.28ms\n",
      "49:\tlearn: 11.2901951\ttotal: 103ms\tremaining: 0us\n",
      "Learning rate set to 0.5\n",
      "0:\tlearn: 26.9874334\ttotal: 2.56ms\tremaining: 126ms\n",
      "5:\tlearn: 20.8473047\ttotal: 13.9ms\tremaining: 102ms\n",
      "10:\tlearn: 19.1769836\ttotal: 26.2ms\tremaining: 92.8ms\n",
      "15:\tlearn: 18.0723925\ttotal: 38.3ms\tremaining: 81.4ms\n",
      "20:\tlearn: 16.8146523\ttotal: 49.8ms\tremaining: 68.8ms\n",
      "25:\tlearn: 15.9333332\ttotal: 60.1ms\tremaining: 55.5ms\n",
      "30:\tlearn: 14.9922788\ttotal: 72ms\tremaining: 44.1ms\n",
      "35:\tlearn: 14.2856059\ttotal: 84.6ms\tremaining: 32.9ms\n",
      "40:\tlearn: 13.6802942\ttotal: 96ms\tremaining: 21.1ms\n",
      "45:\tlearn: 13.1124361\ttotal: 108ms\tremaining: 9.35ms\n",
      "49:\tlearn: 12.5724455\ttotal: 117ms\tremaining: 0us\n",
      "Learning rate set to 0.5\n",
      "0:\tlearn: 27.3794833\ttotal: 2.93ms\tremaining: 144ms\n",
      "5:\tlearn: 21.4517858\ttotal: 13.9ms\tremaining: 102ms\n",
      "10:\tlearn: 19.8791655\ttotal: 27.7ms\tremaining: 98.1ms\n",
      "15:\tlearn: 19.0454961\ttotal: 41.5ms\tremaining: 88.2ms\n",
      "20:\tlearn: 18.1875105\ttotal: 53.7ms\tremaining: 74.2ms\n",
      "25:\tlearn: 17.0442122\ttotal: 66.2ms\tremaining: 61.1ms\n",
      "30:\tlearn: 16.3014899\ttotal: 77.4ms\tremaining: 47.4ms\n",
      "35:\tlearn: 15.7272211\ttotal: 89.9ms\tremaining: 35ms\n",
      "40:\tlearn: 14.9965005\ttotal: 102ms\tremaining: 22.4ms\n",
      "45:\tlearn: 14.3647051\ttotal: 114ms\tremaining: 9.88ms\n",
      "49:\tlearn: 13.9437467\ttotal: 122ms\tremaining: 0us\n",
      "Learning rate set to 0.420057\n",
      "0:\tlearn: 24.6567447\ttotal: 1.66ms\tremaining: 81.3ms\n",
      "10:\tlearn: 14.9873099\ttotal: 16ms\tremaining: 56.9ms\n",
      "20:\tlearn: 12.2175532\ttotal: 31.3ms\tremaining: 43.2ms\n",
      "30:\tlearn: 9.3031326\ttotal: 44.9ms\tremaining: 27.5ms\n",
      "40:\tlearn: 7.3610547\ttotal: 58ms\tremaining: 12.7ms\n",
      "49:\tlearn: 5.8701648\ttotal: 70.5ms\tremaining: 0us\n",
      "Learning rate set to 0.468235\n",
      "0:\tlearn: 24.8040360\ttotal: 1.83ms\tremaining: 89.9ms\n",
      "10:\tlearn: 15.3551946\ttotal: 18.3ms\tremaining: 65ms\n",
      "20:\tlearn: 12.3959186\ttotal: 34.7ms\tremaining: 47.9ms\n",
      "30:\tlearn: 10.3290773\ttotal: 52ms\tremaining: 31.8ms\n",
      "40:\tlearn: 8.5167898\ttotal: 68.9ms\tremaining: 15.1ms\n",
      "49:\tlearn: 7.4605378\ttotal: 83.7ms\tremaining: 0us\n",
      "Learning rate set to 0.499057\n",
      "0:\tlearn: 25.7619878\ttotal: 2.32ms\tremaining: 114ms\n",
      "10:\tlearn: 17.5761775\ttotal: 22.2ms\tremaining: 78.9ms\n",
      "20:\tlearn: 14.5041898\ttotal: 41.8ms\tremaining: 57.7ms\n",
      "30:\tlearn: 12.5516401\ttotal: 60ms\tremaining: 36.8ms\n",
      "40:\tlearn: 10.8657590\ttotal: 80.5ms\tremaining: 17.7ms\n",
      "49:\tlearn: 9.7337068\ttotal: 96.2ms\tremaining: 0us\n",
      "Learning rate set to 0.5\n",
      "0:\tlearn: 25.9455846\ttotal: 2.23ms\tremaining: 109ms\n",
      "10:\tlearn: 18.1462280\ttotal: 22.1ms\tremaining: 78.5ms\n",
      "20:\tlearn: 15.8213488\ttotal: 43.3ms\tremaining: 59.8ms\n",
      "30:\tlearn: 14.2353529\ttotal: 62.9ms\tremaining: 38.6ms\n",
      "40:\tlearn: 12.5951953\ttotal: 84.2ms\tremaining: 18.5ms\n",
      "49:\tlearn: 11.2901951\ttotal: 104ms\tremaining: 0us\n",
      "Learning rate set to 0.5\n",
      "0:\tlearn: 26.9874334\ttotal: 2.44ms\tremaining: 120ms\n",
      "10:\tlearn: 19.1769836\ttotal: 26.7ms\tremaining: 94.7ms\n",
      "20:\tlearn: 16.8146523\ttotal: 48.8ms\tremaining: 67.5ms\n",
      "30:\tlearn: 14.9922788\ttotal: 71.7ms\tremaining: 44ms\n",
      "40:\tlearn: 13.6802942\ttotal: 93.6ms\tremaining: 20.5ms\n",
      "49:\tlearn: 12.5724455\ttotal: 115ms\tremaining: 0us\n",
      "Learning rate set to 0.5\n",
      "0:\tlearn: 27.3794833\ttotal: 3.01ms\tremaining: 148ms\n",
      "10:\tlearn: 19.8791655\ttotal: 26.9ms\tremaining: 95.5ms\n",
      "20:\tlearn: 18.1875105\ttotal: 50ms\tremaining: 69.1ms\n",
      "30:\tlearn: 16.3014899\ttotal: 71.7ms\tremaining: 43.9ms\n",
      "40:\tlearn: 14.9965005\ttotal: 93.1ms\tremaining: 20.4ms\n",
      "49:\tlearn: 13.9437467\ttotal: 112ms\tremaining: 0us\n",
      "Learning rate set to 0.239095\n",
      "0:\tlearn: 26.3805212\ttotal: 1.66ms\tremaining: 164ms\n",
      "2:\tlearn: 22.2402662\ttotal: 4.52ms\tremaining: 146ms\n",
      "4:\tlearn: 19.8758786\ttotal: 7.76ms\tremaining: 147ms\n",
      "6:\tlearn: 18.2925828\ttotal: 10.7ms\tremaining: 142ms\n",
      "8:\tlearn: 17.2592621\ttotal: 13.3ms\tremaining: 134ms\n",
      "10:\tlearn: 16.4871155\ttotal: 15.8ms\tremaining: 128ms\n",
      "12:\tlearn: 15.7425442\ttotal: 18.4ms\tremaining: 123ms\n",
      "14:\tlearn: 15.1790964\ttotal: 21.3ms\tremaining: 121ms\n",
      "16:\tlearn: 14.7453633\ttotal: 24.9ms\tremaining: 122ms\n",
      "18:\tlearn: 14.3303582\ttotal: 28ms\tremaining: 120ms\n",
      "20:\tlearn: 13.6805618\ttotal: 30.8ms\tremaining: 116ms\n",
      "22:\tlearn: 13.2369770\ttotal: 33.5ms\tremaining: 112ms\n",
      "24:\tlearn: 12.7579874\ttotal: 36.3ms\tremaining: 109ms\n",
      "26:\tlearn: 12.3456363\ttotal: 40.4ms\tremaining: 109ms\n",
      "28:\tlearn: 12.0844096\ttotal: 43.8ms\tremaining: 107ms\n",
      "30:\tlearn: 11.7186956\ttotal: 46.4ms\tremaining: 103ms\n",
      "32:\tlearn: 11.2722663\ttotal: 48.9ms\tremaining: 99.2ms\n",
      "34:\tlearn: 11.0052590\ttotal: 52.2ms\tremaining: 96.9ms\n",
      "36:\tlearn: 10.8915254\ttotal: 56ms\tremaining: 95.4ms\n",
      "38:\tlearn: 10.6129977\ttotal: 59ms\tremaining: 92.3ms\n",
      "40:\tlearn: 10.2927036\ttotal: 62.3ms\tremaining: 89.6ms\n",
      "42:\tlearn: 10.0443108\ttotal: 65ms\tremaining: 86.2ms\n",
      "44:\tlearn: 9.5898756\ttotal: 68.2ms\tremaining: 83.3ms\n",
      "46:\tlearn: 9.2238218\ttotal: 71.9ms\tremaining: 81.1ms\n",
      "48:\tlearn: 8.9986383\ttotal: 74.9ms\tremaining: 78ms\n",
      "50:\tlearn: 8.9352862\ttotal: 77.7ms\tremaining: 74.6ms\n",
      "52:\tlearn: 8.7293486\ttotal: 80.4ms\tremaining: 71.3ms\n",
      "54:\tlearn: 8.2445589\ttotal: 83.3ms\tremaining: 68.2ms\n",
      "56:\tlearn: 8.0601952\ttotal: 87ms\tremaining: 65.7ms\n",
      "58:\tlearn: 7.6895175\ttotal: 90ms\tremaining: 62.6ms\n",
      "60:\tlearn: 7.4379474\ttotal: 92.7ms\tremaining: 59.3ms\n",
      "62:\tlearn: 7.2036338\ttotal: 95.5ms\tremaining: 56.1ms\n",
      "64:\tlearn: 7.0033732\ttotal: 99.1ms\tremaining: 53.3ms\n",
      "66:\tlearn: 6.7741983\ttotal: 103ms\tremaining: 50.5ms\n",
      "68:\tlearn: 6.4222856\ttotal: 106ms\tremaining: 47.5ms\n",
      "70:\tlearn: 6.2571382\ttotal: 109ms\tremaining: 44.5ms\n",
      "72:\tlearn: 6.0729768\ttotal: 112ms\tremaining: 41.4ms\n",
      "74:\tlearn: 5.9069139\ttotal: 115ms\tremaining: 38.2ms\n",
      "76:\tlearn: 5.6651999\ttotal: 118ms\tremaining: 35.4ms\n",
      "78:\tlearn: 5.4534308\ttotal: 122ms\tremaining: 32.4ms\n",
      "80:\tlearn: 5.2620742\ttotal: 125ms\tremaining: 29.2ms\n",
      "82:\tlearn: 5.1045174\ttotal: 127ms\tremaining: 26.1ms\n",
      "84:\tlearn: 4.8999796\ttotal: 130ms\tremaining: 22.9ms\n",
      "86:\tlearn: 4.7768551\ttotal: 133ms\tremaining: 19.9ms\n",
      "88:\tlearn: 4.7207333\ttotal: 137ms\tremaining: 16.9ms\n",
      "90:\tlearn: 4.5855914\ttotal: 139ms\tremaining: 13.8ms\n",
      "92:\tlearn: 4.4445024\ttotal: 142ms\tremaining: 10.7ms\n",
      "94:\tlearn: 4.3716662\ttotal: 145ms\tremaining: 7.61ms\n",
      "96:\tlearn: 4.2800175\ttotal: 147ms\tremaining: 4.55ms\n",
      "98:\tlearn: 4.1857948\ttotal: 151ms\tremaining: 1.52ms\n",
      "99:\tlearn: 4.1142933\ttotal: 152ms\tremaining: 0us\n",
      "Learning rate set to 0.266518\n",
      "0:\tlearn: 26.5488984\ttotal: 4.06ms\tremaining: 402ms\n",
      "2:\tlearn: 22.1934986\ttotal: 9.69ms\tremaining: 313ms\n",
      "4:\tlearn: 20.0952749\ttotal: 14.6ms\tremaining: 278ms\n",
      "6:\tlearn: 18.6688944\ttotal: 21.4ms\tremaining: 285ms\n",
      "8:\tlearn: 17.7337806\ttotal: 25.8ms\tremaining: 261ms\n",
      "10:\tlearn: 17.0689755\ttotal: 31.3ms\tremaining: 253ms\n",
      "12:\tlearn: 16.4430111\ttotal: 38.4ms\tremaining: 257ms\n",
      "14:\tlearn: 16.0871644\ttotal: 42.7ms\tremaining: 242ms\n",
      "16:\tlearn: 15.7737119\ttotal: 46.8ms\tremaining: 229ms\n",
      "18:\tlearn: 15.3870743\ttotal: 52.4ms\tremaining: 223ms\n",
      "20:\tlearn: 14.9632616\ttotal: 56.4ms\tremaining: 212ms\n",
      "22:\tlearn: 14.6753067\ttotal: 60.1ms\tremaining: 201ms\n",
      "24:\tlearn: 14.3400757\ttotal: 63.9ms\tremaining: 192ms\n",
      "26:\tlearn: 14.0767193\ttotal: 69.8ms\tremaining: 189ms\n",
      "28:\tlearn: 13.7755279\ttotal: 73.8ms\tremaining: 181ms\n",
      "30:\tlearn: 13.4827271\ttotal: 77.6ms\tremaining: 173ms\n",
      "32:\tlearn: 13.2688131\ttotal: 82ms\tremaining: 167ms\n",
      "34:\tlearn: 13.0002687\ttotal: 86ms\tremaining: 160ms\n",
      "36:\tlearn: 12.6097077\ttotal: 90.4ms\tremaining: 154ms\n",
      "38:\tlearn: 12.2457755\ttotal: 94.9ms\tremaining: 148ms\n",
      "40:\tlearn: 12.0177784\ttotal: 100ms\tremaining: 144ms\n",
      "42:\tlearn: 11.7085701\ttotal: 105ms\tremaining: 139ms\n",
      "44:\tlearn: 11.4811841\ttotal: 109ms\tremaining: 133ms\n",
      "46:\tlearn: 11.2619189\ttotal: 113ms\tremaining: 128ms\n",
      "48:\tlearn: 11.1539657\ttotal: 117ms\tremaining: 122ms\n",
      "50:\tlearn: 10.9724768\ttotal: 121ms\tremaining: 116ms\n",
      "52:\tlearn: 10.5518335\ttotal: 125ms\tremaining: 110ms\n",
      "54:\tlearn: 10.4387965\ttotal: 129ms\tremaining: 106ms\n",
      "56:\tlearn: 10.2541516\ttotal: 133ms\tremaining: 100ms\n",
      "58:\tlearn: 9.9628166\ttotal: 137ms\tremaining: 95.1ms\n",
      "60:\tlearn: 9.8628295\ttotal: 140ms\tremaining: 89.6ms\n",
      "62:\tlearn: 9.6228959\ttotal: 143ms\tremaining: 84ms\n",
      "64:\tlearn: 9.4014317\ttotal: 146ms\tremaining: 78.8ms\n",
      "66:\tlearn: 9.1709289\ttotal: 149ms\tremaining: 73.5ms\n",
      "68:\tlearn: 8.9452327\ttotal: 152ms\tremaining: 68.4ms\n",
      "70:\tlearn: 8.7172525\ttotal: 155ms\tremaining: 63.4ms\n",
      "72:\tlearn: 8.5053846\ttotal: 158ms\tremaining: 58.5ms\n",
      "74:\tlearn: 8.3793769\ttotal: 162ms\tremaining: 53.8ms\n",
      "76:\tlearn: 8.2186685\ttotal: 164ms\tremaining: 49.1ms\n",
      "78:\tlearn: 8.0709052\ttotal: 167ms\tremaining: 44.5ms\n",
      "80:\tlearn: 7.9308077\ttotal: 170ms\tremaining: 40ms\n",
      "82:\tlearn: 7.7482282\ttotal: 173ms\tremaining: 35.5ms\n",
      "84:\tlearn: 7.6147349\ttotal: 176ms\tremaining: 31.1ms\n",
      "86:\tlearn: 7.4788827\ttotal: 179ms\tremaining: 26.8ms\n",
      "88:\tlearn: 7.2632934\ttotal: 182ms\tremaining: 22.5ms\n",
      "90:\tlearn: 7.0764020\ttotal: 185ms\tremaining: 18.3ms\n",
      "92:\tlearn: 7.0135937\ttotal: 188ms\tremaining: 14.2ms\n",
      "94:\tlearn: 6.8703570\ttotal: 191ms\tremaining: 10.1ms\n",
      "96:\tlearn: 6.8249328\ttotal: 194ms\tremaining: 6ms\n",
      "98:\tlearn: 6.7167415\ttotal: 197ms\tremaining: 1.99ms\n",
      "99:\tlearn: 6.6485287\ttotal: 199ms\tremaining: 0us\n",
      "Learning rate set to 0.284062\n",
      "0:\tlearn: 27.7895284\ttotal: 2.14ms\tremaining: 212ms\n",
      "2:\tlearn: 23.0637482\ttotal: 5.95ms\tremaining: 193ms\n",
      "4:\tlearn: 21.1628742\ttotal: 9.62ms\tremaining: 183ms\n",
      "6:\tlearn: 19.7958667\ttotal: 13ms\tremaining: 173ms\n",
      "8:\tlearn: 19.0762278\ttotal: 16.6ms\tremaining: 167ms\n",
      "10:\tlearn: 18.5487042\ttotal: 20.2ms\tremaining: 164ms\n",
      "12:\tlearn: 17.9998910\ttotal: 23.8ms\tremaining: 159ms\n",
      "14:\tlearn: 17.5577094\ttotal: 27.4ms\tremaining: 155ms\n",
      "16:\tlearn: 17.2298033\ttotal: 30.9ms\tremaining: 151ms\n",
      "18:\tlearn: 16.8904532\ttotal: 34.5ms\tremaining: 147ms\n",
      "20:\tlearn: 16.6014961\ttotal: 38.3ms\tremaining: 144ms\n",
      "22:\tlearn: 16.4350172\ttotal: 41.8ms\tremaining: 140ms\n",
      "24:\tlearn: 16.3220367\ttotal: 45.3ms\tremaining: 136ms\n",
      "26:\tlearn: 15.9459296\ttotal: 48.9ms\tremaining: 132ms\n",
      "28:\tlearn: 15.7523338\ttotal: 52.6ms\tremaining: 129ms\n"
     ]
    },
    {
     "name": "stdout",
     "output_type": "stream",
     "text": [
      "30:\tlearn: 15.4995000\ttotal: 57.4ms\tremaining: 128ms\n",
      "32:\tlearn: 15.2594291\ttotal: 61ms\tremaining: 124ms\n",
      "34:\tlearn: 15.1120829\ttotal: 64.5ms\tremaining: 120ms\n",
      "36:\tlearn: 14.7952284\ttotal: 68.1ms\tremaining: 116ms\n",
      "38:\tlearn: 14.4247845\ttotal: 72.1ms\tremaining: 113ms\n",
      "40:\tlearn: 14.1618660\ttotal: 76ms\tremaining: 109ms\n",
      "42:\tlearn: 13.8185830\ttotal: 80.3ms\tremaining: 106ms\n",
      "44:\tlearn: 13.6043726\ttotal: 84.2ms\tremaining: 103ms\n",
      "46:\tlearn: 13.2321720\ttotal: 88ms\tremaining: 99.2ms\n",
      "48:\tlearn: 12.9445971\ttotal: 91.5ms\tremaining: 95.2ms\n",
      "50:\tlearn: 12.7191105\ttotal: 95.1ms\tremaining: 91.3ms\n",
      "52:\tlearn: 12.5456004\ttotal: 98.8ms\tremaining: 87.6ms\n",
      "54:\tlearn: 12.2995520\ttotal: 103ms\tremaining: 84.5ms\n",
      "56:\tlearn: 12.0841507\ttotal: 107ms\tremaining: 80.5ms\n",
      "58:\tlearn: 11.8515030\ttotal: 110ms\tremaining: 76.6ms\n",
      "60:\tlearn: 11.5974416\ttotal: 114ms\tremaining: 72.8ms\n",
      "62:\tlearn: 11.4828182\ttotal: 118ms\tremaining: 69.2ms\n",
      "64:\tlearn: 11.2844006\ttotal: 122ms\tremaining: 65.7ms\n",
      "66:\tlearn: 11.2145751\ttotal: 126ms\tremaining: 62ms\n",
      "68:\tlearn: 11.0940797\ttotal: 129ms\tremaining: 58.1ms\n",
      "70:\tlearn: 10.8944408\ttotal: 134ms\tremaining: 54.6ms\n",
      "72:\tlearn: 10.6400966\ttotal: 137ms\tremaining: 50.7ms\n",
      "74:\tlearn: 10.3926573\ttotal: 141ms\tremaining: 46.9ms\n",
      "76:\tlearn: 10.2879766\ttotal: 144ms\tremaining: 43.1ms\n",
      "78:\tlearn: 10.1110487\ttotal: 148ms\tremaining: 39.3ms\n",
      "80:\tlearn: 10.0013893\ttotal: 152ms\tremaining: 35.5ms\n",
      "82:\tlearn: 9.8119161\ttotal: 155ms\tremaining: 31.7ms\n",
      "84:\tlearn: 9.6448096\ttotal: 158ms\tremaining: 28ms\n",
      "86:\tlearn: 9.4351740\ttotal: 162ms\tremaining: 24.2ms\n",
      "88:\tlearn: 9.3517167\ttotal: 166ms\tremaining: 20.5ms\n",
      "90:\tlearn: 9.2124264\ttotal: 169ms\tremaining: 16.7ms\n",
      "92:\tlearn: 9.0434566\ttotal: 173ms\tremaining: 13ms\n",
      "94:\tlearn: 8.9030588\ttotal: 176ms\tremaining: 9.29ms\n",
      "96:\tlearn: 8.8206792\ttotal: 180ms\tremaining: 5.57ms\n",
      "98:\tlearn: 8.7244270\ttotal: 185ms\tremaining: 1.86ms\n",
      "99:\tlearn: 8.6661356\ttotal: 187ms\tremaining: 0us\n",
      "Learning rate set to 0.297224\n",
      "0:\tlearn: 28.1846887\ttotal: 2.42ms\tremaining: 239ms\n",
      "2:\tlearn: 23.6610499\ttotal: 6.71ms\tremaining: 217ms\n",
      "4:\tlearn: 21.5192306\ttotal: 10.7ms\tremaining: 204ms\n",
      "6:\tlearn: 20.3263926\ttotal: 14.6ms\tremaining: 194ms\n",
      "8:\tlearn: 19.7628518\ttotal: 18.6ms\tremaining: 188ms\n",
      "10:\tlearn: 19.2950422\ttotal: 22.9ms\tremaining: 186ms\n",
      "12:\tlearn: 18.8162156\ttotal: 26.9ms\tremaining: 180ms\n",
      "14:\tlearn: 18.3756334\ttotal: 30.9ms\tremaining: 175ms\n",
      "16:\tlearn: 17.9374742\ttotal: 35.2ms\tremaining: 172ms\n",
      "18:\tlearn: 17.6123834\ttotal: 39.8ms\tremaining: 170ms\n",
      "20:\tlearn: 17.3048901\ttotal: 44.1ms\tremaining: 166ms\n",
      "22:\tlearn: 16.9862283\ttotal: 48.3ms\tremaining: 162ms\n",
      "24:\tlearn: 16.7024341\ttotal: 52.6ms\tremaining: 158ms\n",
      "26:\tlearn: 16.3823472\ttotal: 57.3ms\tremaining: 155ms\n",
      "28:\tlearn: 15.9747568\ttotal: 62.3ms\tremaining: 152ms\n",
      "30:\tlearn: 15.7126634\ttotal: 66.5ms\tremaining: 148ms\n",
      "32:\tlearn: 15.5962556\ttotal: 71.4ms\tremaining: 145ms\n",
      "34:\tlearn: 15.4223773\ttotal: 76.7ms\tremaining: 142ms\n",
      "36:\tlearn: 15.2019032\ttotal: 81.6ms\tremaining: 139ms\n",
      "38:\tlearn: 14.9012771\ttotal: 86.4ms\tremaining: 135ms\n",
      "40:\tlearn: 14.6327342\ttotal: 91.6ms\tremaining: 132ms\n",
      "42:\tlearn: 14.4432345\ttotal: 96.1ms\tremaining: 127ms\n",
      "44:\tlearn: 14.3881916\ttotal: 100ms\tremaining: 122ms\n",
      "46:\tlearn: 14.2409622\ttotal: 105ms\tremaining: 119ms\n",
      "48:\tlearn: 13.8432615\ttotal: 111ms\tremaining: 115ms\n",
      "50:\tlearn: 13.6294659\ttotal: 115ms\tremaining: 111ms\n",
      "52:\tlearn: 13.4061869\ttotal: 120ms\tremaining: 107ms\n",
      "54:\tlearn: 13.3081139\ttotal: 124ms\tremaining: 102ms\n",
      "56:\tlearn: 13.1789364\ttotal: 129ms\tremaining: 97ms\n",
      "58:\tlearn: 13.0178997\ttotal: 133ms\tremaining: 92.1ms\n",
      "60:\tlearn: 12.8656388\ttotal: 137ms\tremaining: 87.5ms\n",
      "62:\tlearn: 12.6535236\ttotal: 141ms\tremaining: 82.8ms\n",
      "64:\tlearn: 12.3454552\ttotal: 145ms\tremaining: 78.1ms\n",
      "66:\tlearn: 12.1178396\ttotal: 150ms\tremaining: 74.1ms\n",
      "68:\tlearn: 11.8684020\ttotal: 157ms\tremaining: 70.5ms\n",
      "70:\tlearn: 11.8061660\ttotal: 162ms\tremaining: 66ms\n",
      "72:\tlearn: 11.6876597\ttotal: 167ms\tremaining: 61.8ms\n",
      "74:\tlearn: 11.5171922\ttotal: 173ms\tremaining: 57.8ms\n",
      "76:\tlearn: 11.3501031\ttotal: 180ms\tremaining: 53.9ms\n",
      "78:\tlearn: 11.1913354\ttotal: 187ms\tremaining: 49.8ms\n",
      "80:\tlearn: 11.0776227\ttotal: 193ms\tremaining: 45.3ms\n",
      "82:\tlearn: 10.9088616\ttotal: 199ms\tremaining: 40.8ms\n",
      "84:\tlearn: 10.8003154\ttotal: 204ms\tremaining: 36.1ms\n",
      "86:\tlearn: 10.7222656\ttotal: 210ms\tremaining: 31.4ms\n",
      "88:\tlearn: 10.5801035\ttotal: 215ms\tremaining: 26.6ms\n",
      "90:\tlearn: 10.4528497\ttotal: 221ms\tremaining: 21.8ms\n",
      "92:\tlearn: 10.2702216\ttotal: 226ms\tremaining: 17ms\n",
      "94:\tlearn: 10.1417000\ttotal: 231ms\tremaining: 12.2ms\n",
      "96:\tlearn: 9.9852642\ttotal: 236ms\tremaining: 7.3ms\n",
      "98:\tlearn: 9.8872247\ttotal: 242ms\tremaining: 2.44ms\n",
      "99:\tlearn: 9.8365981\ttotal: 245ms\tremaining: 0us\n",
      "Learning rate set to 0.307861\n",
      "0:\tlearn: 29.0807118\ttotal: 2.91ms\tremaining: 288ms\n",
      "2:\tlearn: 24.4912016\ttotal: 8.16ms\tremaining: 264ms\n",
      "4:\tlearn: 22.3666355\ttotal: 13.4ms\tremaining: 255ms\n",
      "6:\tlearn: 21.2617722\ttotal: 19.3ms\tremaining: 256ms\n",
      "8:\tlearn: 20.6125790\ttotal: 24.8ms\tremaining: 251ms\n",
      "10:\tlearn: 20.0906502\ttotal: 30.8ms\tremaining: 250ms\n",
      "12:\tlearn: 19.5506816\ttotal: 36.2ms\tremaining: 242ms\n",
      "14:\tlearn: 19.2135367\ttotal: 41.5ms\tremaining: 235ms\n",
      "16:\tlearn: 18.8904198\ttotal: 45.9ms\tremaining: 224ms\n",
      "18:\tlearn: 18.6967628\ttotal: 49.9ms\tremaining: 213ms\n",
      "20:\tlearn: 18.4123826\ttotal: 54.1ms\tremaining: 203ms\n",
      "22:\tlearn: 18.1939911\ttotal: 58.8ms\tremaining: 197ms\n",
      "24:\tlearn: 17.8882863\ttotal: 63.1ms\tremaining: 189ms\n",
      "26:\tlearn: 17.6560843\ttotal: 67.3ms\tremaining: 182ms\n",
      "28:\tlearn: 17.4320661\ttotal: 71.4ms\tremaining: 175ms\n",
      "30:\tlearn: 17.0709168\ttotal: 75.7ms\tremaining: 168ms\n",
      "32:\tlearn: 16.8432123\ttotal: 79.9ms\tremaining: 162ms\n",
      "34:\tlearn: 16.5854536\ttotal: 84ms\tremaining: 156ms\n",
      "36:\tlearn: 16.2833253\ttotal: 88.3ms\tremaining: 150ms\n",
      "38:\tlearn: 15.9689413\ttotal: 92.5ms\tremaining: 145ms\n",
      "40:\tlearn: 15.6553689\ttotal: 97.1ms\tremaining: 140ms\n",
      "42:\tlearn: 15.3649998\ttotal: 101ms\tremaining: 134ms\n",
      "44:\tlearn: 15.1740566\ttotal: 105ms\tremaining: 129ms\n",
      "46:\tlearn: 14.8972723\ttotal: 110ms\tremaining: 124ms\n",
      "48:\tlearn: 14.7283483\ttotal: 115ms\tremaining: 120ms\n",
      "50:\tlearn: 14.5430163\ttotal: 119ms\tremaining: 115ms\n",
      "52:\tlearn: 14.2879777\ttotal: 124ms\tremaining: 110ms\n",
      "54:\tlearn: 14.0070456\ttotal: 128ms\tremaining: 105ms\n",
      "56:\tlearn: 13.8780503\ttotal: 133ms\tremaining: 100ms\n",
      "58:\tlearn: 13.8114259\ttotal: 138ms\tremaining: 95.6ms\n",
      "60:\tlearn: 13.6335639\ttotal: 143ms\tremaining: 91.3ms\n",
      "62:\tlearn: 13.4069877\ttotal: 148ms\tremaining: 86.7ms\n",
      "64:\tlearn: 13.2304168\ttotal: 153ms\tremaining: 82.1ms\n",
      "66:\tlearn: 13.0921871\ttotal: 157ms\tremaining: 77.5ms\n",
      "68:\tlearn: 12.9743413\ttotal: 162ms\tremaining: 72.7ms\n",
      "70:\tlearn: 12.8284032\ttotal: 166ms\tremaining: 67.9ms\n",
      "72:\tlearn: 12.7043241\ttotal: 173ms\tremaining: 64ms\n",
      "74:\tlearn: 12.6452065\ttotal: 178ms\tremaining: 59.3ms\n",
      "76:\tlearn: 12.4369031\ttotal: 182ms\tremaining: 54.4ms\n",
      "78:\tlearn: 12.2738050\ttotal: 187ms\tremaining: 49.7ms\n",
      "80:\tlearn: 12.0919212\ttotal: 192ms\tremaining: 45ms\n",
      "82:\tlearn: 12.0524644\ttotal: 196ms\tremaining: 40.2ms\n",
      "84:\tlearn: 12.0098030\ttotal: 201ms\tremaining: 35.4ms\n",
      "86:\tlearn: 11.8964354\ttotal: 205ms\tremaining: 30.6ms\n",
      "88:\tlearn: 11.8078723\ttotal: 209ms\tremaining: 25.8ms\n",
      "90:\tlearn: 11.6330899\ttotal: 213ms\tremaining: 21.1ms\n",
      "92:\tlearn: 11.5501472\ttotal: 218ms\tremaining: 16.4ms\n",
      "94:\tlearn: 11.4138879\ttotal: 223ms\tremaining: 11.7ms\n",
      "96:\tlearn: 11.2617115\ttotal: 227ms\tremaining: 7.01ms\n",
      "98:\tlearn: 11.1110860\ttotal: 231ms\tremaining: 2.33ms\n",
      "99:\tlearn: 11.0233552\ttotal: 233ms\tremaining: 0us\n",
      "Learning rate set to 0.316839\n",
      "0:\tlearn: 29.4573603\ttotal: 2.6ms\tremaining: 258ms\n",
      "2:\tlearn: 24.7005054\ttotal: 7.21ms\tremaining: 233ms\n",
      "4:\tlearn: 22.7178146\ttotal: 11.6ms\tremaining: 220ms\n",
      "6:\tlearn: 21.7696933\ttotal: 15.8ms\tremaining: 210ms\n",
      "8:\tlearn: 21.2017025\ttotal: 20ms\tremaining: 202ms\n",
      "10:\tlearn: 20.7091428\ttotal: 24.4ms\tremaining: 197ms\n",
      "12:\tlearn: 20.2552319\ttotal: 28.7ms\tremaining: 192ms\n",
      "14:\tlearn: 19.9169728\ttotal: 33.1ms\tremaining: 188ms\n",
      "16:\tlearn: 19.4851549\ttotal: 37.5ms\tremaining: 183ms\n",
      "18:\tlearn: 19.1775777\ttotal: 41.8ms\tremaining: 178ms\n",
      "20:\tlearn: 18.9948267\ttotal: 46.1ms\tremaining: 173ms\n",
      "22:\tlearn: 18.7186722\ttotal: 50.3ms\tremaining: 168ms\n",
      "24:\tlearn: 18.4616948\ttotal: 54.6ms\tremaining: 164ms\n",
      "26:\tlearn: 18.2266018\ttotal: 58.9ms\tremaining: 159ms\n",
      "28:\tlearn: 17.9942348\ttotal: 63.2ms\tremaining: 155ms\n",
      "30:\tlearn: 17.7407595\ttotal: 67.5ms\tremaining: 150ms\n",
      "32:\tlearn: 17.5770104\ttotal: 71.8ms\tremaining: 146ms\n",
      "34:\tlearn: 17.2778195\ttotal: 76ms\tremaining: 141ms\n",
      "36:\tlearn: 17.0958996\ttotal: 80.3ms\tremaining: 137ms\n",
      "38:\tlearn: 16.8039243\ttotal: 84.7ms\tremaining: 132ms\n",
      "40:\tlearn: 16.6053079\ttotal: 89.1ms\tremaining: 128ms\n",
      "42:\tlearn: 16.4569215\ttotal: 94ms\tremaining: 125ms\n",
      "44:\tlearn: 16.1562608\ttotal: 99.6ms\tremaining: 122ms\n",
      "46:\tlearn: 16.0355595\ttotal: 105ms\tremaining: 118ms\n"
     ]
    },
    {
     "name": "stdout",
     "output_type": "stream",
     "text": [
      "48:\tlearn: 15.9218099\ttotal: 109ms\tremaining: 114ms\n",
      "50:\tlearn: 15.7071748\ttotal: 114ms\tremaining: 110ms\n",
      "52:\tlearn: 15.4724189\ttotal: 119ms\tremaining: 105ms\n",
      "54:\tlearn: 15.2614479\ttotal: 124ms\tremaining: 101ms\n",
      "56:\tlearn: 15.0276437\ttotal: 129ms\tremaining: 97.6ms\n",
      "58:\tlearn: 14.8820714\ttotal: 134ms\tremaining: 93ms\n",
      "60:\tlearn: 14.6592671\ttotal: 139ms\tremaining: 88.7ms\n",
      "62:\tlearn: 14.4650708\ttotal: 143ms\tremaining: 84.1ms\n",
      "64:\tlearn: 14.3427917\ttotal: 147ms\tremaining: 79.4ms\n",
      "66:\tlearn: 14.1969009\ttotal: 153ms\tremaining: 75.1ms\n",
      "68:\tlearn: 14.0596891\ttotal: 157ms\tremaining: 70.7ms\n",
      "70:\tlearn: 13.9033369\ttotal: 162ms\tremaining: 66.1ms\n",
      "72:\tlearn: 13.7565882\ttotal: 166ms\tremaining: 61.6ms\n",
      "74:\tlearn: 13.5539969\ttotal: 172ms\tremaining: 57.2ms\n",
      "76:\tlearn: 13.3654650\ttotal: 176ms\tremaining: 52.7ms\n",
      "78:\tlearn: 13.2253206\ttotal: 181ms\tremaining: 48ms\n",
      "80:\tlearn: 13.0928499\ttotal: 186ms\tremaining: 43.6ms\n",
      "82:\tlearn: 12.9358598\ttotal: 190ms\tremaining: 39ms\n",
      "84:\tlearn: 12.7771913\ttotal: 195ms\tremaining: 34.4ms\n",
      "86:\tlearn: 12.6398329\ttotal: 200ms\tremaining: 29.8ms\n",
      "88:\tlearn: 12.4890103\ttotal: 204ms\tremaining: 25.2ms\n",
      "90:\tlearn: 12.3394725\ttotal: 208ms\tremaining: 20.6ms\n",
      "92:\tlearn: 12.2399905\ttotal: 213ms\tremaining: 16ms\n",
      "94:\tlearn: 12.1407426\ttotal: 217ms\tremaining: 11.4ms\n",
      "96:\tlearn: 12.0600516\ttotal: 222ms\tremaining: 6.85ms\n",
      "98:\tlearn: 11.9648117\ttotal: 226ms\tremaining: 2.28ms\n",
      "99:\tlearn: 11.9018151\ttotal: 244ms\tremaining: 0us\n",
      "Learning rate set to 0.239095\n",
      "0:\tlearn: 26.3805212\ttotal: 1.91ms\tremaining: 189ms\n",
      "5:\tlearn: 19.0162166\ttotal: 9.03ms\tremaining: 141ms\n",
      "10:\tlearn: 16.4871155\ttotal: 16.7ms\tremaining: 135ms\n",
      "15:\tlearn: 14.9065178\ttotal: 23.9ms\tremaining: 125ms\n",
      "20:\tlearn: 13.6805618\ttotal: 31ms\tremaining: 117ms\n",
      "25:\tlearn: 12.5574690\ttotal: 39.2ms\tremaining: 112ms\n",
      "30:\tlearn: 11.7186956\ttotal: 47.4ms\tremaining: 106ms\n",
      "35:\tlearn: 10.9528045\ttotal: 57.1ms\tremaining: 102ms\n",
      "40:\tlearn: 10.2927036\ttotal: 65.4ms\tremaining: 94.2ms\n",
      "45:\tlearn: 9.4126829\ttotal: 72.5ms\tremaining: 85.1ms\n",
      "50:\tlearn: 8.9352862\ttotal: 79.2ms\tremaining: 76.1ms\n",
      "55:\tlearn: 8.0859714\ttotal: 86.7ms\tremaining: 68.2ms\n",
      "60:\tlearn: 7.4379474\ttotal: 93.4ms\tremaining: 59.7ms\n",
      "65:\tlearn: 6.8528416\ttotal: 101ms\tremaining: 51.9ms\n",
      "70:\tlearn: 6.2571382\ttotal: 108ms\tremaining: 44.1ms\n",
      "75:\tlearn: 5.8213368\ttotal: 115ms\tremaining: 36.4ms\n",
      "80:\tlearn: 5.2620742\ttotal: 122ms\tremaining: 28.7ms\n",
      "85:\tlearn: 4.8236496\ttotal: 129ms\tremaining: 21ms\n",
      "90:\tlearn: 4.5855914\ttotal: 136ms\tremaining: 13.5ms\n",
      "95:\tlearn: 4.3654631\ttotal: 143ms\tremaining: 5.94ms\n",
      "99:\tlearn: 4.1142933\ttotal: 148ms\tremaining: 0us\n",
      "Learning rate set to 0.266518\n",
      "0:\tlearn: 26.5488984\ttotal: 1.84ms\tremaining: 182ms\n",
      "5:\tlearn: 19.2097992\ttotal: 9.55ms\tremaining: 150ms\n",
      "10:\tlearn: 17.0689755\ttotal: 17.5ms\tremaining: 141ms\n",
      "15:\tlearn: 15.9748130\ttotal: 24.8ms\tremaining: 130ms\n",
      "20:\tlearn: 14.9632616\ttotal: 35.1ms\tremaining: 132ms\n",
      "25:\tlearn: 14.2084173\ttotal: 44.1ms\tremaining: 125ms\n",
      "30:\tlearn: 13.4827271\ttotal: 52.5ms\tremaining: 117ms\n",
      "35:\tlearn: 12.7857903\ttotal: 61.4ms\tremaining: 109ms\n",
      "40:\tlearn: 12.0177784\ttotal: 69.3ms\tremaining: 99.8ms\n",
      "45:\tlearn: 11.4614887\ttotal: 79.4ms\tremaining: 93.2ms\n",
      "50:\tlearn: 10.9724768\ttotal: 88ms\tremaining: 84.5ms\n",
      "55:\tlearn: 10.4000865\ttotal: 97.2ms\tremaining: 76.4ms\n",
      "60:\tlearn: 9.8628295\ttotal: 105ms\tremaining: 67ms\n",
      "65:\tlearn: 9.3034310\ttotal: 114ms\tremaining: 58.8ms\n",
      "70:\tlearn: 8.7172525\ttotal: 122ms\tremaining: 49.7ms\n",
      "75:\tlearn: 8.2389011\ttotal: 131ms\tremaining: 41.4ms\n",
      "80:\tlearn: 7.9308077\ttotal: 140ms\tremaining: 32.8ms\n",
      "85:\tlearn: 7.5540200\ttotal: 149ms\tremaining: 24.2ms\n",
      "90:\tlearn: 7.0764020\ttotal: 158ms\tremaining: 15.6ms\n",
      "95:\tlearn: 6.8327254\ttotal: 166ms\tremaining: 6.93ms\n",
      "99:\tlearn: 6.6485287\ttotal: 174ms\tremaining: 0us\n",
      "Learning rate set to 0.284062\n",
      "0:\tlearn: 27.7895284\ttotal: 2.14ms\tremaining: 212ms\n",
      "5:\tlearn: 20.3614167\ttotal: 12.4ms\tremaining: 194ms\n",
      "10:\tlearn: 18.5487042\ttotal: 21.3ms\tremaining: 172ms\n",
      "15:\tlearn: 17.3739063\ttotal: 31.9ms\tremaining: 167ms\n",
      "20:\tlearn: 16.6014961\ttotal: 41.2ms\tremaining: 155ms\n",
      "25:\tlearn: 16.0988318\ttotal: 50.2ms\tremaining: 143ms\n",
      "30:\tlearn: 15.4995000\ttotal: 59.4ms\tremaining: 132ms\n",
      "35:\tlearn: 14.9212274\ttotal: 67.9ms\tremaining: 121ms\n",
      "40:\tlearn: 14.1618660\ttotal: 77.5ms\tremaining: 112ms\n",
      "45:\tlearn: 13.3920064\ttotal: 86.4ms\tremaining: 101ms\n",
      "50:\tlearn: 12.7191105\ttotal: 96.8ms\tremaining: 93ms\n",
      "55:\tlearn: 12.1976701\ttotal: 106ms\tremaining: 83.5ms\n",
      "60:\tlearn: 11.5974416\ttotal: 115ms\tremaining: 73.5ms\n",
      "65:\tlearn: 11.2224378\ttotal: 124ms\tremaining: 64ms\n",
      "70:\tlearn: 10.8944408\ttotal: 133ms\tremaining: 54.3ms\n",
      "75:\tlearn: 10.3440229\ttotal: 142ms\tremaining: 44.8ms\n",
      "80:\tlearn: 10.0013893\ttotal: 151ms\tremaining: 35.3ms\n",
      "85:\tlearn: 9.5406960\ttotal: 159ms\tremaining: 25.9ms\n",
      "90:\tlearn: 9.2124264\ttotal: 169ms\tremaining: 16.7ms\n",
      "95:\tlearn: 8.8261432\ttotal: 179ms\tremaining: 7.46ms\n",
      "99:\tlearn: 8.6661356\ttotal: 187ms\tremaining: 0us\n",
      "Learning rate set to 0.297224\n",
      "0:\tlearn: 28.1846887\ttotal: 2.34ms\tremaining: 232ms\n",
      "5:\tlearn: 20.8464958\ttotal: 12.5ms\tremaining: 195ms\n",
      "10:\tlearn: 19.2950422\ttotal: 22.2ms\tremaining: 180ms\n",
      "15:\tlearn: 18.2085261\ttotal: 31.8ms\tremaining: 167ms\n",
      "20:\tlearn: 17.3048901\ttotal: 42.3ms\tremaining: 159ms\n",
      "25:\tlearn: 16.5130437\ttotal: 52.2ms\tremaining: 149ms\n",
      "30:\tlearn: 15.7126634\ttotal: 62.4ms\tremaining: 139ms\n",
      "35:\tlearn: 15.3376141\ttotal: 71.8ms\tremaining: 128ms\n",
      "40:\tlearn: 14.6327342\ttotal: 82.5ms\tremaining: 119ms\n",
      "45:\tlearn: 14.3183391\ttotal: 92.2ms\tremaining: 108ms\n",
      "50:\tlearn: 13.6294659\ttotal: 103ms\tremaining: 98.9ms\n",
      "55:\tlearn: 13.1858636\ttotal: 113ms\tremaining: 89.2ms\n",
      "60:\tlearn: 12.8656388\ttotal: 124ms\tremaining: 79.1ms\n",
      "65:\tlearn: 12.2279331\ttotal: 134ms\tremaining: 68.8ms\n",
      "70:\tlearn: 11.8061660\ttotal: 144ms\tremaining: 58.7ms\n",
      "75:\tlearn: 11.4377824\ttotal: 153ms\tremaining: 48.4ms\n",
      "80:\tlearn: 11.0776227\ttotal: 163ms\tremaining: 38.3ms\n",
      "85:\tlearn: 10.7874057\ttotal: 174ms\tremaining: 28.3ms\n",
      "90:\tlearn: 10.4528497\ttotal: 185ms\tremaining: 18.3ms\n",
      "95:\tlearn: 10.0947447\ttotal: 196ms\tremaining: 8.15ms\n",
      "99:\tlearn: 9.8365981\ttotal: 203ms\tremaining: 0us\n",
      "Learning rate set to 0.307861\n",
      "0:\tlearn: 29.0807118\ttotal: 2.46ms\tremaining: 244ms\n",
      "5:\tlearn: 21.7479739\ttotal: 13.4ms\tremaining: 209ms\n",
      "10:\tlearn: 20.0906502\ttotal: 24ms\tremaining: 194ms\n",
      "15:\tlearn: 19.0382773\ttotal: 35ms\tremaining: 184ms\n",
      "20:\tlearn: 18.4123826\ttotal: 47.7ms\tremaining: 179ms\n",
      "25:\tlearn: 17.8339737\ttotal: 58.9ms\tremaining: 168ms\n",
      "30:\tlearn: 17.0709168\ttotal: 69.9ms\tremaining: 156ms\n",
      "35:\tlearn: 16.4220442\ttotal: 81.9ms\tremaining: 146ms\n",
      "40:\tlearn: 15.6553689\ttotal: 93.1ms\tremaining: 134ms\n",
      "45:\tlearn: 15.0574856\ttotal: 104ms\tremaining: 122ms\n",
      "50:\tlearn: 14.5430163\ttotal: 114ms\tremaining: 110ms\n",
      "55:\tlearn: 13.9828544\ttotal: 125ms\tremaining: 97.9ms\n",
      "60:\tlearn: 13.6335639\ttotal: 135ms\tremaining: 86.1ms\n",
      "65:\tlearn: 13.1449617\ttotal: 146ms\tremaining: 75.2ms\n",
      "70:\tlearn: 12.8284032\ttotal: 158ms\tremaining: 64.5ms\n",
      "75:\tlearn: 12.5640818\ttotal: 168ms\tremaining: 53.1ms\n",
      "80:\tlearn: 12.0919212\ttotal: 179ms\tremaining: 42ms\n",
      "85:\tlearn: 11.9036835\ttotal: 190ms\tremaining: 30.9ms\n",
      "90:\tlearn: 11.6330899\ttotal: 201ms\tremaining: 19.8ms\n",
      "95:\tlearn: 11.3487117\ttotal: 211ms\tremaining: 8.81ms\n",
      "99:\tlearn: 11.0233552\ttotal: 221ms\tremaining: 0us\n",
      "Learning rate set to 0.316839\n",
      "0:\tlearn: 29.4573603\ttotal: 2.48ms\tremaining: 246ms\n",
      "5:\tlearn: 22.1716613\ttotal: 14ms\tremaining: 219ms\n",
      "10:\tlearn: 20.7091428\ttotal: 25.3ms\tremaining: 205ms\n",
      "15:\tlearn: 19.7750827\ttotal: 36.3ms\tremaining: 191ms\n",
      "20:\tlearn: 18.9948267\ttotal: 49.4ms\tremaining: 186ms\n",
      "25:\tlearn: 18.3308018\ttotal: 61ms\tremaining: 174ms\n",
      "30:\tlearn: 17.7407595\ttotal: 72.2ms\tremaining: 161ms\n",
      "35:\tlearn: 17.1484810\ttotal: 82.8ms\tremaining: 147ms\n",
      "40:\tlearn: 16.6053079\ttotal: 94.1ms\tremaining: 135ms\n",
      "45:\tlearn: 16.0467053\ttotal: 106ms\tremaining: 125ms\n",
      "50:\tlearn: 15.7071748\ttotal: 118ms\tremaining: 114ms\n",
      "55:\tlearn: 15.1357964\ttotal: 130ms\tremaining: 102ms\n",
      "60:\tlearn: 14.6592671\ttotal: 141ms\tremaining: 90.4ms\n",
      "65:\tlearn: 14.2992579\ttotal: 152ms\tremaining: 78.5ms\n",
      "70:\tlearn: 13.9033369\ttotal: 163ms\tremaining: 66.7ms\n",
      "75:\tlearn: 13.4671943\ttotal: 175ms\tremaining: 55.1ms\n",
      "80:\tlearn: 13.0928499\ttotal: 186ms\tremaining: 43.6ms\n",
      "85:\tlearn: 12.6990179\ttotal: 197ms\tremaining: 32.1ms\n",
      "90:\tlearn: 12.3394725\ttotal: 208ms\tremaining: 20.6ms\n",
      "95:\tlearn: 12.1319381\ttotal: 219ms\tremaining: 9.14ms\n",
      "99:\tlearn: 11.9018151\ttotal: 228ms\tremaining: 0us\n"
     ]
    },
    {
     "name": "stdout",
     "output_type": "stream",
     "text": [
      "Learning rate set to 0.239095\n",
      "0:\tlearn: 26.3805212\ttotal: 1.9ms\tremaining: 188ms\n",
      "10:\tlearn: 16.4871155\ttotal: 17ms\tremaining: 137ms\n",
      "20:\tlearn: 13.6805618\ttotal: 30.8ms\tremaining: 116ms\n",
      "30:\tlearn: 11.7186956\ttotal: 44.3ms\tremaining: 98.6ms\n",
      "40:\tlearn: 10.2927036\ttotal: 57.5ms\tremaining: 82.8ms\n",
      "50:\tlearn: 8.9352862\ttotal: 71.8ms\tremaining: 69ms\n",
      "60:\tlearn: 7.4379474\ttotal: 87.3ms\tremaining: 55.8ms\n",
      "70:\tlearn: 6.2571382\ttotal: 101ms\tremaining: 41.4ms\n",
      "80:\tlearn: 5.2620742\ttotal: 115ms\tremaining: 26.9ms\n",
      "90:\tlearn: 4.5855914\ttotal: 128ms\tremaining: 12.7ms\n",
      "99:\tlearn: 4.1142933\ttotal: 140ms\tremaining: 0us\n",
      "Learning rate set to 0.266518\n",
      "0:\tlearn: 26.5488984\ttotal: 1.82ms\tremaining: 181ms\n",
      "10:\tlearn: 17.0689755\ttotal: 16.8ms\tremaining: 136ms\n",
      "20:\tlearn: 14.9632616\ttotal: 31.5ms\tremaining: 119ms\n",
      "30:\tlearn: 13.4827271\ttotal: 48.6ms\tremaining: 108ms\n",
      "40:\tlearn: 12.0177784\ttotal: 63.8ms\tremaining: 91.8ms\n",
      "50:\tlearn: 10.9724768\ttotal: 81.8ms\tremaining: 78.6ms\n",
      "60:\tlearn: 9.8628295\ttotal: 99.7ms\tremaining: 63.7ms\n",
      "70:\tlearn: 8.7172525\ttotal: 118ms\tremaining: 48ms\n",
      "80:\tlearn: 7.9308077\ttotal: 135ms\tremaining: 31.7ms\n",
      "90:\tlearn: 7.0764020\ttotal: 151ms\tremaining: 14.9ms\n",
      "99:\tlearn: 6.6485287\ttotal: 165ms\tremaining: 0us\n",
      "Learning rate set to 0.284062\n",
      "0:\tlearn: 27.7895284\ttotal: 2.06ms\tremaining: 204ms\n",
      "10:\tlearn: 18.5487042\ttotal: 19.5ms\tremaining: 158ms\n",
      "20:\tlearn: 16.6014961\ttotal: 36.9ms\tremaining: 139ms\n",
      "30:\tlearn: 15.4995000\ttotal: 54.3ms\tremaining: 121ms\n",
      "40:\tlearn: 14.1618660\ttotal: 73.3ms\tremaining: 105ms\n",
      "50:\tlearn: 12.7191105\ttotal: 91.3ms\tremaining: 87.7ms\n",
      "60:\tlearn: 11.5974416\ttotal: 109ms\tremaining: 69.7ms\n",
      "70:\tlearn: 10.8944408\ttotal: 126ms\tremaining: 51.4ms\n",
      "80:\tlearn: 10.0013893\ttotal: 144ms\tremaining: 33.7ms\n",
      "90:\tlearn: 9.2124264\ttotal: 163ms\tremaining: 16.1ms\n",
      "99:\tlearn: 8.6661356\ttotal: 178ms\tremaining: 0us\n",
      "Learning rate set to 0.297224\n",
      "0:\tlearn: 28.1846887\ttotal: 2.28ms\tremaining: 225ms\n",
      "10:\tlearn: 19.2950422\ttotal: 21.6ms\tremaining: 175ms\n",
      "20:\tlearn: 17.3048901\ttotal: 40.8ms\tremaining: 153ms\n",
      "30:\tlearn: 15.7126634\ttotal: 60ms\tremaining: 134ms\n",
      "40:\tlearn: 14.6327342\ttotal: 79ms\tremaining: 114ms\n",
      "50:\tlearn: 13.6294659\ttotal: 99.5ms\tremaining: 95.6ms\n",
      "60:\tlearn: 12.8656388\ttotal: 120ms\tremaining: 76.8ms\n",
      "70:\tlearn: 11.8061660\ttotal: 139ms\tremaining: 56.9ms\n",
      "80:\tlearn: 11.0776227\ttotal: 160ms\tremaining: 37.5ms\n",
      "90:\tlearn: 10.4528497\ttotal: 180ms\tremaining: 17.8ms\n",
      "99:\tlearn: 9.8365981\ttotal: 198ms\tremaining: 0us\n",
      "Learning rate set to 0.307861\n",
      "0:\tlearn: 29.0807118\ttotal: 2.36ms\tremaining: 234ms\n",
      "10:\tlearn: 20.0906502\ttotal: 23.7ms\tremaining: 192ms\n",
      "20:\tlearn: 18.4123826\ttotal: 44.3ms\tremaining: 167ms\n",
      "30:\tlearn: 17.0709168\ttotal: 64.9ms\tremaining: 144ms\n",
      "40:\tlearn: 15.6553689\ttotal: 87.6ms\tremaining: 126ms\n",
      "50:\tlearn: 14.5430163\ttotal: 109ms\tremaining: 105ms\n",
      "60:\tlearn: 13.6335639\ttotal: 129ms\tremaining: 82.7ms\n",
      "70:\tlearn: 12.8284032\ttotal: 164ms\tremaining: 67.1ms\n",
      "80:\tlearn: 12.0919212\ttotal: 197ms\tremaining: 46.2ms\n",
      "90:\tlearn: 11.6330899\ttotal: 226ms\tremaining: 22.4ms\n",
      "99:\tlearn: 11.0233552\ttotal: 252ms\tremaining: 0us\n",
      "Learning rate set to 0.316839\n",
      "0:\tlearn: 29.4573603\ttotal: 2.66ms\tremaining: 263ms\n",
      "10:\tlearn: 20.7091428\ttotal: 38.4ms\tremaining: 311ms\n",
      "20:\tlearn: 18.9948267\ttotal: 61.3ms\tremaining: 230ms\n",
      "30:\tlearn: 17.7407595\ttotal: 84.8ms\tremaining: 189ms\n",
      "40:\tlearn: 16.6053079\ttotal: 107ms\tremaining: 154ms\n",
      "50:\tlearn: 15.7071748\ttotal: 129ms\tremaining: 124ms\n",
      "60:\tlearn: 14.6592671\ttotal: 150ms\tremaining: 96ms\n",
      "70:\tlearn: 13.9033369\ttotal: 172ms\tremaining: 70.2ms\n",
      "80:\tlearn: 13.0928499\ttotal: 194ms\tremaining: 45.4ms\n",
      "90:\tlearn: 12.3394725\ttotal: 217ms\tremaining: 21.5ms\n",
      "99:\tlearn: 11.9018151\ttotal: 238ms\tremaining: 0us\n",
      "Learning rate set to 0.324636\n",
      "0:\tlearn: 30.8874325\ttotal: 2.79ms\tremaining: 276ms\n",
      "2:\tlearn: 26.1207503\ttotal: 7.51ms\tremaining: 243ms\n",
      "4:\tlearn: 24.1059496\ttotal: 12.2ms\tremaining: 231ms\n",
      "6:\tlearn: 23.0183340\ttotal: 16.8ms\tremaining: 223ms\n",
      "8:\tlearn: 22.4674350\ttotal: 21.5ms\tremaining: 217ms\n",
      "10:\tlearn: 21.9683778\ttotal: 26ms\tremaining: 210ms\n",
      "12:\tlearn: 21.6089987\ttotal: 30.6ms\tremaining: 205ms\n",
      "14:\tlearn: 21.2072048\ttotal: 36.2ms\tremaining: 205ms\n",
      "16:\tlearn: 20.8899279\ttotal: 41.9ms\tremaining: 205ms\n",
      "18:\tlearn: 20.6053042\ttotal: 46.9ms\tremaining: 200ms\n",
      "20:\tlearn: 20.3288379\ttotal: 52ms\tremaining: 195ms\n",
      "22:\tlearn: 19.9909775\ttotal: 56.6ms\tremaining: 189ms\n",
      "24:\tlearn: 19.7775137\ttotal: 61.1ms\tremaining: 183ms\n",
      "26:\tlearn: 19.6939894\ttotal: 66ms\tremaining: 178ms\n",
      "28:\tlearn: 19.4565879\ttotal: 70.5ms\tremaining: 173ms\n",
      "30:\tlearn: 19.1726511\ttotal: 75.1ms\tremaining: 167ms\n",
      "32:\tlearn: 18.7939131\ttotal: 79.9ms\tremaining: 162ms\n",
      "34:\tlearn: 18.5580191\ttotal: 84.8ms\tremaining: 157ms\n",
      "36:\tlearn: 18.2427252\ttotal: 89.7ms\tremaining: 153ms\n",
      "38:\tlearn: 18.0758275\ttotal: 94.5ms\tremaining: 148ms\n",
      "40:\tlearn: 17.6956528\ttotal: 99.6ms\tremaining: 143ms\n",
      "42:\tlearn: 17.4550370\ttotal: 104ms\tremaining: 138ms\n",
      "44:\tlearn: 17.2376919\ttotal: 109ms\tremaining: 134ms\n",
      "46:\tlearn: 17.1918251\ttotal: 113ms\tremaining: 128ms\n",
      "48:\tlearn: 17.0115831\ttotal: 118ms\tremaining: 123ms\n",
      "50:\tlearn: 16.9187972\ttotal: 123ms\tremaining: 118ms\n",
      "52:\tlearn: 16.7658110\ttotal: 128ms\tremaining: 113ms\n",
      "54:\tlearn: 16.5640871\ttotal: 133ms\tremaining: 109ms\n",
      "56:\tlearn: 16.3494700\ttotal: 138ms\tremaining: 104ms\n",
      "58:\tlearn: 16.1781323\ttotal: 143ms\tremaining: 99.5ms\n",
      "60:\tlearn: 16.0297650\ttotal: 148ms\tremaining: 94.7ms\n",
      "62:\tlearn: 15.9321425\ttotal: 153ms\tremaining: 89.9ms\n",
      "64:\tlearn: 15.7057856\ttotal: 158ms\tremaining: 85ms\n",
      "66:\tlearn: 15.5570614\ttotal: 163ms\tremaining: 80.3ms\n",
      "68:\tlearn: 15.4257190\ttotal: 168ms\tremaining: 75.5ms\n",
      "70:\tlearn: 15.2455048\ttotal: 177ms\tremaining: 72.1ms\n",
      "72:\tlearn: 15.0712350\ttotal: 184ms\tremaining: 68.2ms\n",
      "74:\tlearn: 14.9007537\ttotal: 190ms\tremaining: 63.5ms\n",
      "76:\tlearn: 14.7601198\ttotal: 198ms\tremaining: 59.3ms\n",
      "78:\tlearn: 14.6140693\ttotal: 206ms\tremaining: 54.8ms\n",
      "80:\tlearn: 14.4800827\ttotal: 214ms\tremaining: 50.1ms\n",
      "82:\tlearn: 14.4633109\ttotal: 220ms\tremaining: 45ms\n",
      "84:\tlearn: 14.3344475\ttotal: 227ms\tremaining: 40ms\n",
      "86:\tlearn: 14.2725246\ttotal: 246ms\tremaining: 36.8ms\n",
      "88:\tlearn: 14.1454631\ttotal: 252ms\tremaining: 31.2ms\n",
      "90:\tlearn: 14.0432962\ttotal: 259ms\tremaining: 25.6ms\n",
      "92:\tlearn: 13.8967935\ttotal: 265ms\tremaining: 19.9ms\n",
      "94:\tlearn: 13.7558952\ttotal: 270ms\tremaining: 14.2ms\n",
      "96:\tlearn: 13.7367217\ttotal: 276ms\tremaining: 8.54ms\n",
      "98:\tlearn: 13.5982062\ttotal: 282ms\tremaining: 2.85ms\n",
      "99:\tlearn: 13.5444102\ttotal: 285ms\tremaining: 0us\n",
      "{'iterations': 100, 'loss_function': 'RMSE', 'verbose': 2}\n",
      "CPU times: total: 43 s\n",
      "Wall time: 7.93 s\n"
     ]
    }
   ],
   "source": [
    "%%time\n",
    "parameters = {'loss_function' : ['RMSE'],\n",
    "              'iterations'    : [20,50,100],\n",
    "              'verbose'       : [2,5,10]\n",
    "             }\n",
    "tscv = TimeSeriesSplit(n_splits=6)\n",
    "cat = CatBoostRegressor()\n",
    "cat_grid = GridSearchCV(estimator=cat,param_grid = parameters,cv = tscv)\n",
    "cat_grid.fit(X_train,y_train)\n",
    "best_params = cat_grid.best_params_\n",
    "print(best_params)"
   ]
  },
  {
   "cell_type": "markdown",
   "metadata": {},
   "source": [
    "## Тестирование"
   ]
  },
  {
   "cell_type": "code",
   "execution_count": 21,
   "metadata": {},
   "outputs": [],
   "source": [
    "X_train_join = pd.concat([X_train,X_valid],sort=False,axis=0)\n",
    "y_train_join = pd.concat([y_train,y_valid],sort=False,axis=0)"
   ]
  },
  {
   "cell_type": "code",
   "execution_count": 75,
   "metadata": {
    "scrolled": true
   },
   "outputs": [
    {
     "name": "stdout",
     "output_type": "stream",
     "text": [
      "Learning rate set to 0.330732\n",
      "0:\tlearn: 33.4104658\ttotal: 4.18ms\tremaining: 414ms\n",
      "2:\tlearn: 27.9286846\ttotal: 11.4ms\tremaining: 369ms\n",
      "4:\tlearn: 25.6704550\ttotal: 17.5ms\tremaining: 333ms\n",
      "6:\tlearn: 24.6711092\ttotal: 23ms\tremaining: 305ms\n",
      "8:\tlearn: 24.1643692\ttotal: 28.6ms\tremaining: 289ms\n",
      "10:\tlearn: 23.7299813\ttotal: 33.9ms\tremaining: 274ms\n",
      "12:\tlearn: 23.4072917\ttotal: 38.9ms\tremaining: 261ms\n",
      "14:\tlearn: 22.9722874\ttotal: 44.4ms\tremaining: 252ms\n",
      "16:\tlearn: 22.6346562\ttotal: 49.6ms\tremaining: 242ms\n",
      "18:\tlearn: 22.4580715\ttotal: 54.6ms\tremaining: 233ms\n",
      "20:\tlearn: 22.0611104\ttotal: 60ms\tremaining: 226ms\n",
      "22:\tlearn: 21.6763273\ttotal: 65.2ms\tremaining: 218ms\n",
      "24:\tlearn: 21.1771463\ttotal: 70.3ms\tremaining: 211ms\n",
      "26:\tlearn: 20.9605205\ttotal: 75.4ms\tremaining: 204ms\n",
      "28:\tlearn: 20.7291133\ttotal: 80.4ms\tremaining: 197ms\n",
      "30:\tlearn: 20.3881992\ttotal: 85.8ms\tremaining: 191ms\n",
      "32:\tlearn: 20.2193220\ttotal: 91ms\tremaining: 185ms\n",
      "34:\tlearn: 20.0287747\ttotal: 96ms\tremaining: 178ms\n",
      "36:\tlearn: 19.9905988\ttotal: 101ms\tremaining: 172ms\n",
      "38:\tlearn: 19.6870914\ttotal: 106ms\tremaining: 166ms\n",
      "40:\tlearn: 19.3541728\ttotal: 111ms\tremaining: 160ms\n",
      "42:\tlearn: 19.0422041\ttotal: 116ms\tremaining: 154ms\n",
      "44:\tlearn: 18.7724382\ttotal: 121ms\tremaining: 148ms\n",
      "46:\tlearn: 18.5746186\ttotal: 126ms\tremaining: 143ms\n",
      "48:\tlearn: 18.5126127\ttotal: 131ms\tremaining: 137ms\n",
      "50:\tlearn: 18.2591380\ttotal: 136ms\tremaining: 131ms\n",
      "52:\tlearn: 18.0219317\ttotal: 142ms\tremaining: 126ms\n",
      "54:\tlearn: 17.7644826\ttotal: 147ms\tremaining: 120ms\n",
      "56:\tlearn: 17.5741404\ttotal: 152ms\tremaining: 115ms\n",
      "58:\tlearn: 17.3846914\ttotal: 157ms\tremaining: 109ms\n",
      "60:\tlearn: 17.2381060\ttotal: 162ms\tremaining: 104ms\n",
      "62:\tlearn: 17.0491100\ttotal: 167ms\tremaining: 98.1ms\n",
      "64:\tlearn: 16.8217218\ttotal: 172ms\tremaining: 92.8ms\n",
      "66:\tlearn: 16.6997940\ttotal: 177ms\tremaining: 87.3ms\n",
      "68:\tlearn: 16.5176151\ttotal: 182ms\tremaining: 82ms\n",
      "70:\tlearn: 16.3421159\ttotal: 187ms\tremaining: 76.5ms\n",
      "72:\tlearn: 16.1422165\ttotal: 193ms\tremaining: 71.2ms\n",
      "74:\tlearn: 15.9927330\ttotal: 198ms\tremaining: 66.1ms\n",
      "76:\tlearn: 15.8878463\ttotal: 205ms\tremaining: 61.1ms\n",
      "78:\tlearn: 15.6851503\ttotal: 211ms\tremaining: 56.2ms\n",
      "80:\tlearn: 15.4913410\ttotal: 217ms\tremaining: 51ms\n",
      "82:\tlearn: 15.3810276\ttotal: 223ms\tremaining: 45.7ms\n",
      "84:\tlearn: 15.2681929\ttotal: 228ms\tremaining: 40.3ms\n",
      "86:\tlearn: 15.1498133\ttotal: 233ms\tremaining: 34.9ms\n",
      "88:\tlearn: 14.9724626\ttotal: 239ms\tremaining: 29.5ms\n",
      "90:\tlearn: 14.8729914\ttotal: 244ms\tremaining: 24.1ms\n",
      "92:\tlearn: 14.7571635\ttotal: 249ms\tremaining: 18.7ms\n",
      "94:\tlearn: 14.6703124\ttotal: 254ms\tremaining: 13.4ms\n",
      "96:\tlearn: 14.5358545\ttotal: 259ms\tremaining: 8.02ms\n",
      "98:\tlearn: 14.3561499\ttotal: 264ms\tremaining: 2.67ms\n",
      "99:\tlearn: 14.2718250\ttotal: 267ms\tremaining: 0us\n",
      "CPU times: total: 1.72 s\n",
      "Wall time: 296 ms\n"
     ]
    }
   ],
   "source": [
    "%%time\n",
    "CBR = CatBoostRegressor(loss_function=\"RMSE\",iterations=100)\n",
    "CBR.fit(X_train_join,y_train_join,verbose=2)\n",
    "CBR_pred = CBR.predict(X_test)\n",
    "CBR_rmse = mean_squared_error(y_test,CBR_pred)**.5"
   ]
  },
  {
   "cell_type": "code",
   "execution_count": 76,
   "metadata": {},
   "outputs": [],
   "source": [
    "lg = LinearRegression()\n",
    "lg.fit(X_train_join,y_train_join)\n",
    "lg_pred = lg.predict(X_test)\n",
    "lg_rmse = mean_squared_error(y_test,lg_pred) ** .5"
   ]
  },
  {
   "cell_type": "code",
   "execution_count": 24,
   "metadata": {
    "scrolled": true
   },
   "outputs": [
    {
     "data": {
      "text/html": [
       "<div>\n",
       "<style scoped>\n",
       "    .dataframe tbody tr th:only-of-type {\n",
       "        vertical-align: middle;\n",
       "    }\n",
       "\n",
       "    .dataframe tbody tr th {\n",
       "        vertical-align: top;\n",
       "    }\n",
       "\n",
       "    .dataframe thead th {\n",
       "        text-align: right;\n",
       "    }\n",
       "</style>\n",
       "<table border=\"1\" class=\"dataframe\">\n",
       "  <thead>\n",
       "    <tr style=\"text-align: right;\">\n",
       "      <th></th>\n",
       "      <th>model</th>\n",
       "      <th>RMSE</th>\n",
       "    </tr>\n",
       "  </thead>\n",
       "  <tbody>\n",
       "    <tr>\n",
       "      <th>0</th>\n",
       "      <td>CBR</td>\n",
       "      <td>43.457749</td>\n",
       "    </tr>\n",
       "    <tr>\n",
       "      <th>1</th>\n",
       "      <td>LG</td>\n",
       "      <td>45.449430</td>\n",
       "    </tr>\n",
       "  </tbody>\n",
       "</table>\n",
       "</div>"
      ],
      "text/plain": [
       "  model       RMSE\n",
       "0   CBR  43.457749\n",
       "1    LG  45.449430"
      ]
     },
     "execution_count": 24,
     "metadata": {},
     "output_type": "execute_result"
    }
   ],
   "source": [
    "pd.DataFrame([['CBR',CBR_rmse],['LG',lg_rmse]],columns = ['model','RMSE'])"
   ]
  },
  {
   "cell_type": "code",
   "execution_count": 95,
   "metadata": {
    "scrolled": false
   },
   "outputs": [
    {
     "data": {
      "image/png": "[encoded data removed]",
      "text/plain": [
       "<Figure size 1500x1000 with 1 Axes>"
      ]
     },
     "metadata": {},
     "output_type": "display_data"
    }
   ],
   "source": [
    "    plt.figure(figsize=(15, 10))\n",
    "    plt.plot(CBR_pred[0:100], label=\"CBR_pred\")\n",
    "    plt.plot(list(y_test[0:100]), label=\"y_test\")\n",
    "    plt.grid(True) \n",
    "    plt.legend()\n",
    "    plt.ylabel('Result')\n",
    "    plt.xlabel('Row_number');"
   ]
  },
  {
   "cell_type": "code",
   "execution_count": 96,
   "metadata": {},
   "outputs": [
    {
     "data": {
      "image/png": "[encoded data removed]",
      "text/plain": [
       "<Figure size 1500x1000 with 1 Axes>"
      ]
     },
     "metadata": {},
     "output_type": "display_data"
    }
   ],
   "source": [
    "    plt.figure(figsize=(15, 10))\n",
    "    plt.plot(lg_pred[0:100], label=\"lg_pred\")\n",
    "    plt.plot(list(y_test[0:100]), label=\"y_test\")\n",
    "    plt.grid(True)\n",
    "    plt.legend()\n",
    "    plt.ylabel('Result')\n",
    "    plt.xlabel('Row_number');"
   ]
  },
  {
   "cell_type": "markdown",
   "metadata": {},
   "source": [
    "## Вывод:"
   ]
  },
  {
   "cell_type": "markdown",
   "metadata": {},
   "source": [
    "Загрузили и проверили данные. Применили resample.\n",
    "\n",
    "Провели анализ данных.Построили нескольколь графиков,нашли закономерности заказов.\n",
    "\n",
    "Обучили LinearRegression и CatBoostRegressor,оценили результаты по RMSE и на графиках ответов.\n",
    "\n",
    "Выбранная модель CatBoostRegressor: RMSE на тестовой выборке: 43.6."
   ]
  }
 ],
 "metadata": {
  "ExecuteTimeLog": [
   {
    "duration": 2591,
    "start_time": "2022-08-26T21:05:47.739Z"
   },
   {
    "duration": 1967,
    "start_time": "2022-08-26T21:05:50.333Z"
   },
   {
    "duration": 121,
    "start_time": "2022-08-26T21:05:52.302Z"
   },
   {
    "duration": 11,
    "start_time": "2022-08-26T21:05:52.425Z"
   },
   {
    "duration": 9,
    "start_time": "2022-08-26T21:05:52.438Z"
   },
   {
    "duration": 8,
    "start_time": "2022-08-26T21:05:52.449Z"
   },
   {
    "duration": 32,
    "start_time": "2022-08-26T21:05:52.458Z"
   },
   {
    "duration": 17,
    "start_time": "2022-08-26T21:05:52.492Z"
   },
   {
    "duration": 6,
    "start_time": "2022-08-26T21:05:52.511Z"
   },
   {
    "duration": 338,
    "start_time": "2022-08-26T21:05:52.519Z"
   },
   {
    "duration": 203,
    "start_time": "2022-08-26T21:05:52.859Z"
   },
   {
    "duration": 2,
    "start_time": "2022-08-26T21:05:53.064Z"
   },
   {
    "duration": 7,
    "start_time": "2022-08-26T21:05:53.068Z"
   },
   {
    "duration": 11,
    "start_time": "2022-08-26T21:05:53.077Z"
   },
   {
    "duration": 22,
    "start_time": "2022-08-26T21:05:53.090Z"
   },
   {
    "duration": 84,
    "start_time": "2022-08-26T21:05:53.113Z"
   },
   {
    "duration": 4,
    "start_time": "2022-08-26T21:05:53.208Z"
   },
   {
    "duration": 14,
    "start_time": "2022-08-26T21:05:53.214Z"
   },
   {
    "duration": 32266,
    "start_time": "2022-08-26T21:05:53.230Z"
   },
   {
    "duration": 793,
    "start_time": "2022-08-26T21:06:25.498Z"
   },
   {
    "duration": 4,
    "start_time": "2022-08-26T21:06:26.292Z"
   },
   {
    "duration": 12,
    "start_time": "2022-08-26T21:06:26.297Z"
   },
   {
    "duration": 4,
    "start_time": "2022-08-26T21:10:55.471Z"
   },
   {
    "duration": 18,
    "start_time": "2022-08-26T21:16:34.546Z"
   },
   {
    "duration": 75,
    "start_time": "2022-08-26T21:17:34.952Z"
   },
   {
    "duration": 64,
    "start_time": "2022-08-26T22:19:40.975Z"
   },
   {
    "duration": 43,
    "start_time": "2022-08-26T22:26:52.674Z"
   },
   {
    "duration": 937,
    "start_time": "2022-08-26T22:27:01.659Z"
   },
   {
    "duration": 1613,
    "start_time": "2022-08-26T22:27:02.598Z"
   },
   {
    "duration": 118,
    "start_time": "2022-08-26T22:27:04.213Z"
   },
   {
    "duration": 10,
    "start_time": "2022-08-26T22:27:04.333Z"
   },
   {
    "duration": 7,
    "start_time": "2022-08-26T22:27:04.345Z"
   },
   {
    "duration": 9,
    "start_time": "2022-08-26T22:27:04.354Z"
   },
   {
    "duration": 33,
    "start_time": "2022-08-26T22:27:04.365Z"
   },
   {
    "duration": 9,
    "start_time": "2022-08-26T22:27:05.483Z"
   },
   {
    "duration": 6,
    "start_time": "2022-08-26T22:27:06.387Z"
   },
   {
    "duration": 324,
    "start_time": "2022-08-26T22:27:06.858Z"
   },
   {
    "duration": 213,
    "start_time": "2022-08-26T22:27:07.650Z"
   },
   {
    "duration": 2,
    "start_time": "2022-08-26T22:27:09.218Z"
   },
   {
    "duration": 7,
    "start_time": "2022-08-26T22:27:09.970Z"
   },
   {
    "duration": 351,
    "start_time": "2022-08-26T22:27:27.058Z"
   },
   {
    "duration": 4,
    "start_time": "2022-08-26T22:27:42.434Z"
   },
   {
    "duration": 13,
    "start_time": "2022-08-26T22:27:56.177Z"
   },
   {
    "duration": 200,
    "start_time": "2022-08-26T22:28:14.985Z"
   },
   {
    "duration": 183,
    "start_time": "2022-08-26T22:28:32.852Z"
   },
   {
    "duration": 76,
    "start_time": "2022-08-26T22:29:21.247Z"
   },
   {
    "duration": 185,
    "start_time": "2022-08-26T22:29:31.599Z"
   },
   {
    "duration": 227,
    "start_time": "2022-08-26T22:30:04.796Z"
   },
   {
    "duration": 4,
    "start_time": "2022-08-27T00:56:01.564Z"
   },
   {
    "duration": 9,
    "start_time": "2022-08-27T00:56:11.061Z"
   },
   {
    "duration": 182,
    "start_time": "2022-08-27T00:59:52.281Z"
   },
   {
    "duration": 168,
    "start_time": "2022-08-27T01:00:06.272Z"
   },
   {
    "duration": 199,
    "start_time": "2022-08-27T01:00:22.551Z"
   },
   {
    "duration": 10,
    "start_time": "2022-08-27T01:00:53.214Z"
   },
   {
    "duration": 198,
    "start_time": "2022-08-27T01:01:13.425Z"
   },
   {
    "duration": 360,
    "start_time": "2022-08-27T01:01:39.231Z"
   },
   {
    "duration": 190,
    "start_time": "2022-08-27T01:02:00.229Z"
   },
   {
    "duration": 3,
    "start_time": "2022-08-27T01:04:02.285Z"
   },
   {
    "duration": 3,
    "start_time": "2022-08-27T01:04:03.370Z"
   },
   {
    "duration": 58,
    "start_time": "2022-08-27T01:05:35.817Z"
   },
   {
    "duration": 113,
    "start_time": "2022-08-27T01:05:46.737Z"
   },
   {
    "duration": 77,
    "start_time": "2022-08-27T01:05:49.960Z"
   },
   {
    "duration": 50,
    "start_time": "2022-08-27T01:06:43.917Z"
   },
   {
    "duration": 58,
    "start_time": "2022-08-27T01:06:59.665Z"
   },
   {
    "duration": 279,
    "start_time": "2022-08-27T01:15:59.580Z"
   },
   {
    "duration": 276,
    "start_time": "2022-08-27T01:16:02.108Z"
   },
   {
    "duration": 193,
    "start_time": "2022-08-27T01:16:12.388Z"
   },
   {
    "duration": 194,
    "start_time": "2022-08-27T01:16:14.115Z"
   },
   {
    "duration": 333,
    "start_time": "2022-08-27T01:32:32.119Z"
   },
   {
    "duration": 295,
    "start_time": "2022-08-27T01:32:40.447Z"
   },
   {
    "duration": 301,
    "start_time": "2022-08-27T01:32:55.781Z"
   },
   {
    "duration": 303,
    "start_time": "2022-08-27T01:34:30.486Z"
   },
   {
    "duration": 212,
    "start_time": "2022-08-27T01:34:49.411Z"
   },
   {
    "duration": 227,
    "start_time": "2022-08-27T01:35:17.691Z"
   },
   {
    "duration": 171,
    "start_time": "2022-08-27T01:36:50.732Z"
   },
   {
    "duration": 294,
    "start_time": "2022-08-27T01:36:54.371Z"
   },
   {
    "duration": 219,
    "start_time": "2022-08-27T01:37:00.623Z"
   },
   {
    "duration": 258,
    "start_time": "2022-08-27T01:37:19.584Z"
   },
   {
    "duration": 329,
    "start_time": "2022-08-27T01:37:27.080Z"
   },
   {
    "duration": 256,
    "start_time": "2022-08-27T01:37:32.666Z"
   },
   {
    "duration": 12,
    "start_time": "2022-08-27T01:43:37.380Z"
   },
   {
    "duration": 8,
    "start_time": "2022-08-27T01:43:47.879Z"
   },
   {
    "duration": 2339,
    "start_time": "2022-08-27T01:43:52.561Z"
   },
   {
    "duration": 4,
    "start_time": "2022-08-27T01:43:54.904Z"
   },
   {
    "duration": 57,
    "start_time": "2022-08-27T01:43:54.910Z"
   },
   {
    "duration": 11,
    "start_time": "2022-08-27T01:43:54.969Z"
   },
   {
    "duration": 6,
    "start_time": "2022-08-27T01:43:54.982Z"
   },
   {
    "duration": 15,
    "start_time": "2022-08-27T01:43:54.989Z"
   },
   {
    "duration": 37,
    "start_time": "2022-08-27T01:43:55.006Z"
   },
   {
    "duration": 9,
    "start_time": "2022-08-27T01:43:55.045Z"
   },
   {
    "duration": 16,
    "start_time": "2022-08-27T01:43:55.055Z"
   },
   {
    "duration": 10,
    "start_time": "2022-08-27T01:43:55.074Z"
   },
   {
    "duration": 17,
    "start_time": "2022-08-27T01:43:55.086Z"
   },
   {
    "duration": 13,
    "start_time": "2022-08-27T01:43:55.104Z"
   },
   {
    "duration": 308,
    "start_time": "2022-08-27T01:43:55.119Z"
   },
   {
    "duration": 283,
    "start_time": "2022-08-27T01:43:55.429Z"
   },
   {
    "duration": 4,
    "start_time": "2022-08-27T01:43:55.714Z"
   },
   {
    "duration": 15,
    "start_time": "2022-08-27T01:43:55.720Z"
   },
   {
    "duration": 13,
    "start_time": "2022-08-27T01:43:55.737Z"
   },
   {
    "duration": 0,
    "start_time": "2022-08-27T01:43:55.752Z"
   },
   {
    "duration": 0,
    "start_time": "2022-08-27T01:43:55.753Z"
   },
   {
    "duration": 0,
    "start_time": "2022-08-27T01:43:55.754Z"
   },
   {
    "duration": 0,
    "start_time": "2022-08-27T01:43:55.756Z"
   },
   {
    "duration": 0,
    "start_time": "2022-08-27T01:43:55.757Z"
   },
   {
    "duration": 0,
    "start_time": "2022-08-27T01:43:55.758Z"
   },
   {
    "duration": 0,
    "start_time": "2022-08-27T01:43:55.759Z"
   },
   {
    "duration": 2148,
    "start_time": "2022-08-27T01:44:16.148Z"
   },
   {
    "duration": 3,
    "start_time": "2022-08-27T01:44:18.300Z"
   },
   {
    "duration": 58,
    "start_time": "2022-08-27T01:44:18.305Z"
   },
   {
    "duration": 13,
    "start_time": "2022-08-27T01:44:18.364Z"
   },
   {
    "duration": 5,
    "start_time": "2022-08-27T01:44:18.380Z"
   },
   {
    "duration": 17,
    "start_time": "2022-08-27T01:44:18.387Z"
   },
   {
    "duration": 31,
    "start_time": "2022-08-27T01:44:18.406Z"
   },
   {
    "duration": 7,
    "start_time": "2022-08-27T01:44:18.440Z"
   },
   {
    "duration": 6,
    "start_time": "2022-08-27T01:44:18.448Z"
   },
   {
    "duration": 8,
    "start_time": "2022-08-27T01:44:18.456Z"
   },
   {
    "duration": 6,
    "start_time": "2022-08-27T01:44:18.466Z"
   },
   {
    "duration": 4,
    "start_time": "2022-08-27T01:44:18.474Z"
   },
   {
    "duration": 310,
    "start_time": "2022-08-27T01:44:18.480Z"
   },
   {
    "duration": 263,
    "start_time": "2022-08-27T01:44:18.794Z"
   },
   {
    "duration": 4,
    "start_time": "2022-08-27T01:44:19.059Z"
   },
   {
    "duration": 19,
    "start_time": "2022-08-27T01:44:19.065Z"
   },
   {
    "duration": 7,
    "start_time": "2022-08-27T01:44:19.085Z"
   },
   {
    "duration": 22,
    "start_time": "2022-08-27T01:44:19.093Z"
   },
   {
    "duration": 4,
    "start_time": "2022-08-27T01:44:19.116Z"
   },
   {
    "duration": 10,
    "start_time": "2022-08-27T01:44:19.122Z"
   },
   {
    "duration": 24541,
    "start_time": "2022-08-27T01:44:19.134Z"
   },
   {
    "duration": 635,
    "start_time": "2022-08-27T01:44:43.677Z"
   },
   {
    "duration": 4,
    "start_time": "2022-08-27T01:44:44.314Z"
   },
   {
    "duration": 11,
    "start_time": "2022-08-27T01:44:44.320Z"
   },
   {
    "duration": 4,
    "start_time": "2022-08-27T02:07:52.982Z"
   },
   {
    "duration": 3,
    "start_time": "2022-08-27T02:08:12.677Z"
   },
   {
    "duration": 6,
    "start_time": "2022-08-27T02:09:06.098Z"
   },
   {
    "duration": 21731,
    "start_time": "2022-08-27T02:20:56.357Z"
   },
   {
    "duration": 21837,
    "start_time": "2022-08-27T02:21:42.139Z"
   },
   {
    "duration": 36,
    "start_time": "2022-08-27T02:44:35.957Z"
   },
   {
    "duration": 21,
    "start_time": "2022-08-27T02:45:29.689Z"
   },
   {
    "duration": 2187,
    "start_time": "2022-08-27T02:45:36.853Z"
   },
   {
    "duration": 4,
    "start_time": "2022-08-27T02:45:39.042Z"
   },
   {
    "duration": 52,
    "start_time": "2022-08-27T02:45:39.048Z"
   },
   {
    "duration": 10,
    "start_time": "2022-08-27T02:45:39.102Z"
   },
   {
    "duration": 6,
    "start_time": "2022-08-27T02:45:39.114Z"
   },
   {
    "duration": 11,
    "start_time": "2022-08-27T02:45:39.121Z"
   },
   {
    "duration": 32,
    "start_time": "2022-08-27T02:45:39.133Z"
   },
   {
    "duration": 7,
    "start_time": "2022-08-27T02:45:39.167Z"
   },
   {
    "duration": 7,
    "start_time": "2022-08-27T02:45:39.175Z"
   },
   {
    "duration": 25,
    "start_time": "2022-08-27T02:45:39.184Z"
   },
   {
    "duration": 3,
    "start_time": "2022-08-27T02:45:39.210Z"
   },
   {
    "duration": 5,
    "start_time": "2022-08-27T02:45:39.215Z"
   },
   {
    "duration": 314,
    "start_time": "2022-08-27T02:45:39.222Z"
   },
   {
    "duration": 277,
    "start_time": "2022-08-27T02:45:39.539Z"
   },
   {
    "duration": 4,
    "start_time": "2022-08-27T02:45:39.818Z"
   },
   {
    "duration": 13,
    "start_time": "2022-08-27T02:45:39.824Z"
   },
   {
    "duration": 8,
    "start_time": "2022-08-27T02:45:39.838Z"
   },
   {
    "duration": 12,
    "start_time": "2022-08-27T02:45:39.847Z"
   },
   {
    "duration": 3,
    "start_time": "2022-08-27T02:45:39.861Z"
   },
   {
    "duration": 13,
    "start_time": "2022-08-27T02:45:39.866Z"
   },
   {
    "duration": 21610,
    "start_time": "2022-08-27T02:45:39.880Z"
   },
   {
    "duration": 583,
    "start_time": "2022-08-27T02:46:01.492Z"
   },
   {
    "duration": 3,
    "start_time": "2022-08-27T02:46:02.077Z"
   },
   {
    "duration": 13,
    "start_time": "2022-08-27T02:46:02.082Z"
   },
   {
    "duration": 21,
    "start_time": "2022-08-27T02:48:30.294Z"
   },
   {
    "duration": 49,
    "start_time": "2022-08-27T02:48:44.142Z"
   },
   {
    "duration": 48,
    "start_time": "2022-08-27T02:48:57.606Z"
   },
   {
    "duration": 21,
    "start_time": "2022-08-27T02:50:41.067Z"
   },
   {
    "duration": 2133,
    "start_time": "2022-08-27T02:50:48.181Z"
   },
   {
    "duration": 4,
    "start_time": "2022-08-27T02:50:50.317Z"
   },
   {
    "duration": 53,
    "start_time": "2022-08-27T02:50:50.323Z"
   },
   {
    "duration": 11,
    "start_time": "2022-08-27T02:50:50.378Z"
   },
   {
    "duration": 7,
    "start_time": "2022-08-27T02:50:50.390Z"
   },
   {
    "duration": 7,
    "start_time": "2022-08-27T02:50:50.399Z"
   },
   {
    "duration": 29,
    "start_time": "2022-08-27T02:50:50.408Z"
   },
   {
    "duration": 7,
    "start_time": "2022-08-27T02:50:50.439Z"
   },
   {
    "duration": 8,
    "start_time": "2022-08-27T02:50:50.447Z"
   },
   {
    "duration": 5,
    "start_time": "2022-08-27T02:50:50.462Z"
   },
   {
    "duration": 12,
    "start_time": "2022-08-27T02:50:50.469Z"
   },
   {
    "duration": 6,
    "start_time": "2022-08-27T02:50:50.483Z"
   },
   {
    "duration": 318,
    "start_time": "2022-08-27T02:50:50.491Z"
   },
   {
    "duration": 273,
    "start_time": "2022-08-27T02:50:50.811Z"
   },
   {
    "duration": 4,
    "start_time": "2022-08-27T02:50:51.086Z"
   },
   {
    "duration": 23,
    "start_time": "2022-08-27T02:50:51.091Z"
   },
   {
    "duration": 6,
    "start_time": "2022-08-27T02:50:51.115Z"
   },
   {
    "duration": 10,
    "start_time": "2022-08-27T02:50:51.123Z"
   },
   {
    "duration": 5,
    "start_time": "2022-08-27T02:50:51.135Z"
   },
   {
    "duration": 11,
    "start_time": "2022-08-27T02:50:51.141Z"
   },
   {
    "duration": 21092,
    "start_time": "2022-08-27T02:50:51.154Z"
   },
   {
    "duration": 637,
    "start_time": "2022-08-27T02:51:12.248Z"
   },
   {
    "duration": 4,
    "start_time": "2022-08-27T02:51:12.887Z"
   },
   {
    "duration": 46,
    "start_time": "2022-08-27T02:51:12.892Z"
   },
   {
    "duration": 5,
    "start_time": "2022-08-27T03:15:23.319Z"
   },
   {
    "duration": 17,
    "start_time": "2022-08-27T03:16:59.121Z"
   },
   {
    "duration": 4,
    "start_time": "2022-08-27T03:17:22.361Z"
   },
   {
    "duration": 4,
    "start_time": "2022-08-27T03:17:50.632Z"
   },
   {
    "duration": 4,
    "start_time": "2022-08-27T03:24:32.903Z"
   },
   {
    "duration": 7,
    "start_time": "2022-08-27T03:24:35.215Z"
   },
   {
    "duration": 12,
    "start_time": "2022-08-27T03:24:38.438Z"
   },
   {
    "duration": 4,
    "start_time": "2022-08-27T03:24:57.628Z"
   },
   {
    "duration": 19,
    "start_time": "2022-08-27T03:24:58.775Z"
   },
   {
    "duration": 9,
    "start_time": "2022-08-27T03:25:15.560Z"
   },
   {
    "duration": 7,
    "start_time": "2022-08-27T03:27:29.167Z"
   },
   {
    "duration": 16,
    "start_time": "2022-08-27T03:27:29.884Z"
   },
   {
    "duration": 2282,
    "start_time": "2022-08-27T03:27:39.583Z"
   },
   {
    "duration": 4,
    "start_time": "2022-08-27T03:27:41.868Z"
   },
   {
    "duration": 52,
    "start_time": "2022-08-27T03:27:41.874Z"
   },
   {
    "duration": 11,
    "start_time": "2022-08-27T03:27:41.928Z"
   },
   {
    "duration": 5,
    "start_time": "2022-08-27T03:27:41.942Z"
   },
   {
    "duration": 11,
    "start_time": "2022-08-27T03:27:41.949Z"
   },
   {
    "duration": 47,
    "start_time": "2022-08-27T03:27:41.962Z"
   },
   {
    "duration": 8,
    "start_time": "2022-08-27T03:27:42.011Z"
   },
   {
    "duration": 8,
    "start_time": "2022-08-27T03:27:42.020Z"
   },
   {
    "duration": 4,
    "start_time": "2022-08-27T03:27:42.030Z"
   },
   {
    "duration": 6,
    "start_time": "2022-08-27T03:27:42.036Z"
   },
   {
    "duration": 6,
    "start_time": "2022-08-27T03:27:42.043Z"
   },
   {
    "duration": 331,
    "start_time": "2022-08-27T03:27:42.050Z"
   },
   {
    "duration": 279,
    "start_time": "2022-08-27T03:27:42.384Z"
   },
   {
    "duration": 5,
    "start_time": "2022-08-27T03:27:42.665Z"
   },
   {
    "duration": 5,
    "start_time": "2022-08-27T03:27:42.672Z"
   },
   {
    "duration": 36,
    "start_time": "2022-08-27T03:27:42.679Z"
   },
   {
    "duration": 17,
    "start_time": "2022-08-27T03:27:42.717Z"
   },
   {
    "duration": 7,
    "start_time": "2022-08-27T03:27:42.736Z"
   },
   {
    "duration": 14,
    "start_time": "2022-08-27T03:27:42.745Z"
   },
   {
    "duration": 9,
    "start_time": "2022-08-27T03:27:42.761Z"
   },
   {
    "duration": 38,
    "start_time": "2022-08-27T03:27:42.772Z"
   },
   {
    "duration": 24397,
    "start_time": "2022-08-27T03:27:42.812Z"
   },
   {
    "duration": 627,
    "start_time": "2022-08-27T03:28:07.210Z"
   },
   {
    "duration": 4,
    "start_time": "2022-08-27T03:28:07.839Z"
   },
   {
    "duration": 15,
    "start_time": "2022-08-27T03:28:07.845Z"
   },
   {
    "duration": 2155,
    "start_time": "2022-08-27T03:28:33.604Z"
   },
   {
    "duration": 4,
    "start_time": "2022-08-27T03:28:35.761Z"
   },
   {
    "duration": 55,
    "start_time": "2022-08-27T03:28:35.767Z"
   },
   {
    "duration": 11,
    "start_time": "2022-08-27T03:28:35.824Z"
   },
   {
    "duration": 9,
    "start_time": "2022-08-27T03:28:35.836Z"
   },
   {
    "duration": 17,
    "start_time": "2022-08-27T03:28:35.846Z"
   },
   {
    "duration": 44,
    "start_time": "2022-08-27T03:28:35.865Z"
   },
   {
    "duration": 8,
    "start_time": "2022-08-27T03:28:35.911Z"
   },
   {
    "duration": 17,
    "start_time": "2022-08-27T03:28:35.920Z"
   },
   {
    "duration": 5,
    "start_time": "2022-08-27T03:28:35.940Z"
   },
   {
    "duration": 35,
    "start_time": "2022-08-27T03:28:35.947Z"
   },
   {
    "duration": 6,
    "start_time": "2022-08-27T03:28:35.983Z"
   },
   {
    "duration": 319,
    "start_time": "2022-08-27T03:28:35.990Z"
   },
   {
    "duration": 278,
    "start_time": "2022-08-27T03:28:36.311Z"
   },
   {
    "duration": 4,
    "start_time": "2022-08-27T03:28:36.591Z"
   },
   {
    "duration": 13,
    "start_time": "2022-08-27T03:28:36.597Z"
   },
   {
    "duration": 17,
    "start_time": "2022-08-27T03:28:36.611Z"
   },
   {
    "duration": 17,
    "start_time": "2022-08-27T03:28:36.630Z"
   },
   {
    "duration": 7,
    "start_time": "2022-08-27T03:28:36.648Z"
   },
   {
    "duration": 12,
    "start_time": "2022-08-27T03:28:36.657Z"
   },
   {
    "duration": 3,
    "start_time": "2022-08-27T03:28:36.671Z"
   },
   {
    "duration": 38,
    "start_time": "2022-08-27T03:28:36.676Z"
   },
   {
    "duration": 22699,
    "start_time": "2022-08-27T03:28:36.716Z"
   },
   {
    "duration": 578,
    "start_time": "2022-08-27T03:28:59.417Z"
   },
   {
    "duration": 3,
    "start_time": "2022-08-27T03:28:59.997Z"
   },
   {
    "duration": 12,
    "start_time": "2022-08-27T03:29:00.001Z"
   },
   {
    "duration": 42,
    "start_time": "2022-08-27T03:29:23.819Z"
   },
   {
    "duration": 16,
    "start_time": "2022-08-27T03:29:26.776Z"
   },
   {
    "duration": 985,
    "start_time": "2022-08-27T03:29:52.440Z"
   },
   {
    "duration": 4,
    "start_time": "2022-08-27T03:29:54.072Z"
   },
   {
    "duration": 51,
    "start_time": "2022-08-27T03:29:57.802Z"
   },
   {
    "duration": 12,
    "start_time": "2022-08-27T03:29:58.335Z"
   },
   {
    "duration": 7,
    "start_time": "2022-08-27T03:30:01.474Z"
   },
   {
    "duration": 6,
    "start_time": "2022-08-27T03:30:02.119Z"
   },
   {
    "duration": 55,
    "start_time": "2022-08-27T03:30:02.817Z"
   },
   {
    "duration": 8,
    "start_time": "2022-08-27T03:30:04.328Z"
   },
   {
    "duration": 9,
    "start_time": "2022-08-27T03:30:08.819Z"
   },
   {
    "duration": 7,
    "start_time": "2022-08-27T03:30:17.479Z"
   },
   {
    "duration": 3,
    "start_time": "2022-08-27T03:30:18.106Z"
   },
   {
    "duration": 3,
    "start_time": "2022-08-27T03:30:18.463Z"
   },
   {
    "duration": 3,
    "start_time": "2022-08-27T03:30:18.784Z"
   },
   {
    "duration": 8,
    "start_time": "2022-08-27T03:30:23.224Z"
   },
   {
    "duration": 2,
    "start_time": "2022-08-27T03:30:58.875Z"
   },
   {
    "duration": 3,
    "start_time": "2022-08-27T03:30:59.176Z"
   },
   {
    "duration": 2,
    "start_time": "2022-08-27T03:30:59.450Z"
   },
   {
    "duration": 3,
    "start_time": "2022-08-27T03:30:59.687Z"
   },
   {
    "duration": 322,
    "start_time": "2022-08-27T03:31:00.225Z"
   },
   {
    "duration": 259,
    "start_time": "2022-08-27T03:31:03.702Z"
   },
   {
    "duration": 10,
    "start_time": "2022-08-27T03:31:20.171Z"
   },
   {
    "duration": 4,
    "start_time": "2022-08-27T03:31:26.736Z"
   },
   {
    "duration": 10,
    "start_time": "2022-08-27T03:31:30.133Z"
   },
   {
    "duration": 4,
    "start_time": "2022-08-27T03:31:37.094Z"
   },
   {
    "duration": 14,
    "start_time": "2022-08-27T03:31:40.399Z"
   },
   {
    "duration": 25,
    "start_time": "2022-08-27T03:31:46.534Z"
   },
   {
    "duration": 17,
    "start_time": "2022-08-27T03:31:49.502Z"
   },
   {
    "duration": 20,
    "start_time": "2022-08-27T03:32:13.126Z"
   },
   {
    "duration": 4,
    "start_time": "2022-08-27T03:32:26.854Z"
   },
   {
    "duration": 9,
    "start_time": "2022-08-27T03:32:28.396Z"
   },
   {
    "duration": 19,
    "start_time": "2022-08-27T03:32:28.801Z"
   },
   {
    "duration": 2232,
    "start_time": "2022-08-27T03:32:34.512Z"
   },
   {
    "duration": 4,
    "start_time": "2022-08-27T03:32:36.747Z"
   },
   {
    "duration": 57,
    "start_time": "2022-08-27T03:32:36.753Z"
   },
   {
    "duration": 12,
    "start_time": "2022-08-27T03:32:36.811Z"
   },
   {
    "duration": 6,
    "start_time": "2022-08-27T03:32:36.825Z"
   },
   {
    "duration": 8,
    "start_time": "2022-08-27T03:32:36.832Z"
   },
   {
    "duration": 28,
    "start_time": "2022-08-27T03:32:36.842Z"
   },
   {
    "duration": 38,
    "start_time": "2022-08-27T03:32:36.871Z"
   },
   {
    "duration": 2,
    "start_time": "2022-08-27T03:32:36.911Z"
   },
   {
    "duration": 10,
    "start_time": "2022-08-27T03:32:36.914Z"
   },
   {
    "duration": 5,
    "start_time": "2022-08-27T03:32:36.926Z"
   },
   {
    "duration": 4,
    "start_time": "2022-08-27T03:32:36.933Z"
   },
   {
    "duration": 337,
    "start_time": "2022-08-27T03:32:36.939Z"
   },
   {
    "duration": 284,
    "start_time": "2022-08-27T03:32:37.279Z"
   },
   {
    "duration": 5,
    "start_time": "2022-08-27T03:32:37.565Z"
   },
   {
    "duration": 7,
    "start_time": "2022-08-27T03:32:37.572Z"
   },
   {
    "duration": 33,
    "start_time": "2022-08-27T03:32:37.581Z"
   },
   {
    "duration": 24,
    "start_time": "2022-08-27T03:32:37.616Z"
   },
   {
    "duration": 8,
    "start_time": "2022-08-27T03:32:37.642Z"
   },
   {
    "duration": 10,
    "start_time": "2022-08-27T03:32:37.652Z"
   },
   {
    "duration": 19,
    "start_time": "2022-08-27T03:32:37.664Z"
   },
   {
    "duration": 23,
    "start_time": "2022-08-27T03:32:37.685Z"
   },
   {
    "duration": 11,
    "start_time": "2022-08-27T03:32:37.710Z"
   },
   {
    "duration": 21252,
    "start_time": "2022-08-27T03:32:37.724Z"
   },
   {
    "duration": 387,
    "start_time": "2022-08-27T03:32:58.978Z"
   },
   {
    "duration": 4,
    "start_time": "2022-08-27T03:32:59.367Z"
   },
   {
    "duration": 12,
    "start_time": "2022-08-27T03:32:59.373Z"
   },
   {
    "duration": 14,
    "start_time": "2022-08-27T03:34:03.132Z"
   },
   {
    "duration": 7,
    "start_time": "2022-08-27T03:37:53.184Z"
   },
   {
    "duration": 3,
    "start_time": "2022-08-27T03:38:52.496Z"
   },
   {
    "duration": 125,
    "start_time": "2022-08-27T03:40:01.991Z"
   },
   {
    "duration": 340,
    "start_time": "2022-08-27T03:41:48.451Z"
   },
   {
    "duration": 182,
    "start_time": "2022-08-27T03:42:04.132Z"
   },
   {
    "duration": 105,
    "start_time": "2022-08-27T03:42:14.896Z"
   },
   {
    "duration": 6,
    "start_time": "2022-08-27T03:42:34.385Z"
   },
   {
    "duration": 111,
    "start_time": "2022-08-27T03:42:46.064Z"
   },
   {
    "duration": 10,
    "start_time": "2022-08-27T03:43:18.528Z"
   },
   {
    "duration": 140,
    "start_time": "2022-08-27T03:43:27.192Z"
   },
   {
    "duration": 98,
    "start_time": "2022-08-27T03:43:38.848Z"
   },
   {
    "duration": 109,
    "start_time": "2022-08-27T03:43:46.334Z"
   },
   {
    "duration": 129,
    "start_time": "2022-08-27T03:44:45.975Z"
   },
   {
    "duration": 108,
    "start_time": "2022-08-27T03:44:57.503Z"
   },
   {
    "duration": 131,
    "start_time": "2022-08-27T03:45:15.831Z"
   },
   {
    "duration": 116,
    "start_time": "2022-08-27T03:45:22.099Z"
   },
   {
    "duration": 109,
    "start_time": "2022-08-27T03:47:24.948Z"
   },
   {
    "duration": 9,
    "start_time": "2022-08-27T03:48:17.395Z"
   },
   {
    "duration": 214,
    "start_time": "2022-08-27T03:48:21.400Z"
   },
   {
    "duration": 240,
    "start_time": "2022-08-27T03:48:36.695Z"
   },
   {
    "duration": 210,
    "start_time": "2022-08-27T03:48:43.844Z"
   },
   {
    "duration": 54,
    "start_time": "2022-08-27T03:49:30.071Z"
   },
   {
    "duration": 97,
    "start_time": "2022-08-27T03:50:01.878Z"
   },
   {
    "duration": 200,
    "start_time": "2022-08-27T03:50:36.906Z"
   },
   {
    "duration": 12,
    "start_time": "2022-08-27T03:50:41.873Z"
   },
   {
    "duration": 207,
    "start_time": "2022-08-27T03:50:46.392Z"
   },
   {
    "duration": 212,
    "start_time": "2022-08-27T03:50:53.325Z"
   },
   {
    "duration": 11,
    "start_time": "2022-08-27T03:53:13.011Z"
   },
   {
    "duration": 12,
    "start_time": "2022-08-27T03:53:16.772Z"
   },
   {
    "duration": 12,
    "start_time": "2022-08-27T03:55:36.161Z"
   },
   {
    "duration": 12,
    "start_time": "2022-08-27T03:55:40.474Z"
   },
   {
    "duration": 11,
    "start_time": "2022-08-27T03:55:44.943Z"
   },
   {
    "duration": 11,
    "start_time": "2022-08-27T03:55:48.939Z"
   },
   {
    "duration": 213,
    "start_time": "2022-08-27T03:55:57.850Z"
   },
   {
    "duration": 217,
    "start_time": "2022-08-27T03:56:03.186Z"
   },
   {
    "duration": 196,
    "start_time": "2022-08-27T03:56:52.328Z"
   },
   {
    "duration": 2213,
    "start_time": "2022-08-27T03:56:57.039Z"
   },
   {
    "duration": 4,
    "start_time": "2022-08-27T03:56:59.255Z"
   },
   {
    "duration": 65,
    "start_time": "2022-08-27T03:56:59.261Z"
   },
   {
    "duration": 12,
    "start_time": "2022-08-27T03:56:59.328Z"
   },
   {
    "duration": 7,
    "start_time": "2022-08-27T03:56:59.341Z"
   },
   {
    "duration": 19,
    "start_time": "2022-08-27T03:56:59.349Z"
   },
   {
    "duration": 33,
    "start_time": "2022-08-27T03:56:59.369Z"
   },
   {
    "duration": 11,
    "start_time": "2022-08-27T03:56:59.403Z"
   },
   {
    "duration": 6,
    "start_time": "2022-08-27T03:56:59.416Z"
   },
   {
    "duration": 6,
    "start_time": "2022-08-27T03:56:59.425Z"
   },
   {
    "duration": 6,
    "start_time": "2022-08-27T03:56:59.433Z"
   },
   {
    "duration": 7,
    "start_time": "2022-08-27T03:56:59.441Z"
   },
   {
    "duration": 316,
    "start_time": "2022-08-27T03:56:59.450Z"
   },
   {
    "duration": 274,
    "start_time": "2022-08-27T03:56:59.767Z"
   },
   {
    "duration": 5,
    "start_time": "2022-08-27T03:57:00.042Z"
   },
   {
    "duration": 7,
    "start_time": "2022-08-27T03:57:00.049Z"
   },
   {
    "duration": 14,
    "start_time": "2022-08-27T03:57:00.058Z"
   },
   {
    "duration": 7,
    "start_time": "2022-08-27T03:57:00.074Z"
   },
   {
    "duration": 33,
    "start_time": "2022-08-27T03:57:00.083Z"
   },
   {
    "duration": 4,
    "start_time": "2022-08-27T03:57:00.118Z"
   },
   {
    "duration": 15,
    "start_time": "2022-08-27T03:57:00.123Z"
   },
   {
    "duration": 21030,
    "start_time": "2022-08-27T03:57:00.141Z"
   },
   {
    "duration": 631,
    "start_time": "2022-08-27T03:57:21.173Z"
   },
   {
    "duration": 3,
    "start_time": "2022-08-27T03:57:21.806Z"
   },
   {
    "duration": 28,
    "start_time": "2022-08-27T03:57:21.811Z"
   },
   {
    "duration": 28,
    "start_time": "2022-08-27T03:57:21.840Z"
   },
   {
    "duration": 204,
    "start_time": "2022-08-27T03:57:21.869Z"
   },
   {
    "duration": 124,
    "start_time": "2022-08-27T03:57:35.388Z"
   },
   {
    "duration": 113,
    "start_time": "2022-08-27T03:57:58.160Z"
   },
   {
    "duration": 115,
    "start_time": "2022-08-27T03:58:04.004Z"
   },
   {
    "duration": 121,
    "start_time": "2022-08-27T03:58:09.608Z"
   },
   {
    "duration": 97,
    "start_time": "2022-08-27T03:58:12.139Z"
   },
   {
    "duration": 119,
    "start_time": "2022-08-27T03:58:20.554Z"
   },
   {
    "duration": 112,
    "start_time": "2022-08-27T03:58:24.488Z"
   },
   {
    "duration": 7,
    "start_time": "2022-08-27T03:58:42.266Z"
   },
   {
    "duration": 10,
    "start_time": "2022-08-27T03:58:45.771Z"
   },
   {
    "duration": 6,
    "start_time": "2022-08-27T03:59:01.132Z"
   },
   {
    "duration": 4,
    "start_time": "2022-08-27T03:59:08.018Z"
   },
   {
    "duration": 10,
    "start_time": "2022-08-27T03:59:23.835Z"
   },
   {
    "duration": 4,
    "start_time": "2022-08-27T03:59:30.546Z"
   },
   {
    "duration": 118,
    "start_time": "2022-08-27T03:59:36.816Z"
   },
   {
    "duration": 6,
    "start_time": "2022-08-27T03:59:45.229Z"
   },
   {
    "duration": 1301,
    "start_time": "2022-08-27T04:00:16.442Z"
   },
   {
    "duration": 9,
    "start_time": "2022-08-27T04:00:27.133Z"
   },
   {
    "duration": 1179,
    "start_time": "2022-08-27T04:00:34.644Z"
   },
   {
    "duration": 6,
    "start_time": "2022-08-27T04:00:42.536Z"
   },
   {
    "duration": 166,
    "start_time": "2022-08-27T04:04:19.533Z"
   },
   {
    "duration": 158,
    "start_time": "2022-08-27T04:04:33.825Z"
   },
   {
    "duration": 162,
    "start_time": "2022-08-27T04:04:40.686Z"
   },
   {
    "duration": 172,
    "start_time": "2022-08-27T04:04:46.652Z"
   },
   {
    "duration": 184,
    "start_time": "2022-08-27T04:05:56.844Z"
   },
   {
    "duration": 207,
    "start_time": "2022-08-27T04:06:12.731Z"
   },
   {
    "duration": 549,
    "start_time": "2022-08-27T04:06:22.321Z"
   },
   {
    "duration": 251,
    "start_time": "2022-08-27T04:06:48.267Z"
   },
   {
    "duration": 258,
    "start_time": "2022-08-27T04:06:53.787Z"
   },
   {
    "duration": 275,
    "start_time": "2022-08-27T04:07:06.946Z"
   },
   {
    "duration": 255,
    "start_time": "2022-08-27T04:08:02.382Z"
   },
   {
    "duration": 242,
    "start_time": "2022-08-27T04:08:23.271Z"
   },
   {
    "duration": 261,
    "start_time": "2022-08-27T04:09:23.826Z"
   },
   {
    "duration": 254,
    "start_time": "2022-08-27T04:09:37.481Z"
   },
   {
    "duration": 253,
    "start_time": "2022-08-27T04:09:38.837Z"
   },
   {
    "duration": 256,
    "start_time": "2022-08-27T04:10:49.589Z"
   },
   {
    "duration": 19,
    "start_time": "2022-08-27T04:11:06.212Z"
   },
   {
    "duration": 275,
    "start_time": "2022-08-27T04:11:17.058Z"
   },
   {
    "duration": 12,
    "start_time": "2022-08-27T04:11:41.351Z"
   },
   {
    "duration": 7,
    "start_time": "2022-08-27T04:11:58.857Z"
   },
   {
    "duration": 9,
    "start_time": "2022-08-27T04:12:08.538Z"
   },
   {
    "duration": 49,
    "start_time": "2022-08-27T04:13:38.353Z"
   },
   {
    "duration": 236,
    "start_time": "2022-08-27T04:13:51.784Z"
   },
   {
    "duration": 4,
    "start_time": "2022-08-27T04:14:12.223Z"
   },
   {
    "duration": 259,
    "start_time": "2022-08-27T04:14:20.603Z"
   },
   {
    "duration": 268,
    "start_time": "2022-08-27T04:14:30.472Z"
   },
   {
    "duration": 278,
    "start_time": "2022-08-27T04:15:49.681Z"
   },
   {
    "duration": 268,
    "start_time": "2022-08-27T04:16:00.078Z"
   },
   {
    "duration": 279,
    "start_time": "2022-08-27T04:16:19.680Z"
   },
   {
    "duration": 2492,
    "start_time": "2022-08-27T04:26:49.876Z"
   },
   {
    "duration": 6,
    "start_time": "2022-08-27T04:26:52.371Z"
   },
   {
    "duration": 97,
    "start_time": "2022-08-27T04:26:52.379Z"
   },
   {
    "duration": 13,
    "start_time": "2022-08-27T04:26:52.478Z"
   },
   {
    "duration": 9,
    "start_time": "2022-08-27T04:26:52.493Z"
   },
   {
    "duration": 11,
    "start_time": "2022-08-27T04:26:52.503Z"
   },
   {
    "duration": 42,
    "start_time": "2022-08-27T04:26:52.516Z"
   },
   {
    "duration": 7,
    "start_time": "2022-08-27T04:26:52.560Z"
   },
   {
    "duration": 6,
    "start_time": "2022-08-27T04:26:52.568Z"
   },
   {
    "duration": 7,
    "start_time": "2022-08-27T04:26:52.575Z"
   },
   {
    "duration": 6,
    "start_time": "2022-08-27T04:26:52.583Z"
   },
   {
    "duration": 5,
    "start_time": "2022-08-27T04:26:52.590Z"
   },
   {
    "duration": 354,
    "start_time": "2022-08-27T04:26:52.609Z"
   },
   {
    "duration": 306,
    "start_time": "2022-08-27T04:26:52.967Z"
   },
   {
    "duration": 5,
    "start_time": "2022-08-27T04:26:53.274Z"
   },
   {
    "duration": 7,
    "start_time": "2022-08-27T04:26:53.280Z"
   },
   {
    "duration": 34,
    "start_time": "2022-08-27T04:26:53.288Z"
   },
   {
    "duration": 8,
    "start_time": "2022-08-27T04:26:53.324Z"
   },
   {
    "duration": 12,
    "start_time": "2022-08-27T04:26:53.334Z"
   },
   {
    "duration": 5,
    "start_time": "2022-08-27T04:26:53.348Z"
   },
   {
    "duration": 56,
    "start_time": "2022-08-27T04:26:53.354Z"
   },
   {
    "duration": 23313,
    "start_time": "2022-08-27T04:26:53.412Z"
   },
   {
    "duration": 387,
    "start_time": "2022-08-27T04:27:16.726Z"
   },
   {
    "duration": 5,
    "start_time": "2022-08-27T04:27:17.116Z"
   },
   {
    "duration": 31,
    "start_time": "2022-08-27T04:27:17.124Z"
   },
   {
    "duration": 13,
    "start_time": "2022-08-27T04:27:17.157Z"
   },
   {
    "duration": 285,
    "start_time": "2022-08-27T04:27:17.172Z"
   },
   {
    "duration": 274,
    "start_time": "2022-08-27T04:27:17.459Z"
   },
   {
    "duration": 2394,
    "start_time": "2022-08-27T04:28:30.277Z"
   },
   {
    "duration": 5,
    "start_time": "2022-08-27T04:28:32.673Z"
   },
   {
    "duration": 65,
    "start_time": "2022-08-27T04:28:32.680Z"
   },
   {
    "duration": 13,
    "start_time": "2022-08-27T04:28:32.747Z"
   },
   {
    "duration": 6,
    "start_time": "2022-08-27T04:28:32.763Z"
   },
   {
    "duration": 8,
    "start_time": "2022-08-27T04:28:32.772Z"
   },
   {
    "duration": 47,
    "start_time": "2022-08-27T04:28:32.782Z"
   },
   {
    "duration": 8,
    "start_time": "2022-08-27T04:28:32.831Z"
   },
   {
    "duration": 7,
    "start_time": "2022-08-27T04:28:32.841Z"
   },
   {
    "duration": 4,
    "start_time": "2022-08-27T04:28:32.850Z"
   },
   {
    "duration": 5,
    "start_time": "2022-08-27T04:28:32.856Z"
   },
   {
    "duration": 7,
    "start_time": "2022-08-27T04:28:32.864Z"
   },
   {
    "duration": 368,
    "start_time": "2022-08-27T04:28:32.873Z"
   },
   {
    "duration": 308,
    "start_time": "2022-08-27T04:28:33.245Z"
   },
   {
    "duration": 6,
    "start_time": "2022-08-27T04:28:33.556Z"
   },
   {
    "duration": 5,
    "start_time": "2022-08-27T04:28:33.564Z"
   },
   {
    "duration": 17,
    "start_time": "2022-08-27T04:28:33.571Z"
   },
   {
    "duration": 26,
    "start_time": "2022-08-27T04:28:33.590Z"
   },
   {
    "duration": 26,
    "start_time": "2022-08-27T04:28:33.618Z"
   },
   {
    "duration": 3,
    "start_time": "2022-08-27T04:28:33.646Z"
   },
   {
    "duration": 14,
    "start_time": "2022-08-27T04:28:33.651Z"
   },
   {
    "duration": 19388,
    "start_time": "2022-08-27T04:28:33.713Z"
   },
   {
    "duration": 437,
    "start_time": "2022-08-27T04:28:53.103Z"
   },
   {
    "duration": 3,
    "start_time": "2022-08-27T04:28:53.542Z"
   },
   {
    "duration": 13,
    "start_time": "2022-08-27T04:28:53.547Z"
   },
   {
    "duration": 9,
    "start_time": "2022-08-27T04:28:53.562Z"
   },
   {
    "duration": 274,
    "start_time": "2022-08-27T04:28:53.573Z"
   },
   {
    "duration": 256,
    "start_time": "2022-08-27T04:28:53.849Z"
   },
   {
    "duration": 16,
    "start_time": "2022-08-27T04:35:15.824Z"
   },
   {
    "duration": 18,
    "start_time": "2022-08-27T04:35:52.238Z"
   },
   {
    "duration": 2450,
    "start_time": "2022-08-27T04:36:02.648Z"
   },
   {
    "duration": 5,
    "start_time": "2022-08-27T04:36:05.101Z"
   },
   {
    "duration": 67,
    "start_time": "2022-08-27T04:36:05.108Z"
   },
   {
    "duration": 13,
    "start_time": "2022-08-27T04:36:05.177Z"
   },
   {
    "duration": 6,
    "start_time": "2022-08-27T04:36:05.192Z"
   },
   {
    "duration": 27,
    "start_time": "2022-08-27T04:36:05.200Z"
   },
   {
    "duration": 73,
    "start_time": "2022-08-27T04:36:05.228Z"
   },
   {
    "duration": 20,
    "start_time": "2022-08-27T04:36:05.302Z"
   },
   {
    "duration": 17,
    "start_time": "2022-08-27T04:36:05.324Z"
   },
   {
    "duration": 8,
    "start_time": "2022-08-27T04:36:05.345Z"
   },
   {
    "duration": 6,
    "start_time": "2022-08-27T04:36:05.355Z"
   },
   {
    "duration": 7,
    "start_time": "2022-08-27T04:36:05.364Z"
   },
   {
    "duration": 365,
    "start_time": "2022-08-27T04:36:05.372Z"
   },
   {
    "duration": 337,
    "start_time": "2022-08-27T04:36:05.739Z"
   },
   {
    "duration": 5,
    "start_time": "2022-08-27T04:36:06.077Z"
   },
   {
    "duration": 10,
    "start_time": "2022-08-27T04:36:06.084Z"
   },
   {
    "duration": 30,
    "start_time": "2022-08-27T04:36:06.095Z"
   },
   {
    "duration": 8,
    "start_time": "2022-08-27T04:36:06.127Z"
   },
   {
    "duration": 14,
    "start_time": "2022-08-27T04:36:06.137Z"
   },
   {
    "duration": 4,
    "start_time": "2022-08-27T04:36:06.153Z"
   },
   {
    "duration": 51,
    "start_time": "2022-08-27T04:36:06.159Z"
   },
   {
    "duration": 114,
    "start_time": "2022-08-27T04:36:06.216Z"
   },
   {
    "duration": 19607,
    "start_time": "2022-08-27T04:36:06.331Z"
   },
   {
    "duration": 485,
    "start_time": "2022-08-27T04:36:25.940Z"
   },
   {
    "duration": 4,
    "start_time": "2022-08-27T04:36:26.428Z"
   },
   {
    "duration": 14,
    "start_time": "2022-08-27T04:36:26.433Z"
   },
   {
    "duration": 228,
    "start_time": "2022-08-27T04:36:26.449Z"
   },
   {
    "duration": 276,
    "start_time": "2022-08-27T04:36:26.680Z"
   },
   {
    "duration": 2394,
    "start_time": "2022-08-27T04:37:36.827Z"
   },
   {
    "duration": 4,
    "start_time": "2022-08-27T04:37:39.224Z"
   },
   {
    "duration": 52,
    "start_time": "2022-08-27T04:37:39.230Z"
   },
   {
    "duration": 10,
    "start_time": "2022-08-27T04:37:39.284Z"
   },
   {
    "duration": 6,
    "start_time": "2022-08-27T04:37:39.296Z"
   },
   {
    "duration": 8,
    "start_time": "2022-08-27T04:37:39.304Z"
   },
   {
    "duration": 42,
    "start_time": "2022-08-27T04:37:39.314Z"
   },
   {
    "duration": 7,
    "start_time": "2022-08-27T04:37:39.357Z"
   },
   {
    "duration": 4,
    "start_time": "2022-08-27T04:37:39.366Z"
   },
   {
    "duration": 6,
    "start_time": "2022-08-27T04:37:39.371Z"
   },
   {
    "duration": 4,
    "start_time": "2022-08-27T04:37:39.380Z"
   },
   {
    "duration": 5,
    "start_time": "2022-08-27T04:37:39.386Z"
   },
   {
    "duration": 350,
    "start_time": "2022-08-27T04:37:39.392Z"
   },
   {
    "duration": 308,
    "start_time": "2022-08-27T04:37:39.746Z"
   },
   {
    "duration": 5,
    "start_time": "2022-08-27T04:37:40.057Z"
   },
   {
    "duration": 6,
    "start_time": "2022-08-27T04:37:40.064Z"
   },
   {
    "duration": 38,
    "start_time": "2022-08-27T04:37:40.072Z"
   },
   {
    "duration": 11,
    "start_time": "2022-08-27T04:37:40.114Z"
   },
   {
    "duration": 15,
    "start_time": "2022-08-27T04:37:40.127Z"
   },
   {
    "duration": 4,
    "start_time": "2022-08-27T04:37:40.144Z"
   },
   {
    "duration": 64,
    "start_time": "2022-08-27T04:37:40.150Z"
   },
   {
    "duration": 122,
    "start_time": "2022-08-27T04:37:40.216Z"
   },
   {
    "duration": 18995,
    "start_time": "2022-08-27T04:37:40.340Z"
   },
   {
    "duration": 487,
    "start_time": "2022-08-27T04:37:59.337Z"
   },
   {
    "duration": 4,
    "start_time": "2022-08-27T04:37:59.825Z"
   },
   {
    "duration": 16,
    "start_time": "2022-08-27T04:37:59.830Z"
   },
   {
    "duration": 235,
    "start_time": "2022-08-27T04:37:59.847Z"
   },
   {
    "duration": 275,
    "start_time": "2022-08-27T04:38:00.083Z"
   },
   {
    "duration": 2397,
    "start_time": "2022-08-27T04:38:34.572Z"
   },
   {
    "duration": 5,
    "start_time": "2022-08-27T04:38:36.971Z"
   },
   {
    "duration": 62,
    "start_time": "2022-08-27T04:38:36.977Z"
   },
   {
    "duration": 13,
    "start_time": "2022-08-27T04:38:37.041Z"
   },
   {
    "duration": 6,
    "start_time": "2022-08-27T04:38:37.056Z"
   },
   {
    "duration": 7,
    "start_time": "2022-08-27T04:38:37.064Z"
   },
   {
    "duration": 56,
    "start_time": "2022-08-27T04:38:37.073Z"
   },
   {
    "duration": 10,
    "start_time": "2022-08-27T04:38:37.132Z"
   },
   {
    "duration": 10,
    "start_time": "2022-08-27T04:38:37.144Z"
   },
   {
    "duration": 9,
    "start_time": "2022-08-27T04:38:37.158Z"
   },
   {
    "duration": 15,
    "start_time": "2022-08-27T04:38:37.168Z"
   },
   {
    "duration": 9,
    "start_time": "2022-08-27T04:38:37.185Z"
   },
   {
    "duration": 385,
    "start_time": "2022-08-27T04:38:37.196Z"
   },
   {
    "duration": 314,
    "start_time": "2022-08-27T04:38:37.583Z"
   },
   {
    "duration": 12,
    "start_time": "2022-08-27T04:38:37.900Z"
   },
   {
    "duration": 14,
    "start_time": "2022-08-27T04:38:37.914Z"
   },
   {
    "duration": 17,
    "start_time": "2022-08-27T04:38:37.930Z"
   },
   {
    "duration": 7,
    "start_time": "2022-08-27T04:38:37.949Z"
   },
   {
    "duration": 14,
    "start_time": "2022-08-27T04:38:37.957Z"
   },
   {
    "duration": 3,
    "start_time": "2022-08-27T04:38:37.973Z"
   },
   {
    "duration": 16,
    "start_time": "2022-08-27T04:38:38.010Z"
   },
   {
    "duration": 215,
    "start_time": "2022-08-27T04:38:38.028Z"
   },
   {
    "duration": 21460,
    "start_time": "2022-08-27T04:38:38.245Z"
   },
   {
    "duration": 476,
    "start_time": "2022-08-27T04:38:59.706Z"
   },
   {
    "duration": 3,
    "start_time": "2022-08-27T04:39:00.184Z"
   },
   {
    "duration": 15,
    "start_time": "2022-08-27T04:39:00.189Z"
   },
   {
    "duration": 247,
    "start_time": "2022-08-27T04:39:00.206Z"
   },
   {
    "duration": 282,
    "start_time": "2022-08-27T04:39:00.457Z"
   },
   {
    "duration": 761,
    "start_time": "2022-08-27T04:39:21.526Z"
   },
   {
    "duration": 4,
    "start_time": "2022-08-27T04:39:25.324Z"
   },
   {
    "duration": 12,
    "start_time": "2022-08-27T04:39:25.989Z"
   },
   {
    "duration": 288,
    "start_time": "2022-08-27T04:39:27.104Z"
   },
   {
    "duration": 33267,
    "start_time": "2022-08-27T04:40:00.481Z"
   },
   {
    "duration": 2393,
    "start_time": "2022-08-27T04:40:58.369Z"
   },
   {
    "duration": 4,
    "start_time": "2022-08-27T04:41:00.766Z"
   },
   {
    "duration": 97,
    "start_time": "2022-08-27T04:41:00.772Z"
   },
   {
    "duration": 13,
    "start_time": "2022-08-27T04:41:00.871Z"
   },
   {
    "duration": 39,
    "start_time": "2022-08-27T04:41:00.886Z"
   },
   {
    "duration": 29,
    "start_time": "2022-08-27T04:41:00.927Z"
   },
   {
    "duration": 84,
    "start_time": "2022-08-27T04:41:00.958Z"
   },
   {
    "duration": 9,
    "start_time": "2022-08-27T04:41:01.043Z"
   },
   {
    "duration": 42,
    "start_time": "2022-08-27T04:41:01.053Z"
   },
   {
    "duration": 95,
    "start_time": "2022-08-27T04:41:01.099Z"
   },
   {
    "duration": 37,
    "start_time": "2022-08-27T04:41:01.196Z"
   },
   {
    "duration": 26,
    "start_time": "2022-08-27T04:41:01.235Z"
   },
   {
    "duration": 418,
    "start_time": "2022-08-27T04:41:01.263Z"
   },
   {
    "duration": 345,
    "start_time": "2022-08-27T04:41:01.683Z"
   },
   {
    "duration": 5,
    "start_time": "2022-08-27T04:41:02.030Z"
   },
   {
    "duration": 30,
    "start_time": "2022-08-27T04:41:02.037Z"
   },
   {
    "duration": 29,
    "start_time": "2022-08-27T04:41:02.070Z"
   },
   {
    "duration": 11,
    "start_time": "2022-08-27T04:41:02.102Z"
   },
   {
    "duration": 23,
    "start_time": "2022-08-27T04:41:02.115Z"
   },
   {
    "duration": 24,
    "start_time": "2022-08-27T04:41:02.140Z"
   },
   {
    "duration": 30,
    "start_time": "2022-08-27T04:41:02.166Z"
   },
   {
    "duration": 147,
    "start_time": "2022-08-27T04:41:02.211Z"
   },
   {
    "duration": 33011,
    "start_time": "2022-08-27T04:41:02.361Z"
   },
   {
    "duration": 731,
    "start_time": "2022-08-27T04:41:35.374Z"
   },
   {
    "duration": 6,
    "start_time": "2022-08-27T04:41:36.107Z"
   },
   {
    "duration": 23,
    "start_time": "2022-08-27T04:41:36.115Z"
   },
   {
    "duration": 234,
    "start_time": "2022-08-27T04:41:36.140Z"
   },
   {
    "duration": 268,
    "start_time": "2022-08-27T04:41:36.377Z"
   },
   {
    "duration": 21,
    "start_time": "2022-08-27T04:42:25.245Z"
   },
   {
    "duration": 2369,
    "start_time": "2022-08-27T04:42:27.879Z"
   },
   {
    "duration": 5,
    "start_time": "2022-08-27T04:42:30.251Z"
   },
   {
    "duration": 80,
    "start_time": "2022-08-27T04:42:30.258Z"
   },
   {
    "duration": 11,
    "start_time": "2022-08-27T04:42:30.341Z"
   },
   {
    "duration": 16,
    "start_time": "2022-08-27T04:42:30.354Z"
   },
   {
    "duration": 21,
    "start_time": "2022-08-27T04:42:30.372Z"
   },
   {
    "duration": 50,
    "start_time": "2022-08-27T04:42:30.395Z"
   },
   {
    "duration": 12,
    "start_time": "2022-08-27T04:42:30.448Z"
   },
   {
    "duration": 26,
    "start_time": "2022-08-27T04:42:30.461Z"
   },
   {
    "duration": 13,
    "start_time": "2022-08-27T04:42:30.490Z"
   },
   {
    "duration": 38,
    "start_time": "2022-08-27T04:42:30.505Z"
   },
   {
    "duration": 17,
    "start_time": "2022-08-27T04:42:30.545Z"
   },
   {
    "duration": 387,
    "start_time": "2022-08-27T04:42:30.563Z"
   },
   {
    "duration": 335,
    "start_time": "2022-08-27T04:42:30.951Z"
   },
   {
    "duration": 4,
    "start_time": "2022-08-27T04:42:31.288Z"
   },
   {
    "duration": 38,
    "start_time": "2022-08-27T04:42:31.294Z"
   },
   {
    "duration": 38,
    "start_time": "2022-08-27T04:42:31.334Z"
   },
   {
    "duration": 9,
    "start_time": "2022-08-27T04:42:31.374Z"
   },
   {
    "duration": 16,
    "start_time": "2022-08-27T04:42:31.384Z"
   },
   {
    "duration": 4,
    "start_time": "2022-08-27T04:42:31.401Z"
   },
   {
    "duration": 116,
    "start_time": "2022-08-27T04:42:31.406Z"
   },
   {
    "duration": 130,
    "start_time": "2022-08-27T04:42:31.525Z"
   },
   {
    "duration": 38156,
    "start_time": "2022-08-27T04:42:31.657Z"
   },
   {
    "duration": 1130,
    "start_time": "2022-08-27T04:43:09.817Z"
   },
   {
    "duration": 4,
    "start_time": "2022-08-27T04:43:10.948Z"
   },
   {
    "duration": 22,
    "start_time": "2022-08-27T04:43:10.953Z"
   },
   {
    "duration": 267,
    "start_time": "2022-08-27T04:43:10.978Z"
   },
   {
    "duration": 276,
    "start_time": "2022-08-27T04:43:11.249Z"
   },
   {
    "duration": 2132,
    "start_time": "2022-08-28T03:30:19.755Z"
   },
   {
    "duration": 1534,
    "start_time": "2022-08-28T03:30:21.889Z"
   },
   {
    "duration": 195,
    "start_time": "2022-08-28T03:30:23.424Z"
   },
   {
    "duration": 9,
    "start_time": "2022-08-28T03:30:23.621Z"
   },
   {
    "duration": 7,
    "start_time": "2022-08-28T03:30:23.631Z"
   },
   {
    "duration": 6,
    "start_time": "2022-08-28T03:30:23.639Z"
   },
   {
    "duration": 26,
    "start_time": "2022-08-28T03:30:23.647Z"
   },
   {
    "duration": 10,
    "start_time": "2022-08-28T03:30:23.674Z"
   },
   {
    "duration": 3,
    "start_time": "2022-08-28T03:30:23.686Z"
   },
   {
    "duration": 4,
    "start_time": "2022-08-28T03:30:23.692Z"
   },
   {
    "duration": 4,
    "start_time": "2022-08-28T03:30:23.698Z"
   },
   {
    "duration": 4,
    "start_time": "2022-08-28T03:30:23.704Z"
   },
   {
    "duration": 347,
    "start_time": "2022-08-28T03:30:23.709Z"
   },
   {
    "duration": 269,
    "start_time": "2022-08-28T03:30:24.057Z"
   },
   {
    "duration": 4,
    "start_time": "2022-08-28T03:30:24.328Z"
   },
   {
    "duration": 7,
    "start_time": "2022-08-28T03:30:24.334Z"
   },
   {
    "duration": 24,
    "start_time": "2022-08-28T03:30:24.343Z"
   },
   {
    "duration": 23,
    "start_time": "2022-08-28T03:30:24.368Z"
   },
   {
    "duration": 17,
    "start_time": "2022-08-28T03:30:24.392Z"
   },
   {
    "duration": 40,
    "start_time": "2022-08-28T03:30:24.411Z"
   },
   {
    "duration": 138,
    "start_time": "2022-08-28T03:30:24.453Z"
   },
   {
    "duration": 132,
    "start_time": "2022-08-28T03:30:24.595Z"
   },
   {
    "duration": 36506,
    "start_time": "2022-08-28T03:30:24.728Z"
   },
   {
    "duration": 911,
    "start_time": "2022-08-28T03:31:01.236Z"
   },
   {
    "duration": 3,
    "start_time": "2022-08-28T03:31:02.149Z"
   },
   {
    "duration": 13,
    "start_time": "2022-08-28T03:31:02.154Z"
   },
   {
    "duration": 231,
    "start_time": "2022-08-28T03:31:02.169Z"
   },
   {
    "duration": 217,
    "start_time": "2022-08-28T03:31:02.404Z"
   },
   {
    "duration": 113,
    "start_time": "2022-08-28T03:40:46.819Z"
   },
   {
    "duration": 5,
    "start_time": "2022-08-28T03:45:33.085Z"
   },
   {
    "duration": 8,
    "start_time": "2022-08-28T03:46:21.013Z"
   },
   {
    "duration": 1856,
    "start_time": "2022-08-28T03:48:10.558Z"
   },
   {
    "duration": 3,
    "start_time": "2022-08-28T03:48:12.416Z"
   },
   {
    "duration": 50,
    "start_time": "2022-08-28T03:48:12.421Z"
   },
   {
    "duration": 11,
    "start_time": "2022-08-28T03:48:12.473Z"
   },
   {
    "duration": 6,
    "start_time": "2022-08-28T03:48:12.485Z"
   },
   {
    "duration": 6,
    "start_time": "2022-08-28T03:48:12.493Z"
   },
   {
    "duration": 34,
    "start_time": "2022-08-28T03:48:12.501Z"
   },
   {
    "duration": 7,
    "start_time": "2022-08-28T03:48:12.536Z"
   },
   {
    "duration": 3,
    "start_time": "2022-08-28T03:48:12.544Z"
   },
   {
    "duration": 4,
    "start_time": "2022-08-28T03:48:12.549Z"
   },
   {
    "duration": 5,
    "start_time": "2022-08-28T03:48:12.555Z"
   },
   {
    "duration": 23,
    "start_time": "2022-08-28T03:48:12.562Z"
   },
   {
    "duration": 332,
    "start_time": "2022-08-28T03:48:12.586Z"
   },
   {
    "duration": 253,
    "start_time": "2022-08-28T03:48:12.921Z"
   },
   {
    "duration": 10,
    "start_time": "2022-08-28T03:48:13.175Z"
   },
   {
    "duration": 3,
    "start_time": "2022-08-28T03:48:13.187Z"
   },
   {
    "duration": 24,
    "start_time": "2022-08-28T03:48:13.192Z"
   },
   {
    "duration": 7,
    "start_time": "2022-08-28T03:48:13.218Z"
   },
   {
    "duration": 12,
    "start_time": "2022-08-28T03:48:13.226Z"
   },
   {
    "duration": 3,
    "start_time": "2022-08-28T03:48:13.239Z"
   },
   {
    "duration": 143,
    "start_time": "2022-08-28T03:48:13.243Z"
   },
   {
    "duration": 124,
    "start_time": "2022-08-28T03:48:13.388Z"
   },
   {
    "duration": 35880,
    "start_time": "2022-08-28T03:48:13.513Z"
   },
   {
    "duration": 7,
    "start_time": "2022-08-28T03:48:49.395Z"
   },
   {
    "duration": 589,
    "start_time": "2022-08-28T03:48:49.403Z"
   },
   {
    "duration": 17,
    "start_time": "2022-08-28T03:48:49.994Z"
   },
   {
    "duration": 0,
    "start_time": "2022-08-28T03:48:50.013Z"
   },
   {
    "duration": 0,
    "start_time": "2022-08-28T03:48:50.014Z"
   },
   {
    "duration": 0,
    "start_time": "2022-08-28T03:48:50.015Z"
   },
   {
    "duration": 44,
    "start_time": "2022-08-28T03:50:00.182Z"
   },
   {
    "duration": 4,
    "start_time": "2022-08-28T03:50:09.408Z"
   },
   {
    "duration": 31,
    "start_time": "2022-08-28T03:50:09.977Z"
   },
   {
    "duration": 961,
    "start_time": "2022-08-28T03:50:16.937Z"
   },
   {
    "duration": 1939,
    "start_time": "2022-08-28T03:50:23.091Z"
   },
   {
    "duration": 5,
    "start_time": "2022-08-28T03:50:25.032Z"
   },
   {
    "duration": 58,
    "start_time": "2022-08-28T03:50:25.039Z"
   },
   {
    "duration": 10,
    "start_time": "2022-08-28T03:50:25.099Z"
   },
   {
    "duration": 8,
    "start_time": "2022-08-28T03:50:25.111Z"
   },
   {
    "duration": 7,
    "start_time": "2022-08-28T03:50:25.120Z"
   },
   {
    "duration": 32,
    "start_time": "2022-08-28T03:50:25.128Z"
   },
   {
    "duration": 27,
    "start_time": "2022-08-28T03:50:25.161Z"
   },
   {
    "duration": 5,
    "start_time": "2022-08-28T03:50:25.190Z"
   },
   {
    "duration": 4,
    "start_time": "2022-08-28T03:50:25.198Z"
   },
   {
    "duration": 5,
    "start_time": "2022-08-28T03:50:25.204Z"
   },
   {
    "duration": 5,
    "start_time": "2022-08-28T03:50:25.211Z"
   },
   {
    "duration": 311,
    "start_time": "2022-08-28T03:50:25.217Z"
   },
   {
    "duration": 267,
    "start_time": "2022-08-28T03:50:25.530Z"
   },
   {
    "duration": 4,
    "start_time": "2022-08-28T03:50:25.799Z"
   },
   {
    "duration": 7,
    "start_time": "2022-08-28T03:50:25.805Z"
   },
   {
    "duration": 24,
    "start_time": "2022-08-28T03:50:25.813Z"
   },
   {
    "duration": 9,
    "start_time": "2022-08-28T03:50:25.838Z"
   },
   {
    "duration": 42,
    "start_time": "2022-08-28T03:50:25.849Z"
   },
   {
    "duration": 4,
    "start_time": "2022-08-28T03:50:25.893Z"
   },
   {
    "duration": 96,
    "start_time": "2022-08-28T03:50:25.898Z"
   },
   {
    "duration": 128,
    "start_time": "2022-08-28T03:50:26.086Z"
   },
   {
    "duration": 36575,
    "start_time": "2022-08-28T03:50:26.216Z"
   },
   {
    "duration": 6,
    "start_time": "2022-08-28T03:51:02.793Z"
   },
   {
    "duration": 35,
    "start_time": "2022-08-28T03:51:02.800Z"
   },
   {
    "duration": 1005,
    "start_time": "2022-08-28T03:51:02.838Z"
   },
   {
    "duration": 140,
    "start_time": "2022-08-28T03:51:03.845Z"
   },
   {
    "duration": 9,
    "start_time": "2022-08-28T03:51:03.989Z"
   },
   {
    "duration": 302,
    "start_time": "2022-08-28T03:51:04.000Z"
   },
   {
    "duration": 240,
    "start_time": "2022-08-28T03:51:04.303Z"
   }
  ],
  "kernelspec": {
   "display_name": "Python 3 (ipykernel)",
   "language": "python",
   "name": "python3"
  },
  "language_info": {
   "codemirror_mode": {
    "name": "ipython",
    "version": 3
   },
   "file_extension": ".py",
   "mimetype": "text/x-python",
   "name": "python",
   "nbconvert_exporter": "python",
   "pygments_lexer": "ipython3",
   "version": "3.9.13"
  },
  "toc": {
   "base_numbering": 1,
   "nav_menu": {},
   "number_sections": true,
   "sideBar": true,
   "skip_h1_title": true,
   "title_cell": "Содержание",
   "title_sidebar": "Contents",
   "toc_cell": true,
   "toc_position": {},
   "toc_section_display": true,
   "toc_window_display": false
  }
 },
 "nbformat": 4,
 "nbformat_minor": 2
}
