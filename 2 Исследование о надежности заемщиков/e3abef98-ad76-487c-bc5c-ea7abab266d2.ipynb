{
 "cells": [
  {
   "cell_type": "markdown",
   "id": "a0367a7e",
   "metadata": {},
   "source": [
    "# Исследование надежности заемщиков.\n",
    "Задачи исследования:\n",
    "\n",
    "1: Есть ли зависимость между количеством детей и возвратом кредита в срок?\n",
    "\n",
    "2: Есть ли зависимость между семейным положением и возвратом кредита в срок?\n",
    "\n",
    "3: В основном доход указывают от 50.000 - 1.000.000,однозначно те кто указывают доход менее 200.000 чаще просрачивают платежи.\n",
    "\n",
    "4: Покупатели недвижимости в кредит на первом месте по своевременным платежам,на втором те кто решили сыграть свадьбу. Те кто покупает авто или идут учиться менее надежны."
   ]
  },
  {
   "cell_type": "markdown",
   "id": "e041b254",
   "metadata": {},
   "source": [
    "### Шаг 1. Обзор данных"
   ]
  },
  {
   "cell_type": "code",
   "execution_count": 2,
   "id": "e455e968",
   "metadata": {
    "scrolled": false
   },
   "outputs": [],
   "source": [
    "import pandas as pd"
   ]
  },
  {
   "cell_type": "code",
   "execution_count": null,
   "id": "a4b93c1d",
   "metadata": {},
   "outputs": [],
   "source": [
    "df = pd.read_csv('data.csv')\n",
    "display(df)"
   ]
  },
  {
   "cell_type": "code",
   "execution_count": 26,
   "id": "bf0cca54",
   "metadata": {},
   "outputs": [
    {
     "name": "stdout",
     "output_type": "stream",
     "text": [
      "<class 'pandas.core.frame.DataFrame'>\n",
      "RangeIndex: 21525 entries, 0 to 21524\n",
      "Data columns (total 12 columns):\n",
      " #   Column            Non-Null Count  Dtype  \n",
      "---  ------            --------------  -----  \n",
      " 0   children          21525 non-null  int64  \n",
      " 1   days_employed     19351 non-null  float64\n",
      " 2   dob_years         21525 non-null  int64  \n",
      " 3   education         21525 non-null  object \n",
      " 4   education_id      21525 non-null  int64  \n",
      " 5   family_status     21525 non-null  object \n",
      " 6   family_status_id  21525 non-null  int64  \n",
      " 7   gender            21525 non-null  object \n",
      " 8   income_type       21525 non-null  object \n",
      " 9   debt              21525 non-null  int64  \n",
      " 10  total_income      19351 non-null  float64\n",
      " 11  purpose           21525 non-null  object \n",
      "dtypes: float64(2), int64(5), object(5)\n",
      "memory usage: 2.0+ MB\n"
     ]
    }
   ],
   "source": [
    "df.info()"
   ]
  },
  {
   "cell_type": "markdown",
   "id": "daff16f2",
   "metadata": {},
   "source": [
    "<div class=\"alert alert-info\" role=\"alert\">\n",
    "Сразу заметны проблемы в данных таблицы:\n",
    "минусовые значения в стаже,\n",
    "    в некоторых случаях люди столько не живут в образовании,\n",
    "разный регистр,\n",
    "неявные дубликаты в целях\n",
    "</div>"
   ]
  },
  {
   "cell_type": "markdown",
   "id": "96416e4c",
   "metadata": {},
   "source": [
    "### Шаг 2.1 Заполнение пропусков"
   ]
  },
  {
   "cell_type": "code",
   "execution_count": 27,
   "id": "3c759eeb",
   "metadata": {
    "scrolled": true
   },
   "outputs": [
    {
     "data": {
      "text/plain": [
       "children               0\n",
       "days_employed       2174\n",
       "dob_years              0\n",
       "education              0\n",
       "education_id           0\n",
       "family_status          0\n",
       "family_status_id       0\n",
       "gender                 0\n",
       "income_type            0\n",
       "debt                   0\n",
       "total_income        2174\n",
       "purpose                0\n",
       "dtype: int64"
      ]
     },
     "execution_count": 27,
     "metadata": {},
     "output_type": "execute_result"
    }
   ],
   "source": [
    "df.isna().sum()"
   ]
  },
  {
   "cell_type": "code",
   "execution_count": 28,
   "id": "5afb4e50",
   "metadata": {},
   "outputs": [],
   "source": [
    " part_incom_missed = df['total_income'].isna().sum() / len(df)"
   ]
  },
  {
   "cell_type": "markdown",
   "id": "17f1514a",
   "metadata": {},
   "source": [
    "<div class=\"alert alert-info\" role=\"alert\">\n",
    "Найдены случаи пропуска данных в указаных доходах\n",
    "Их доля составила: 0.10\n",
    "</div>"
   ]
  },
  {
   "cell_type": "code",
   "execution_count": 29,
   "id": "6f1192fe",
   "metadata": {},
   "outputs": [
    {
     "data": {
      "text/plain": [
       "children               0\n",
       "days_employed       2174\n",
       "dob_years              0\n",
       "education              0\n",
       "education_id           0\n",
       "family_status          0\n",
       "family_status_id       0\n",
       "gender                 0\n",
       "income_type            0\n",
       "debt                   0\n",
       "total_income           0\n",
       "purpose                0\n",
       "dtype: int64"
      ]
     },
     "execution_count": 29,
     "metadata": {},
     "output_type": "execute_result"
    }
   ],
   "source": [
    "median_income = df['total_income'].median()\n",
    "df['total_income'] = df['total_income'].fillna(median_income)\n",
    "df.isna().sum()"
   ]
  },
  {
   "cell_type": "markdown",
   "id": "ecabad77",
   "metadata": {},
   "source": [
    "\n",
    "<div class=\"alert alert-info\" role=\"alert\">\n",
    "Возможно люди не сильно охотно указывают доход и место работы. \n",
    "Нас интересует показатель на каждый случай,следовательно данные заполнили медианным значением,к тому же таким образом отдельные 'чемпионы' показателей сильно не повлияют на результат.\n",
    "</div>"
   ]
  },
  {
   "cell_type": "markdown",
   "id": "d7ca5712",
   "metadata": {},
   "source": [
    "### Шаг 2.2 Проверка данных на аномалии и исправления."
   ]
  },
  {
   "cell_type": "markdown",
   "id": "51df2b9e",
   "metadata": {},
   "source": [
    "Берем названия столбцов"
   ]
  },
  {
   "cell_type": "code",
   "execution_count": 30,
   "id": "19d0f13e",
   "metadata": {
    "scrolled": false
   },
   "outputs": [
    {
     "data": {
      "text/plain": [
       "Index(['children', 'days_employed', 'dob_years', 'education', 'education_id',\n",
       "       'family_status', 'family_status_id', 'gender', 'income_type', 'debt',\n",
       "       'total_income', 'purpose'],\n",
       "      dtype='object')"
      ]
     },
     "execution_count": 30,
     "metadata": {},
     "output_type": "execute_result"
    }
   ],
   "source": [
    "df.columns"
   ]
  },
  {
   "cell_type": "markdown",
   "id": "a2dda982",
   "metadata": {},
   "source": [
    "\n",
    "<div class=\"alert alert-info\" role=\"alert\">\n",
    "Смотрим что представляют из себя значения столбцов и находим ошибки с разным регистром и отрицательными значениями.там где их не должно быть\n",
    "</div>"
   ]
  },
  {
   "cell_type": "code",
   "execution_count": 31,
   "id": "058a6f15",
   "metadata": {},
   "outputs": [
    {
     "name": "stdout",
     "output_type": "stream",
     "text": [
      "\n",
      "Уникальные значения в столбце children :\n",
      "[ 1  0  3  2 -1  4 20  5]\n",
      "----------------------------------------------------------------------------------------------------\n",
      "\n",
      "Уникальные значения в столбце days_employed :\n",
      "[-8437.67302776 -4024.80375385 -5623.42261023 ... -2113.3468877\n",
      " -3112.4817052  -1984.50758853]\n",
      "----------------------------------------------------------------------------------------------------\n",
      "\n",
      "Уникальные значения в столбце dob_years :\n",
      "[42 36 33 32 53 27 43 50 35 41 40 65 54 56 26 48 24 21 57 67 28 63 62 47\n",
      " 34 68 25 31 30 20 49 37 45 61 64 44 52 46 23 38 39 51  0 59 29 60 55 58\n",
      " 71 22 73 66 69 19 72 70 74 75]\n",
      "----------------------------------------------------------------------------------------------------\n",
      "\n",
      "Уникальные значения в столбце education :\n",
      "['высшее' 'среднее' 'Среднее' 'СРЕДНЕЕ' 'ВЫСШЕЕ' 'неоконченное высшее'\n",
      " 'начальное' 'Высшее' 'НЕОКОНЧЕННОЕ ВЫСШЕЕ' 'Неоконченное высшее'\n",
      " 'НАЧАЛЬНОЕ' 'Начальное' 'Ученая степень' 'УЧЕНАЯ СТЕПЕНЬ'\n",
      " 'ученая степень']\n",
      "----------------------------------------------------------------------------------------------------\n",
      "\n",
      "Уникальные значения в столбце education_id :\n",
      "[0 1 2 3 4]\n",
      "----------------------------------------------------------------------------------------------------\n",
      "\n",
      "Уникальные значения в столбце family_status :\n",
      "['женат / замужем' 'гражданский брак' 'вдовец / вдова' 'в разводе'\n",
      " 'Не женат / не замужем']\n",
      "----------------------------------------------------------------------------------------------------\n",
      "\n",
      "Уникальные значения в столбце family_status_id :\n",
      "[0 1 2 3 4]\n",
      "----------------------------------------------------------------------------------------------------\n",
      "\n",
      "Уникальные значения в столбце gender :\n",
      "['F' 'M' 'XNA']\n",
      "----------------------------------------------------------------------------------------------------\n",
      "\n",
      "Уникальные значения в столбце income_type :\n",
      "['сотрудник' 'пенсионер' 'компаньон' 'госслужащий' 'безработный'\n",
      " 'предприниматель' 'студент' 'в декрете']\n",
      "----------------------------------------------------------------------------------------------------\n",
      "\n",
      "Уникальные значения в столбце debt :\n",
      "[0 1]\n",
      "----------------------------------------------------------------------------------------------------\n",
      "\n",
      "Уникальные значения в столбце total_income :\n",
      "[253875.6394526  112080.01410244 145885.95229686 ...  89672.56115303\n",
      " 244093.05050043  82047.41889948]\n",
      "----------------------------------------------------------------------------------------------------\n",
      "\n",
      "Уникальные значения в столбце purpose :\n",
      "['покупка жилья' 'приобретение автомобиля' 'дополнительное образование'\n",
      " 'сыграть свадьбу' 'операции с жильем' 'образование'\n",
      " 'на проведение свадьбы' 'покупка жилья для семьи' 'покупка недвижимости'\n",
      " 'покупка коммерческой недвижимости' 'покупка жилой недвижимости'\n",
      " 'строительство собственной недвижимости' 'недвижимость'\n",
      " 'строительство недвижимости' 'на покупку подержанного автомобиля'\n",
      " 'на покупку своего автомобиля' 'операции с коммерческой недвижимостью'\n",
      " 'строительство жилой недвижимости' 'жилье'\n",
      " 'операции со своей недвижимостью' 'автомобили' 'заняться образованием'\n",
      " 'сделка с подержанным автомобилем' 'получение образования' 'автомобиль'\n",
      " 'свадьба' 'получение дополнительного образования' 'покупка своего жилья'\n",
      " 'операции с недвижимостью' 'получение высшего образования'\n",
      " 'свой автомобиль' 'сделка с автомобилем' 'профильное образование'\n",
      " 'высшее образование' 'покупка жилья для сдачи' 'на покупку автомобиля'\n",
      " 'ремонт жилью' 'заняться высшим образованием']\n",
      "----------------------------------------------------------------------------------------------------\n"
     ]
    }
   ],
   "source": [
    "columns = ['children', 'days_employed', 'dob_years', 'education', 'education_id',\n",
    "       'family_status', 'family_status_id', 'gender', 'income_type', 'debt',\n",
    "       'total_income', 'purpose']\n",
    "for column in columns:\n",
    "    print()\n",
    "    print('Уникальные значения в столбце',column,':')\n",
    "    print(df[column].unique())\n",
    "    print(100 * '-')\n",
    "    \n"
   ]
  },
  {
   "cell_type": "markdown",
   "id": "87f638e4",
   "metadata": {},
   "source": [
    "\n",
    "<div class=\"alert alert-info\" role=\"alert\">\n",
    "Переводим отрицательное значение в положительное\n",
    "</div>"
   ]
  },
  {
   "cell_type": "code",
   "execution_count": 32,
   "id": "ed31edb0",
   "metadata": {},
   "outputs": [
    {
     "data": {
      "text/plain": [
       "array([ 1,  0,  3,  2,  4, 20,  5])"
      ]
     },
     "metadata": {},
     "output_type": "display_data"
    }
   ],
   "source": [
    "df['children'] = df['children'].abs()\n",
    "df['days_employed'] = df['days_employed'].abs()\n",
    "display(df['children'].unique())\n"
   ]
  },
  {
   "cell_type": "markdown",
   "id": "d94bf7bc",
   "metadata": {},
   "source": [
    "\n",
    "<div class=\"alert alert-info\" role=\"alert\">\n",
    "Избавляемся разности регистра в значениях,проверяем результат.\n",
    "</div>"
   ]
  },
  {
   "cell_type": "code",
   "execution_count": 33,
   "id": "23f5dd22",
   "metadata": {
    "scrolled": false
   },
   "outputs": [
    {
     "data": {
      "text/plain": [
       "array(['высшее', 'среднее', 'неоконченное высшее', 'начальное',\n",
       "       'ученая степень'], dtype=object)"
      ]
     },
     "metadata": {},
     "output_type": "display_data"
    },
    {
     "data": {
      "text/plain": [
       "array(['женат / замужем', 'гражданский брак', 'вдовец / вдова',\n",
       "       'в разводе', 'не женат / не замужем'], dtype=object)"
      ]
     },
     "metadata": {},
     "output_type": "display_data"
    }
   ],
   "source": [
    "df['education'] = df['education'].str.lower()\n",
    "display(df['education'].unique())\n",
    "df['family_status'] = df['family_status'].str.lower()# Глаз режет,вот и убрал\n",
    "display(df['family_status'].unique())"
   ]
  },
  {
   "cell_type": "markdown",
   "id": "e996e51b",
   "metadata": {},
   "source": [
    "\n",
    "<div class=\"alert alert-info\" role=\"alert\">\n",
    "Заполняем медианой столбец с данными о стаже\n",
    "</div>"
   ]
  },
  {
   "cell_type": "code",
   "execution_count": 34,
   "id": "2689e95a",
   "metadata": {},
   "outputs": [],
   "source": [
    "median_days_employed = df['days_employed'].median()\n",
    "df['days_employed'] = df['days_employed'].fillna(median_income)"
   ]
  },
  {
   "cell_type": "markdown",
   "id": "406195e1",
   "metadata": {},
   "source": [
    "### Шаг 2.3. Изменение типов данных."
   ]
  },
  {
   "cell_type": "code",
   "execution_count": 35,
   "id": "6e226c29",
   "metadata": {},
   "outputs": [],
   "source": [
    "df['total_income'] = df['total_income'].astype('int')"
   ]
  },
  {
   "cell_type": "markdown",
   "id": "01502d72",
   "metadata": {},
   "source": [
    "### Шаг 2.4. Удаление дубликатов."
   ]
  },
  {
   "cell_type": "markdown",
   "id": "ceb3ff50",
   "metadata": {},
   "source": [
    "\n",
    "<div class=\"alert alert-info\" role=\"alert\">\n",
    "Удаляем оставшиеся дубликаты и проверяем\n",
    "</div>"
   ]
  },
  {
   "cell_type": "code",
   "execution_count": 36,
   "id": "e7e93a2e",
   "metadata": {},
   "outputs": [
    {
     "data": {
      "text/plain": [
       "0"
      ]
     },
     "metadata": {},
     "output_type": "display_data"
    }
   ],
   "source": [
    "df = df.drop_duplicates().reset_index(drop=True)\n",
    "display(df.duplicated().sum())"
   ]
  },
  {
   "cell_type": "markdown",
   "id": "51cd5b28",
   "metadata": {},
   "source": [
    "### Шаг 2.5. Формирование дополнительных датафреймов словарей, декомпозиция исходного датафрейма."
   ]
  },
  {
   "cell_type": "code",
   "execution_count": 37,
   "id": "3812efd2",
   "metadata": {},
   "outputs": [
    {
     "data": {
      "text/html": [
       "<div>\n",
       "<style scoped>\n",
       "    .dataframe tbody tr th:only-of-type {\n",
       "        vertical-align: middle;\n",
       "    }\n",
       "\n",
       "    .dataframe tbody tr th {\n",
       "        vertical-align: top;\n",
       "    }\n",
       "\n",
       "    .dataframe thead th {\n",
       "        text-align: right;\n",
       "    }\n",
       "</style>\n",
       "<table border=\"1\" class=\"dataframe\">\n",
       "  <thead>\n",
       "    <tr style=\"text-align: right;\">\n",
       "      <th></th>\n",
       "      <th>education</th>\n",
       "      <th>education_id</th>\n",
       "    </tr>\n",
       "  </thead>\n",
       "  <tbody>\n",
       "    <tr>\n",
       "      <th>0</th>\n",
       "      <td>высшее</td>\n",
       "      <td>0</td>\n",
       "    </tr>\n",
       "    <tr>\n",
       "      <th>1</th>\n",
       "      <td>среднее</td>\n",
       "      <td>1</td>\n",
       "    </tr>\n",
       "    <tr>\n",
       "      <th>2</th>\n",
       "      <td>неоконченное высшее</td>\n",
       "      <td>2</td>\n",
       "    </tr>\n",
       "    <tr>\n",
       "      <th>3</th>\n",
       "      <td>начальное</td>\n",
       "      <td>3</td>\n",
       "    </tr>\n",
       "    <tr>\n",
       "      <th>4</th>\n",
       "      <td>ученая степень</td>\n",
       "      <td>4</td>\n",
       "    </tr>\n",
       "  </tbody>\n",
       "</table>\n",
       "</div>"
      ],
      "text/plain": [
       "             education  education_id\n",
       "0               высшее             0\n",
       "1              среднее             1\n",
       "2  неоконченное высшее             2\n",
       "3            начальное             3\n",
       "4       ученая степень             4"
      ]
     },
     "metadata": {},
     "output_type": "display_data"
    },
    {
     "data": {
      "text/html": [
       "<div>\n",
       "<style scoped>\n",
       "    .dataframe tbody tr th:only-of-type {\n",
       "        vertical-align: middle;\n",
       "    }\n",
       "\n",
       "    .dataframe tbody tr th {\n",
       "        vertical-align: top;\n",
       "    }\n",
       "\n",
       "    .dataframe thead th {\n",
       "        text-align: right;\n",
       "    }\n",
       "</style>\n",
       "<table border=\"1\" class=\"dataframe\">\n",
       "  <thead>\n",
       "    <tr style=\"text-align: right;\">\n",
       "      <th></th>\n",
       "      <th>family_status</th>\n",
       "      <th>family_status_id</th>\n",
       "    </tr>\n",
       "  </thead>\n",
       "  <tbody>\n",
       "    <tr>\n",
       "      <th>0</th>\n",
       "      <td>женат / замужем</td>\n",
       "      <td>0</td>\n",
       "    </tr>\n",
       "    <tr>\n",
       "      <th>1</th>\n",
       "      <td>гражданский брак</td>\n",
       "      <td>1</td>\n",
       "    </tr>\n",
       "    <tr>\n",
       "      <th>2</th>\n",
       "      <td>вдовец / вдова</td>\n",
       "      <td>2</td>\n",
       "    </tr>\n",
       "    <tr>\n",
       "      <th>3</th>\n",
       "      <td>в разводе</td>\n",
       "      <td>3</td>\n",
       "    </tr>\n",
       "    <tr>\n",
       "      <th>4</th>\n",
       "      <td>не женат / не замужем</td>\n",
       "      <td>4</td>\n",
       "    </tr>\n",
       "  </tbody>\n",
       "</table>\n",
       "</div>"
      ],
      "text/plain": [
       "           family_status  family_status_id\n",
       "0        женат / замужем                 0\n",
       "1       гражданский брак                 1\n",
       "2         вдовец / вдова                 2\n",
       "3              в разводе                 3\n",
       "4  не женат / не замужем                 4"
      ]
     },
     "metadata": {},
     "output_type": "display_data"
    }
   ],
   "source": [
    "education_dict = df[['education','education_id']].copy()\n",
    "education_dict = education_dict.drop_duplicates().reset_index(drop=True)\n",
    "famaly_dict = df[['family_status','family_status_id']].copy()\n",
    "famaly_dict = famaly_dict.drop_duplicates().reset_index(drop=True)\n",
    "display(education_dict)\n",
    "display(famaly_dict)"
   ]
  },
  {
   "cell_type": "code",
   "execution_count": 38,
   "id": "9c87f8a8",
   "metadata": {},
   "outputs": [
    {
     "data": {
      "text/html": [
       "<div>\n",
       "<style scoped>\n",
       "    .dataframe tbody tr th:only-of-type {\n",
       "        vertical-align: middle;\n",
       "    }\n",
       "\n",
       "    .dataframe tbody tr th {\n",
       "        vertical-align: top;\n",
       "    }\n",
       "\n",
       "    .dataframe thead th {\n",
       "        text-align: right;\n",
       "    }\n",
       "</style>\n",
       "<table border=\"1\" class=\"dataframe\">\n",
       "  <thead>\n",
       "    <tr style=\"text-align: right;\">\n",
       "      <th></th>\n",
       "      <th>children</th>\n",
       "      <th>days_employed</th>\n",
       "      <th>dob_years</th>\n",
       "      <th>education_id</th>\n",
       "      <th>family_status_id</th>\n",
       "      <th>gender</th>\n",
       "      <th>income_type</th>\n",
       "      <th>debt</th>\n",
       "      <th>total_income</th>\n",
       "      <th>purpose</th>\n",
       "    </tr>\n",
       "  </thead>\n",
       "  <tbody>\n",
       "    <tr>\n",
       "      <th>0</th>\n",
       "      <td>1</td>\n",
       "      <td>8437.673028</td>\n",
       "      <td>42</td>\n",
       "      <td>0</td>\n",
       "      <td>0</td>\n",
       "      <td>F</td>\n",
       "      <td>сотрудник</td>\n",
       "      <td>0</td>\n",
       "      <td>253875</td>\n",
       "      <td>покупка жилья</td>\n",
       "    </tr>\n",
       "    <tr>\n",
       "      <th>1</th>\n",
       "      <td>1</td>\n",
       "      <td>4024.803754</td>\n",
       "      <td>36</td>\n",
       "      <td>1</td>\n",
       "      <td>0</td>\n",
       "      <td>F</td>\n",
       "      <td>сотрудник</td>\n",
       "      <td>0</td>\n",
       "      <td>112080</td>\n",
       "      <td>приобретение автомобиля</td>\n",
       "    </tr>\n",
       "    <tr>\n",
       "      <th>2</th>\n",
       "      <td>0</td>\n",
       "      <td>5623.422610</td>\n",
       "      <td>33</td>\n",
       "      <td>1</td>\n",
       "      <td>0</td>\n",
       "      <td>M</td>\n",
       "      <td>сотрудник</td>\n",
       "      <td>0</td>\n",
       "      <td>145885</td>\n",
       "      <td>покупка жилья</td>\n",
       "    </tr>\n",
       "    <tr>\n",
       "      <th>3</th>\n",
       "      <td>3</td>\n",
       "      <td>4124.747207</td>\n",
       "      <td>32</td>\n",
       "      <td>1</td>\n",
       "      <td>0</td>\n",
       "      <td>M</td>\n",
       "      <td>сотрудник</td>\n",
       "      <td>0</td>\n",
       "      <td>267628</td>\n",
       "      <td>дополнительное образование</td>\n",
       "    </tr>\n",
       "    <tr>\n",
       "      <th>4</th>\n",
       "      <td>0</td>\n",
       "      <td>340266.072047</td>\n",
       "      <td>53</td>\n",
       "      <td>1</td>\n",
       "      <td>1</td>\n",
       "      <td>F</td>\n",
       "      <td>пенсионер</td>\n",
       "      <td>0</td>\n",
       "      <td>158616</td>\n",
       "      <td>сыграть свадьбу</td>\n",
       "    </tr>\n",
       "    <tr>\n",
       "      <th>...</th>\n",
       "      <td>...</td>\n",
       "      <td>...</td>\n",
       "      <td>...</td>\n",
       "      <td>...</td>\n",
       "      <td>...</td>\n",
       "      <td>...</td>\n",
       "      <td>...</td>\n",
       "      <td>...</td>\n",
       "      <td>...</td>\n",
       "      <td>...</td>\n",
       "    </tr>\n",
       "    <tr>\n",
       "      <th>21449</th>\n",
       "      <td>1</td>\n",
       "      <td>4529.316663</td>\n",
       "      <td>43</td>\n",
       "      <td>1</td>\n",
       "      <td>1</td>\n",
       "      <td>F</td>\n",
       "      <td>компаньон</td>\n",
       "      <td>0</td>\n",
       "      <td>224791</td>\n",
       "      <td>операции с жильем</td>\n",
       "    </tr>\n",
       "    <tr>\n",
       "      <th>21450</th>\n",
       "      <td>0</td>\n",
       "      <td>343937.404131</td>\n",
       "      <td>67</td>\n",
       "      <td>1</td>\n",
       "      <td>0</td>\n",
       "      <td>F</td>\n",
       "      <td>пенсионер</td>\n",
       "      <td>0</td>\n",
       "      <td>155999</td>\n",
       "      <td>сделка с автомобилем</td>\n",
       "    </tr>\n",
       "    <tr>\n",
       "      <th>21451</th>\n",
       "      <td>1</td>\n",
       "      <td>2113.346888</td>\n",
       "      <td>38</td>\n",
       "      <td>1</td>\n",
       "      <td>1</td>\n",
       "      <td>M</td>\n",
       "      <td>сотрудник</td>\n",
       "      <td>1</td>\n",
       "      <td>89672</td>\n",
       "      <td>недвижимость</td>\n",
       "    </tr>\n",
       "    <tr>\n",
       "      <th>21452</th>\n",
       "      <td>3</td>\n",
       "      <td>3112.481705</td>\n",
       "      <td>38</td>\n",
       "      <td>1</td>\n",
       "      <td>0</td>\n",
       "      <td>M</td>\n",
       "      <td>сотрудник</td>\n",
       "      <td>1</td>\n",
       "      <td>244093</td>\n",
       "      <td>на покупку своего автомобиля</td>\n",
       "    </tr>\n",
       "    <tr>\n",
       "      <th>21453</th>\n",
       "      <td>2</td>\n",
       "      <td>1984.507589</td>\n",
       "      <td>40</td>\n",
       "      <td>1</td>\n",
       "      <td>0</td>\n",
       "      <td>F</td>\n",
       "      <td>сотрудник</td>\n",
       "      <td>0</td>\n",
       "      <td>82047</td>\n",
       "      <td>на покупку автомобиля</td>\n",
       "    </tr>\n",
       "  </tbody>\n",
       "</table>\n",
       "<p>21454 rows × 10 columns</p>\n",
       "</div>"
      ],
      "text/plain": [
       "       children  days_employed  dob_years  education_id  family_status_id  \\\n",
       "0             1    8437.673028         42             0                 0   \n",
       "1             1    4024.803754         36             1                 0   \n",
       "2             0    5623.422610         33             1                 0   \n",
       "3             3    4124.747207         32             1                 0   \n",
       "4             0  340266.072047         53             1                 1   \n",
       "...         ...            ...        ...           ...               ...   \n",
       "21449         1    4529.316663         43             1                 1   \n",
       "21450         0  343937.404131         67             1                 0   \n",
       "21451         1    2113.346888         38             1                 1   \n",
       "21452         3    3112.481705         38             1                 0   \n",
       "21453         2    1984.507589         40             1                 0   \n",
       "\n",
       "      gender income_type  debt  total_income                       purpose  \n",
       "0          F   сотрудник     0        253875                 покупка жилья  \n",
       "1          F   сотрудник     0        112080       приобретение автомобиля  \n",
       "2          M   сотрудник     0        145885                 покупка жилья  \n",
       "3          M   сотрудник     0        267628    дополнительное образование  \n",
       "4          F   пенсионер     0        158616               сыграть свадьбу  \n",
       "...      ...         ...   ...           ...                           ...  \n",
       "21449      F   компаньон     0        224791             операции с жильем  \n",
       "21450      F   пенсионер     0        155999          сделка с автомобилем  \n",
       "21451      M   сотрудник     1         89672                  недвижимость  \n",
       "21452      M   сотрудник     1        244093  на покупку своего автомобиля  \n",
       "21453      F   сотрудник     0         82047         на покупку автомобиля  \n",
       "\n",
       "[21454 rows x 10 columns]"
      ]
     },
     "metadata": {},
     "output_type": "display_data"
    }
   ],
   "source": [
    "df = df.drop(['family_status'], axis=1)\n",
    "df = df.drop(['education'], axis=1)\n",
    "display(df)"
   ]
  },
  {
   "cell_type": "markdown",
   "id": "08975740",
   "metadata": {},
   "source": [
    "### Шаг 2.6. Категоризация дохода."
   ]
  },
  {
   "cell_type": "code",
   "execution_count": 39,
   "id": "138a00b3",
   "metadata": {},
   "outputs": [
    {
     "data": {
      "text/html": [
       "<div>\n",
       "<style scoped>\n",
       "    .dataframe tbody tr th:only-of-type {\n",
       "        vertical-align: middle;\n",
       "    }\n",
       "\n",
       "    .dataframe tbody tr th {\n",
       "        vertical-align: top;\n",
       "    }\n",
       "\n",
       "    .dataframe thead th {\n",
       "        text-align: right;\n",
       "    }\n",
       "</style>\n",
       "<table border=\"1\" class=\"dataframe\">\n",
       "  <thead>\n",
       "    <tr style=\"text-align: right;\">\n",
       "      <th></th>\n",
       "      <th>children</th>\n",
       "      <th>days_employed</th>\n",
       "      <th>dob_years</th>\n",
       "      <th>education_id</th>\n",
       "      <th>family_status_id</th>\n",
       "      <th>gender</th>\n",
       "      <th>income_type</th>\n",
       "      <th>debt</th>\n",
       "      <th>total_income</th>\n",
       "      <th>purpose</th>\n",
       "      <th>total_income_category</th>\n",
       "    </tr>\n",
       "  </thead>\n",
       "  <tbody>\n",
       "    <tr>\n",
       "      <th>0</th>\n",
       "      <td>1</td>\n",
       "      <td>8437.673028</td>\n",
       "      <td>42</td>\n",
       "      <td>0</td>\n",
       "      <td>0</td>\n",
       "      <td>F</td>\n",
       "      <td>сотрудник</td>\n",
       "      <td>0</td>\n",
       "      <td>253875</td>\n",
       "      <td>покупка жилья</td>\n",
       "      <td>B</td>\n",
       "    </tr>\n",
       "    <tr>\n",
       "      <th>1</th>\n",
       "      <td>1</td>\n",
       "      <td>4024.803754</td>\n",
       "      <td>36</td>\n",
       "      <td>1</td>\n",
       "      <td>0</td>\n",
       "      <td>F</td>\n",
       "      <td>сотрудник</td>\n",
       "      <td>0</td>\n",
       "      <td>112080</td>\n",
       "      <td>приобретение автомобиля</td>\n",
       "      <td>C</td>\n",
       "    </tr>\n",
       "    <tr>\n",
       "      <th>2</th>\n",
       "      <td>0</td>\n",
       "      <td>5623.422610</td>\n",
       "      <td>33</td>\n",
       "      <td>1</td>\n",
       "      <td>0</td>\n",
       "      <td>M</td>\n",
       "      <td>сотрудник</td>\n",
       "      <td>0</td>\n",
       "      <td>145885</td>\n",
       "      <td>покупка жилья</td>\n",
       "      <td>C</td>\n",
       "    </tr>\n",
       "    <tr>\n",
       "      <th>3</th>\n",
       "      <td>3</td>\n",
       "      <td>4124.747207</td>\n",
       "      <td>32</td>\n",
       "      <td>1</td>\n",
       "      <td>0</td>\n",
       "      <td>M</td>\n",
       "      <td>сотрудник</td>\n",
       "      <td>0</td>\n",
       "      <td>267628</td>\n",
       "      <td>дополнительное образование</td>\n",
       "      <td>B</td>\n",
       "    </tr>\n",
       "    <tr>\n",
       "      <th>4</th>\n",
       "      <td>0</td>\n",
       "      <td>340266.072047</td>\n",
       "      <td>53</td>\n",
       "      <td>1</td>\n",
       "      <td>1</td>\n",
       "      <td>F</td>\n",
       "      <td>пенсионер</td>\n",
       "      <td>0</td>\n",
       "      <td>158616</td>\n",
       "      <td>сыграть свадьбу</td>\n",
       "      <td>C</td>\n",
       "    </tr>\n",
       "    <tr>\n",
       "      <th>...</th>\n",
       "      <td>...</td>\n",
       "      <td>...</td>\n",
       "      <td>...</td>\n",
       "      <td>...</td>\n",
       "      <td>...</td>\n",
       "      <td>...</td>\n",
       "      <td>...</td>\n",
       "      <td>...</td>\n",
       "      <td>...</td>\n",
       "      <td>...</td>\n",
       "      <td>...</td>\n",
       "    </tr>\n",
       "    <tr>\n",
       "      <th>21449</th>\n",
       "      <td>1</td>\n",
       "      <td>4529.316663</td>\n",
       "      <td>43</td>\n",
       "      <td>1</td>\n",
       "      <td>1</td>\n",
       "      <td>F</td>\n",
       "      <td>компаньон</td>\n",
       "      <td>0</td>\n",
       "      <td>224791</td>\n",
       "      <td>операции с жильем</td>\n",
       "      <td>B</td>\n",
       "    </tr>\n",
       "    <tr>\n",
       "      <th>21450</th>\n",
       "      <td>0</td>\n",
       "      <td>343937.404131</td>\n",
       "      <td>67</td>\n",
       "      <td>1</td>\n",
       "      <td>0</td>\n",
       "      <td>F</td>\n",
       "      <td>пенсионер</td>\n",
       "      <td>0</td>\n",
       "      <td>155999</td>\n",
       "      <td>сделка с автомобилем</td>\n",
       "      <td>C</td>\n",
       "    </tr>\n",
       "    <tr>\n",
       "      <th>21451</th>\n",
       "      <td>1</td>\n",
       "      <td>2113.346888</td>\n",
       "      <td>38</td>\n",
       "      <td>1</td>\n",
       "      <td>1</td>\n",
       "      <td>M</td>\n",
       "      <td>сотрудник</td>\n",
       "      <td>1</td>\n",
       "      <td>89672</td>\n",
       "      <td>недвижимость</td>\n",
       "      <td>C</td>\n",
       "    </tr>\n",
       "    <tr>\n",
       "      <th>21452</th>\n",
       "      <td>3</td>\n",
       "      <td>3112.481705</td>\n",
       "      <td>38</td>\n",
       "      <td>1</td>\n",
       "      <td>0</td>\n",
       "      <td>M</td>\n",
       "      <td>сотрудник</td>\n",
       "      <td>1</td>\n",
       "      <td>244093</td>\n",
       "      <td>на покупку своего автомобиля</td>\n",
       "      <td>B</td>\n",
       "    </tr>\n",
       "    <tr>\n",
       "      <th>21453</th>\n",
       "      <td>2</td>\n",
       "      <td>1984.507589</td>\n",
       "      <td>40</td>\n",
       "      <td>1</td>\n",
       "      <td>0</td>\n",
       "      <td>F</td>\n",
       "      <td>сотрудник</td>\n",
       "      <td>0</td>\n",
       "      <td>82047</td>\n",
       "      <td>на покупку автомобиля</td>\n",
       "      <td>C</td>\n",
       "    </tr>\n",
       "  </tbody>\n",
       "</table>\n",
       "<p>21454 rows × 11 columns</p>\n",
       "</div>"
      ],
      "text/plain": [
       "       children  days_employed  dob_years  education_id  family_status_id  \\\n",
       "0             1    8437.673028         42             0                 0   \n",
       "1             1    4024.803754         36             1                 0   \n",
       "2             0    5623.422610         33             1                 0   \n",
       "3             3    4124.747207         32             1                 0   \n",
       "4             0  340266.072047         53             1                 1   \n",
       "...         ...            ...        ...           ...               ...   \n",
       "21449         1    4529.316663         43             1                 1   \n",
       "21450         0  343937.404131         67             1                 0   \n",
       "21451         1    2113.346888         38             1                 1   \n",
       "21452         3    3112.481705         38             1                 0   \n",
       "21453         2    1984.507589         40             1                 0   \n",
       "\n",
       "      gender income_type  debt  total_income                       purpose  \\\n",
       "0          F   сотрудник     0        253875                 покупка жилья   \n",
       "1          F   сотрудник     0        112080       приобретение автомобиля   \n",
       "2          M   сотрудник     0        145885                 покупка жилья   \n",
       "3          M   сотрудник     0        267628    дополнительное образование   \n",
       "4          F   пенсионер     0        158616               сыграть свадьбу   \n",
       "...      ...         ...   ...           ...                           ...   \n",
       "21449      F   компаньон     0        224791             операции с жильем   \n",
       "21450      F   пенсионер     0        155999          сделка с автомобилем   \n",
       "21451      M   сотрудник     1         89672                  недвижимость   \n",
       "21452      M   сотрудник     1        244093  на покупку своего автомобиля   \n",
       "21453      F   сотрудник     0         82047         на покупку автомобиля   \n",
       "\n",
       "      total_income_category  \n",
       "0                         B  \n",
       "1                         C  \n",
       "2                         C  \n",
       "3                         B  \n",
       "4                         C  \n",
       "...                     ...  \n",
       "21449                     B  \n",
       "21450                     C  \n",
       "21451                     C  \n",
       "21452                     B  \n",
       "21453                     C  \n",
       "\n",
       "[21454 rows x 11 columns]"
      ]
     },
     "metadata": {},
     "output_type": "display_data"
    }
   ],
   "source": [
    "def income_group(income):\n",
    "    if income <= 30000:\n",
    "        return 'E'\n",
    "    if income <= 50000:\n",
    "        return 'D'\n",
    "    if income <= 200000:\n",
    "        return 'C'\n",
    "    if income <= 1000000:\n",
    "        return 'B'\n",
    "    if income > 1000000:\n",
    "        return 'A'\n",
    "df['total_income_category'] = df['total_income'].apply(income_group)\n",
    "display(df)"
   ]
  },
  {
   "cell_type": "markdown",
   "id": "042b9bf5",
   "metadata": {},
   "source": [
    "### Шаг 2.7. Категоризация целей кредита."
   ]
  },
  {
   "cell_type": "code",
   "execution_count": 40,
   "id": "92980a21",
   "metadata": {},
   "outputs": [
    {
     "data": {
      "text/html": [
       "<div>\n",
       "<style scoped>\n",
       "    .dataframe tbody tr th:only-of-type {\n",
       "        vertical-align: middle;\n",
       "    }\n",
       "\n",
       "    .dataframe tbody tr th {\n",
       "        vertical-align: top;\n",
       "    }\n",
       "\n",
       "    .dataframe thead th {\n",
       "        text-align: right;\n",
       "    }\n",
       "</style>\n",
       "<table border=\"1\" class=\"dataframe\">\n",
       "  <thead>\n",
       "    <tr style=\"text-align: right;\">\n",
       "      <th></th>\n",
       "      <th>children</th>\n",
       "      <th>days_employed</th>\n",
       "      <th>dob_years</th>\n",
       "      <th>education_id</th>\n",
       "      <th>family_status_id</th>\n",
       "      <th>gender</th>\n",
       "      <th>income_type</th>\n",
       "      <th>debt</th>\n",
       "      <th>total_income</th>\n",
       "      <th>purpose</th>\n",
       "      <th>total_income_category</th>\n",
       "      <th>purpose_category</th>\n",
       "    </tr>\n",
       "  </thead>\n",
       "  <tbody>\n",
       "    <tr>\n",
       "      <th>0</th>\n",
       "      <td>1</td>\n",
       "      <td>8437.673028</td>\n",
       "      <td>42</td>\n",
       "      <td>0</td>\n",
       "      <td>0</td>\n",
       "      <td>F</td>\n",
       "      <td>сотрудник</td>\n",
       "      <td>0</td>\n",
       "      <td>253875</td>\n",
       "      <td>покупка жилья</td>\n",
       "      <td>B</td>\n",
       "      <td>операции с недвижимостью</td>\n",
       "    </tr>\n",
       "    <tr>\n",
       "      <th>1</th>\n",
       "      <td>1</td>\n",
       "      <td>4024.803754</td>\n",
       "      <td>36</td>\n",
       "      <td>1</td>\n",
       "      <td>0</td>\n",
       "      <td>F</td>\n",
       "      <td>сотрудник</td>\n",
       "      <td>0</td>\n",
       "      <td>112080</td>\n",
       "      <td>приобретение автомобиля</td>\n",
       "      <td>C</td>\n",
       "      <td>операции с автомобилем</td>\n",
       "    </tr>\n",
       "    <tr>\n",
       "      <th>2</th>\n",
       "      <td>0</td>\n",
       "      <td>5623.422610</td>\n",
       "      <td>33</td>\n",
       "      <td>1</td>\n",
       "      <td>0</td>\n",
       "      <td>M</td>\n",
       "      <td>сотрудник</td>\n",
       "      <td>0</td>\n",
       "      <td>145885</td>\n",
       "      <td>покупка жилья</td>\n",
       "      <td>C</td>\n",
       "      <td>операции с недвижимостью</td>\n",
       "    </tr>\n",
       "    <tr>\n",
       "      <th>3</th>\n",
       "      <td>3</td>\n",
       "      <td>4124.747207</td>\n",
       "      <td>32</td>\n",
       "      <td>1</td>\n",
       "      <td>0</td>\n",
       "      <td>M</td>\n",
       "      <td>сотрудник</td>\n",
       "      <td>0</td>\n",
       "      <td>267628</td>\n",
       "      <td>дополнительное образование</td>\n",
       "      <td>B</td>\n",
       "      <td>получение образования</td>\n",
       "    </tr>\n",
       "    <tr>\n",
       "      <th>4</th>\n",
       "      <td>0</td>\n",
       "      <td>340266.072047</td>\n",
       "      <td>53</td>\n",
       "      <td>1</td>\n",
       "      <td>1</td>\n",
       "      <td>F</td>\n",
       "      <td>пенсионер</td>\n",
       "      <td>0</td>\n",
       "      <td>158616</td>\n",
       "      <td>сыграть свадьбу</td>\n",
       "      <td>C</td>\n",
       "      <td>проведение свадьбы</td>\n",
       "    </tr>\n",
       "    <tr>\n",
       "      <th>...</th>\n",
       "      <td>...</td>\n",
       "      <td>...</td>\n",
       "      <td>...</td>\n",
       "      <td>...</td>\n",
       "      <td>...</td>\n",
       "      <td>...</td>\n",
       "      <td>...</td>\n",
       "      <td>...</td>\n",
       "      <td>...</td>\n",
       "      <td>...</td>\n",
       "      <td>...</td>\n",
       "      <td>...</td>\n",
       "    </tr>\n",
       "    <tr>\n",
       "      <th>21449</th>\n",
       "      <td>1</td>\n",
       "      <td>4529.316663</td>\n",
       "      <td>43</td>\n",
       "      <td>1</td>\n",
       "      <td>1</td>\n",
       "      <td>F</td>\n",
       "      <td>компаньон</td>\n",
       "      <td>0</td>\n",
       "      <td>224791</td>\n",
       "      <td>операции с жильем</td>\n",
       "      <td>B</td>\n",
       "      <td>операции с недвижимостью</td>\n",
       "    </tr>\n",
       "    <tr>\n",
       "      <th>21450</th>\n",
       "      <td>0</td>\n",
       "      <td>343937.404131</td>\n",
       "      <td>67</td>\n",
       "      <td>1</td>\n",
       "      <td>0</td>\n",
       "      <td>F</td>\n",
       "      <td>пенсионер</td>\n",
       "      <td>0</td>\n",
       "      <td>155999</td>\n",
       "      <td>сделка с автомобилем</td>\n",
       "      <td>C</td>\n",
       "      <td>операции с автомобилем</td>\n",
       "    </tr>\n",
       "    <tr>\n",
       "      <th>21451</th>\n",
       "      <td>1</td>\n",
       "      <td>2113.346888</td>\n",
       "      <td>38</td>\n",
       "      <td>1</td>\n",
       "      <td>1</td>\n",
       "      <td>M</td>\n",
       "      <td>сотрудник</td>\n",
       "      <td>1</td>\n",
       "      <td>89672</td>\n",
       "      <td>недвижимость</td>\n",
       "      <td>C</td>\n",
       "      <td>операции с недвижимостью</td>\n",
       "    </tr>\n",
       "    <tr>\n",
       "      <th>21452</th>\n",
       "      <td>3</td>\n",
       "      <td>3112.481705</td>\n",
       "      <td>38</td>\n",
       "      <td>1</td>\n",
       "      <td>0</td>\n",
       "      <td>M</td>\n",
       "      <td>сотрудник</td>\n",
       "      <td>1</td>\n",
       "      <td>244093</td>\n",
       "      <td>на покупку своего автомобиля</td>\n",
       "      <td>B</td>\n",
       "      <td>операции с автомобилем</td>\n",
       "    </tr>\n",
       "    <tr>\n",
       "      <th>21453</th>\n",
       "      <td>2</td>\n",
       "      <td>1984.507589</td>\n",
       "      <td>40</td>\n",
       "      <td>1</td>\n",
       "      <td>0</td>\n",
       "      <td>F</td>\n",
       "      <td>сотрудник</td>\n",
       "      <td>0</td>\n",
       "      <td>82047</td>\n",
       "      <td>на покупку автомобиля</td>\n",
       "      <td>C</td>\n",
       "      <td>операции с автомобилем</td>\n",
       "    </tr>\n",
       "  </tbody>\n",
       "</table>\n",
       "<p>21454 rows × 12 columns</p>\n",
       "</div>"
      ],
      "text/plain": [
       "       children  days_employed  dob_years  education_id  family_status_id  \\\n",
       "0             1    8437.673028         42             0                 0   \n",
       "1             1    4024.803754         36             1                 0   \n",
       "2             0    5623.422610         33             1                 0   \n",
       "3             3    4124.747207         32             1                 0   \n",
       "4             0  340266.072047         53             1                 1   \n",
       "...         ...            ...        ...           ...               ...   \n",
       "21449         1    4529.316663         43             1                 1   \n",
       "21450         0  343937.404131         67             1                 0   \n",
       "21451         1    2113.346888         38             1                 1   \n",
       "21452         3    3112.481705         38             1                 0   \n",
       "21453         2    1984.507589         40             1                 0   \n",
       "\n",
       "      gender income_type  debt  total_income                       purpose  \\\n",
       "0          F   сотрудник     0        253875                 покупка жилья   \n",
       "1          F   сотрудник     0        112080       приобретение автомобиля   \n",
       "2          M   сотрудник     0        145885                 покупка жилья   \n",
       "3          M   сотрудник     0        267628    дополнительное образование   \n",
       "4          F   пенсионер     0        158616               сыграть свадьбу   \n",
       "...      ...         ...   ...           ...                           ...   \n",
       "21449      F   компаньон     0        224791             операции с жильем   \n",
       "21450      F   пенсионер     0        155999          сделка с автомобилем   \n",
       "21451      M   сотрудник     1         89672                  недвижимость   \n",
       "21452      M   сотрудник     1        244093  на покупку своего автомобиля   \n",
       "21453      F   сотрудник     0         82047         на покупку автомобиля   \n",
       "\n",
       "      total_income_category          purpose_category  \n",
       "0                         B  операции с недвижимостью  \n",
       "1                         C    операции с автомобилем  \n",
       "2                         C  операции с недвижимостью  \n",
       "3                         B     получение образования  \n",
       "4                         C        проведение свадьбы  \n",
       "...                     ...                       ...  \n",
       "21449                     B  операции с недвижимостью  \n",
       "21450                     C    операции с автомобилем  \n",
       "21451                     C  операции с недвижимостью  \n",
       "21452                     B    операции с автомобилем  \n",
       "21453                     C    операции с автомобилем  \n",
       "\n",
       "[21454 rows x 12 columns]"
      ]
     },
     "metadata": {},
     "output_type": "display_data"
    }
   ],
   "source": [
    "#df.loc[df['purpose'].str.contains('авто'), 'purpose_category'] = 'операции с автомобилем'\n",
    "def purpose_category(el):\n",
    "    search = ['авто', 'жи', 'свадьб', 'образован']\n",
    "    purpose_name = ['операции с автомобилем','операции с недвижимостью','проведение свадьбы','получение образования']\n",
    "    for i in range(len(search)):\n",
    "        df.loc[df['purpose'].str.contains(search[i]), 'purpose_category'] = purpose_name[i]\n",
    "    return df\n",
    "df = purpose_category(df)\n",
    "display(df)"
   ]
  },
  {
   "cell_type": "code",
   "execution_count": 41,
   "id": "697bb816",
   "metadata": {},
   "outputs": [
    {
     "data": {
      "text/html": [
       "<div>\n",
       "<style scoped>\n",
       "    .dataframe tbody tr th:only-of-type {\n",
       "        vertical-align: middle;\n",
       "    }\n",
       "\n",
       "    .dataframe tbody tr th {\n",
       "        vertical-align: top;\n",
       "    }\n",
       "\n",
       "    .dataframe thead th {\n",
       "        text-align: right;\n",
       "    }\n",
       "</style>\n",
       "<table border=\"1\" class=\"dataframe\">\n",
       "  <thead>\n",
       "    <tr style=\"text-align: right;\">\n",
       "      <th></th>\n",
       "      <th>count</th>\n",
       "      <th>mean</th>\n",
       "    </tr>\n",
       "    <tr>\n",
       "      <th>children</th>\n",
       "      <th></th>\n",
       "      <th></th>\n",
       "    </tr>\n",
       "  </thead>\n",
       "  <tbody>\n",
       "    <tr>\n",
       "      <th>20</th>\n",
       "      <td>76</td>\n",
       "      <td>0.105263</td>\n",
       "    </tr>\n",
       "    <tr>\n",
       "      <th>4</th>\n",
       "      <td>41</td>\n",
       "      <td>0.097561</td>\n",
       "    </tr>\n",
       "    <tr>\n",
       "      <th>2</th>\n",
       "      <td>2052</td>\n",
       "      <td>0.094542</td>\n",
       "    </tr>\n",
       "    <tr>\n",
       "      <th>1</th>\n",
       "      <td>4855</td>\n",
       "      <td>0.091658</td>\n",
       "    </tr>\n",
       "    <tr>\n",
       "      <th>3</th>\n",
       "      <td>330</td>\n",
       "      <td>0.081818</td>\n",
       "    </tr>\n",
       "    <tr>\n",
       "      <th>0</th>\n",
       "      <td>14091</td>\n",
       "      <td>0.075438</td>\n",
       "    </tr>\n",
       "    <tr>\n",
       "      <th>5</th>\n",
       "      <td>9</td>\n",
       "      <td>0.000000</td>\n",
       "    </tr>\n",
       "  </tbody>\n",
       "</table>\n",
       "</div>"
      ],
      "text/plain": [
       "          count      mean\n",
       "children                 \n",
       "20           76  0.105263\n",
       "4            41  0.097561\n",
       "2          2052  0.094542\n",
       "1          4855  0.091658\n",
       "3           330  0.081818\n",
       "0         14091  0.075438\n",
       "5             9  0.000000"
      ]
     },
     "execution_count": 41,
     "metadata": {},
     "output_type": "execute_result"
    }
   ],
   "source": [
    "df.groupby('children')['debt'].agg(['count','mean']).sort_values(by='mean',ascending=False)"
   ]
  },
  {
   "cell_type": "markdown",
   "id": "c6c93ad3",
   "metadata": {},
   "source": [
    "Результат исследование показал: если дети есть то выше вероятность что будет задолжность,но в данном случае связи с количеством никакой нет,если конечно их не 20..."
   ]
  },
  {
   "cell_type": "code",
   "execution_count": 42,
   "id": "a3525458",
   "metadata": {},
   "outputs": [
    {
     "data": {
      "text/html": [
       "<div>\n",
       "<style scoped>\n",
       "    .dataframe tbody tr th:only-of-type {\n",
       "        vertical-align: middle;\n",
       "    }\n",
       "\n",
       "    .dataframe tbody tr th {\n",
       "        vertical-align: top;\n",
       "    }\n",
       "\n",
       "    .dataframe thead th {\n",
       "        text-align: right;\n",
       "    }\n",
       "</style>\n",
       "<table border=\"1\" class=\"dataframe\">\n",
       "  <thead>\n",
       "    <tr style=\"text-align: right;\">\n",
       "      <th></th>\n",
       "      <th>count</th>\n",
       "      <th>mean</th>\n",
       "    </tr>\n",
       "    <tr>\n",
       "      <th>family_status_id</th>\n",
       "      <th></th>\n",
       "      <th></th>\n",
       "    </tr>\n",
       "  </thead>\n",
       "  <tbody>\n",
       "    <tr>\n",
       "      <th>4</th>\n",
       "      <td>2810</td>\n",
       "      <td>0.097509</td>\n",
       "    </tr>\n",
       "    <tr>\n",
       "      <th>1</th>\n",
       "      <td>4151</td>\n",
       "      <td>0.093471</td>\n",
       "    </tr>\n",
       "    <tr>\n",
       "      <th>0</th>\n",
       "      <td>12339</td>\n",
       "      <td>0.075452</td>\n",
       "    </tr>\n",
       "    <tr>\n",
       "      <th>3</th>\n",
       "      <td>1195</td>\n",
       "      <td>0.071130</td>\n",
       "    </tr>\n",
       "    <tr>\n",
       "      <th>2</th>\n",
       "      <td>959</td>\n",
       "      <td>0.065693</td>\n",
       "    </tr>\n",
       "  </tbody>\n",
       "</table>\n",
       "</div>"
      ],
      "text/plain": [
       "                  count      mean\n",
       "family_status_id                 \n",
       "4                  2810  0.097509\n",
       "1                  4151  0.093471\n",
       "0                 12339  0.075452\n",
       "3                  1195  0.071130\n",
       "2                   959  0.065693"
      ]
     },
     "execution_count": 42,
     "metadata": {},
     "output_type": "execute_result"
    }
   ],
   "source": [
    "df.groupby('family_status_id')['debt'].agg(['count','mean']).sort_values(by='mean',ascending=False)"
   ]
  },
  {
   "cell_type": "markdown",
   "id": "66c4bfdd",
   "metadata": {},
   "source": [
    "Лидеры по задолжностям те кто живут в гражданском браке,на шаг за ними не женатые.\n",
    "Меньший сектор риска это разведенные и вдовы."
   ]
  },
  {
   "cell_type": "code",
   "execution_count": 43,
   "id": "5d3b9490",
   "metadata": {
    "scrolled": true
   },
   "outputs": [
    {
     "data": {
      "text/html": [
       "<div>\n",
       "<style scoped>\n",
       "    .dataframe tbody tr th:only-of-type {\n",
       "        vertical-align: middle;\n",
       "    }\n",
       "\n",
       "    .dataframe tbody tr th {\n",
       "        vertical-align: top;\n",
       "    }\n",
       "\n",
       "    .dataframe thead th {\n",
       "        text-align: right;\n",
       "    }\n",
       "</style>\n",
       "<table border=\"1\" class=\"dataframe\">\n",
       "  <thead>\n",
       "    <tr style=\"text-align: right;\">\n",
       "      <th></th>\n",
       "      <th>count</th>\n",
       "      <th>mean</th>\n",
       "    </tr>\n",
       "    <tr>\n",
       "      <th>total_income_category</th>\n",
       "      <th></th>\n",
       "      <th></th>\n",
       "    </tr>\n",
       "  </thead>\n",
       "  <tbody>\n",
       "    <tr>\n",
       "      <th>E</th>\n",
       "      <td>22</td>\n",
       "      <td>0.090909</td>\n",
       "    </tr>\n",
       "    <tr>\n",
       "      <th>C</th>\n",
       "      <td>16016</td>\n",
       "      <td>0.084915</td>\n",
       "    </tr>\n",
       "    <tr>\n",
       "      <th>A</th>\n",
       "      <td>25</td>\n",
       "      <td>0.080000</td>\n",
       "    </tr>\n",
       "    <tr>\n",
       "      <th>B</th>\n",
       "      <td>5041</td>\n",
       "      <td>0.070621</td>\n",
       "    </tr>\n",
       "    <tr>\n",
       "      <th>D</th>\n",
       "      <td>350</td>\n",
       "      <td>0.060000</td>\n",
       "    </tr>\n",
       "  </tbody>\n",
       "</table>\n",
       "</div>"
      ],
      "text/plain": [
       "                       count      mean\n",
       "total_income_category                 \n",
       "E                         22  0.090909\n",
       "C                      16016  0.084915\n",
       "A                         25  0.080000\n",
       "B                       5041  0.070621\n",
       "D                        350  0.060000"
      ]
     },
     "execution_count": 43,
     "metadata": {},
     "output_type": "execute_result"
    }
   ],
   "source": [
    "df.groupby('total_income_category')['debt'].agg(['count','mean']).sort_values(by='mean',ascending=False)"
   ]
  },
  {
   "cell_type": "markdown",
   "id": "658cc8b5",
   "metadata": {},
   "source": [
    "В основном доход указывают от 50.000 - 1.000.000,однозначно те кто указывают доход менее 200.000 чаще просрачивают платежи.\n"
   ]
  },
  {
   "cell_type": "code",
   "execution_count": 44,
   "id": "9b89ab75",
   "metadata": {},
   "outputs": [
    {
     "data": {
      "text/html": [
       "<div>\n",
       "<style scoped>\n",
       "    .dataframe tbody tr th:only-of-type {\n",
       "        vertical-align: middle;\n",
       "    }\n",
       "\n",
       "    .dataframe tbody tr th {\n",
       "        vertical-align: top;\n",
       "    }\n",
       "\n",
       "    .dataframe thead th {\n",
       "        text-align: right;\n",
       "    }\n",
       "</style>\n",
       "<table border=\"1\" class=\"dataframe\">\n",
       "  <thead>\n",
       "    <tr style=\"text-align: right;\">\n",
       "      <th></th>\n",
       "      <th>count</th>\n",
       "      <th>mean</th>\n",
       "    </tr>\n",
       "    <tr>\n",
       "      <th>purpose_category</th>\n",
       "      <th></th>\n",
       "      <th></th>\n",
       "    </tr>\n",
       "  </thead>\n",
       "  <tbody>\n",
       "    <tr>\n",
       "      <th>операции с автомобилем</th>\n",
       "      <td>4306</td>\n",
       "      <td>0.093590</td>\n",
       "    </tr>\n",
       "    <tr>\n",
       "      <th>получение образования</th>\n",
       "      <td>4013</td>\n",
       "      <td>0.092200</td>\n",
       "    </tr>\n",
       "    <tr>\n",
       "      <th>проведение свадьбы</th>\n",
       "      <td>2324</td>\n",
       "      <td>0.080034</td>\n",
       "    </tr>\n",
       "    <tr>\n",
       "      <th>операции с недвижимостью</th>\n",
       "      <td>10811</td>\n",
       "      <td>0.072334</td>\n",
       "    </tr>\n",
       "  </tbody>\n",
       "</table>\n",
       "</div>"
      ],
      "text/plain": [
       "                          count      mean\n",
       "purpose_category                         \n",
       "операции с автомобилем     4306  0.093590\n",
       "получение образования      4013  0.092200\n",
       "проведение свадьбы         2324  0.080034\n",
       "операции с недвижимостью  10811  0.072334"
      ]
     },
     "execution_count": 44,
     "metadata": {},
     "output_type": "execute_result"
    }
   ],
   "source": [
    "df.groupby('purpose_category')['debt'].agg(['count','mean']).sort_values(by='mean',ascending=False)"
   ]
  },
  {
   "cell_type": "markdown",
   "id": "ea6c117a",
   "metadata": {},
   "source": [
    "Покупатели недвижимости в кредит на первом месте по своевременным платежам,на втором те кто решили сыграть свадьбу.\n",
    "Те кто покупает авто или идут учиться менее надежны."
   ]
  },
  {
   "cell_type": "markdown",
   "id": "2a818a28",
   "metadata": {},
   "source": [
    "### Ответы на вопросы."
   ]
  },
  {
   "cell_type": "markdown",
   "id": "f429194a",
   "metadata": {},
   "source": [
    "##### Вопрос 1: Есть ли зависимость между количеством детей и возвратом кредита в срок?\n"
   ]
  },
  {
   "cell_type": "markdown",
   "id": "58940082",
   "metadata": {},
   "source": [
    "\n",
    "<div class=\"alert alert-info\" role=\"alert\">\n",
    "Вывод 1: Результат исследование показал: если дети есть то выше вероятность что будет задолжность,но в данном случае связи с количеством никакой нет,если конечно их не 20...\n",
    "</div>"
   ]
  },
  {
   "cell_type": "markdown",
   "id": "2a982e43",
   "metadata": {},
   "source": [
    "##### Вопрос 2: Есть ли зависимость между семейным положением и возвратом кредита в срок?"
   ]
  },
  {
   "cell_type": "markdown",
   "id": "05a4e776",
   "metadata": {},
   "source": [
    "\n",
    "<div class=\"alert alert-info\" role=\"alert\">\n",
    " Вывод 2: Лидеры по задолжностям те кто живут в гражданском браке,на шаг за ними не женатые. Меньший сектор риска это разведенные и вдовы.\n",
    "</div>"
   ]
  },
  {
   "cell_type": "markdown",
   "id": "0fb5ac4e",
   "metadata": {},
   "source": [
    "##### Вопрос 3: Есть ли зависимость между уровнем дохода и возвратом кредита в срок?\n"
   ]
  },
  {
   "cell_type": "markdown",
   "id": "c625eee4",
   "metadata": {},
   "source": [
    "\n",
    "<div class=\"alert alert-info\" role=\"alert\">\n",
    "Вывод 3: В основном доход указывают от 50.000 - 1.000.000,однозначно те кто указывают доход менее 200.000 чаще просрачивают платежи.\n",
    "</div>"
   ]
  },
  {
   "cell_type": "markdown",
   "id": "865db7b2",
   "metadata": {},
   "source": [
    "##### Вопрос 4: Как разные цели кредита влияют на его возврат в срок?"
   ]
  },
  {
   "cell_type": "markdown",
   "id": "727a4df8",
   "metadata": {},
   "source": [
    "\n",
    "<div class=\"alert alert-info\" role=\"alert\">\n",
    "Вывод 4: Покупатели недвижимости в кредит на первом месте по своевременным платежам,на втором те кто решили сыграть свадьбу. Те кто покупает авто или идут учиться менее надежны.\n",
    "</div>"
   ]
  },
  {
   "cell_type": "markdown",
   "id": "00f8b4eb",
   "metadata": {},
   "source": [
    "## Общий вывод:"
   ]
  },
  {
   "cell_type": "markdown",
   "id": "e67e15d1",
   "metadata": {},
   "source": [
    "\n",
    "<div class=\"alert alert-info\" role=\"alert\">\n",
    "Самый надежный сектор,те кто указывает доход от 200.000,желает жениться\\женился и покупает недвижимость.А кто указывает доход менее 200.000 и цель кредита на операции с авто,либо обучением чаще просрачивают платежи.\n",
    "</div>"
   ]
  }
 ],
 "metadata": {
  "ExecuteTimeLog": [
   {
    "duration": 411,
    "start_time": "2022-04-13T09:12:21.424Z"
   },
   {
    "duration": 52,
    "start_time": "2022-04-13T09:14:17.967Z"
   },
   {
    "duration": 71,
    "start_time": "2022-04-13T09:15:22.349Z"
   },
   {
    "duration": 14,
    "start_time": "2022-04-13T09:15:59.546Z"
   },
   {
    "duration": 18,
    "start_time": "2022-04-13T09:39:24.360Z"
   },
   {
    "duration": 9,
    "start_time": "2022-04-13T09:39:38.477Z"
   },
   {
    "duration": 4,
    "start_time": "2022-04-13T09:43:30.266Z"
   },
   {
    "duration": 55,
    "start_time": "2022-04-13T09:43:41.065Z"
   },
   {
    "duration": 6,
    "start_time": "2022-04-13T09:43:49.105Z"
   },
   {
    "duration": 9,
    "start_time": "2022-04-13T09:43:57.384Z"
   },
   {
    "duration": 3,
    "start_time": "2022-04-13T09:44:18.578Z"
   },
   {
    "duration": 3,
    "start_time": "2022-04-13T09:46:17.070Z"
   },
   {
    "duration": 3,
    "start_time": "2022-04-13T09:46:29.142Z"
   },
   {
    "duration": 5,
    "start_time": "2022-04-13T09:46:44.127Z"
   },
   {
    "duration": 5,
    "start_time": "2022-04-13T09:47:08.749Z"
   },
   {
    "duration": 3,
    "start_time": "2022-04-13T09:47:15.869Z"
   },
   {
    "duration": 4,
    "start_time": "2022-04-13T09:47:31.829Z"
   },
   {
    "duration": 4,
    "start_time": "2022-04-13T09:47:37.429Z"
   },
   {
    "duration": 5,
    "start_time": "2022-04-13T09:49:14.920Z"
   },
   {
    "duration": 5,
    "start_time": "2022-04-13T09:50:35.681Z"
   },
   {
    "duration": 160,
    "start_time": "2022-04-13T09:50:47.744Z"
   },
   {
    "duration": 5,
    "start_time": "2022-04-13T09:50:56.569Z"
   },
   {
    "duration": 4,
    "start_time": "2022-04-13T09:51:13.568Z"
   },
   {
    "duration": 4,
    "start_time": "2022-04-13T09:51:22.225Z"
   },
   {
    "duration": 5,
    "start_time": "2022-04-13T09:52:04.391Z"
   },
   {
    "duration": 5,
    "start_time": "2022-04-13T09:52:14.983Z"
   },
   {
    "duration": 4,
    "start_time": "2022-04-13T09:52:20.471Z"
   },
   {
    "duration": 3,
    "start_time": "2022-04-13T09:54:25.221Z"
   },
   {
    "duration": 4,
    "start_time": "2022-04-13T09:55:44.820Z"
   },
   {
    "duration": 2227,
    "start_time": "2022-04-13T09:57:19.938Z"
   },
   {
    "duration": 4,
    "start_time": "2022-04-13T09:57:33.514Z"
   },
   {
    "duration": 4,
    "start_time": "2022-04-13T09:57:45.874Z"
   },
   {
    "duration": 4,
    "start_time": "2022-04-13T09:59:12.824Z"
   },
   {
    "duration": 4,
    "start_time": "2022-04-13T10:02:28.100Z"
   },
   {
    "duration": 4,
    "start_time": "2022-04-13T10:03:35.067Z"
   },
   {
    "duration": 5,
    "start_time": "2022-04-13T10:04:59.425Z"
   },
   {
    "duration": 12,
    "start_time": "2022-04-13T10:05:22.016Z"
   },
   {
    "duration": 12,
    "start_time": "2022-04-13T10:05:31.319Z"
   },
   {
    "duration": 11,
    "start_time": "2022-04-13T10:35:32.551Z"
   },
   {
    "duration": 10,
    "start_time": "2022-04-13T10:35:35.168Z"
   },
   {
    "duration": 4,
    "start_time": "2022-04-13T10:35:35.601Z"
   },
   {
    "duration": 11,
    "start_time": "2022-04-13T10:35:36.032Z"
   },
   {
    "duration": 64,
    "start_time": "2022-04-13T10:35:40.538Z"
   },
   {
    "duration": 13,
    "start_time": "2022-04-13T10:35:41.008Z"
   },
   {
    "duration": 8,
    "start_time": "2022-04-13T10:35:42.176Z"
   },
   {
    "duration": 4,
    "start_time": "2022-04-13T10:35:44.080Z"
   },
   {
    "duration": 11,
    "start_time": "2022-04-13T10:35:44.888Z"
   },
   {
    "duration": 147,
    "start_time": "2022-04-13T11:12:02.359Z"
   },
   {
    "duration": 9,
    "start_time": "2022-04-13T11:12:10.320Z"
   },
   {
    "duration": 162,
    "start_time": "2022-04-13T11:12:48.040Z"
   },
   {
    "duration": 142,
    "start_time": "2022-04-13T11:13:02.903Z"
   },
   {
    "duration": 6,
    "start_time": "2022-04-13T11:13:07.759Z"
   },
   {
    "duration": 4,
    "start_time": "2022-04-13T11:18:51.918Z"
   },
   {
    "duration": 8,
    "start_time": "2022-04-13T11:19:06.935Z"
   },
   {
    "duration": 67,
    "start_time": "2022-04-13T11:19:21.592Z"
   },
   {
    "duration": 16,
    "start_time": "2022-04-13T11:19:21.661Z"
   },
   {
    "duration": 12,
    "start_time": "2022-04-13T11:19:21.679Z"
   },
   {
    "duration": 5,
    "start_time": "2022-04-13T11:19:21.693Z"
   },
   {
    "duration": 15,
    "start_time": "2022-04-13T11:19:21.724Z"
   },
   {
    "duration": 24,
    "start_time": "2022-04-13T11:19:21.740Z"
   },
   {
    "duration": 10,
    "start_time": "2022-04-13T11:20:17.238Z"
   },
   {
    "duration": 10,
    "start_time": "2022-04-13T11:20:30.436Z"
   },
   {
    "duration": 4,
    "start_time": "2022-04-13T11:20:34.109Z"
   },
   {
    "duration": 11,
    "start_time": "2022-04-13T11:20:34.413Z"
   },
   {
    "duration": 82,
    "start_time": "2022-04-13T11:20:45.925Z"
   },
   {
    "duration": 24,
    "start_time": "2022-04-13T11:20:46.008Z"
   },
   {
    "duration": 8,
    "start_time": "2022-04-13T11:20:46.035Z"
   },
   {
    "duration": 26,
    "start_time": "2022-04-13T11:20:46.045Z"
   },
   {
    "duration": 25,
    "start_time": "2022-04-13T11:20:46.072Z"
   },
   {
    "duration": 32,
    "start_time": "2022-04-13T11:20:46.099Z"
   },
   {
    "duration": 70,
    "start_time": "2022-04-13T11:32:48.288Z"
   },
   {
    "duration": 15,
    "start_time": "2022-04-13T11:32:49.149Z"
   },
   {
    "duration": 14,
    "start_time": "2022-04-13T11:32:52.501Z"
   },
   {
    "duration": 4,
    "start_time": "2022-04-13T11:32:55.916Z"
   },
   {
    "duration": 10,
    "start_time": "2022-04-13T11:32:57.069Z"
   },
   {
    "duration": 10,
    "start_time": "2022-04-13T11:34:48.380Z"
   },
   {
    "duration": 8,
    "start_time": "2022-04-13T11:34:49.803Z"
   },
   {
    "duration": 22,
    "start_time": "2022-04-13T11:35:45.194Z"
   },
   {
    "duration": 11,
    "start_time": "2022-04-13T11:36:22.969Z"
   },
   {
    "duration": 9,
    "start_time": "2022-04-13T11:36:42.168Z"
   },
   {
    "duration": 10,
    "start_time": "2022-04-13T11:38:34.294Z"
   },
   {
    "duration": 9,
    "start_time": "2022-04-13T11:39:14.484Z"
   },
   {
    "duration": 2157,
    "start_time": "2022-04-13T13:08:05.471Z"
   },
   {
    "duration": 8,
    "start_time": "2022-04-13T13:08:07.863Z"
   },
   {
    "duration": 7,
    "start_time": "2022-04-13T13:08:14.296Z"
   },
   {
    "duration": 2,
    "start_time": "2022-04-13T13:15:46.302Z"
   },
   {
    "duration": 7,
    "start_time": "2022-04-13T13:16:09.262Z"
   },
   {
    "duration": 6,
    "start_time": "2022-04-13T13:16:16.684Z"
   },
   {
    "duration": 65,
    "start_time": "2022-04-13T13:16:26.510Z"
   },
   {
    "duration": 12,
    "start_time": "2022-04-13T13:16:26.577Z"
   },
   {
    "duration": 8,
    "start_time": "2022-04-13T13:16:26.591Z"
   },
   {
    "duration": 22,
    "start_time": "2022-04-13T13:16:26.601Z"
   },
   {
    "duration": 14,
    "start_time": "2022-04-13T13:16:26.626Z"
   },
   {
    "duration": 18,
    "start_time": "2022-04-13T13:16:26.641Z"
   },
   {
    "duration": 5,
    "start_time": "2022-04-13T13:20:53.639Z"
   },
   {
    "duration": 128,
    "start_time": "2022-04-13T13:20:57.295Z"
   },
   {
    "duration": 5,
    "start_time": "2022-04-13T13:21:01.367Z"
   },
   {
    "duration": 134,
    "start_time": "2022-04-13T13:21:01.951Z"
   },
   {
    "duration": 3,
    "start_time": "2022-04-13T13:30:54.995Z"
   },
   {
    "duration": 11,
    "start_time": "2022-04-13T13:31:07.217Z"
   },
   {
    "duration": 18,
    "start_time": "2022-04-13T13:31:17.466Z"
   },
   {
    "duration": 5,
    "start_time": "2022-04-13T13:33:50.119Z"
   },
   {
    "duration": 4,
    "start_time": "2022-04-13T13:34:22.374Z"
   },
   {
    "duration": 3,
    "start_time": "2022-04-13T13:34:57.245Z"
   },
   {
    "duration": 3,
    "start_time": "2022-04-13T13:35:03.755Z"
   },
   {
    "duration": 3,
    "start_time": "2022-04-13T13:35:56.627Z"
   },
   {
    "duration": 15,
    "start_time": "2022-04-13T13:36:16.163Z"
   },
   {
    "duration": 13,
    "start_time": "2022-04-13T13:36:40.347Z"
   },
   {
    "duration": 7,
    "start_time": "2022-04-13T13:37:00.003Z"
   },
   {
    "duration": 5,
    "start_time": "2022-04-13T13:37:05.114Z"
   },
   {
    "duration": 3,
    "start_time": "2022-04-13T13:37:14.474Z"
   },
   {
    "duration": 14,
    "start_time": "2022-04-13T13:37:35.202Z"
   },
   {
    "duration": 19,
    "start_time": "2022-04-13T13:38:17.585Z"
   },
   {
    "duration": 21,
    "start_time": "2022-04-13T13:38:54.664Z"
   },
   {
    "duration": 8,
    "start_time": "2022-04-13T13:39:00.448Z"
   },
   {
    "duration": 31,
    "start_time": "2022-04-13T13:39:11.114Z"
   },
   {
    "duration": 39,
    "start_time": "2022-04-13T13:39:21.208Z"
   },
   {
    "duration": 29,
    "start_time": "2022-04-13T13:39:33.352Z"
   },
   {
    "duration": 40,
    "start_time": "2022-04-13T13:39:42.071Z"
   },
   {
    "duration": 21,
    "start_time": "2022-04-13T13:39:59.687Z"
   },
   {
    "duration": 16,
    "start_time": "2022-04-13T13:40:20.878Z"
   },
   {
    "duration": 17,
    "start_time": "2022-04-13T13:40:32.446Z"
   },
   {
    "duration": 18,
    "start_time": "2022-04-13T13:40:46.310Z"
   },
   {
    "duration": 18,
    "start_time": "2022-04-13T13:40:54.157Z"
   },
   {
    "duration": 17,
    "start_time": "2022-04-13T13:41:11.469Z"
   },
   {
    "duration": 19,
    "start_time": "2022-04-13T13:41:27.404Z"
   },
   {
    "duration": 4,
    "start_time": "2022-04-13T13:42:30.707Z"
   },
   {
    "duration": 4,
    "start_time": "2022-04-13T13:42:44.708Z"
   },
   {
    "duration": 10,
    "start_time": "2022-04-13T13:43:46.258Z"
   },
   {
    "duration": 10,
    "start_time": "2022-04-13T13:44:26.015Z"
   },
   {
    "duration": 9,
    "start_time": "2022-04-13T13:44:33.159Z"
   },
   {
    "duration": 12,
    "start_time": "2022-04-13T13:44:37.951Z"
   },
   {
    "duration": 5,
    "start_time": "2022-04-13T13:45:35.750Z"
   },
   {
    "duration": 9,
    "start_time": "2022-04-13T13:46:00.805Z"
   },
   {
    "duration": 17,
    "start_time": "2022-04-13T13:46:41.755Z"
   },
   {
    "duration": 180,
    "start_time": "2022-04-13T13:47:02.036Z"
   },
   {
    "duration": 12,
    "start_time": "2022-04-13T13:47:09.251Z"
   },
   {
    "duration": 8,
    "start_time": "2022-04-13T13:48:13.268Z"
   },
   {
    "duration": 11,
    "start_time": "2022-04-13T13:48:50.042Z"
   },
   {
    "duration": 11,
    "start_time": "2022-04-13T13:51:00.503Z"
   },
   {
    "duration": 11,
    "start_time": "2022-04-13T13:51:40.557Z"
   },
   {
    "duration": 11,
    "start_time": "2022-04-13T13:51:48.645Z"
   },
   {
    "duration": 8,
    "start_time": "2022-04-13T13:51:55.879Z"
   },
   {
    "duration": 9,
    "start_time": "2022-04-13T13:57:45.399Z"
   },
   {
    "duration": 9,
    "start_time": "2022-04-13T13:58:26.598Z"
   },
   {
    "duration": 11,
    "start_time": "2022-04-13T13:58:31.678Z"
   },
   {
    "duration": 9,
    "start_time": "2022-04-13T13:58:58.316Z"
   },
   {
    "duration": 9,
    "start_time": "2022-04-13T13:59:14.259Z"
   },
   {
    "duration": 12,
    "start_time": "2022-04-13T14:00:17.691Z"
   },
   {
    "duration": 9,
    "start_time": "2022-04-13T14:02:25.975Z"
   },
   {
    "duration": 10,
    "start_time": "2022-04-13T14:03:39.860Z"
   },
   {
    "duration": 12,
    "start_time": "2022-04-13T14:08:03.144Z"
   },
   {
    "duration": 14,
    "start_time": "2022-04-13T14:08:14.247Z"
   },
   {
    "duration": 14,
    "start_time": "2022-04-13T14:08:33.998Z"
   },
   {
    "duration": 5,
    "start_time": "2022-04-13T14:08:51.321Z"
   },
   {
    "duration": 13,
    "start_time": "2022-04-13T14:08:52.006Z"
   },
   {
    "duration": 132,
    "start_time": "2022-04-13T14:10:50.236Z"
   },
   {
    "duration": 62,
    "start_time": "2022-04-13T14:11:18.940Z"
   },
   {
    "duration": 15,
    "start_time": "2022-04-13T14:11:19.004Z"
   },
   {
    "duration": 11,
    "start_time": "2022-04-13T14:11:19.021Z"
   },
   {
    "duration": 4,
    "start_time": "2022-04-13T14:11:19.034Z"
   },
   {
    "duration": 13,
    "start_time": "2022-04-13T14:11:19.040Z"
   },
   {
    "duration": 3,
    "start_time": "2022-04-13T14:11:19.055Z"
   },
   {
    "duration": 6,
    "start_time": "2022-04-13T14:11:19.060Z"
   },
   {
    "duration": 5,
    "start_time": "2022-04-13T14:11:19.067Z"
   },
   {
    "duration": 67,
    "start_time": "2022-04-13T14:11:19.073Z"
   },
   {
    "duration": 4,
    "start_time": "2022-04-13T14:11:19.142Z"
   },
   {
    "duration": 17,
    "start_time": "2022-04-13T14:11:19.147Z"
   },
   {
    "duration": 24,
    "start_time": "2022-04-13T14:12:52.231Z"
   },
   {
    "duration": 28,
    "start_time": "2022-04-13T14:13:22.080Z"
   },
   {
    "duration": 184,
    "start_time": "2022-04-13T14:17:07.227Z"
   },
   {
    "duration": 20,
    "start_time": "2022-04-13T14:18:25.120Z"
   },
   {
    "duration": 67,
    "start_time": "2022-04-13T14:18:54.055Z"
   },
   {
    "duration": 13,
    "start_time": "2022-04-13T14:18:54.721Z"
   },
   {
    "duration": 8,
    "start_time": "2022-04-13T14:18:56.096Z"
   },
   {
    "duration": 4,
    "start_time": "2022-04-13T14:18:57.296Z"
   },
   {
    "duration": 10,
    "start_time": "2022-04-13T14:18:58.080Z"
   },
   {
    "duration": 3,
    "start_time": "2022-04-13T14:18:59.720Z"
   },
   {
    "duration": 4,
    "start_time": "2022-04-13T14:19:00.343Z"
   },
   {
    "duration": 3,
    "start_time": "2022-04-13T14:19:00.839Z"
   },
   {
    "duration": 20,
    "start_time": "2022-04-13T14:19:02.615Z"
   },
   {
    "duration": 132,
    "start_time": "2022-04-13T14:23:02.116Z"
   },
   {
    "duration": 132,
    "start_time": "2022-04-13T14:24:40.977Z"
   },
   {
    "duration": 4,
    "start_time": "2022-04-13T14:24:49.472Z"
   },
   {
    "duration": 3,
    "start_time": "2022-04-13T14:24:59.072Z"
   },
   {
    "duration": 26,
    "start_time": "2022-04-13T14:26:33.391Z"
   },
   {
    "duration": 27,
    "start_time": "2022-04-13T14:26:44.965Z"
   },
   {
    "duration": 4,
    "start_time": "2022-04-13T14:26:51.630Z"
   },
   {
    "duration": 27,
    "start_time": "2022-04-13T14:26:58.270Z"
   },
   {
    "duration": 3,
    "start_time": "2022-04-13T14:27:22.101Z"
   },
   {
    "duration": 26,
    "start_time": "2022-04-13T14:28:40.308Z"
   },
   {
    "duration": 45,
    "start_time": "2022-04-13T14:28:56.940Z"
   },
   {
    "duration": 60,
    "start_time": "2022-04-13T14:30:26.548Z"
   },
   {
    "duration": 16,
    "start_time": "2022-04-13T14:30:26.610Z"
   },
   {
    "duration": 8,
    "start_time": "2022-04-13T14:30:26.627Z"
   },
   {
    "duration": 4,
    "start_time": "2022-04-13T14:30:26.637Z"
   },
   {
    "duration": 12,
    "start_time": "2022-04-13T14:30:26.642Z"
   },
   {
    "duration": 3,
    "start_time": "2022-04-13T14:30:26.655Z"
   },
   {
    "duration": 8,
    "start_time": "2022-04-13T14:30:26.659Z"
   },
   {
    "duration": 56,
    "start_time": "2022-04-13T14:30:26.668Z"
   },
   {
    "duration": 4,
    "start_time": "2022-04-13T14:30:26.725Z"
   },
   {
    "duration": 24,
    "start_time": "2022-04-13T14:30:26.732Z"
   },
   {
    "duration": 3,
    "start_time": "2022-04-13T14:30:26.758Z"
   },
   {
    "duration": 62,
    "start_time": "2022-04-13T14:30:33.274Z"
   },
   {
    "duration": 13,
    "start_time": "2022-04-13T14:30:34.345Z"
   },
   {
    "duration": 9,
    "start_time": "2022-04-13T14:30:36.040Z"
   },
   {
    "duration": 5,
    "start_time": "2022-04-13T14:30:36.720Z"
   },
   {
    "duration": 10,
    "start_time": "2022-04-13T14:30:37.753Z"
   },
   {
    "duration": 3,
    "start_time": "2022-04-13T14:30:39.369Z"
   },
   {
    "duration": 4,
    "start_time": "2022-04-13T14:30:40.936Z"
   },
   {
    "duration": 21,
    "start_time": "2022-04-13T14:30:42.184Z"
   },
   {
    "duration": 5,
    "start_time": "2022-04-13T14:30:44.010Z"
   },
   {
    "duration": 26,
    "start_time": "2022-04-13T14:30:44.761Z"
   },
   {
    "duration": 3,
    "start_time": "2022-04-13T14:30:47.193Z"
   },
   {
    "duration": 21,
    "start_time": "2022-04-13T14:31:43.735Z"
   },
   {
    "duration": 19,
    "start_time": "2022-04-13T14:31:59.855Z"
   },
   {
    "duration": 19,
    "start_time": "2022-04-13T14:32:19.665Z"
   },
   {
    "duration": 20,
    "start_time": "2022-04-13T14:32:38.942Z"
   },
   {
    "duration": 19,
    "start_time": "2022-04-13T14:33:13.982Z"
   },
   {
    "duration": 20,
    "start_time": "2022-04-13T14:33:50.334Z"
   },
   {
    "duration": 20,
    "start_time": "2022-04-13T14:34:01.013Z"
   },
   {
    "duration": 20,
    "start_time": "2022-04-13T14:34:08.964Z"
   },
   {
    "duration": 22,
    "start_time": "2022-04-13T14:34:35.028Z"
   },
   {
    "duration": 23,
    "start_time": "2022-04-13T14:34:39.076Z"
   },
   {
    "duration": 22,
    "start_time": "2022-04-13T14:34:44.773Z"
   },
   {
    "duration": 22,
    "start_time": "2022-04-13T14:34:52.132Z"
   },
   {
    "duration": 5,
    "start_time": "2022-04-13T14:36:18.337Z"
   },
   {
    "duration": 29,
    "start_time": "2022-04-13T14:36:19.791Z"
   },
   {
    "duration": 4,
    "start_time": "2022-04-13T14:36:20.680Z"
   },
   {
    "duration": 30,
    "start_time": "2022-04-13T14:36:50.321Z"
   },
   {
    "duration": 3,
    "start_time": "2022-04-13T14:36:51.345Z"
   },
   {
    "duration": 60,
    "start_time": "2022-04-14T09:35:03.679Z"
   },
   {
    "duration": 457,
    "start_time": "2022-04-14T09:35:09.465Z"
   },
   {
    "duration": 15,
    "start_time": "2022-04-14T09:35:09.924Z"
   },
   {
    "duration": 9,
    "start_time": "2022-04-14T09:35:09.941Z"
   },
   {
    "duration": 4,
    "start_time": "2022-04-14T09:35:09.952Z"
   },
   {
    "duration": 12,
    "start_time": "2022-04-14T09:35:09.958Z"
   },
   {
    "duration": 38,
    "start_time": "2022-04-14T09:35:09.972Z"
   },
   {
    "duration": 6,
    "start_time": "2022-04-14T09:35:10.012Z"
   },
   {
    "duration": 29,
    "start_time": "2022-04-14T09:35:10.021Z"
   },
   {
    "duration": 5,
    "start_time": "2022-04-14T09:35:10.051Z"
   },
   {
    "duration": 77,
    "start_time": "2022-04-14T09:35:10.058Z"
   },
   {
    "duration": 4,
    "start_time": "2022-04-14T09:35:10.136Z"
   },
   {
    "duration": 12,
    "start_time": "2022-04-14T09:36:30.819Z"
   },
   {
    "duration": 18,
    "start_time": "2022-04-14T09:36:40.531Z"
   },
   {
    "duration": 17,
    "start_time": "2022-04-14T09:36:49.111Z"
   },
   {
    "duration": 17,
    "start_time": "2022-04-14T09:36:59.571Z"
   },
   {
    "duration": 46,
    "start_time": "2022-04-14T09:37:40.082Z"
   },
   {
    "duration": 18,
    "start_time": "2022-04-14T09:37:46.658Z"
   },
   {
    "duration": 22,
    "start_time": "2022-04-14T09:38:04.610Z"
   },
   {
    "duration": 33,
    "start_time": "2022-04-14T09:38:48.648Z"
   },
   {
    "duration": 31,
    "start_time": "2022-04-14T09:38:51.960Z"
   },
   {
    "duration": 31,
    "start_time": "2022-04-14T09:39:43.160Z"
   },
   {
    "duration": 26,
    "start_time": "2022-04-14T09:40:09.590Z"
   },
   {
    "duration": 74,
    "start_time": "2022-04-14T09:40:13.527Z"
   },
   {
    "duration": 19,
    "start_time": "2022-04-14T09:40:13.602Z"
   },
   {
    "duration": 11,
    "start_time": "2022-04-14T09:40:13.622Z"
   },
   {
    "duration": 4,
    "start_time": "2022-04-14T09:40:13.635Z"
   },
   {
    "duration": 20,
    "start_time": "2022-04-14T09:40:13.641Z"
   },
   {
    "duration": 4,
    "start_time": "2022-04-14T09:40:13.662Z"
   },
   {
    "duration": 14,
    "start_time": "2022-04-14T09:40:13.667Z"
   },
   {
    "duration": 51,
    "start_time": "2022-04-14T09:40:13.683Z"
   },
   {
    "duration": 4,
    "start_time": "2022-04-14T09:40:13.736Z"
   },
   {
    "duration": 32,
    "start_time": "2022-04-14T09:40:13.742Z"
   },
   {
    "duration": 36,
    "start_time": "2022-04-14T09:40:13.776Z"
   },
   {
    "duration": 36,
    "start_time": "2022-04-14T09:40:13.814Z"
   },
   {
    "duration": 43,
    "start_time": "2022-04-14T09:40:49.894Z"
   },
   {
    "duration": 74,
    "start_time": "2022-04-14T09:46:47.582Z"
   },
   {
    "duration": 7,
    "start_time": "2022-04-14T09:47:41.605Z"
   },
   {
    "duration": 67,
    "start_time": "2022-04-14T09:47:46.342Z"
   },
   {
    "duration": 14,
    "start_time": "2022-04-14T09:47:46.419Z"
   },
   {
    "duration": 9,
    "start_time": "2022-04-14T09:47:46.435Z"
   },
   {
    "duration": 4,
    "start_time": "2022-04-14T09:47:46.446Z"
   },
   {
    "duration": 13,
    "start_time": "2022-04-14T09:47:46.452Z"
   },
   {
    "duration": 4,
    "start_time": "2022-04-14T09:47:46.466Z"
   },
   {
    "duration": 61,
    "start_time": "2022-04-14T09:47:46.471Z"
   },
   {
    "duration": 6,
    "start_time": "2022-04-14T09:47:46.533Z"
   },
   {
    "duration": 29,
    "start_time": "2022-04-14T09:47:46.540Z"
   },
   {
    "duration": 4,
    "start_time": "2022-04-14T09:47:46.572Z"
   },
   {
    "duration": 64,
    "start_time": "2022-04-14T09:47:46.578Z"
   },
   {
    "duration": 35,
    "start_time": "2022-04-14T09:49:48.354Z"
   },
   {
    "duration": 3,
    "start_time": "2022-04-14T09:49:51.482Z"
   },
   {
    "duration": 5,
    "start_time": "2022-04-14T09:49:52.961Z"
   },
   {
    "duration": 82,
    "start_time": "2022-04-14T09:50:01.554Z"
   },
   {
    "duration": 14,
    "start_time": "2022-04-14T09:50:02.018Z"
   },
   {
    "duration": 9,
    "start_time": "2022-04-14T09:50:02.929Z"
   },
   {
    "duration": 5,
    "start_time": "2022-04-14T09:50:03.409Z"
   },
   {
    "duration": 13,
    "start_time": "2022-04-14T09:50:03.896Z"
   },
   {
    "duration": 3,
    "start_time": "2022-04-14T09:50:05.745Z"
   },
   {
    "duration": 25,
    "start_time": "2022-04-14T09:50:06.905Z"
   },
   {
    "duration": 7,
    "start_time": "2022-04-14T09:50:08.209Z"
   },
   {
    "duration": 31,
    "start_time": "2022-04-14T09:50:09.473Z"
   },
   {
    "duration": 3,
    "start_time": "2022-04-14T09:50:10.289Z"
   },
   {
    "duration": 4,
    "start_time": "2022-04-14T09:50:12.192Z"
   },
   {
    "duration": 105,
    "start_time": "2022-04-14T09:51:46.623Z"
   },
   {
    "duration": 31,
    "start_time": "2022-04-14T09:51:59.630Z"
   },
   {
    "duration": 7,
    "start_time": "2022-04-14T09:56:06.019Z"
   },
   {
    "duration": 9,
    "start_time": "2022-04-14T09:56:30.891Z"
   },
   {
    "duration": 15,
    "start_time": "2022-04-14T09:56:36.345Z"
   },
   {
    "duration": 101,
    "start_time": "2022-04-14T10:09:00.082Z"
   },
   {
    "duration": 38,
    "start_time": "2022-04-14T10:09:00.600Z"
   },
   {
    "duration": 33,
    "start_time": "2022-04-14T10:09:08.574Z"
   },
   {
    "duration": 36,
    "start_time": "2022-04-14T10:14:47.739Z"
   },
   {
    "duration": 37,
    "start_time": "2022-04-14T10:15:18.232Z"
   },
   {
    "duration": 4,
    "start_time": "2022-04-14T10:42:38.159Z"
   },
   {
    "duration": 5,
    "start_time": "2022-04-14T10:42:51.322Z"
   },
   {
    "duration": 7,
    "start_time": "2022-04-14T10:42:59.891Z"
   },
   {
    "duration": 5,
    "start_time": "2022-04-14T10:43:33.362Z"
   },
   {
    "duration": 5,
    "start_time": "2022-04-14T10:44:44.601Z"
   },
   {
    "duration": 6,
    "start_time": "2022-04-14T10:44:52.695Z"
   },
   {
    "duration": 15,
    "start_time": "2022-04-14T10:46:03.471Z"
   },
   {
    "duration": 20,
    "start_time": "2022-04-14T10:46:32.239Z"
   },
   {
    "duration": 5,
    "start_time": "2022-04-14T11:05:44.166Z"
   },
   {
    "duration": 12,
    "start_time": "2022-04-14T11:05:55.515Z"
   },
   {
    "duration": 12,
    "start_time": "2022-04-14T11:08:58.472Z"
   },
   {
    "duration": 10,
    "start_time": "2022-04-14T11:11:05.372Z"
   },
   {
    "duration": 11,
    "start_time": "2022-04-14T11:11:12.387Z"
   },
   {
    "duration": 11,
    "start_time": "2022-04-14T11:11:14.039Z"
   },
   {
    "duration": 10,
    "start_time": "2022-04-14T11:12:33.123Z"
   },
   {
    "duration": 73,
    "start_time": "2022-04-14T11:12:40.079Z"
   },
   {
    "duration": 13,
    "start_time": "2022-04-14T11:12:40.154Z"
   },
   {
    "duration": 10,
    "start_time": "2022-04-14T11:12:40.168Z"
   },
   {
    "duration": 4,
    "start_time": "2022-04-14T11:12:40.180Z"
   },
   {
    "duration": 38,
    "start_time": "2022-04-14T11:12:40.186Z"
   },
   {
    "duration": 4,
    "start_time": "2022-04-14T11:12:40.225Z"
   },
   {
    "duration": 24,
    "start_time": "2022-04-14T11:12:40.230Z"
   },
   {
    "duration": 5,
    "start_time": "2022-04-14T11:12:40.256Z"
   },
   {
    "duration": 76,
    "start_time": "2022-04-14T11:12:40.263Z"
   },
   {
    "duration": 4,
    "start_time": "2022-04-14T11:12:40.341Z"
   },
   {
    "duration": 8,
    "start_time": "2022-04-14T11:12:40.348Z"
   },
   {
    "duration": 69,
    "start_time": "2022-04-14T11:12:40.358Z"
   },
   {
    "duration": 20,
    "start_time": "2022-04-14T11:12:40.429Z"
   },
   {
    "duration": 4,
    "start_time": "2022-04-14T11:12:40.452Z"
   },
   {
    "duration": 10,
    "start_time": "2022-04-14T11:12:57.466Z"
   },
   {
    "duration": 65,
    "start_time": "2022-04-14T11:13:08.233Z"
   },
   {
    "duration": 18,
    "start_time": "2022-04-14T11:13:08.300Z"
   },
   {
    "duration": 11,
    "start_time": "2022-04-14T11:13:08.320Z"
   },
   {
    "duration": 3,
    "start_time": "2022-04-14T11:13:08.333Z"
   },
   {
    "duration": 13,
    "start_time": "2022-04-14T11:13:08.338Z"
   },
   {
    "duration": 3,
    "start_time": "2022-04-14T11:13:08.353Z"
   },
   {
    "duration": 67,
    "start_time": "2022-04-14T11:13:08.357Z"
   },
   {
    "duration": 5,
    "start_time": "2022-04-14T11:13:08.426Z"
   },
   {
    "duration": 31,
    "start_time": "2022-04-14T11:13:08.432Z"
   },
   {
    "duration": 3,
    "start_time": "2022-04-14T11:13:08.465Z"
   },
   {
    "duration": 5,
    "start_time": "2022-04-14T11:13:08.469Z"
   },
   {
    "duration": 41,
    "start_time": "2022-04-14T11:13:08.507Z"
   },
   {
    "duration": 21,
    "start_time": "2022-04-14T11:13:08.550Z"
   },
   {
    "duration": 53,
    "start_time": "2022-04-14T11:13:08.572Z"
   },
   {
    "duration": 10,
    "start_time": "2022-04-14T11:13:34.529Z"
   },
   {
    "duration": 73,
    "start_time": "2022-04-14T11:13:37.786Z"
   },
   {
    "duration": 13,
    "start_time": "2022-04-14T11:13:37.861Z"
   },
   {
    "duration": 9,
    "start_time": "2022-04-14T11:13:37.875Z"
   },
   {
    "duration": 21,
    "start_time": "2022-04-14T11:13:37.886Z"
   },
   {
    "duration": 16,
    "start_time": "2022-04-14T11:13:37.911Z"
   },
   {
    "duration": 3,
    "start_time": "2022-04-14T11:13:37.928Z"
   },
   {
    "duration": 22,
    "start_time": "2022-04-14T11:13:37.932Z"
   },
   {
    "duration": 5,
    "start_time": "2022-04-14T11:13:37.956Z"
   },
   {
    "duration": 78,
    "start_time": "2022-04-14T11:13:37.962Z"
   },
   {
    "duration": 3,
    "start_time": "2022-04-14T11:13:38.042Z"
   },
   {
    "duration": 5,
    "start_time": "2022-04-14T11:13:38.047Z"
   },
   {
    "duration": 68,
    "start_time": "2022-04-14T11:13:38.054Z"
   },
   {
    "duration": 22,
    "start_time": "2022-04-14T11:13:38.124Z"
   },
   {
    "duration": 21,
    "start_time": "2022-04-14T11:13:38.148Z"
   },
   {
    "duration": 1216,
    "start_time": "2022-04-14T11:23:06.490Z"
   },
   {
    "duration": 2,
    "start_time": "2022-04-14T11:30:27.344Z"
   },
   {
    "duration": 64,
    "start_time": "2022-04-14T11:34:34.707Z"
   },
   {
    "duration": 3,
    "start_time": "2022-04-14T11:34:44.786Z"
   },
   {
    "duration": 5,
    "start_time": "2022-04-14T11:35:16.922Z"
   },
   {
    "duration": 6,
    "start_time": "2022-04-14T11:36:22.728Z"
   },
   {
    "duration": 6,
    "start_time": "2022-04-14T11:36:33.809Z"
   },
   {
    "duration": 4,
    "start_time": "2022-04-14T11:36:42.599Z"
   },
   {
    "duration": 4,
    "start_time": "2022-04-14T11:37:15.388Z"
   },
   {
    "duration": 3,
    "start_time": "2022-04-14T11:37:29.878Z"
   },
   {
    "duration": 84,
    "start_time": "2022-04-14T11:37:35.256Z"
   },
   {
    "duration": 13,
    "start_time": "2022-04-14T11:37:35.342Z"
   },
   {
    "duration": 11,
    "start_time": "2022-04-14T11:37:35.357Z"
   },
   {
    "duration": 3,
    "start_time": "2022-04-14T11:37:35.370Z"
   },
   {
    "duration": 40,
    "start_time": "2022-04-14T11:37:35.375Z"
   },
   {
    "duration": 4,
    "start_time": "2022-04-14T11:37:35.419Z"
   },
   {
    "duration": 23,
    "start_time": "2022-04-14T11:37:35.425Z"
   },
   {
    "duration": 7,
    "start_time": "2022-04-14T11:37:35.450Z"
   },
   {
    "duration": 72,
    "start_time": "2022-04-14T11:37:35.459Z"
   },
   {
    "duration": 4,
    "start_time": "2022-04-14T11:37:35.534Z"
   },
   {
    "duration": 5,
    "start_time": "2022-04-14T11:37:35.540Z"
   },
   {
    "duration": 69,
    "start_time": "2022-04-14T11:37:35.547Z"
   },
   {
    "duration": 24,
    "start_time": "2022-04-14T11:37:35.618Z"
   },
   {
    "duration": 20,
    "start_time": "2022-04-14T11:37:35.644Z"
   },
   {
    "duration": 3,
    "start_time": "2022-04-14T11:37:35.666Z"
   },
   {
    "duration": 44,
    "start_time": "2022-04-14T11:37:35.671Z"
   },
   {
    "duration": 4,
    "start_time": "2022-04-14T11:37:50.230Z"
   },
   {
    "duration": 3,
    "start_time": "2022-04-14T11:38:04.286Z"
   },
   {
    "duration": 3,
    "start_time": "2022-04-14T11:38:13.285Z"
   },
   {
    "duration": 4,
    "start_time": "2022-04-14T11:38:24.893Z"
   },
   {
    "duration": 3,
    "start_time": "2022-04-14T11:39:18.731Z"
   },
   {
    "duration": 4,
    "start_time": "2022-04-14T11:40:24.272Z"
   },
   {
    "duration": 4,
    "start_time": "2022-04-14T11:40:41.560Z"
   },
   {
    "duration": 4,
    "start_time": "2022-04-14T11:40:50.721Z"
   },
   {
    "duration": 4,
    "start_time": "2022-04-14T11:40:56.120Z"
   },
   {
    "duration": 14,
    "start_time": "2022-04-14T11:43:49.652Z"
   },
   {
    "duration": 21,
    "start_time": "2022-04-14T11:43:58.954Z"
   },
   {
    "duration": 4,
    "start_time": "2022-04-14T11:48:00.892Z"
   },
   {
    "duration": 67,
    "start_time": "2022-04-14T11:48:08.454Z"
   },
   {
    "duration": 14,
    "start_time": "2022-04-14T11:48:08.523Z"
   },
   {
    "duration": 9,
    "start_time": "2022-04-14T11:48:08.539Z"
   },
   {
    "duration": 6,
    "start_time": "2022-04-14T11:48:08.550Z"
   },
   {
    "duration": 14,
    "start_time": "2022-04-14T11:48:08.558Z"
   },
   {
    "duration": 6,
    "start_time": "2022-04-14T11:48:08.606Z"
   },
   {
    "duration": 24,
    "start_time": "2022-04-14T11:48:08.613Z"
   },
   {
    "duration": 7,
    "start_time": "2022-04-14T11:48:08.639Z"
   },
   {
    "duration": 71,
    "start_time": "2022-04-14T11:48:08.648Z"
   },
   {
    "duration": 4,
    "start_time": "2022-04-14T11:48:08.722Z"
   },
   {
    "duration": 5,
    "start_time": "2022-04-14T11:48:08.728Z"
   },
   {
    "duration": 34,
    "start_time": "2022-04-14T11:48:08.735Z"
   },
   {
    "duration": 54,
    "start_time": "2022-04-14T11:48:08.771Z"
   },
   {
    "duration": 18,
    "start_time": "2022-04-14T11:48:08.826Z"
   },
   {
    "duration": 22,
    "start_time": "2022-04-14T11:48:08.845Z"
   },
   {
    "duration": 68,
    "start_time": "2022-04-14T11:53:21.270Z"
   },
   {
    "duration": 8,
    "start_time": "2022-04-14T11:53:33.988Z"
   },
   {
    "duration": 13,
    "start_time": "2022-04-14T11:53:40.620Z"
   },
   {
    "duration": 8,
    "start_time": "2022-04-14T11:54:27.404Z"
   },
   {
    "duration": 7,
    "start_time": "2022-04-14T11:54:33.787Z"
   },
   {
    "duration": 8,
    "start_time": "2022-04-14T11:54:52.506Z"
   },
   {
    "duration": 67,
    "start_time": "2022-04-14T11:54:56.573Z"
   },
   {
    "duration": 14,
    "start_time": "2022-04-14T11:54:56.642Z"
   },
   {
    "duration": 10,
    "start_time": "2022-04-14T11:54:56.657Z"
   },
   {
    "duration": 4,
    "start_time": "2022-04-14T11:54:56.669Z"
   },
   {
    "duration": 39,
    "start_time": "2022-04-14T11:54:56.674Z"
   },
   {
    "duration": 4,
    "start_time": "2022-04-14T11:54:56.714Z"
   },
   {
    "duration": 25,
    "start_time": "2022-04-14T11:54:56.719Z"
   },
   {
    "duration": 6,
    "start_time": "2022-04-14T11:54:56.745Z"
   },
   {
    "duration": 61,
    "start_time": "2022-04-14T11:54:56.752Z"
   },
   {
    "duration": 3,
    "start_time": "2022-04-14T11:54:56.816Z"
   },
   {
    "duration": 6,
    "start_time": "2022-04-14T11:54:56.821Z"
   },
   {
    "duration": 35,
    "start_time": "2022-04-14T11:54:56.828Z"
   },
   {
    "duration": 54,
    "start_time": "2022-04-14T11:54:56.865Z"
   },
   {
    "duration": 17,
    "start_time": "2022-04-14T11:54:56.921Z"
   },
   {
    "duration": 21,
    "start_time": "2022-04-14T11:54:56.940Z"
   },
   {
    "duration": 5,
    "start_time": "2022-04-14T11:54:56.963Z"
   },
   {
    "duration": 41,
    "start_time": "2022-04-14T11:54:56.970Z"
   },
   {
    "duration": 5,
    "start_time": "2022-04-14T11:57:57.702Z"
   },
   {
    "duration": 6,
    "start_time": "2022-04-14T12:06:47.097Z"
   },
   {
    "duration": 48,
    "start_time": "2022-04-14T12:33:37.200Z"
   },
   {
    "duration": 8,
    "start_time": "2022-04-14T12:34:48.123Z"
   },
   {
    "duration": 469,
    "start_time": "2022-04-14T12:34:56.629Z"
   },
   {
    "duration": 15,
    "start_time": "2022-04-14T12:34:57.100Z"
   },
   {
    "duration": 12,
    "start_time": "2022-04-14T12:34:57.117Z"
   },
   {
    "duration": 20,
    "start_time": "2022-04-14T12:34:57.131Z"
   },
   {
    "duration": 20,
    "start_time": "2022-04-14T12:34:57.153Z"
   },
   {
    "duration": 6,
    "start_time": "2022-04-14T12:34:57.174Z"
   },
   {
    "duration": 32,
    "start_time": "2022-04-14T12:34:57.181Z"
   },
   {
    "duration": 5,
    "start_time": "2022-04-14T12:34:57.215Z"
   },
   {
    "duration": 45,
    "start_time": "2022-04-14T12:34:57.221Z"
   },
   {
    "duration": 3,
    "start_time": "2022-04-14T12:34:57.268Z"
   },
   {
    "duration": 18,
    "start_time": "2022-04-14T12:34:57.272Z"
   },
   {
    "duration": 50,
    "start_time": "2022-04-14T12:34:57.291Z"
   },
   {
    "duration": 19,
    "start_time": "2022-04-14T12:34:57.343Z"
   },
   {
    "duration": 17,
    "start_time": "2022-04-14T12:34:57.364Z"
   },
   {
    "duration": 45,
    "start_time": "2022-04-14T12:34:57.382Z"
   },
   {
    "duration": 33,
    "start_time": "2022-04-14T12:34:57.428Z"
   },
   {
    "duration": 0,
    "start_time": "2022-04-14T12:34:57.463Z"
   },
   {
    "duration": 10,
    "start_time": "2022-04-14T12:35:21.236Z"
   },
   {
    "duration": 23,
    "start_time": "2022-04-14T12:35:30.538Z"
   },
   {
    "duration": 19,
    "start_time": "2022-04-14T12:35:42.071Z"
   },
   {
    "duration": 14,
    "start_time": "2022-04-14T12:38:20.624Z"
   },
   {
    "duration": 13,
    "start_time": "2022-04-14T12:38:47.398Z"
   },
   {
    "duration": 21,
    "start_time": "2022-04-14T12:39:01.311Z"
   },
   {
    "duration": 185,
    "start_time": "2022-04-14T12:39:31.047Z"
   },
   {
    "duration": 230,
    "start_time": "2022-04-14T12:46:14.317Z"
   },
   {
    "duration": 1218,
    "start_time": "2022-04-14T12:46:26.581Z"
   },
   {
    "duration": 16,
    "start_time": "2022-04-14T12:46:38.164Z"
   },
   {
    "duration": 212,
    "start_time": "2022-04-14T12:48:41.282Z"
   },
   {
    "duration": 193,
    "start_time": "2022-04-14T12:48:48.394Z"
   },
   {
    "duration": 194,
    "start_time": "2022-04-14T12:48:53.033Z"
   },
   {
    "duration": 85,
    "start_time": "2022-04-14T12:48:57.235Z"
   },
   {
    "duration": 14,
    "start_time": "2022-04-14T12:48:57.321Z"
   },
   {
    "duration": 22,
    "start_time": "2022-04-14T12:48:57.337Z"
   },
   {
    "duration": 11,
    "start_time": "2022-04-14T12:48:57.361Z"
   },
   {
    "duration": 29,
    "start_time": "2022-04-14T12:48:57.374Z"
   },
   {
    "duration": 14,
    "start_time": "2022-04-14T12:48:57.404Z"
   },
   {
    "duration": 31,
    "start_time": "2022-04-14T12:48:57.419Z"
   },
   {
    "duration": 6,
    "start_time": "2022-04-14T12:48:57.452Z"
   },
   {
    "duration": 44,
    "start_time": "2022-04-14T12:48:57.460Z"
   },
   {
    "duration": 3,
    "start_time": "2022-04-14T12:48:57.508Z"
   },
   {
    "duration": 6,
    "start_time": "2022-04-14T12:48:57.523Z"
   },
   {
    "duration": 40,
    "start_time": "2022-04-14T12:48:57.530Z"
   },
   {
    "duration": 22,
    "start_time": "2022-04-14T12:48:57.572Z"
   },
   {
    "duration": 41,
    "start_time": "2022-04-14T12:48:57.596Z"
   },
   {
    "duration": 26,
    "start_time": "2022-04-14T12:48:57.639Z"
   },
   {
    "duration": 192,
    "start_time": "2022-04-14T12:48:57.667Z"
   },
   {
    "duration": 192,
    "start_time": "2022-04-14T12:49:03.249Z"
   },
   {
    "duration": 232,
    "start_time": "2022-04-14T12:49:20.563Z"
   },
   {
    "duration": 16,
    "start_time": "2022-04-14T12:49:30.953Z"
   },
   {
    "duration": 12,
    "start_time": "2022-04-14T12:49:40.244Z"
   },
   {
    "duration": 17,
    "start_time": "2022-04-14T12:50:12.184Z"
   },
   {
    "duration": 20,
    "start_time": "2022-04-14T12:50:42.263Z"
   },
   {
    "duration": 15,
    "start_time": "2022-04-14T12:50:49.336Z"
   },
   {
    "duration": 20,
    "start_time": "2022-04-14T12:54:40.506Z"
   },
   {
    "duration": 88,
    "start_time": "2022-04-14T12:55:08.978Z"
   },
   {
    "duration": 15,
    "start_time": "2022-04-14T12:55:09.067Z"
   },
   {
    "duration": 10,
    "start_time": "2022-04-14T12:55:09.084Z"
   },
   {
    "duration": 4,
    "start_time": "2022-04-14T12:55:09.097Z"
   },
   {
    "duration": 19,
    "start_time": "2022-04-14T12:55:09.123Z"
   },
   {
    "duration": 3,
    "start_time": "2022-04-14T12:55:09.144Z"
   },
   {
    "duration": 28,
    "start_time": "2022-04-14T12:55:09.149Z"
   },
   {
    "duration": 8,
    "start_time": "2022-04-14T12:55:09.179Z"
   },
   {
    "duration": 61,
    "start_time": "2022-04-14T12:55:09.188Z"
   },
   {
    "duration": 3,
    "start_time": "2022-04-14T12:55:09.251Z"
   },
   {
    "duration": 9,
    "start_time": "2022-04-14T12:55:09.256Z"
   },
   {
    "duration": 62,
    "start_time": "2022-04-14T12:55:09.267Z"
   },
   {
    "duration": 30,
    "start_time": "2022-04-14T12:55:09.331Z"
   },
   {
    "duration": 20,
    "start_time": "2022-04-14T12:55:09.363Z"
   },
   {
    "duration": 49,
    "start_time": "2022-04-14T12:55:09.385Z"
   },
   {
    "duration": 22,
    "start_time": "2022-04-14T12:55:09.437Z"
   },
   {
    "duration": 16,
    "start_time": "2022-04-14T12:55:17.017Z"
   },
   {
    "duration": 4,
    "start_time": "2022-04-14T12:59:32.235Z"
   },
   {
    "duration": 3,
    "start_time": "2022-04-14T12:59:52.084Z"
   },
   {
    "duration": 8,
    "start_time": "2022-04-14T13:00:03.731Z"
   },
   {
    "duration": 4,
    "start_time": "2022-04-14T13:00:17.547Z"
   },
   {
    "duration": 4,
    "start_time": "2022-04-14T13:00:26.305Z"
   },
   {
    "duration": 266,
    "start_time": "2022-04-14T13:00:57.657Z"
   },
   {
    "duration": 4,
    "start_time": "2022-04-14T13:01:02.362Z"
   },
   {
    "duration": 2,
    "start_time": "2022-04-14T13:07:20.641Z"
   },
   {
    "duration": 650,
    "start_time": "2022-04-14T13:07:39.672Z"
   },
   {
    "duration": 213,
    "start_time": "2022-04-14T13:09:27.382Z"
   },
   {
    "duration": 215,
    "start_time": "2022-04-14T13:09:42.157Z"
   },
   {
    "duration": 200,
    "start_time": "2022-04-14T13:10:00.077Z"
   },
   {
    "duration": 272,
    "start_time": "2022-04-14T13:10:15.116Z"
   },
   {
    "duration": 17,
    "start_time": "2022-04-14T13:11:13.003Z"
   },
   {
    "duration": 17,
    "start_time": "2022-04-14T13:11:19.083Z"
   },
   {
    "duration": 183,
    "start_time": "2022-04-14T13:15:53.949Z"
   },
   {
    "duration": 2,
    "start_time": "2022-04-14T13:16:10.861Z"
   },
   {
    "duration": 1124,
    "start_time": "2022-04-14T13:16:19.423Z"
   },
   {
    "duration": 17,
    "start_time": "2022-04-14T13:16:20.550Z"
   },
   {
    "duration": 12,
    "start_time": "2022-04-14T13:16:20.569Z"
   },
   {
    "duration": 11,
    "start_time": "2022-04-14T13:16:20.583Z"
   },
   {
    "duration": 14,
    "start_time": "2022-04-14T13:16:20.623Z"
   },
   {
    "duration": 4,
    "start_time": "2022-04-14T13:16:20.639Z"
   },
   {
    "duration": 25,
    "start_time": "2022-04-14T13:16:20.646Z"
   },
   {
    "duration": 7,
    "start_time": "2022-04-14T13:16:20.673Z"
   },
   {
    "duration": 69,
    "start_time": "2022-04-14T13:16:20.682Z"
   },
   {
    "duration": 3,
    "start_time": "2022-04-14T13:16:20.753Z"
   },
   {
    "duration": 6,
    "start_time": "2022-04-14T13:16:20.758Z"
   },
   {
    "duration": 59,
    "start_time": "2022-04-14T13:16:20.766Z"
   },
   {
    "duration": 23,
    "start_time": "2022-04-14T13:16:20.827Z"
   },
   {
    "duration": 21,
    "start_time": "2022-04-14T13:16:20.853Z"
   },
   {
    "duration": 53,
    "start_time": "2022-04-14T13:16:20.875Z"
   },
   {
    "duration": 19,
    "start_time": "2022-04-14T13:16:20.930Z"
   },
   {
    "duration": 3,
    "start_time": "2022-04-14T13:16:20.951Z"
   },
   {
    "duration": 196,
    "start_time": "2022-04-14T13:16:36.900Z"
   },
   {
    "duration": 5,
    "start_time": "2022-04-14T13:16:58.636Z"
   },
   {
    "duration": 196,
    "start_time": "2022-04-14T13:17:14.228Z"
   },
   {
    "duration": 10,
    "start_time": "2022-04-14T13:17:17.484Z"
   },
   {
    "duration": 20,
    "start_time": "2022-04-14T13:17:32.443Z"
   },
   {
    "duration": 8,
    "start_time": "2022-04-14T13:17:43.882Z"
   },
   {
    "duration": 4,
    "start_time": "2022-04-14T13:23:40.352Z"
   },
   {
    "duration": 13,
    "start_time": "2022-04-14T13:24:43.996Z"
   },
   {
    "duration": 12,
    "start_time": "2022-04-14T13:25:15.118Z"
   },
   {
    "duration": 23,
    "start_time": "2022-04-14T13:26:08.972Z"
   },
   {
    "duration": 227,
    "start_time": "2022-04-14T13:27:44.961Z"
   },
   {
    "duration": 3146,
    "start_time": "2022-04-14T13:27:59.024Z"
   },
   {
    "duration": 3348,
    "start_time": "2022-04-14T13:28:28.486Z"
   },
   {
    "duration": 3066,
    "start_time": "2022-04-14T13:28:57.128Z"
   },
   {
    "duration": 18,
    "start_time": "2022-04-14T13:29:03.071Z"
   },
   {
    "duration": 25,
    "start_time": "2022-04-14T13:29:49.221Z"
   },
   {
    "duration": 12,
    "start_time": "2022-04-14T13:29:58.982Z"
   },
   {
    "duration": 19,
    "start_time": "2022-04-14T13:30:09.662Z"
   },
   {
    "duration": 20,
    "start_time": "2022-04-14T13:30:22.429Z"
   },
   {
    "duration": 18,
    "start_time": "2022-04-14T13:30:43.509Z"
   },
   {
    "duration": 82,
    "start_time": "2022-04-14T13:30:46.725Z"
   },
   {
    "duration": 14,
    "start_time": "2022-04-14T13:30:46.808Z"
   },
   {
    "duration": 17,
    "start_time": "2022-04-14T13:30:46.823Z"
   },
   {
    "duration": 17,
    "start_time": "2022-04-14T13:30:46.843Z"
   },
   {
    "duration": 18,
    "start_time": "2022-04-14T13:30:46.862Z"
   },
   {
    "duration": 16,
    "start_time": "2022-04-14T13:30:46.881Z"
   },
   {
    "duration": 49,
    "start_time": "2022-04-14T13:30:46.899Z"
   },
   {
    "duration": 6,
    "start_time": "2022-04-14T13:30:46.950Z"
   },
   {
    "duration": 43,
    "start_time": "2022-04-14T13:30:46.957Z"
   },
   {
    "duration": 14,
    "start_time": "2022-04-14T13:30:47.002Z"
   },
   {
    "duration": 20,
    "start_time": "2022-04-14T13:30:47.018Z"
   },
   {
    "duration": 63,
    "start_time": "2022-04-14T13:30:47.040Z"
   },
   {
    "duration": 20,
    "start_time": "2022-04-14T13:30:47.105Z"
   },
   {
    "duration": 31,
    "start_time": "2022-04-14T13:30:47.126Z"
   },
   {
    "duration": 38,
    "start_time": "2022-04-14T13:30:47.158Z"
   },
   {
    "duration": 30,
    "start_time": "2022-04-14T13:30:47.197Z"
   },
   {
    "duration": 13,
    "start_time": "2022-04-14T13:30:53.403Z"
   },
   {
    "duration": 19,
    "start_time": "2022-04-14T13:30:58.564Z"
   },
   {
    "duration": 19,
    "start_time": "2022-04-14T13:31:07.295Z"
   },
   {
    "duration": 19,
    "start_time": "2022-04-14T13:33:04.755Z"
   },
   {
    "duration": 9,
    "start_time": "2022-04-14T13:33:21.721Z"
   },
   {
    "duration": 20,
    "start_time": "2022-04-14T13:33:26.305Z"
   },
   {
    "duration": 20,
    "start_time": "2022-04-14T13:33:36.793Z"
   },
   {
    "duration": 20,
    "start_time": "2022-04-14T13:33:56.673Z"
   },
   {
    "duration": 11,
    "start_time": "2022-04-14T13:34:12.330Z"
   },
   {
    "duration": 22,
    "start_time": "2022-04-14T13:34:18.153Z"
   },
   {
    "duration": 9,
    "start_time": "2022-04-14T13:34:27.671Z"
   },
   {
    "duration": 9,
    "start_time": "2022-04-14T13:34:50.121Z"
   },
   {
    "duration": 16,
    "start_time": "2022-04-14T13:35:19.791Z"
   },
   {
    "duration": 10,
    "start_time": "2022-04-14T13:35:42.430Z"
   },
   {
    "duration": 20,
    "start_time": "2022-04-14T13:35:55.014Z"
   },
   {
    "duration": 21,
    "start_time": "2022-04-14T13:36:04.622Z"
   },
   {
    "duration": 11,
    "start_time": "2022-04-14T13:36:52.597Z"
   },
   {
    "duration": 197,
    "start_time": "2022-04-14T13:36:58.220Z"
   },
   {
    "duration": 19,
    "start_time": "2022-04-14T13:37:01.372Z"
   },
   {
    "duration": 24,
    "start_time": "2022-04-14T13:39:03.930Z"
   },
   {
    "duration": 16,
    "start_time": "2022-04-14T13:41:10.881Z"
   },
   {
    "duration": 25,
    "start_time": "2022-04-14T13:41:23.735Z"
   },
   {
    "duration": 210,
    "start_time": "2022-04-14T13:42:17.542Z"
   },
   {
    "duration": 34,
    "start_time": "2022-04-14T13:44:06.669Z"
   },
   {
    "duration": 196,
    "start_time": "2022-04-14T13:47:47.320Z"
   },
   {
    "duration": 38,
    "start_time": "2022-04-14T13:52:33.256Z"
   },
   {
    "duration": 3169,
    "start_time": "2022-04-14T14:05:30.759Z"
   },
   {
    "duration": 26,
    "start_time": "2022-04-14T14:06:06.559Z"
   },
   {
    "duration": 51,
    "start_time": "2022-04-14T14:08:39.996Z"
   },
   {
    "duration": 37,
    "start_time": "2022-04-14T14:09:04.354Z"
   },
   {
    "duration": 141,
    "start_time": "2022-04-14T14:09:18.851Z"
   },
   {
    "duration": 87,
    "start_time": "2022-04-14T14:10:02.675Z"
   },
   {
    "duration": 54,
    "start_time": "2022-04-14T14:10:18.666Z"
   },
   {
    "duration": 51,
    "start_time": "2022-04-14T14:23:08.144Z"
   },
   {
    "duration": 3,
    "start_time": "2022-04-14T14:30:35.544Z"
   },
   {
    "duration": 4,
    "start_time": "2022-04-14T14:32:02.965Z"
   },
   {
    "duration": 800,
    "start_time": "2022-04-14T14:34:09.058Z"
   },
   {
    "duration": 4,
    "start_time": "2022-04-14T14:35:14.706Z"
   },
   {
    "duration": 2197,
    "start_time": "2022-04-14T14:35:31.969Z"
   },
   {
    "duration": 1038,
    "start_time": "2022-04-14T14:37:22.847Z"
   },
   {
    "duration": 799,
    "start_time": "2022-04-14T14:37:26.957Z"
   },
   {
    "duration": 80,
    "start_time": "2022-04-14T14:37:31.086Z"
   },
   {
    "duration": 14,
    "start_time": "2022-04-14T14:37:31.168Z"
   },
   {
    "duration": 10,
    "start_time": "2022-04-14T14:37:31.184Z"
   },
   {
    "duration": 5,
    "start_time": "2022-04-14T14:37:31.196Z"
   },
   {
    "duration": 29,
    "start_time": "2022-04-14T14:37:31.203Z"
   },
   {
    "duration": 4,
    "start_time": "2022-04-14T14:37:31.233Z"
   },
   {
    "duration": 34,
    "start_time": "2022-04-14T14:37:31.238Z"
   },
   {
    "duration": 6,
    "start_time": "2022-04-14T14:37:31.274Z"
   },
   {
    "duration": 75,
    "start_time": "2022-04-14T14:37:31.281Z"
   },
   {
    "duration": 4,
    "start_time": "2022-04-14T14:37:31.359Z"
   },
   {
    "duration": 6,
    "start_time": "2022-04-14T14:37:31.364Z"
   },
   {
    "duration": 53,
    "start_time": "2022-04-14T14:37:31.372Z"
   },
   {
    "duration": 22,
    "start_time": "2022-04-14T14:37:31.427Z"
   },
   {
    "duration": 20,
    "start_time": "2022-04-14T14:37:31.451Z"
   },
   {
    "duration": 23,
    "start_time": "2022-04-14T14:37:31.473Z"
   },
   {
    "duration": 823,
    "start_time": "2022-04-14T14:37:31.498Z"
   },
   {
    "duration": 0,
    "start_time": "2022-04-14T14:37:32.322Z"
   },
   {
    "duration": 210,
    "start_time": "2022-04-14T14:39:34.019Z"
   },
   {
    "duration": 179,
    "start_time": "2022-04-14T14:39:52.147Z"
   },
   {
    "duration": 211,
    "start_time": "2022-04-14T14:40:07.290Z"
   },
   {
    "duration": 206,
    "start_time": "2022-04-14T14:40:54.225Z"
   },
   {
    "duration": 195,
    "start_time": "2022-04-14T14:40:58.169Z"
   },
   {
    "duration": 196,
    "start_time": "2022-04-14T14:41:28.408Z"
   },
   {
    "duration": 183,
    "start_time": "2022-04-14T14:41:36.183Z"
   },
   {
    "duration": 6,
    "start_time": "2022-04-14T14:44:53.539Z"
   },
   {
    "duration": 5,
    "start_time": "2022-04-14T14:45:39.731Z"
   },
   {
    "duration": 8,
    "start_time": "2022-04-14T14:45:52.098Z"
   },
   {
    "duration": 8,
    "start_time": "2022-04-14T14:45:58.898Z"
   },
   {
    "duration": 5,
    "start_time": "2022-04-14T14:46:12.178Z"
   },
   {
    "duration": 4,
    "start_time": "2022-04-14T14:46:48.473Z"
   },
   {
    "duration": 6,
    "start_time": "2022-04-14T14:47:01.737Z"
   },
   {
    "duration": 7,
    "start_time": "2022-04-14T14:47:46.351Z"
   },
   {
    "duration": 7,
    "start_time": "2022-04-14T14:47:51.023Z"
   },
   {
    "duration": 5,
    "start_time": "2022-04-14T14:48:26.672Z"
   },
   {
    "duration": 17,
    "start_time": "2022-04-14T14:48:37.630Z"
   },
   {
    "duration": 4,
    "start_time": "2022-04-14T14:50:03.637Z"
   },
   {
    "duration": 7,
    "start_time": "2022-04-14T14:51:57.019Z"
   },
   {
    "duration": 22,
    "start_time": "2022-04-14T14:52:14.482Z"
   },
   {
    "duration": 9,
    "start_time": "2022-04-14T14:53:30.609Z"
   },
   {
    "duration": 32,
    "start_time": "2022-04-14T14:53:45.848Z"
   },
   {
    "duration": 8,
    "start_time": "2022-04-14T14:53:49.919Z"
   },
   {
    "duration": 20,
    "start_time": "2022-04-14T14:54:01.423Z"
   },
   {
    "duration": 4,
    "start_time": "2022-04-14T14:54:16.616Z"
   },
   {
    "duration": 77,
    "start_time": "2022-04-14T14:54:24.344Z"
   },
   {
    "duration": 14,
    "start_time": "2022-04-14T14:54:24.423Z"
   },
   {
    "duration": 10,
    "start_time": "2022-04-14T14:54:24.439Z"
   },
   {
    "duration": 3,
    "start_time": "2022-04-14T14:54:24.451Z"
   },
   {
    "duration": 12,
    "start_time": "2022-04-14T14:54:24.456Z"
   },
   {
    "duration": 4,
    "start_time": "2022-04-14T14:54:24.469Z"
   },
   {
    "duration": 56,
    "start_time": "2022-04-14T14:54:24.474Z"
   },
   {
    "duration": 5,
    "start_time": "2022-04-14T14:54:24.532Z"
   },
   {
    "duration": 32,
    "start_time": "2022-04-14T14:54:24.539Z"
   },
   {
    "duration": 4,
    "start_time": "2022-04-14T14:54:24.574Z"
   },
   {
    "duration": 8,
    "start_time": "2022-04-14T14:54:24.579Z"
   },
   {
    "duration": 64,
    "start_time": "2022-04-14T14:54:24.588Z"
   },
   {
    "duration": 20,
    "start_time": "2022-04-14T14:54:24.654Z"
   },
   {
    "duration": 18,
    "start_time": "2022-04-14T14:54:24.676Z"
   },
   {
    "duration": 44,
    "start_time": "2022-04-14T14:54:24.695Z"
   },
   {
    "duration": 5,
    "start_time": "2022-04-14T14:54:24.741Z"
   },
   {
    "duration": 22,
    "start_time": "2022-04-14T14:54:24.748Z"
   },
   {
    "duration": 193,
    "start_time": "2022-04-14T14:54:24.771Z"
   },
   {
    "duration": 0,
    "start_time": "2022-04-14T14:54:24.966Z"
   },
   {
    "duration": 5,
    "start_time": "2022-04-14T14:57:21.068Z"
   },
   {
    "duration": 8,
    "start_time": "2022-04-14T14:57:34.435Z"
   },
   {
    "duration": 19,
    "start_time": "2022-04-14T14:57:37.562Z"
   },
   {
    "duration": 26,
    "start_time": "2022-04-14T14:58:13.963Z"
   },
   {
    "duration": 9,
    "start_time": "2022-04-14T14:58:47.570Z"
   },
   {
    "duration": 10,
    "start_time": "2022-04-14T14:59:00.273Z"
   },
   {
    "duration": 10,
    "start_time": "2022-04-14T14:59:05.185Z"
   },
   {
    "duration": 10,
    "start_time": "2022-04-14T14:59:10.473Z"
   },
   {
    "duration": 26,
    "start_time": "2022-04-14T14:59:13.832Z"
   },
   {
    "duration": 10,
    "start_time": "2022-04-14T14:59:26.872Z"
   },
   {
    "duration": 8,
    "start_time": "2022-04-14T14:59:28.720Z"
   },
   {
    "duration": 19,
    "start_time": "2022-04-14T14:59:35.023Z"
   },
   {
    "duration": 874,
    "start_time": "2022-04-14T15:00:13.895Z"
   },
   {
    "duration": 228,
    "start_time": "2022-04-14T15:00:57.111Z"
   },
   {
    "duration": 54,
    "start_time": "2022-04-14T15:01:03.815Z"
   },
   {
    "duration": 22,
    "start_time": "2022-04-14T15:01:47.694Z"
   },
   {
    "duration": 9,
    "start_time": "2022-04-14T15:01:48.166Z"
   },
   {
    "duration": 77,
    "start_time": "2022-04-14T15:01:49.045Z"
   },
   {
    "duration": 4,
    "start_time": "2022-04-14T15:02:18.485Z"
   },
   {
    "duration": 7,
    "start_time": "2022-04-14T15:02:22.453Z"
   },
   {
    "duration": 74,
    "start_time": "2022-04-14T15:02:23.134Z"
   },
   {
    "duration": 4,
    "start_time": "2022-04-14T15:02:52.196Z"
   },
   {
    "duration": 7,
    "start_time": "2022-04-14T15:02:52.595Z"
   },
   {
    "duration": 44,
    "start_time": "2022-04-14T15:02:53.715Z"
   },
   {
    "duration": 4,
    "start_time": "2022-04-14T15:03:04.378Z"
   },
   {
    "duration": 7,
    "start_time": "2022-04-14T15:03:04.796Z"
   },
   {
    "duration": 53,
    "start_time": "2022-04-14T15:03:05.691Z"
   },
   {
    "duration": 74,
    "start_time": "2022-04-14T15:04:07.188Z"
   },
   {
    "duration": 22,
    "start_time": "2022-04-14T15:04:07.264Z"
   },
   {
    "duration": 36,
    "start_time": "2022-04-14T15:04:07.288Z"
   },
   {
    "duration": 9,
    "start_time": "2022-04-14T15:04:07.327Z"
   },
   {
    "duration": 24,
    "start_time": "2022-04-14T15:04:07.338Z"
   },
   {
    "duration": 9,
    "start_time": "2022-04-14T15:04:07.364Z"
   },
   {
    "duration": 49,
    "start_time": "2022-04-14T15:04:07.375Z"
   },
   {
    "duration": 7,
    "start_time": "2022-04-14T15:04:07.426Z"
   },
   {
    "duration": 55,
    "start_time": "2022-04-14T15:04:07.435Z"
   },
   {
    "duration": 5,
    "start_time": "2022-04-14T15:04:07.492Z"
   },
   {
    "duration": 27,
    "start_time": "2022-04-14T15:04:07.498Z"
   },
   {
    "duration": 60,
    "start_time": "2022-04-14T15:04:07.527Z"
   },
   {
    "duration": 31,
    "start_time": "2022-04-14T15:04:07.589Z"
   },
   {
    "duration": 26,
    "start_time": "2022-04-14T15:04:07.622Z"
   },
   {
    "duration": 24,
    "start_time": "2022-04-14T15:04:07.650Z"
   },
   {
    "duration": 16,
    "start_time": "2022-04-14T15:04:07.675Z"
   },
   {
    "duration": 32,
    "start_time": "2022-04-14T15:04:07.693Z"
   },
   {
    "duration": 51,
    "start_time": "2022-04-14T15:04:07.727Z"
   },
   {
    "duration": 4,
    "start_time": "2022-04-14T15:06:06.048Z"
   },
   {
    "duration": 4,
    "start_time": "2022-04-14T15:06:08.319Z"
   },
   {
    "duration": 29,
    "start_time": "2022-04-14T15:06:08.903Z"
   },
   {
    "duration": 11,
    "start_time": "2022-04-14T15:06:09.247Z"
   },
   {
    "duration": 12,
    "start_time": "2022-04-14T15:06:09.447Z"
   },
   {
    "duration": 24,
    "start_time": "2022-04-14T15:06:09.895Z"
   },
   {
    "duration": 5,
    "start_time": "2022-04-14T15:06:10.598Z"
   },
   {
    "duration": 8,
    "start_time": "2022-04-14T15:06:10.918Z"
   },
   {
    "duration": 50,
    "start_time": "2022-04-14T15:06:11.336Z"
   },
   {
    "duration": 104,
    "start_time": "2022-04-14T15:06:14.489Z"
   },
   {
    "duration": 14,
    "start_time": "2022-04-14T15:06:14.596Z"
   },
   {
    "duration": 10,
    "start_time": "2022-04-14T15:06:14.623Z"
   },
   {
    "duration": 5,
    "start_time": "2022-04-14T15:06:14.636Z"
   },
   {
    "duration": 11,
    "start_time": "2022-04-14T15:06:14.643Z"
   },
   {
    "duration": 4,
    "start_time": "2022-04-14T15:06:14.656Z"
   },
   {
    "duration": 22,
    "start_time": "2022-04-14T15:06:14.662Z"
   },
   {
    "duration": 8,
    "start_time": "2022-04-14T15:06:14.722Z"
   },
   {
    "duration": 34,
    "start_time": "2022-04-14T15:06:14.731Z"
   },
   {
    "duration": 6,
    "start_time": "2022-04-14T15:06:14.768Z"
   },
   {
    "duration": 10,
    "start_time": "2022-04-14T15:06:14.776Z"
   },
   {
    "duration": 137,
    "start_time": "2022-04-14T15:06:14.788Z"
   },
   {
    "duration": 28,
    "start_time": "2022-04-14T15:06:14.927Z"
   },
   {
    "duration": 28,
    "start_time": "2022-04-14T15:06:14.957Z"
   },
   {
    "duration": 51,
    "start_time": "2022-04-14T15:06:14.987Z"
   },
   {
    "duration": 4,
    "start_time": "2022-04-14T15:06:15.040Z"
   },
   {
    "duration": 9,
    "start_time": "2022-04-14T15:06:15.046Z"
   },
   {
    "duration": 73,
    "start_time": "2022-04-14T15:06:15.057Z"
   },
   {
    "duration": 39,
    "start_time": "2022-04-14T16:07:59.765Z"
   },
   {
    "duration": 70,
    "start_time": "2022-04-14T16:08:07.604Z"
   },
   {
    "duration": 16,
    "start_time": "2022-04-14T16:08:07.676Z"
   },
   {
    "duration": 11,
    "start_time": "2022-04-14T16:08:07.693Z"
   },
   {
    "duration": 4,
    "start_time": "2022-04-14T16:08:07.722Z"
   },
   {
    "duration": 13,
    "start_time": "2022-04-14T16:08:07.728Z"
   },
   {
    "duration": 4,
    "start_time": "2022-04-14T16:08:07.743Z"
   },
   {
    "duration": 21,
    "start_time": "2022-04-14T16:08:07.749Z"
   },
   {
    "duration": 6,
    "start_time": "2022-04-14T16:08:07.771Z"
   },
   {
    "duration": 64,
    "start_time": "2022-04-14T16:08:07.779Z"
   },
   {
    "duration": 4,
    "start_time": "2022-04-14T16:08:07.846Z"
   },
   {
    "duration": 4,
    "start_time": "2022-04-14T16:08:07.851Z"
   },
   {
    "duration": 41,
    "start_time": "2022-04-14T16:08:07.856Z"
   },
   {
    "duration": 37,
    "start_time": "2022-04-14T16:08:07.898Z"
   },
   {
    "duration": 20,
    "start_time": "2022-04-14T16:08:07.937Z"
   },
   {
    "duration": 25,
    "start_time": "2022-04-14T16:08:07.959Z"
   },
   {
    "duration": 65,
    "start_time": "2022-04-14T16:08:07.985Z"
   },
   {
    "duration": 38,
    "start_time": "2022-04-14T16:08:10.267Z"
   },
   {
    "duration": 51,
    "start_time": "2022-04-14T16:08:20.778Z"
   },
   {
    "duration": 51,
    "start_time": "2022-04-14T16:08:26.715Z"
   },
   {
    "duration": 42,
    "start_time": "2022-04-14T16:19:37.213Z"
   },
   {
    "duration": 30,
    "start_time": "2022-04-14T16:19:51.044Z"
   },
   {
    "duration": 82,
    "start_time": "2022-04-14T16:20:04.621Z"
   },
   {
    "duration": 15,
    "start_time": "2022-04-14T16:20:04.705Z"
   },
   {
    "duration": 16,
    "start_time": "2022-04-14T16:20:04.725Z"
   },
   {
    "duration": 4,
    "start_time": "2022-04-14T16:20:04.744Z"
   },
   {
    "duration": 13,
    "start_time": "2022-04-14T16:20:04.749Z"
   },
   {
    "duration": 4,
    "start_time": "2022-04-14T16:20:04.764Z"
   },
   {
    "duration": 63,
    "start_time": "2022-04-14T16:20:04.770Z"
   },
   {
    "duration": 6,
    "start_time": "2022-04-14T16:20:04.835Z"
   },
   {
    "duration": 32,
    "start_time": "2022-04-14T16:20:04.843Z"
   },
   {
    "duration": 5,
    "start_time": "2022-04-14T16:20:04.878Z"
   },
   {
    "duration": 6,
    "start_time": "2022-04-14T16:20:04.884Z"
   },
   {
    "duration": 62,
    "start_time": "2022-04-14T16:20:04.892Z"
   },
   {
    "duration": 19,
    "start_time": "2022-04-14T16:20:04.956Z"
   },
   {
    "duration": 17,
    "start_time": "2022-04-14T16:20:04.977Z"
   },
   {
    "duration": 50,
    "start_time": "2022-04-14T16:20:04.995Z"
   },
   {
    "duration": 17,
    "start_time": "2022-04-14T16:20:05.047Z"
   },
   {
    "duration": 48,
    "start_time": "2022-04-14T16:20:53.826Z"
   },
   {
    "duration": 56,
    "start_time": "2022-04-14T16:22:52.892Z"
   },
   {
    "duration": 67,
    "start_time": "2022-04-14T16:24:56.502Z"
   },
   {
    "duration": 51,
    "start_time": "2022-04-15T10:41:01.609Z"
   },
   {
    "duration": 7,
    "start_time": "2022-04-15T10:41:02.268Z"
   },
   {
    "duration": 445,
    "start_time": "2022-04-15T10:41:06.610Z"
   },
   {
    "duration": 18,
    "start_time": "2022-04-15T10:41:07.056Z"
   },
   {
    "duration": 15,
    "start_time": "2022-04-15T10:41:07.076Z"
   },
   {
    "duration": 13,
    "start_time": "2022-04-15T10:41:07.094Z"
   },
   {
    "duration": 21,
    "start_time": "2022-04-15T10:41:07.109Z"
   },
   {
    "duration": 4,
    "start_time": "2022-04-15T10:41:07.132Z"
   },
   {
    "duration": 42,
    "start_time": "2022-04-15T10:41:07.138Z"
   },
   {
    "duration": 6,
    "start_time": "2022-04-15T10:41:07.182Z"
   },
   {
    "duration": 45,
    "start_time": "2022-04-15T10:41:07.189Z"
   },
   {
    "duration": 26,
    "start_time": "2022-04-15T10:41:07.236Z"
   },
   {
    "duration": 23,
    "start_time": "2022-04-15T10:41:07.264Z"
   },
   {
    "duration": 49,
    "start_time": "2022-04-15T10:41:07.290Z"
   },
   {
    "duration": 21,
    "start_time": "2022-04-15T10:41:07.340Z"
   },
   {
    "duration": 21,
    "start_time": "2022-04-15T10:41:07.363Z"
   },
   {
    "duration": 23,
    "start_time": "2022-04-15T10:41:07.386Z"
   },
   {
    "duration": 78,
    "start_time": "2022-04-15T10:41:07.411Z"
   },
   {
    "duration": 475,
    "start_time": "2022-04-15T10:46:26.809Z"
   },
   {
    "duration": 4,
    "start_time": "2022-04-15T10:51:41.132Z"
   },
   {
    "duration": 789,
    "start_time": "2022-04-15T10:57:53.812Z"
   },
   {
    "duration": 43,
    "start_time": "2022-04-15T11:11:09.766Z"
   },
   {
    "duration": 7,
    "start_time": "2022-04-15T11:50:04.631Z"
   },
   {
    "duration": 10,
    "start_time": "2022-04-15T11:50:09.318Z"
   },
   {
    "duration": 9,
    "start_time": "2022-04-15T11:50:15.014Z"
   },
   {
    "duration": 9,
    "start_time": "2022-04-15T11:50:19.142Z"
   },
   {
    "duration": 6,
    "start_time": "2022-04-15T11:51:13.868Z"
   },
   {
    "duration": 11,
    "start_time": "2022-04-15T11:52:08.708Z"
   },
   {
    "duration": 11,
    "start_time": "2022-04-15T11:52:52.108Z"
   },
   {
    "duration": 188,
    "start_time": "2022-04-15T11:58:56.668Z"
   },
   {
    "duration": 15,
    "start_time": "2022-04-15T12:02:43.405Z"
   },
   {
    "duration": 129,
    "start_time": "2022-04-15T12:03:31.214Z"
   },
   {
    "duration": 22,
    "start_time": "2022-04-15T12:03:31.344Z"
   },
   {
    "duration": 43,
    "start_time": "2022-04-15T12:03:31.367Z"
   },
   {
    "duration": 12,
    "start_time": "2022-04-15T12:03:31.412Z"
   },
   {
    "duration": 18,
    "start_time": "2022-04-15T12:03:31.426Z"
   },
   {
    "duration": 5,
    "start_time": "2022-04-15T12:03:31.445Z"
   },
   {
    "duration": 54,
    "start_time": "2022-04-15T12:03:31.451Z"
   },
   {
    "duration": 6,
    "start_time": "2022-04-15T12:03:31.507Z"
   },
   {
    "duration": 42,
    "start_time": "2022-04-15T12:03:31.515Z"
   },
   {
    "duration": 11,
    "start_time": "2022-04-15T12:03:31.560Z"
   },
   {
    "duration": 30,
    "start_time": "2022-04-15T12:03:31.572Z"
   },
   {
    "duration": 57,
    "start_time": "2022-04-15T12:03:31.603Z"
   },
   {
    "duration": 30,
    "start_time": "2022-04-15T12:03:31.661Z"
   },
   {
    "duration": 21,
    "start_time": "2022-04-15T12:03:31.693Z"
   },
   {
    "duration": 69,
    "start_time": "2022-04-15T12:03:31.716Z"
   },
   {
    "duration": 55,
    "start_time": "2022-04-15T12:03:31.786Z"
   },
   {
    "duration": 18,
    "start_time": "2022-04-15T12:03:31.843Z"
   },
   {
    "duration": 44,
    "start_time": "2022-04-15T12:03:31.863Z"
   },
   {
    "duration": 5,
    "start_time": "2022-04-15T12:04:21.515Z"
   },
   {
    "duration": 73,
    "start_time": "2022-04-15T12:04:28.592Z"
   },
   {
    "duration": 23,
    "start_time": "2022-04-15T12:04:28.667Z"
   },
   {
    "duration": 19,
    "start_time": "2022-04-15T12:04:28.694Z"
   },
   {
    "duration": 4,
    "start_time": "2022-04-15T12:04:28.716Z"
   },
   {
    "duration": 56,
    "start_time": "2022-04-15T12:04:28.722Z"
   },
   {
    "duration": 5,
    "start_time": "2022-04-15T12:04:28.780Z"
   },
   {
    "duration": 34,
    "start_time": "2022-04-15T12:04:28.787Z"
   },
   {
    "duration": 7,
    "start_time": "2022-04-15T12:04:28.822Z"
   },
   {
    "duration": 69,
    "start_time": "2022-04-15T12:04:28.831Z"
   },
   {
    "duration": 4,
    "start_time": "2022-04-15T12:04:28.903Z"
   },
   {
    "duration": 6,
    "start_time": "2022-04-15T12:04:28.909Z"
   },
   {
    "duration": 50,
    "start_time": "2022-04-15T12:04:28.916Z"
   },
   {
    "duration": 32,
    "start_time": "2022-04-15T12:04:28.968Z"
   },
   {
    "duration": 20,
    "start_time": "2022-04-15T12:04:29.002Z"
   },
   {
    "duration": 72,
    "start_time": "2022-04-15T12:04:29.023Z"
   },
   {
    "duration": 61,
    "start_time": "2022-04-15T12:04:29.097Z"
   },
   {
    "duration": 12,
    "start_time": "2022-04-15T12:04:29.160Z"
   },
   {
    "duration": 26,
    "start_time": "2022-04-15T12:04:29.174Z"
   },
   {
    "duration": 14,
    "start_time": "2022-04-15T12:04:32.587Z"
   },
   {
    "duration": 11,
    "start_time": "2022-04-15T12:04:46.419Z"
   },
   {
    "duration": 7,
    "start_time": "2022-04-15T12:09:38.676Z"
   },
   {
    "duration": 12,
    "start_time": "2022-04-15T12:09:52.275Z"
   },
   {
    "duration": 20,
    "start_time": "2022-04-15T12:10:10.723Z"
   },
   {
    "duration": 25,
    "start_time": "2022-04-15T12:10:39.491Z"
   },
   {
    "duration": 18,
    "start_time": "2022-04-15T12:11:32.866Z"
   },
   {
    "duration": 68,
    "start_time": "2022-04-15T12:11:57.977Z"
   },
   {
    "duration": 25,
    "start_time": "2022-04-15T12:11:59.248Z"
   },
   {
    "duration": 19,
    "start_time": "2022-04-15T12:12:32.666Z"
   },
   {
    "duration": 23,
    "start_time": "2022-04-15T12:13:11.552Z"
   },
   {
    "duration": 20,
    "start_time": "2022-04-15T12:13:16.687Z"
   },
   {
    "duration": 22,
    "start_time": "2022-04-15T12:13:23.918Z"
   },
   {
    "duration": 20,
    "start_time": "2022-04-15T12:13:32.318Z"
   },
   {
    "duration": 25,
    "start_time": "2022-04-15T12:14:26.078Z"
   },
   {
    "duration": 20,
    "start_time": "2022-04-15T12:14:32.701Z"
   },
   {
    "duration": 20,
    "start_time": "2022-04-15T12:16:42.277Z"
   },
   {
    "duration": 21,
    "start_time": "2022-04-15T12:19:01.423Z"
   },
   {
    "duration": 23,
    "start_time": "2022-04-15T12:20:07.238Z"
   },
   {
    "duration": 19,
    "start_time": "2022-04-15T12:20:51.932Z"
   },
   {
    "duration": 23,
    "start_time": "2022-04-15T12:20:56.340Z"
   },
   {
    "duration": 21,
    "start_time": "2022-04-15T12:25:18.974Z"
   },
   {
    "duration": 19,
    "start_time": "2022-04-15T12:25:24.855Z"
   },
   {
    "duration": 27,
    "start_time": "2022-04-15T12:25:33.815Z"
   },
   {
    "duration": 381,
    "start_time": "2022-04-15T12:26:35.917Z"
   },
   {
    "duration": 10,
    "start_time": "2022-04-15T12:30:08.688Z"
   },
   {
    "duration": 15,
    "start_time": "2022-04-15T12:30:14.073Z"
   },
   {
    "duration": 14,
    "start_time": "2022-04-15T12:30:35.216Z"
   },
   {
    "duration": 75,
    "start_time": "2022-04-15T12:30:45.921Z"
   },
   {
    "duration": 17,
    "start_time": "2022-04-15T12:30:45.998Z"
   },
   {
    "duration": 41,
    "start_time": "2022-04-15T12:30:46.017Z"
   },
   {
    "duration": 7,
    "start_time": "2022-04-15T12:30:46.061Z"
   },
   {
    "duration": 25,
    "start_time": "2022-04-15T12:30:46.070Z"
   },
   {
    "duration": 5,
    "start_time": "2022-04-15T12:30:46.097Z"
   },
   {
    "duration": 21,
    "start_time": "2022-04-15T12:30:46.104Z"
   },
   {
    "duration": 6,
    "start_time": "2022-04-15T12:30:46.126Z"
   },
   {
    "duration": 57,
    "start_time": "2022-04-15T12:30:46.133Z"
   },
   {
    "duration": 4,
    "start_time": "2022-04-15T12:30:46.194Z"
   },
   {
    "duration": 10,
    "start_time": "2022-04-15T12:30:46.200Z"
   },
   {
    "duration": 72,
    "start_time": "2022-04-15T12:30:46.212Z"
   },
   {
    "duration": 20,
    "start_time": "2022-04-15T12:30:46.285Z"
   },
   {
    "duration": 19,
    "start_time": "2022-04-15T12:30:46.307Z"
   },
   {
    "duration": 49,
    "start_time": "2022-04-15T12:30:46.327Z"
   },
   {
    "duration": 49,
    "start_time": "2022-04-15T12:30:46.377Z"
   },
   {
    "duration": 31,
    "start_time": "2022-04-15T12:30:46.428Z"
   },
   {
    "duration": 12,
    "start_time": "2022-04-15T12:30:46.460Z"
   },
   {
    "duration": 12,
    "start_time": "2022-04-15T12:30:46.474Z"
   },
   {
    "duration": 11,
    "start_time": "2022-04-15T12:34:15.883Z"
   },
   {
    "duration": 10,
    "start_time": "2022-04-15T12:37:18.679Z"
   },
   {
    "duration": 158,
    "start_time": "2022-04-15T12:37:46.606Z"
   },
   {
    "duration": 10,
    "start_time": "2022-04-15T12:37:50.671Z"
   },
   {
    "duration": 11,
    "start_time": "2022-04-15T12:37:58.695Z"
   },
   {
    "duration": 11,
    "start_time": "2022-04-15T12:38:23.126Z"
   },
   {
    "duration": 12,
    "start_time": "2022-04-15T12:41:54.057Z"
   },
   {
    "duration": 12,
    "start_time": "2022-04-15T12:43:04.680Z"
   },
   {
    "duration": 13,
    "start_time": "2022-04-15T12:43:24.982Z"
   },
   {
    "duration": 161,
    "start_time": "2022-04-15T12:46:11.324Z"
   },
   {
    "duration": 3,
    "start_time": "2022-04-15T12:52:49.668Z"
   },
   {
    "duration": 2,
    "start_time": "2022-04-15T12:52:58.131Z"
   },
   {
    "duration": 617,
    "start_time": "2022-04-16T14:40:32.159Z"
   },
   {
    "duration": 29,
    "start_time": "2022-04-16T14:40:32.779Z"
   },
   {
    "duration": 17,
    "start_time": "2022-04-16T14:40:32.810Z"
   },
   {
    "duration": 22,
    "start_time": "2022-04-16T14:40:32.831Z"
   },
   {
    "duration": 51,
    "start_time": "2022-04-16T14:40:32.855Z"
   },
   {
    "duration": 5,
    "start_time": "2022-04-16T14:40:32.908Z"
   },
   {
    "duration": 56,
    "start_time": "2022-04-16T14:40:32.915Z"
   },
   {
    "duration": 25,
    "start_time": "2022-04-16T14:40:32.974Z"
   },
   {
    "duration": 43,
    "start_time": "2022-04-16T14:40:33.001Z"
   },
   {
    "duration": 6,
    "start_time": "2022-04-16T14:40:33.047Z"
   },
   {
    "duration": 38,
    "start_time": "2022-04-16T14:40:33.055Z"
   },
   {
    "duration": 54,
    "start_time": "2022-04-16T14:40:33.095Z"
   },
   {
    "duration": 55,
    "start_time": "2022-04-16T14:40:33.152Z"
   },
   {
    "duration": 30,
    "start_time": "2022-04-16T14:40:33.209Z"
   },
   {
    "duration": 62,
    "start_time": "2022-04-16T14:40:33.241Z"
   },
   {
    "duration": 95,
    "start_time": "2022-04-16T14:40:33.306Z"
   },
   {
    "duration": 15,
    "start_time": "2022-04-16T14:40:33.403Z"
   },
   {
    "duration": 14,
    "start_time": "2022-04-16T14:40:33.420Z"
   },
   {
    "duration": 14,
    "start_time": "2022-04-16T14:40:33.436Z"
   },
   {
    "duration": 15,
    "start_time": "2022-04-16T14:40:33.494Z"
   },
   {
    "duration": 17,
    "start_time": "2022-04-16T14:49:21.071Z"
   },
   {
    "duration": 52,
    "start_time": "2022-04-26T20:56:21.355Z"
   },
   {
    "duration": 8,
    "start_time": "2022-04-26T20:56:31.777Z"
   },
   {
    "duration": 6,
    "start_time": "2022-04-26T20:56:37.655Z"
   },
   {
    "duration": 588,
    "start_time": "2022-04-26T20:56:44.314Z"
   },
   {
    "duration": 15,
    "start_time": "2022-04-26T20:56:44.904Z"
   },
   {
    "duration": 9,
    "start_time": "2022-04-26T20:56:44.921Z"
   },
   {
    "duration": 3,
    "start_time": "2022-04-26T20:56:44.932Z"
   },
   {
    "duration": 13,
    "start_time": "2022-04-26T20:56:44.937Z"
   },
   {
    "duration": 4,
    "start_time": "2022-04-26T20:56:44.951Z"
   },
   {
    "duration": 22,
    "start_time": "2022-04-26T20:56:44.956Z"
   },
   {
    "duration": 7,
    "start_time": "2022-04-26T20:56:44.979Z"
   },
   {
    "duration": 31,
    "start_time": "2022-04-26T20:56:45.023Z"
   },
   {
    "duration": 4,
    "start_time": "2022-04-26T20:56:45.056Z"
   },
   {
    "duration": 6,
    "start_time": "2022-04-26T20:56:45.062Z"
   },
   {
    "duration": 61,
    "start_time": "2022-04-26T20:56:45.070Z"
   },
   {
    "duration": 21,
    "start_time": "2022-04-26T20:56:45.132Z"
   },
   {
    "duration": 21,
    "start_time": "2022-04-26T20:56:45.154Z"
   },
   {
    "duration": 50,
    "start_time": "2022-04-26T20:56:45.176Z"
   },
   {
    "duration": 53,
    "start_time": "2022-04-26T20:56:45.228Z"
   },
   {
    "duration": 9,
    "start_time": "2022-04-26T20:56:45.283Z"
   },
   {
    "duration": 31,
    "start_time": "2022-04-26T20:56:45.294Z"
   },
   {
    "duration": 10,
    "start_time": "2022-04-26T20:56:45.327Z"
   },
   {
    "duration": 12,
    "start_time": "2022-04-26T20:56:45.338Z"
   },
   {
    "duration": 3116,
    "start_time": "2022-04-26T20:57:16.383Z"
   },
   {
    "duration": 0,
    "start_time": "2022-04-26T20:57:19.501Z"
   },
   {
    "duration": 83,
    "start_time": "2022-04-26T20:57:43.249Z"
   },
   {
    "duration": 23,
    "start_time": "2022-04-26T20:57:43.334Z"
   },
   {
    "duration": 16,
    "start_time": "2022-04-26T20:57:43.359Z"
   },
   {
    "duration": 3,
    "start_time": "2022-04-26T20:57:43.378Z"
   },
   {
    "duration": 40,
    "start_time": "2022-04-26T20:57:43.383Z"
   },
   {
    "duration": 7,
    "start_time": "2022-04-26T20:57:43.425Z"
   },
   {
    "duration": 31,
    "start_time": "2022-04-26T20:57:43.433Z"
   },
   {
    "duration": 7,
    "start_time": "2022-04-26T20:57:43.466Z"
   },
   {
    "duration": 65,
    "start_time": "2022-04-26T20:57:43.475Z"
   },
   {
    "duration": 4,
    "start_time": "2022-04-26T20:57:43.543Z"
   },
   {
    "duration": 4,
    "start_time": "2022-04-26T20:57:43.549Z"
   },
   {
    "duration": 76,
    "start_time": "2022-04-26T20:57:43.555Z"
   },
   {
    "duration": 28,
    "start_time": "2022-04-26T20:57:43.633Z"
   },
   {
    "duration": 28,
    "start_time": "2022-04-26T20:57:43.663Z"
   },
   {
    "duration": 48,
    "start_time": "2022-04-26T20:57:43.693Z"
   },
   {
    "duration": 59,
    "start_time": "2022-04-26T20:57:43.742Z"
   },
   {
    "duration": 28,
    "start_time": "2022-04-26T20:57:43.802Z"
   },
   {
    "duration": 10,
    "start_time": "2022-04-26T20:57:43.831Z"
   },
   {
    "duration": 11,
    "start_time": "2022-04-26T20:57:43.843Z"
   },
   {
    "duration": 11,
    "start_time": "2022-04-26T20:57:43.855Z"
   }
  ],
  "kernelspec": {
   "display_name": "Python 3 (ipykernel)",
   "language": "python",
   "name": "python3"
  },
  "language_info": {
   "codemirror_mode": {
    "name": "ipython",
    "version": 3
   },
   "file_extension": ".py",
   "mimetype": "text/x-python",
   "name": "python",
   "nbconvert_exporter": "python",
   "pygments_lexer": "ipython3",
   "version": "3.9.13"
  },
  "toc": {
   "base_numbering": 1,
   "nav_menu": {},
   "number_sections": true,
   "sideBar": true,
   "skip_h1_title": true,
   "title_cell": "Table of Contents",
   "title_sidebar": "Contents",
   "toc_cell": false,
   "toc_position": {},
   "toc_section_display": true,
   "toc_window_display": true
  }
 },
 "nbformat": 4,
 "nbformat_minor": 5
}
