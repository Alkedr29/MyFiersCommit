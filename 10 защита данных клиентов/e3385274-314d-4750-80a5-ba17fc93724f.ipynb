{
 "cells": [
  {
   "cell_type": "markdown",
   "metadata": {
    "toc": true
   },
   "source": [
    "<h1>Содержание<span class=\"tocSkip\"></span></h1>\n",
    "<div class=\"toc\"><ul class=\"toc-item\"><li><span><a href=\"#Загрузка-данных\" data-toc-modified-id=\"Загрузка-данных-1\"><span class=\"toc-item-num\">1&nbsp;&nbsp;</span>Загрузка данных</a></span></li><li><span><a href=\"#Умножение-матриц\" data-toc-modified-id=\"Умножение-матриц-2\"><span class=\"toc-item-num\">2&nbsp;&nbsp;</span>Умножение матриц</a></span></li><li><span><a href=\"#Алгоритм-преобразования\" data-toc-modified-id=\"Алгоритм-преобразования-3\"><span class=\"toc-item-num\">3&nbsp;&nbsp;</span>Алгоритм преобразования</a></span></li><li><span><a href=\"#Проверка-алгоритма\" data-toc-modified-id=\"Проверка-алгоритма-4\"><span class=\"toc-item-num\">4&nbsp;&nbsp;</span>Проверка алгоритма</a></span></li><li><span><a href=\"#Чек-лист-проверки\" data-toc-modified-id=\"Чек-лист-проверки-5\"><span class=\"toc-item-num\">5&nbsp;&nbsp;</span>Чек-лист проверки</a></span></li></ul></div>"
   ]
  },
  {
   "cell_type": "markdown",
   "metadata": {},
   "source": [
    "# Защита персональных данных клиентов"
   ]
  },
  {
   "cell_type": "markdown",
   "metadata": {},
   "source": [
    "Вам нужно защитить данные клиентов страховой компании «Хоть потоп». Разработайте такой метод преобразования данных, чтобы по ним было сложно восстановить персональную информацию. Обоснуйте корректность его работы.\n",
    "\n",
    "Нужно защитить данные, чтобы при преобразовании качество моделей машинного обучения не ухудшилось. Подбирать наилучшую модель не требуется."
   ]
  },
  {
   "cell_type": "markdown",
   "metadata": {},
   "source": [
    "**План:**\n",
    "\n",
    "1. Загрузим и проведем предобработку данных.\n",
    "\n",
    "2. В качестве кодирования используем умножение матириц.\n",
    "\n",
    "3. Обучим LinearRegression отдельно на начальных и на закодированных данных.Сравним качество по f2.\n"
   ]
  },
  {
   "cell_type": "markdown",
   "metadata": {},
   "source": [
    "## Загрузка данных"
   ]
  },
  {
   "cell_type": "code",
   "execution_count": 30,
   "metadata": {},
   "outputs": [],
   "source": [
    "import pandas as pd\n",
    "import numpy as np\n",
    "import seaborn as sn\n",
    "from sklearn.linear_model import LinearRegression\n",
    "from sklearn.model_selection import train_test_split\n",
    "from sklearn.metrics import r2_score"
   ]
  },
  {
   "cell_type": "code",
   "execution_count": 31,
   "metadata": {},
   "outputs": [],
   "source": [
    "try:\n",
    "    df = pd.read_csv('/datasets/insurance.csv')\n",
    "except:\n",
    "    df = pd.read_csv('insurance.csv')"
   ]
  },
  {
   "cell_type": "code",
   "execution_count": 32,
   "metadata": {},
   "outputs": [
    {
     "data": {
      "text/html": [
       "<div>\n",
       "<style scoped>\n",
       "    .dataframe tbody tr th:only-of-type {\n",
       "        vertical-align: middle;\n",
       "    }\n",
       "\n",
       "    .dataframe tbody tr th {\n",
       "        vertical-align: top;\n",
       "    }\n",
       "\n",
       "    .dataframe thead th {\n",
       "        text-align: right;\n",
       "    }\n",
       "</style>\n",
       "<table border=\"1\" class=\"dataframe\">\n",
       "  <thead>\n",
       "    <tr style=\"text-align: right;\">\n",
       "      <th></th>\n",
       "      <th>Пол</th>\n",
       "      <th>Возраст</th>\n",
       "      <th>Зарплата</th>\n",
       "      <th>Члены семьи</th>\n",
       "      <th>Страховые выплаты</th>\n",
       "    </tr>\n",
       "  </thead>\n",
       "  <tbody>\n",
       "    <tr>\n",
       "      <th>0</th>\n",
       "      <td>1</td>\n",
       "      <td>41.0</td>\n",
       "      <td>49600.0</td>\n",
       "      <td>1</td>\n",
       "      <td>0</td>\n",
       "    </tr>\n",
       "    <tr>\n",
       "      <th>1</th>\n",
       "      <td>0</td>\n",
       "      <td>46.0</td>\n",
       "      <td>38000.0</td>\n",
       "      <td>1</td>\n",
       "      <td>1</td>\n",
       "    </tr>\n",
       "    <tr>\n",
       "      <th>2</th>\n",
       "      <td>0</td>\n",
       "      <td>29.0</td>\n",
       "      <td>21000.0</td>\n",
       "      <td>0</td>\n",
       "      <td>0</td>\n",
       "    </tr>\n",
       "    <tr>\n",
       "      <th>3</th>\n",
       "      <td>0</td>\n",
       "      <td>21.0</td>\n",
       "      <td>41700.0</td>\n",
       "      <td>2</td>\n",
       "      <td>0</td>\n",
       "    </tr>\n",
       "    <tr>\n",
       "      <th>4</th>\n",
       "      <td>1</td>\n",
       "      <td>28.0</td>\n",
       "      <td>26100.0</td>\n",
       "      <td>0</td>\n",
       "      <td>0</td>\n",
       "    </tr>\n",
       "  </tbody>\n",
       "</table>\n",
       "</div>"
      ],
      "text/plain": [
       "   Пол  Возраст  Зарплата  Члены семьи  Страховые выплаты\n",
       "0    1     41.0   49600.0            1                  0\n",
       "1    0     46.0   38000.0            1                  1\n",
       "2    0     29.0   21000.0            0                  0\n",
       "3    0     21.0   41700.0            2                  0\n",
       "4    1     28.0   26100.0            0                  0"
      ]
     },
     "execution_count": 32,
     "metadata": {},
     "output_type": "execute_result"
    }
   ],
   "source": [
    "df.head()"
   ]
  },
  {
   "cell_type": "code",
   "execution_count": 33,
   "metadata": {},
   "outputs": [
    {
     "data": {
      "text/plain": [
       "Пол                  0\n",
       "Возраст              0\n",
       "Зарплата             0\n",
       "Члены семьи          0\n",
       "Страховые выплаты    0\n",
       "dtype: int64"
      ]
     },
     "execution_count": 33,
     "metadata": {},
     "output_type": "execute_result"
    }
   ],
   "source": [
    "df.isna().sum()"
   ]
  },
  {
   "cell_type": "code",
   "execution_count": 34,
   "metadata": {
    "scrolled": true
   },
   "outputs": [
    {
     "data": {
      "text/plain": [
       "153"
      ]
     },
     "execution_count": 34,
     "metadata": {},
     "output_type": "execute_result"
    }
   ],
   "source": [
    "df.duplicated().sum()"
   ]
  },
  {
   "cell_type": "code",
   "execution_count": 35,
   "metadata": {},
   "outputs": [
    {
     "data": {
      "text/html": [
       "<div>\n",
       "<style scoped>\n",
       "    .dataframe tbody tr th:only-of-type {\n",
       "        vertical-align: middle;\n",
       "    }\n",
       "\n",
       "    .dataframe tbody tr th {\n",
       "        vertical-align: top;\n",
       "    }\n",
       "\n",
       "    .dataframe thead th {\n",
       "        text-align: right;\n",
       "    }\n",
       "</style>\n",
       "<table border=\"1\" class=\"dataframe\">\n",
       "  <thead>\n",
       "    <tr style=\"text-align: right;\">\n",
       "      <th></th>\n",
       "      <th>Пол</th>\n",
       "      <th>Возраст</th>\n",
       "      <th>Зарплата</th>\n",
       "      <th>Члены семьи</th>\n",
       "      <th>Страховые выплаты</th>\n",
       "    </tr>\n",
       "  </thead>\n",
       "  <tbody>\n",
       "    <tr>\n",
       "      <th>281</th>\n",
       "      <td>1</td>\n",
       "      <td>39.0</td>\n",
       "      <td>48100.0</td>\n",
       "      <td>1</td>\n",
       "      <td>0</td>\n",
       "    </tr>\n",
       "    <tr>\n",
       "      <th>488</th>\n",
       "      <td>1</td>\n",
       "      <td>24.0</td>\n",
       "      <td>32900.0</td>\n",
       "      <td>1</td>\n",
       "      <td>0</td>\n",
       "    </tr>\n",
       "    <tr>\n",
       "      <th>513</th>\n",
       "      <td>0</td>\n",
       "      <td>31.0</td>\n",
       "      <td>37400.0</td>\n",
       "      <td>2</td>\n",
       "      <td>0</td>\n",
       "    </tr>\n",
       "    <tr>\n",
       "      <th>718</th>\n",
       "      <td>1</td>\n",
       "      <td>22.0</td>\n",
       "      <td>32600.0</td>\n",
       "      <td>1</td>\n",
       "      <td>0</td>\n",
       "    </tr>\n",
       "    <tr>\n",
       "      <th>785</th>\n",
       "      <td>0</td>\n",
       "      <td>20.0</td>\n",
       "      <td>35800.0</td>\n",
       "      <td>0</td>\n",
       "      <td>0</td>\n",
       "    </tr>\n",
       "    <tr>\n",
       "      <th>869</th>\n",
       "      <td>1</td>\n",
       "      <td>24.0</td>\n",
       "      <td>33100.0</td>\n",
       "      <td>1</td>\n",
       "      <td>0</td>\n",
       "    </tr>\n",
       "    <tr>\n",
       "      <th>887</th>\n",
       "      <td>1</td>\n",
       "      <td>19.0</td>\n",
       "      <td>35500.0</td>\n",
       "      <td>0</td>\n",
       "      <td>0</td>\n",
       "    </tr>\n",
       "    <tr>\n",
       "      <th>1004</th>\n",
       "      <td>1</td>\n",
       "      <td>29.0</td>\n",
       "      <td>42400.0</td>\n",
       "      <td>0</td>\n",
       "      <td>0</td>\n",
       "    </tr>\n",
       "    <tr>\n",
       "      <th>1089</th>\n",
       "      <td>0</td>\n",
       "      <td>27.0</td>\n",
       "      <td>46800.0</td>\n",
       "      <td>2</td>\n",
       "      <td>0</td>\n",
       "    </tr>\n",
       "    <tr>\n",
       "      <th>1091</th>\n",
       "      <td>1</td>\n",
       "      <td>41.0</td>\n",
       "      <td>34000.0</td>\n",
       "      <td>1</td>\n",
       "      <td>0</td>\n",
       "    </tr>\n",
       "    <tr>\n",
       "      <th>1140</th>\n",
       "      <td>1</td>\n",
       "      <td>34.0</td>\n",
       "      <td>26900.0</td>\n",
       "      <td>0</td>\n",
       "      <td>0</td>\n",
       "    </tr>\n",
       "    <tr>\n",
       "      <th>1251</th>\n",
       "      <td>1</td>\n",
       "      <td>37.0</td>\n",
       "      <td>31200.0</td>\n",
       "      <td>2</td>\n",
       "      <td>0</td>\n",
       "    </tr>\n",
       "    <tr>\n",
       "      <th>1281</th>\n",
       "      <td>1</td>\n",
       "      <td>24.0</td>\n",
       "      <td>53900.0</td>\n",
       "      <td>2</td>\n",
       "      <td>0</td>\n",
       "    </tr>\n",
       "    <tr>\n",
       "      <th>1317</th>\n",
       "      <td>0</td>\n",
       "      <td>25.0</td>\n",
       "      <td>45900.0</td>\n",
       "      <td>1</td>\n",
       "      <td>0</td>\n",
       "    </tr>\n",
       "    <tr>\n",
       "      <th>1340</th>\n",
       "      <td>1</td>\n",
       "      <td>20.0</td>\n",
       "      <td>37400.0</td>\n",
       "      <td>2</td>\n",
       "      <td>0</td>\n",
       "    </tr>\n",
       "    <tr>\n",
       "      <th>1485</th>\n",
       "      <td>1</td>\n",
       "      <td>41.0</td>\n",
       "      <td>32700.0</td>\n",
       "      <td>0</td>\n",
       "      <td>0</td>\n",
       "    </tr>\n",
       "    <tr>\n",
       "      <th>1559</th>\n",
       "      <td>1</td>\n",
       "      <td>32.0</td>\n",
       "      <td>36900.0</td>\n",
       "      <td>0</td>\n",
       "      <td>0</td>\n",
       "    </tr>\n",
       "    <tr>\n",
       "      <th>1588</th>\n",
       "      <td>0</td>\n",
       "      <td>35.0</td>\n",
       "      <td>44000.0</td>\n",
       "      <td>1</td>\n",
       "      <td>0</td>\n",
       "    </tr>\n",
       "    <tr>\n",
       "      <th>1598</th>\n",
       "      <td>0</td>\n",
       "      <td>28.0</td>\n",
       "      <td>39800.0</td>\n",
       "      <td>1</td>\n",
       "      <td>0</td>\n",
       "    </tr>\n",
       "    <tr>\n",
       "      <th>1604</th>\n",
       "      <td>0</td>\n",
       "      <td>26.0</td>\n",
       "      <td>43400.0</td>\n",
       "      <td>1</td>\n",
       "      <td>0</td>\n",
       "    </tr>\n",
       "  </tbody>\n",
       "</table>\n",
       "</div>"
      ],
      "text/plain": [
       "      Пол  Возраст  Зарплата  Члены семьи  Страховые выплаты\n",
       "281     1     39.0   48100.0            1                  0\n",
       "488     1     24.0   32900.0            1                  0\n",
       "513     0     31.0   37400.0            2                  0\n",
       "718     1     22.0   32600.0            1                  0\n",
       "785     0     20.0   35800.0            0                  0\n",
       "869     1     24.0   33100.0            1                  0\n",
       "887     1     19.0   35500.0            0                  0\n",
       "1004    1     29.0   42400.0            0                  0\n",
       "1089    0     27.0   46800.0            2                  0\n",
       "1091    1     41.0   34000.0            1                  0\n",
       "1140    1     34.0   26900.0            0                  0\n",
       "1251    1     37.0   31200.0            2                  0\n",
       "1281    1     24.0   53900.0            2                  0\n",
       "1317    0     25.0   45900.0            1                  0\n",
       "1340    1     20.0   37400.0            2                  0\n",
       "1485    1     41.0   32700.0            0                  0\n",
       "1559    1     32.0   36900.0            0                  0\n",
       "1588    0     35.0   44000.0            1                  0\n",
       "1598    0     28.0   39800.0            1                  0\n",
       "1604    0     26.0   43400.0            1                  0"
      ]
     },
     "execution_count": 35,
     "metadata": {},
     "output_type": "execute_result"
    }
   ],
   "source": [
    "df[df.duplicated()].head(20)"
   ]
  },
  {
   "cell_type": "markdown",
   "metadata": {},
   "source": [
    "Дубликатов не много,визуально,ничего необычного,скорее всего это просто совпадения"
   ]
  },
  {
   "cell_type": "code",
   "execution_count": 36,
   "metadata": {},
   "outputs": [
    {
     "name": "stdout",
     "output_type": "stream",
     "text": [
      "<class 'pandas.core.frame.DataFrame'>\n",
      "RangeIndex: 5000 entries, 0 to 4999\n",
      "Data columns (total 5 columns):\n",
      " #   Column             Non-Null Count  Dtype  \n",
      "---  ------             --------------  -----  \n",
      " 0   Пол                5000 non-null   int64  \n",
      " 1   Возраст            5000 non-null   float64\n",
      " 2   Зарплата           5000 non-null   float64\n",
      " 3   Члены семьи        5000 non-null   int64  \n",
      " 4   Страховые выплаты  5000 non-null   int64  \n",
      "dtypes: float64(2), int64(3)\n",
      "memory usage: 195.4 KB\n"
     ]
    }
   ],
   "source": [
    "df.info()"
   ]
  },
  {
   "cell_type": "code",
   "execution_count": 37,
   "metadata": {
    "scrolled": true
   },
   "outputs": [
    {
     "data": {
      "text/html": [
       "<div>\n",
       "<style scoped>\n",
       "    .dataframe tbody tr th:only-of-type {\n",
       "        vertical-align: middle;\n",
       "    }\n",
       "\n",
       "    .dataframe tbody tr th {\n",
       "        vertical-align: top;\n",
       "    }\n",
       "\n",
       "    .dataframe thead th {\n",
       "        text-align: right;\n",
       "    }\n",
       "</style>\n",
       "<table border=\"1\" class=\"dataframe\">\n",
       "  <thead>\n",
       "    <tr style=\"text-align: right;\">\n",
       "      <th></th>\n",
       "      <th>Пол</th>\n",
       "      <th>Возраст</th>\n",
       "      <th>Зарплата</th>\n",
       "      <th>Члены семьи</th>\n",
       "      <th>Страховые выплаты</th>\n",
       "    </tr>\n",
       "  </thead>\n",
       "  <tbody>\n",
       "  </tbody>\n",
       "</table>\n",
       "</div>"
      ],
      "text/plain": [
       "Empty DataFrame\n",
       "Columns: [Пол, Возраст, Зарплата, Члены семьи, Страховые выплаты]\n",
       "Index: []"
      ]
     },
     "execution_count": 37,
     "metadata": {},
     "output_type": "execute_result"
    }
   ],
   "source": [
    "df.loc[df['Возраст'] % 1 > 0]"
   ]
  },
  {
   "cell_type": "code",
   "execution_count": 38,
   "metadata": {},
   "outputs": [
    {
     "data": {
      "text/html": [
       "<div>\n",
       "<style scoped>\n",
       "    .dataframe tbody tr th:only-of-type {\n",
       "        vertical-align: middle;\n",
       "    }\n",
       "\n",
       "    .dataframe tbody tr th {\n",
       "        vertical-align: top;\n",
       "    }\n",
       "\n",
       "    .dataframe thead th {\n",
       "        text-align: right;\n",
       "    }\n",
       "</style>\n",
       "<table border=\"1\" class=\"dataframe\">\n",
       "  <thead>\n",
       "    <tr style=\"text-align: right;\">\n",
       "      <th></th>\n",
       "      <th>Пол</th>\n",
       "      <th>Возраст</th>\n",
       "      <th>Зарплата</th>\n",
       "      <th>Члены семьи</th>\n",
       "      <th>Страховые выплаты</th>\n",
       "    </tr>\n",
       "  </thead>\n",
       "  <tbody>\n",
       "  </tbody>\n",
       "</table>\n",
       "</div>"
      ],
      "text/plain": [
       "Empty DataFrame\n",
       "Columns: [Пол, Возраст, Зарплата, Члены семьи, Страховые выплаты]\n",
       "Index: []"
      ]
     },
     "execution_count": 38,
     "metadata": {},
     "output_type": "execute_result"
    }
   ],
   "source": [
    "df.loc[df['Возраст'] > 128]"
   ]
  },
  {
   "cell_type": "code",
   "execution_count": 39,
   "metadata": {},
   "outputs": [
    {
     "data": {
      "text/html": [
       "<div>\n",
       "<style scoped>\n",
       "    .dataframe tbody tr th:only-of-type {\n",
       "        vertical-align: middle;\n",
       "    }\n",
       "\n",
       "    .dataframe tbody tr th {\n",
       "        vertical-align: top;\n",
       "    }\n",
       "\n",
       "    .dataframe thead th {\n",
       "        text-align: right;\n",
       "    }\n",
       "</style>\n",
       "<table border=\"1\" class=\"dataframe\">\n",
       "  <thead>\n",
       "    <tr style=\"text-align: right;\">\n",
       "      <th></th>\n",
       "      <th>Пол</th>\n",
       "      <th>Возраст</th>\n",
       "      <th>Зарплата</th>\n",
       "      <th>Члены семьи</th>\n",
       "      <th>Страховые выплаты</th>\n",
       "    </tr>\n",
       "  </thead>\n",
       "  <tbody>\n",
       "    <tr>\n",
       "      <th>80</th>\n",
       "      <td>1</td>\n",
       "      <td>41.0</td>\n",
       "      <td>32700.0</td>\n",
       "      <td>0</td>\n",
       "      <td>0</td>\n",
       "    </tr>\n",
       "    <tr>\n",
       "      <th>159</th>\n",
       "      <td>1</td>\n",
       "      <td>19.0</td>\n",
       "      <td>64900.0</td>\n",
       "      <td>2</td>\n",
       "      <td>0</td>\n",
       "    </tr>\n",
       "    <tr>\n",
       "      <th>313</th>\n",
       "      <td>0</td>\n",
       "      <td>25.0</td>\n",
       "      <td>32700.0</td>\n",
       "      <td>1</td>\n",
       "      <td>0</td>\n",
       "    </tr>\n",
       "    <tr>\n",
       "      <th>392</th>\n",
       "      <td>1</td>\n",
       "      <td>43.0</td>\n",
       "      <td>32700.0</td>\n",
       "      <td>1</td>\n",
       "      <td>1</td>\n",
       "    </tr>\n",
       "    <tr>\n",
       "      <th>448</th>\n",
       "      <td>1</td>\n",
       "      <td>32.0</td>\n",
       "      <td>32700.0</td>\n",
       "      <td>2</td>\n",
       "      <td>0</td>\n",
       "    </tr>\n",
       "    <tr>\n",
       "      <th>772</th>\n",
       "      <td>1</td>\n",
       "      <td>20.0</td>\n",
       "      <td>65100.0</td>\n",
       "      <td>1</td>\n",
       "      <td>0</td>\n",
       "    </tr>\n",
       "    <tr>\n",
       "      <th>820</th>\n",
       "      <td>0</td>\n",
       "      <td>29.0</td>\n",
       "      <td>32200.0</td>\n",
       "      <td>2</td>\n",
       "      <td>0</td>\n",
       "    </tr>\n",
       "    <tr>\n",
       "      <th>872</th>\n",
       "      <td>0</td>\n",
       "      <td>23.0</td>\n",
       "      <td>32200.0</td>\n",
       "      <td>3</td>\n",
       "      <td>0</td>\n",
       "    </tr>\n",
       "    <tr>\n",
       "      <th>911</th>\n",
       "      <td>0</td>\n",
       "      <td>30.0</td>\n",
       "      <td>32200.0</td>\n",
       "      <td>0</td>\n",
       "      <td>0</td>\n",
       "    </tr>\n",
       "    <tr>\n",
       "      <th>963</th>\n",
       "      <td>1</td>\n",
       "      <td>20.0</td>\n",
       "      <td>64100.0</td>\n",
       "      <td>0</td>\n",
       "      <td>0</td>\n",
       "    </tr>\n",
       "    <tr>\n",
       "      <th>1020</th>\n",
       "      <td>1</td>\n",
       "      <td>36.0</td>\n",
       "      <td>32700.0</td>\n",
       "      <td>2</td>\n",
       "      <td>0</td>\n",
       "    </tr>\n",
       "    <tr>\n",
       "      <th>1078</th>\n",
       "      <td>0</td>\n",
       "      <td>34.0</td>\n",
       "      <td>32200.0</td>\n",
       "      <td>3</td>\n",
       "      <td>0</td>\n",
       "    </tr>\n",
       "    <tr>\n",
       "      <th>1336</th>\n",
       "      <td>1</td>\n",
       "      <td>19.0</td>\n",
       "      <td>32700.0</td>\n",
       "      <td>0</td>\n",
       "      <td>0</td>\n",
       "    </tr>\n",
       "    <tr>\n",
       "      <th>1485</th>\n",
       "      <td>1</td>\n",
       "      <td>41.0</td>\n",
       "      <td>32700.0</td>\n",
       "      <td>0</td>\n",
       "      <td>0</td>\n",
       "    </tr>\n",
       "    <tr>\n",
       "      <th>1486</th>\n",
       "      <td>1</td>\n",
       "      <td>50.0</td>\n",
       "      <td>32200.0</td>\n",
       "      <td>2</td>\n",
       "      <td>2</td>\n",
       "    </tr>\n",
       "    <tr>\n",
       "      <th>1847</th>\n",
       "      <td>1</td>\n",
       "      <td>31.0</td>\n",
       "      <td>32700.0</td>\n",
       "      <td>0</td>\n",
       "      <td>0</td>\n",
       "    </tr>\n",
       "    <tr>\n",
       "      <th>1981</th>\n",
       "      <td>0</td>\n",
       "      <td>21.0</td>\n",
       "      <td>32200.0</td>\n",
       "      <td>1</td>\n",
       "      <td>0</td>\n",
       "    </tr>\n",
       "    <tr>\n",
       "      <th>2191</th>\n",
       "      <td>1</td>\n",
       "      <td>22.0</td>\n",
       "      <td>32200.0</td>\n",
       "      <td>1</td>\n",
       "      <td>0</td>\n",
       "    </tr>\n",
       "    <tr>\n",
       "      <th>2287</th>\n",
       "      <td>1</td>\n",
       "      <td>40.0</td>\n",
       "      <td>32200.0</td>\n",
       "      <td>3</td>\n",
       "      <td>0</td>\n",
       "    </tr>\n",
       "    <tr>\n",
       "      <th>2342</th>\n",
       "      <td>1</td>\n",
       "      <td>25.0</td>\n",
       "      <td>32700.0</td>\n",
       "      <td>2</td>\n",
       "      <td>0</td>\n",
       "    </tr>\n",
       "    <tr>\n",
       "      <th>2385</th>\n",
       "      <td>1</td>\n",
       "      <td>36.0</td>\n",
       "      <td>32700.0</td>\n",
       "      <td>1</td>\n",
       "      <td>0</td>\n",
       "    </tr>\n",
       "    <tr>\n",
       "      <th>2439</th>\n",
       "      <td>1</td>\n",
       "      <td>44.0</td>\n",
       "      <td>32200.0</td>\n",
       "      <td>1</td>\n",
       "      <td>1</td>\n",
       "    </tr>\n",
       "    <tr>\n",
       "      <th>2443</th>\n",
       "      <td>1</td>\n",
       "      <td>25.0</td>\n",
       "      <td>32700.0</td>\n",
       "      <td>0</td>\n",
       "      <td>0</td>\n",
       "    </tr>\n",
       "    <tr>\n",
       "      <th>2805</th>\n",
       "      <td>0</td>\n",
       "      <td>47.0</td>\n",
       "      <td>32700.0</td>\n",
       "      <td>1</td>\n",
       "      <td>1</td>\n",
       "    </tr>\n",
       "    <tr>\n",
       "      <th>2994</th>\n",
       "      <td>1</td>\n",
       "      <td>29.0</td>\n",
       "      <td>32200.0</td>\n",
       "      <td>1</td>\n",
       "      <td>0</td>\n",
       "    </tr>\n",
       "    <tr>\n",
       "      <th>3063</th>\n",
       "      <td>0</td>\n",
       "      <td>24.0</td>\n",
       "      <td>64400.0</td>\n",
       "      <td>0</td>\n",
       "      <td>0</td>\n",
       "    </tr>\n",
       "    <tr>\n",
       "      <th>3139</th>\n",
       "      <td>1</td>\n",
       "      <td>43.0</td>\n",
       "      <td>32200.0</td>\n",
       "      <td>2</td>\n",
       "      <td>1</td>\n",
       "    </tr>\n",
       "    <tr>\n",
       "      <th>3352</th>\n",
       "      <td>1</td>\n",
       "      <td>23.0</td>\n",
       "      <td>32200.0</td>\n",
       "      <td>5</td>\n",
       "      <td>0</td>\n",
       "    </tr>\n",
       "    <tr>\n",
       "      <th>3466</th>\n",
       "      <td>0</td>\n",
       "      <td>22.0</td>\n",
       "      <td>32700.0</td>\n",
       "      <td>4</td>\n",
       "      <td>0</td>\n",
       "    </tr>\n",
       "    <tr>\n",
       "      <th>3499</th>\n",
       "      <td>1</td>\n",
       "      <td>22.0</td>\n",
       "      <td>65100.0</td>\n",
       "      <td>4</td>\n",
       "      <td>0</td>\n",
       "    </tr>\n",
       "    <tr>\n",
       "      <th>3614</th>\n",
       "      <td>1</td>\n",
       "      <td>24.0</td>\n",
       "      <td>32700.0</td>\n",
       "      <td>1</td>\n",
       "      <td>0</td>\n",
       "    </tr>\n",
       "    <tr>\n",
       "      <th>3717</th>\n",
       "      <td>0</td>\n",
       "      <td>34.0</td>\n",
       "      <td>32700.0</td>\n",
       "      <td>0</td>\n",
       "      <td>0</td>\n",
       "    </tr>\n",
       "    <tr>\n",
       "      <th>3788</th>\n",
       "      <td>0</td>\n",
       "      <td>46.0</td>\n",
       "      <td>32700.0</td>\n",
       "      <td>2</td>\n",
       "      <td>1</td>\n",
       "    </tr>\n",
       "    <tr>\n",
       "      <th>3824</th>\n",
       "      <td>1</td>\n",
       "      <td>37.0</td>\n",
       "      <td>32700.0</td>\n",
       "      <td>2</td>\n",
       "      <td>0</td>\n",
       "    </tr>\n",
       "    <tr>\n",
       "      <th>3938</th>\n",
       "      <td>1</td>\n",
       "      <td>23.0</td>\n",
       "      <td>32200.0</td>\n",
       "      <td>1</td>\n",
       "      <td>0</td>\n",
       "    </tr>\n",
       "    <tr>\n",
       "      <th>4182</th>\n",
       "      <td>0</td>\n",
       "      <td>27.0</td>\n",
       "      <td>32200.0</td>\n",
       "      <td>2</td>\n",
       "      <td>0</td>\n",
       "    </tr>\n",
       "    <tr>\n",
       "      <th>4520</th>\n",
       "      <td>0</td>\n",
       "      <td>18.0</td>\n",
       "      <td>32700.0</td>\n",
       "      <td>3</td>\n",
       "      <td>0</td>\n",
       "    </tr>\n",
       "    <tr>\n",
       "      <th>4833</th>\n",
       "      <td>0</td>\n",
       "      <td>24.0</td>\n",
       "      <td>32200.0</td>\n",
       "      <td>1</td>\n",
       "      <td>0</td>\n",
       "    </tr>\n",
       "    <tr>\n",
       "      <th>4935</th>\n",
       "      <td>1</td>\n",
       "      <td>19.0</td>\n",
       "      <td>32700.0</td>\n",
       "      <td>0</td>\n",
       "      <td>0</td>\n",
       "    </tr>\n",
       "    <tr>\n",
       "      <th>4998</th>\n",
       "      <td>1</td>\n",
       "      <td>22.0</td>\n",
       "      <td>32700.0</td>\n",
       "      <td>3</td>\n",
       "      <td>0</td>\n",
       "    </tr>\n",
       "  </tbody>\n",
       "</table>\n",
       "</div>"
      ],
      "text/plain": [
       "      Пол  Возраст  Зарплата  Члены семьи  Страховые выплаты\n",
       "80      1     41.0   32700.0            0                  0\n",
       "159     1     19.0   64900.0            2                  0\n",
       "313     0     25.0   32700.0            1                  0\n",
       "392     1     43.0   32700.0            1                  1\n",
       "448     1     32.0   32700.0            2                  0\n",
       "772     1     20.0   65100.0            1                  0\n",
       "820     0     29.0   32200.0            2                  0\n",
       "872     0     23.0   32200.0            3                  0\n",
       "911     0     30.0   32200.0            0                  0\n",
       "963     1     20.0   64100.0            0                  0\n",
       "1020    1     36.0   32700.0            2                  0\n",
       "1078    0     34.0   32200.0            3                  0\n",
       "1336    1     19.0   32700.0            0                  0\n",
       "1485    1     41.0   32700.0            0                  0\n",
       "1486    1     50.0   32200.0            2                  2\n",
       "1847    1     31.0   32700.0            0                  0\n",
       "1981    0     21.0   32200.0            1                  0\n",
       "2191    1     22.0   32200.0            1                  0\n",
       "2287    1     40.0   32200.0            3                  0\n",
       "2342    1     25.0   32700.0            2                  0\n",
       "2385    1     36.0   32700.0            1                  0\n",
       "2439    1     44.0   32200.0            1                  1\n",
       "2443    1     25.0   32700.0            0                  0\n",
       "2805    0     47.0   32700.0            1                  1\n",
       "2994    1     29.0   32200.0            1                  0\n",
       "3063    0     24.0   64400.0            0                  0\n",
       "3139    1     43.0   32200.0            2                  1\n",
       "3352    1     23.0   32200.0            5                  0\n",
       "3466    0     22.0   32700.0            4                  0\n",
       "3499    1     22.0   65100.0            4                  0\n",
       "3614    1     24.0   32700.0            1                  0\n",
       "3717    0     34.0   32700.0            0                  0\n",
       "3788    0     46.0   32700.0            2                  1\n",
       "3824    1     37.0   32700.0            2                  0\n",
       "3938    1     23.0   32200.0            1                  0\n",
       "4182    0     27.0   32200.0            2                  0\n",
       "4520    0     18.0   32700.0            3                  0\n",
       "4833    0     24.0   32200.0            1                  0\n",
       "4935    1     19.0   32700.0            0                  0\n",
       "4998    1     22.0   32700.0            3                  0"
      ]
     },
     "execution_count": 39,
     "metadata": {},
     "output_type": "execute_result"
    }
   ],
   "source": [
    "df.loc[df['Зарплата'] % 1 > 0]"
   ]
  },
  {
   "cell_type": "markdown",
   "metadata": {},
   "source": [
    "С данными не заметно никаких проблем"
   ]
  },
  {
   "cell_type": "code",
   "execution_count": 40,
   "metadata": {},
   "outputs": [],
   "source": [
    "df['Возраст'] = np.int8(df['Возраст'])\n",
    "df['Зарплата'] = np.int32(df['Зарплата'])\n",
    "df['Пол'] = np.int8(df['Пол'])\n",
    "df['Члены семьи'] = np.int8(df['Члены семьи'])\n",
    "df['Страховые выплаты'] = np.int8(df['Страховые выплаты'])"
   ]
  },
  {
   "cell_type": "code",
   "execution_count": 41,
   "metadata": {},
   "outputs": [
    {
     "name": "stdout",
     "output_type": "stream",
     "text": [
      "<class 'pandas.core.frame.DataFrame'>\n",
      "RangeIndex: 5000 entries, 0 to 4999\n",
      "Data columns (total 5 columns):\n",
      " #   Column             Non-Null Count  Dtype\n",
      "---  ------             --------------  -----\n",
      " 0   Пол                5000 non-null   int8 \n",
      " 1   Возраст            5000 non-null   int8 \n",
      " 2   Зарплата           5000 non-null   int32\n",
      " 3   Члены семьи        5000 non-null   int8 \n",
      " 4   Страховые выплаты  5000 non-null   int8 \n",
      "dtypes: int32(1), int8(4)\n",
      "memory usage: 39.2 KB\n"
     ]
    }
   ],
   "source": [
    "df.info()"
   ]
  },
  {
   "cell_type": "code",
   "execution_count": 53,
   "metadata": {},
   "outputs": [
    {
     "name": "stdout",
     "output_type": "stream",
     "text": [
      "                        Пол   Возраст  Зарплата  Члены семьи  \\\n",
      "Пол                1.000000  0.002074  0.014910    -0.008991   \n",
      "Возраст            0.002074  1.000000 -0.019093    -0.006692   \n",
      "Зарплата           0.014910 -0.019093  1.000000    -0.030296   \n",
      "Члены семьи       -0.008991 -0.006692 -0.030296     1.000000   \n",
      "Страховые выплаты  0.010140  0.651030 -0.014963    -0.036290   \n",
      "\n",
      "                   Страховые выплаты  \n",
      "Пол                         0.010140  \n",
      "Возраст                     0.651030  \n",
      "Зарплата                   -0.014963  \n",
      "Члены семьи                -0.036290  \n",
      "Страховые выплаты           1.000000  \n"
     ]
    },
    {
     "data": {
      "image/png": "[encoded data removed]",
      "text/plain": [
       "<Figure size 640x480 with 2 Axes>"
      ]
     },
     "metadata": {},
     "output_type": "display_data"
    }
   ],
   "source": [
    "col = ['Пол','Возраст','Зарплата','Члены семьи','Страховые выплаты']\n",
    "corr_matrix = df.loc[:,col].corr() \n",
    "print(corr_matrix)\n",
    "sn.heatmap(corr_matrix);"
   ]
  },
  {
   "cell_type": "markdown",
   "metadata": {},
   "source": [
    "Наблюдается связь возраста и целевым признаком,но связь можно считать слабой."
   ]
  },
  {
   "cell_type": "markdown",
   "metadata": {},
   "source": [
    "## Умножение матриц"
   ]
  },
  {
   "cell_type": "markdown",
   "metadata": {},
   "source": [
    "В этом задании вы можете записывать формулы в *Jupyter Notebook.*\n",
    "\n",
    "Чтобы записать формулу внутри текста, окружите её символами доллара \\\\$; если снаружи —  двойными символами \\\\$\\\\$. Эти формулы записываются на языке вёрстки *LaTeX.* \n",
    "\n",
    "Для примера мы записали формулы линейной регрессии. Можете их скопировать и отредактировать, чтобы решить задачу.\n",
    "\n",
    "Работать в *LaTeX* необязательно."
   ]
  },
  {
   "cell_type": "markdown",
   "metadata": {},
   "source": [
    "Обозначения:\n",
    "\n",
    "- $X$ — матрица признаков (нулевой столбец состоит из единиц)\n",
    "\n",
    "- $y$ — вектор целевого признака\n",
    "\n",
    "- $P$ — матрица, на которую умножаются признаки\n",
    "\n",
    "- $w$ — вектор весов линейной регрессии (нулевой элемент равен сдвигу)"
   ]
  },
  {
   "cell_type": "markdown",
   "metadata": {},
   "source": [
    "Предсказания:\n",
    "\n",
    "$$\n",
    "a = Xw\n",
    "$$\n",
    "\n",
    "Задача обучения:\n",
    "\n",
    "$$\n",
    "w = \\arg\\min_w MSE(Xw, y)\n",
    "$$\n",
    "\n",
    "Формула обучения:\n",
    "\n",
    "$$\n",
    "w = (X^T X)^{-1} X^T y\n",
    "$$"
   ]
  },
  {
   "cell_type": "markdown",
   "metadata": {},
   "source": [
    "**Ответ:** Не поменяется\n",
    "\n",
    "**Обоснование:** "
   ]
  },
  {
   "cell_type": "markdown",
   "metadata": {},
   "source": [
    "$$\n",
    "w_2 = ((XP)^T XP)^{-1} (XP)^T y \n",
    "$$"
   ]
  },
  {
   "cell_type": "markdown",
   "metadata": {},
   "source": [
    "$$\n",
    "w_2 = (P^T(X^TX) P)^{-1} (XP)^T y \n",
    "$$"
   ]
  },
  {
   "cell_type": "markdown",
   "metadata": {},
   "source": [
    "$$\n",
    "w_2 = (P)^{-1}(X^TX)^{-1}(P^T)^{-1}P^T X^Ty\n",
    "$$"
   ]
  },
  {
   "cell_type": "markdown",
   "metadata": {},
   "source": [
    "$$\n",
    "w_2 = (P)^{-1}(X^TX)^{-1}X^Ty\n",
    "$$"
   ]
  },
  {
   "cell_type": "markdown",
   "metadata": {},
   "source": [
    "$$w_2 = (P)^{-1}w$$"
   ]
  },
  {
   "cell_type": "markdown",
   "metadata": {},
   "source": [
    "$$ a = XPP^{-1}w$$ "
   ]
  },
  {
   "cell_type": "markdown",
   "metadata": {},
   "source": [
    "$$\n",
    "a = Xw\n",
    "$$"
   ]
  },
  {
   "cell_type": "markdown",
   "metadata": {},
   "source": [
    "## Алгоритм преобразования"
   ]
  },
  {
   "cell_type": "markdown",
   "metadata": {},
   "source": [
    "**Алгоритм**\n",
    "\n",
    "Помножим на случайную обратимую матрицу"
   ]
  },
  {
   "cell_type": "markdown",
   "metadata": {},
   "source": [
    "**Обоснование**\n",
    "\n",
    "При данном способе данные должны получится маштабированы в случайных маштабах"
   ]
  },
  {
   "cell_type": "markdown",
   "metadata": {},
   "source": [
    "## Проверка алгоритма"
   ]
  },
  {
   "cell_type": "code",
   "execution_count": 46,
   "metadata": {},
   "outputs": [],
   "source": [
    "def rand_matrix(a):\n",
    "    try:\n",
    "        r = np.random.RandomState(a)\n",
    "        random_matrix = r.normal(size=(4,4))\n",
    "        inv = np.linalg.inv(random_matrix) \n",
    "        return random_matrix\n",
    "    except np.linalg.LinAlgError:\n",
    "        return rand_matrix(a)"
   ]
  },
  {
   "cell_type": "code",
   "execution_count": 47,
   "metadata": {},
   "outputs": [],
   "source": [
    "random_matrix = rand_matrix(42) "
   ]
  },
  {
   "cell_type": "code",
   "execution_count": 48,
   "metadata": {},
   "outputs": [
    {
     "data": {
      "text/plain": [
       "array([[ 0.49671415, -0.1382643 ,  0.64768854,  1.52302986],\n",
       "       [-0.23415337, -0.23413696,  1.57921282,  0.76743473],\n",
       "       [-0.46947439,  0.54256004, -0.46341769, -0.46572975],\n",
       "       [ 0.24196227, -1.91328024, -1.72491783, -0.56228753]])"
      ]
     },
     "execution_count": 48,
     "metadata": {},
     "output_type": "execute_result"
    }
   ],
   "source": [
    "random_matrix"
   ]
  },
  {
   "cell_type": "code",
   "execution_count": 49,
   "metadata": {},
   "outputs": [],
   "source": [
    "features = df.drop('Страховые выплаты',axis=1)\n",
    "target = df['Страховые выплаты']\n",
    "features_matrix = features.dot(random_matrix)"
   ]
  },
  {
   "cell_type": "code",
   "execution_count": 50,
   "metadata": {},
   "outputs": [],
   "source": [
    "def linear_regression(X,y):\n",
    "    X_train,X_test,y_train,y_test = train_test_split(X,y,random_state=11111,test_size = .2)\n",
    "    model = LinearRegression()\n",
    "    model.fit(X_train,y_train)\n",
    "    pred = model.predict(X_test)\n",
    "    r2 = r2_score(y_test,pred)\n",
    "    return r2"
   ]
  },
  {
   "cell_type": "code",
   "execution_count": 51,
   "metadata": {},
   "outputs": [
    {
     "data": {
      "text/plain": [
       "0.4076842272667832"
      ]
     },
     "execution_count": 51,
     "metadata": {},
     "output_type": "execute_result"
    }
   ],
   "source": [
    "linear_regression(features,target)"
   ]
  },
  {
   "cell_type": "code",
   "execution_count": 52,
   "metadata": {
    "scrolled": true
   },
   "outputs": [
    {
     "data": {
      "text/plain": [
       "0.4076842272665755"
      ]
     },
     "execution_count": 52,
     "metadata": {},
     "output_type": "execute_result"
    }
   ],
   "source": [
    "linear_regression(features_matrix,target)"
   ]
  },
  {
   "cell_type": "markdown",
   "metadata": {},
   "source": [
    "## Вывод"
   ]
  },
  {
   "cell_type": "markdown",
   "metadata": {},
   "source": [
    "Разницы в метрике r2 практически нет,умножение данных на матрицу не повлияло на качество обучения.\n",
    "\n",
    "Данные защитили,при преобразовании качество моделей машинного обучения не ухудшилось."
   ]
  }
 ],
 "metadata": {
  "ExecuteTimeLog": [
   {
    "duration": 8,
    "start_time": "2022-08-06T10:07:40.813Z"
   },
   {
    "duration": 45,
    "start_time": "2022-08-06T10:15:12.958Z"
   },
   {
    "duration": 67,
    "start_time": "2022-08-06T10:17:33.373Z"
   },
   {
    "duration": 46,
    "start_time": "2022-08-06T11:27:48.184Z"
   },
   {
    "duration": 42,
    "start_time": "2022-08-06T11:41:41.723Z"
   },
   {
    "duration": 1130,
    "start_time": "2022-08-06T11:41:47.702Z"
   },
   {
    "duration": 98,
    "start_time": "2022-08-06T11:41:48.834Z"
   },
   {
    "duration": 18,
    "start_time": "2022-08-06T11:41:48.933Z"
   },
   {
    "duration": 6,
    "start_time": "2022-08-06T11:41:48.953Z"
   },
   {
    "duration": 9,
    "start_time": "2022-08-06T11:41:48.960Z"
   },
   {
    "duration": 15,
    "start_time": "2022-08-06T11:41:49.397Z"
   },
   {
    "duration": 11,
    "start_time": "2022-08-06T11:41:51.179Z"
   },
   {
    "duration": 69,
    "start_time": "2022-08-06T11:52:34.313Z"
   },
   {
    "duration": 493,
    "start_time": "2022-08-06T11:53:09.728Z"
   },
   {
    "duration": 361,
    "start_time": "2022-08-06T11:53:15.296Z"
   },
   {
    "duration": 252,
    "start_time": "2022-08-06T11:53:33.625Z"
   },
   {
    "duration": 288,
    "start_time": "2022-08-06T11:53:41.832Z"
   },
   {
    "duration": 12,
    "start_time": "2022-08-06T12:05:36.609Z"
   },
   {
    "duration": 840,
    "start_time": "2022-08-06T12:07:17.711Z"
   },
   {
    "duration": 7,
    "start_time": "2022-08-06T12:07:26.101Z"
   },
   {
    "duration": 6,
    "start_time": "2022-08-06T12:07:48.686Z"
   },
   {
    "duration": 7,
    "start_time": "2022-08-06T12:08:52.599Z"
   },
   {
    "duration": 14,
    "start_time": "2022-08-06T12:09:17.451Z"
   },
   {
    "duration": 63,
    "start_time": "2022-08-06T12:10:56.115Z"
   },
   {
    "duration": 14,
    "start_time": "2022-08-06T12:11:00.865Z"
   },
   {
    "duration": 7,
    "start_time": "2022-08-06T12:11:08.898Z"
   },
   {
    "duration": 22,
    "start_time": "2022-08-06T12:11:48.681Z"
   },
   {
    "duration": 14,
    "start_time": "2022-08-06T12:11:57.369Z"
   },
   {
    "duration": 873,
    "start_time": "2022-08-06T12:12:05.599Z"
   },
   {
    "duration": 12,
    "start_time": "2022-08-06T12:12:09.968Z"
   },
   {
    "duration": 15,
    "start_time": "2022-08-06T12:12:17.015Z"
   },
   {
    "duration": 21,
    "start_time": "2022-08-06T12:12:21.784Z"
   },
   {
    "duration": 18,
    "start_time": "2022-08-06T12:12:39.884Z"
   },
   {
    "duration": 16,
    "start_time": "2022-08-06T12:12:46.503Z"
   },
   {
    "duration": 14,
    "start_time": "2022-08-06T12:12:52.839Z"
   },
   {
    "duration": 57,
    "start_time": "2022-08-06T12:14:00.389Z"
   },
   {
    "duration": 4,
    "start_time": "2022-08-06T12:14:04.813Z"
   },
   {
    "duration": 7,
    "start_time": "2022-08-06T12:15:18.652Z"
   },
   {
    "duration": 14,
    "start_time": "2022-08-06T12:16:53.827Z"
   },
   {
    "duration": 22,
    "start_time": "2022-08-06T12:17:01.274Z"
   },
   {
    "duration": 20,
    "start_time": "2022-08-06T12:17:08.386Z"
   },
   {
    "duration": 17,
    "start_time": "2022-08-06T12:17:13.346Z"
   },
   {
    "duration": 14,
    "start_time": "2022-08-06T12:17:20.999Z"
   },
   {
    "duration": 53,
    "start_time": "2022-08-06T12:20:44.582Z"
   },
   {
    "duration": 3,
    "start_time": "2022-08-06T12:26:33.654Z"
   },
   {
    "duration": 6,
    "start_time": "2022-08-06T12:27:56.933Z"
   },
   {
    "duration": 3,
    "start_time": "2022-08-06T12:28:13.077Z"
   },
   {
    "duration": 7,
    "start_time": "2022-08-06T12:28:16.634Z"
   },
   {
    "duration": 7,
    "start_time": "2022-08-06T12:28:19.652Z"
   },
   {
    "duration": 3,
    "start_time": "2022-08-06T12:30:28.634Z"
   },
   {
    "duration": 312,
    "start_time": "2022-08-06T12:30:29.040Z"
   },
   {
    "duration": 10,
    "start_time": "2022-08-06T12:30:34.081Z"
   },
   {
    "duration": 7,
    "start_time": "2022-08-06T12:30:34.848Z"
   },
   {
    "duration": 7,
    "start_time": "2022-08-06T12:30:35.272Z"
   },
   {
    "duration": 3,
    "start_time": "2022-08-06T12:30:35.688Z"
   },
   {
    "duration": 9,
    "start_time": "2022-08-06T12:30:36.282Z"
   },
   {
    "duration": 3,
    "start_time": "2022-08-06T12:30:37.416Z"
   },
   {
    "duration": 401,
    "start_time": "2022-08-06T12:30:37.688Z"
   },
   {
    "duration": 10,
    "start_time": "2022-08-06T12:30:51.057Z"
   },
   {
    "duration": 6,
    "start_time": "2022-08-06T12:30:51.626Z"
   },
   {
    "duration": 6,
    "start_time": "2022-08-06T12:30:52.209Z"
   },
   {
    "duration": 3,
    "start_time": "2022-08-06T12:30:52.856Z"
   },
   {
    "duration": 6,
    "start_time": "2022-08-06T12:30:53.401Z"
   },
   {
    "duration": 12,
    "start_time": "2022-08-06T12:31:11.832Z"
   },
   {
    "duration": 3,
    "start_time": "2022-08-06T12:32:25.807Z"
   },
   {
    "duration": 3,
    "start_time": "2022-08-06T12:32:38.415Z"
   },
   {
    "duration": 7,
    "start_time": "2022-08-06T12:32:38.968Z"
   },
   {
    "duration": 4,
    "start_time": "2022-08-06T12:33:44.422Z"
   },
   {
    "duration": 3,
    "start_time": "2022-08-06T12:34:03.624Z"
   },
   {
    "duration": 39,
    "start_time": "2022-08-06T12:34:03.631Z"
   },
   {
    "duration": 13,
    "start_time": "2022-08-06T12:34:03.672Z"
   },
   {
    "duration": 9,
    "start_time": "2022-08-06T12:34:03.687Z"
   },
   {
    "duration": 8,
    "start_time": "2022-08-06T12:34:03.698Z"
   },
   {
    "duration": 26,
    "start_time": "2022-08-06T12:34:03.709Z"
   },
   {
    "duration": 11,
    "start_time": "2022-08-06T12:34:03.737Z"
   },
   {
    "duration": 7,
    "start_time": "2022-08-06T12:34:03.750Z"
   },
   {
    "duration": 13,
    "start_time": "2022-08-06T12:34:03.759Z"
   },
   {
    "duration": 28,
    "start_time": "2022-08-06T12:34:03.774Z"
   },
   {
    "duration": 5,
    "start_time": "2022-08-06T12:34:03.803Z"
   },
   {
    "duration": 12,
    "start_time": "2022-08-06T12:34:03.810Z"
   },
   {
    "duration": 297,
    "start_time": "2022-08-06T12:34:03.824Z"
   },
   {
    "duration": 4,
    "start_time": "2022-08-06T12:34:04.123Z"
   },
   {
    "duration": 8,
    "start_time": "2022-08-06T12:34:04.129Z"
   },
   {
    "duration": 52,
    "start_time": "2022-08-06T12:34:04.139Z"
   },
   {
    "duration": 8,
    "start_time": "2022-08-06T12:34:04.193Z"
   },
   {
    "duration": 96,
    "start_time": "2022-08-06T12:34:04.203Z"
   },
   {
    "duration": 183,
    "start_time": "2022-08-06T12:34:04.305Z"
   },
   {
    "duration": 10,
    "start_time": "2022-08-06T12:35:33.787Z"
   },
   {
    "duration": 7,
    "start_time": "2022-08-06T12:35:34.222Z"
   },
   {
    "duration": 6,
    "start_time": "2022-08-06T12:35:34.603Z"
   },
   {
    "duration": 7,
    "start_time": "2022-08-06T12:35:34.882Z"
   },
   {
    "duration": 3,
    "start_time": "2022-08-06T12:36:00.478Z"
   },
   {
    "duration": 40,
    "start_time": "2022-08-06T12:36:00.482Z"
   },
   {
    "duration": 11,
    "start_time": "2022-08-06T12:36:00.524Z"
   },
   {
    "duration": 11,
    "start_time": "2022-08-06T12:36:00.536Z"
   },
   {
    "duration": 21,
    "start_time": "2022-08-06T12:36:00.549Z"
   },
   {
    "duration": 33,
    "start_time": "2022-08-06T12:36:00.571Z"
   },
   {
    "duration": 16,
    "start_time": "2022-08-06T12:36:00.606Z"
   },
   {
    "duration": 12,
    "start_time": "2022-08-06T12:36:00.624Z"
   },
   {
    "duration": 16,
    "start_time": "2022-08-06T12:36:00.638Z"
   },
   {
    "duration": 40,
    "start_time": "2022-08-06T12:36:00.655Z"
   },
   {
    "duration": 15,
    "start_time": "2022-08-06T12:36:00.697Z"
   },
   {
    "duration": 28,
    "start_time": "2022-08-06T12:36:00.714Z"
   },
   {
    "duration": 371,
    "start_time": "2022-08-06T12:36:00.744Z"
   },
   {
    "duration": 4,
    "start_time": "2022-08-06T12:36:01.118Z"
   },
   {
    "duration": 22,
    "start_time": "2022-08-06T12:36:01.124Z"
   },
   {
    "duration": 42,
    "start_time": "2022-08-06T12:36:01.148Z"
   },
   {
    "duration": 94,
    "start_time": "2022-08-06T12:36:01.193Z"
   },
   {
    "duration": 65,
    "start_time": "2022-08-06T12:36:01.289Z"
   },
   {
    "duration": 19,
    "start_time": "2022-08-06T12:36:01.356Z"
   },
   {
    "duration": 51,
    "start_time": "2022-08-06T12:44:40.697Z"
   },
   {
    "duration": 62,
    "start_time": "2022-08-06T12:47:52.564Z"
   },
   {
    "duration": 9,
    "start_time": "2022-08-06T13:46:41.316Z"
   },
   {
    "duration": 5,
    "start_time": "2022-08-06T13:46:51.293Z"
   },
   {
    "duration": 4,
    "start_time": "2022-08-06T13:47:00.211Z"
   },
   {
    "duration": 4,
    "start_time": "2022-08-06T14:01:36.664Z"
   },
   {
    "duration": 3,
    "start_time": "2022-08-06T14:02:14.879Z"
   },
   {
    "duration": 8,
    "start_time": "2022-08-06T14:02:33.639Z"
   },
   {
    "duration": 12,
    "start_time": "2022-08-06T14:02:57.974Z"
   },
   {
    "duration": 3,
    "start_time": "2022-08-06T14:05:11.892Z"
   },
   {
    "duration": 11,
    "start_time": "2022-08-06T14:05:13.299Z"
   },
   {
    "duration": 3,
    "start_time": "2022-08-06T14:05:39.195Z"
   },
   {
    "duration": 11,
    "start_time": "2022-08-06T14:05:40.595Z"
   },
   {
    "duration": 52,
    "start_time": "2022-08-06T14:06:04.004Z"
   },
   {
    "duration": 57,
    "start_time": "2022-08-06T14:06:21.793Z"
   },
   {
    "duration": 3,
    "start_time": "2022-08-06T14:06:57.442Z"
   },
   {
    "duration": 12,
    "start_time": "2022-08-06T14:06:59.921Z"
   },
   {
    "duration": 4,
    "start_time": "2022-08-06T14:07:36.728Z"
   },
   {
    "duration": 3,
    "start_time": "2022-08-06T14:08:16.079Z"
   },
   {
    "duration": 4,
    "start_time": "2022-08-06T14:08:41.926Z"
   },
   {
    "duration": 9,
    "start_time": "2022-08-06T14:09:49.261Z"
   },
   {
    "duration": 10,
    "start_time": "2022-08-06T14:09:49.580Z"
   },
   {
    "duration": 56,
    "start_time": "2022-08-06T14:15:38.463Z"
   },
   {
    "duration": 5,
    "start_time": "2022-08-06T14:21:14.047Z"
   },
   {
    "duration": 3,
    "start_time": "2022-08-06T14:22:09.854Z"
   },
   {
    "duration": 4,
    "start_time": "2022-08-06T14:22:10.869Z"
   },
   {
    "duration": 3,
    "start_time": "2022-08-06T14:23:31.164Z"
   },
   {
    "duration": 3,
    "start_time": "2022-08-06T14:25:49.460Z"
   },
   {
    "duration": 30,
    "start_time": "2022-08-06T14:25:49.467Z"
   },
   {
    "duration": 11,
    "start_time": "2022-08-06T14:25:49.499Z"
   },
   {
    "duration": 8,
    "start_time": "2022-08-06T14:25:49.511Z"
   },
   {
    "duration": 5,
    "start_time": "2022-08-06T14:25:49.521Z"
   },
   {
    "duration": 12,
    "start_time": "2022-08-06T14:25:49.527Z"
   },
   {
    "duration": 9,
    "start_time": "2022-08-06T14:25:49.540Z"
   },
   {
    "duration": 10,
    "start_time": "2022-08-06T14:25:49.551Z"
   },
   {
    "duration": 31,
    "start_time": "2022-08-06T14:25:49.562Z"
   },
   {
    "duration": 24,
    "start_time": "2022-08-06T14:25:49.595Z"
   },
   {
    "duration": 5,
    "start_time": "2022-08-06T14:25:49.622Z"
   },
   {
    "duration": 13,
    "start_time": "2022-08-06T14:25:49.629Z"
   },
   {
    "duration": 357,
    "start_time": "2022-08-06T14:25:49.643Z"
   },
   {
    "duration": 5,
    "start_time": "2022-08-06T14:25:50.002Z"
   },
   {
    "duration": 9,
    "start_time": "2022-08-06T14:25:50.008Z"
   },
   {
    "duration": 67,
    "start_time": "2022-08-06T14:25:50.019Z"
   },
   {
    "duration": 8,
    "start_time": "2022-08-06T14:25:50.089Z"
   },
   {
    "duration": 88,
    "start_time": "2022-08-06T14:25:50.099Z"
   },
   {
    "duration": 3,
    "start_time": "2022-08-06T14:25:50.189Z"
   },
   {
    "duration": 12,
    "start_time": "2022-08-06T14:25:50.193Z"
   },
   {
    "duration": 10,
    "start_time": "2022-08-06T14:25:50.206Z"
   },
   {
    "duration": 11,
    "start_time": "2022-08-07T06:34:21.464Z"
   },
   {
    "duration": 4,
    "start_time": "2022-08-07T06:34:22.737Z"
   },
   {
    "duration": 5,
    "start_time": "2022-08-07T06:36:59.623Z"
   },
   {
    "duration": 4,
    "start_time": "2022-08-07T06:37:01.373Z"
   },
   {
    "duration": 89,
    "start_time": "2022-08-07T06:37:14.775Z"
   },
   {
    "duration": 74,
    "start_time": "2022-08-07T06:37:57.220Z"
   },
   {
    "duration": 47,
    "start_time": "2022-08-07T06:38:27.843Z"
   },
   {
    "duration": 5,
    "start_time": "2022-08-07T06:38:33.395Z"
   },
   {
    "duration": 7,
    "start_time": "2022-08-07T06:38:33.796Z"
   },
   {
    "duration": 10,
    "start_time": "2022-08-07T06:38:43.572Z"
   },
   {
    "duration": 1768,
    "start_time": "2022-08-07T06:38:52.974Z"
   },
   {
    "duration": 88,
    "start_time": "2022-08-07T06:38:54.744Z"
   },
   {
    "duration": 25,
    "start_time": "2022-08-07T06:38:54.833Z"
   },
   {
    "duration": 14,
    "start_time": "2022-08-07T06:38:54.861Z"
   },
   {
    "duration": 11,
    "start_time": "2022-08-07T06:38:54.877Z"
   },
   {
    "duration": 22,
    "start_time": "2022-08-07T06:38:54.890Z"
   },
   {
    "duration": 16,
    "start_time": "2022-08-07T06:38:54.915Z"
   },
   {
    "duration": 19,
    "start_time": "2022-08-07T06:38:54.934Z"
   },
   {
    "duration": 39,
    "start_time": "2022-08-07T06:38:54.955Z"
   },
   {
    "duration": 37,
    "start_time": "2022-08-07T06:38:54.997Z"
   },
   {
    "duration": 42,
    "start_time": "2022-08-07T06:38:55.037Z"
   },
   {
    "duration": 57,
    "start_time": "2022-08-07T06:38:55.082Z"
   },
   {
    "duration": 418,
    "start_time": "2022-08-07T06:38:55.142Z"
   },
   {
    "duration": 7,
    "start_time": "2022-08-07T06:38:55.563Z"
   },
   {
    "duration": 23,
    "start_time": "2022-08-07T06:38:55.572Z"
   },
   {
    "duration": 15,
    "start_time": "2022-08-07T06:38:55.598Z"
   },
   {
    "duration": 225,
    "start_time": "2022-08-07T06:38:55.616Z"
   },
   {
    "duration": 0,
    "start_time": "2022-08-07T06:38:55.842Z"
   },
   {
    "duration": 0,
    "start_time": "2022-08-07T06:38:55.844Z"
   },
   {
    "duration": 0,
    "start_time": "2022-08-07T06:38:55.845Z"
   },
   {
    "duration": 0,
    "start_time": "2022-08-07T06:38:55.846Z"
   },
   {
    "duration": 0,
    "start_time": "2022-08-07T06:38:55.848Z"
   },
   {
    "duration": 4,
    "start_time": "2022-08-07T06:39:33.370Z"
   },
   {
    "duration": 18,
    "start_time": "2022-08-07T06:39:33.826Z"
   },
   {
    "duration": 5,
    "start_time": "2022-08-07T06:41:09.345Z"
   },
   {
    "duration": 6,
    "start_time": "2022-08-07T06:41:09.904Z"
   },
   {
    "duration": 4,
    "start_time": "2022-08-07T06:43:14.262Z"
   },
   {
    "duration": 5,
    "start_time": "2022-08-07T06:43:14.526Z"
   },
   {
    "duration": 4,
    "start_time": "2022-08-07T06:43:17.325Z"
   },
   {
    "duration": 3,
    "start_time": "2022-08-07T06:43:43.605Z"
   },
   {
    "duration": 7,
    "start_time": "2022-08-07T06:43:56.909Z"
   },
   {
    "duration": 6,
    "start_time": "2022-08-07T06:44:08.453Z"
   },
   {
    "duration": 5,
    "start_time": "2022-08-07T06:45:41.516Z"
   },
   {
    "duration": 11,
    "start_time": "2022-08-07T06:47:03.713Z"
   },
   {
    "duration": 11,
    "start_time": "2022-08-07T06:47:15.762Z"
   },
   {
    "duration": 6,
    "start_time": "2022-08-07T06:47:26.498Z"
   },
   {
    "duration": 4,
    "start_time": "2022-08-07T06:47:49.764Z"
   },
   {
    "duration": 37,
    "start_time": "2022-08-07T06:47:49.770Z"
   },
   {
    "duration": 15,
    "start_time": "2022-08-07T06:47:49.809Z"
   },
   {
    "duration": 14,
    "start_time": "2022-08-07T06:47:49.826Z"
   },
   {
    "duration": 8,
    "start_time": "2022-08-07T06:47:49.841Z"
   },
   {
    "duration": 13,
    "start_time": "2022-08-07T06:47:49.850Z"
   },
   {
    "duration": 28,
    "start_time": "2022-08-07T06:47:49.864Z"
   },
   {
    "duration": 12,
    "start_time": "2022-08-07T06:47:49.894Z"
   },
   {
    "duration": 13,
    "start_time": "2022-08-07T06:47:49.908Z"
   },
   {
    "duration": 17,
    "start_time": "2022-08-07T06:47:49.924Z"
   },
   {
    "duration": 6,
    "start_time": "2022-08-07T06:47:49.943Z"
   },
   {
    "duration": 20,
    "start_time": "2022-08-07T06:47:49.950Z"
   },
   {
    "duration": 353,
    "start_time": "2022-08-07T06:47:49.992Z"
   },
   {
    "duration": 5,
    "start_time": "2022-08-07T06:47:50.347Z"
   },
   {
    "duration": 40,
    "start_time": "2022-08-07T06:47:50.354Z"
   },
   {
    "duration": 92,
    "start_time": "2022-08-07T06:47:50.400Z"
   },
   {
    "duration": 22,
    "start_time": "2022-08-07T06:47:50.496Z"
   },
   {
    "duration": 14,
    "start_time": "2022-08-07T06:47:50.521Z"
   },
   {
    "duration": 7,
    "start_time": "2022-08-07T06:47:50.537Z"
   },
   {
    "duration": 5,
    "start_time": "2022-08-07T06:47:50.546Z"
   },
   {
    "duration": 47,
    "start_time": "2022-08-07T06:47:50.552Z"
   },
   {
    "duration": 109,
    "start_time": "2022-08-07T06:47:50.602Z"
   },
   {
    "duration": 4,
    "start_time": "2022-08-07T06:49:05.704Z"
   },
   {
    "duration": 4,
    "start_time": "2022-08-07T06:49:15.743Z"
   },
   {
    "duration": 6,
    "start_time": "2022-08-07T06:49:16.022Z"
   },
   {
    "duration": 14,
    "start_time": "2022-08-07T06:49:17.350Z"
   },
   {
    "duration": 4,
    "start_time": "2022-08-07T06:49:20.954Z"
   },
   {
    "duration": 32,
    "start_time": "2022-08-07T06:49:20.960Z"
   },
   {
    "duration": 14,
    "start_time": "2022-08-07T06:49:20.994Z"
   },
   {
    "duration": 11,
    "start_time": "2022-08-07T06:49:21.011Z"
   },
   {
    "duration": 9,
    "start_time": "2022-08-07T06:49:21.024Z"
   },
   {
    "duration": 30,
    "start_time": "2022-08-07T06:49:21.035Z"
   },
   {
    "duration": 38,
    "start_time": "2022-08-07T06:49:21.067Z"
   },
   {
    "duration": 17,
    "start_time": "2022-08-07T06:49:21.108Z"
   },
   {
    "duration": 16,
    "start_time": "2022-08-07T06:49:21.128Z"
   },
   {
    "duration": 24,
    "start_time": "2022-08-07T06:49:21.147Z"
   },
   {
    "duration": 22,
    "start_time": "2022-08-07T06:49:21.173Z"
   },
   {
    "duration": 18,
    "start_time": "2022-08-07T06:49:21.197Z"
   },
   {
    "duration": 349,
    "start_time": "2022-08-07T06:49:21.217Z"
   },
   {
    "duration": 7,
    "start_time": "2022-08-07T06:49:21.568Z"
   },
   {
    "duration": 18,
    "start_time": "2022-08-07T06:49:21.577Z"
   },
   {
    "duration": 96,
    "start_time": "2022-08-07T06:49:21.597Z"
   },
   {
    "duration": 39,
    "start_time": "2022-08-07T06:49:21.695Z"
   },
   {
    "duration": 75,
    "start_time": "2022-08-07T06:49:21.736Z"
   },
   {
    "duration": 0,
    "start_time": "2022-08-07T06:49:21.814Z"
   },
   {
    "duration": 0,
    "start_time": "2022-08-07T06:49:21.816Z"
   },
   {
    "duration": 0,
    "start_time": "2022-08-07T06:49:21.817Z"
   },
   {
    "duration": 0,
    "start_time": "2022-08-07T06:49:21.822Z"
   },
   {
    "duration": 4,
    "start_time": "2022-08-07T06:49:44.126Z"
   },
   {
    "duration": 6,
    "start_time": "2022-08-07T06:49:44.582Z"
   },
   {
    "duration": 99,
    "start_time": "2022-08-07T06:49:46.630Z"
   },
   {
    "duration": 4,
    "start_time": "2022-08-07T06:49:58.669Z"
   },
   {
    "duration": 6,
    "start_time": "2022-08-07T06:49:59.069Z"
   },
   {
    "duration": 19,
    "start_time": "2022-08-07T06:50:00.085Z"
   },
   {
    "duration": 3,
    "start_time": "2022-08-07T06:50:16.366Z"
   },
   {
    "duration": 6,
    "start_time": "2022-08-07T06:50:16.836Z"
   },
   {
    "duration": 5,
    "start_time": "2022-08-07T06:50:17.364Z"
   },
   {
    "duration": 4,
    "start_time": "2022-08-07T06:50:57.413Z"
   },
   {
    "duration": 5,
    "start_time": "2022-08-07T06:50:58.011Z"
   },
   {
    "duration": 3,
    "start_time": "2022-08-07T06:51:08.316Z"
   },
   {
    "duration": 4,
    "start_time": "2022-08-07T06:51:08.868Z"
   },
   {
    "duration": 4,
    "start_time": "2022-08-07T06:52:27.737Z"
   },
   {
    "duration": 4,
    "start_time": "2022-08-07T06:52:28.770Z"
   },
   {
    "duration": 4,
    "start_time": "2022-08-07T06:55:36.606Z"
   },
   {
    "duration": 5,
    "start_time": "2022-08-07T06:55:37.382Z"
   },
   {
    "duration": 7,
    "start_time": "2022-08-07T06:56:02.127Z"
   },
   {
    "duration": 3,
    "start_time": "2022-08-07T06:56:02.734Z"
   },
   {
    "duration": 4,
    "start_time": "2022-08-07T06:56:14.261Z"
   },
   {
    "duration": 7,
    "start_time": "2022-08-07T06:56:14.892Z"
   },
   {
    "duration": 7,
    "start_time": "2022-08-07T15:09:06.718Z"
   },
   {
    "duration": 3,
    "start_time": "2022-08-07T15:10:27.012Z"
   },
   {
    "duration": 50,
    "start_time": "2022-08-07T15:10:36.929Z"
   },
   {
    "duration": 1507,
    "start_time": "2022-08-07T15:10:44.124Z"
   },
   {
    "duration": 97,
    "start_time": "2022-08-07T15:10:45.633Z"
   },
   {
    "duration": 16,
    "start_time": "2022-08-07T15:10:45.731Z"
   },
   {
    "duration": 5,
    "start_time": "2022-08-07T15:10:45.749Z"
   },
   {
    "duration": 20,
    "start_time": "2022-08-07T15:10:45.755Z"
   },
   {
    "duration": 11,
    "start_time": "2022-08-07T15:10:45.776Z"
   },
   {
    "duration": 8,
    "start_time": "2022-08-07T15:10:45.789Z"
   },
   {
    "duration": 8,
    "start_time": "2022-08-07T15:10:45.799Z"
   },
   {
    "duration": 6,
    "start_time": "2022-08-07T15:10:45.808Z"
   },
   {
    "duration": 14,
    "start_time": "2022-08-07T15:10:45.816Z"
   },
   {
    "duration": 24,
    "start_time": "2022-08-07T15:10:45.832Z"
   },
   {
    "duration": 26,
    "start_time": "2022-08-07T15:10:45.857Z"
   },
   {
    "duration": 343,
    "start_time": "2022-08-07T15:10:45.885Z"
   },
   {
    "duration": 5,
    "start_time": "2022-08-07T15:10:46.230Z"
   },
   {
    "duration": 23,
    "start_time": "2022-08-07T15:10:46.236Z"
   },
   {
    "duration": 23,
    "start_time": "2022-08-07T15:10:46.260Z"
   },
   {
    "duration": 75,
    "start_time": "2022-08-07T15:10:46.284Z"
   },
   {
    "duration": 229,
    "start_time": "2022-08-07T15:10:46.361Z"
   },
   {
    "duration": 0,
    "start_time": "2022-08-07T15:10:46.592Z"
   },
   {
    "duration": 0,
    "start_time": "2022-08-07T15:10:46.593Z"
   },
   {
    "duration": 0,
    "start_time": "2022-08-07T15:10:46.594Z"
   },
   {
    "duration": 0,
    "start_time": "2022-08-07T15:10:46.595Z"
   },
   {
    "duration": 2,
    "start_time": "2022-08-07T15:11:13.248Z"
   },
   {
    "duration": 3,
    "start_time": "2022-08-07T15:11:19.576Z"
   },
   {
    "duration": 14,
    "start_time": "2022-08-07T15:11:20.025Z"
   },
   {
    "duration": 3,
    "start_time": "2022-08-07T15:11:32.975Z"
   },
   {
    "duration": 7,
    "start_time": "2022-08-07T15:11:33.551Z"
   },
   {
    "duration": 2,
    "start_time": "2022-08-07T15:12:11.031Z"
   },
   {
    "duration": 3,
    "start_time": "2022-08-07T15:59:30.217Z"
   },
   {
    "duration": 51,
    "start_time": "2022-08-07T15:59:30.224Z"
   },
   {
    "duration": 12,
    "start_time": "2022-08-07T15:59:30.277Z"
   },
   {
    "duration": 19,
    "start_time": "2022-08-07T15:59:30.290Z"
   },
   {
    "duration": 13,
    "start_time": "2022-08-07T15:59:30.311Z"
   },
   {
    "duration": 19,
    "start_time": "2022-08-07T15:59:30.325Z"
   },
   {
    "duration": 10,
    "start_time": "2022-08-07T15:59:30.345Z"
   },
   {
    "duration": 8,
    "start_time": "2022-08-07T15:59:30.358Z"
   },
   {
    "duration": 20,
    "start_time": "2022-08-07T15:59:30.369Z"
   },
   {
    "duration": 24,
    "start_time": "2022-08-07T15:59:30.390Z"
   },
   {
    "duration": 5,
    "start_time": "2022-08-07T15:59:30.417Z"
   },
   {
    "duration": 19,
    "start_time": "2022-08-07T15:59:30.424Z"
   },
   {
    "duration": 301,
    "start_time": "2022-08-07T15:59:30.444Z"
   },
   {
    "duration": 2,
    "start_time": "2022-08-07T15:59:30.747Z"
   },
   {
    "duration": 14,
    "start_time": "2022-08-07T15:59:30.754Z"
   },
   {
    "duration": 6,
    "start_time": "2022-08-07T15:59:30.769Z"
   },
   {
    "duration": 11,
    "start_time": "2022-08-07T15:59:30.777Z"
   },
   {
    "duration": 23,
    "start_time": "2022-08-07T15:59:30.789Z"
   },
   {
    "duration": 61,
    "start_time": "2022-08-07T15:59:30.813Z"
   },
   {
    "duration": 0,
    "start_time": "2022-08-07T15:59:30.875Z"
   },
   {
    "duration": 0,
    "start_time": "2022-08-07T15:59:30.879Z"
   },
   {
    "duration": 0,
    "start_time": "2022-08-07T15:59:30.880Z"
   },
   {
    "duration": 4,
    "start_time": "2022-08-07T16:00:12.109Z"
   },
   {
    "duration": 4,
    "start_time": "2022-08-07T16:00:15.637Z"
   },
   {
    "duration": 14,
    "start_time": "2022-08-07T16:00:18.628Z"
   },
   {
    "duration": 14,
    "start_time": "2022-08-07T16:00:19.308Z"
   },
   {
    "duration": 2,
    "start_time": "2022-08-07T16:00:25.237Z"
   },
   {
    "duration": 51,
    "start_time": "2022-08-07T16:00:25.244Z"
   },
   {
    "duration": 13,
    "start_time": "2022-08-07T16:00:25.297Z"
   },
   {
    "duration": 31,
    "start_time": "2022-08-07T16:00:25.311Z"
   },
   {
    "duration": 42,
    "start_time": "2022-08-07T16:00:25.344Z"
   },
   {
    "duration": 18,
    "start_time": "2022-08-07T16:00:25.389Z"
   },
   {
    "duration": 20,
    "start_time": "2022-08-07T16:00:25.408Z"
   },
   {
    "duration": 25,
    "start_time": "2022-08-07T16:00:25.430Z"
   },
   {
    "duration": 44,
    "start_time": "2022-08-07T16:00:25.464Z"
   },
   {
    "duration": 28,
    "start_time": "2022-08-07T16:00:25.510Z"
   },
   {
    "duration": 18,
    "start_time": "2022-08-07T16:00:25.540Z"
   },
   {
    "duration": 32,
    "start_time": "2022-08-07T16:00:25.566Z"
   },
   {
    "duration": 318,
    "start_time": "2022-08-07T16:00:25.600Z"
   },
   {
    "duration": 3,
    "start_time": "2022-08-07T16:00:25.919Z"
   },
   {
    "duration": 4,
    "start_time": "2022-08-07T16:00:25.924Z"
   },
   {
    "duration": 4,
    "start_time": "2022-08-07T16:00:25.930Z"
   },
   {
    "duration": 25,
    "start_time": "2022-08-07T16:00:25.936Z"
   },
   {
    "duration": 16,
    "start_time": "2022-08-07T16:00:25.963Z"
   },
   {
    "duration": 81,
    "start_time": "2022-08-07T16:00:25.981Z"
   },
   {
    "duration": 0,
    "start_time": "2022-08-07T16:00:26.065Z"
   },
   {
    "duration": 0,
    "start_time": "2022-08-07T16:00:26.066Z"
   },
   {
    "duration": 0,
    "start_time": "2022-08-07T16:00:26.067Z"
   },
   {
    "duration": 3,
    "start_time": "2022-08-07T16:00:39.446Z"
   },
   {
    "duration": 44,
    "start_time": "2022-08-07T16:00:39.452Z"
   },
   {
    "duration": 11,
    "start_time": "2022-08-07T16:00:39.498Z"
   },
   {
    "duration": 7,
    "start_time": "2022-08-07T16:00:39.510Z"
   },
   {
    "duration": 6,
    "start_time": "2022-08-07T16:00:39.519Z"
   },
   {
    "duration": 11,
    "start_time": "2022-08-07T16:00:39.526Z"
   },
   {
    "duration": 9,
    "start_time": "2022-08-07T16:00:39.538Z"
   },
   {
    "duration": 14,
    "start_time": "2022-08-07T16:00:39.549Z"
   },
   {
    "duration": 10,
    "start_time": "2022-08-07T16:00:39.568Z"
   },
   {
    "duration": 14,
    "start_time": "2022-08-07T16:00:39.580Z"
   },
   {
    "duration": 5,
    "start_time": "2022-08-07T16:00:39.596Z"
   },
   {
    "duration": 11,
    "start_time": "2022-08-07T16:00:39.602Z"
   },
   {
    "duration": 333,
    "start_time": "2022-08-07T16:00:39.614Z"
   },
   {
    "duration": 13,
    "start_time": "2022-08-07T16:00:39.949Z"
   },
   {
    "duration": 10,
    "start_time": "2022-08-07T16:00:39.966Z"
   },
   {
    "duration": 7,
    "start_time": "2022-08-07T16:00:39.978Z"
   },
   {
    "duration": 6,
    "start_time": "2022-08-07T16:00:39.987Z"
   },
   {
    "duration": 10,
    "start_time": "2022-08-07T16:00:39.995Z"
   },
   {
    "duration": 153,
    "start_time": "2022-08-07T16:00:40.006Z"
   },
   {
    "duration": 0,
    "start_time": "2022-08-07T16:00:40.161Z"
   },
   {
    "duration": 0,
    "start_time": "2022-08-07T16:00:40.162Z"
   },
   {
    "duration": 0,
    "start_time": "2022-08-07T16:00:40.162Z"
   },
   {
    "duration": 4,
    "start_time": "2022-08-07T16:02:05.130Z"
   },
   {
    "duration": 3,
    "start_time": "2022-08-07T16:03:16.121Z"
   },
   {
    "duration": 4,
    "start_time": "2022-08-07T16:03:24.608Z"
   },
   {
    "duration": 3,
    "start_time": "2022-08-07T16:03:24.905Z"
   },
   {
    "duration": 10,
    "start_time": "2022-08-07T16:03:25.364Z"
   },
   {
    "duration": 4,
    "start_time": "2022-08-07T16:03:27.136Z"
   },
   {
    "duration": 4,
    "start_time": "2022-08-07T16:03:28.378Z"
   },
   {
    "duration": 12,
    "start_time": "2022-08-07T16:03:29.488Z"
   },
   {
    "duration": 12,
    "start_time": "2022-08-07T16:03:29.832Z"
   },
   {
    "duration": 3,
    "start_time": "2022-08-07T16:03:34.787Z"
   },
   {
    "duration": 32,
    "start_time": "2022-08-07T16:03:34.794Z"
   },
   {
    "duration": 15,
    "start_time": "2022-08-07T16:03:34.828Z"
   },
   {
    "duration": 6,
    "start_time": "2022-08-07T16:03:34.844Z"
   },
   {
    "duration": 20,
    "start_time": "2022-08-07T16:03:34.852Z"
   },
   {
    "duration": 16,
    "start_time": "2022-08-07T16:03:34.874Z"
   },
   {
    "duration": 15,
    "start_time": "2022-08-07T16:03:34.891Z"
   },
   {
    "duration": 13,
    "start_time": "2022-08-07T16:03:34.908Z"
   },
   {
    "duration": 15,
    "start_time": "2022-08-07T16:03:34.922Z"
   },
   {
    "duration": 33,
    "start_time": "2022-08-07T16:03:34.938Z"
   },
   {
    "duration": 5,
    "start_time": "2022-08-07T16:03:34.973Z"
   },
   {
    "duration": 16,
    "start_time": "2022-08-07T16:03:34.979Z"
   },
   {
    "duration": 307,
    "start_time": "2022-08-07T16:03:34.996Z"
   },
   {
    "duration": 3,
    "start_time": "2022-08-07T16:03:35.305Z"
   },
   {
    "duration": 17,
    "start_time": "2022-08-07T16:03:35.311Z"
   },
   {
    "duration": 4,
    "start_time": "2022-08-07T16:03:35.330Z"
   },
   {
    "duration": 7,
    "start_time": "2022-08-07T16:03:35.336Z"
   },
   {
    "duration": 8,
    "start_time": "2022-08-07T16:03:35.344Z"
   },
   {
    "duration": 32,
    "start_time": "2022-08-07T16:03:35.355Z"
   },
   {
    "duration": 26,
    "start_time": "2022-08-07T16:03:35.455Z"
   },
   {
    "duration": 5,
    "start_time": "2022-08-07T16:03:35.483Z"
   },
   {
    "duration": 13,
    "start_time": "2022-08-07T16:03:35.490Z"
   },
   {
    "duration": 13,
    "start_time": "2022-08-07T16:03:35.555Z"
   },
   {
    "duration": 1514,
    "start_time": "2022-08-08T08:47:58.558Z"
   },
   {
    "duration": 93,
    "start_time": "2022-08-08T08:48:00.074Z"
   },
   {
    "duration": 16,
    "start_time": "2022-08-08T08:48:00.169Z"
   },
   {
    "duration": 5,
    "start_time": "2022-08-08T08:48:00.187Z"
   },
   {
    "duration": 22,
    "start_time": "2022-08-08T08:48:00.194Z"
   },
   {
    "duration": 36,
    "start_time": "2022-08-08T08:48:00.218Z"
   },
   {
    "duration": 24,
    "start_time": "2022-08-08T08:48:00.255Z"
   },
   {
    "duration": 37,
    "start_time": "2022-08-08T08:48:00.280Z"
   },
   {
    "duration": 8,
    "start_time": "2022-08-08T08:48:00.318Z"
   },
   {
    "duration": 20,
    "start_time": "2022-08-08T08:48:00.328Z"
   },
   {
    "duration": 5,
    "start_time": "2022-08-08T08:48:00.349Z"
   },
   {
    "duration": 14,
    "start_time": "2022-08-08T08:48:00.356Z"
   },
   {
    "duration": 379,
    "start_time": "2022-08-08T08:48:00.371Z"
   },
   {
    "duration": 3,
    "start_time": "2022-08-08T08:48:00.751Z"
   },
   {
    "duration": 8,
    "start_time": "2022-08-08T08:48:00.755Z"
   },
   {
    "duration": 15,
    "start_time": "2022-08-08T08:48:00.765Z"
   },
   {
    "duration": 15,
    "start_time": "2022-08-08T08:48:00.782Z"
   },
   {
    "duration": 24,
    "start_time": "2022-08-08T08:48:00.809Z"
   },
   {
    "duration": 20,
    "start_time": "2022-08-08T08:48:00.834Z"
   },
   {
    "duration": 105,
    "start_time": "2022-08-08T08:48:00.899Z"
   },
   {
    "duration": 29,
    "start_time": "2022-08-08T08:48:01.006Z"
   },
   {
    "duration": 133,
    "start_time": "2022-08-08T08:48:01.037Z"
   },
   {
    "duration": 153,
    "start_time": "2022-08-08T08:48:01.172Z"
   },
   {
    "duration": 2011,
    "start_time": "2022-08-18T01:06:10.478Z"
   },
   {
    "duration": 152,
    "start_time": "2022-08-18T01:06:12.493Z"
   },
   {
    "duration": 27,
    "start_time": "2022-08-18T01:06:12.648Z"
   },
   {
    "duration": 9,
    "start_time": "2022-08-18T01:06:12.677Z"
   },
   {
    "duration": 15,
    "start_time": "2022-08-18T01:06:12.690Z"
   },
   {
    "duration": 25,
    "start_time": "2022-08-18T01:06:12.708Z"
   },
   {
    "duration": 17,
    "start_time": "2022-08-18T01:06:12.736Z"
   },
   {
    "duration": 38,
    "start_time": "2022-08-18T01:06:12.756Z"
   },
   {
    "duration": 10,
    "start_time": "2022-08-18T01:06:12.796Z"
   },
   {
    "duration": 37,
    "start_time": "2022-08-18T01:06:12.809Z"
   },
   {
    "duration": 8,
    "start_time": "2022-08-18T01:06:12.848Z"
   },
   {
    "duration": 54,
    "start_time": "2022-08-18T01:06:12.857Z"
   },
   {
    "duration": 471,
    "start_time": "2022-08-18T01:06:12.913Z"
   },
   {
    "duration": 3,
    "start_time": "2022-08-18T01:06:13.394Z"
   },
   {
    "duration": 6,
    "start_time": "2022-08-18T01:06:13.400Z"
   },
   {
    "duration": 11,
    "start_time": "2022-08-18T01:06:13.408Z"
   },
   {
    "duration": 9,
    "start_time": "2022-08-18T01:06:13.421Z"
   },
   {
    "duration": 10,
    "start_time": "2022-08-18T01:06:13.432Z"
   },
   {
    "duration": 78,
    "start_time": "2022-08-18T01:06:13.444Z"
   },
   {
    "duration": 89,
    "start_time": "2022-08-18T01:06:13.524Z"
   },
   {
    "duration": 6,
    "start_time": "2022-08-18T01:06:13.616Z"
   },
   {
    "duration": 21,
    "start_time": "2022-08-18T01:06:13.625Z"
   },
   {
    "duration": 73,
    "start_time": "2022-08-18T01:06:13.649Z"
   }
  ],
  "kernelspec": {
   "display_name": "Python 3 (ipykernel)",
   "language": "python",
   "name": "python3"
  },
  "language_info": {
   "codemirror_mode": {
    "name": "ipython",
    "version": 3
   },
   "file_extension": ".py",
   "mimetype": "text/x-python",
   "name": "python",
   "nbconvert_exporter": "python",
   "pygments_lexer": "ipython3",
   "version": "3.9.13"
  },
  "toc": {
   "base_numbering": 1,
   "nav_menu": {},
   "number_sections": true,
   "sideBar": true,
   "skip_h1_title": true,
   "title_cell": "Содержание",
   "title_sidebar": "Contents",
   "toc_cell": true,
   "toc_position": {},
   "toc_section_display": true,
   "toc_window_display": true
  }
 },
 "nbformat": 4,
 "nbformat_minor": 2
}
