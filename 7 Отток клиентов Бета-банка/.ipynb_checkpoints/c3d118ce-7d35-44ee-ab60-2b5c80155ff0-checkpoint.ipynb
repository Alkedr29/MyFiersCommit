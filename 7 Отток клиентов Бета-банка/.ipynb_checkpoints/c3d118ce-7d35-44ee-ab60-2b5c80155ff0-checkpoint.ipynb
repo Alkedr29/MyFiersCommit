{
 "cells": [
  {
   "cell_type": "markdown",
   "metadata": {
    "toc": true
   },
   "source": [
    "<h1>Содержание<span class=\"tocSkip\"></span></h1>\n",
    "<div class=\"toc\"><ul class=\"toc-item\"><li><span><a href=\"#Подготовка-данных\" data-toc-modified-id=\"Подготовка-данных-1\"><span class=\"toc-item-num\">1&nbsp;&nbsp;</span>Подготовка данных</a></span></li><li><span><a href=\"#Исследование-задачи\" data-toc-modified-id=\"Исследование-задачи-2\"><span class=\"toc-item-num\">2&nbsp;&nbsp;</span>Исследование задачи</a></span></li><li><span><a href=\"#Борьба-с-дисбалансом\" data-toc-modified-id=\"Борьба-с-дисбалансом-3\"><span class=\"toc-item-num\">3&nbsp;&nbsp;</span>Борьба с дисбалансом</a></span></li><li><span><a href=\"#Тестирование-модели\" data-toc-modified-id=\"Тестирование-модели-4\"><span class=\"toc-item-num\">4&nbsp;&nbsp;</span>Тестирование модели</a></span></li></ul></div>"
   ]
  },
  {
   "cell_type": "markdown",
   "metadata": {},
   "source": [
    "# Отток клиентов"
   ]
  },
  {
   "cell_type": "markdown",
   "metadata": {},
   "source": [
    "Из «Бета-Банка» стали уходить клиенты. Каждый месяц. Немного, но заметно. Банковские маркетологи посчитали: сохранять текущих клиентов дешевле, чем привлекать новых.\n",
    "\n",
    "Нужно спрогнозировать, уйдёт клиент из банка в ближайшее время или нет. Вам предоставлены исторические данные о поведении клиентов и расторжении договоров с банком. "
   ]
  },
  {
   "cell_type": "markdown",
   "metadata": {},
   "source": [
    "## Подготовка данных"
   ]
  },
  {
   "cell_type": "code",
   "execution_count": 27,
   "metadata": {},
   "outputs": [],
   "source": [
    "import pandas as pd\n",
    "from sklearn.model_selection import train_test_split\n",
    "from sklearn.metrics import f1_score\n",
    "from sklearn.linear_model import LogisticRegression\n",
    "from sklearn.utils import shuffle\n",
    "from sklearn.ensemble import RandomForestClassifier\n",
    "from sklearn.ensemble import RandomForestRegressor\n",
    "from sklearn.metrics import roc_auc_score\n",
    "from sklearn.preprocessing import StandardScaler "
   ]
  },
  {
   "cell_type": "code",
   "execution_count": 28,
   "metadata": {},
   "outputs": [],
   "source": [
    "try:\n",
    "    df = pd.read_csv('Churn.csv')\n",
    "except:\n",
    "    df=pd.read_csv('/datasets/Churn.csv')"
   ]
  },
  {
   "cell_type": "code",
   "execution_count": 29,
   "metadata": {
    "scrolled": false
   },
   "outputs": [
    {
     "name": "stdout",
     "output_type": "stream",
     "text": [
      "<class 'pandas.core.frame.DataFrame'>\n",
      "RangeIndex: 10000 entries, 0 to 9999\n",
      "Data columns (total 14 columns):\n",
      " #   Column           Non-Null Count  Dtype  \n",
      "---  ------           --------------  -----  \n",
      " 0   RowNumber        10000 non-null  int64  \n",
      " 1   CustomerId       10000 non-null  int64  \n",
      " 2   Surname          10000 non-null  object \n",
      " 3   CreditScore      10000 non-null  int64  \n",
      " 4   Geography        10000 non-null  object \n",
      " 5   Gender           10000 non-null  object \n",
      " 6   Age              10000 non-null  int64  \n",
      " 7   Tenure           9091 non-null   float64\n",
      " 8   Balance          10000 non-null  float64\n",
      " 9   NumOfProducts    10000 non-null  int64  \n",
      " 10  HasCrCard        10000 non-null  int64  \n",
      " 11  IsActiveMember   10000 non-null  int64  \n",
      " 12  EstimatedSalary  10000 non-null  float64\n",
      " 13  Exited           10000 non-null  int64  \n",
      "dtypes: float64(3), int64(8), object(3)\n",
      "memory usage: 1.1+ MB\n"
     ]
    }
   ],
   "source": [
    "#смотрим инфо по данным\n",
    "df.info()"
   ]
  },
  {
   "cell_type": "code",
   "execution_count": 30,
   "metadata": {
    "scrolled": false
   },
   "outputs": [
    {
     "name": "stdout",
     "output_type": "stream",
     "text": [
      "<class 'pandas.core.frame.DataFrame'>\n",
      "RangeIndex: 10000 entries, 0 to 9999\n",
      "Data columns (total 13 columns):\n",
      " #   Column           Non-Null Count  Dtype  \n",
      "---  ------           --------------  -----  \n",
      " 0   customerid       10000 non-null  int64  \n",
      " 1   surname          10000 non-null  object \n",
      " 2   creditscore      10000 non-null  int64  \n",
      " 3   geography        10000 non-null  object \n",
      " 4   gender           10000 non-null  object \n",
      " 5   age              10000 non-null  int64  \n",
      " 6   tenure           9091 non-null   float64\n",
      " 7   balance          10000 non-null  float64\n",
      " 8   numofproducts    10000 non-null  int64  \n",
      " 9   hascrcard        10000 non-null  int64  \n",
      " 10  isactivemember   10000 non-null  int64  \n",
      " 11  estimatedsalary  10000 non-null  float64\n",
      " 12  exited           10000 non-null  int64  \n",
      "dtypes: float64(3), int64(7), object(3)\n",
      "memory usage: 1015.8+ KB\n"
     ]
    }
   ],
   "source": [
    "#приводим столбцы к нижнему регистру,удаляем пропуски и столбец дублирующий индексы\n",
    "df.columns = df.columns.str.lower()\n",
    "df = df.drop(['rownumber'],axis=1)\n",
    "df.info()"
   ]
  },
  {
   "cell_type": "code",
   "execution_count": 31,
   "metadata": {},
   "outputs": [
    {
     "name": "stdout",
     "output_type": "stream",
     "text": [
      "<class 'pandas.core.frame.DataFrame'>\n",
      "RangeIndex: 10000 entries, 0 to 9999\n",
      "Data columns (total 13 columns):\n",
      " #   Column           Non-Null Count  Dtype  \n",
      "---  ------           --------------  -----  \n",
      " 0   customerid       10000 non-null  int64  \n",
      " 1   surname          10000 non-null  object \n",
      " 2   creditscore      10000 non-null  int64  \n",
      " 3   geography        10000 non-null  object \n",
      " 4   gender           10000 non-null  object \n",
      " 5   age              10000 non-null  int64  \n",
      " 6   tenure           10000 non-null  object \n",
      " 7   balance          10000 non-null  float64\n",
      " 8   numofproducts    10000 non-null  int64  \n",
      " 9   hascrcard        10000 non-null  int64  \n",
      " 10  isactivemember   10000 non-null  int64  \n",
      " 11  estimatedsalary  10000 non-null  float64\n",
      " 12  exited           10000 non-null  int64  \n",
      "dtypes: float64(2), int64(7), object(4)\n",
      "memory usage: 1015.8+ KB\n"
     ]
    }
   ],
   "source": [
    "#заполняем пропуски заглушкой -1 и приводим к типу object\n",
    "df['tenure'] = df['tenure'].fillna(-1)\n",
    "df['tenure'] = df['tenure'].astype('object')\n",
    "df.info()"
   ]
  },
  {
   "cell_type": "code",
   "execution_count": 32,
   "metadata": {},
   "outputs": [],
   "source": [
    "#удаляем столбцы с именами и идентификаторами клиента\n",
    "df = df.drop(df[['surname','customerid']],axis=1)"
   ]
  },
  {
   "cell_type": "code",
   "execution_count": 33,
   "metadata": {},
   "outputs": [
    {
     "name": "stderr",
     "output_type": "stream",
     "text": [
      "C:\\Users\\User\\anaconda3\\lib\\site-packages\\pandas\\core\\algorithms.py:798: FutureWarning: In a future version, the Index constructor will not infer numeric dtypes when passed object-dtype sequences (matching Series behavior)\n",
      "  uniques = Index(uniques)\n"
     ]
    },
    {
     "data": {
      "text/html": [
       "<div>\n",
       "<style scoped>\n",
       "    .dataframe tbody tr th:only-of-type {\n",
       "        vertical-align: middle;\n",
       "    }\n",
       "\n",
       "    .dataframe tbody tr th {\n",
       "        vertical-align: top;\n",
       "    }\n",
       "\n",
       "    .dataframe thead th {\n",
       "        text-align: right;\n",
       "    }\n",
       "</style>\n",
       "<table border=\"1\" class=\"dataframe\">\n",
       "  <thead>\n",
       "    <tr style=\"text-align: right;\">\n",
       "      <th></th>\n",
       "      <th>creditscore</th>\n",
       "      <th>age</th>\n",
       "      <th>balance</th>\n",
       "      <th>numofproducts</th>\n",
       "      <th>hascrcard</th>\n",
       "      <th>isactivemember</th>\n",
       "      <th>estimatedsalary</th>\n",
       "      <th>exited</th>\n",
       "      <th>geography_Germany</th>\n",
       "      <th>geography_Spain</th>\n",
       "      <th>...</th>\n",
       "      <th>tenure_1.0</th>\n",
       "      <th>tenure_2.0</th>\n",
       "      <th>tenure_3.0</th>\n",
       "      <th>tenure_4.0</th>\n",
       "      <th>tenure_5.0</th>\n",
       "      <th>tenure_6.0</th>\n",
       "      <th>tenure_7.0</th>\n",
       "      <th>tenure_8.0</th>\n",
       "      <th>tenure_9.0</th>\n",
       "      <th>tenure_10.0</th>\n",
       "    </tr>\n",
       "  </thead>\n",
       "  <tbody>\n",
       "    <tr>\n",
       "      <th>0</th>\n",
       "      <td>619</td>\n",
       "      <td>42</td>\n",
       "      <td>0.00</td>\n",
       "      <td>1</td>\n",
       "      <td>1</td>\n",
       "      <td>1</td>\n",
       "      <td>101348.88</td>\n",
       "      <td>1</td>\n",
       "      <td>0</td>\n",
       "      <td>0</td>\n",
       "      <td>...</td>\n",
       "      <td>0</td>\n",
       "      <td>1</td>\n",
       "      <td>0</td>\n",
       "      <td>0</td>\n",
       "      <td>0</td>\n",
       "      <td>0</td>\n",
       "      <td>0</td>\n",
       "      <td>0</td>\n",
       "      <td>0</td>\n",
       "      <td>0</td>\n",
       "    </tr>\n",
       "    <tr>\n",
       "      <th>1</th>\n",
       "      <td>608</td>\n",
       "      <td>41</td>\n",
       "      <td>83807.86</td>\n",
       "      <td>1</td>\n",
       "      <td>0</td>\n",
       "      <td>1</td>\n",
       "      <td>112542.58</td>\n",
       "      <td>0</td>\n",
       "      <td>0</td>\n",
       "      <td>1</td>\n",
       "      <td>...</td>\n",
       "      <td>1</td>\n",
       "      <td>0</td>\n",
       "      <td>0</td>\n",
       "      <td>0</td>\n",
       "      <td>0</td>\n",
       "      <td>0</td>\n",
       "      <td>0</td>\n",
       "      <td>0</td>\n",
       "      <td>0</td>\n",
       "      <td>0</td>\n",
       "    </tr>\n",
       "    <tr>\n",
       "      <th>2</th>\n",
       "      <td>502</td>\n",
       "      <td>42</td>\n",
       "      <td>159660.80</td>\n",
       "      <td>3</td>\n",
       "      <td>1</td>\n",
       "      <td>0</td>\n",
       "      <td>113931.57</td>\n",
       "      <td>1</td>\n",
       "      <td>0</td>\n",
       "      <td>0</td>\n",
       "      <td>...</td>\n",
       "      <td>0</td>\n",
       "      <td>0</td>\n",
       "      <td>0</td>\n",
       "      <td>0</td>\n",
       "      <td>0</td>\n",
       "      <td>0</td>\n",
       "      <td>0</td>\n",
       "      <td>1</td>\n",
       "      <td>0</td>\n",
       "      <td>0</td>\n",
       "    </tr>\n",
       "    <tr>\n",
       "      <th>3</th>\n",
       "      <td>699</td>\n",
       "      <td>39</td>\n",
       "      <td>0.00</td>\n",
       "      <td>2</td>\n",
       "      <td>0</td>\n",
       "      <td>0</td>\n",
       "      <td>93826.63</td>\n",
       "      <td>0</td>\n",
       "      <td>0</td>\n",
       "      <td>0</td>\n",
       "      <td>...</td>\n",
       "      <td>1</td>\n",
       "      <td>0</td>\n",
       "      <td>0</td>\n",
       "      <td>0</td>\n",
       "      <td>0</td>\n",
       "      <td>0</td>\n",
       "      <td>0</td>\n",
       "      <td>0</td>\n",
       "      <td>0</td>\n",
       "      <td>0</td>\n",
       "    </tr>\n",
       "    <tr>\n",
       "      <th>4</th>\n",
       "      <td>850</td>\n",
       "      <td>43</td>\n",
       "      <td>125510.82</td>\n",
       "      <td>1</td>\n",
       "      <td>1</td>\n",
       "      <td>1</td>\n",
       "      <td>79084.10</td>\n",
       "      <td>0</td>\n",
       "      <td>0</td>\n",
       "      <td>1</td>\n",
       "      <td>...</td>\n",
       "      <td>0</td>\n",
       "      <td>1</td>\n",
       "      <td>0</td>\n",
       "      <td>0</td>\n",
       "      <td>0</td>\n",
       "      <td>0</td>\n",
       "      <td>0</td>\n",
       "      <td>0</td>\n",
       "      <td>0</td>\n",
       "      <td>0</td>\n",
       "    </tr>\n",
       "    <tr>\n",
       "      <th>...</th>\n",
       "      <td>...</td>\n",
       "      <td>...</td>\n",
       "      <td>...</td>\n",
       "      <td>...</td>\n",
       "      <td>...</td>\n",
       "      <td>...</td>\n",
       "      <td>...</td>\n",
       "      <td>...</td>\n",
       "      <td>...</td>\n",
       "      <td>...</td>\n",
       "      <td>...</td>\n",
       "      <td>...</td>\n",
       "      <td>...</td>\n",
       "      <td>...</td>\n",
       "      <td>...</td>\n",
       "      <td>...</td>\n",
       "      <td>...</td>\n",
       "      <td>...</td>\n",
       "      <td>...</td>\n",
       "      <td>...</td>\n",
       "      <td>...</td>\n",
       "    </tr>\n",
       "    <tr>\n",
       "      <th>9995</th>\n",
       "      <td>771</td>\n",
       "      <td>39</td>\n",
       "      <td>0.00</td>\n",
       "      <td>2</td>\n",
       "      <td>1</td>\n",
       "      <td>0</td>\n",
       "      <td>96270.64</td>\n",
       "      <td>0</td>\n",
       "      <td>0</td>\n",
       "      <td>0</td>\n",
       "      <td>...</td>\n",
       "      <td>0</td>\n",
       "      <td>0</td>\n",
       "      <td>0</td>\n",
       "      <td>0</td>\n",
       "      <td>1</td>\n",
       "      <td>0</td>\n",
       "      <td>0</td>\n",
       "      <td>0</td>\n",
       "      <td>0</td>\n",
       "      <td>0</td>\n",
       "    </tr>\n",
       "    <tr>\n",
       "      <th>9996</th>\n",
       "      <td>516</td>\n",
       "      <td>35</td>\n",
       "      <td>57369.61</td>\n",
       "      <td>1</td>\n",
       "      <td>1</td>\n",
       "      <td>1</td>\n",
       "      <td>101699.77</td>\n",
       "      <td>0</td>\n",
       "      <td>0</td>\n",
       "      <td>0</td>\n",
       "      <td>...</td>\n",
       "      <td>0</td>\n",
       "      <td>0</td>\n",
       "      <td>0</td>\n",
       "      <td>0</td>\n",
       "      <td>0</td>\n",
       "      <td>0</td>\n",
       "      <td>0</td>\n",
       "      <td>0</td>\n",
       "      <td>0</td>\n",
       "      <td>1</td>\n",
       "    </tr>\n",
       "    <tr>\n",
       "      <th>9997</th>\n",
       "      <td>709</td>\n",
       "      <td>36</td>\n",
       "      <td>0.00</td>\n",
       "      <td>1</td>\n",
       "      <td>0</td>\n",
       "      <td>1</td>\n",
       "      <td>42085.58</td>\n",
       "      <td>1</td>\n",
       "      <td>0</td>\n",
       "      <td>0</td>\n",
       "      <td>...</td>\n",
       "      <td>0</td>\n",
       "      <td>0</td>\n",
       "      <td>0</td>\n",
       "      <td>0</td>\n",
       "      <td>0</td>\n",
       "      <td>0</td>\n",
       "      <td>1</td>\n",
       "      <td>0</td>\n",
       "      <td>0</td>\n",
       "      <td>0</td>\n",
       "    </tr>\n",
       "    <tr>\n",
       "      <th>9998</th>\n",
       "      <td>772</td>\n",
       "      <td>42</td>\n",
       "      <td>75075.31</td>\n",
       "      <td>2</td>\n",
       "      <td>1</td>\n",
       "      <td>0</td>\n",
       "      <td>92888.52</td>\n",
       "      <td>1</td>\n",
       "      <td>1</td>\n",
       "      <td>0</td>\n",
       "      <td>...</td>\n",
       "      <td>0</td>\n",
       "      <td>0</td>\n",
       "      <td>1</td>\n",
       "      <td>0</td>\n",
       "      <td>0</td>\n",
       "      <td>0</td>\n",
       "      <td>0</td>\n",
       "      <td>0</td>\n",
       "      <td>0</td>\n",
       "      <td>0</td>\n",
       "    </tr>\n",
       "    <tr>\n",
       "      <th>9999</th>\n",
       "      <td>792</td>\n",
       "      <td>28</td>\n",
       "      <td>130142.79</td>\n",
       "      <td>1</td>\n",
       "      <td>1</td>\n",
       "      <td>0</td>\n",
       "      <td>38190.78</td>\n",
       "      <td>0</td>\n",
       "      <td>0</td>\n",
       "      <td>0</td>\n",
       "      <td>...</td>\n",
       "      <td>0</td>\n",
       "      <td>0</td>\n",
       "      <td>0</td>\n",
       "      <td>0</td>\n",
       "      <td>0</td>\n",
       "      <td>0</td>\n",
       "      <td>0</td>\n",
       "      <td>0</td>\n",
       "      <td>0</td>\n",
       "      <td>0</td>\n",
       "    </tr>\n",
       "  </tbody>\n",
       "</table>\n",
       "<p>10000 rows × 22 columns</p>\n",
       "</div>"
      ],
      "text/plain": [
       "      creditscore  age    balance  numofproducts  hascrcard  isactivemember  \\\n",
       "0             619   42       0.00              1          1               1   \n",
       "1             608   41   83807.86              1          0               1   \n",
       "2             502   42  159660.80              3          1               0   \n",
       "3             699   39       0.00              2          0               0   \n",
       "4             850   43  125510.82              1          1               1   \n",
       "...           ...  ...        ...            ...        ...             ...   \n",
       "9995          771   39       0.00              2          1               0   \n",
       "9996          516   35   57369.61              1          1               1   \n",
       "9997          709   36       0.00              1          0               1   \n",
       "9998          772   42   75075.31              2          1               0   \n",
       "9999          792   28  130142.79              1          1               0   \n",
       "\n",
       "      estimatedsalary  exited  geography_Germany  geography_Spain  ...  \\\n",
       "0           101348.88       1                  0                0  ...   \n",
       "1           112542.58       0                  0                1  ...   \n",
       "2           113931.57       1                  0                0  ...   \n",
       "3            93826.63       0                  0                0  ...   \n",
       "4            79084.10       0                  0                1  ...   \n",
       "...               ...     ...                ...              ...  ...   \n",
       "9995         96270.64       0                  0                0  ...   \n",
       "9996        101699.77       0                  0                0  ...   \n",
       "9997         42085.58       1                  0                0  ...   \n",
       "9998         92888.52       1                  1                0  ...   \n",
       "9999         38190.78       0                  0                0  ...   \n",
       "\n",
       "      tenure_1.0  tenure_2.0  tenure_3.0  tenure_4.0  tenure_5.0  tenure_6.0  \\\n",
       "0              0           1           0           0           0           0   \n",
       "1              1           0           0           0           0           0   \n",
       "2              0           0           0           0           0           0   \n",
       "3              1           0           0           0           0           0   \n",
       "4              0           1           0           0           0           0   \n",
       "...          ...         ...         ...         ...         ...         ...   \n",
       "9995           0           0           0           0           1           0   \n",
       "9996           0           0           0           0           0           0   \n",
       "9997           0           0           0           0           0           0   \n",
       "9998           0           0           1           0           0           0   \n",
       "9999           0           0           0           0           0           0   \n",
       "\n",
       "      tenure_7.0  tenure_8.0  tenure_9.0  tenure_10.0  \n",
       "0              0           0           0            0  \n",
       "1              0           0           0            0  \n",
       "2              0           1           0            0  \n",
       "3              0           0           0            0  \n",
       "4              0           0           0            0  \n",
       "...          ...         ...         ...          ...  \n",
       "9995           0           0           0            0  \n",
       "9996           0           0           0            1  \n",
       "9997           1           0           0            0  \n",
       "9998           0           0           0            0  \n",
       "9999           0           0           0            0  \n",
       "\n",
       "[10000 rows x 22 columns]"
      ]
     },
     "execution_count": 33,
     "metadata": {},
     "output_type": "execute_result"
    }
   ],
   "source": [
    "#Кодируем строковые значения в числовые\n",
    "df = pd.get_dummies(df,drop_first = True)\n",
    "df"
   ]
  },
  {
   "cell_type": "code",
   "execution_count": 34,
   "metadata": {},
   "outputs": [],
   "source": [
    "#разделяем выборки на обучающую,валидационную и тестовую (60%\\20%\\20%) и отделяем целевой признак.\n",
    "X = df.drop(['exited'],axis=1)\n",
    "y = df['exited']\n",
    "X_train, X_time_test, y_train, y_time_test = train_test_split(X, y ,random_state=12345, test_size=0.4)\n",
    "X_valid, X_test, y_valid, y_test = train_test_split(X_time_test, y_time_test, random_state=12345, test_size = 0.5)"
   ]
  },
  {
   "cell_type": "code",
   "execution_count": 35,
   "metadata": {},
   "outputs": [
    {
     "data": {
      "text/plain": [
       "Index(['creditscore', 'age', 'balance', 'numofproducts', 'hascrcard',\n",
       "       'isactivemember', 'estimatedsalary', 'exited', 'geography_Germany',\n",
       "       'geography_Spain', 'gender_Male', 'tenure_0.0', 'tenure_1.0',\n",
       "       'tenure_2.0', 'tenure_3.0', 'tenure_4.0', 'tenure_5.0', 'tenure_6.0',\n",
       "       'tenure_7.0', 'tenure_8.0', 'tenure_9.0', 'tenure_10.0'],\n",
       "      dtype='object')"
      ]
     },
     "execution_count": 35,
     "metadata": {},
     "output_type": "execute_result"
    }
   ],
   "source": [
    "df.columns"
   ]
  },
  {
   "cell_type": "code",
   "execution_count": 36,
   "metadata": {},
   "outputs": [],
   "source": [
    "# маштабируем данные\n",
    "numeric = ['creditscore', 'age', 'balance', 'numofproducts', 'hascrcard',\n",
    "       'isactivemember', 'estimatedsalary', 'geography_Germany',\n",
    "       'geography_Spain', 'gender_Male', 'tenure_0.0', 'tenure_1.0',\n",
    "       'tenure_2.0', 'tenure_3.0', 'tenure_4.0', 'tenure_5.0', 'tenure_6.0',\n",
    "       'tenure_7.0', 'tenure_8.0', 'tenure_9.0', 'tenure_10.0']\n",
    "scaler = StandardScaler()\n",
    "scaler.fit(X_train[numeric])\n",
    "X_train[numeric] = scaler.transform(X_train[numeric] )\n",
    "X_valid[numeric]  = scaler.transform(X_valid[numeric] )\n",
    "X_test[numeric]  = scaler.transform(X_test[numeric] )\n",
    "pd.options.mode.chained_assignment = None"
   ]
  },
  {
   "cell_type": "code",
   "execution_count": 37,
   "metadata": {},
   "outputs": [
    {
     "data": {
      "text/html": [
       "<div>\n",
       "<style scoped>\n",
       "    .dataframe tbody tr th:only-of-type {\n",
       "        vertical-align: middle;\n",
       "    }\n",
       "\n",
       "    .dataframe tbody tr th {\n",
       "        vertical-align: top;\n",
       "    }\n",
       "\n",
       "    .dataframe thead th {\n",
       "        text-align: right;\n",
       "    }\n",
       "</style>\n",
       "<table border=\"1\" class=\"dataframe\">\n",
       "  <thead>\n",
       "    <tr style=\"text-align: right;\">\n",
       "      <th></th>\n",
       "      <th>creditscore</th>\n",
       "      <th>age</th>\n",
       "      <th>balance</th>\n",
       "      <th>numofproducts</th>\n",
       "      <th>hascrcard</th>\n",
       "      <th>isactivemember</th>\n",
       "      <th>estimatedsalary</th>\n",
       "      <th>geography_Germany</th>\n",
       "      <th>geography_Spain</th>\n",
       "      <th>gender_Male</th>\n",
       "      <th>...</th>\n",
       "      <th>tenure_1.0</th>\n",
       "      <th>tenure_2.0</th>\n",
       "      <th>tenure_3.0</th>\n",
       "      <th>tenure_4.0</th>\n",
       "      <th>tenure_5.0</th>\n",
       "      <th>tenure_6.0</th>\n",
       "      <th>tenure_7.0</th>\n",
       "      <th>tenure_8.0</th>\n",
       "      <th>tenure_9.0</th>\n",
       "      <th>tenure_10.0</th>\n",
       "    </tr>\n",
       "  </thead>\n",
       "  <tbody>\n",
       "    <tr>\n",
       "      <th>7479</th>\n",
       "      <td>-0.886751</td>\n",
       "      <td>-0.373192</td>\n",
       "      <td>1.232271</td>\n",
       "      <td>-0.891560</td>\n",
       "      <td>0.642466</td>\n",
       "      <td>-1.055187</td>\n",
       "      <td>-0.187705</td>\n",
       "      <td>-0.572475</td>\n",
       "      <td>1.728977</td>\n",
       "      <td>0.907278</td>\n",
       "      <td>...</td>\n",
       "      <td>-0.324936</td>\n",
       "      <td>-0.318945</td>\n",
       "      <td>-0.322107</td>\n",
       "      <td>-0.308367</td>\n",
       "      <td>-0.323994</td>\n",
       "      <td>-0.313204</td>\n",
       "      <td>-0.312562</td>\n",
       "      <td>3.048212</td>\n",
       "      <td>-0.314485</td>\n",
       "      <td>-0.213256</td>\n",
       "    </tr>\n",
       "    <tr>\n",
       "      <th>3411</th>\n",
       "      <td>0.608663</td>\n",
       "      <td>-0.183385</td>\n",
       "      <td>0.600563</td>\n",
       "      <td>-0.891560</td>\n",
       "      <td>-1.556504</td>\n",
       "      <td>-1.055187</td>\n",
       "      <td>-0.333945</td>\n",
       "      <td>-0.572475</td>\n",
       "      <td>-0.578377</td>\n",
       "      <td>-1.102198</td>\n",
       "      <td>...</td>\n",
       "      <td>-0.324936</td>\n",
       "      <td>-0.318945</td>\n",
       "      <td>-0.322107</td>\n",
       "      <td>-0.308367</td>\n",
       "      <td>-0.323994</td>\n",
       "      <td>-0.313204</td>\n",
       "      <td>-0.312562</td>\n",
       "      <td>3.048212</td>\n",
       "      <td>-0.314485</td>\n",
       "      <td>-0.213256</td>\n",
       "    </tr>\n",
       "    <tr>\n",
       "      <th>6027</th>\n",
       "      <td>2.052152</td>\n",
       "      <td>0.480939</td>\n",
       "      <td>1.027098</td>\n",
       "      <td>0.830152</td>\n",
       "      <td>-1.556504</td>\n",
       "      <td>0.947699</td>\n",
       "      <td>1.503095</td>\n",
       "      <td>1.746802</td>\n",
       "      <td>-0.578377</td>\n",
       "      <td>0.907278</td>\n",
       "      <td>...</td>\n",
       "      <td>-0.324936</td>\n",
       "      <td>-0.318945</td>\n",
       "      <td>3.104561</td>\n",
       "      <td>-0.308367</td>\n",
       "      <td>-0.323994</td>\n",
       "      <td>-0.313204</td>\n",
       "      <td>-0.312562</td>\n",
       "      <td>-0.328061</td>\n",
       "      <td>-0.314485</td>\n",
       "      <td>-0.213256</td>\n",
       "    </tr>\n",
       "    <tr>\n",
       "      <th>1247</th>\n",
       "      <td>-1.457915</td>\n",
       "      <td>-1.417129</td>\n",
       "      <td>-1.233163</td>\n",
       "      <td>0.830152</td>\n",
       "      <td>0.642466</td>\n",
       "      <td>-1.055187</td>\n",
       "      <td>-1.071061</td>\n",
       "      <td>-0.572475</td>\n",
       "      <td>-0.578377</td>\n",
       "      <td>0.907278</td>\n",
       "      <td>...</td>\n",
       "      <td>-0.324936</td>\n",
       "      <td>-0.318945</td>\n",
       "      <td>-0.322107</td>\n",
       "      <td>-0.308367</td>\n",
       "      <td>-0.323994</td>\n",
       "      <td>3.192809</td>\n",
       "      <td>-0.312562</td>\n",
       "      <td>-0.328061</td>\n",
       "      <td>-0.314485</td>\n",
       "      <td>-0.213256</td>\n",
       "    </tr>\n",
       "    <tr>\n",
       "      <th>3716</th>\n",
       "      <td>0.130961</td>\n",
       "      <td>-1.132419</td>\n",
       "      <td>1.140475</td>\n",
       "      <td>-0.891560</td>\n",
       "      <td>-1.556504</td>\n",
       "      <td>-1.055187</td>\n",
       "      <td>1.524268</td>\n",
       "      <td>1.746802</td>\n",
       "      <td>-0.578377</td>\n",
       "      <td>-1.102198</td>\n",
       "      <td>...</td>\n",
       "      <td>-0.324936</td>\n",
       "      <td>3.135335</td>\n",
       "      <td>-0.322107</td>\n",
       "      <td>-0.308367</td>\n",
       "      <td>-0.323994</td>\n",
       "      <td>-0.313204</td>\n",
       "      <td>-0.312562</td>\n",
       "      <td>-0.328061</td>\n",
       "      <td>-0.314485</td>\n",
       "      <td>-0.213256</td>\n",
       "    </tr>\n",
       "    <tr>\n",
       "      <th>...</th>\n",
       "      <td>...</td>\n",
       "      <td>...</td>\n",
       "      <td>...</td>\n",
       "      <td>...</td>\n",
       "      <td>...</td>\n",
       "      <td>...</td>\n",
       "      <td>...</td>\n",
       "      <td>...</td>\n",
       "      <td>...</td>\n",
       "      <td>...</td>\n",
       "      <td>...</td>\n",
       "      <td>...</td>\n",
       "      <td>...</td>\n",
       "      <td>...</td>\n",
       "      <td>...</td>\n",
       "      <td>...</td>\n",
       "      <td>...</td>\n",
       "      <td>...</td>\n",
       "      <td>...</td>\n",
       "      <td>...</td>\n",
       "      <td>...</td>\n",
       "    </tr>\n",
       "    <tr>\n",
       "      <th>4478</th>\n",
       "      <td>-1.073677</td>\n",
       "      <td>-0.752805</td>\n",
       "      <td>-1.233163</td>\n",
       "      <td>0.830152</td>\n",
       "      <td>-1.556504</td>\n",
       "      <td>0.947699</td>\n",
       "      <td>-1.278361</td>\n",
       "      <td>-0.572475</td>\n",
       "      <td>-0.578377</td>\n",
       "      <td>0.907278</td>\n",
       "      <td>...</td>\n",
       "      <td>-0.324936</td>\n",
       "      <td>-0.318945</td>\n",
       "      <td>-0.322107</td>\n",
       "      <td>3.242887</td>\n",
       "      <td>-0.323994</td>\n",
       "      <td>-0.313204</td>\n",
       "      <td>-0.312562</td>\n",
       "      <td>-0.328061</td>\n",
       "      <td>-0.314485</td>\n",
       "      <td>-0.213256</td>\n",
       "    </tr>\n",
       "    <tr>\n",
       "      <th>4094</th>\n",
       "      <td>-1.447531</td>\n",
       "      <td>-0.942612</td>\n",
       "      <td>-1.233163</td>\n",
       "      <td>0.830152</td>\n",
       "      <td>-1.556504</td>\n",
       "      <td>0.947699</td>\n",
       "      <td>-1.281307</td>\n",
       "      <td>-0.572475</td>\n",
       "      <td>-0.578377</td>\n",
       "      <td>0.907278</td>\n",
       "      <td>...</td>\n",
       "      <td>-0.324936</td>\n",
       "      <td>-0.318945</td>\n",
       "      <td>-0.322107</td>\n",
       "      <td>-0.308367</td>\n",
       "      <td>-0.323994</td>\n",
       "      <td>-0.313204</td>\n",
       "      <td>-0.312562</td>\n",
       "      <td>-0.328061</td>\n",
       "      <td>-0.314485</td>\n",
       "      <td>4.689190</td>\n",
       "    </tr>\n",
       "    <tr>\n",
       "      <th>3492</th>\n",
       "      <td>0.027113</td>\n",
       "      <td>0.575842</td>\n",
       "      <td>-0.310229</td>\n",
       "      <td>-0.891560</td>\n",
       "      <td>-1.556504</td>\n",
       "      <td>0.947699</td>\n",
       "      <td>-0.903158</td>\n",
       "      <td>-0.572475</td>\n",
       "      <td>-0.578377</td>\n",
       "      <td>-1.102198</td>\n",
       "      <td>...</td>\n",
       "      <td>-0.324936</td>\n",
       "      <td>-0.318945</td>\n",
       "      <td>-0.322107</td>\n",
       "      <td>-0.308367</td>\n",
       "      <td>-0.323994</td>\n",
       "      <td>-0.313204</td>\n",
       "      <td>-0.312562</td>\n",
       "      <td>-0.328061</td>\n",
       "      <td>-0.314485</td>\n",
       "      <td>-0.213256</td>\n",
       "    </tr>\n",
       "    <tr>\n",
       "      <th>2177</th>\n",
       "      <td>0.151731</td>\n",
       "      <td>-1.417129</td>\n",
       "      <td>-1.233163</td>\n",
       "      <td>0.830152</td>\n",
       "      <td>-1.556504</td>\n",
       "      <td>0.947699</td>\n",
       "      <td>-1.128539</td>\n",
       "      <td>-0.572475</td>\n",
       "      <td>-0.578377</td>\n",
       "      <td>-1.102198</td>\n",
       "      <td>...</td>\n",
       "      <td>-0.324936</td>\n",
       "      <td>-0.318945</td>\n",
       "      <td>-0.322107</td>\n",
       "      <td>3.242887</td>\n",
       "      <td>-0.323994</td>\n",
       "      <td>-0.313204</td>\n",
       "      <td>-0.312562</td>\n",
       "      <td>-0.328061</td>\n",
       "      <td>-0.314485</td>\n",
       "      <td>-0.213256</td>\n",
       "    </tr>\n",
       "    <tr>\n",
       "      <th>4578</th>\n",
       "      <td>0.400966</td>\n",
       "      <td>-0.088482</td>\n",
       "      <td>-1.233163</td>\n",
       "      <td>0.830152</td>\n",
       "      <td>-1.556504</td>\n",
       "      <td>-1.055187</td>\n",
       "      <td>-0.949841</td>\n",
       "      <td>-0.572475</td>\n",
       "      <td>-0.578377</td>\n",
       "      <td>0.907278</td>\n",
       "      <td>...</td>\n",
       "      <td>3.077532</td>\n",
       "      <td>-0.318945</td>\n",
       "      <td>-0.322107</td>\n",
       "      <td>-0.308367</td>\n",
       "      <td>-0.323994</td>\n",
       "      <td>-0.313204</td>\n",
       "      <td>-0.312562</td>\n",
       "      <td>-0.328061</td>\n",
       "      <td>-0.314485</td>\n",
       "      <td>-0.213256</td>\n",
       "    </tr>\n",
       "  </tbody>\n",
       "</table>\n",
       "<p>6000 rows × 21 columns</p>\n",
       "</div>"
      ],
      "text/plain": [
       "      creditscore       age   balance  numofproducts  hascrcard  \\\n",
       "7479    -0.886751 -0.373192  1.232271      -0.891560   0.642466   \n",
       "3411     0.608663 -0.183385  0.600563      -0.891560  -1.556504   \n",
       "6027     2.052152  0.480939  1.027098       0.830152  -1.556504   \n",
       "1247    -1.457915 -1.417129 -1.233163       0.830152   0.642466   \n",
       "3716     0.130961 -1.132419  1.140475      -0.891560  -1.556504   \n",
       "...           ...       ...       ...            ...        ...   \n",
       "4478    -1.073677 -0.752805 -1.233163       0.830152  -1.556504   \n",
       "4094    -1.447531 -0.942612 -1.233163       0.830152  -1.556504   \n",
       "3492     0.027113  0.575842 -0.310229      -0.891560  -1.556504   \n",
       "2177     0.151731 -1.417129 -1.233163       0.830152  -1.556504   \n",
       "4578     0.400966 -0.088482 -1.233163       0.830152  -1.556504   \n",
       "\n",
       "      isactivemember  estimatedsalary  geography_Germany  geography_Spain  \\\n",
       "7479       -1.055187        -0.187705          -0.572475         1.728977   \n",
       "3411       -1.055187        -0.333945          -0.572475        -0.578377   \n",
       "6027        0.947699         1.503095           1.746802        -0.578377   \n",
       "1247       -1.055187        -1.071061          -0.572475        -0.578377   \n",
       "3716       -1.055187         1.524268           1.746802        -0.578377   \n",
       "...              ...              ...                ...              ...   \n",
       "4478        0.947699        -1.278361          -0.572475        -0.578377   \n",
       "4094        0.947699        -1.281307          -0.572475        -0.578377   \n",
       "3492        0.947699        -0.903158          -0.572475        -0.578377   \n",
       "2177        0.947699        -1.128539          -0.572475        -0.578377   \n",
       "4578       -1.055187        -0.949841          -0.572475        -0.578377   \n",
       "\n",
       "      gender_Male  ...  tenure_1.0  tenure_2.0  tenure_3.0  tenure_4.0  \\\n",
       "7479     0.907278  ...   -0.324936   -0.318945   -0.322107   -0.308367   \n",
       "3411    -1.102198  ...   -0.324936   -0.318945   -0.322107   -0.308367   \n",
       "6027     0.907278  ...   -0.324936   -0.318945    3.104561   -0.308367   \n",
       "1247     0.907278  ...   -0.324936   -0.318945   -0.322107   -0.308367   \n",
       "3716    -1.102198  ...   -0.324936    3.135335   -0.322107   -0.308367   \n",
       "...           ...  ...         ...         ...         ...         ...   \n",
       "4478     0.907278  ...   -0.324936   -0.318945   -0.322107    3.242887   \n",
       "4094     0.907278  ...   -0.324936   -0.318945   -0.322107   -0.308367   \n",
       "3492    -1.102198  ...   -0.324936   -0.318945   -0.322107   -0.308367   \n",
       "2177    -1.102198  ...   -0.324936   -0.318945   -0.322107    3.242887   \n",
       "4578     0.907278  ...    3.077532   -0.318945   -0.322107   -0.308367   \n",
       "\n",
       "      tenure_5.0  tenure_6.0  tenure_7.0  tenure_8.0  tenure_9.0  tenure_10.0  \n",
       "7479   -0.323994   -0.313204   -0.312562    3.048212   -0.314485    -0.213256  \n",
       "3411   -0.323994   -0.313204   -0.312562    3.048212   -0.314485    -0.213256  \n",
       "6027   -0.323994   -0.313204   -0.312562   -0.328061   -0.314485    -0.213256  \n",
       "1247   -0.323994    3.192809   -0.312562   -0.328061   -0.314485    -0.213256  \n",
       "3716   -0.323994   -0.313204   -0.312562   -0.328061   -0.314485    -0.213256  \n",
       "...          ...         ...         ...         ...         ...          ...  \n",
       "4478   -0.323994   -0.313204   -0.312562   -0.328061   -0.314485    -0.213256  \n",
       "4094   -0.323994   -0.313204   -0.312562   -0.328061   -0.314485     4.689190  \n",
       "3492   -0.323994   -0.313204   -0.312562   -0.328061   -0.314485    -0.213256  \n",
       "2177   -0.323994   -0.313204   -0.312562   -0.328061   -0.314485    -0.213256  \n",
       "4578   -0.323994   -0.313204   -0.312562   -0.328061   -0.314485    -0.213256  \n",
       "\n",
       "[6000 rows x 21 columns]"
      ]
     },
     "execution_count": 37,
     "metadata": {},
     "output_type": "execute_result"
    }
   ],
   "source": [
    "X_train"
   ]
  },
  {
   "cell_type": "markdown",
   "metadata": {},
   "source": [
    "## Исследование задачи"
   ]
  },
  {
   "cell_type": "code",
   "execution_count": 38,
   "metadata": {
    "scrolled": true
   },
   "outputs": [
    {
     "data": {
      "text/plain": [
       "0    0.7963\n",
       "1    0.2037\n",
       "Name: exited, dtype: float64"
      ]
     },
     "execution_count": 38,
     "metadata": {},
     "output_type": "execute_result"
    }
   ],
   "source": [
    "#посмотрим на баланс классов\n",
    "y.value_counts(normalize=True)"
   ]
  },
  {
   "cell_type": "code",
   "execution_count": 39,
   "metadata": {},
   "outputs": [
    {
     "data": {
      "text/plain": [
       "0.32830820770519265"
      ]
     },
     "execution_count": 39,
     "metadata": {},
     "output_type": "execute_result"
    }
   ],
   "source": [
    "#пробуем модель логистической регрессии\n",
    "model = LogisticRegression(random_state=12345,solver='liblinear')\n",
    "model.fit(X_train,y_train)\n",
    "predict_valid = model.predict(X_valid)\n",
    "f1_score(y_valid,predict_valid)"
   ]
  },
  {
   "cell_type": "code",
   "execution_count": 40,
   "metadata": {
    "scrolled": false
   },
   "outputs": [
    {
     "name": "stdout",
     "output_type": "stream",
     "text": [
      "estimator: 100 0.5718654434250765 2\n",
      "estimator: 200 0.5801526717557252 2\n",
      "estimator: 300 0.583963691376702 2\n",
      "Wall time: 4min 44s\n"
     ]
    }
   ],
   "source": [
    "%%time\n",
    "best_depth = 0\n",
    "best_f1 = 0\n",
    "for depth in range(2, 22, 2):\n",
    "    for estimator in range(100, 1001, 100):\n",
    "        model = RandomForestClassifier(random_state=12345, n_estimators=estimator)\n",
    "        model.fit(X_train,y_train)\n",
    "        predict_valid = model.predict(X_valid)\n",
    "        f1 = f1_score(y_valid,predict_valid)\n",
    "        if f1 > best_f1:\n",
    "            best_f1 = f1\n",
    "            print('estimator:', estimator, f1, depth)"
   ]
  },
  {
   "cell_type": "markdown",
   "metadata": {},
   "source": [
    "## Борьба с дисбалансом"
   ]
  },
  {
   "cell_type": "code",
   "execution_count": 41,
   "metadata": {},
   "outputs": [
    {
     "data": {
      "text/plain": [
       "0.4883920894239037"
      ]
     },
     "execution_count": 41,
     "metadata": {},
     "output_type": "execute_result"
    }
   ],
   "source": [
    "#воспользуемся взвешивание признаков\n",
    "model = LogisticRegression(random_state=12345, solver='liblinear', class_weight='balanced')\n",
    "model.fit(X_train,y_train)\n",
    "predict_valid = model.predict(X_valid)\n",
    "f1_score(y_valid,predict_valid)"
   ]
  },
  {
   "cell_type": "code",
   "execution_count": 42,
   "metadata": {},
   "outputs": [
    {
     "name": "stdout",
     "output_type": "stream",
     "text": [
      "estimator: 10 0.5809379727685325\n"
     ]
    }
   ],
   "source": [
    "#воспользуемся взвешивание признаков\n",
    "best_est = 0\n",
    "best_f1 = 0\n",
    "for depth in range(2,22,2):\n",
    "    for est in range(10,100,10):\n",
    "        model = RandomForestClassifier(random_state =12345, n_estimators = est, class_weight='balanced')\n",
    "        model.fit(X_train,y_train)\n",
    "        predict_valid = model.predict(X_valid)\n",
    "        f1_score(y_valid,predict_valid)\n",
    "        if f1 > best_f1:\n",
    "            best_f1 = f1\n",
    "            best_est = est\n",
    "            print('estimator:',best_est,best_f1)"
   ]
  },
  {
   "cell_type": "code",
   "execution_count": 43,
   "metadata": {},
   "outputs": [],
   "source": [
    "#уравняем вес признаков увеличением редких\n",
    "def upsample(X,y,repeat):\n",
    "    X_zeros = X[y == 0]\n",
    "    X_ones = X[y == 1]\n",
    "    y_zeros = y[y == 0]\n",
    "    y_ones = y[y == 1]\n",
    "    X_upsampled = pd.concat([X_zeros] + [X_ones] * repeat)\n",
    "    y_upsampled = pd.concat([y_zeros] + [y_ones] * repeat)\n",
    "    X_upsampled,y_upsampled = shuffle(X_upsampled,y_upsampled,random_state=12345)\n",
    "    return X_upsampled,y_upsampled \n",
    "\n",
    "X_upsampled,y_upsampled = upsample(X_train,y_train,4)"
   ]
  },
  {
   "cell_type": "code",
   "execution_count": 44,
   "metadata": {},
   "outputs": [
    {
     "name": "stdout",
     "output_type": "stream",
     "text": [
      "estimator: 10 0.5783132530120483 2\n",
      "estimator: 20 0.6105263157894737 2\n",
      "estimator: 30 0.6307277628032345 2\n"
     ]
    }
   ],
   "source": [
    "best_est = 0\n",
    "best_f1 = 0\n",
    "best_depth = 0\n",
    "for depth in range(2,22,2):\n",
    "    for est in range(10,100,10):\n",
    "        model = RandomForestClassifier(random_state =12345, n_estimators = est)\n",
    "        model.fit(X_upsampled,y_upsampled)\n",
    "        predict_valid = model.predict(X_valid)\n",
    "        f1 = f1_score(y_valid,predict_valid)\n",
    "        if f1 > best_f1:\n",
    "            best_f1 = f1\n",
    "            best_est = est\n",
    "            best_depth = depth\n",
    "            print('estimator:',best_est,best_f1,best_depth)"
   ]
  },
  {
   "cell_type": "code",
   "execution_count": 45,
   "metadata": {},
   "outputs": [
    {
     "data": {
      "text/plain": [
       "0.49007765314926655"
      ]
     },
     "execution_count": 45,
     "metadata": {},
     "output_type": "execute_result"
    }
   ],
   "source": [
    "model = LogisticRegression(random_state = 12345,solver='liblinear')\n",
    "model.fit(X_upsampled,y_upsampled)\n",
    "predict_valid = model.predict(X_valid)\n",
    "f1_score(y_valid,predict_valid)\n"
   ]
  },
  {
   "cell_type": "code",
   "execution_count": 46,
   "metadata": {},
   "outputs": [],
   "source": [
    "# уровняем вес признаков уменьшение частых\n",
    "def downsample(X,y,fraction):\n",
    "    X_zeros = X[y == 0]\n",
    "    X_ones = X[y == 1]\n",
    "    y_zeros = y[y == 0]\n",
    "    y_ones = y[y == 1]\n",
    "    X_downsampled = pd.concat([X_zeros.sample(frac=fraction,random_state=12345)] + [X_ones])\n",
    "    y_downsampled = pd.concat([y_zeros.sample(frac=fraction,random_state = 12345)] + [y_ones])\n",
    "    return X_downsampled,y_downsampled\n",
    "X_downsampled,y_downsampled = downsample(X_train,y_train,0.2)"
   ]
  },
  {
   "cell_type": "code",
   "execution_count": 47,
   "metadata": {},
   "outputs": [
    {
     "data": {
      "text/plain": [
       "0.4804896710022954"
      ]
     },
     "execution_count": 47,
     "metadata": {},
     "output_type": "execute_result"
    }
   ],
   "source": [
    "\n",
    "model = LogisticRegression(random_state = 12345,solver='liblinear')\n",
    "model.fit(X_downsampled,y_downsampled)\n",
    "predict_valid = model.predict(X_valid)\n",
    "f1_score(y_valid,predict_valid)"
   ]
  },
  {
   "cell_type": "code",
   "execution_count": 48,
   "metadata": {},
   "outputs": [
    {
     "name": "stdout",
     "output_type": "stream",
     "text": [
      "estimator: 10 0.5576748410535877\n",
      "estimator: 20 0.5602775368603643\n",
      "estimator: 50 0.5627632687447346\n",
      "estimator: 70 0.5637583892617449\n"
     ]
    }
   ],
   "source": [
    "best_est = 0\n",
    "best_f1 = 0\n",
    "for depth in range(2,22,2):\n",
    "    for est in range(10,100,10):\n",
    "        model = RandomForestClassifier(random_state =12345,n_estimators = est)\n",
    "        model.fit(X_downsampled,y_downsampled)\n",
    "        predict_valid = model.predict(X_valid)\n",
    "        f1 = f1_score(y_valid,predict_valid)\n",
    "        if f1 > best_f1:\n",
    "            best_f1 = f1\n",
    "            best_est = est\n",
    "            print('estimator:',best_est,best_f1)"
   ]
  },
  {
   "cell_type": "code",
   "execution_count": 49,
   "metadata": {},
   "outputs": [
    {
     "name": "stdout",
     "output_type": "stream",
     "text": [
      "estimator: 100 0.5718654434250765\n",
      "estimator: 200 0.5801526717557252\n",
      "estimator: 300 0.583963691376702\n",
      "Wall time: 4min 42s\n"
     ]
    }
   ],
   "source": [
    "%%time\n",
    "# Пробуем модель случайного леса\n",
    "best_est = 0\n",
    "best_f1 = 0\n",
    "for depth in range(2, 22, 2):\n",
    "    for est in range(100, 1001, 100):\n",
    "        model = RandomForestClassifier(random_state=12345,n_estimators=est)\n",
    "        model.fit(X_train,y_train)\n",
    "        predict_valid = model.predict(X_valid)\n",
    "        f1 = f1_score(y_valid,predict_valid)\n",
    "        if f1 > best_f1:\n",
    "            best_f1 = f1\n",
    "            best_est = est\n",
    "            print('estimator:',best_est,best_f1)"
   ]
  },
  {
   "cell_type": "code",
   "execution_count": 50,
   "metadata": {},
   "outputs": [
    {
     "name": "stdout",
     "output_type": "stream",
     "text": [
      "0.8451334994767692 2 400\n"
     ]
    }
   ],
   "source": [
    "#Проверим метрику roc кривой\n",
    "best_auc_roc = 0\n",
    "best_depth = 0\n",
    "best_est = 0\n",
    "for depth in range(2, 22, 2):\n",
    "    for est in range(100, 1001, 100):\n",
    "        model = RandomForestClassifier(random_state=12345,n_estimators=est)\n",
    "        model.fit(X_train,y_train)\n",
    "        predicted_proba = model.predict_proba(X_valid)\n",
    "        predicted_proba_one = predicted_proba[:,1]\n",
    "        auc_roc = roc_auc_score(y_valid,predicted_proba_one)\n",
    "        if auc_roc > best_auc_roc:\n",
    "            best_auc_roc = auc_roc\n",
    "            best_depht = depth\n",
    "            best_est = est\n",
    "print(best_auc_roc,best_depht,best_est)"
   ]
  },
  {
   "cell_type": "markdown",
   "metadata": {},
   "source": [
    "## Тестирование модели"
   ]
  },
  {
   "cell_type": "code",
   "execution_count": 51,
   "metadata": {},
   "outputs": [
    {
     "name": "stdout",
     "output_type": "stream",
     "text": [
      "0.6123399301513389\n"
     ]
    }
   ],
   "source": [
    "#Применим лучшую модель с лучшими гиперпараметрами на тестовую выборку\n",
    "model = RandomForestClassifier(random_state=12345, n_estimators=200, max_depth=10, class_weight='balanced')\n",
    "model.fit(X_train,y_train)\n",
    "predict_test = model.predict(X_test)\n",
    "print(f1_score(y_test,predict_test))"
   ]
  },
  {
   "cell_type": "code",
   "execution_count": 52,
   "metadata": {},
   "outputs": [
    {
     "name": "stdout",
     "output_type": "stream",
     "text": [
      "0.8534114059822717\n"
     ]
    }
   ],
   "source": [
    "#Проверим метрику roc кривой на тестовой выборке\n",
    "model = RandomForestClassifier(random_state=12345, n_estimators=200, max_depth=10, class_weight='balanced')\n",
    "model.fit(X_train,y_train)\n",
    "\n",
    "predicted_proba = model.predict_proba(X_test)\n",
    "predicted_proba_one = predicted_proba[:,1]\n",
    "auc_roc = roc_auc_score(y_test,predicted_proba_one)\n",
    "print(auc_roc)"
   ]
  }
 ],
 "metadata": {
  "ExecuteTimeLog": [
   {
    "duration": 446,
    "start_time": "2022-06-21T13:04:25.050Z"
   },
   {
    "duration": 1519,
    "start_time": "2022-06-22T07:31:41.546Z"
   },
   {
    "duration": 195,
    "start_time": "2022-06-22T07:31:43.077Z"
   },
   {
    "duration": 13,
    "start_time": "2022-06-22T07:31:43.589Z"
   },
   {
    "duration": 183,
    "start_time": "2022-06-22T07:32:11.933Z"
   },
   {
    "duration": 17,
    "start_time": "2022-06-22T07:32:13.605Z"
   },
   {
    "duration": 37,
    "start_time": "2022-06-22T07:32:14.578Z"
   },
   {
    "duration": 12,
    "start_time": "2022-06-22T07:32:23.145Z"
   },
   {
    "duration": 64,
    "start_time": "2022-06-22T07:32:24.390Z"
   },
   {
    "duration": 26,
    "start_time": "2022-06-22T07:32:28.469Z"
   },
   {
    "duration": 13,
    "start_time": "2022-06-22T07:32:31.377Z"
   },
   {
    "duration": 159,
    "start_time": "2022-06-22T07:32:35.337Z"
   },
   {
    "duration": 161,
    "start_time": "2022-06-22T07:33:59.503Z"
   },
   {
    "duration": 33,
    "start_time": "2022-06-22T07:34:03.380Z"
   },
   {
    "duration": 90,
    "start_time": "2022-06-22T07:34:28.688Z"
   },
   {
    "duration": 15,
    "start_time": "2022-06-22T07:34:29.607Z"
   },
   {
    "duration": 35,
    "start_time": "2022-06-22T07:34:41.671Z"
   },
   {
    "duration": 4260,
    "start_time": "2022-06-22T07:34:46.701Z"
   },
   {
    "duration": 798,
    "start_time": "2022-06-22T07:35:14.731Z"
   },
   {
    "duration": 765,
    "start_time": "2022-06-22T07:35:20.545Z"
   },
   {
    "duration": 753,
    "start_time": "2022-06-22T07:35:26.990Z"
   },
   {
    "duration": 1475,
    "start_time": "2022-06-22T07:35:40.293Z"
   },
   {
    "duration": 104,
    "start_time": "2022-06-22T07:35:41.770Z"
   },
   {
    "duration": 24,
    "start_time": "2022-06-22T07:35:41.876Z"
   },
   {
    "duration": 29,
    "start_time": "2022-06-22T07:35:41.903Z"
   },
   {
    "duration": 57,
    "start_time": "2022-06-22T07:35:41.934Z"
   },
   {
    "duration": 48,
    "start_time": "2022-06-22T07:35:41.993Z"
   },
   {
    "duration": 16,
    "start_time": "2022-06-22T07:35:42.042Z"
   },
   {
    "duration": 63,
    "start_time": "2022-06-22T07:35:42.061Z"
   },
   {
    "duration": 134,
    "start_time": "2022-06-22T07:35:42.127Z"
   },
   {
    "duration": 189,
    "start_time": "2022-06-22T07:35:42.265Z"
   },
   {
    "duration": 120,
    "start_time": "2022-06-22T07:35:42.459Z"
   },
   {
    "duration": 175,
    "start_time": "2022-06-22T07:35:42.581Z"
   },
   {
    "duration": 25,
    "start_time": "2022-06-22T07:35:42.763Z"
   },
   {
    "duration": 106,
    "start_time": "2022-06-22T07:35:42.850Z"
   },
   {
    "duration": 4436,
    "start_time": "2022-06-22T07:35:42.970Z"
   },
   {
    "duration": 762,
    "start_time": "2022-06-22T07:35:47.408Z"
   },
   {
    "duration": 736,
    "start_time": "2022-06-22T07:35:48.173Z"
   },
   {
    "duration": 750,
    "start_time": "2022-06-22T07:35:48.912Z"
   },
   {
    "duration": 1883,
    "start_time": "2022-06-22T08:00:27.077Z"
   },
   {
    "duration": 264,
    "start_time": "2022-06-22T08:00:28.962Z"
   },
   {
    "duration": 29,
    "start_time": "2022-06-22T08:00:29.477Z"
   },
   {
    "duration": 20,
    "start_time": "2022-06-22T08:00:30.343Z"
   },
   {
    "duration": 168,
    "start_time": "2022-06-22T08:14:16.351Z"
   },
   {
    "duration": 4,
    "start_time": "2022-06-22T08:14:22.896Z"
   },
   {
    "duration": 131,
    "start_time": "2022-06-22T08:14:22.903Z"
   },
   {
    "duration": 12,
    "start_time": "2022-06-22T08:14:23.036Z"
   },
   {
    "duration": 29,
    "start_time": "2022-06-22T08:14:23.050Z"
   },
   {
    "duration": 21,
    "start_time": "2022-06-22T08:14:23.082Z"
   },
   {
    "duration": 41,
    "start_time": "2022-06-22T08:14:23.107Z"
   },
   {
    "duration": 21,
    "start_time": "2022-06-22T08:14:23.150Z"
   },
   {
    "duration": 1617,
    "start_time": "2022-06-22T08:14:23.187Z"
   },
   {
    "duration": 0,
    "start_time": "2022-06-22T08:14:24.807Z"
   },
   {
    "duration": 0,
    "start_time": "2022-06-22T08:14:24.808Z"
   },
   {
    "duration": 0,
    "start_time": "2022-06-22T08:14:24.809Z"
   },
   {
    "duration": 0,
    "start_time": "2022-06-22T08:14:24.811Z"
   },
   {
    "duration": 0,
    "start_time": "2022-06-22T08:14:24.812Z"
   },
   {
    "duration": 0,
    "start_time": "2022-06-22T08:14:24.813Z"
   },
   {
    "duration": 0,
    "start_time": "2022-06-22T08:14:24.814Z"
   },
   {
    "duration": 0,
    "start_time": "2022-06-22T08:14:24.815Z"
   },
   {
    "duration": 0,
    "start_time": "2022-06-22T08:14:24.816Z"
   },
   {
    "duration": 0,
    "start_time": "2022-06-22T08:14:24.817Z"
   },
   {
    "duration": 186,
    "start_time": "2022-06-22T08:15:42.349Z"
   },
   {
    "duration": 200,
    "start_time": "2022-06-22T08:16:15.141Z"
   },
   {
    "duration": 2073,
    "start_time": "2022-06-22T08:16:22.774Z"
   },
   {
    "duration": 11,
    "start_time": "2022-06-22T08:16:42.597Z"
   },
   {
    "duration": 1452,
    "start_time": "2022-06-22T08:17:11.878Z"
   },
   {
    "duration": 1515,
    "start_time": "2022-06-22T08:17:27.129Z"
   },
   {
    "duration": 1848,
    "start_time": "2022-06-22T08:17:39.685Z"
   },
   {
    "duration": 5,
    "start_time": "2022-06-22T08:18:13.756Z"
   },
   {
    "duration": 13,
    "start_time": "2022-06-22T08:18:23.070Z"
   },
   {
    "duration": 8,
    "start_time": "2022-06-22T08:18:47.098Z"
   },
   {
    "duration": 6,
    "start_time": "2022-06-22T08:18:54.727Z"
   },
   {
    "duration": 127,
    "start_time": "2022-06-22T08:19:13.521Z"
   },
   {
    "duration": 113,
    "start_time": "2022-06-22T08:19:19.231Z"
   },
   {
    "duration": 13,
    "start_time": "2022-06-22T09:36:51.133Z"
   },
   {
    "duration": 7,
    "start_time": "2022-06-22T09:37:10.172Z"
   },
   {
    "duration": 8,
    "start_time": "2022-06-22T09:37:42.154Z"
   },
   {
    "duration": 15,
    "start_time": "2022-06-22T09:38:19.512Z"
   },
   {
    "duration": 6,
    "start_time": "2022-06-22T09:38:23.841Z"
   },
   {
    "duration": 486,
    "start_time": "2022-06-22T09:38:23.849Z"
   },
   {
    "duration": 43,
    "start_time": "2022-06-22T09:38:24.352Z"
   },
   {
    "duration": 143,
    "start_time": "2022-06-22T09:38:24.412Z"
   },
   {
    "duration": 81,
    "start_time": "2022-06-22T09:38:24.567Z"
   },
   {
    "duration": 198,
    "start_time": "2022-06-22T09:38:24.653Z"
   },
   {
    "duration": 74,
    "start_time": "2022-06-22T09:38:24.860Z"
   },
   {
    "duration": 120,
    "start_time": "2022-06-22T09:38:24.941Z"
   },
   {
    "duration": 400,
    "start_time": "2022-06-22T09:38:25.067Z"
   },
   {
    "duration": 176,
    "start_time": "2022-06-22T09:38:25.473Z"
   },
   {
    "duration": 91,
    "start_time": "2022-06-22T09:38:25.668Z"
   },
   {
    "duration": 315,
    "start_time": "2022-06-22T09:38:25.772Z"
   },
   {
    "duration": 53,
    "start_time": "2022-06-22T09:38:26.094Z"
   },
   {
    "duration": 284,
    "start_time": "2022-06-22T09:38:26.156Z"
   },
   {
    "duration": 5411,
    "start_time": "2022-06-22T09:38:26.473Z"
   },
   {
    "duration": 886,
    "start_time": "2022-06-22T09:38:31.886Z"
   },
   {
    "duration": 770,
    "start_time": "2022-06-22T09:38:32.778Z"
   },
   {
    "duration": 852,
    "start_time": "2022-06-22T09:38:33.553Z"
   },
   {
    "duration": 6,
    "start_time": "2022-06-22T09:41:50.709Z"
   },
   {
    "duration": 310,
    "start_time": "2022-06-22T09:41:50.717Z"
   },
   {
    "duration": 33,
    "start_time": "2022-06-22T09:41:51.031Z"
   },
   {
    "duration": 194,
    "start_time": "2022-06-22T09:41:51.070Z"
   },
   {
    "duration": 138,
    "start_time": "2022-06-22T09:41:51.273Z"
   },
   {
    "duration": 214,
    "start_time": "2022-06-22T09:41:51.417Z"
   },
   {
    "duration": 135,
    "start_time": "2022-06-22T09:41:51.648Z"
   },
   {
    "duration": 166,
    "start_time": "2022-06-22T09:41:51.801Z"
   },
   {
    "duration": 300,
    "start_time": "2022-06-22T09:41:51.972Z"
   },
   {
    "duration": 327,
    "start_time": "2022-06-22T09:41:52.281Z"
   },
   {
    "duration": 56,
    "start_time": "2022-06-22T09:41:52.623Z"
   },
   {
    "duration": 287,
    "start_time": "2022-06-22T09:41:52.681Z"
   },
   {
    "duration": 64,
    "start_time": "2022-06-22T09:41:52.972Z"
   },
   {
    "duration": 211,
    "start_time": "2022-06-22T09:41:53.042Z"
   },
   {
    "duration": 4273,
    "start_time": "2022-06-22T09:41:53.267Z"
   },
   {
    "duration": 716,
    "start_time": "2022-06-22T09:41:57.550Z"
   },
   {
    "duration": 787,
    "start_time": "2022-06-22T09:41:58.272Z"
   },
   {
    "duration": 768,
    "start_time": "2022-06-22T09:41:59.065Z"
   },
   {
    "duration": 1512,
    "start_time": "2022-06-23T11:35:46.366Z"
   },
   {
    "duration": 99,
    "start_time": "2022-06-23T11:37:48.603Z"
   },
   {
    "duration": 3,
    "start_time": "2022-06-23T11:37:55.743Z"
   },
   {
    "duration": 228,
    "start_time": "2022-06-23T11:37:55.748Z"
   },
   {
    "duration": 13,
    "start_time": "2022-06-23T11:37:55.977Z"
   },
   {
    "duration": 20,
    "start_time": "2022-06-23T11:37:55.992Z"
   },
   {
    "duration": 8,
    "start_time": "2022-06-23T11:37:56.015Z"
   },
   {
    "duration": 58,
    "start_time": "2022-06-23T11:37:56.024Z"
   },
   {
    "duration": 10,
    "start_time": "2022-06-23T11:37:56.084Z"
   },
   {
    "duration": 18,
    "start_time": "2022-06-23T11:37:56.096Z"
   },
   {
    "duration": 0,
    "start_time": "2022-06-23T11:37:56.117Z"
   },
   {
    "duration": 0,
    "start_time": "2022-06-23T11:37:56.118Z"
   },
   {
    "duration": 0,
    "start_time": "2022-06-23T11:37:56.120Z"
   },
   {
    "duration": 0,
    "start_time": "2022-06-23T11:37:56.122Z"
   },
   {
    "duration": 0,
    "start_time": "2022-06-23T11:37:56.123Z"
   },
   {
    "duration": 0,
    "start_time": "2022-06-23T11:37:56.129Z"
   },
   {
    "duration": 0,
    "start_time": "2022-06-23T11:37:56.131Z"
   },
   {
    "duration": 0,
    "start_time": "2022-06-23T11:37:56.132Z"
   },
   {
    "duration": 0,
    "start_time": "2022-06-23T11:37:56.133Z"
   },
   {
    "duration": 0,
    "start_time": "2022-06-23T11:37:56.134Z"
   },
   {
    "duration": 0,
    "start_time": "2022-06-23T11:37:56.135Z"
   },
   {
    "duration": 2,
    "start_time": "2022-06-23T11:38:26.961Z"
   },
   {
    "duration": 14,
    "start_time": "2022-06-23T11:42:23.516Z"
   },
   {
    "duration": 3,
    "start_time": "2022-06-23T11:42:32.374Z"
   },
   {
    "duration": 95,
    "start_time": "2022-06-23T11:42:32.381Z"
   },
   {
    "duration": 12,
    "start_time": "2022-06-23T11:42:32.478Z"
   },
   {
    "duration": 15,
    "start_time": "2022-06-23T11:42:32.492Z"
   },
   {
    "duration": 4,
    "start_time": "2022-06-23T11:42:32.509Z"
   },
   {
    "duration": 30,
    "start_time": "2022-06-23T11:42:32.514Z"
   },
   {
    "duration": 9,
    "start_time": "2022-06-23T11:42:32.546Z"
   },
   {
    "duration": 13,
    "start_time": "2022-06-23T11:42:32.556Z"
   },
   {
    "duration": 5,
    "start_time": "2022-06-23T11:42:32.571Z"
   },
   {
    "duration": 60,
    "start_time": "2022-06-23T11:42:32.578Z"
   },
   {
    "duration": 105,
    "start_time": "2022-06-23T11:42:32.641Z"
   },
   {
    "duration": 196,
    "start_time": "2022-06-23T11:42:32.751Z"
   },
   {
    "duration": 0,
    "start_time": "2022-06-23T11:42:32.948Z"
   },
   {
    "duration": 0,
    "start_time": "2022-06-23T11:42:32.950Z"
   },
   {
    "duration": 0,
    "start_time": "2022-06-23T11:42:32.951Z"
   },
   {
    "duration": 0,
    "start_time": "2022-06-23T11:42:32.952Z"
   },
   {
    "duration": 0,
    "start_time": "2022-06-23T11:42:32.953Z"
   },
   {
    "duration": 0,
    "start_time": "2022-06-23T11:42:32.953Z"
   },
   {
    "duration": 0,
    "start_time": "2022-06-23T11:42:32.955Z"
   },
   {
    "duration": 4,
    "start_time": "2022-06-23T11:43:06.067Z"
   },
   {
    "duration": 3,
    "start_time": "2022-06-23T11:43:38.172Z"
   },
   {
    "duration": 123,
    "start_time": "2022-06-23T11:43:38.179Z"
   },
   {
    "duration": 10,
    "start_time": "2022-06-23T11:43:38.304Z"
   },
   {
    "duration": 16,
    "start_time": "2022-06-23T11:43:38.315Z"
   },
   {
    "duration": 5,
    "start_time": "2022-06-23T11:43:38.333Z"
   },
   {
    "duration": 29,
    "start_time": "2022-06-23T11:43:38.339Z"
   },
   {
    "duration": 8,
    "start_time": "2022-06-23T11:43:38.370Z"
   },
   {
    "duration": 11,
    "start_time": "2022-06-23T11:43:38.379Z"
   },
   {
    "duration": 5,
    "start_time": "2022-06-23T11:43:38.392Z"
   },
   {
    "duration": 38,
    "start_time": "2022-06-23T11:43:38.398Z"
   },
   {
    "duration": 96,
    "start_time": "2022-06-23T11:43:38.438Z"
   },
   {
    "duration": 129,
    "start_time": "2022-06-23T11:43:38.535Z"
   },
   {
    "duration": 0,
    "start_time": "2022-06-23T11:43:38.665Z"
   },
   {
    "duration": 0,
    "start_time": "2022-06-23T11:43:38.667Z"
   },
   {
    "duration": 0,
    "start_time": "2022-06-23T11:43:38.730Z"
   },
   {
    "duration": 0,
    "start_time": "2022-06-23T11:43:38.731Z"
   },
   {
    "duration": 0,
    "start_time": "2022-06-23T11:43:38.733Z"
   },
   {
    "duration": 0,
    "start_time": "2022-06-23T11:43:38.734Z"
   },
   {
    "duration": 0,
    "start_time": "2022-06-23T11:43:38.743Z"
   },
   {
    "duration": 3,
    "start_time": "2022-06-23T11:44:27.788Z"
   },
   {
    "duration": 105,
    "start_time": "2022-06-23T11:44:27.793Z"
   },
   {
    "duration": 12,
    "start_time": "2022-06-23T11:44:27.899Z"
   },
   {
    "duration": 17,
    "start_time": "2022-06-23T11:44:27.912Z"
   },
   {
    "duration": 9,
    "start_time": "2022-06-23T11:44:27.931Z"
   },
   {
    "duration": 29,
    "start_time": "2022-06-23T11:44:27.943Z"
   },
   {
    "duration": 8,
    "start_time": "2022-06-23T11:44:27.974Z"
   },
   {
    "duration": 10,
    "start_time": "2022-06-23T11:44:27.983Z"
   },
   {
    "duration": 4,
    "start_time": "2022-06-23T11:44:27.995Z"
   },
   {
    "duration": 44,
    "start_time": "2022-06-23T11:44:28.002Z"
   },
   {
    "duration": 91,
    "start_time": "2022-06-23T11:44:28.048Z"
   },
   {
    "duration": 119,
    "start_time": "2022-06-23T11:44:28.230Z"
   },
   {
    "duration": 0,
    "start_time": "2022-06-23T11:44:28.351Z"
   },
   {
    "duration": 0,
    "start_time": "2022-06-23T11:44:28.352Z"
   },
   {
    "duration": 0,
    "start_time": "2022-06-23T11:44:28.353Z"
   },
   {
    "duration": 0,
    "start_time": "2022-06-23T11:44:28.354Z"
   },
   {
    "duration": 0,
    "start_time": "2022-06-23T11:44:28.355Z"
   },
   {
    "duration": 0,
    "start_time": "2022-06-23T11:44:28.356Z"
   },
   {
    "duration": 0,
    "start_time": "2022-06-23T11:44:28.356Z"
   },
   {
    "duration": 5,
    "start_time": "2022-06-23T11:44:48.028Z"
   },
   {
    "duration": 102,
    "start_time": "2022-06-23T11:44:48.045Z"
   },
   {
    "duration": 11,
    "start_time": "2022-06-23T11:44:48.150Z"
   },
   {
    "duration": 21,
    "start_time": "2022-06-23T11:44:48.163Z"
   },
   {
    "duration": 6,
    "start_time": "2022-06-23T11:44:48.185Z"
   },
   {
    "duration": 37,
    "start_time": "2022-06-23T11:44:48.193Z"
   },
   {
    "duration": 14,
    "start_time": "2022-06-23T11:44:48.231Z"
   },
   {
    "duration": 14,
    "start_time": "2022-06-23T11:44:48.247Z"
   },
   {
    "duration": 6,
    "start_time": "2022-06-23T11:44:48.263Z"
   },
   {
    "duration": 159,
    "start_time": "2022-06-23T11:44:48.271Z"
   },
   {
    "duration": 111,
    "start_time": "2022-06-23T11:44:48.433Z"
   },
   {
    "duration": 94,
    "start_time": "2022-06-23T11:44:48.546Z"
   },
   {
    "duration": 89,
    "start_time": "2022-06-23T11:44:48.643Z"
   },
   {
    "duration": 14,
    "start_time": "2022-06-23T11:44:48.734Z"
   },
   {
    "duration": 97,
    "start_time": "2022-06-23T11:44:48.833Z"
   },
   {
    "duration": 3186,
    "start_time": "2022-06-23T11:44:48.933Z"
   },
   {
    "duration": 562,
    "start_time": "2022-06-23T11:44:52.120Z"
   },
   {
    "duration": 526,
    "start_time": "2022-06-23T11:44:52.684Z"
   },
   {
    "duration": 533,
    "start_time": "2022-06-23T11:44:53.211Z"
   },
   {
    "duration": 16,
    "start_time": "2022-06-23T11:47:00.078Z"
   },
   {
    "duration": 3,
    "start_time": "2022-06-23T11:47:13.984Z"
   },
   {
    "duration": 94,
    "start_time": "2022-06-23T11:47:13.990Z"
   },
   {
    "duration": 10,
    "start_time": "2022-06-23T11:47:14.086Z"
   },
   {
    "duration": 14,
    "start_time": "2022-06-23T11:47:14.098Z"
   },
   {
    "duration": 4,
    "start_time": "2022-06-23T11:47:14.113Z"
   },
   {
    "duration": 26,
    "start_time": "2022-06-23T11:47:14.119Z"
   },
   {
    "duration": 7,
    "start_time": "2022-06-23T11:47:14.147Z"
   },
   {
    "duration": 6,
    "start_time": "2022-06-23T11:47:14.155Z"
   },
   {
    "duration": 17,
    "start_time": "2022-06-23T11:47:14.163Z"
   },
   {
    "duration": 5,
    "start_time": "2022-06-23T11:47:14.182Z"
   },
   {
    "duration": 49,
    "start_time": "2022-06-23T11:47:14.188Z"
   },
   {
    "duration": 212,
    "start_time": "2022-06-23T11:47:14.239Z"
   },
   {
    "duration": 176,
    "start_time": "2022-06-23T11:47:14.453Z"
   },
   {
    "duration": 98,
    "start_time": "2022-06-23T11:47:14.631Z"
   },
   {
    "duration": 11,
    "start_time": "2022-06-23T11:47:14.732Z"
   },
   {
    "duration": 17,
    "start_time": "2022-06-23T11:47:14.830Z"
   },
   {
    "duration": 2940,
    "start_time": "2022-06-23T11:47:14.849Z"
   },
   {
    "duration": 478,
    "start_time": "2022-06-23T11:47:17.790Z"
   },
   {
    "duration": 487,
    "start_time": "2022-06-23T11:47:18.269Z"
   },
   {
    "duration": 481,
    "start_time": "2022-06-23T11:47:18.758Z"
   },
   {
    "duration": 11,
    "start_time": "2022-06-23T11:47:39.597Z"
   },
   {
    "duration": 4,
    "start_time": "2022-06-23T11:47:40.173Z"
   },
   {
    "duration": 3,
    "start_time": "2022-06-23T11:49:20.053Z"
   },
   {
    "duration": 81,
    "start_time": "2022-06-23T11:49:20.060Z"
   },
   {
    "duration": 11,
    "start_time": "2022-06-23T11:49:20.142Z"
   },
   {
    "duration": 14,
    "start_time": "2022-06-23T11:49:20.154Z"
   },
   {
    "duration": 5,
    "start_time": "2022-06-23T11:49:20.169Z"
   },
   {
    "duration": 39,
    "start_time": "2022-06-23T11:49:20.176Z"
   },
   {
    "duration": 15,
    "start_time": "2022-06-23T11:49:20.216Z"
   },
   {
    "duration": 11,
    "start_time": "2022-06-23T11:49:20.232Z"
   },
   {
    "duration": 4,
    "start_time": "2022-06-23T11:49:20.244Z"
   },
   {
    "duration": 7,
    "start_time": "2022-06-23T11:49:20.249Z"
   },
   {
    "duration": 73,
    "start_time": "2022-06-23T11:49:20.258Z"
   },
   {
    "duration": 104,
    "start_time": "2022-06-23T11:49:20.332Z"
   },
   {
    "duration": 193,
    "start_time": "2022-06-23T11:49:20.438Z"
   },
   {
    "duration": 0,
    "start_time": "2022-06-23T11:49:20.633Z"
   },
   {
    "duration": 0,
    "start_time": "2022-06-23T11:49:20.634Z"
   },
   {
    "duration": 1,
    "start_time": "2022-06-23T11:49:20.635Z"
   },
   {
    "duration": 0,
    "start_time": "2022-06-23T11:49:20.636Z"
   },
   {
    "duration": 0,
    "start_time": "2022-06-23T11:49:20.637Z"
   },
   {
    "duration": 0,
    "start_time": "2022-06-23T11:49:20.639Z"
   },
   {
    "duration": 0,
    "start_time": "2022-06-23T11:49:20.639Z"
   },
   {
    "duration": 2,
    "start_time": "2022-06-23T11:52:16.439Z"
   },
   {
    "duration": 3,
    "start_time": "2022-06-23T11:52:27.599Z"
   },
   {
    "duration": 3,
    "start_time": "2022-06-23T11:53:12.406Z"
   },
   {
    "duration": 10,
    "start_time": "2022-06-23T11:54:19.725Z"
   },
   {
    "duration": 3,
    "start_time": "2022-06-23T11:54:29.695Z"
   },
   {
    "duration": 96,
    "start_time": "2022-06-23T11:54:29.702Z"
   },
   {
    "duration": 13,
    "start_time": "2022-06-23T11:54:29.800Z"
   },
   {
    "duration": 15,
    "start_time": "2022-06-23T11:54:29.814Z"
   },
   {
    "duration": 4,
    "start_time": "2022-06-23T11:54:29.831Z"
   },
   {
    "duration": 21,
    "start_time": "2022-06-23T11:54:29.838Z"
   },
   {
    "duration": 8,
    "start_time": "2022-06-23T11:54:29.861Z"
   },
   {
    "duration": 3,
    "start_time": "2022-06-23T11:54:29.871Z"
   },
   {
    "duration": 17,
    "start_time": "2022-06-23T11:54:29.876Z"
   },
   {
    "duration": 0,
    "start_time": "2022-06-23T11:54:29.895Z"
   },
   {
    "duration": 0,
    "start_time": "2022-06-23T11:54:29.896Z"
   },
   {
    "duration": 0,
    "start_time": "2022-06-23T11:54:29.898Z"
   },
   {
    "duration": 0,
    "start_time": "2022-06-23T11:54:29.929Z"
   },
   {
    "duration": 0,
    "start_time": "2022-06-23T11:54:29.931Z"
   },
   {
    "duration": 0,
    "start_time": "2022-06-23T11:54:29.932Z"
   },
   {
    "duration": 0,
    "start_time": "2022-06-23T11:54:29.933Z"
   },
   {
    "duration": 1,
    "start_time": "2022-06-23T11:54:29.934Z"
   },
   {
    "duration": 0,
    "start_time": "2022-06-23T11:54:29.936Z"
   },
   {
    "duration": 0,
    "start_time": "2022-06-23T11:54:29.937Z"
   },
   {
    "duration": 0,
    "start_time": "2022-06-23T11:54:29.939Z"
   },
   {
    "duration": 0,
    "start_time": "2022-06-23T11:54:29.940Z"
   },
   {
    "duration": 4,
    "start_time": "2022-06-23T11:55:07.381Z"
   },
   {
    "duration": 82,
    "start_time": "2022-06-23T11:55:07.387Z"
   },
   {
    "duration": 11,
    "start_time": "2022-06-23T11:55:07.470Z"
   },
   {
    "duration": 19,
    "start_time": "2022-06-23T11:55:07.483Z"
   },
   {
    "duration": 4,
    "start_time": "2022-06-23T11:55:07.504Z"
   },
   {
    "duration": 36,
    "start_time": "2022-06-23T11:55:07.509Z"
   },
   {
    "duration": 11,
    "start_time": "2022-06-23T11:55:07.547Z"
   },
   {
    "duration": 9,
    "start_time": "2022-06-23T11:55:07.560Z"
   },
   {
    "duration": 41,
    "start_time": "2022-06-23T11:55:07.570Z"
   },
   {
    "duration": 20,
    "start_time": "2022-06-23T11:55:07.612Z"
   },
   {
    "duration": 5,
    "start_time": "2022-06-23T11:55:07.633Z"
   },
   {
    "duration": 89,
    "start_time": "2022-06-23T11:55:07.640Z"
   },
   {
    "duration": 106,
    "start_time": "2022-06-23T11:55:07.731Z"
   },
   {
    "duration": 89,
    "start_time": "2022-06-23T11:55:07.840Z"
   },
   {
    "duration": 116,
    "start_time": "2022-06-23T11:55:07.932Z"
   },
   {
    "duration": 96,
    "start_time": "2022-06-23T11:55:08.049Z"
   },
   {
    "duration": 100,
    "start_time": "2022-06-23T11:55:08.147Z"
   },
   {
    "duration": 2910,
    "start_time": "2022-06-23T11:55:08.248Z"
   },
   {
    "duration": 514,
    "start_time": "2022-06-23T11:55:11.160Z"
   },
   {
    "duration": 510,
    "start_time": "2022-06-23T11:55:11.676Z"
   },
   {
    "duration": 475,
    "start_time": "2022-06-23T11:55:12.188Z"
   },
   {
    "duration": 18,
    "start_time": "2022-06-23T11:55:47.538Z"
   },
   {
    "duration": 15,
    "start_time": "2022-06-23T11:55:48.701Z"
   },
   {
    "duration": 3,
    "start_time": "2022-06-23T11:55:52.340Z"
   },
   {
    "duration": 80,
    "start_time": "2022-06-23T11:55:52.346Z"
   },
   {
    "duration": 11,
    "start_time": "2022-06-23T11:55:52.428Z"
   },
   {
    "duration": 16,
    "start_time": "2022-06-23T11:55:52.440Z"
   },
   {
    "duration": 5,
    "start_time": "2022-06-23T11:55:52.458Z"
   },
   {
    "duration": 25,
    "start_time": "2022-06-23T11:55:52.465Z"
   },
   {
    "duration": 41,
    "start_time": "2022-06-23T11:55:52.492Z"
   },
   {
    "duration": 3,
    "start_time": "2022-06-23T11:55:52.535Z"
   },
   {
    "duration": 34,
    "start_time": "2022-06-23T11:55:52.540Z"
   },
   {
    "duration": 18,
    "start_time": "2022-06-23T11:55:52.576Z"
   },
   {
    "duration": 6,
    "start_time": "2022-06-23T11:55:52.597Z"
   },
   {
    "duration": 22,
    "start_time": "2022-06-23T11:55:52.629Z"
   },
   {
    "duration": 103,
    "start_time": "2022-06-23T11:55:52.731Z"
   },
   {
    "duration": 100,
    "start_time": "2022-06-23T11:55:52.836Z"
   },
   {
    "duration": 117,
    "start_time": "2022-06-23T11:55:52.938Z"
   },
   {
    "duration": 76,
    "start_time": "2022-06-23T11:55:53.056Z"
   },
   {
    "duration": 110,
    "start_time": "2022-06-23T11:55:53.135Z"
   },
   {
    "duration": 2944,
    "start_time": "2022-06-23T11:55:53.247Z"
   },
   {
    "duration": 489,
    "start_time": "2022-06-23T11:55:56.193Z"
   },
   {
    "duration": 480,
    "start_time": "2022-06-23T11:55:56.683Z"
   },
   {
    "duration": 483,
    "start_time": "2022-06-23T11:55:57.164Z"
   },
   {
    "duration": 2778,
    "start_time": "2022-06-23T12:05:10.033Z"
   },
   {
    "duration": 4,
    "start_time": "2022-06-23T12:06:06.066Z"
   },
   {
    "duration": 111,
    "start_time": "2022-06-23T12:06:06.072Z"
   },
   {
    "duration": 13,
    "start_time": "2022-06-23T12:06:06.185Z"
   },
   {
    "duration": 20,
    "start_time": "2022-06-23T12:06:06.200Z"
   },
   {
    "duration": 5,
    "start_time": "2022-06-23T12:06:06.222Z"
   },
   {
    "duration": 32,
    "start_time": "2022-06-23T12:06:06.229Z"
   },
   {
    "duration": 11,
    "start_time": "2022-06-23T12:06:06.262Z"
   },
   {
    "duration": 3,
    "start_time": "2022-06-23T12:06:06.274Z"
   },
   {
    "duration": 38,
    "start_time": "2022-06-23T12:06:06.279Z"
   },
   {
    "duration": 18,
    "start_time": "2022-06-23T12:06:06.329Z"
   },
   {
    "duration": 5,
    "start_time": "2022-06-23T12:06:06.348Z"
   },
   {
    "duration": 77,
    "start_time": "2022-06-23T12:06:06.355Z"
   },
   {
    "duration": 2900,
    "start_time": "2022-06-23T12:06:06.435Z"
   },
   {
    "duration": 15,
    "start_time": "2022-06-23T12:06:09.337Z"
   },
   {
    "duration": 84,
    "start_time": "2022-06-23T12:06:09.354Z"
   },
   {
    "duration": 112,
    "start_time": "2022-06-23T12:06:09.440Z"
   },
   {
    "duration": 81,
    "start_time": "2022-06-23T12:06:09.554Z"
   },
   {
    "duration": 107,
    "start_time": "2022-06-23T12:06:09.637Z"
   },
   {
    "duration": 2946,
    "start_time": "2022-06-23T12:06:09.746Z"
   },
   {
    "duration": 480,
    "start_time": "2022-06-23T12:06:12.694Z"
   },
   {
    "duration": 484,
    "start_time": "2022-06-23T12:06:13.176Z"
   },
   {
    "duration": 495,
    "start_time": "2022-06-23T12:06:13.662Z"
   },
   {
    "duration": 11537,
    "start_time": "2022-06-23T12:07:03.645Z"
   },
   {
    "duration": 15,
    "start_time": "2022-06-23T12:10:20.865Z"
   },
   {
    "duration": 3,
    "start_time": "2022-06-23T12:10:24.713Z"
   },
   {
    "duration": 104,
    "start_time": "2022-06-23T12:10:24.718Z"
   },
   {
    "duration": 11,
    "start_time": "2022-06-23T12:10:24.823Z"
   },
   {
    "duration": 19,
    "start_time": "2022-06-23T12:10:24.835Z"
   },
   {
    "duration": 16,
    "start_time": "2022-06-23T12:10:24.855Z"
   },
   {
    "duration": 35,
    "start_time": "2022-06-23T12:10:24.872Z"
   },
   {
    "duration": 10,
    "start_time": "2022-06-23T12:10:24.908Z"
   },
   {
    "duration": 4,
    "start_time": "2022-06-23T12:10:24.919Z"
   },
   {
    "duration": 54,
    "start_time": "2022-06-23T12:10:24.924Z"
   },
   {
    "duration": 16,
    "start_time": "2022-06-23T12:10:24.980Z"
   },
   {
    "duration": 6,
    "start_time": "2022-06-23T12:10:24.998Z"
   },
   {
    "duration": 36,
    "start_time": "2022-06-23T12:10:25.005Z"
   },
   {
    "duration": 0,
    "start_time": "2022-06-23T12:10:25.043Z"
   },
   {
    "duration": 0,
    "start_time": "2022-06-23T12:10:25.044Z"
   },
   {
    "duration": 0,
    "start_time": "2022-06-23T12:10:25.044Z"
   },
   {
    "duration": 0,
    "start_time": "2022-06-23T12:10:25.046Z"
   },
   {
    "duration": 0,
    "start_time": "2022-06-23T12:10:25.046Z"
   },
   {
    "duration": 0,
    "start_time": "2022-06-23T12:10:25.047Z"
   },
   {
    "duration": 0,
    "start_time": "2022-06-23T12:10:25.048Z"
   },
   {
    "duration": 0,
    "start_time": "2022-06-23T12:10:25.049Z"
   },
   {
    "duration": 0,
    "start_time": "2022-06-23T12:10:25.050Z"
   },
   {
    "duration": 0,
    "start_time": "2022-06-23T12:10:25.050Z"
   },
   {
    "duration": 3,
    "start_time": "2022-06-23T12:10:32.376Z"
   },
   {
    "duration": 91,
    "start_time": "2022-06-23T12:10:32.951Z"
   },
   {
    "duration": 12,
    "start_time": "2022-06-23T12:10:33.208Z"
   },
   {
    "duration": 15,
    "start_time": "2022-06-23T12:10:33.704Z"
   },
   {
    "duration": 4,
    "start_time": "2022-06-23T12:11:36.841Z"
   },
   {
    "duration": 6,
    "start_time": "2022-06-23T12:11:47.623Z"
   },
   {
    "duration": 11,
    "start_time": "2022-06-23T12:11:57.126Z"
   },
   {
    "duration": 4,
    "start_time": "2022-06-23T12:12:48.438Z"
   },
   {
    "duration": 15,
    "start_time": "2022-06-23T12:13:03.389Z"
   },
   {
    "duration": 5,
    "start_time": "2022-06-23T12:13:20.140Z"
   },
   {
    "duration": 28,
    "start_time": "2022-06-23T12:13:21.044Z"
   },
   {
    "duration": 11,
    "start_time": "2022-06-23T12:13:33.317Z"
   },
   {
    "duration": 4,
    "start_time": "2022-06-23T12:13:56.096Z"
   },
   {
    "duration": 105,
    "start_time": "2022-06-23T12:13:56.102Z"
   },
   {
    "duration": 14,
    "start_time": "2022-06-23T12:13:56.208Z"
   },
   {
    "duration": 13,
    "start_time": "2022-06-23T12:13:56.224Z"
   },
   {
    "duration": 18,
    "start_time": "2022-06-23T12:13:56.239Z"
   },
   {
    "duration": 6,
    "start_time": "2022-06-23T12:13:56.258Z"
   },
   {
    "duration": 31,
    "start_time": "2022-06-23T12:13:56.266Z"
   },
   {
    "duration": 30,
    "start_time": "2022-06-23T12:13:56.300Z"
   },
   {
    "duration": 2,
    "start_time": "2022-06-23T12:13:56.332Z"
   },
   {
    "duration": 13,
    "start_time": "2022-06-23T12:13:56.337Z"
   },
   {
    "duration": 0,
    "start_time": "2022-06-23T12:13:56.351Z"
   },
   {
    "duration": 0,
    "start_time": "2022-06-23T12:13:56.352Z"
   },
   {
    "duration": 0,
    "start_time": "2022-06-23T12:13:56.353Z"
   },
   {
    "duration": 0,
    "start_time": "2022-06-23T12:13:56.354Z"
   },
   {
    "duration": 0,
    "start_time": "2022-06-23T12:13:56.355Z"
   },
   {
    "duration": 0,
    "start_time": "2022-06-23T12:13:56.356Z"
   },
   {
    "duration": 0,
    "start_time": "2022-06-23T12:13:56.358Z"
   },
   {
    "duration": 0,
    "start_time": "2022-06-23T12:13:56.359Z"
   },
   {
    "duration": 0,
    "start_time": "2022-06-23T12:13:56.360Z"
   },
   {
    "duration": 0,
    "start_time": "2022-06-23T12:13:56.362Z"
   },
   {
    "duration": 0,
    "start_time": "2022-06-23T12:13:56.363Z"
   },
   {
    "duration": 0,
    "start_time": "2022-06-23T12:13:56.364Z"
   },
   {
    "duration": 0,
    "start_time": "2022-06-23T12:13:56.366Z"
   },
   {
    "duration": 4,
    "start_time": "2022-06-23T12:14:22.092Z"
   },
   {
    "duration": 3,
    "start_time": "2022-06-23T12:14:48.012Z"
   },
   {
    "duration": 3,
    "start_time": "2022-06-23T12:14:52.214Z"
   },
   {
    "duration": 90,
    "start_time": "2022-06-23T12:14:52.220Z"
   },
   {
    "duration": 12,
    "start_time": "2022-06-23T12:14:52.312Z"
   },
   {
    "duration": 13,
    "start_time": "2022-06-23T12:14:52.326Z"
   },
   {
    "duration": 12,
    "start_time": "2022-06-23T12:14:52.341Z"
   },
   {
    "duration": 5,
    "start_time": "2022-06-23T12:14:52.355Z"
   },
   {
    "duration": 32,
    "start_time": "2022-06-23T12:14:52.361Z"
   },
   {
    "duration": 36,
    "start_time": "2022-06-23T12:14:52.395Z"
   },
   {
    "duration": 5,
    "start_time": "2022-06-23T12:14:52.433Z"
   },
   {
    "duration": 5,
    "start_time": "2022-06-23T12:14:52.439Z"
   },
   {
    "duration": 63,
    "start_time": "2022-06-23T12:14:52.446Z"
   },
   {
    "duration": 42,
    "start_time": "2022-06-23T12:14:52.511Z"
   },
   {
    "duration": 5,
    "start_time": "2022-06-23T12:14:52.555Z"
   },
   {
    "duration": 69,
    "start_time": "2022-06-23T12:14:52.562Z"
   },
   {
    "duration": 11300,
    "start_time": "2022-06-23T12:14:52.633Z"
   },
   {
    "duration": 97,
    "start_time": "2022-06-23T12:15:03.935Z"
   },
   {
    "duration": 98,
    "start_time": "2022-06-23T12:15:04.033Z"
   },
   {
    "duration": 34,
    "start_time": "2022-06-23T12:15:04.133Z"
   },
   {
    "duration": 99,
    "start_time": "2022-06-23T12:15:04.230Z"
   },
   {
    "duration": 14,
    "start_time": "2022-06-23T12:15:04.331Z"
   },
   {
    "duration": 2994,
    "start_time": "2022-06-23T12:15:04.348Z"
   },
   {
    "duration": 498,
    "start_time": "2022-06-23T12:15:07.344Z"
   },
   {
    "duration": 484,
    "start_time": "2022-06-23T12:15:07.843Z"
   },
   {
    "duration": 498,
    "start_time": "2022-06-23T12:15:08.329Z"
   },
   {
    "duration": 191,
    "start_time": "2022-06-23T12:33:28.441Z"
   },
   {
    "duration": 102107,
    "start_time": "2022-06-23T12:33:34.021Z"
   },
   {
    "duration": 102916,
    "start_time": "2022-06-23T12:35:26.015Z"
   },
   {
    "duration": 132,
    "start_time": "2022-06-23T12:49:13.666Z"
   },
   {
    "duration": 654,
    "start_time": "2022-06-23T12:49:25.532Z"
   },
   {
    "duration": 509,
    "start_time": "2022-06-23T12:49:32.736Z"
   },
   {
    "duration": 106,
    "start_time": "2022-06-23T12:52:41.278Z"
   },
   {
    "duration": 77,
    "start_time": "2022-06-23T12:53:12.596Z"
   },
   {
    "duration": 9,
    "start_time": "2022-06-23T12:57:51.934Z"
   },
   {
    "duration": 9,
    "start_time": "2022-06-23T12:57:59.855Z"
   },
   {
    "duration": 8,
    "start_time": "2022-06-23T12:58:01.655Z"
   },
   {
    "duration": 179,
    "start_time": "2022-06-23T12:58:15.679Z"
   },
   {
    "duration": 3,
    "start_time": "2022-06-23T12:59:18.781Z"
   },
   {
    "duration": 137,
    "start_time": "2022-06-23T12:59:30.470Z"
   },
   {
    "duration": 69,
    "start_time": "2022-06-23T13:00:28.004Z"
   },
   {
    "duration": 1734,
    "start_time": "2022-06-23T13:02:06.642Z"
   },
   {
    "duration": 3,
    "start_time": "2022-06-23T13:02:12.836Z"
   },
   {
    "duration": 79,
    "start_time": "2022-06-23T13:02:12.843Z"
   },
   {
    "duration": 11,
    "start_time": "2022-06-23T13:02:12.924Z"
   },
   {
    "duration": 11,
    "start_time": "2022-06-23T13:02:12.937Z"
   },
   {
    "duration": 19,
    "start_time": "2022-06-23T13:02:12.949Z"
   },
   {
    "duration": 5,
    "start_time": "2022-06-23T13:02:12.970Z"
   },
   {
    "duration": 33,
    "start_time": "2022-06-23T13:02:12.976Z"
   },
   {
    "duration": 24,
    "start_time": "2022-06-23T13:02:13.011Z"
   },
   {
    "duration": 7,
    "start_time": "2022-06-23T13:02:13.036Z"
   },
   {
    "duration": 6,
    "start_time": "2022-06-23T13:02:13.044Z"
   },
   {
    "duration": 50,
    "start_time": "2022-06-23T13:02:13.051Z"
   },
   {
    "duration": 38,
    "start_time": "2022-06-23T13:02:13.102Z"
   },
   {
    "duration": 4,
    "start_time": "2022-06-23T13:02:13.141Z"
   },
   {
    "duration": 83,
    "start_time": "2022-06-23T13:02:13.147Z"
   },
   {
    "duration": 1426,
    "start_time": "2022-06-23T13:25:12.996Z"
   },
   {
    "duration": 3,
    "start_time": "2022-06-23T13:25:17.884Z"
   },
   {
    "duration": 98,
    "start_time": "2022-06-23T13:25:17.889Z"
   },
   {
    "duration": 12,
    "start_time": "2022-06-23T13:25:17.989Z"
   },
   {
    "duration": 28,
    "start_time": "2022-06-23T13:25:18.002Z"
   },
   {
    "duration": 21,
    "start_time": "2022-06-23T13:25:18.032Z"
   },
   {
    "duration": 5,
    "start_time": "2022-06-23T13:25:18.055Z"
   },
   {
    "duration": 33,
    "start_time": "2022-06-23T13:25:18.061Z"
   },
   {
    "duration": 106,
    "start_time": "2022-06-23T13:25:18.095Z"
   },
   {
    "duration": 0,
    "start_time": "2022-06-23T13:25:18.202Z"
   },
   {
    "duration": 0,
    "start_time": "2022-06-23T13:25:18.204Z"
   },
   {
    "duration": 0,
    "start_time": "2022-06-23T13:25:18.205Z"
   },
   {
    "duration": 0,
    "start_time": "2022-06-23T13:25:18.206Z"
   },
   {
    "duration": 0,
    "start_time": "2022-06-23T13:25:18.207Z"
   },
   {
    "duration": 0,
    "start_time": "2022-06-23T13:25:18.209Z"
   },
   {
    "duration": 0,
    "start_time": "2022-06-23T13:25:18.210Z"
   },
   {
    "duration": 0,
    "start_time": "2022-06-23T13:25:18.211Z"
   },
   {
    "duration": 0,
    "start_time": "2022-06-23T13:25:18.211Z"
   },
   {
    "duration": 0,
    "start_time": "2022-06-23T13:25:18.213Z"
   },
   {
    "duration": 0,
    "start_time": "2022-06-23T13:25:18.214Z"
   },
   {
    "duration": 0,
    "start_time": "2022-06-23T13:25:18.215Z"
   },
   {
    "duration": 0,
    "start_time": "2022-06-23T13:25:18.216Z"
   },
   {
    "duration": 0,
    "start_time": "2022-06-23T13:25:18.217Z"
   },
   {
    "duration": 0,
    "start_time": "2022-06-23T13:25:18.218Z"
   },
   {
    "duration": 0,
    "start_time": "2022-06-23T13:25:18.220Z"
   },
   {
    "duration": 0,
    "start_time": "2022-06-23T13:25:18.221Z"
   },
   {
    "duration": 0,
    "start_time": "2022-06-23T13:25:18.222Z"
   },
   {
    "duration": 127,
    "start_time": "2022-06-23T13:26:26.220Z"
   },
   {
    "duration": 4,
    "start_time": "2022-06-23T13:26:50.211Z"
   },
   {
    "duration": 87,
    "start_time": "2022-06-23T13:26:50.217Z"
   },
   {
    "duration": 14,
    "start_time": "2022-06-23T13:26:50.307Z"
   },
   {
    "duration": 13,
    "start_time": "2022-06-23T13:26:50.324Z"
   },
   {
    "duration": 17,
    "start_time": "2022-06-23T13:26:50.339Z"
   },
   {
    "duration": 5,
    "start_time": "2022-06-23T13:26:50.358Z"
   },
   {
    "duration": 37,
    "start_time": "2022-06-23T13:26:50.365Z"
   },
   {
    "duration": 83,
    "start_time": "2022-06-23T13:26:50.403Z"
   },
   {
    "duration": 0,
    "start_time": "2022-06-23T13:26:50.489Z"
   },
   {
    "duration": 0,
    "start_time": "2022-06-23T13:26:50.490Z"
   },
   {
    "duration": 0,
    "start_time": "2022-06-23T13:26:50.491Z"
   },
   {
    "duration": 0,
    "start_time": "2022-06-23T13:26:50.492Z"
   },
   {
    "duration": 0,
    "start_time": "2022-06-23T13:26:50.493Z"
   },
   {
    "duration": 0,
    "start_time": "2022-06-23T13:26:50.494Z"
   },
   {
    "duration": 0,
    "start_time": "2022-06-23T13:26:50.495Z"
   },
   {
    "duration": 0,
    "start_time": "2022-06-23T13:26:50.496Z"
   },
   {
    "duration": 0,
    "start_time": "2022-06-23T13:26:50.497Z"
   },
   {
    "duration": 0,
    "start_time": "2022-06-23T13:26:50.498Z"
   },
   {
    "duration": 0,
    "start_time": "2022-06-23T13:26:50.499Z"
   },
   {
    "duration": 0,
    "start_time": "2022-06-23T13:26:50.500Z"
   },
   {
    "duration": 0,
    "start_time": "2022-06-23T13:26:50.501Z"
   },
   {
    "duration": 0,
    "start_time": "2022-06-23T13:26:50.502Z"
   },
   {
    "duration": 0,
    "start_time": "2022-06-23T13:26:50.503Z"
   },
   {
    "duration": 0,
    "start_time": "2022-06-23T13:26:50.504Z"
   },
   {
    "duration": 0,
    "start_time": "2022-06-23T13:26:50.505Z"
   },
   {
    "duration": 0,
    "start_time": "2022-06-23T13:26:50.506Z"
   },
   {
    "duration": 9,
    "start_time": "2022-06-23T13:27:16.393Z"
   },
   {
    "duration": 9,
    "start_time": "2022-06-23T13:27:21.888Z"
   },
   {
    "duration": 4,
    "start_time": "2022-06-23T13:27:34.947Z"
   },
   {
    "duration": 112,
    "start_time": "2022-06-23T13:27:34.953Z"
   },
   {
    "duration": 12,
    "start_time": "2022-06-23T13:27:35.067Z"
   },
   {
    "duration": 13,
    "start_time": "2022-06-23T13:27:35.082Z"
   },
   {
    "duration": 13,
    "start_time": "2022-06-23T13:27:35.097Z"
   },
   {
    "duration": 5,
    "start_time": "2022-06-23T13:27:35.111Z"
   },
   {
    "duration": 37,
    "start_time": "2022-06-23T13:27:35.118Z"
   },
   {
    "duration": 10,
    "start_time": "2022-06-23T13:27:35.157Z"
   },
   {
    "duration": 4,
    "start_time": "2022-06-23T13:27:35.169Z"
   },
   {
    "duration": 80,
    "start_time": "2022-06-23T13:27:35.175Z"
   },
   {
    "duration": 28,
    "start_time": "2022-06-23T13:27:35.257Z"
   },
   {
    "duration": 6,
    "start_time": "2022-06-23T13:27:35.287Z"
   },
   {
    "duration": 50,
    "start_time": "2022-06-23T13:27:35.295Z"
   },
   {
    "duration": 0,
    "start_time": "2022-06-23T13:29:21.947Z"
   },
   {
    "duration": 0,
    "start_time": "2022-06-23T13:29:21.960Z"
   },
   {
    "duration": 0,
    "start_time": "2022-06-23T13:29:21.963Z"
   },
   {
    "duration": 0,
    "start_time": "2022-06-23T13:29:21.965Z"
   },
   {
    "duration": 0,
    "start_time": "2022-06-23T13:29:21.968Z"
   },
   {
    "duration": 0,
    "start_time": "2022-06-23T13:29:21.969Z"
   },
   {
    "duration": 0,
    "start_time": "2022-06-23T13:29:21.971Z"
   },
   {
    "duration": 0,
    "start_time": "2022-06-23T13:29:21.973Z"
   },
   {
    "duration": 0,
    "start_time": "2022-06-23T13:29:21.975Z"
   },
   {
    "duration": 0,
    "start_time": "2022-06-23T13:29:21.976Z"
   },
   {
    "duration": 0,
    "start_time": "2022-06-23T13:29:22.029Z"
   },
   {
    "duration": 0,
    "start_time": "2022-06-23T13:29:22.031Z"
   },
   {
    "duration": 0,
    "start_time": "2022-06-23T13:29:22.033Z"
   },
   {
    "duration": 0,
    "start_time": "2022-06-23T13:29:22.035Z"
   },
   {
    "duration": 0,
    "start_time": "2022-06-23T13:29:22.036Z"
   },
   {
    "duration": 0,
    "start_time": "2022-06-23T13:29:22.038Z"
   },
   {
    "duration": 0,
    "start_time": "2022-06-23T13:29:22.040Z"
   },
   {
    "duration": 0,
    "start_time": "2022-06-23T13:29:22.041Z"
   },
   {
    "duration": 0,
    "start_time": "2022-06-23T13:29:22.043Z"
   },
   {
    "duration": 1,
    "start_time": "2022-06-23T13:29:22.044Z"
   },
   {
    "duration": 0,
    "start_time": "2022-06-23T13:29:22.046Z"
   },
   {
    "duration": 0,
    "start_time": "2022-06-23T13:29:22.048Z"
   },
   {
    "duration": 0,
    "start_time": "2022-06-23T13:29:22.050Z"
   },
   {
    "duration": 0,
    "start_time": "2022-06-23T13:29:22.051Z"
   },
   {
    "duration": 0,
    "start_time": "2022-06-23T13:29:22.053Z"
   },
   {
    "duration": 0,
    "start_time": "2022-06-23T13:29:22.054Z"
   },
   {
    "duration": 1244,
    "start_time": "2022-06-23T16:05:32.176Z"
   },
   {
    "duration": 133,
    "start_time": "2022-06-23T16:05:33.422Z"
   },
   {
    "duration": 17,
    "start_time": "2022-06-23T16:05:33.557Z"
   },
   {
    "duration": 15,
    "start_time": "2022-06-23T16:05:33.576Z"
   },
   {
    "duration": 25,
    "start_time": "2022-06-23T16:05:33.593Z"
   },
   {
    "duration": 5,
    "start_time": "2022-06-23T16:05:33.620Z"
   },
   {
    "duration": 58,
    "start_time": "2022-06-23T16:05:33.626Z"
   },
   {
    "duration": 8,
    "start_time": "2022-06-23T16:05:33.685Z"
   },
   {
    "duration": 12,
    "start_time": "2022-06-23T16:05:33.694Z"
   },
   {
    "duration": 89,
    "start_time": "2022-06-23T16:05:33.708Z"
   },
   {
    "duration": 35,
    "start_time": "2022-06-23T16:05:33.799Z"
   },
   {
    "duration": 23,
    "start_time": "2022-06-23T16:05:33.837Z"
   },
   {
    "duration": 116,
    "start_time": "2022-06-23T16:05:33.863Z"
   },
   {
    "duration": 108855,
    "start_time": "2022-06-23T16:05:33.985Z"
   },
   {
    "duration": 40,
    "start_time": "2022-06-23T16:07:22.842Z"
   },
   {
    "duration": 191,
    "start_time": "2022-06-23T16:07:22.885Z"
   },
   {
    "duration": 0,
    "start_time": "2022-06-23T16:07:23.078Z"
   },
   {
    "duration": 0,
    "start_time": "2022-06-23T16:07:23.081Z"
   },
   {
    "duration": 0,
    "start_time": "2022-06-23T16:07:23.083Z"
   },
   {
    "duration": 0,
    "start_time": "2022-06-23T16:07:23.084Z"
   },
   {
    "duration": 0,
    "start_time": "2022-06-23T16:07:23.085Z"
   },
   {
    "duration": 0,
    "start_time": "2022-06-23T16:07:23.086Z"
   },
   {
    "duration": 0,
    "start_time": "2022-06-23T16:07:23.087Z"
   },
   {
    "duration": 0,
    "start_time": "2022-06-23T16:07:23.090Z"
   },
   {
    "duration": 0,
    "start_time": "2022-06-23T16:07:23.091Z"
   },
   {
    "duration": 0,
    "start_time": "2022-06-23T16:07:23.092Z"
   },
   {
    "duration": 134,
    "start_time": "2022-06-23T16:08:57.588Z"
   },
   {
    "duration": 14,
    "start_time": "2022-06-23T16:09:23.657Z"
   },
   {
    "duration": 200,
    "start_time": "2022-06-23T16:09:25.938Z"
   },
   {
    "duration": 47,
    "start_time": "2022-06-23T16:09:27.275Z"
   },
   {
    "duration": 9,
    "start_time": "2022-06-23T16:09:32.609Z"
   },
   {
    "duration": 20,
    "start_time": "2022-06-23T16:09:34.797Z"
   },
   {
    "duration": 67,
    "start_time": "2022-06-23T16:09:39.373Z"
   },
   {
    "duration": 2853,
    "start_time": "2022-06-23T16:09:42.388Z"
   },
   {
    "duration": 525,
    "start_time": "2022-06-23T16:09:53.337Z"
   },
   {
    "duration": 499,
    "start_time": "2022-06-23T16:09:56.472Z"
   },
   {
    "duration": 489,
    "start_time": "2022-06-23T16:09:57.978Z"
   },
   {
    "duration": 347,
    "start_time": "2022-06-23T16:10:17.777Z"
   },
   {
    "duration": 347,
    "start_time": "2022-06-23T16:10:45.477Z"
   },
   {
    "duration": 391,
    "start_time": "2022-06-23T16:10:51.618Z"
   },
   {
    "duration": 436,
    "start_time": "2022-06-23T16:10:54.677Z"
   },
   {
    "duration": 480,
    "start_time": "2022-06-23T16:11:00.117Z"
   },
   {
    "duration": 550,
    "start_time": "2022-06-23T16:11:04.277Z"
   },
   {
    "duration": 535,
    "start_time": "2022-06-23T16:11:07.543Z"
   },
   {
    "duration": 468,
    "start_time": "2022-06-23T16:11:11.573Z"
   },
   {
    "duration": 4863,
    "start_time": "2022-06-23T16:11:14.415Z"
   },
   {
    "duration": 507,
    "start_time": "2022-06-23T16:15:44.140Z"
   },
   {
    "duration": 564,
    "start_time": "2022-06-23T16:15:46.941Z"
   },
   {
    "duration": 68,
    "start_time": "2022-06-23T17:51:12.603Z"
   },
   {
    "duration": 1210,
    "start_time": "2022-06-23T17:51:16.571Z"
   },
   {
    "duration": 105,
    "start_time": "2022-06-23T17:51:17.783Z"
   },
   {
    "duration": 16,
    "start_time": "2022-06-23T17:51:17.890Z"
   },
   {
    "duration": 14,
    "start_time": "2022-06-23T17:51:17.909Z"
   },
   {
    "duration": 32,
    "start_time": "2022-06-23T17:51:17.925Z"
   },
   {
    "duration": 8,
    "start_time": "2022-06-23T17:51:17.960Z"
   },
   {
    "duration": 52,
    "start_time": "2022-06-23T17:51:17.970Z"
   },
   {
    "duration": 15,
    "start_time": "2022-06-23T17:51:18.028Z"
   },
   {
    "duration": 30,
    "start_time": "2022-06-23T17:51:18.045Z"
   },
   {
    "duration": 84,
    "start_time": "2022-06-23T17:51:18.078Z"
   },
   {
    "duration": 38,
    "start_time": "2022-06-23T17:51:18.164Z"
   },
   {
    "duration": 8,
    "start_time": "2022-06-23T17:51:18.204Z"
   },
   {
    "duration": 103,
    "start_time": "2022-06-23T17:51:18.235Z"
   },
   {
    "duration": 1294,
    "start_time": "2022-06-24T06:03:50.541Z"
   },
   {
    "duration": 252,
    "start_time": "2022-06-24T06:03:51.837Z"
   },
   {
    "duration": 15,
    "start_time": "2022-06-24T06:03:52.591Z"
   },
   {
    "duration": 15,
    "start_time": "2022-06-24T06:03:52.781Z"
   },
   {
    "duration": 15,
    "start_time": "2022-06-24T06:03:54.356Z"
   },
   {
    "duration": 6,
    "start_time": "2022-06-24T06:03:54.969Z"
   },
   {
    "duration": 42,
    "start_time": "2022-06-24T06:03:56.610Z"
   },
   {
    "duration": 10,
    "start_time": "2022-06-24T06:03:57.277Z"
   },
   {
    "duration": 4,
    "start_time": "2022-06-24T06:03:59.095Z"
   },
   {
    "duration": 63,
    "start_time": "2022-06-24T06:03:59.507Z"
   },
   {
    "duration": 30,
    "start_time": "2022-06-24T06:03:59.868Z"
   },
   {
    "duration": 8,
    "start_time": "2022-06-24T06:04:04.322Z"
   },
   {
    "duration": 105,
    "start_time": "2022-06-24T06:04:06.136Z"
   },
   {
    "duration": 116858,
    "start_time": "2022-06-24T06:04:06.779Z"
   },
   {
    "duration": 27,
    "start_time": "2022-06-24T06:06:03.642Z"
   },
   {
    "duration": 229,
    "start_time": "2022-06-24T06:06:03.743Z"
   },
   {
    "duration": 0,
    "start_time": "2022-06-24T06:06:03.975Z"
   },
   {
    "duration": 0,
    "start_time": "2022-06-24T06:06:03.976Z"
   },
   {
    "duration": 1,
    "start_time": "2022-06-24T06:06:03.977Z"
   },
   {
    "duration": 0,
    "start_time": "2022-06-24T06:06:03.979Z"
   },
   {
    "duration": 0,
    "start_time": "2022-06-24T06:06:03.981Z"
   },
   {
    "duration": 0,
    "start_time": "2022-06-24T06:06:03.983Z"
   },
   {
    "duration": 585,
    "start_time": "2022-06-24T06:07:17.783Z"
   },
   {
    "duration": 549,
    "start_time": "2022-06-24T06:07:20.704Z"
   },
   {
    "duration": 426,
    "start_time": "2022-06-24T06:07:30.214Z"
   },
   {
    "duration": 556,
    "start_time": "2022-06-24T06:07:45.370Z"
   },
   {
    "duration": 621,
    "start_time": "2022-06-24T06:07:54.501Z"
   },
   {
    "duration": 531,
    "start_time": "2022-06-24T06:07:57.718Z"
   },
   {
    "duration": 1049,
    "start_time": "2022-06-24T06:08:00.882Z"
   },
   {
    "duration": 1183,
    "start_time": "2022-06-24T06:08:21.842Z"
   },
   {
    "duration": 1214,
    "start_time": "2022-06-24T16:01:04.460Z"
   },
   {
    "duration": 214,
    "start_time": "2022-06-24T16:01:05.676Z"
   },
   {
    "duration": 16,
    "start_time": "2022-06-24T16:01:05.892Z"
   },
   {
    "duration": 14,
    "start_time": "2022-06-24T16:01:05.911Z"
   },
   {
    "duration": 14,
    "start_time": "2022-06-24T16:01:05.927Z"
   },
   {
    "duration": 7,
    "start_time": "2022-06-24T16:01:05.943Z"
   },
   {
    "duration": 46,
    "start_time": "2022-06-24T16:01:05.952Z"
   },
   {
    "duration": 14,
    "start_time": "2022-06-24T16:01:06.000Z"
   },
   {
    "duration": 26,
    "start_time": "2022-06-24T16:01:06.016Z"
   },
   {
    "duration": 76,
    "start_time": "2022-06-24T16:01:06.046Z"
   },
   {
    "duration": 50,
    "start_time": "2022-06-24T16:01:06.123Z"
   },
   {
    "duration": 9,
    "start_time": "2022-06-24T16:01:06.174Z"
   },
   {
    "duration": 59,
    "start_time": "2022-06-24T16:01:06.185Z"
   },
   {
    "duration": 380650,
    "start_time": "2022-06-24T16:01:06.246Z"
   },
   {
    "duration": 51,
    "start_time": "2022-06-24T16:07:26.898Z"
   },
   {
    "duration": 31543,
    "start_time": "2022-06-24T16:07:26.951Z"
   },
   {
    "duration": 11,
    "start_time": "2022-06-24T16:07:58.495Z"
   },
   {
    "duration": 43259,
    "start_time": "2022-06-24T16:07:58.508Z"
   },
   {
    "duration": 84,
    "start_time": "2022-06-24T16:08:41.769Z"
   },
   {
    "duration": 92,
    "start_time": "2022-06-24T16:08:41.855Z"
   },
   {
    "duration": 99,
    "start_time": "2022-06-24T16:08:41.949Z"
   },
   {
    "duration": 16042,
    "start_time": "2022-06-24T16:08:42.050Z"
   },
   {
    "duration": 381453,
    "start_time": "2022-06-24T16:08:58.095Z"
   },
   {
    "duration": 389679,
    "start_time": "2022-06-24T16:15:19.550Z"
   },
   {
    "duration": 1107,
    "start_time": "2022-06-24T16:21:49.231Z"
   },
   {
    "duration": 1055,
    "start_time": "2022-06-24T16:21:50.340Z"
   },
   {
    "duration": 4,
    "start_time": "2022-06-24T18:23:18.901Z"
   },
   {
    "duration": 102,
    "start_time": "2022-06-24T18:23:18.906Z"
   },
   {
    "duration": 13,
    "start_time": "2022-06-24T18:23:19.011Z"
   },
   {
    "duration": 27,
    "start_time": "2022-06-24T18:23:19.026Z"
   },
   {
    "duration": 18,
    "start_time": "2022-06-24T18:23:19.057Z"
   },
   {
    "duration": 6,
    "start_time": "2022-06-24T18:23:19.076Z"
   },
   {
    "duration": 43,
    "start_time": "2022-06-24T18:23:19.084Z"
   },
   {
    "duration": 29,
    "start_time": "2022-06-24T18:23:19.128Z"
   },
   {
    "duration": 8,
    "start_time": "2022-06-24T18:23:19.160Z"
   },
   {
    "duration": 74,
    "start_time": "2022-06-24T18:23:19.170Z"
   },
   {
    "duration": 34,
    "start_time": "2022-06-24T18:23:19.246Z"
   },
   {
    "duration": 6,
    "start_time": "2022-06-24T18:23:19.282Z"
   },
   {
    "duration": 73,
    "start_time": "2022-06-24T18:23:19.289Z"
   },
   {
    "duration": 389295,
    "start_time": "2022-06-24T18:23:19.363Z"
   },
   {
    "duration": 27,
    "start_time": "2022-06-24T18:29:48.660Z"
   },
   {
    "duration": 32672,
    "start_time": "2022-06-24T18:29:48.762Z"
   },
   {
    "duration": 20,
    "start_time": "2022-06-24T18:30:21.436Z"
   },
   {
    "duration": 44845,
    "start_time": "2022-06-24T18:30:21.458Z"
   },
   {
    "duration": 140,
    "start_time": "2022-06-24T18:31:06.305Z"
   },
   {
    "duration": 20,
    "start_time": "2022-06-24T18:31:06.448Z"
   },
   {
    "duration": 34,
    "start_time": "2022-06-24T18:31:06.541Z"
   },
   {
    "duration": 16474,
    "start_time": "2022-06-24T18:31:06.654Z"
   },
   {
    "duration": 389374,
    "start_time": "2022-06-24T18:31:23.130Z"
   },
   {
    "duration": 389471,
    "start_time": "2022-06-24T18:37:52.506Z"
   },
   {
    "duration": 1076,
    "start_time": "2022-06-24T18:44:21.979Z"
   },
   {
    "duration": 1093,
    "start_time": "2022-06-24T18:44:23.057Z"
   },
   {
    "duration": 403410,
    "start_time": "2022-06-24T20:13:09.213Z"
   },
   {
    "duration": 1008,
    "start_time": "2022-06-24T21:29:17.850Z"
   },
   {
    "duration": 2103,
    "start_time": "2022-06-24T21:29:37.270Z"
   },
   {
    "duration": 1045,
    "start_time": "2022-06-24T21:29:48.727Z"
   },
   {
    "duration": 43151,
    "start_time": "2022-06-24T21:32:45.234Z"
   },
   {
    "duration": 85,
    "start_time": "2022-06-24T23:46:13.698Z"
   },
   {
    "duration": 1042,
    "start_time": "2022-06-24T23:46:16.665Z"
   },
   {
    "duration": 1012,
    "start_time": "2022-06-24T23:47:51.865Z"
   }
  ],
  "kernelspec": {
   "display_name": "Python 3 (ipykernel)",
   "language": "python",
   "name": "python3"
  },
  "language_info": {
   "codemirror_mode": {
    "name": "ipython",
    "version": 3
   },
   "file_extension": ".py",
   "mimetype": "text/x-python",
   "name": "python",
   "nbconvert_exporter": "python",
   "pygments_lexer": "ipython3",
   "version": "3.9.12"
  },
  "toc": {
   "base_numbering": 1,
   "nav_menu": {},
   "number_sections": true,
   "sideBar": true,
   "skip_h1_title": true,
   "title_cell": "Содержание",
   "title_sidebar": "Contents",
   "toc_cell": true,
   "toc_position": {
    "height": "calc(100% - 180px)",
    "left": "10px",
    "top": "150px",
    "width": "165px"
   },
   "toc_section_display": true,
   "toc_window_display": true
  }
 },
 "nbformat": 4,
 "nbformat_minor": 2
}
