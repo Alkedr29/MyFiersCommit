{
 "cells": [
  {
   "cell_type": "markdown",
   "metadata": {
    "toc": true
   },
   "source": [
    "<h1>Содержание<span class=\"tocSkip\"></span></h1>\n",
    "<div class=\"toc\"><ul class=\"toc-item\"><li><span><a href=\"#Подготовка-данных\" data-toc-modified-id=\"Подготовка-данных-1\"><span class=\"toc-item-num\">1&nbsp;&nbsp;</span>Подготовка данных</a></span></li><li><span><a href=\"#Анализ-данных\" data-toc-modified-id=\"Анализ-данных-2\"><span class=\"toc-item-num\">2&nbsp;&nbsp;</span>Анализ данных</a></span></li><li><span><a href=\"#Модель\" data-toc-modified-id=\"Модель-3\"><span class=\"toc-item-num\">3&nbsp;&nbsp;</span>Модель</a>"
   ]
  },
  {
   "cell_type": "markdown",
   "metadata": {},
   "source": [
    "# Восстановление золота из руды"
   ]
  },
  {
   "cell_type": "markdown",
   "metadata": {},
   "source": [
    "Подготовим прототип модели машинного обучения для «Цифры». Компания разрабатывает решения для эффективной работы промышленных предприятий.\n",
    "Модель должна предсказать коэффициент восстановления золота из золотосодержащей руды. Используем данные с параметрами добычи и очистки. \n",
    "Модель поможет оптимизировать производство, чтобы не запускать предприятие с убыточными характеристиками."
   ]
  },
  {
   "cell_type": "markdown",
   "metadata": {},
   "source": [
    "**План:**\n",
    "1. Загрузим и проведем обработку данных.\n",
    "2. Проведем анализ данных.\n",
    "3. Обучим несколько моделей,для оценки результатов используем метрику cимметричной средней абсолютной ошибки sMAPE."
   ]
  },
  {
   "cell_type": "markdown",
   "metadata": {},
   "source": [
    "## Подготовка данных"
   ]
  },
  {
   "cell_type": "code",
   "execution_count": 2,
   "metadata": {},
   "outputs": [],
   "source": [
    "import pandas as pd\n",
    "import numpy as np\n",
    "import matplotlib.pyplot as plt\n",
    "from sklearn.metrics import mean_absolute_error,make_scorer\n",
    "from sklearn.model_selection import train_test_split,cross_validate,GridSearchCV\n",
    "from sklearn.dummy import DummyRegressor\n",
    "from sklearn.linear_model import LinearRegression\n",
    "from sklearn.tree import DecisionTreeRegressor\n",
    "from sklearn.ensemble import RandomForestRegressor\n",
    "from sklearn.model_selection import cross_val_score"
   ]
  },
  {
   "cell_type": "code",
   "execution_count": 3,
   "metadata": {},
   "outputs": [],
   "source": [
    "try:\n",
    "    df_train = pd.read_csv('/datasets/gold_recovery_train_new.csv')\n",
    "    df_test = pd.read_csv('/datasets/gold_recovery_test_new.csv')\n",
    "    df_full = pd.read_csv('/datasets/gold_recovery_full_new.csv')\n",
    "except:\n",
    "    df_train = pd.read_csv('gold_recovery_train_new.csv')\n",
    "    df_test = pd.read_csv('gold_recovery_test_new.csv')\n",
    "    df_full = pd.read_csv('gold_recovery_full_new.csv')"
   ]
  },
  {
   "cell_type": "code",
   "execution_count": 4,
   "metadata": {
    "scrolled": true
   },
   "outputs": [
    {
     "name": "stdout",
     "output_type": "stream",
     "text": [
      "<class 'pandas.core.frame.DataFrame'>\n",
      "RangeIndex: 14149 entries, 0 to 14148\n",
      "Data columns (total 87 columns):\n",
      " #   Column                                              Non-Null Count  Dtype  \n",
      "---  ------                                              --------------  -----  \n",
      " 0   date                                                14149 non-null  object \n",
      " 1   final.output.concentrate_ag                         14148 non-null  float64\n",
      " 2   final.output.concentrate_pb                         14148 non-null  float64\n",
      " 3   final.output.concentrate_sol                        13938 non-null  float64\n",
      " 4   final.output.concentrate_au                         14149 non-null  float64\n",
      " 5   final.output.recovery                               14149 non-null  float64\n",
      " 6   final.output.tail_ag                                14149 non-null  float64\n",
      " 7   final.output.tail_pb                                14049 non-null  float64\n",
      " 8   final.output.tail_sol                               14144 non-null  float64\n",
      " 9   final.output.tail_au                                14149 non-null  float64\n",
      " 10  primary_cleaner.input.sulfate                       14129 non-null  float64\n",
      " 11  primary_cleaner.input.depressant                    14117 non-null  float64\n",
      " 12  primary_cleaner.input.feed_size                     14149 non-null  float64\n",
      " 13  primary_cleaner.input.xanthate                      14049 non-null  float64\n",
      " 14  primary_cleaner.output.concentrate_ag               14149 non-null  float64\n",
      " 15  primary_cleaner.output.concentrate_pb               14063 non-null  float64\n",
      " 16  primary_cleaner.output.concentrate_sol              13863 non-null  float64\n",
      " 17  primary_cleaner.output.concentrate_au               14149 non-null  float64\n",
      " 18  primary_cleaner.output.tail_ag                      14148 non-null  float64\n",
      " 19  primary_cleaner.output.tail_pb                      14134 non-null  float64\n",
      " 20  primary_cleaner.output.tail_sol                     14103 non-null  float64\n",
      " 21  primary_cleaner.output.tail_au                      14149 non-null  float64\n",
      " 22  primary_cleaner.state.floatbank8_a_air              14145 non-null  float64\n",
      " 23  primary_cleaner.state.floatbank8_a_level            14148 non-null  float64\n",
      " 24  primary_cleaner.state.floatbank8_b_air              14145 non-null  float64\n",
      " 25  primary_cleaner.state.floatbank8_b_level            14148 non-null  float64\n",
      " 26  primary_cleaner.state.floatbank8_c_air              14147 non-null  float64\n",
      " 27  primary_cleaner.state.floatbank8_c_level            14148 non-null  float64\n",
      " 28  primary_cleaner.state.floatbank8_d_air              14146 non-null  float64\n",
      " 29  primary_cleaner.state.floatbank8_d_level            14148 non-null  float64\n",
      " 30  rougher.calculation.sulfate_to_au_concentrate       14148 non-null  float64\n",
      " 31  rougher.calculation.floatbank10_sulfate_to_au_feed  14148 non-null  float64\n",
      " 32  rougher.calculation.floatbank11_sulfate_to_au_feed  14148 non-null  float64\n",
      " 33  rougher.calculation.au_pb_ratio                     14149 non-null  float64\n",
      " 34  rougher.input.feed_ag                               14149 non-null  float64\n",
      " 35  rougher.input.feed_pb                               14049 non-null  float64\n",
      " 36  rougher.input.feed_rate                             14141 non-null  float64\n",
      " 37  rougher.input.feed_size                             14005 non-null  float64\n",
      " 38  rougher.input.feed_sol                              14071 non-null  float64\n",
      " 39  rougher.input.feed_au                               14149 non-null  float64\n",
      " 40  rougher.input.floatbank10_sulfate                   14120 non-null  float64\n",
      " 41  rougher.input.floatbank10_xanthate                  14141 non-null  float64\n",
      " 42  rougher.input.floatbank11_sulfate                   14113 non-null  float64\n",
      " 43  rougher.input.floatbank11_xanthate                  13721 non-null  float64\n",
      " 44  rougher.output.concentrate_ag                       14149 non-null  float64\n",
      " 45  rougher.output.concentrate_pb                       14149 non-null  float64\n",
      " 46  rougher.output.concentrate_sol                      14127 non-null  float64\n",
      " 47  rougher.output.concentrate_au                       14149 non-null  float64\n",
      " 48  rougher.output.recovery                             14149 non-null  float64\n",
      " 49  rougher.output.tail_ag                              14148 non-null  float64\n",
      " 50  rougher.output.tail_pb                              14149 non-null  float64\n",
      " 51  rougher.output.tail_sol                             14149 non-null  float64\n",
      " 52  rougher.output.tail_au                              14149 non-null  float64\n",
      " 53  rougher.state.floatbank10_a_air                     14148 non-null  float64\n",
      " 54  rougher.state.floatbank10_a_level                   14148 non-null  float64\n",
      " 55  rougher.state.floatbank10_b_air                     14148 non-null  float64\n",
      " 56  rougher.state.floatbank10_b_level                   14148 non-null  float64\n",
      " 57  rougher.state.floatbank10_c_air                     14148 non-null  float64\n",
      " 58  rougher.state.floatbank10_c_level                   14148 non-null  float64\n",
      " 59  rougher.state.floatbank10_d_air                     14149 non-null  float64\n",
      " 60  rougher.state.floatbank10_d_level                   14149 non-null  float64\n",
      " 61  rougher.state.floatbank10_e_air                     13713 non-null  float64\n",
      " 62  rougher.state.floatbank10_e_level                   14149 non-null  float64\n",
      " 63  rougher.state.floatbank10_f_air                     14149 non-null  float64\n",
      " 64  rougher.state.floatbank10_f_level                   14149 non-null  float64\n",
      " 65  secondary_cleaner.output.tail_ag                    14147 non-null  float64\n",
      " 66  secondary_cleaner.output.tail_pb                    14139 non-null  float64\n",
      " 67  secondary_cleaner.output.tail_sol                   12544 non-null  float64\n",
      " 68  secondary_cleaner.output.tail_au                    14149 non-null  float64\n",
      " 69  secondary_cleaner.state.floatbank2_a_air            13932 non-null  float64\n",
      " 70  secondary_cleaner.state.floatbank2_a_level          14148 non-null  float64\n",
      " 71  secondary_cleaner.state.floatbank2_b_air            14128 non-null  float64\n",
      " 72  secondary_cleaner.state.floatbank2_b_level          14148 non-null  float64\n",
      " 73  secondary_cleaner.state.floatbank3_a_air            14145 non-null  float64\n",
      " 74  secondary_cleaner.state.floatbank3_a_level          14148 non-null  float64\n",
      " 75  secondary_cleaner.state.floatbank3_b_air            14148 non-null  float64\n",
      " 76  secondary_cleaner.state.floatbank3_b_level          14148 non-null  float64\n",
      " 77  secondary_cleaner.state.floatbank4_a_air            14143 non-null  float64\n",
      " 78  secondary_cleaner.state.floatbank4_a_level          14148 non-null  float64\n",
      " 79  secondary_cleaner.state.floatbank4_b_air            14148 non-null  float64\n",
      " 80  secondary_cleaner.state.floatbank4_b_level          14148 non-null  float64\n",
      " 81  secondary_cleaner.state.floatbank5_a_air            14148 non-null  float64\n",
      " 82  secondary_cleaner.state.floatbank5_a_level          14148 non-null  float64\n",
      " 83  secondary_cleaner.state.floatbank5_b_air            14148 non-null  float64\n",
      " 84  secondary_cleaner.state.floatbank5_b_level          14148 non-null  float64\n",
      " 85  secondary_cleaner.state.floatbank6_a_air            14147 non-null  float64\n",
      " 86  secondary_cleaner.state.floatbank6_a_level          14148 non-null  float64\n",
      "dtypes: float64(86), object(1)\n",
      "memory usage: 9.4+ MB\n"
     ]
    }
   ],
   "source": [
    "df_train.info()"
   ]
  },
  {
   "cell_type": "code",
   "execution_count": 5,
   "metadata": {
    "scrolled": true
   },
   "outputs": [
    {
     "name": "stdout",
     "output_type": "stream",
     "text": [
      "<class 'pandas.core.frame.DataFrame'>\n",
      "RangeIndex: 5290 entries, 0 to 5289\n",
      "Data columns (total 53 columns):\n",
      " #   Column                                      Non-Null Count  Dtype  \n",
      "---  ------                                      --------------  -----  \n",
      " 0   date                                        5290 non-null   object \n",
      " 1   primary_cleaner.input.sulfate               5286 non-null   float64\n",
      " 2   primary_cleaner.input.depressant            5285 non-null   float64\n",
      " 3   primary_cleaner.input.feed_size             5290 non-null   float64\n",
      " 4   primary_cleaner.input.xanthate              5286 non-null   float64\n",
      " 5   primary_cleaner.state.floatbank8_a_air      5290 non-null   float64\n",
      " 6   primary_cleaner.state.floatbank8_a_level    5290 non-null   float64\n",
      " 7   primary_cleaner.state.floatbank8_b_air      5290 non-null   float64\n",
      " 8   primary_cleaner.state.floatbank8_b_level    5290 non-null   float64\n",
      " 9   primary_cleaner.state.floatbank8_c_air      5290 non-null   float64\n",
      " 10  primary_cleaner.state.floatbank8_c_level    5290 non-null   float64\n",
      " 11  primary_cleaner.state.floatbank8_d_air      5290 non-null   float64\n",
      " 12  primary_cleaner.state.floatbank8_d_level    5290 non-null   float64\n",
      " 13  rougher.input.feed_ag                       5290 non-null   float64\n",
      " 14  rougher.input.feed_pb                       5290 non-null   float64\n",
      " 15  rougher.input.feed_rate                     5287 non-null   float64\n",
      " 16  rougher.input.feed_size                     5289 non-null   float64\n",
      " 17  rougher.input.feed_sol                      5269 non-null   float64\n",
      " 18  rougher.input.feed_au                       5290 non-null   float64\n",
      " 19  rougher.input.floatbank10_sulfate           5285 non-null   float64\n",
      " 20  rougher.input.floatbank10_xanthate          5290 non-null   float64\n",
      " 21  rougher.input.floatbank11_sulfate           5282 non-null   float64\n",
      " 22  rougher.input.floatbank11_xanthate          5265 non-null   float64\n",
      " 23  rougher.state.floatbank10_a_air             5290 non-null   float64\n",
      " 24  rougher.state.floatbank10_a_level           5290 non-null   float64\n",
      " 25  rougher.state.floatbank10_b_air             5290 non-null   float64\n",
      " 26  rougher.state.floatbank10_b_level           5290 non-null   float64\n",
      " 27  rougher.state.floatbank10_c_air             5290 non-null   float64\n",
      " 28  rougher.state.floatbank10_c_level           5290 non-null   float64\n",
      " 29  rougher.state.floatbank10_d_air             5290 non-null   float64\n",
      " 30  rougher.state.floatbank10_d_level           5290 non-null   float64\n",
      " 31  rougher.state.floatbank10_e_air             5290 non-null   float64\n",
      " 32  rougher.state.floatbank10_e_level           5290 non-null   float64\n",
      " 33  rougher.state.floatbank10_f_air             5290 non-null   float64\n",
      " 34  rougher.state.floatbank10_f_level           5290 non-null   float64\n",
      " 35  secondary_cleaner.state.floatbank2_a_air    5287 non-null   float64\n",
      " 36  secondary_cleaner.state.floatbank2_a_level  5290 non-null   float64\n",
      " 37  secondary_cleaner.state.floatbank2_b_air    5288 non-null   float64\n",
      " 38  secondary_cleaner.state.floatbank2_b_level  5290 non-null   float64\n",
      " 39  secondary_cleaner.state.floatbank3_a_air    5281 non-null   float64\n",
      " 40  secondary_cleaner.state.floatbank3_a_level  5290 non-null   float64\n",
      " 41  secondary_cleaner.state.floatbank3_b_air    5290 non-null   float64\n",
      " 42  secondary_cleaner.state.floatbank3_b_level  5290 non-null   float64\n",
      " 43  secondary_cleaner.state.floatbank4_a_air    5290 non-null   float64\n",
      " 44  secondary_cleaner.state.floatbank4_a_level  5290 non-null   float64\n",
      " 45  secondary_cleaner.state.floatbank4_b_air    5290 non-null   float64\n",
      " 46  secondary_cleaner.state.floatbank4_b_level  5290 non-null   float64\n",
      " 47  secondary_cleaner.state.floatbank5_a_air    5290 non-null   float64\n",
      " 48  secondary_cleaner.state.floatbank5_a_level  5290 non-null   float64\n",
      " 49  secondary_cleaner.state.floatbank5_b_air    5290 non-null   float64\n",
      " 50  secondary_cleaner.state.floatbank5_b_level  5290 non-null   float64\n",
      " 51  secondary_cleaner.state.floatbank6_a_air    5290 non-null   float64\n",
      " 52  secondary_cleaner.state.floatbank6_a_level  5290 non-null   float64\n",
      "dtypes: float64(52), object(1)\n",
      "memory usage: 2.1+ MB\n"
     ]
    }
   ],
   "source": [
    "df_test.info()"
   ]
  },
  {
   "cell_type": "code",
   "execution_count": 6,
   "metadata": {
    "scrolled": true
   },
   "outputs": [
    {
     "name": "stdout",
     "output_type": "stream",
     "text": [
      "<class 'pandas.core.frame.DataFrame'>\n",
      "RangeIndex: 19439 entries, 0 to 19438\n",
      "Data columns (total 87 columns):\n",
      " #   Column                                              Non-Null Count  Dtype  \n",
      "---  ------                                              --------------  -----  \n",
      " 0   date                                                19439 non-null  object \n",
      " 1   final.output.concentrate_ag                         19438 non-null  float64\n",
      " 2   final.output.concentrate_pb                         19438 non-null  float64\n",
      " 3   final.output.concentrate_sol                        19228 non-null  float64\n",
      " 4   final.output.concentrate_au                         19439 non-null  float64\n",
      " 5   final.output.recovery                               19439 non-null  float64\n",
      " 6   final.output.tail_ag                                19438 non-null  float64\n",
      " 7   final.output.tail_pb                                19338 non-null  float64\n",
      " 8   final.output.tail_sol                               19433 non-null  float64\n",
      " 9   final.output.tail_au                                19439 non-null  float64\n",
      " 10  primary_cleaner.input.sulfate                       19415 non-null  float64\n",
      " 11  primary_cleaner.input.depressant                    19402 non-null  float64\n",
      " 12  primary_cleaner.input.feed_size                     19439 non-null  float64\n",
      " 13  primary_cleaner.input.xanthate                      19335 non-null  float64\n",
      " 14  primary_cleaner.output.concentrate_ag               19439 non-null  float64\n",
      " 15  primary_cleaner.output.concentrate_pb               19323 non-null  float64\n",
      " 16  primary_cleaner.output.concentrate_sol              19069 non-null  float64\n",
      " 17  primary_cleaner.output.concentrate_au               19439 non-null  float64\n",
      " 18  primary_cleaner.output.tail_ag                      19435 non-null  float64\n",
      " 19  primary_cleaner.output.tail_pb                      19418 non-null  float64\n",
      " 20  primary_cleaner.output.tail_sol                     19377 non-null  float64\n",
      " 21  primary_cleaner.output.tail_au                      19439 non-null  float64\n",
      " 22  primary_cleaner.state.floatbank8_a_air              19435 non-null  float64\n",
      " 23  primary_cleaner.state.floatbank8_a_level            19438 non-null  float64\n",
      " 24  primary_cleaner.state.floatbank8_b_air              19435 non-null  float64\n",
      " 25  primary_cleaner.state.floatbank8_b_level            19438 non-null  float64\n",
      " 26  primary_cleaner.state.floatbank8_c_air              19437 non-null  float64\n",
      " 27  primary_cleaner.state.floatbank8_c_level            19438 non-null  float64\n",
      " 28  primary_cleaner.state.floatbank8_d_air              19436 non-null  float64\n",
      " 29  primary_cleaner.state.floatbank8_d_level            19438 non-null  float64\n",
      " 30  rougher.calculation.sulfate_to_au_concentrate       19437 non-null  float64\n",
      " 31  rougher.calculation.floatbank10_sulfate_to_au_feed  19437 non-null  float64\n",
      " 32  rougher.calculation.floatbank11_sulfate_to_au_feed  19437 non-null  float64\n",
      " 33  rougher.calculation.au_pb_ratio                     19439 non-null  float64\n",
      " 34  rougher.input.feed_ag                               19439 non-null  float64\n",
      " 35  rougher.input.feed_pb                               19339 non-null  float64\n",
      " 36  rougher.input.feed_rate                             19428 non-null  float64\n",
      " 37  rougher.input.feed_size                             19294 non-null  float64\n",
      " 38  rougher.input.feed_sol                              19340 non-null  float64\n",
      " 39  rougher.input.feed_au                               19439 non-null  float64\n",
      " 40  rougher.input.floatbank10_sulfate                   19405 non-null  float64\n",
      " 41  rougher.input.floatbank10_xanthate                  19431 non-null  float64\n",
      " 42  rougher.input.floatbank11_sulfate                   19395 non-null  float64\n",
      " 43  rougher.input.floatbank11_xanthate                  18986 non-null  float64\n",
      " 44  rougher.output.concentrate_ag                       19439 non-null  float64\n",
      " 45  rougher.output.concentrate_pb                       19439 non-null  float64\n",
      " 46  rougher.output.concentrate_sol                      19416 non-null  float64\n",
      " 47  rougher.output.concentrate_au                       19439 non-null  float64\n",
      " 48  rougher.output.recovery                             19439 non-null  float64\n",
      " 49  rougher.output.tail_ag                              19438 non-null  float64\n",
      " 50  rougher.output.tail_pb                              19439 non-null  float64\n",
      " 51  rougher.output.tail_sol                             19439 non-null  float64\n",
      " 52  rougher.output.tail_au                              19439 non-null  float64\n",
      " 53  rougher.state.floatbank10_a_air                     19438 non-null  float64\n",
      " 54  rougher.state.floatbank10_a_level                   19438 non-null  float64\n",
      " 55  rougher.state.floatbank10_b_air                     19438 non-null  float64\n",
      " 56  rougher.state.floatbank10_b_level                   19438 non-null  float64\n",
      " 57  rougher.state.floatbank10_c_air                     19438 non-null  float64\n",
      " 58  rougher.state.floatbank10_c_level                   19438 non-null  float64\n",
      " 59  rougher.state.floatbank10_d_air                     19439 non-null  float64\n",
      " 60  rougher.state.floatbank10_d_level                   19439 non-null  float64\n",
      " 61  rougher.state.floatbank10_e_air                     19003 non-null  float64\n",
      " 62  rougher.state.floatbank10_e_level                   19439 non-null  float64\n",
      " 63  rougher.state.floatbank10_f_air                     19439 non-null  float64\n",
      " 64  rougher.state.floatbank10_f_level                   19439 non-null  float64\n",
      " 65  secondary_cleaner.output.tail_ag                    19437 non-null  float64\n",
      " 66  secondary_cleaner.output.tail_pb                    19427 non-null  float64\n",
      " 67  secondary_cleaner.output.tail_sol                   17691 non-null  float64\n",
      " 68  secondary_cleaner.output.tail_au                    19439 non-null  float64\n",
      " 69  secondary_cleaner.state.floatbank2_a_air            19219 non-null  float64\n",
      " 70  secondary_cleaner.state.floatbank2_a_level          19438 non-null  float64\n",
      " 71  secondary_cleaner.state.floatbank2_b_air            19416 non-null  float64\n",
      " 72  secondary_cleaner.state.floatbank2_b_level          19438 non-null  float64\n",
      " 73  secondary_cleaner.state.floatbank3_a_air            19426 non-null  float64\n",
      " 74  secondary_cleaner.state.floatbank3_a_level          19438 non-null  float64\n",
      " 75  secondary_cleaner.state.floatbank3_b_air            19438 non-null  float64\n",
      " 76  secondary_cleaner.state.floatbank3_b_level          19438 non-null  float64\n",
      " 77  secondary_cleaner.state.floatbank4_a_air            19433 non-null  float64\n",
      " 78  secondary_cleaner.state.floatbank4_a_level          19438 non-null  float64\n",
      " 79  secondary_cleaner.state.floatbank4_b_air            19438 non-null  float64\n",
      " 80  secondary_cleaner.state.floatbank4_b_level          19438 non-null  float64\n",
      " 81  secondary_cleaner.state.floatbank5_a_air            19438 non-null  float64\n",
      " 82  secondary_cleaner.state.floatbank5_a_level          19438 non-null  float64\n",
      " 83  secondary_cleaner.state.floatbank5_b_air            19438 non-null  float64\n",
      " 84  secondary_cleaner.state.floatbank5_b_level          19438 non-null  float64\n",
      " 85  secondary_cleaner.state.floatbank6_a_air            19437 non-null  float64\n",
      " 86  secondary_cleaner.state.floatbank6_a_level          19438 non-null  float64\n",
      "dtypes: float64(86), object(1)\n",
      "memory usage: 12.9+ MB\n"
     ]
    }
   ],
   "source": [
    "df_full.info()"
   ]
  },
  {
   "cell_type": "markdown",
   "metadata": {},
   "source": [
    "Запомним, что данных есть пропуски."
   ]
  },
  {
   "cell_type": "markdown",
   "metadata": {},
   "source": [
    "Напишем функцию для расчета final.output.recovery,по ней можем посмотреть сходятся ли данные."
   ]
  },
  {
   "cell_type": "code",
   "execution_count": 7,
   "metadata": {},
   "outputs": [],
   "source": [
    "def recover(roug_feed,roug_tail,roug_concentrate):\n",
    "    recovery = ((roug_concentrate * (roug_feed - roug_tail)) / (roug_feed * (roug_concentrate - roug_tail))) * 100\n",
    "    return recovery"
   ]
  },
  {
   "cell_type": "code",
   "execution_count": 8,
   "metadata": {},
   "outputs": [],
   "source": [
    "recovery = recover(df_train['rougher.input.feed_au'],\n",
    "                   df_train['rougher.output.tail_au'],\n",
    "                   df_train['rougher.output.concentrate_au'])"
   ]
  },
  {
   "cell_type": "code",
   "execution_count": 9,
   "metadata": {
    "scrolled": true
   },
   "outputs": [
    {
     "data": {
      "text/plain": [
       "9.73512347450521e-15"
      ]
     },
     "execution_count": 9,
     "metadata": {},
     "output_type": "execute_result"
    }
   ],
   "source": [
    "mean_absolute_error(df_train['rougher.output.recovery'],recovery)"
   ]
  },
  {
   "cell_type": "markdown",
   "metadata": {},
   "source": [
    "МАЕ близко к нулю,функция работает корректно,данные сходятся,ничего аномального нет."
   ]
  },
  {
   "cell_type": "code",
   "execution_count": 10,
   "metadata": {
    "scrolled": true
   },
   "outputs": [
    {
     "data": {
      "text/plain": [
       "Index(['date', 'primary_cleaner.input.sulfate',\n",
       "       'primary_cleaner.input.depressant', 'primary_cleaner.input.feed_size',\n",
       "       'primary_cleaner.input.xanthate',\n",
       "       'primary_cleaner.state.floatbank8_a_air',\n",
       "       'primary_cleaner.state.floatbank8_a_level',\n",
       "       'primary_cleaner.state.floatbank8_b_air',\n",
       "       'primary_cleaner.state.floatbank8_b_level',\n",
       "       'primary_cleaner.state.floatbank8_c_air',\n",
       "       'primary_cleaner.state.floatbank8_c_level',\n",
       "       'primary_cleaner.state.floatbank8_d_air',\n",
       "       'primary_cleaner.state.floatbank8_d_level', 'rougher.input.feed_ag',\n",
       "       'rougher.input.feed_pb', 'rougher.input.feed_rate',\n",
       "       'rougher.input.feed_size', 'rougher.input.feed_sol',\n",
       "       'rougher.input.feed_au', 'rougher.input.floatbank10_sulfate',\n",
       "       'rougher.input.floatbank10_xanthate',\n",
       "       'rougher.input.floatbank11_sulfate',\n",
       "       'rougher.input.floatbank11_xanthate', 'rougher.state.floatbank10_a_air',\n",
       "       'rougher.state.floatbank10_a_level', 'rougher.state.floatbank10_b_air',\n",
       "       'rougher.state.floatbank10_b_level', 'rougher.state.floatbank10_c_air',\n",
       "       'rougher.state.floatbank10_c_level', 'rougher.state.floatbank10_d_air',\n",
       "       'rougher.state.floatbank10_d_level', 'rougher.state.floatbank10_e_air',\n",
       "       'rougher.state.floatbank10_e_level', 'rougher.state.floatbank10_f_air',\n",
       "       'rougher.state.floatbank10_f_level',\n",
       "       'secondary_cleaner.state.floatbank2_a_air',\n",
       "       'secondary_cleaner.state.floatbank2_a_level',\n",
       "       'secondary_cleaner.state.floatbank2_b_air',\n",
       "       'secondary_cleaner.state.floatbank2_b_level',\n",
       "       'secondary_cleaner.state.floatbank3_a_air',\n",
       "       'secondary_cleaner.state.floatbank3_a_level',\n",
       "       'secondary_cleaner.state.floatbank3_b_air',\n",
       "       'secondary_cleaner.state.floatbank3_b_level',\n",
       "       'secondary_cleaner.state.floatbank4_a_air',\n",
       "       'secondary_cleaner.state.floatbank4_a_level',\n",
       "       'secondary_cleaner.state.floatbank4_b_air',\n",
       "       'secondary_cleaner.state.floatbank4_b_level',\n",
       "       'secondary_cleaner.state.floatbank5_a_air',\n",
       "       'secondary_cleaner.state.floatbank5_a_level',\n",
       "       'secondary_cleaner.state.floatbank5_b_air',\n",
       "       'secondary_cleaner.state.floatbank5_b_level',\n",
       "       'secondary_cleaner.state.floatbank6_a_air',\n",
       "       'secondary_cleaner.state.floatbank6_a_level'],\n",
       "      dtype='object')"
      ]
     },
     "execution_count": 10,
     "metadata": {},
     "output_type": "execute_result"
    }
   ],
   "source": [
    "df_test.columns"
   ]
  },
  {
   "cell_type": "code",
   "execution_count": 11,
   "metadata": {
    "scrolled": true
   },
   "outputs": [
    {
     "name": "stdout",
     "output_type": "stream",
     "text": [
      "<class 'pandas.core.frame.DataFrame'>\n",
      "RangeIndex: 14149 entries, 0 to 14148\n",
      "Data columns (total 34 columns):\n",
      " #   Column                                              Non-Null Count  Dtype  \n",
      "---  ------                                              --------------  -----  \n",
      " 0   final.output.concentrate_ag                         14148 non-null  float64\n",
      " 1   final.output.concentrate_pb                         14148 non-null  float64\n",
      " 2   final.output.concentrate_sol                        13938 non-null  float64\n",
      " 3   final.output.concentrate_au                         14149 non-null  float64\n",
      " 4   final.output.recovery                               14149 non-null  float64\n",
      " 5   final.output.tail_ag                                14149 non-null  float64\n",
      " 6   final.output.tail_pb                                14049 non-null  float64\n",
      " 7   final.output.tail_sol                               14144 non-null  float64\n",
      " 8   final.output.tail_au                                14149 non-null  float64\n",
      " 9   primary_cleaner.output.concentrate_ag               14149 non-null  float64\n",
      " 10  primary_cleaner.output.concentrate_pb               14063 non-null  float64\n",
      " 11  primary_cleaner.output.concentrate_sol              13863 non-null  float64\n",
      " 12  primary_cleaner.output.concentrate_au               14149 non-null  float64\n",
      " 13  primary_cleaner.output.tail_ag                      14148 non-null  float64\n",
      " 14  primary_cleaner.output.tail_pb                      14134 non-null  float64\n",
      " 15  primary_cleaner.output.tail_sol                     14103 non-null  float64\n",
      " 16  primary_cleaner.output.tail_au                      14149 non-null  float64\n",
      " 17  rougher.calculation.sulfate_to_au_concentrate       14148 non-null  float64\n",
      " 18  rougher.calculation.floatbank10_sulfate_to_au_feed  14148 non-null  float64\n",
      " 19  rougher.calculation.floatbank11_sulfate_to_au_feed  14148 non-null  float64\n",
      " 20  rougher.calculation.au_pb_ratio                     14149 non-null  float64\n",
      " 21  rougher.output.concentrate_ag                       14149 non-null  float64\n",
      " 22  rougher.output.concentrate_pb                       14149 non-null  float64\n",
      " 23  rougher.output.concentrate_sol                      14127 non-null  float64\n",
      " 24  rougher.output.concentrate_au                       14149 non-null  float64\n",
      " 25  rougher.output.recovery                             14149 non-null  float64\n",
      " 26  rougher.output.tail_ag                              14148 non-null  float64\n",
      " 27  rougher.output.tail_pb                              14149 non-null  float64\n",
      " 28  rougher.output.tail_sol                             14149 non-null  float64\n",
      " 29  rougher.output.tail_au                              14149 non-null  float64\n",
      " 30  secondary_cleaner.output.tail_ag                    14147 non-null  float64\n",
      " 31  secondary_cleaner.output.tail_pb                    14139 non-null  float64\n",
      " 32  secondary_cleaner.output.tail_sol                   12544 non-null  float64\n",
      " 33  secondary_cleaner.output.tail_au                    14149 non-null  float64\n",
      "dtypes: float64(34)\n",
      "memory usage: 3.7 MB\n"
     ]
    }
   ],
   "source": [
    "df_train.drop(df_test.columns,axis = 1).info()"
   ]
  },
  {
   "cell_type": "markdown",
   "metadata": {},
   "source": [
    "Из тестовой выборки удалены результаты полученые технологическим процессом"
   ]
  },
  {
   "cell_type": "code",
   "execution_count": 12,
   "metadata": {},
   "outputs": [
    {
     "data": {
      "text/plain": [
       "secondary_cleaner.output.tail_sol           1605\n",
       "rougher.state.floatbank10_e_air              436\n",
       "rougher.input.floatbank11_xanthate           428\n",
       "primary_cleaner.output.concentrate_sol       286\n",
       "secondary_cleaner.state.floatbank2_a_air     217\n",
       "dtype: int64"
      ]
     },
     "execution_count": 12,
     "metadata": {},
     "output_type": "execute_result"
    }
   ],
   "source": [
    "df_train.isna().sum().sort_values(ascending = False).head()"
   ]
  },
  {
   "cell_type": "markdown",
   "metadata": {},
   "source": [
    "Заменим пропуски сеседним значением"
   ]
  },
  {
   "cell_type": "code",
   "execution_count": 13,
   "metadata": {},
   "outputs": [
    {
     "data": {
      "text/plain": [
       "date                                 0\n",
       "rougher.state.floatbank10_b_air      0\n",
       "rougher.state.floatbank10_f_air      0\n",
       "rougher.state.floatbank10_e_level    0\n",
       "rougher.state.floatbank10_e_air      0\n",
       "dtype: int64"
      ]
     },
     "execution_count": 13,
     "metadata": {},
     "output_type": "execute_result"
    }
   ],
   "source": [
    "df_train = df_train.fillna(method = 'ffill')\n",
    "df_train.isna().sum().sort_values(ascending = False).head()"
   ]
  },
  {
   "cell_type": "code",
   "execution_count": 14,
   "metadata": {},
   "outputs": [
    {
     "data": {
      "text/plain": [
       "rougher.input.floatbank11_xanthate          25\n",
       "rougher.input.feed_sol                      21\n",
       "secondary_cleaner.state.floatbank3_a_air     9\n",
       "rougher.input.floatbank11_sulfate            8\n",
       "primary_cleaner.input.depressant             5\n",
       "dtype: int64"
      ]
     },
     "execution_count": 14,
     "metadata": {},
     "output_type": "execute_result"
    }
   ],
   "source": [
    "df_test.isna().sum().sort_values(ascending = False).head()"
   ]
  },
  {
   "cell_type": "code",
   "execution_count": 15,
   "metadata": {},
   "outputs": [
    {
     "data": {
      "text/plain": [
       "date                                 0\n",
       "rougher.state.floatbank10_c_air      0\n",
       "rougher.state.floatbank10_d_air      0\n",
       "rougher.state.floatbank10_d_level    0\n",
       "rougher.state.floatbank10_e_air      0\n",
       "dtype: int64"
      ]
     },
     "execution_count": 15,
     "metadata": {},
     "output_type": "execute_result"
    }
   ],
   "source": [
    "df_test = df_test.fillna(method = 'ffill')\n",
    "df_test.isna().sum().sort_values(ascending = False).head()"
   ]
  },
  {
   "cell_type": "code",
   "execution_count": 16,
   "metadata": {},
   "outputs": [
    {
     "data": {
      "text/plain": [
       "secondary_cleaner.output.tail_sol           1748\n",
       "rougher.input.floatbank11_xanthate           453\n",
       "rougher.state.floatbank10_e_air              436\n",
       "primary_cleaner.output.concentrate_sol       370\n",
       "secondary_cleaner.state.floatbank2_a_air     220\n",
       "dtype: int64"
      ]
     },
     "execution_count": 16,
     "metadata": {},
     "output_type": "execute_result"
    }
   ],
   "source": [
    "df_full.isna().sum().sort_values(ascending = False).head()"
   ]
  },
  {
   "cell_type": "code",
   "execution_count": 17,
   "metadata": {},
   "outputs": [
    {
     "data": {
      "text/plain": [
       "date                                 0\n",
       "rougher.state.floatbank10_b_air      0\n",
       "rougher.state.floatbank10_f_air      0\n",
       "rougher.state.floatbank10_e_level    0\n",
       "rougher.state.floatbank10_e_air      0\n",
       "dtype: int64"
      ]
     },
     "execution_count": 17,
     "metadata": {},
     "output_type": "execute_result"
    }
   ],
   "source": [
    "df_full = df_full.fillna(method = 'ffill')\n",
    "df_full.isna().sum().sort_values(ascending = False).head()"
   ]
  },
  {
   "cell_type": "code",
   "execution_count": 18,
   "metadata": {},
   "outputs": [
    {
     "data": {
      "text/plain": [
       "0"
      ]
     },
     "metadata": {},
     "output_type": "display_data"
    },
    {
     "data": {
      "text/plain": [
       "0"
      ]
     },
     "metadata": {},
     "output_type": "display_data"
    },
    {
     "data": {
      "text/plain": [
       "0"
      ]
     },
     "metadata": {},
     "output_type": "display_data"
    }
   ],
   "source": [
    "display(df_train.duplicated().sum())\n",
    "display(df_test.duplicated().sum())\n",
    "display(df_full.duplicated().sum())"
   ]
  },
  {
   "cell_type": "markdown",
   "metadata": {},
   "source": [
    "Сделаем столбец даты индексами"
   ]
  },
  {
   "cell_type": "code",
   "execution_count": 19,
   "metadata": {},
   "outputs": [],
   "source": [
    "df_full = df_full.set_index('date')\n",
    "df_train = df_train.set_index('date')\n",
    "df_test = df_test.set_index('date')"
   ]
  },
  {
   "cell_type": "markdown",
   "metadata": {},
   "source": [
    "## Анализ данных"
   ]
  },
  {
   "cell_type": "code",
   "execution_count": 47,
   "metadata": {
    "scrolled": false
   },
   "outputs": [
    {
     "data": {
      "image/png": "[encoded data removed]",
      "text/plain": [
       "<Figure size 1000x400 with 1 Axes>"
      ]
     },
     "metadata": {},
     "output_type": "display_data"
    }
   ],
   "source": [
    "plt.figure(figsize=[10,4])\n",
    "plt.hist(df_train['rougher.output.concentrate_au'],bins=50,alpha=.5,label = 'Черновой')\n",
    "plt.hist(df_train['rougher.input.feed_au'],bins=50,alpha=.5,label = 'Флотация')\n",
    "plt.hist(df_train['primary_cleaner.output.concentrate_au'],bins=50,alpha=.5,label = 'Первичная')\n",
    "plt.hist(df_train['final.output.concentrate_au'],bins=50,alpha=.5,label = 'Финальная')\n",
    "plt.xlabel('концентрат Au')\n",
    "plt.ylabel('Количество результатов')\n",
    "plt.legend()\n",
    "plt.title('Распределение результатов концентрата Au');"
   ]
  },
  {
   "cell_type": "markdown",
   "metadata": {},
   "source": [
    "Концентрация золота выше с каждым этапом отчистки"
   ]
  },
  {
   "cell_type": "markdown",
   "metadata": {},
   "source": [
    "Удалим 0 значения,концентрация не может быть равной 0"
   ]
  },
  {
   "cell_type": "code",
   "execution_count": 44,
   "metadata": {},
   "outputs": [],
   "source": [
    "df_train = df_train[df_train['rougher.input.feed_au'] > 1]\n",
    "df_train = df_train[df_train['primary_cleaner.output.concentrate_au'] > 1]\n",
    "df_train = df_train[df_train['final.output.concentrate_au'] > 1]"
   ]
  },
  {
   "cell_type": "code",
   "execution_count": 48,
   "metadata": {},
   "outputs": [
    {
     "data": {
      "image/png": "[encoded data removed]",
      "text/plain": [
       "<Figure size 1000x400 with 1 Axes>"
      ]
     },
     "metadata": {},
     "output_type": "display_data"
    }
   ],
   "source": [
    "plt.figure(figsize=[10,4])\n",
    "plt.hist(df_train['rougher.output.concentrate_ag'],bins=50,alpha=.5,label = 'Черновой')\n",
    "plt.hist(df_train['rougher.input.feed_ag'],bins=50,alpha=.5,label = 'Флотация')\n",
    "plt.hist(df_train['primary_cleaner.output.concentrate_ag'],bins=50,alpha=.5,label = 'Первичная')\n",
    "plt.hist(df_train['final.output.concentrate_ag'],bins=50,alpha=.5,label = 'Финальная')\n",
    "plt.xlabel('концентрат Ag')\n",
    "plt.ylabel('Количество результатов')\n",
    "plt.legend()\n",
    "plt.title('Распределение результатов концентрата Ag');"
   ]
  },
  {
   "cell_type": "code",
   "execution_count": 46,
   "metadata": {},
   "outputs": [],
   "source": [
    "df_train = df_train[df_train['rougher.output.concentrate_ag'] > 1]"
   ]
  },
  {
   "cell_type": "markdown",
   "metadata": {},
   "source": [
    "Самый высокий концентрат серебра на этапе флотации"
   ]
  },
  {
   "cell_type": "code",
   "execution_count": 49,
   "metadata": {},
   "outputs": [
    {
     "data": {
      "image/png": "[encoded data removed]",
      "text/plain": [
       "<Figure size 1000x400 with 1 Axes>"
      ]
     },
     "metadata": {},
     "output_type": "display_data"
    }
   ],
   "source": [
    "plt.figure(figsize=[10,4])\n",
    "plt.hist(df_train['rougher.output.concentrate_pb'],bins=50,alpha=.5,label = 'Черновой')\n",
    "plt.hist(df_train['rougher.input.feed_pb'],bins=50,alpha=.5,label = 'Флотация')\n",
    "plt.hist(df_train['primary_cleaner.output.concentrate_pb'],bins=50,alpha=.5,label = 'Первичная')\n",
    "plt.hist(df_train['final.output.concentrate_pb'],bins=50,alpha=.5,label = 'Финальная')\n",
    "plt.xlabel('концентрат Pb')\n",
    "plt.ylabel('Количество результатов')\n",
    "plt.legend()\n",
    "plt.title('Распределение результатов концентрата Pb');"
   ]
  },
  {
   "cell_type": "code",
   "execution_count": 25,
   "metadata": {},
   "outputs": [],
   "source": [
    "df_train = df_train[df_train['rougher.input.feed_pb'] > 1]\n",
    "df_train = df_train[df_train['primary_cleaner.output.concentrate_pb'] > 1]\n",
    "df_train = df_train[df_train['final.output.concentrate_pb'] > 1]"
   ]
  },
  {
   "cell_type": "code",
   "execution_count": 50,
   "metadata": {
    "scrolled": false
   },
   "outputs": [
    {
     "data": {
      "image/png": "[encoded data removed]",
      "text/plain": [
       "<Figure size 1000x400 with 1 Axes>"
      ]
     },
     "metadata": {},
     "output_type": "display_data"
    }
   ],
   "source": [
    "plt.figure(figsize=[10,4])\n",
    "plt.hist(df_train['rougher.input.feed_size'],bins=50,alpha=.5,label = 'Обучающая',density=True)\n",
    "plt.hist(df_test['rougher.input.feed_size'],bins=50,alpha=.5,label = 'Тестовая',density=True)\n",
    "plt.xlabel('размер гранул')\n",
    "plt.ylabel('Количество результатов')\n",
    "plt.legend()\n",
    "plt.title('Распределение размерна гранул сырья на выборках');"
   ]
  },
  {
   "cell_type": "markdown",
   "metadata": {},
   "source": [
    "Распределение сырья гранул в обеих выборках скошено вправо,оценка модели должна быть верной"
   ]
  },
  {
   "cell_type": "code",
   "execution_count": 27,
   "metadata": {},
   "outputs": [],
   "source": [
    "total_rougher = (df_train['rougher.input.feed_au'] + \n",
    "    df_train['rougher.input.feed_ag'] +\n",
    "    df_train['rougher.input.feed_pb'] +\n",
    "    df_train['rougher.input.feed_sol'])\n",
    "total_primary = (df_train['rougher.output.concentrate_au'] + \n",
    "    df_train['rougher.output.concentrate_ag'] +\n",
    "    df_train['rougher.output.concentrate_pb'] +\n",
    "    df_train['rougher.output.concentrate_sol'])\n",
    "total_final = (df_train['final.output.concentrate_au'] + \n",
    "    df_train['final.output.concentrate_ag'] +\n",
    "    df_train['final.output.concentrate_pb'] +\n",
    "    df_train['final.output.concentrate_sol'])"
   ]
  },
  {
   "cell_type": "code",
   "execution_count": 52,
   "metadata": {},
   "outputs": [
    {
     "data": {
      "image/png": "[encoded data removed]",
      "text/plain": [
       "<Figure size 1000x400 with 1 Axes>"
      ]
     },
     "metadata": {},
     "output_type": "display_data"
    }
   ],
   "source": [
    "plt.figure(figsize=[10,4])\n",
    "plt.hist(total_rougher,bins=50,alpha=.5,label = 'Флотация')\n",
    "plt.hist(total_primary,bins=50,alpha=.5,label = 'Первичная')\n",
    "plt.hist(total_final,bins=50,alpha=.5,label = 'Финальная')\n",
    "plt.xlabel('Суммарный концентрат')\n",
    "plt.ylabel('Количество результатов')\n",
    "plt.legend()\n",
    "plt.title('Распределение результатов суммарного концентрата');"
   ]
  },
  {
   "cell_type": "code",
   "execution_count": 53,
   "metadata": {},
   "outputs": [
    {
     "data": {
      "image/png": "[encoded data removed]",
      "text/plain": [
       "<Figure size 1000x400 with 1 Axes>"
      ]
     },
     "metadata": {},
     "output_type": "display_data"
    }
   ],
   "source": [
    "plt.figure(figsize=[10,4])\n",
    "plt.hist(df_train['rougher.output.concentrate_au'],bins=50,alpha=.5,label = 'Au')\n",
    "plt.hist(df_train['rougher.output.concentrate_ag'],bins=50,alpha=.5,label = 'Ag')\n",
    "plt.hist(df_train['rougher.output.concentrate_pb'],bins=50,alpha=.5,label = 'Pb')\n",
    "plt.hist(df_train['rougher.output.concentrate_sol'],bins=50,alpha=.5,label = 'Sol')\n",
    "plt.xlabel('Суммарный концентрат')\n",
    "plt.ylabel('Количество результатов')\n",
    "plt.legend()\n",
    "plt.title('Распределение результатов суммарного концентрата по веществам');"
   ]
  },
  {
   "cell_type": "markdown",
   "metadata": {},
   "source": [
    "Сумарная концентрация веществ выше в черновом и финальном концентрате"
   ]
  },
  {
   "cell_type": "markdown",
   "metadata": {},
   "source": [
    "## Модель"
   ]
  },
  {
   "cell_type": "markdown",
   "metadata": {},
   "source": [
    "Напишем функцию расчета метрики sMAPE"
   ]
  },
  {
   "cell_type": "code",
   "execution_count": 30,
   "metadata": {},
   "outputs": [],
   "source": [
    "def smape_score(y,pred):\n",
    "    n = len(y)\n",
    "    smape = (2 * abs(y - pred) /\n",
    "        (abs(y) + abs(pred))).sum() * 100 / n\n",
    "    return smape"
   ]
  },
  {
   "cell_type": "code",
   "execution_count": 31,
   "metadata": {},
   "outputs": [],
   "source": [
    "def smape_full(smape_rog,smape_final):\n",
    "    return smape_rog * 0.25 + smape_final *0.75"
   ]
  },
  {
   "cell_type": "markdown",
   "metadata": {},
   "source": [
    "Подготовим признаки для модели"
   ]
  },
  {
   "cell_type": "code",
   "execution_count": 32,
   "metadata": {},
   "outputs": [],
   "source": [
    "X_train_rogher = df_train[df_test.columns]\n",
    "y_train_rogher = df_train['rougher.output.recovery']\n",
    "X_valid_rogher = df_test\n",
    "y_valid_rogher = df_full.loc[df_test.index,'rougher.output.recovery']\n",
    "X_train_final = df_train[df_test.columns]\n",
    "y_train_final = df_train['final.output.recovery']\n",
    "X_valid_final = df_test\n",
    "y_valid_final = df_full.loc[df_test.index,'final.output.recovery']"
   ]
  },
  {
   "cell_type": "markdown",
   "metadata": {},
   "source": [
    "Завернем свою метрику в аргумент для проверки модели"
   ]
  },
  {
   "cell_type": "code",
   "execution_count": 33,
   "metadata": {},
   "outputs": [],
   "source": [
    "smape_scorer = make_scorer(smape_score, greater_is_better = False)"
   ]
  },
  {
   "cell_type": "code",
   "execution_count": 34,
   "metadata": {},
   "outputs": [
    {
     "name": "stdout",
     "output_type": "stream",
     "text": [
      "sMAPE на флотации: -7.166890531123888\n",
      "sMAPE на финальном этапе: -10.92752914699202\n",
      "Итоговый sMAPE: -9.987369493024987\n",
      "Wall time: 497 ms\n"
     ]
    }
   ],
   "source": [
    "%%time\n",
    "\n",
    "model = LinearRegression()\n",
    "scores_rog = cross_val_score(model,X_train_rogher,y_train_rogher,scoring = smape_scorer).mean()\n",
    "scores_final = cross_val_score(model,X_train_final,y_train_final,scoring = smape_scorer).mean()\n",
    "print('sMAPE на флотации:',scores_rog)\n",
    "print('sMAPE на финальном этапе:',scores_final)\n",
    "print('Итоговый sMAPE:',smape_full(scores_rog,scores_final)) "
   ]
  },
  {
   "cell_type": "code",
   "execution_count": 35,
   "metadata": {},
   "outputs": [
    {
     "name": "stdout",
     "output_type": "stream",
     "text": [
      "sMAPE на флотации: -9.454238036652509\n",
      "sMAPE на финальном этапе: -15.900112679362824\n",
      "Итоговый sMAPE: -14.288644018685247\n",
      "Wall time: 6.28 s\n"
     ]
    }
   ],
   "source": [
    "%%time\n",
    "\n",
    "model = DecisionTreeRegressor()\n",
    "scores_rog = cross_val_score(model,X_train_rogher,y_train_rogher,scoring = smape_scorer).mean()\n",
    "scores_final = cross_val_score(model,X_train_final,y_train_final,scoring = smape_scorer).mean()\n",
    "print('sMAPE на флотации:',scores_rog)\n",
    "print('sMAPE на финальном этапе:',scores_final)\n",
    "print('Итоговый sMAPE:',smape_full(scores_rog,scores_final)) "
   ]
  },
  {
   "cell_type": "code",
   "execution_count": 36,
   "metadata": {},
   "outputs": [
    {
     "data": {
      "text/plain": [
       "-6.2075540060605405"
      ]
     },
     "metadata": {},
     "output_type": "display_data"
    },
    {
     "data": {
      "text/plain": [
       "5"
      ]
     },
     "metadata": {},
     "output_type": "display_data"
    },
    {
     "data": {
      "text/plain": [
       "10"
      ]
     },
     "metadata": {},
     "output_type": "display_data"
    },
    {
     "name": "stdout",
     "output_type": "stream",
     "text": [
      "Wall time: 15min 45s\n"
     ]
    }
   ],
   "source": [
    "%%time\n",
    "best_result = -10000\n",
    "best_depth = 0\n",
    "best_est = 0\n",
    "for est in range(10,51,10):\n",
    "    for depth in range(1, 6):\n",
    "        model = RandomForestRegressor(random_state=12345,max_depth = depth)\n",
    "        result = cross_val_score(model,X_train_rogher,y_train_rogher,scoring = smape_scorer).mean()\n",
    "        if result > best_result:\n",
    "            best_model = model\n",
    "            best_result = result\n",
    "            best_depth = depth\n",
    "            best_est = est\n",
    "display(best_result)\n",
    "display(best_depth)\n",
    "display(best_est)"
   ]
  },
  {
   "cell_type": "code",
   "execution_count": 37,
   "metadata": {},
   "outputs": [
    {
     "name": "stdout",
     "output_type": "stream",
     "text": [
      "{'max_depth': 4}\n",
      "-10.332380283977328\n",
      "Wall time: 37.7 s\n"
     ]
    }
   ],
   "source": [
    "%%time\n",
    "\n",
    "parameter = {\n",
    "           'max_depth': [4]\n",
    "       }\n",
    "model = RandomForestRegressor()\n",
    "model_grid = GridSearchCV(model,parameter,cv=3,scoring = smape_scorer)\n",
    "\n",
    "model_grid.fit(X_train_final,y_train_final)\n",
    "\n",
    "print(model_grid.best_params_)\n",
    "print(model_grid.best_score_)"
   ]
  },
  {
   "cell_type": "code",
   "execution_count": 38,
   "metadata": {},
   "outputs": [
    {
     "name": "stdout",
     "output_type": "stream",
     "text": [
      "smape rogher: 8.524898239390454\n",
      "smapre final: 9.756357982110014\n",
      "Итоговый sMAPE: 9.448493046430125\n",
      "Wall time: 2.99 ms\n"
     ]
    }
   ],
   "source": [
    "%%time\n",
    "\n",
    "model = DummyRegressor(strategy = 'median')\n",
    "model.fit(X_train_rogher,y_train_rogher)\n",
    "pred_dummy_rogher = model.predict(X_valid_rogher)\n",
    "smape_rogher_dummy = smape_score(y_valid_rogher,pred_dummy_rogher)\n",
    "print('smape rogher:',smape_rogher_dummy)\n",
    "model = DummyRegressor(strategy = 'median')\n",
    "model.fit(X_train_final,y_train_final)\n",
    "pred_dummy_final = model.predict(X_valid_final)\n",
    "smape_final_dummy = smape_score(y_valid_final,pred_dummy_final)\n",
    "print('smapre final:',smape_final_dummy)\n",
    "print('Итоговый sMAPE:',smape_full(smape_rogher_dummy,smape_final_dummy))"
   ]
  },
  {
   "cell_type": "code",
   "execution_count": 39,
   "metadata": {},
   "outputs": [
    {
     "name": "stdout",
     "output_type": "stream",
     "text": [
      "smape rogher: 7.940058633017988\n",
      "smape final: 9.634604814275813\n",
      "Итоговый smape: 9.210968268961357\n",
      "Wall time: 3.06 s\n"
     ]
    }
   ],
   "source": [
    "%%time\n",
    "\n",
    "model = RandomForestRegressor(random_state = 12345,max_depth = 5,n_estimators = 10)\n",
    "model.fit(X_train_rogher,y_train_rogher)\n",
    "pred_rogher = model.predict(X_valid_rogher)\n",
    "smape_rogher = smape_score(y_valid_rogher,pred_rogher)\n",
    "print('smape rogher:',smape_rogher)\n",
    "model = RandomForestRegressor(random_state = 12345,max_depth = 5,n_estimators = 10)\n",
    "model.fit(X_train_final,y_train_final)\n",
    "pred_final = model.predict(X_valid_final)\n",
    "smape_final = smape_score(y_valid_final,pred_final)\n",
    "print('smape final:', smape_final)\n",
    "print('Итоговый smape:', smape_full(smape_rogher,smape_final))"
   ]
  },
  {
   "cell_type": "markdown",
   "metadata": {},
   "source": [
    "# Вывод"
   ]
  },
  {
   "cell_type": "markdown",
   "metadata": {},
   "source": [
    "Загрузили и предобработали данные.\n",
    "\n",
    "В ходе исследования мы построили графики и рассмотрели концентрацию веществ на разных этапах очистки.Удалили выбросы и данные которые могли предоставить утечку целевого признака.\n",
    "\n",
    "Обучили LinearRegression, DecisionTreeRegressor, RandomForestRegressor.\n",
    "\n",
    "Перспективнее показала себя модель RandomForestRegressor \n",
    "доля: ошибок по sMAPE 9.2% \n",
    "\n",
    "Для проверки использовали константную модель DummyRegressor предсказывающую по медиане.\n",
    "Константная модель имеет немного больше ошибок,но в целом результат не сильно отличается от нашей,доля ошибок 9.4%"
   ]
  }
 ],
 "metadata": {
  "ExecuteTimeLog": [
   {
    "duration": 1746,
    "start_time": "2022-07-17T16:08:43.919Z"
   },
   {
    "duration": 681,
    "start_time": "2022-07-17T16:08:45.668Z"
   },
   {
    "duration": 17,
    "start_time": "2022-07-17T16:08:46.351Z"
   },
   {
    "duration": 11,
    "start_time": "2022-07-17T16:08:46.370Z"
   },
   {
    "duration": 16,
    "start_time": "2022-07-17T16:08:46.382Z"
   },
   {
    "duration": 3,
    "start_time": "2022-07-17T16:08:46.399Z"
   },
   {
    "duration": 10,
    "start_time": "2022-07-17T16:08:46.403Z"
   },
   {
    "duration": 35,
    "start_time": "2022-07-17T16:08:46.414Z"
   },
   {
    "duration": 5,
    "start_time": "2022-07-17T16:08:46.451Z"
   },
   {
    "duration": 17,
    "start_time": "2022-07-17T16:08:46.458Z"
   },
   {
    "duration": 9,
    "start_time": "2022-07-17T16:08:46.476Z"
   },
   {
    "duration": 17,
    "start_time": "2022-07-17T16:08:46.487Z"
   },
   {
    "duration": 7,
    "start_time": "2022-07-17T16:08:46.506Z"
   },
   {
    "duration": 40,
    "start_time": "2022-07-17T16:08:46.514Z"
   },
   {
    "duration": 10,
    "start_time": "2022-07-17T16:08:46.555Z"
   },
   {
    "duration": 22,
    "start_time": "2022-07-17T16:08:46.567Z"
   },
   {
    "duration": 268,
    "start_time": "2022-07-17T16:08:46.591Z"
   },
   {
    "duration": 17,
    "start_time": "2022-07-17T16:08:46.860Z"
   },
   {
    "duration": 409,
    "start_time": "2022-07-17T16:08:46.879Z"
   },
   {
    "duration": 15,
    "start_time": "2022-07-17T16:08:47.289Z"
   },
   {
    "duration": 489,
    "start_time": "2022-07-17T16:08:47.306Z"
   },
   {
    "duration": 399,
    "start_time": "2022-07-17T16:08:47.796Z"
   },
   {
    "duration": 16,
    "start_time": "2022-07-17T16:08:48.197Z"
   },
   {
    "duration": 317,
    "start_time": "2022-07-17T16:08:48.215Z"
   },
   {
    "duration": 13,
    "start_time": "2022-07-17T16:08:48.534Z"
   },
   {
    "duration": 423,
    "start_time": "2022-07-17T16:08:48.549Z"
   },
   {
    "duration": 5,
    "start_time": "2022-07-17T16:08:48.974Z"
   },
   {
    "duration": 8,
    "start_time": "2022-07-17T16:08:48.984Z"
   },
   {
    "duration": 10,
    "start_time": "2022-07-17T16:08:48.994Z"
   },
   {
    "duration": 39,
    "start_time": "2022-07-17T16:08:49.005Z"
   },
   {
    "duration": 23,
    "start_time": "2022-07-17T16:08:49.047Z"
   },
   {
    "duration": 1525,
    "start_time": "2022-07-18T19:12:44.243Z"
   },
   {
    "duration": 633,
    "start_time": "2022-07-18T19:12:45.770Z"
   },
   {
    "duration": 24,
    "start_time": "2022-07-18T19:12:46.405Z"
   },
   {
    "duration": 13,
    "start_time": "2022-07-18T19:12:46.432Z"
   },
   {
    "duration": 18,
    "start_time": "2022-07-18T19:12:46.446Z"
   },
   {
    "duration": 4,
    "start_time": "2022-07-18T19:12:46.465Z"
   },
   {
    "duration": 11,
    "start_time": "2022-07-18T19:12:46.470Z"
   },
   {
    "duration": 6,
    "start_time": "2022-07-18T19:12:46.483Z"
   },
   {
    "duration": 33,
    "start_time": "2022-07-18T19:12:46.491Z"
   },
   {
    "duration": 21,
    "start_time": "2022-07-18T19:12:46.527Z"
   },
   {
    "duration": 8,
    "start_time": "2022-07-18T19:12:46.550Z"
   },
   {
    "duration": 17,
    "start_time": "2022-07-18T19:12:46.561Z"
   },
   {
    "duration": 7,
    "start_time": "2022-07-18T19:12:46.579Z"
   },
   {
    "duration": 40,
    "start_time": "2022-07-18T19:12:46.587Z"
   },
   {
    "duration": 10,
    "start_time": "2022-07-18T19:12:46.629Z"
   },
   {
    "duration": 22,
    "start_time": "2022-07-18T19:12:46.640Z"
   },
   {
    "duration": 252,
    "start_time": "2022-07-18T19:12:46.664Z"
   },
   {
    "duration": 17,
    "start_time": "2022-07-18T19:12:46.923Z"
   },
   {
    "duration": 511,
    "start_time": "2022-07-18T19:12:46.942Z"
   },
   {
    "duration": 15,
    "start_time": "2022-07-18T19:12:47.454Z"
   },
   {
    "duration": 603,
    "start_time": "2022-07-18T19:12:47.470Z"
   },
   {
    "duration": 6,
    "start_time": "2022-07-18T19:12:48.074Z"
   },
   {
    "duration": 533,
    "start_time": "2022-07-18T19:12:48.081Z"
   },
   {
    "duration": 18,
    "start_time": "2022-07-18T19:12:48.616Z"
   },
   {
    "duration": 379,
    "start_time": "2022-07-18T19:12:48.636Z"
   },
   {
    "duration": 11,
    "start_time": "2022-07-18T19:12:49.017Z"
   },
   {
    "duration": 464,
    "start_time": "2022-07-18T19:12:49.029Z"
   },
   {
    "duration": 504,
    "start_time": "2022-07-18T19:12:49.496Z"
   },
   {
    "duration": 3,
    "start_time": "2022-07-18T19:12:50.002Z"
   },
   {
    "duration": 9,
    "start_time": "2022-07-18T19:12:50.006Z"
   },
   {
    "duration": 7,
    "start_time": "2022-07-18T19:12:50.023Z"
   },
   {
    "duration": 23,
    "start_time": "2022-07-18T19:12:50.032Z"
   },
   {
    "duration": 14,
    "start_time": "2022-07-18T19:12:50.057Z"
   },
   {
    "duration": 44,
    "start_time": "2022-07-18T19:13:00.686Z"
   },
   {
    "duration": 81180,
    "start_time": "2022-07-18T19:13:17.863Z"
   },
   {
    "duration": 100180,
    "start_time": "2022-07-18T19:15:10.723Z"
   },
   {
    "duration": 84360,
    "start_time": "2022-07-18T19:17:42.350Z"
   },
   {
    "duration": 55219,
    "start_time": "2022-07-18T19:19:45.686Z"
   },
   {
    "duration": 46687,
    "start_time": "2022-07-18T19:21:51.167Z"
   },
   {
    "duration": 118,
    "start_time": "2022-07-21T13:10:55.260Z"
   }
  ],
  "kernelspec": {
   "display_name": "Python 3 (ipykernel)",
   "language": "python",
   "name": "python3"
  },
  "language_info": {
   "codemirror_mode": {
    "name": "ipython",
    "version": 3
   },
   "file_extension": ".py",
   "mimetype": "text/x-python",
   "name": "python",
   "nbconvert_exporter": "python",
   "pygments_lexer": "ipython3",
   "version": "3.9.13"
  },
  "toc": {
   "base_numbering": 1,
   "nav_menu": {},
   "number_sections": true,
   "sideBar": true,
   "skip_h1_title": true,
   "title_cell": "Содержание",
   "title_sidebar": "Contents",
   "toc_cell": true,
   "toc_position": {
    "height": "calc(100% - 180px)",
    "left": "10px",
    "top": "150px",
    "width": "165px"
   },
   "toc_section_display": true,
   "toc_window_display": true
  }
 },
 "nbformat": 4,
 "nbformat_minor": 2
}
